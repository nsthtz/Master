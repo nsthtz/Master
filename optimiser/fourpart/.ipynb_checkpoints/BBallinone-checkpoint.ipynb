{
 "cells": [
  {
   "cell_type": "markdown",
   "metadata": {},
   "source": [
    "# # Optimiser module\n",
    "# Run all cells\n",
    "# Then return to deep learning module at\n",
    "# ./neuralnet/helpers/GRU.ipynb"
   ]
  },
  {
   "cell_type": "code",
   "execution_count": null,
   "metadata": {},
   "outputs": [],
   "source": [
    "import Pkg\n",
    "Pkg.activate(@__DIR__)\n",
    "Pkg.instantiate()"
   ]
  },
  {
   "cell_type": "code",
   "execution_count": 2,
   "metadata": {},
   "outputs": [
    {
     "data": {
      "text/plain": [
       "initialiseData (generic function with 1 method)"
      ]
     },
     "execution_count": 2,
     "metadata": {},
     "output_type": "execute_result"
    }
   ],
   "source": [
    "using DelimitedFiles\n",
    "\n",
    "function initialiseData(path, startindex, finalindex)\n",
    "    full_data = readdlm(path,',')\n",
    "    full_data = round.(Int, full_data)\n",
    "    full_data = full_data[2:end, :]\n",
    "    data = full_data[:, startindex:finalindex]\n",
    "    return full_data, data\n",
    "end\n"
   ]
  },
  {
   "cell_type": "markdown",
   "metadata": {},
   "source": [
    "# # Convert piano roll into timestepx12 tonal mapping\n"
   ]
  },
  {
   "cell_type": "code",
   "execution_count": 3,
   "metadata": {
    "scrolled": true
   },
   "outputs": [
    {
     "data": {
      "text/plain": [
       "createTonalMap (generic function with 1 method)"
      ]
     },
     "execution_count": 3,
     "metadata": {},
     "output_type": "execute_result"
    }
   ],
   "source": [
    "function getActiveNotes(data, timestep)\n",
    "    return findall(x->x==1, data[:,timestep])\n",
    "end\n",
    "\n",
    "function createTonalMap(full_data)\n",
    "    tonal_map = zeros(Int64, size(full_data, 2), 12)\n",
    "\n",
    "    for i in 1:size(full_data, 2)\n",
    "        active_notes = getActiveNotes(full_data, i)\n",
    "        for note in active_notes\n",
    "            # due to 1-indexing, real note is one step below\n",
    "            note = note-1\n",
    "            tonal_map[i, (note%12)+1] += 1\n",
    "        end\n",
    "    end\n",
    "\n",
    "    return tonal_map\n",
    "end\n"
   ]
  },
  {
   "cell_type": "markdown",
   "metadata": {},
   "source": [
    "# # Pattern matcher to identify the best-fit key and scale from existing notes"
   ]
  },
  {
   "cell_type": "code",
   "execution_count": 4,
   "metadata": {},
   "outputs": [
    {
     "data": {
      "text/plain": [
       "score_tonality (generic function with 1 method)"
      ]
     },
     "execution_count": 4,
     "metadata": {},
     "output_type": "execute_result"
    }
   ],
   "source": [
    "#Score In: Tx12 Matrix, pattern. Out: Best position(s)\n",
    "function score_key(matrix, pattern)\n",
    "    counter = zeros(Int64, 1, 12)\n",
    "    for i in 1:size(matrix, 2)\n",
    "        counter[i] = sum(matrix[:,i])\n",
    "    end\n",
    "    println(\"Key Counter is \", counter)\n",
    "    \n",
    "    key_score = zeros(Int64, 12, 1)\n",
    "    \n",
    "    for i in 1:size(pattern, 1)\n",
    "        for j in 1:size(pattern, 1)\n",
    "            key_score[i] += circshift(pattern, i-1)[j]*counter[j]\n",
    "        end\n",
    "    end\n",
    "    println(\"Key Score is \", key_score)\n",
    "    return key_score\n",
    "end\n",
    "\n",
    "# Find maximum from list\n",
    "function findmaximum(list)\n",
    "    positions = []\n",
    "    max_value = maximum(list)\n",
    "    for (i, x) in enumerate(list)\n",
    "        if x == max_value\n",
    "            push!(positions, i)\n",
    "        end\n",
    "    end\n",
    "    return positions\n",
    "end\n",
    "\n",
    "# Find an optimal scale\n",
    "function score_tonality(matrix, positions)\n",
    "    \n",
    "    majorpattern = [1, 0, 0.25, 0, 0.25, 1, 0, 1, 0, 0.25, 0, 1]\n",
    "    minorpattern = [0.25, 0, 1, 0, 1, 0.25, 0, 0.25, 0.75, 1, 0, 0.25]\n",
    "    \n",
    "    counter = zeros(Int64, 1, 12)\n",
    "    for i in 1:size(matrix, 2)\n",
    "        counter[i] = sum(matrix[:,i])\n",
    "    end\n",
    "    \n",
    "    tonality_scores = []\n",
    "    \n",
    "    for position in positions\n",
    "        counter_shifted = circshift(counter, (0,-(position-1)))\n",
    "        println(\"Position Counter for \", position, \" is \", counter_shifted)\n",
    "        \n",
    "        major_score = 0\n",
    "        minor_score = 0\n",
    "        \n",
    "        for i in 1:size(counter_shifted, 2)\n",
    "            major_score += majorpattern[i]*counter_shifted[i]\n",
    "            minor_score += minorpattern[i]*counter_shifted[i]\n",
    "        end\n",
    "\n",
    "        if major_score > minor_score\n",
    "            push!(tonality_scores, [position, major_score, 1])\n",
    "        else\n",
    "            push!(tonality_scores, [position, minor_score, 0])\n",
    "        end\n",
    "        \n",
    "    end \n",
    "    \n",
    "    return tonality_scores\n",
    "end"
   ]
  },
  {
   "cell_type": "code",
   "execution_count": 5,
   "metadata": {},
   "outputs": [
    {
     "data": {
      "text/plain": [
       "findScale (generic function with 1 method)"
      ]
     },
     "execution_count": 5,
     "metadata": {},
     "output_type": "execute_result"
    }
   ],
   "source": [
    "function findScale(full_data, tonal_map)\n",
    "    # Scale patterns\n",
    "    pattern = [1, 0, 1, 0, 1, 1, 0, 1, 0, 1, 0, 1]\n",
    "    Keys = Dict{Integer, String}(1 => \"C\", 2 => \"C#\", 3 => \"D\", 4 => \"D#\", 5 => \"E\", 6 => \"F\", 7 => \"F#\", 8 => \"G\", 9 => \"G#\", 10 => \"A\", 11 => \"A#\", 12 => \"B\")\n",
    "\n",
    "    # Score matrix after pattern\n",
    "    key_score_result = score_key(tonal_map, pattern)\n",
    "    # score_result = [9, 5, 18, 9, 23, 18, 8, 2, 7, 16, 12, 11]\n",
    "\n",
    "    # Find positions of maximum score\n",
    "    positions = findmaximum(key_score_result)\n",
    "    sort!(positions)\n",
    "\n",
    "    # # Use positions to find the best key\n",
    "\n",
    "    tonality_results = score_tonality(tonal_map, positions)\n",
    "    println(tonality_results)\n",
    "\n",
    "    # [Position (1 = C), Score, Scale (1 = Major, 0 = Minor)]\n",
    "    best_key = [0, 0, 1]\n",
    "\n",
    "    # In case of tied scores, check each for the best scale\n",
    "    for result_group in tonality_results\n",
    "        if best_key[2] < result_group[2]\n",
    "            best_key[1] = result_group[1]\n",
    "            best_key[2] = round.(Int, result_group[2])\n",
    "            best_key[3] = result_group[3]\n",
    "        end\n",
    "    end\n",
    "\n",
    "    #Save Key\n",
    "    println(best_key)\n",
    "    if best_key[3] == 1\n",
    "        key = best_key[1]\n",
    "        key_print = Keys[best_key[1]]\n",
    "        scale = \"Major\"\n",
    "    else\n",
    "        key = ( (12+(best_key[1] - 1) - 3)%12 ) + 1\n",
    "        key_print = Keys[key]\n",
    "        scale = \"Minor\"\n",
    "    end\n",
    "    println(key, \" \", key_print, \" \", scale)\n",
    "    return key, scale\n",
    "end\n",
    "    \n",
    "#key, scale = findScale(tempfull, tonalmap)\n",
    "#println(key, \" \", scale)"
   ]
  },
  {
   "cell_type": "markdown",
   "metadata": {},
   "source": [
    "# # Define patterns for chord functions relative to key"
   ]
  },
  {
   "cell_type": "code",
   "execution_count": 6,
   "metadata": {},
   "outputs": [
    {
     "data": {
      "text/plain": [
       "initialiseFunctionDefinitions (generic function with 1 method)"
      ]
     },
     "execution_count": 6,
     "metadata": {},
     "output_type": "execute_result"
    }
   ],
   "source": [
    "function initialiseFunctionDefinitions(key, scale)\n",
    "    # Function entry: \"Name\" => ([notes], [Bass note], [Double/Triple notes], [Rhythmical Weight (Strong, Weak, Off)])\n",
    "    functions = Dict{String, Array{Int64, 1}}\n",
    "\n",
    "    if scale == \"Major\"\n",
    "    #Major  =  [1, 0, 2, 0, 3, 4, 0, 5, 0, 6, 0, 7]\n",
    "    #\n",
    "\n",
    "        functions = Dict(\n",
    "        \"T\"    =>  (circshift([1, 0, 0, 0, 3, 0, 0, 5, 0, 0, 0, 0], (key-1)), [ (key, 1) ], [ (key, 1) ], [\"S\", \"W\", \"O\", \"A\", \"C\"]),\n",
    "        \"S\"    =>  (circshift([5, 0, 0, 0, 0, 1, 0, 0, 0, 3, 0, 0], (key-1)), [ (((5+(key-1))%12)+1, 1) ], [ (((5+(key-1))%12)+1, 1) ], [\"S\", \"W\", \"O\", \"A\", \"C\"]),\n",
    "        \"D\"    =>  (circshift([0, 0, 5, 0, 0, 0, 0, 1, 0, 0, 0, 3], (key-1)), [ (((7+(key-1))%12)+1, 1) ], [ (((7+(key-1))%12)+1, 1) ], [\"S\", \"W\", \"O\", \"A\", \"C\"]),\n",
    "        \"T-5\"  =>  (circshift([1, 0, 0, 0, 3, 0, 0, 0, 0, 0, 0, 0], (key-1)), [ (key, 1) ], [ (key, 1) ], [\"S\", \"W\", \"O\", \"C\"]),\n",
    "        \"D-5\"  =>  (circshift([0, 0, 0, 0, 0, 0, 0, 1, 0, 0, 0, 3], (key-1)), [ (((7+(key-1))%12)+1, 1) ], [ (((7+(key-1))%12)+1, 1) ], [\"S\", \"W\", \"O\", \"C\"]),\n",
    "        \"T/3\"  =>  (circshift([1, 0, 0, 0, 3, 0, 0, 5, 0, 0, 0, 0], (key-1)), [ (((4+(key-1))%12)+1, 3) ], [ (key, 1), (((7+(key-1))%12)+1, 5) ], [\"S\", \"W\", \"O\", \"C\"]),\n",
    "        \"S/3\"  =>  (circshift([5, 0, 0, 0, 0, 1, 0, 0, 0, 3, 0, 0], (key-1)), [ (((9+(key-1))%12)+1, 3) ], [ (key, 5), (((5+(key-1))%12)+1, 1) ], [\"S\", \"W\", \"O\", \"C\"]),\n",
    "        \"D/3\"  =>  (circshift([0, 0, 5, 0, 0, 0, 0, 1, 0, 0, 0, 3], (key-1)), [ (((11+(key-1))%12)+1, 3) ], [ (((2+(key-1))%12)+1, 5), (((7+(key-1))%12)+1, 1) ], [\"S\", \"W\", \"O\", \"C\"]),\n",
    "        \"T/5\"  =>  (circshift([1, 0, 0, 0, 3, 0, 0, 5, 0, 0, 0, 0], (key-1)), [ (((7+(key-1))%12)+1, 5) ], [ (key, 1), (((7+(key-1))%12)+1, 5) ], [\"W\", \"O\"]),\n",
    "        \"S/5\"  =>  (circshift([5, 0, 0, 0, 0, 1, 0, 0, 0, 3, 0, 0], (key-1)), [ (((0+(key-1))%12)+1, 5) ], [ (key, 5), (((5+(key-1))%12)+1, 1) ], [\"W\", \"O\"]),\n",
    "        \"D/5\"  =>  (circshift([0, 0, 5, 0, 0, 0, 0, 1, 0, 0, 0, 3], (key-1)), [ (((2+(key-1))%12)+1, 5) ], [ (((2+(key-1))%12)+1, 5), (((7+(key-1))%12)+1, 1) ], [\"W\", \"O\"]),\n",
    "        \"D64\"  =>  (circshift([4, 0, 0, 0, 6, 0, 0, 1, 0, 0, 0, 0], (key-1)), [ (((7+(key-1))%12)+1, 1) ], [ (((7+(key-1))%12)+1, 1) ], [\"S\", \"A\", \"C\"]),\n",
    "        \"T64\"  =>  (circshift([1, 0, 0, 0, 0, 4, 0, 0, 0, 6, 0, 0], (key-1)), [ (((0+(key-1))%12)+1, 1) ], [ (key, 1) ], [\"S\", \"O\"]),\n",
    "        \"T54\"  =>  (circshift([1, 0, 0, 0, 0, 4, 0, 5, 0, 0, 0, 0], (key-1)), [ (((0+(key-1))%12)+1, 1) ], [ (key, 1) ], [\"S\", \"O\"]),\n",
    "        \"D54\"  =>  (circshift([4, 0, 5, 0, 0, 0, 0, 1, 0, 0, 0, 0], (key-1)), [ (((7+(key-1))%12)+1, 1) ], [ (((7+(key-1))%12)+1, 1) ], [\"S\", \"A\", \"C\"]),\n",
    "        \"D7\"   =>  (circshift([0, 0, 5, 0, 0, 7, 0, 1, 0, 0, 0, 3], (key-1)), [ (((7+(key-1))%12)+1, 1) ], [ nothing ], [\"S\", \"W\", \"O\", \"A\", \"C\"]),\n",
    "        \"D7/3\" =>  (circshift([0, 0, 5, 0, 0, 7, 0, 1, 0, 0, 0, 3], (key-1)), [ (((11+(key-1))%12)+1, 3) ], [ nothing ], [\"S\", \"W\", \"O\", \"A\", \"C\"]),\n",
    "        \"D7/5\" =>  (circshift([0, 0, 5, 0, 0, 7, 0, 1, 0, 0, 0, 3], (key-1)), [ (((2+(key-1))%12)+1, 5) ], [ nothing ], [\"W\", \"O\", \"A\", \"C\"]),\n",
    "        \"D7/7\" =>  (circshift([0, 0, 5, 0, 0, 7, 0, 1, 0, 0, 0, 3], (key-1)), [ (((5+(key-1))%12)+1, 7) ], [ nothing ], [\"S\", \"W\", \"O\", \"A\", \"C\"]),\n",
    "        \"D7-1\" =>  (circshift([0, 0, 5, 0, 0, 7, 0, 0, 0, 0, 0, 3], (key-1)), [ (((2+(key-1))%12)+1, 5) ], [ (((2+(key-1))%12)+1, 5), (((5+(key-1))%12)+1, 7) ], [\"S\", \"W\", \"O\", \"A\", \"C\"]),\n",
    "        \"D7-5\" =>  (circshift([0, 0, 0, 0, 0, 7, 0, 1, 0, 0, 0, 3], (key-1)), [ (((7+(key-1))%12)+1, 1) ], [ (((7+(key-1))%12)+1, 1) ], [\"S\", \"W\", \"O\", \"A\", \"C\"]),\n",
    "        \"S65\"  =>  (circshift([5, 0, 6, 0, 0, 1, 0, 0, 0, 3, 0, 0], (key-1)), [ (((5+(key-1))%12)+1, 1) ], [ nothing ], [\"S\", \"W\", \"O\"]),\n",
    "        \"S65/6\"=>  (circshift([5, 0, 6, 0, 0, 1, 0, 0, 0, 3, 0, 0], (key-1)), [ (((2+(key-1))%12)+1, 6) ], [ nothing ], [\"S\"]),\n",
    "        \"S6\"   =>  (circshift([0, 0, 6, 0, 0, 1, 0, 0, 0, 3, 0, 0], (key-1)), [ (((5+(key-1))%12)+1, 1) ], [ (((5+(key-1))%12)+1, 1) ], [\"S\", \"W\", \"O\"]),\n",
    "        \"Ss\"   =>  (circshift([0, 0, 1, 0, 0, 3, 0, 0, 0, 5, 0, 0], (key-1)), [ (((2+(key-1))%12)+1, 1) ], [ (((2+(key-1))%12)+1, 1), (((5+(key-1))%12)+1, 3) ], [\"S\", \"W\", \"O\"]),\n",
    "        \"Ts\"   =>  (circshift([3, 0, 0, 0, 5, 0, 0, 0, 0, 1, 0, 0], (key-1)), [ (((9+(key-1))%12)+1, 1) ], [ (key, 3), (((9+(key-1))%12)+1, 1) ], [\"S\", \"W\", \"O\", \"C\"]),\n",
    "        \"Tm\"   =>  (circshift([0, 0, 0, 0, 1, 0, 0, 3, 0, 0, 0, 5], (key-1)), [ (((4+(key-1))%12)+1, 1) ], [ (((4+(key-1))%12)+1, 1), (((7+(key-1))%12)+1, 3) ], [\"S\", \"W\", \"O\"]))\n",
    "\n",
    "    elseif scale == \"Minor\"\n",
    "    #                         [0, 1, 2, 3, 4, 5, 6, 7, 8, 9, 10,11]\n",
    "    #Minor  =                 [1, 0, 2, 3, 0, 4, 0, 5, 6, 0, 7, 7+]              \n",
    "        functions = Dict(\n",
    "        \"T\"    =>  (circshift([1, 0, 0, 3, 0, 0, 0, 5, 0, 0, 0, 0], (key-1)), [ (key, 1) ], [ (key, 1) ], [\"S\", \"W\", \"O\", \"A\", \"C\"]),\n",
    "        \"S\"    =>  (circshift([5, 0, 0, 0, 0, 1, 0, 0, 3, 0, 0, 0], (key-1)), [ (((5+(key-1))%12)+1, 1) ], [ (((5+(key-1))%12)+1, 1) ], [\"S\", \"W\", \"O\", \"A\", \"C\"]),\n",
    "        \"D\"    =>  (circshift([0, 0, 5, 0, 0, 0, 0, 1, 0, 0, 0, 3], (key-1)), [ (((7+(key-1))%12)+1, 1) ], [ (((7+(key-1))%12)+1, 1) ], [\"S\", \"W\", \"O\", \"A\", \"C\"]),\n",
    "        \"T-5\"  =>  (circshift([1, 0, 0, 3, 0, 0, 0, 0, 0, 0, 0, 0], (key-1)), [ (key, 1) ], [ (key, 1) ], [\"S\", \"W\", \"O\", \"C\"]),\n",
    "        \"D-5\"  =>  (circshift([0, 0, 0, 0, 0, 0, 0, 1, 0, 0, 0, 3], (key-1)), [ (((7+(key-1))%12)+1, 1) ], [ (((7+(key-1))%12)+1, 1) ], [\"S\", \"W\", \"O\", \"C\"]),\n",
    "        \"T/3\"  =>  (circshift([1, 0, 0, 3, 0, 0, 0, 5, 0, 0, 0, 0], (key-1)), [ (((3+(key-1))%12)+1, 3) ], [ (key, 1), (((7+(key-1))%12)+1, 5) ], [\"S\", \"W\", \"O\", \"C\"]),\n",
    "        \"S/3\"  =>  (circshift([5, 0, 0, 0, 0, 1, 0, 0, 3, 0, 0, 0], (key-1)), [ (((8+(key-1))%12)+1, 3) ], [ (key, 5), (((5+(key-1))%12)+1, 1) ], [\"S\", \"W\", \"O\", \"C\"]),\n",
    "        \"D/3\"  =>  (circshift([0, 0, 5, 0, 0, 0, 0, 1, 0, 0, 0, 3], (key-1)), [ (((11+(key-1))%12)+1, 3) ], [ (((2+(key-1))%12)+1, 5), (((7+(key-1))%12)+1, 1) ], [\"S\", \"W\", \"O\", \"C\"]),\n",
    "        \"T/5\"  =>  (circshift([1, 0, 0, 3, 0, 0, 0, 5, 0, 0, 0, 0], (key-1)), [ (((7+(key-1))%12)+1, 5) ], [ (key, 1), (((7+(key-1))%12)+1, 5) ], [\"W\", \"O\"]),\n",
    "        \"S/5\"  =>  (circshift([5, 0, 0, 0, 0, 1, 0, 0, 3, 0, 0, 0], (key-1)), [ (((0+(key-1))%12)+1, 5) ], [ (key, 5), (((5+(key-1))%12)+1, 1) ], [\"W\", \"O\"]),\n",
    "        \"D/5\"  =>  (circshift([0, 0, 5, 0, 0, 0, 0, 1, 0, 0, 0, 3], (key-1)), [ (((2+(key-1))%12)+1, 5) ], [ (((2+(key-1))%12)+1, 5), (((7+(key-1))%12)+1, 1) ], [\"W\", \"O\"]),\n",
    "        \"D64\"  =>  (circshift([4, 0, 0, 6, 0, 0, 0, 1, 0, 0, 0, 0], (key-1)), [ (((7+(key-1))%12)+1, 1) ], [ (((7+(key-1))%12)+1, 1) ], [\"S\", \"A\", \"C\"]),\n",
    "        \"T64\"  =>  (circshift([1, 0, 0, 0, 0, 4, 0, 0, 6, 0, 0, 0], (key-1)), [ (((0+(key-1))%12)+1, 1) ], [ (key, 1) ], [\"S\"]),\n",
    "        \"T54\"  =>  (circshift([1, 0, 0, 0, 0, 4, 0, 5, 0, 0, 0, 0], (key-1)), [ (((0+(key-1))%12)+1, 1) ], [ (key, 1) ], [\"S\"]),\n",
    "        \"D54\"  =>  (circshift([4, 0, 5, 0, 0, 0, 0, 1, 0, 0, 0, 0], (key-1)), [ (((7+(key-1))%12)+1, 1) ], [ (((7+(key-1))%12)+1, 1) ], [\"S\", \"A\", \"C\"]),\n",
    "        \"D7\"   =>  (circshift([0, 0, 5, 0, 0, 7, 0, 1, 0, 0, 0, 3], (key-1)), [ (((7+(key-1))%12)+1, 1) ], [ nothing ], [\"S\", \"W\", \"O\", \"A\", \"C\"]),\n",
    "        \"D7/3\" =>  (circshift([0, 0, 5, 0, 0, 7, 0, 1, 0, 0, 0, 3], (key-1)), [ (((11+(key-1))%12)+1, 3) ], [ nothing ], [\"S\", \"W\", \"O\", \"A\", \"C\"]),\n",
    "        \"D7/5\" =>  (circshift([0, 0, 5, 0, 0, 7, 0, 1, 0, 0, 0, 3], (key-1)), [ (((2+(key-1))%12)+1, 5) ], [ nothing ], [\"W\", \"O\", \"A\", \"C\"]),\n",
    "        \"D7/7\" =>  (circshift([0, 0, 5, 0, 0, 7, 0, 1, 0, 0, 0, 3], (key-1)), [ (((5+(key-1))%12)+1, 7) ], [ nothing ], [\"S\", \"W\", \"O\", \"A\", \"C\"]),\n",
    "        \"D7-1\" =>  (circshift([0, 0, 5, 0, 0, 7, 0, 0, 0, 0, 0, 3], (key-1)), [ (((2+(key-1))%12)+1, 5) ], [ (((2+(key-1))%12)+1, 5), (((5+(key-1))%12)+1, 7) ], [\"S\", \"W\", \"O\", \"A\", \"C\"]),\n",
    "        \"D7-5\" =>  (circshift([0, 0, 0, 0, 0, 7, 0, 1, 0, 0, 0, 3], (key-1)), [ (((7+(key-1))%12)+1, 1) ], [ (((7+(key-1))%12)+1, 1) ], [\"S\", \"W\", \"O\", \"A\", \"C\"]),\n",
    "        \"S65\"  =>  (circshift([5, 0, 6, 0, 0, 1, 0, 0, 3, 0, 0, 0], (key-1)), [ (((5+(key-1))%12)+1, 1) ], [ nothing ], [\"S\", \"W\", \"O\"]),\n",
    "        \"S65/6\"=>  (circshift([5, 0, 6, 0, 0, 1, 0, 0, 3, 0, 0, 0], (key-1)), [ (((2+(key-1))%12)+1, 6) ], [ nothing ], [\"S\"]),\n",
    "        \"S6\"   =>  (circshift([0, 0, 6, 0, 0, 1, 0, 0, 3, 0, 0, 0], (key-1)), [ (((5+(key-1))%12)+1, 1) ], [ (((5+(key-1))%12)+1, 1) ], [\"S\", \"W\", \"O\"]),\n",
    "        \"Dm\"   =>  (circshift([0, 0, 3, 0, 0, 5, 0, 0, 0, 0, 1, 0], (key-1)), [ (((10+(key-1))%12)+1, 1) ], [ (((10+(key-1))%12)+1, 1), (((2+(key-1))%12)+1, 3) ], [\"S\", \"W\", \"O\"]),\n",
    "        \"Ts\"   =>  (circshift([3, 0, 0, 5, 0, 0, 0, 0, 1, 0, 0, 0], (key-1)), [ (((8+(key-1))%12)+1, 1) ], [ (key, 3), (((8+(key-1))%12)+1, 1) ], [\"S\", \"W\", \"O\", \"C\"]),\n",
    "        \"Tm\"   =>  (circshift([0, 0, 0, 1, 0, 0, 0, 3, 0, 0, 5, 0], (key-1)), [ (((3+(key-1))%12)+1, 1) ], [ (((3+(key-1))%12)+1, 1), (((7+(key-1))%12)+1, 3) ], [\"S\", \"W\", \"O\"]))\n",
    "    end\n",
    "        \n",
    "    return functions\n",
    "end\n",
    "    \n",
    "#functions = initialiseFunctionDefinitions()"
   ]
  },
  {
   "cell_type": "markdown",
   "metadata": {},
   "source": [
    "# # Analyze tonal map and calculate tonal distance from original data for each timestep"
   ]
  },
  {
   "cell_type": "code",
   "execution_count": 7,
   "metadata": {},
   "outputs": [
    {
     "data": {
      "text/plain": [
       "initialiseFunctionPotentialList (generic function with 1 method)"
      ]
     },
     "execution_count": 7,
     "metadata": {},
     "output_type": "execute_result"
    }
   ],
   "source": [
    "function tonal_distance(input, target, double_notes, triple=false, debug=false)\n",
    "    input = deepcopy(input)\n",
    "    target = deepcopy(target)\n",
    "    target = map(x -> x > 0 ? 1 : 0, target)\n",
    "\n",
    "    double_index = []\n",
    "    two_doubles = false\n",
    "            \n",
    "    if !isnothing(double_notes[1])\n",
    "        if size(double_notes, 1) == 2\n",
    "            two_doubles = true\n",
    "            double_index = [double_notes[1][1], double_notes[2][1]]\n",
    "        end\n",
    "        for note in double_notes\n",
    "            if triple\n",
    "                target[note[1]] += 2\n",
    "            else\n",
    "            target[note[1]] += 1\n",
    "            end\n",
    "        end\n",
    "    end\n",
    "    \n",
    "    if debug\n",
    "        println(\"Input:  \", input)\n",
    "        println(\"Target: \", target)\n",
    "    end\n",
    "          \n",
    "    \n",
    "    distance = 0\n",
    "\n",
    "    \n",
    "    subvector = target - input\n",
    "    #println(subvector)\n",
    "    \n",
    "    # Subtract input-vector from target vector. Any notes that are in place are removed immediately. The rest are resolved in a left/right iterative \"adjacency search\", counting the distance\n",
    "    # moved until opposite signed note is found for resolution. NB: chords with multiple possible doubled notes are resolved to the closest match, distancewise.\n",
    "    k = 1\n",
    "    j = 1\n",
    "\n",
    "    while any(x->x != 0, subvector)\n",
    "\n",
    "        i = 6+k\n",
    "        paddedsub = vcat(subvector[7:12], subvector, subvector[1:6])\n",
    "        if debug\n",
    "            println(paddedsub)\n",
    "            println(i)\n",
    "        end\n",
    "\n",
    "        if paddedsub[i] != 0 \n",
    "            if sign(paddedsub[i-j]) != sign(paddedsub[i]) && paddedsub[i-j] != 0\n",
    "                \n",
    "                regular = (i-j+6) % 12\n",
    "                if regular == 0\n",
    "                    regular = 12\n",
    "                end\n",
    "                if debug\n",
    "                    println(\"k: \", k)\n",
    "                    println(\"i: \", i)\n",
    "                    println(\"i-j: \", i-j)\n",
    "                    println(\"regular: \", regular)\n",
    "                end\n",
    "\n",
    "                if two_doubles && (regular == double_index[1] || regular == double_index[2])\n",
    "\n",
    "                    \n",
    "                    for index in double_index\n",
    "                        subvector[index] -= 1\n",
    "                    end\n",
    "                    subvector[k] += 1\n",
    "                    distance += j\n",
    "                    \n",
    "                    paddedsub = vcat(subvector[7:12], subvector, subvector[1:6])\n",
    "\n",
    "                    two_doubles = false\n",
    "\n",
    "                    if debug\n",
    "                        println(\"Double in i-j+6\")\n",
    "                        println(subvector)\n",
    "                    end\n",
    "                elseif two_doubles && (k == double_index[1] || k == double_index[2])\n",
    "\n",
    "                    \n",
    "                    for index in double_index\n",
    "                        subvector[index] -= 1\n",
    "                    end\n",
    "                    subvector[regular] += 1\n",
    "                    distance += j\n",
    "\n",
    "                    paddedsub = vcat(subvector[7:12], subvector, subvector[1:6])\n",
    "                    two_doubles = false\n",
    "\n",
    "                    if debug\n",
    "                        println(\"Double in k for i-j+6\")\n",
    "                        println(subvector)\n",
    "                    end\n",
    "                else\n",
    "                    \n",
    "                    num = subvector[regular]\n",
    "                    subvector[regular] = subvector[regular] + (subvector[k] / abs(subvector[k]))\n",
    "                    subvector[k] = subvector[k] + (num / abs(num))\n",
    "                    distance += j\n",
    "                    \n",
    "                    paddedsub = vcat(subvector[7:12], subvector, subvector[1:6])\n",
    "\n",
    "                    if debug\n",
    "                        println(\"Normal found in i-j\")\n",
    "                        println(subvector)\n",
    "                    end     \n",
    "                end\n",
    "\n",
    "            elseif sign(paddedsub[i+j]) != sign(paddedsub[i]) && paddedsub[i+j] != 0\n",
    "                regular = (i+j-6) % 12\n",
    "                if regular == 0\n",
    "                    regular = 12\n",
    "                end\n",
    "                            \n",
    "                if debug\n",
    "                    println(\"k: \", k)\n",
    "                    println(\"i: \", i)\n",
    "                    println(\"i+j: \", i+j)\n",
    "                    println(\"regular: \", regular)\n",
    "                end\n",
    "\n",
    "                if two_doubles && (regular == double_index[1] || regular == double_index[2])\n",
    "                    \n",
    "                    for index in double_index\n",
    "                        subvector[index] -= 1\n",
    "                    end\n",
    "                    subvector[k] += 1\n",
    "                    distance += j\n",
    "                    paddedsub = vcat(subvector[7:12], subvector, subvector[1:6])\n",
    "\n",
    "                    two_doubles = false\n",
    "\n",
    "                    if debug\n",
    "                        println(\"Double in i+j-6\")\n",
    "                        println(subvector)\n",
    "                    end\n",
    "\n",
    "                elseif two_doubles && (k == double_index[1] || k == double_index[2])\n",
    "\n",
    "                    \n",
    "                    for index in double_index\n",
    "                        subvector[index] -= 1\n",
    "                    end\n",
    "                    subvector[regular] += 1\n",
    "                    distance += j\n",
    "                                    \n",
    "                    paddedsub = vcat(subvector[7:12], subvector, subvector[1:6])\n",
    "                    two_doubles = false\n",
    "\n",
    "                    if debug\n",
    "                        println(\"Double in k for i+j-6\")\n",
    "                        println(subvector)\n",
    "                    end\n",
    "                else\n",
    "\n",
    "                    num = subvector[regular]\n",
    "                    subvector[regular] = subvector[regular] + (subvector[k] / abs(subvector[k]))\n",
    "                    subvector[k] = subvector[k] + num / abs(num)  \n",
    "                    distance += j\n",
    "                    paddedsub = vcat(subvector[7:12], subvector, subvector[1:6])\n",
    "\n",
    "                    if debug\n",
    "                        println(\"Normal found in i+j\")\n",
    "                        println(subvector)\n",
    "                    end    \n",
    "                end\n",
    "            else\n",
    "                if debug\n",
    "                    println(\"No match found\")\n",
    "                end\n",
    "                k += 1\n",
    "            end\n",
    "        else\n",
    "            if debug\n",
    "                println(\"Initial not found\")\n",
    "            end\n",
    "            k += 1\n",
    "        end\n",
    "        if k == 13\n",
    "            if debug \n",
    "                println(\"Iteration done for j \", j)\n",
    "            end\n",
    "            k = 1\n",
    "            j += 1\n",
    "        end\n",
    "        if j == 7\n",
    "            if debug\n",
    "                println(\"Done\")\n",
    "            end\n",
    "            break                    \n",
    "        end\n",
    "        if debug\n",
    "            println(paddedsub)\n",
    "        end\n",
    "    end\n",
    "    if debug\n",
    "        println(subvector)\n",
    "        println(\"Distance \", distance)\n",
    "    end\n",
    "    return distance\n",
    "end\n",
    "               \n",
    "# Creates sorted and unsorted lists of the tonal distances of each time-step in startindex:finalindex in relation to all available functions\n",
    "function initialiseFunctionPotentialList(startindex, finalindex, tonal_map, functions)\n",
    "\n",
    "    # Used for searching best-first\n",
    "    function_potential = Array{Tuple{Int64,String},1}[] \n",
    "\n",
    "    # Used for building shortest path map                            \n",
    "    function_potential_unsorted = Array{Tuple{Int64,String},1}[] \n",
    "\n",
    "    for i in startindex:finalindex\n",
    "        function_pool = Tuple{Int64, String}[]\n",
    "        for chord in keys(functions)\n",
    "            triple=false\n",
    "            if chord == \"T-5\" || chord == \"S-5\" || chord == \"D-5\"                                                            \n",
    "                triple = true\n",
    "            end\n",
    "            tonal_dist = 3*tonal_distance(tonal_map[i,:], functions[chord][1], functions[chord][3], triple)\n",
    "            function_pool_entry = (tonal_dist, chord)        \n",
    "            push!(function_pool, (tonal_dist, chord))\n",
    "        end \n",
    "        push!(function_potential_unsorted, function_pool)\n",
    "        push!(function_potential, sort(function_pool))\n",
    "    end\n",
    "    return function_potential, function_potential_unsorted\n",
    "end\n",
    "       "
   ]
  },
  {
   "cell_type": "markdown",
   "metadata": {},
   "source": [
    "# # Construct the search space for note distribution to voices"
   ]
  },
  {
   "cell_type": "code",
   "execution_count": 8,
   "metadata": {},
   "outputs": [
    {
     "data": {
      "text/plain": [
       "createVoicingPermutations (generic function with 1 method)"
      ]
     },
     "execution_count": 8,
     "metadata": {},
     "output_type": "execute_result"
    }
   ],
   "source": [
    "using Combinatorics\n",
    "\n",
    "# Finds and returns all possible distributions of the valid note classes for a given function\n",
    "\n",
    "function getVoicingPermutations(functions, func)\n",
    "    voicing_permutations = Array{Tuple{Int64,Int64}, 1}[]\n",
    "    voicings_initial = []\n",
    "    \n",
    "    function_map = functions[func][1]\n",
    "    double_note = functions[func][3]\n",
    "    bass_note = functions[func][2][1]\n",
    "\n",
    "    active_notes = sort!([(i, x) for (i, x) in enumerate(function_map) if x > 0], by = x -> x[2])   # [position, value]\n",
    "    \n",
    "    filter!(e->e != bass_note, active_notes)\n",
    "        \n",
    "    voicing_sans_bass = copy(active_notes)\n",
    "            \n",
    "    if size(active_notes, 1) == 1\n",
    "        push!(voicing_sans_bass, bass_note)\n",
    "        push!(voicing_sans_bass, bass_note)\n",
    "        push!(voicings_initial, voicing_sans_bass)\n",
    "    elseif size(active_notes, 1) == 2\n",
    "        for i in 1:size(double_note, 1)\n",
    "            voicing_sans_bass = copy(active_notes)\n",
    "            push!(voicing_sans_bass, double_note[i])\n",
    "            push!(voicings_initial, voicing_sans_bass)\n",
    "        end\n",
    "    elseif size(active_notes, 1) == 3\n",
    "        push!(voicings_initial, voicing_sans_bass)\n",
    "    end\n",
    "                    \n",
    "    for entry in voicings_initial\n",
    "        voicings = collect(permutations(entry))\n",
    "        \n",
    "        for j in voicings\n",
    "            push!(voicing_permutations, j)\n",
    "        end\n",
    "    end\n",
    "    \n",
    "    voicing_permutations = unique(voicing_permutations)   \n",
    "    for p in voicing_permutations\n",
    "        pushfirst!(p, bass_note)\n",
    "    end\n",
    "    \n",
    "    return voicing_permutations\n",
    "end\n",
    "        \n",
    "# Generates the candidate solutions of note distribution for a given function\n",
    "               \n",
    "function generateCandidates(functions, func)\n",
    "    voicing_permutations = getVoicingPermutations(functions, func)\n",
    "    valid_voicings = Array{Tuple{Int64,Int64},1}[]\n",
    "    note_repository = []   # [[all C's], [all C#'s], [all D's], ..., [all B's]]\n",
    "    for note_class in 1:12\n",
    "        push!(note_repository, [x for x in 40:80 if x%12 == (note_class-1)])\n",
    "    end\n",
    "\n",
    "    \n",
    "    \n",
    "    for permutation in voicing_permutations\n",
    "        #println(permutation)\n",
    "        voicing = []\n",
    "        for b in note_repository[permutation[1][1]]\n",
    "            if b in 40:60\n",
    "                for t in note_repository[permutation[2][1]]\n",
    "                    if t in 47:68 && t >= b && t-b <= 20\n",
    "                        for a in note_repository[permutation[3][1]]\n",
    "                            if a in 52:72 && a >= t && a-t <= 12                                 \n",
    "                                for s in note_repository[permutation[4][1]]\n",
    "                                    if s in 59:80 && s >= a && s-a <= 12  \n",
    "                                        voicing = Tuple{Int64,Int64}[]\n",
    "                                        push!(voicing, (b, permutation[1][2]), (t, permutation[2][2]), (a, permutation[3][2]), (s, permutation[4][2])) \n",
    "                                        push!(valid_voicings, voicing)\n",
    "                                    end                                \n",
    "                                end           \n",
    "                            end    \n",
    "                        end\n",
    "                        \n",
    "                    end\n",
    "                end       \n",
    "            end\n",
    "        end\n",
    "    end\n",
    "    \n",
    "    ## Enforce Special rules\n",
    "    \n",
    "    if (func == \"T-5\") || (func == \"D-5\")\n",
    "        placeholder = Array{Tuple{Int64,Int64},1}[]\n",
    "        for voicing in valid_voicings\n",
    "            if (voicing[4][2] == 1) && (voicing[4][1] - voicing[3][1] == 9 || voicing[4][1] - voicing[3][1] == 8)\n",
    "                push!(placeholder, voicing)\n",
    "            end\n",
    "        end\n",
    "        valid_voicings = placeholder\n",
    "    end\n",
    "    return(valid_voicings)\n",
    "end\n",
    "        \n",
    "# Initialises all possible permutations of every function with regards to key and scale\n",
    "function createVoicingPermutations(functions)\n",
    "\n",
    "    voicing_permutations = Dict{String, Array{Array{Tuple{Int8,Int8},1}}}()\n",
    "    voicing_permutations_raw = Array{Tuple{Int64,Int64},1}[]\n",
    "\n",
    "    for keys in keys(functions)\n",
    "        entry = unique(generateCandidates(functions, keys))\n",
    "        #println(entry)\n",
    "        #println(typeof(entry))\n",
    "        voicing_permutations[keys] = entry\n",
    "        for voicing in entry\n",
    "            push!(voicing_permutations_raw, voicing)\n",
    "        end\n",
    "    end\n",
    "    \n",
    "    return voicing_permutations, voicing_permutations_raw\n",
    "end\n"
   ]
  },
  {
   "cell_type": "code",
   "execution_count": 9,
   "metadata": {},
   "outputs": [
    {
     "data": {
      "text/plain": [
       "createValidFunctionTable (generic function with 1 method)"
      ]
     },
     "execution_count": 9,
     "metadata": {},
     "output_type": "execute_result"
    }
   ],
   "source": [
    "function createValidFunctionTable(scale)\n",
    "    if scale == \"Major\"\n",
    "        valid_function_table = Dict(\n",
    "        \"T\"    => [\"T\", \"T-5\", \"T/3\", \"T/5\", \"S\", \"S/3\", \"S/5\", \"S65\", \"S65/6\", \"D\", \"D-5\", \"D/3\", \"D/5\", \"D7\", \"D7-1\", \"D7-5\", \"D7/3\", \"D7/5\", \"D7/7\", \"D64\", \"D54\", \"Ts\", \"Tm\", \"Ss\"],\n",
    "        \"S\"    => [\"T\", \"T-5\", \"T/3\", \"T/5\", \"S\", \"S/3\", \"S/5\", \"S6\", \"S65\", \"S65/6\", \"D\", \"D-5\", \"D/3\", \"D/5\", \"D7\", \"D7-1\", \"D7-5\", \"D7/3\", \"D7/5\", \"D7/7\", \"T64\", \"T54\", \"D64\", \"D54\", \"Ts\", \"Tm\", \"Ss\"],\n",
    "        \"D\"    => [\"T\", \"T-5\", \"T/3\", \"T/5\", \"S/3\", \"D\", \"D/3\", \"D/5\", \"D7\", \"D7-1\", \"D7-5\", \"D7/3\", \"D7/5\", \"D7/7\", \"Ts\"],\n",
    "        \"T-5\"  => [\"T\", \"T-5\", \"T/3\", \"T/5\", \"S\", \"S/3\", \"S/5\", \"S65\", \"S65/6\", \"D\", \"D-5\", \"D/3\", \"D/5\", \"D7\", \"D7-1\", \"D7-5\", \"D7/3\", \"D7/5\", \"D7/7\", \"D64\", \"D54\", \"Ts\", \"Tm\", \"Ss\"],\n",
    "        \"D-5\"  => [\"T\", \"T-5\", \"T/3\", \"T/5\", \"S/3\", \"D\", \"D/3\", \"D/5\", \"D7\", \"D7-1\", \"D7-5\", \"D7/3\", \"D7/5\", \"D7/7\", \"Ts\"],\n",
    "        \"T/3\"  => [\"T\", \"S\", \"S/3\", \"S6\", \"S65\", \"S65/6\", \"D\", \"D/3\", \"D/5\", \"D7-5\", \"D7/5\", \"D64\", \"D54\", \"Tm\", \"Ts\"],\n",
    "        \"S/3\"  => [\"T\", \"T/3\", \"T/5\", \"S\", \"S6\", \"D\", \"D/3\", \"D7\", \"D7/3\", \"T64\", \"T54\", \"D64\", \"D54\", \"Ts\"],\n",
    "        \"D/3\"  => [\"T\", \"T-5\", \"S/3\", \"D\", \"D7\", \"D7-5\", \"Ts\"],\n",
    "        \"T/5\"  => [\"S\", \"S/3\", \"S6\", \"S65\", \"S65/6\", \"D\"],\n",
    "        \"S/5\"  => [\"T\", \"S6\", \"S65\", \"S65/6\"],\n",
    "        \"D/5\"  => [\"T\", \"T/3\"],\n",
    "        \"D64\"  => [\"D\", \"D7-5\", \"D54\", \"D64\"],\n",
    "        \"T64\"  => [\"T\", \"T54\", \"T64\"],\n",
    "        \"T54\"  => [\"T\", \"T54\"],\n",
    "        \"D54\"  => [\"D\", \"D54\"],\n",
    "        \"D7\"   => [\"T\", \"T-5\", \"D7\", \"D7/3\", \"D7/5\", \"D7/7\", \"Ts\", \"T64\", \"T54\"],\n",
    "        \"D7/3\" => [\"T\", \"T-5\", \"D7\", \"D7/3\", \"D7/5\", \"D7/7\", \"Ts\"],\n",
    "        \"D7/5\" => [\"T\", \"D7\", \"D7/3\", \"D7/5\", \"D7/7\"],\n",
    "        \"D7/7\" => [\"T/3\", \"D7\", \"D7/3\", \"D7/5\", \"D7/7\"],\n",
    "        \"D7-1\" => [\"T\", \"T/3\", \"D7\", \"D7-1\", \"D7/3\", \"D7/5\", \"D7/7\", \"Ts\"],\n",
    "        \"D7-5\" => [\"T\", \"D7-5\"],\n",
    "        \"S65\"  => [\"T/5\", \"D\", \"D64\", \"S65\"],\n",
    "        \"S65/6\"=> [\"D\", \"D7\", \"D7-1\", \"D7-5\", \"T/5\", \"S65/6\"],\n",
    "        \"S6\"   => [\"T/3\", \"D\", \"D7\", \"D7-5\", \"D64\", \"S6\"],\n",
    "        \"Ts\"   => [\"T/3\", \"S\", \"S/3\", \"S6\", \"S65\", \"S65/6\", \"D\", \"D-5\", \"D/3\", \"D7\", \"D7-1\", \"D7/3\", \"Ts\", \"Ss\", \"Tm\"],\n",
    "        \"Tm\"   => [\"S\", \"D/3\", \"D7/3\", \"Ts\", \"Tm\"],\n",
    "        \"Ss\"   => [\"T\", \"T-5\", \"T/3\", \"T/5\", \"D\", \"D-5\", \"D/3\", \"D/5\", \"D7\", \"D7-1\", \"D7-5\", \"D7/3\", \"D7/5\", \"D7/7\", \"Ss\"])\n",
    "        # [\"T\", \"T-5\", \"T/3\", \"T/5\", \"S\", \"S/3\", \"S/5\", \"S6\", \"S65\", \"S65/6\", \"D\", \"D-5\", \"D/3\", \"D/5\", \"D7\", \"D7-1\", \"D7-5\", \"D7/3\", \"D7/5\", \"D7/7\", \"T64\", \"T54\", \"D64\", \"D54\", \"Ts\", \"Tm\", \"Ss\"],\n",
    "    elseif scale == \"Minor\"\n",
    "        valid_function_table = Dict(\n",
    "        \"T\"    => [\"T\", \"T-5\", \"T/3\", \"T/5\", \"S\", \"S/3\", \"S/5\", \"S6\", \"S65\", \"S65/6\", \"D\", \"D-5\", \"D/3\", \"D/5\", \"D7\", \"D7-1\", \"D7-5\", \"D7/3\", \"D7/5\", \"D7/7\", \"D64\", \"D54\", \"Ts\", \"Tm\", \"Dm\"],\n",
    "        \"S\"    => [\"T\", \"T-5\", \"T/3\", \"T/5\", \"S\", \"S/3\", \"S/5\", \"S6\", \"S65\", \"S65/6\", \"D\", \"D-5\", \"D/3\", \"D/5\", \"D7\", \"D7-1\", \"D7-5\", \"D7/3\", \"D7/5\", \"D7/7\", \"T64\", \"T54\", \"D64\", \"D54\", \"Ts\", \"Tm\", \"Dm\"],\n",
    "        \"D\"    => [\"T\", \"T-5\", \"T/3\", \"T/5\", \"S/3\", \"D\", \"D-5\", \"D/3\", \"D/5\", \"D7\", \"D7-1\", \"D7-5\", \"D7/3\", \"D7/5\", \"D7/7\", \"Ts\"],\n",
    "        \"T-5\"  => [\"T\", \"T-5\", \"T/3\", \"T/5\", \"S\", \"S/3\", \"S/5\", \"S6\", \"S65\", \"S65/6\", \"D\", \"D-5\", \"D/3\", \"D/5\", \"D7\", \"D7-1\", \"D7-5\", \"D7/3\", \"D7/5\", \"D7/7\", \"D64\", \"D54\", \"Ts\", \"Tm\", \"Dm\"],\n",
    "        \"D-5\"  => [\"T\", \"T-5\", \"T/3\", \"T/5\", \"S/3\", \"D\", \"D-5\", \"D/3\", \"D/5\", \"D7\", \"D7-1\", \"D7-5\", \"D7/3\", \"D7/5\", \"D7/7\", \"Ts\"],\n",
    "        \"T/3\"  => [\"T\", \"S\", \"S/3\", \"S6\", \"S65\", \"S65/6\", \"D\", \"D/3\", \"D/5\", \"D7-5\", \"D7/5\", \"D64\", \"D54\", \"Tm\", \"Ts\"],\n",
    "        \"S/3\"  => [\"T\", \"T/3\", \"T/5\", \"S\", \"S6\", \"D\", \"D/3\", \"D7\", \"D7/3\", \"T64\", \"T54\", \"D64\", \"D54\", \"Ts\"],\n",
    "        \"D/3\"  => [\"T\", \"T-5\", \"S/3\", \"D\", \"D7\", \"D7-5\"],\n",
    "        \"T/5\"  => [\"S\", \"S/3\", \"S6\", \"S65\", \"S65/6\", \"D\"],\n",
    "        \"S/5\"  => [\"T\", \"S6\", \"S65\", \"S65/6\"],\n",
    "        \"D/5\"  => [\"T\", \"T/3\"],\n",
    "        \"D64\"  => [\"D\", \"D7-5\", \"D54\", \"D64\"],\n",
    "        \"T64\"  => [\"T\", \"T54\", \"T64\"],\n",
    "        \"T54\"  => [\"T\", \"T54\"],\n",
    "        \"D54\"  => [\"D\", \"D54\"],\n",
    "        \"D7\"   => [\"T\", \"T-5\", \"D7\", \"D7/3\", \"D7/5\", \"D7/7\", \"T64\", \"T54\", \"Ts\"],\n",
    "        \"D7/3\" => [\"T\", \"T-5\", \"D7\", \"D7/3\", \"D7/5\", \"D7/7\"],\n",
    "        \"D7/5\" => [\"T\", \"D7\", \"D7/3\", \"D7/5\", \"D7/7\"],\n",
    "        \"D7/7\" => [\"T/3\", \"D7\", \"D7/3\", \"D7/5\", \"D7/7\"],\n",
    "        \"D7-1\" => [\"T\", \"T/3\", \"D7\", \"D7-1\", \"D7/3\", \"D7/5\", \"D7/7\", \"Ts\"],\n",
    "        \"D7-5\" => [\"T\", \"D7-5\"],\n",
    "        \"S65\"  => [\"T/5\", \"D\", \"D64\", \"S65\"],\n",
    "        \"S65/6\"=> [\"D\", \"D7\", \"D7-1\", \"D7-5\", \"T/5\", \"S65/6\"],\n",
    "        \"S6\"   => [\"T/3\", \"D\", \"D7\", \"D7-5\", \"D64\", \"S6\"],\n",
    "        \"Ts\"   => [\"T/3\", \"S\", \"S/3\", \"S6\", \"S65\", \"S65/6\", \"D\", \"D-5\", \"D7\", \"D7-1\", \"Ts\", \"Tm\"],\n",
    "        \"Tm\"   => [\"S\", \"D/3\", \"D7/3\", \"Ts\", \"Tm\"],\n",
    "        \"Dm\"   => [\"S/3\", \"Ts\", \"Dm\"])\n",
    "        # [\"T\", \"T-5\", \"T/3\", \"T/5\", \"S\", \"S/3\", \"S/5\", \"S6\", \"S65\", \"S65/6\", \"D\", \"D-5\", \"D/3\", \"D/5\", \"D7\", \"D7-1\", \"D7-5\", \"D7/3\", \"D7/5\", \"D7/7\", \"T64\", \"T54\", \"D64\", \"D54\", \"Ts\", \"Tm\", \"Dm\"]\n",
    "    end\n",
    "        \n",
    "    return valid_function_table\n",
    "end"
   ]
  },
  {
   "cell_type": "markdown",
   "metadata": {},
   "source": [
    "# # Rhythm function"
   ]
  },
  {
   "cell_type": "code",
   "execution_count": 10,
   "metadata": {},
   "outputs": [
    {
     "data": {
      "text/plain": [
       "rhythmify (generic function with 1 method)"
      ]
     },
     "execution_count": 10,
     "metadata": {},
     "output_type": "execute_result"
    }
   ],
   "source": [
    "function rhythmify(time_signature, original) # (beats per bar, subdivisions) (3,1), (3, 2), (4,1), (4, 2)\n",
    "    \n",
    "    rhythm_map = String[]\n",
    "    \n",
    "    beat_remainder = size(original, 2) % (time_signature[1] * time_signature[2])\n",
    "    \n",
    "    rhythms = Dict(\n",
    "        (3, 1) => [\"S\", \"W\", \"W\"],\n",
    "        (3, 2) => [\"S\", \"O\", \"W\", \"O\", \"W\", \"O\"],\n",
    "        (4, 1) => [\"S\", \"W\", \"S\", \"W\"],\n",
    "        (4, 2) => [\"S\", \"O\", \"W\", \"O\", \"S\", \"O\",  \"W\", \"O\"]\n",
    "    )\n",
    "\n",
    "    ## Create basic rhythm map NOT USED\n",
    "    #=\n",
    "    if beat_remainder == time_signature[2]\n",
    "        for i in 1:time_signature[2]\n",
    "            push!(rhythm_map, rhythms[time_signature][end - (time_signature[2] - i)])\n",
    "        end\n",
    "            \n",
    "        for i in 0:(size(original, 2) - 1-time_signature[2])\n",
    "            push!(rhythm_map, rhythms[time_signature][(i % (time_signature[1]*time_signature[2]) + 1)])\n",
    "        end\n",
    "    else\n",
    "        for i in 0:(size(original, 2) - 1)\n",
    "            \n",
    "            push!(rhythm_map, rhythms[time_signature][(i % (time_signature[1]*time_signature[2]) + 1)])\n",
    "        end\n",
    "    end\n",
    "    =#\n",
    "    \n",
    "    if time_signature == (4,2)\n",
    "        if size(original, 2) == 16\n",
    "            rhythm_map = [\"S\", \"O\", \"W\", \"O\", \"S\", \"C\",  \"C\", \"C\", \"S\", \"O\", \"W\", \"O\", \"S\", \"O\",  \"W\", \"O\"]\n",
    "            rhythm_map = [\"S\", \"W\", \"S\", \"W\", \"S\", \"C\",  \"C\", \"C\", \"S\", \"W\", \"S\", \"W\", \"S\", \"W\",  \"S\", \"W\"]\n",
    "        elseif size(original, 2) == 17\n",
    "            rhythm_map = [\"O\", \"S\", \"O\", \"W\", \"O\", \"S\", \"O\",  \"W\", \"O\", \"S\", \"O\", \"W\", \"O\", \"S\", \"O\",  \"W\", \"O\"]\n",
    "            rhythm_map = [\"W\", \"S\", \"W\", \"S\", \"W\", \"S\", \"W\",  \"S\", \"W\", \"S\", \"W\", \"S\", \"W\", \"S\", \"W\",  \"S\", \"W\"]\n",
    "        end\n",
    "    #=\n",
    "    elseif time_signature == (3,2)\n",
    "        if size(original, 2) == 12\n",
    "            rhythm_map = [\"S\", \"O\", \"W\", \"O\", \"W\", \"O\", \"S\", \"O\", \"W\", \"O\", \"W\", \"O\"]\n",
    "        elseif size(original, 2) == 13\n",
    "            rhythm_map = [\"O\", \"S\", \"O\", \"W\", \"O\", \"W\", \"O\", \"S\", \"O\", \"W\", \"O\", \"W\", \"O\"]\n",
    "        end\n",
    "    =#\n",
    "    else\n",
    "        println(\"Time Signature: only (4,2) is supported at this point\")       \n",
    "    end\n",
    "    return rhythm_map\n",
    "end"
   ]
  },
  {
   "cell_type": "code",
   "execution_count": 11,
   "metadata": {},
   "outputs": [
    {
     "data": {
      "text/plain": [
       "function_cost (generic function with 2 methods)"
      ]
     },
     "execution_count": 11,
     "metadata": {},
     "output_type": "execute_result"
    }
   ],
   "source": [
    "# Child.sequence : [1:(1:function1_cost, 2:\"function1_name\", 3:[function1_voicing_list]), 2:(1:function2_cost, 2:\"function2_name\", , 3:[function2_voicing_list]), ...]\n",
    "function function_cost(candidateSequence, rhythm_map, valid_function_table, debug=false)\n",
    "\n",
    "    child = candidateSequence.sequence\n",
    "    total_cost = candidateSequence.function_cost\n",
    "\n",
    "    current_child = child[end]\n",
    "    current_function = current_child[2]\n",
    "    current_index = size(child, 1)\n",
    "    previous_child = child[end-1]\n",
    "    previous_function = previous_child[2]\n",
    "    previous_index = size(child, 1) - 1\n",
    "    timestep = size(child, 1)\n",
    "    \n",
    "    if size(candidateSequence.last_four, 1) < 4\n",
    "        push!(candidateSequence.last_four, child[end][2])\n",
    "    else\n",
    "        popfirst!(candidateSequence.last_four)\n",
    "        push!(candidateSequence.last_four, child[end][2])\n",
    "            \n",
    "        if size(unique(candidateSequence.last_four), 1) < 3\n",
    "            total_cost += 1000\n",
    "        end\n",
    "    end\n",
    "    total_cost += current_child[1]\n",
    "\n",
    "        \n",
    "    if !(current_function in valid_function_table[previous_function])\n",
    "        total_cost += 1000\n",
    "    end\n",
    "     \n",
    "    # General cadences\n",
    "        \n",
    "    if rhythm_map[timestep-1] == \"C\" && rhythm_map[timestep] != \"C\"\n",
    "       if debug\n",
    "            println(\"Remember the cadence from last time and not repeat it\")\n",
    "        end\n",
    "        candidateSequence.last_cadence = previous_function\n",
    "    end\n",
    "        \n",
    "    if rhythm_map[timestep] == \"C\" && timestep == size(rhythm_map, 1)\n",
    "           \n",
    "        if candidateSequence.last_cadence == current_function\n",
    "            if debug \n",
    "                println(\"Avoid same cadence\")\n",
    "            end\n",
    "            total_cost += 1000\n",
    "        end\n",
    "    end\n",
    "    \n",
    "    if rhythm_map[timestep] == \"C\" && (timestep == size(rhythm_map, 1) || timestep == size(rhythm_map, 1)-1)\n",
    "        if !(current_function == \"T\" || current_function == \"D\" || current_function == \"Ts\")\n",
    "            total_cost += 1000\n",
    "            if debug\n",
    "                println(\"Intermediate cadences must end with T, D or Ts\")\n",
    "            end\n",
    "        end\n",
    "        #=\n",
    "        if previous_function != current_function && timestep == size(rhythm_map, 1)\n",
    "              total_cost += 1000\n",
    "            if debug\n",
    "                println(\"Intermediate cadence at end of segment must hold its final function\")\n",
    "            end\n",
    "        end\n",
    "        =#\n",
    "    end\n",
    "            \n",
    "    if rhythm_map[timestep] == \"C\" && rhythm_map[timestep-1] != \"C\"\n",
    "        if !(string(current_function[1]) == \"D\" || current_function == \"T\" || current_function == \"S\" || current_function == \"S/3\" || current_function == \"Ts\")\n",
    "            total_cost += 1000\n",
    "            if debug\n",
    "                println(\"Intermediate cadences must begin with T, S, S/3 or (any) D\")\n",
    "            end\n",
    "        end      \n",
    "    end\n",
    "    \n",
    "    if rhythm_map[timestep] == \"C\" && rhythm_map[timestep-1] == \"C\"\n",
    "        if string(previous_function[1]) == \"D\"\n",
    "            if !(current_function == \"T\" || current_function == \"Ts\" || string(current_function[1]) == \"D\")\n",
    "                total_cost += 1000\n",
    "                if debug\n",
    "                    println(\"C: D? must go to T, Ts or D\")\n",
    "                end\n",
    "            end\n",
    "            if string(child[end-2][2][1]) == \"D\" && string(child[end][2][1]) == \"D\"\n",
    "                total_cost += 1000\n",
    "                if debug\n",
    "                    println(\"C: Cadence can't be all D's\")\n",
    "                end\n",
    "            end  \n",
    "        end\n",
    "\n",
    "        if previous_function == \"T\" \n",
    "            if !(current_function == \"T\" || current_function == \"S\" || current_function == \"D\")\n",
    "                total_cost += 1000\n",
    "                if debug\n",
    "                    println(\"C: T-> T, S or D\")\n",
    "                end\n",
    "            end\n",
    "            if child[end-2][2] == \"T\" && child[end][2] == \"T\"\n",
    "                total_cost += 1000\n",
    "                if debug\n",
    "                    println(\"C: Cadence can't be all T's\")\n",
    "                end\n",
    "            end  \n",
    "        end\n",
    "\n",
    "        if previous_function == \"S\" \n",
    "            if !(current_function == \"D\" || current_function == \"S\")\n",
    "                total_cost += 1000\n",
    "                if debug\n",
    "                    println(\"C: S-> S or D\")\n",
    "                end\n",
    "            end\n",
    "            if child[end][2] == \"S\" && child[end-2][2] == \"S\"\n",
    "                total_cost += 1000\n",
    "                if debug\n",
    "                    println(\"C: Cadence can't be all S's\")\n",
    "                end\n",
    "            end  \n",
    "        end\n",
    "\n",
    "        if previous_function == \"S/3\" \n",
    "            if !(current_function == \"D\" || current_function == \"S/3\")\n",
    "                total_cost += 1000\n",
    "                if debug\n",
    "                    println(\"C: S/3-> S/3 or D\")\n",
    "                end\n",
    "            end\n",
    "        end\n",
    "        if child[end][2] == \"S/3\" && child[end-2][2] == \"S/3\"\n",
    "            total_cost += 1000\n",
    "            if debug\n",
    "                println(\"C: Cadence can't be all S/3's\")\n",
    "            end\n",
    "\n",
    "        end\n",
    "\n",
    "        if previous_function == \"Ts\" \n",
    "            if !(current_function == \"D\" || current_function == \"Ts\")\n",
    "                total_cost += 1000\n",
    "                if debug\n",
    "                    println(\"C: Ts-> Ts or D\")\n",
    "                end\n",
    "            end\n",
    "        end\n",
    "        if child[end][2] == \"Ts\" && child[end-2][2] == \"Ts\"\n",
    "            total_cost += 1000\n",
    "            if debug\n",
    "                println(\"C: Cadence can't be all Ts's\")\n",
    "            end\n",
    "\n",
    "        end\n",
    "        #=\n",
    "        if rhythm_map[timestep-2] == \"C\" && previous_function == child.sequcence[end-2][2]\n",
    "            total_cost += 1000\n",
    "            if debug\n",
    "                println(\"C: Cadence can't rest on first chord\")\n",
    "            end\n",
    "        end\n",
    "        =#\n",
    "    end\n",
    "        \n",
    "   \n",
    "    if rhythm_map[timestep] != \"C\" && rhythm_map[timestep-1] == \"C\"\n",
    "        if previous_function != child[end-2][2] \n",
    "            total_cost += 1000\n",
    "            if debug\n",
    "                println(\"C: Cadence must rest on final function mid phrase\")\n",
    "            end\n",
    "        end\n",
    "    end\n",
    "        \n",
    "    if rhythm_map[timestep] == \"C\" && timestep == size(rhythm_map, 1) && previous_function != current_function\n",
    "        total_cost += 1000\n",
    "        if debug\n",
    "                println(\"C: Cadence must rest on final function at the end\")\n",
    "        end\n",
    "    end\n",
    "    \n",
    "\n",
    "    # Authentic Cadences\n",
    "    if rhythm_map[timestep] == \"A\"\n",
    "    \n",
    "        if (timestep == size(rhythm_map, 1) || timestep == size(rhythm_map, 1)-1) && !(current_function == \"T\")\n",
    "            total_cost += 1000\n",
    "            if debug\n",
    "                println(\"A: Cadence must rest on final function T\")\n",
    "            end            \n",
    "        end\n",
    "            \n",
    "        if !((current_function in Dominants) || current_function == \"T\" || current_function == \"S\")\n",
    "            total_cost += 1000\n",
    "            if debug\n",
    "                println(\"A: Cadence can only contain T, S, or any D\")\n",
    "            end    \n",
    "        end \n",
    "            \n",
    "        if (timestep == size(rhythm_map, 1)-2) && !(current_function in Authentic_Dominants)\n",
    "            total_cost += 1000\n",
    "            if debug\n",
    "                println(\"A: Cadence must end on D->T\")\n",
    "            end    \n",
    "        end \n",
    "        \n",
    "        if rhythm_map[timestep-1] != \"A\" && string(current_function)[1] == string(previous_function)[1]\n",
    "            total_cost += 1000\n",
    "            if debug\n",
    "                println(\"A: Avoid leading into the cadence with a chord repetition\")\n",
    "            end   \n",
    "        end\n",
    "        \n",
    "        if rhythm_map[timestep-1] != \"A\" && current_function == \"T\"\n",
    "           total_cost += 1000\n",
    "            if debug\n",
    "                println(\"A: Avoid starting cadence with T\")\n",
    "            end\n",
    "        end\n",
    "    end\n",
    "    \n",
    "    # Chord repetition can only happen from stronger to weaker beats. Otherwise, cost is set by distance to original tonal_map.\n",
    "    if (previous_function == current_function) #&& !((rhythm_map[timestep] == \"A\" || rhythm_map[timestep-1] == \"A\") || (rhythm_map[timestep] == \"C\" || rhythm_map[timestep-1] == \"C\"))\n",
    "        if (beat_accentuation[rhythm_map[timestep]] > beat_accentuation[rhythm_map[timestep-1]])\n",
    "            if debug\n",
    "                println(\"Chord repetition can only happen from stronger to weaker beats. Otherwise, cost is set by distance to original tonal_map.\")\n",
    "            end\n",
    "            total_cost += 1000\n",
    "        end\n",
    "    end\n",
    "    \n",
    "    # /5 chords     \n",
    "    # T5, S5, D5 requires same function type before and after\n",
    "    if (previous_function == \"T/5\" || previous_function == \"S/5\" || previous_function == \"D/5\")\n",
    "        if string(child[end-2][2][1]) != string(current_function[1])\n",
    "            if debug\n",
    "                println(\"T/5, S/5, D/5 requires same function type before and after\")\n",
    "            end\n",
    "\n",
    "            total_cost += 1000\n",
    "        end   \n",
    "    end\n",
    "\n",
    "        \n",
    "    ## Suspended chords\n",
    "        \n",
    "    # Augmented chords must lie on a more accentuated beat than its resolution\n",
    "    \n",
    "    if (current_function == \"T64\" || current_function == \"D64\") && !(rhythm_map[current_index] == \"S\" || previous_function == current_function || rhythm_map[current_index] == \"A\")\n",
    "        if debug\n",
    "            println(\"T64, D64 must begin on strong beat\")\n",
    "        end\n",
    "        total_cost += 1000\n",
    "    end\n",
    "    \n",
    "    \n",
    "    # Ts -> S/3 or Ss -> D7-1 must decrease in rhythmic accentuation\n",
    "    if ((previous_function == \"Ts\" && current_function == \"S/3\") || (previous_function == \"Ss\" && current_function == \"D7-1\")) && \n",
    "        beat_accentuation[rhythm_map[previous_index]] < beat_accentuation[rhythm_map[current_index]]\n",
    "        if debug\n",
    "            println(\"Ts -> S/3 or Ss -> D7-1 must decrease in rhythmic accentuation\")\n",
    "        end\n",
    "        total_cost += 1000\n",
    "    end\n",
    "    \n",
    "    return total_cost\n",
    "end"
   ]
  },
  {
   "cell_type": "code",
   "execution_count": 12,
   "metadata": {},
   "outputs": [
    {
     "data": {
      "text/plain": [
       "voicing_cost (generic function with 3 methods)"
      ]
     },
     "execution_count": 12,
     "metadata": {},
     "output_type": "execute_result"
    }
   ],
   "source": [
    "## Function for calculating the voicing cost between neighbouring voicings\n",
    "# Child.sequence : [1:(1:function1_cost, 2:\"function1_name\", 3:[function1_voicing_list]), 2:(1:function2_cost, 2:\"function2_name\", , 3:[function2_voicing_list]), ...]\n",
    "function voicing_cost(candidateSequence, rhythm_map_local, data, full=false, debug=false)\n",
    "    \n",
    "    child = candidateSequence.sequence\n",
    "    \n",
    "    if full\n",
    "        total_cost = 0\n",
    "        from = 2\n",
    "    else\n",
    "        from = size(child, 1)\n",
    "        total_cost = candidateSequence.voicing_cost\n",
    "    end\n",
    "        \n",
    "    # OPTIONAL: distance from original cost\n",
    "    #total_cost += distance_cost(data, child, size(child, 1), false)\n",
    "        \n",
    "    if size(candidateSequence.last_soprano, 1) < 4\n",
    "        push!(candidateSequence.last_soprano, child[end][3][4][1])\n",
    "    else\n",
    "        popfirst!(candidateSequence.last_soprano)\n",
    "        push!(candidateSequence.last_soprano, child[end][3][4][1])        \n",
    "    end\n",
    "            \n",
    "    if size(candidateSequence.last_soprano, 1) == 4    \n",
    "        if size(unique(candidateSequence.last_soprano), 1) < 3\n",
    "            total_cost += 1000\n",
    "        end\n",
    "    end\n",
    "        \n",
    "    for i in from:size(child, 1)\n",
    "        \n",
    "        current_notes = child[i][3]\n",
    "        current_function = child[i][2]\n",
    "        current_index = size(child, 1)\n",
    "        previous_notes = child[i-1][3]\n",
    "        previous_function = child[i-1][2]\n",
    "            \n",
    "        dist = [current_notes[1][1] - previous_notes[1][1], current_notes[2][1] - previous_notes[2][1], current_notes[3][1] - previous_notes[3][1], current_notes[4][1] - previous_notes[4][1]]\n",
    "\n",
    "        for (j, d) in enumerate(dist)\n",
    "            if d == 0\n",
    "                candidateSequence.same_note[j] += 1\n",
    "            else\n",
    "                candidateSequence.same_note[j] = 0\n",
    "            end\n",
    "        end\n",
    "\n",
    "        if maximum(candidateSequence.same_note) > 3\n",
    "            total_cost += 1000\n",
    "            if debug\n",
    "                println(\"Same note held for too long in one of the voices\")\n",
    "            end\n",
    "        end\n",
    "        if i > 2\n",
    "            ancient_notes = child[i-2][3]\n",
    "            ancient_function = child[i-2][2]\n",
    "            previous_dist = [previous_notes[1][1] - ancient_notes[1][1], previous_notes[2][1] - ancient_notes[2][1], previous_notes[3][1] - ancient_notes[3][1], previous_notes[4][1] - ancient_notes[4][1]]\n",
    "               \n",
    "            # bass stuff\n",
    "            if abs(previous_dist[1]) > 2 && !(sign(previous_dist[1]) != sign(dist[1])) && abs(dist[1]) > 2\n",
    "                if debug\n",
    "                    println(\"Leaps in bass should be countered by a move in the other direction\")\n",
    "                end\n",
    "                total_cost += 2              \n",
    "            elseif !(sign(previous_dist[1]) == sign(dist[1])) || sign(dist[1]) == sign(0) #|| !(previous_function in Dominants_dependent || previous_function in Tonics_dependent)\n",
    "                if debug\n",
    "                    println(\"Encourage walking bass\")\n",
    "                end\n",
    "                total_cost += 2              \n",
    "            end\n",
    "                        \n",
    "            if abs(dist[1]) == 0 && !(previous_function in Dominants_dependent || previous_function in Tonics_dependent || rhythm_map_local[i] == \"C\" || rhythm_map_local[i] == \"A\") \n",
    "                if debug\n",
    "                    println(\"Avoid dead bass\")\n",
    "                end\n",
    "                total_cost += 2              \n",
    "            end \n",
    "                    \n",
    "            if abs(previous_dist[1]) > 2 && abs(dist[1]) > 2\n",
    "                if sign(previous_dist[1]) == sign(dist[1])\n",
    "                    if debug\n",
    "                        println(\"Leaps in bass should be countered by a step-wise move in the other direction\")\n",
    "                    end\n",
    "                    total_cost += 2\n",
    "                end\n",
    "                total_cost += 2              \n",
    "            end\n",
    "                          \n",
    "            if abs(previous_dist[4]) > 2 && abs(dist[4]) > 2 \n",
    "                if sign(previous_dist[4]) == sign(dist[4])\n",
    "                    if debug\n",
    "                        println(\"Leaps in soprano should be countered by a step-wise move in the other direction\")\n",
    "                    end\n",
    "                    total_cost += 4\n",
    "                end\n",
    "                total_cost += 2             \n",
    "            end\n",
    "            \n",
    "            # MAYBE soprano should be encouraged to move in the same direction\n",
    "            #=\n",
    "            if sign(dist[4]) != sign(previous_dist[4]) && sign(dist[4]) != 0\n",
    "                total_cost += 4        \n",
    "            end\n",
    "            =#\n",
    "            #=            \n",
    "            # Encourage soprano to not switch back and forth\n",
    "            if abs(dist[1]) > 2\n",
    "                total_cost += 2         \n",
    "            end\n",
    "            =#            \n",
    "            #=\n",
    "            if abs(dist[4]) > 2 || dist[4] == 0\n",
    "                total_cost += 2         \n",
    "            end \n",
    "            =#\n",
    "        end\n",
    "\n",
    "        ### Voice specific rules\n",
    "        \n",
    "        # Avalanche check\n",
    "        if abs(reduce(+, map(x -> sign(x), dist))) == 4\n",
    "            if (rhythm_map_local[i] == \"A\" ||  rhythm_map_local[i] == \"C\") && reduce(+, map(x -> sign(x), dist)) == -4 && (abs(dist[4]) < 3)\n",
    "                total_cost = total_cost\n",
    "            else\n",
    "                if debug\n",
    "                    println(\"Avalanche\")\n",
    "                end\n",
    "                total_cost += 1000\n",
    "            end\n",
    "        end\n",
    "          \n",
    "        # Immediately return if cost > 1000\n",
    "        if total_cost > 999 && !debug\n",
    "            #candidateSequence.voicing_cost += total_cost\n",
    "            return total_cost \n",
    "        end\n",
    "\n",
    "        # voice movement cost = sum of all voices movement IF it exceeds 2 (step-wise motion has no cost)\n",
    "        total_cost += reduce(+, map(x -> abs(x) > 2 ? 3 : 0 , dist[2:3])) # Flat penalty for leaps in T, A\n",
    "        total_cost += reduce(+, map(x -> abs(x) > 2 ? 2 : 0 , dist[4])) # Flat penalty for leaps in S\n",
    "        total_cost += reduce(+, map(x -> abs(x) > 2 ? 4 : 0 , dist[1])) # Flat penalty for leaps in B,\n",
    "              \n",
    "        # Discourage voicing repetition ? \n",
    "        if (reduce(+, map(x -> abs(x), dist)) == 0)\n",
    "                    \n",
    "            if !(rhythm_map_local[i] == \"A\") #|| rhythm_map_local[i] == \"C\")\n",
    "                if debug\n",
    "                    println(\"Repetition\")\n",
    "                end\n",
    "                total_cost += 1000\n",
    "            end\n",
    "                \n",
    "            if rhythm_map_local[i] == \"A\" && !(i == size(rhythm_map_local, 1))\n",
    "                if debug\n",
    "                    println(\"Avoid repetition in authentic cadence until end\")\n",
    "                end\n",
    "                total_cost += 4             \n",
    "            end\n",
    "        end\n",
    "                \n",
    "        # Discourage doubling of the same MIDI note\n",
    "        active_notes = []\n",
    "        for voice in current_notes\n",
    "            push!(active_notes, voice[1])         \n",
    "        end\n",
    "        #println(active_notes)\n",
    "        if size(unique(active_notes), 1) != 4\n",
    "            total_cost += 5\n",
    "            if debug\n",
    "                println(\"Voices doubling the same MIDI note\")\n",
    "            end\n",
    "        end\n",
    "        \n",
    "        # Encourage opposite movement between bass and soprano\n",
    "        if sign(dist[1]) == sign(dist[4]) #&& dist[1] != 0\n",
    "            total_cost += 2\n",
    "        end\n",
    "             \n",
    "        # Mid voices must move < 8\n",
    "        if !(dist[2] < 8) || !(dist[3] < 8)\n",
    "            if debug\n",
    "                println(\"Mid voices must move < 8\")\n",
    "            end\n",
    "            total_cost += 1000\n",
    "        end\n",
    "        \n",
    "\n",
    "        # Outer voices should only move < 8\n",
    "        if !(abs(dist[1]) < 8) || !(abs(dist[4]) < 8)\n",
    "            total_cost += 2\n",
    "        end\n",
    "\n",
    "            \n",
    "        # Outer voices may move < 9 or 12 at a cost\n",
    "        if (abs(dist[1]) >= 8 && abs(dist[1]) != 12) || (abs(dist[1]) > 7 && abs(dist[1]) < 10 && previous_function != current_function) || (abs(dist[4]) >= 10 && abs(dist[4]) != 12)\n",
    "            if debug\n",
    "                println(\"Outer voices may move < 9 or 12 at a cost\")\n",
    "            end\n",
    "            total_cost += 1000\n",
    "        end\n",
    "\n",
    "        # Parallell primes, fifths and octaves are illegal (bevege seg samme retning i 0, 7)\n",
    "        if current_notes != previous_notes\n",
    "            pairs = [(1, 2), (2, 3), (3, 4), (1, 3), (2, 4), (1, 4)]\n",
    "            for (voice1, voice2) in pairs\n",
    "                if sign(dist[voice1]) == sign(dist[voice2]) && dist[voice1] != 0\n",
    "                    if abs(current_notes[voice1][1] - current_notes[voice2][1]) % 12 == 7 && abs(previous_notes[voice1][1] - previous_notes[voice2][1]) % 12 == 7\n",
    "                        total_cost += 1000\n",
    "                        if debug\n",
    "                            println(\"Parallell fifth\")\n",
    "                        end\n",
    "                    elseif abs(current_notes[voice1][1] - current_notes[voice2][1]) % 12 == 0 && abs(previous_notes[voice1][1] - previous_notes[voice2][1]) % 12 == 0\n",
    "                        total_cost += 1000\n",
    "                        if debug\n",
    "                            println(\"Parallell octave\")\n",
    "                        end\n",
    "                    # Parallell movement from diminished fifth to fifth is illegal\n",
    "                    elseif abs(current_notes[voice1][1] - current_notes[voice2][1]) % 12 == 7 && \n",
    "                            abs(previous_notes[voice1][1] - previous_notes[voice2][1]) % 12 == 6\n",
    "                        total_cost += 1000\n",
    "                        if debug\n",
    "                            println(\"Parallell tritone to fifth\")\n",
    "                        end                          \n",
    "                    end\n",
    "                end\n",
    "            end\n",
    "        end\n",
    "        \n",
    "        # Hidden parallell fifths and octaves are illegal WORKS!\n",
    "        if (sign(dist[1]) == sign(dist[4])) && abs(dist[4]) > 2 && ((abs(current_notes[1][1] - current_notes[4][1]) % 12 == 0) || (abs(current_notes[1][1] - current_notes[4][1]) % 12 == 7))\n",
    "            if debug\n",
    "                println(\"Hidden parallell fifths and octaves are illegal\")\n",
    "            end\n",
    "            total_cost += 1000\n",
    "        end\n",
    "                                \n",
    "        # Immediately return if cost > 1000\n",
    "\n",
    "        if total_cost > 999 && !debug\n",
    "            #candidateSequence.voicing_cost += total_cost\n",
    "            return total_cost\n",
    "        end\n",
    "        \n",
    "        ### Chord specific rules\n",
    "        ## Dominants               \n",
    "        \n",
    "        # From S to D, bass moves stepwise up while rest move shortest path down\n",
    "        if (previous_function == \"S\" && current_function == \"D\") && dist[1] != 2 && !(rhythm_map_local[i] == \"A\" || rhythm_map_local[i] == \"C\")\n",
    "            if debug\n",
    "                    println(\"From S to D, bass moves stepwise up while rest move shortest path down\")\n",
    "                end\n",
    "            total_cost += 1000\n",
    "        end\n",
    "                        \n",
    "        #if total_cost > 999 && !debug\n",
    "            #candidateSequence.voicing_cost += total_cost\n",
    "           #return total_cost \n",
    "        #end\n",
    "                        \n",
    "        # Leading note in D goes to root, except can leap down a 3rd to 5 in mid voices # WORKS ?           \n",
    "        if string(previous_function[1]) == \"D\" && (string(current_function[1]) == \"T\" && !(current_function == \"Ts\") && !(current_function == \"Tm\"))\n",
    "               \n",
    "            for (j, voice) in enumerate(previous_notes)\n",
    "                                \n",
    "                if rhythm_map_local[i] == \"A\" || rhythm_map_local[i] == \"C\" \n",
    "                    if voice[2] == 3 && !((current_notes[j][2] == 1 && dist[j] == 1) || \n",
    "                    (((current_notes[j][2] == 5 && dist[j] == -4)) && (j == 2 || j == 3) && (rhythm_map_local[current_index] == \"A\" || rhythm_map_local[current_index] == \"C\")))\n",
    "                        if debug\n",
    "                            println(\"The leading note must move to 1 (or down to 5 in cadence) in T\")\n",
    "                        end\n",
    "\n",
    "                        total_cost += 1000\n",
    "                    end\n",
    "                elseif voice[2] == 3 && current_notes[j][2] != 1 && dist[j] != 1\n",
    "                    if debug\n",
    "                        println(\"D->T: D:3 must resolve into T:1\")\n",
    "                    end\n",
    "                    total_cost += 1000\n",
    "                end\n",
    "            end\n",
    "                            \n",
    "        end\n",
    "                        \n",
    "        ## D7\n",
    "                                \n",
    "        if (previous_function == \"D7\" || previous_function == \"D7/3\" ||  previous_function == \"D7/5\" || \n",
    "                                    previous_function == \"D7/7\" || previous_function == \"D7-5\") && !(current_function == \"Ts\")              \n",
    "            for (j, voice) in enumerate(previous_notes)\n",
    "                \n",
    "                if voice[2] == 3 && !((current_notes[j][2] == 1 && (dist[j] == 1 || dist[j] == 2)) || \n",
    "                    (((current_notes[j][2] == 5 && dist[j] == -4)) && (j == 2 || j == 3) && (rhythm_map_local[current_index] == \"A\" || rhythm_map_local[current_index] == \"C\")))\n",
    "                    if debug\n",
    "                        println(\"D7: The leading note must resolve into 1 (or 5 if cadence) in T\") # tested\n",
    "                    end\n",
    "                    total_cost += 1000\n",
    "                end\n",
    "                if voice[2] == 7 && !(current_notes[j][2] == 3 && (dist[j] == -2 || dist[j] == -1))\n",
    "                    if debug\n",
    "                        println(\"D7: The 7 must resolve into 3 in T\") # tested\n",
    "                    end\n",
    "                    total_cost += 1000\n",
    "                end\n",
    "                if voice[2] == 1 && !((current_notes[j][2] == 1) || (current_notes[j][2] == 5))\n",
    "                    if debug\n",
    "                        println(\"D7: The 1 must go to 1 or 5 in T\") # tested\n",
    "                    end\n",
    "                    total_cost += 1000\n",
    "                end\n",
    "                \n",
    "            end                \n",
    "        end\n",
    "                                  \n",
    "        # D7/5: bassen må føres trinnvis inn og ut av akkorden, kvarten må føres med tonegjentakelse inn og ut\n",
    "        if previous_function == \"D7/5\"\n",
    "            \n",
    "            for (j, voice) in enumerate(previous_notes)\n",
    "                if voice[2] == 1 && !(dist[j] == 0)\n",
    "                    if debug\n",
    "                        println(\"D7/5: The root must remain stationary\") # tested\n",
    "                        \n",
    "                    end\n",
    "                    total_cost += 1000\n",
    "                end                       \n",
    "            end  \n",
    "                                            \n",
    "            if abs(dist[1]) > 2 \n",
    "                                            \n",
    "                if debug\n",
    "                    println(\"D7/5: The bass must move step-wise throughout the chord\") # tested\n",
    "                end\n",
    "                total_cost += 1000\n",
    "            end                \n",
    "        end\n",
    "                                        \n",
    "        if current_function == \"D7/5\"\n",
    "\n",
    "            for (j, voice) in enumerate(current_notes)\n",
    "                if voice[2] == 1 && !(dist[j] == 0)\n",
    "                    if debug\n",
    "                        println(\"D7/5: The root must remain stationary\") # Tested\n",
    "                        \n",
    "                    end\n",
    "                    total_cost += 1000\n",
    "                end                       \n",
    "            end  \n",
    "                                            \n",
    "            if abs(dist[1]) > 2 \n",
    "                                            \n",
    "                if debug\n",
    "                    println(\"D7/5: The bass must move step-wise throughout the chord\") # Tested\n",
    "                end\n",
    "                total_cost += 1000\n",
    "            end                                                             \n",
    "        end\n",
    "                                \n",
    "        #D7-1\n",
    "        \n",
    "        if previous_function == \"D7-1\" && !(current_function == \"Ts\" || current_function == \"D7\" || current_function == \"D7/3\" || current_function == \"D7/5\" || \n",
    "                                            current_function == \"D7/7\" || current_function == \"D7-1\")\n",
    "            sevencounter = 0\n",
    "            sevenvoice = []\n",
    "            for (j, voice) in enumerate(previous_notes)\n",
    "                if voice[2] == 3 && !((current_notes[j][2] == 1 && (dist[j] == 1 || dist[j] == 2)) || \n",
    "                    (((current_notes[j][2] == 5 && dist[j] == -4)) && (j == 2 || j == 3) && (rhythm_map_local[current_index] == \"A\" ||rhythm_map_local[current_index] == \"C\" )))\n",
    "                    if debug\n",
    "                        println(\"D7-1: The leading note must resolve into 1 (or 5 if cadence) in T\") # tested\n",
    "                    end\n",
    "                    total_cost += 1000\n",
    "                end\n",
    "                # The 7 in D7 must either go step-wise down or up\n",
    "                if voice[2] == 7\n",
    "                    sevencounter += 1\n",
    "                    push!(sevenvoice, j)\n",
    "                    if !(current_notes[j][2] == 3 && (dist[j] == -2 || dist[j] == -1) || \n",
    "                                    current_notes[j][2] == 5 && dist[j] == 2)\n",
    "                        if debug\n",
    "                            println(\"D7-1: The 7 must resolve step-wise into 3 or 5 in T\") # tested\n",
    "                        end\n",
    "                        total_cost += 1000\n",
    "                    end\n",
    "                end                \n",
    "            end\n",
    "\n",
    "            if sevencounter == 2 && (current_notes[sevenvoice[1]][2] == current_notes[sevenvoice[2]][2])\n",
    "                if debug\n",
    "                    println(\"D7-1: doubled septims must move in opposite directions\")\n",
    "                end\n",
    "                total_cost += 1000\n",
    "            end\n",
    "        end\n",
    "                            \n",
    "        ## /5 chords WORKS\n",
    "                        \n",
    "        # Bass and voice with /5 root must move max step-wise in and out.\n",
    "        if current_function == \"T/5\" || current_function == \"D/5\" || current_function == \"S/5\" \n",
    "\n",
    "            if abs(dist[1]) > 2 \n",
    "                total_cost += 1000  \n",
    "            end\n",
    "                            \n",
    "            for (j, voice) in enumerate(current_notes)\n",
    "                if voice[2] == 1 && abs(dist[j]) > 2\n",
    "                    total_cost += 1000\n",
    "                end\n",
    "            end\n",
    "        end\n",
    "                        \n",
    "        if previous_function == \"T/5\" || previous_function == \"D/5\" || previous_function == \"S/5\"\n",
    "            if abs(dist[1]) > 2 \n",
    "                total_cost += 1000 \n",
    "            end\n",
    "                            \n",
    "            for (j, voice) in enumerate(previous_notes)\n",
    "                if voice[2] == 1 && abs(dist[j]) > 2\n",
    "                    total_cost += 1000\n",
    "                end\n",
    "            end\n",
    "        end\n",
    "        \n",
    "        ## Augmented chords\n",
    "                        \n",
    "        if current_function != previous_function\n",
    "            # The 4 in 64 chords must be introduced stationary and resolved step-wise                \n",
    "            if current_function == \"T64\" || current_function == \"D64\"\n",
    "\n",
    "                for (j, voice) in enumerate(current_notes)\n",
    "                    if voice[2] == 4 && dist[j] != 0\n",
    "                        if debug\n",
    "                            println(\"4 is not stationary into augmented\")\n",
    "                        end\n",
    "                        total_cost += 1000\n",
    "                    end\n",
    "                    if voice[2] == 6 && abs(dist[j]) > 2\n",
    "                        if debug\n",
    "                            println(\"6 leaps into augmented\")\n",
    "                        end\n",
    "                        total_cost += 1\n",
    "                    end\n",
    "                end\n",
    "            end\n",
    "        end\n",
    "        if (previous_function == \"T64\" || previous_function == \"D64\") && current_function != previous_function \n",
    "            if dist[1] != 0\n",
    "                total_cost += 1000\n",
    "            end\n",
    "            # If same function class two timesteps ago\n",
    "            if string(current_function[1]) == string(ancient_function[1])\n",
    "                total_cost += 1000\n",
    "            end\n",
    "\n",
    "\n",
    "            for (j, voice) in enumerate(previous_notes)\n",
    "                if voice[2] == 4 && !(abs(dist[j]) < 3) && !(current_function == \"T54\" || current_function == \"D54\")\n",
    "                    if debug\n",
    "                        println(\"4 is not resolved step-wise down\")\n",
    "                    end\n",
    "                    total_cost += 1000\n",
    "                end\n",
    "                if voice[2] == 6 && !(abs(dist[j]) < 3)\n",
    "                    if debug\n",
    "                        println(\"6 is not resolved step-wise down\")\n",
    "                    end\n",
    "                    total_cost += 1000\n",
    "                end\n",
    "                if (voice[2] == 1 && dist[j] != 0) \n",
    "                    if debug\n",
    "                        println(\"Root notes must be stationary\")\n",
    "                    end\n",
    "                    total_cost += 1000                      \n",
    "                end\n",
    "            end\n",
    "        end\n",
    "                                    \n",
    "        # The 4 in T54 must be introduced stationary and resolved step-wise down\n",
    "        if (current_function == \"T54\" || current_function == \"D54\") \n",
    "\n",
    "            for (j, voice) in enumerate(current_notes)\n",
    "                if voice[2] == 4 && dist[j] != 0\n",
    "                    if debug\n",
    "                        println(\"4 is not stationary in augmented\")\n",
    "                    end\n",
    "                    total_cost += 1000\n",
    "                end\n",
    "            end\n",
    "        end\n",
    "\n",
    "        if (previous_function == \"T54\" || previous_function == \"D54\") && current_function != previous_function\n",
    "            if dist[1] != 0\n",
    "                if debug\n",
    "                    println(\"T54/D54: Bass must be stationary\")\n",
    "                end\n",
    "                total_cost += 1000 \n",
    "            end\n",
    "\n",
    "            #= \n",
    "            if string(current_function[1]) == string(ancient_function[1]) && !(ancient_function == \"D64\" || ancient_function == \"T64\")\n",
    "                if debug\n",
    "                    println(\"T54/D54: Not same function before and after\")\n",
    "                end\n",
    "                total_cost += 1000\n",
    "            end\n",
    "            =#\n",
    "\n",
    "            for (j, voice) in enumerate(previous_notes)\n",
    "                if voice[2] == 4 && !(abs(dist[j]) < 3)\n",
    "                    if debug\n",
    "                        println(\"4 is not resolved step-wise down\")\n",
    "                    end\n",
    "                    total_cost += 1000\n",
    "                end\n",
    "                if (voice[2] == 1 && dist[j] != 0) || (voice[2] == 5 && dist[j] != 0)\n",
    "                    if debug\n",
    "                        println(\"Root and fifth notes must be stationary\")\n",
    "                    end\n",
    "                    total_cost += 1000                      \n",
    "                end\n",
    "            end\n",
    "\n",
    "        end\n",
    "\n",
    "                                \n",
    "                            \n",
    "        ## /3 chords\n",
    "                                \n",
    "        if (previous_function == \"T/3\" && current_function == \"D/3\") || (previous_function == \"S/3\" && current_function == \"T/3\")                    \n",
    "            if sign(dist[1]) != sign(-1)                              \n",
    "                if debug\n",
    "                    println(\"T/3 -> D/3 or S/3 -> T/3 needs to have bass leaping downwards\")\n",
    "                end\n",
    "                total_cost += 1000\n",
    "            end\n",
    "        end\n",
    "                                \n",
    "        if (previous_function == \"T/3\" && current_function == \"S/3\")                  \n",
    "            if sign(dist[1]) != sign(1)                              \n",
    "                if debug\n",
    "                    println(\"T/3 -> S/3 needs to have bass leaping upwards\")\n",
    "                end\n",
    "                total_cost += 1000\n",
    "            end\n",
    "        end\n",
    "       \n",
    "        # /3 chords together are encouraged, but only if correct voicing is used\n",
    "        if i > 2 && (previous_function == \"T/3\" || previous_function == \"S/3\" || previous_function == \"D/3\")\n",
    "\n",
    "            if (ancient_function == \"T/3\" && previous_function == \"D/3\") || \n",
    "                (ancient_function == \"S/3\" && previous_function == \"T/3\") || \n",
    "                (ancient_function == \"T/3\" && previous_function == \"S/3\")\n",
    "                #total_cost -= 1\n",
    "                                \n",
    "                # Leaps in bass should be countered by a move in the other direction\n",
    "                if (abs(dist[1]) > 2)\n",
    "                    if debug\n",
    "                        println(\"Two /3 chords with a leap in bass need to be countered by a stepwise motion\")\n",
    "                    end\n",
    "                    total_cost += 1000          \n",
    "                end\n",
    "                if  (sign(previous_dist[1]) == sign(dist[1]))\n",
    "                    if debug\n",
    "                        println(\"Two /3 chords with a leap must be resolved with motion in the other direction\")\n",
    "                    end\n",
    "                    total_cost += 1000\n",
    "                end\n",
    "                if (sign(previous_dist[1]) == sign(previous_dist[4]))\n",
    "                    if debug\n",
    "                        println(\"Only use two /3 chords in motion when soprano is moving opposite to the bass or is flat\")\n",
    "                    end\n",
    "                    total_cost += 1000\n",
    "                end\n",
    "\n",
    "            end\n",
    "        end\n",
    "                                    \n",
    "                                     \n",
    "        ## Mediants\n",
    "                                    \n",
    "        # The 3 of D becomes 3 of Ts\n",
    "                               \n",
    "        if ((previous_function == \"D\" || previous_function == \"D7\"  || previous_function == \"D7-1\")  && current_function == \"Ts\")  \n",
    "                                        \n",
    "           for (j, voice) in enumerate(previous_notes)\n",
    "                if voice[2] == 3 && current_notes[j][2] != 3\n",
    "                    if debug\n",
    "                        println(\"D->Ts: 3 in D must resolve into 3 in Ts\")\n",
    "                    end\n",
    "                    total_cost += 1000\n",
    "                end\n",
    "            end                                     \n",
    "        end\n",
    "                               \n",
    "        # Increment candidateSequence.num_mediants if current_chord is mediant\n",
    "        if (current_function == \"Ts\" || current_function == \"Ss\" || current_function == \"Dm\" || current_function == \"Tm\")\n",
    "            candidateSequence.num_mediants += 1\n",
    "        end\n",
    "        \n",
    "        # No more than 4 mediants per 16 timesteps\n",
    "        if candidateSequence.num_mediants > 2\n",
    "            if debug\n",
    "                println(\"Too many mediants in the sequence.\")\n",
    "            end\n",
    "            total_cost += 1000\n",
    "        end\n",
    "                                    \n",
    "        # S65\n",
    "                                    \n",
    "        if current_function == \"S65\" || current_function == \"S65/6\"\n",
    "                                        \n",
    "            for (j, voice) in enumerate(current_notes)\n",
    "                if voice[2] == 6 && (abs(dist[j]) > 2)\n",
    "                    if debug\n",
    "                        println(\"S65: 6 must be introduced step-wise\")\n",
    "                    end\n",
    "                    total_cost += 1000\n",
    "                end\n",
    "                if voice[2] == 5 && (abs(dist[j]) != 0)\n",
    "                    if debug\n",
    "                        println(\"S65: 5 must be introduced stationary\")\n",
    "                    end\n",
    "                    total_cost += 1000\n",
    "                end\n",
    "\n",
    "            end     \n",
    "\n",
    "        end\n",
    "                                    \n",
    "        if previous_function == \"S65\"\n",
    "            fifth = 0\n",
    "            sixth = 0\n",
    "            for (j, voice) in enumerate(previous_notes)\n",
    "                if voice[2] == 6\n",
    "                    sixth = j\n",
    "\n",
    "                end\n",
    "                if voice[2] == 5\n",
    "                    fifth = j\n",
    "                end\n",
    "            end     \n",
    "\n",
    "            if !(abs(dist[fifth]) == 0 && abs(dist[sixth]) < 3 || abs(dist[sixth]) == 0 && abs(dist[fifth]) < 3) \n",
    "\n",
    "                total_cost += 1000\n",
    "                if debug\n",
    "                    println(\"S65: 5 and 6 must be resolved in oblique motion\")\n",
    "                end\n",
    "            end\n",
    "        end\n",
    "                                    \n",
    "        if previous_function == \"S65\" && rhythm_map_local[size(child, 1) - 1] == \"W\"\n",
    "                                        \n",
    "            if !(current_function == \"D64\" || current_function == \"T/5\")\n",
    "                total_cost += 1000\n",
    "                if debug\n",
    "                    println(\"S65: On weak beat must resolve into D64 or T/5\")\n",
    "                end \n",
    "            end\n",
    "        end\n",
    "                                                                \n",
    "        if current_function == \"S6\"\n",
    "                                       \n",
    "            for (j, voice) in enumerate(current_notes)\n",
    "                if voice[2] == 6 && (abs(dist[j]) > 2)\n",
    "                    if debug\n",
    "                        println(\"S6: 6 should be introduced step-wise\")\n",
    "                    end\n",
    "                    total_cost += 2\n",
    "                end   \n",
    "\n",
    "            end\n",
    "        end\n",
    "                                    \n",
    "       if previous_function == \"S6\" \n",
    "                                       \n",
    "            for (j, voice) in enumerate(current_notes[2:4])\n",
    "                if sign(dist[j]) != sign(-1) || dist[j] != 0\n",
    "                    if debug\n",
    "                        println(\"S6: Upper voices must resolve downwards\")\n",
    "                    end\n",
    "                    total_cost += 1000\n",
    "                end   \n",
    "\n",
    "            end\n",
    "        end                             \n",
    "                \n",
    "        ## Enforce spread chord on last (counting) timestep            \n",
    "        if rhythm_map_local[size(child, 1)] == \"A\" && (size(child, 1) == size(rhythm_map_local, 1)-1)\n",
    "                                      \n",
    "            current_notes = deepcopy(child[i][3])\n",
    "            list = []\n",
    "            for i in 1:4\n",
    "                push!(list, current_notes[i][1])\n",
    "            end\n",
    "            if size(unique(list), 1) != 4\n",
    "                total_cost += 1000\n",
    "                if debug\n",
    "                    println(\"Final chord should be spread\")\n",
    "                end\n",
    "            end\n",
    "                                                                \n",
    "            #=\n",
    "            if sign(dist[1]) != sign(-1)\n",
    "               total_cost += 1000\n",
    "                if debug\n",
    "                    println(\"Final chord should have descending bass\")\n",
    "                end                         \n",
    "            end\n",
    "            =#\n",
    "        end\n",
    "                                    \n",
    "        if rhythm_map_local[size(child, 1) - 1] == \"C\" && rhythm_map_local[size(child, 1)] != \"C\" && dist[4] == 0\n",
    "            total_cost += 1000\n",
    "                if debug\n",
    "                    println(\"C: Soprano should not rest after a cadence.\")\n",
    "                end\n",
    "        end      \n",
    "                                    \n",
    "        if rhythm_map_local[size(child, 1)-1] == \"C\" && rhythm_map_local[size(child, 1)] == \"C\" && dist[4] != 0\n",
    "            total_cost += 4\n",
    "                if debug\n",
    "                    println(\"C: Soprano rest in a cadence.\")\n",
    "                end\n",
    "        end                                \n",
    "                                       \n",
    "    end                                 \n",
    "                                        \n",
    "    return total_cost\n",
    "        \n",
    "end"
   ]
  },
  {
   "cell_type": "code",
   "execution_count": 13,
   "metadata": {},
   "outputs": [
    {
     "data": {
      "text/plain": [
       "distance_cost (generic function with 2 methods)"
      ]
     },
     "execution_count": 13,
     "metadata": {},
     "output_type": "execute_result"
    }
   ],
   "source": [
    "# Rate the voicing permutation with regards to the original score\n",
    "function distance_cost(data, voicing_permutation, original_timestep, debug=false)\n",
    "\n",
    "    local_dist = 0\n",
    "    voices = voicing_permutation[end][3]\n",
    "    active_notes = getActiveNotes(data, original_timestep)\n",
    "    \n",
    "    if debug\n",
    "        println(\"Active notes: \", active_notes)\n",
    "        println(\"Voicing: \", voices)\n",
    "    end\n",
    "    \n",
    "    if isempty(active_notes)\n",
    "        return local_dist\n",
    "    end\n",
    "    for (i, voice) in enumerate(voices)\n",
    "        \n",
    "        if i == 1\n",
    "            local_dist += abs(active_notes[1] - voice[1])\n",
    "            if debug\n",
    "                println(\"Bass distance: \", abs(active_notes[1] - voice[1]))\n",
    "            end\n",
    "        #=\n",
    "        elseif i == 2 || i == 3\n",
    "            if debug\n",
    "                println(\"Mid-voice distance: \", minimum([abs(active_note - voice[1]) for active_note in active_notes]))\n",
    "            end\n",
    "            total_dist += minimum([abs(active_note - voice[1]) for active_note in active_notes])\n",
    "        =#\n",
    "        elseif i == 4\n",
    "            local_dist += abs(active_notes[end] - voice[1])\n",
    "            if debug\n",
    "                println(\"Soprano distance: \", abs(active_notes[end] - voice[1]))\n",
    "            end\n",
    "        end\n",
    "    end\n",
    "    \n",
    "    # To normalize voicing costs, divide by 12 and round to nearest integer\n",
    "        \n",
    "    local_dist = floor(Int, local_dist / 12)\n",
    "            \n",
    "    return local_dist\n",
    " \n",
    "end"
   ]
  },
  {
   "cell_type": "code",
   "execution_count": 14,
   "metadata": {},
   "outputs": [
    {
     "data": {
      "text/plain": [
       "0-element Array{Any,1}"
      ]
     },
     "execution_count": 14,
     "metadata": {},
     "output_type": "execute_result"
    }
   ],
   "source": [
    "# Build MinList as we go, for every function sequence pruned at depth i or completed, update its cost-to-end in 2-D table per timestep\n",
    "function initialiseBetterHeuristic(function_permutations, num_timesteps)\n",
    "    \n",
    "    num_functions = size(function_permutations, 1)\n",
    "    \n",
    "    estimatorcontainer = fill(Int16(-1), (num_timesteps-1, num_functions, num_functions, num_functions))\n",
    "\n",
    "    voicingindeces = Dict{Array{Tuple{UInt16,UInt16}, 1}, Integer}()\n",
    "    for (i, voicing) in enumerate(function_permutations)\n",
    "        voicingindeces[voicing] = i\n",
    "    end\n",
    "   \n",
    "    return estimatorcontainer, voicingindeces\n",
    "end\n",
    "\n",
    "estimatorcontainer = []\n",
    "    \n"
   ]
  },
  {
   "cell_type": "markdown",
   "metadata": {},
   "source": [
    "# # DFS Branch and Bound ALL IN ONE"
   ]
  },
  {
   "cell_type": "code",
   "execution_count": 15,
   "metadata": {},
   "outputs": [
    {
     "data": {
      "text/plain": [
       "prepare (generic function with 1 method)"
      ]
     },
     "execution_count": 15,
     "metadata": {},
     "output_type": "execute_result"
    }
   ],
   "source": [
    "function prepare(data, time_signature, functions, function_potential, function_potential_unsorted, \n",
    "        voicing_permutations, voicing_permutations_raw, valid_function_table, phase, previous_sequence)\n",
    "        \n",
    "    leading_end = Dominants\n",
    "    start = [\"T\"]\n",
    "\n",
    "    function_potential = function_potential[1:size(data, 2)]\n",
    "    voicing_permutations = voicing_permutations\n",
    "    rhythm_map = rhythmify(time_signature, data)\n",
    "    \n",
    "    # Locate and enforce important events (start, cadences)\n",
    "    if phase == 1\n",
    "        start_index = findfirst(x -> x == \"S\", rhythm_map) \n",
    "        #final_index = findlast(x -> x == \"S\" || x == \"W\", rhythm_map)\n",
    "        final_index = findlast(x -> x == \"S\", rhythm_map)\n",
    "        #cadence_index = findlast(x -> x == \"W\" || x == \"S\", rhythm_map[1:final_index-1])  \n",
    "        cadence_index = findlast(x -> x == \"W\", rhythm_map[1:final_index-1])  \n",
    "         \n",
    "        # Set start as the Tonic\n",
    "        filter!(x -> x[2] in start, function_potential[start_index])\n",
    "            \n",
    "        for i in cadence_index:size(data, 2)\n",
    "            rhythm_map[i] = \"C\" # Any cadence\n",
    "        end\n",
    "\n",
    "    elseif phase == 2\n",
    "        # Set last two functions as tonic for ending\n",
    "        filter!(x -> x[2] in start, function_potential[end])\n",
    "        filter!(x -> x[2] in start, function_potential[end-1])\n",
    "        filter!(x -> x[2] in [\"D\", \"D7\"], function_potential[end-2])\n",
    "            \n",
    "        final_index = findlast(x -> x == \"S\", rhythm_map)\n",
    "        #cadence_index = findlast(x -> x == \"S\" || x == \"W\", rhythm_map[1:final_index-1]) \n",
    "        cadence_index = findlast(x -> x == \"S\", rhythm_map[1:final_index-1]) \n",
    "        #cadence_index = final_index\n",
    "        for i in cadence_index:size(data, 2)\n",
    "            rhythm_map[i] = \"A\" # Authentic cadence\n",
    "        end\n",
    "    end\n",
    "               \n",
    "    println(\"Rhythm map: \", rhythm_map, \" size: \", size(rhythm_map))\n",
    "    \n",
    "    \n",
    "    # Prune function_potential by beat restrictions for each chord\n",
    "    for (i, potential) in enumerate(function_potential)\n",
    "        for (j, (cost, chord)) in enumerate(potential)\n",
    "            if !(rhythm_map[i] in functions[chord][4])\n",
    "                filter!(x -> x[2] != chord, potential)\n",
    "            end\n",
    "        end\n",
    "    end\n",
    "        \n",
    "    activeset = candidateSequence[]\n",
    "    score = []\n",
    "    if phase == 1\n",
    "        # Func : (cost, function) Find and sort the voicings for the first timestep\n",
    "        for (cost, func) in function_potential[1]\n",
    "            for potential_voicing in voicing_permutations[func]\n",
    "                temp = [(cost, func, potential_voicing)]\n",
    "                local_cost = distance_cost(data, temp, 1, false)\n",
    "                temp = [local_cost, (cost, func, potential_voicing)]\n",
    "                push!(score, temp)\n",
    "            end\n",
    "        end\n",
    "        \n",
    "         # Find best starting points\n",
    "        score = sort!(score, by = x->x[1], rev=true)\n",
    "        best_score = score[end][1]\n",
    "        for entry in score\n",
    "            if entry[1] == best_score\n",
    "                start_point = [entry[2]]\n",
    "                startCandidate = candidateSequence()\n",
    "                startCandidate.sequence = start_point\n",
    "                startCandidate.function_cost = 0\n",
    "                startCandidate.voicing_cost = 0\n",
    "                startCandidate.num_mediants = 0\n",
    "                startCandidate.total_cost = 0\n",
    "                startCandidate.total_cost_per_timestep = [0 for x in 1:size(data, 2)]\n",
    "                startCandidate.function_cost_per_timestep = [0 for x in 1:size(data, 2)]\n",
    "                startCandidate.same_note = [0, 0, 0, 0]\n",
    "                startCandidate.last_four = [\"T\"]\n",
    "                startCandidate.last_soprano = []\n",
    "                startCandidate.last_cadence = \"X\"\n",
    "                push!(startCandidate.last_soprano, startCandidate.sequence[end][3][4][1])\n",
    "                push!(activeset, startCandidate)\n",
    "            end\n",
    "        end\n",
    "    else\n",
    "        startCandidate = candidateSequence()\n",
    "        startCandidate.sequence = previous_sequence\n",
    "        startCandidate.function_cost = 0\n",
    "        startCandidate.voicing_cost = 0\n",
    "        startCandidate.num_mediants = 0\n",
    "        startCandidate.total_cost = 0\n",
    "        startCandidate.total_cost_per_timestep = [0 for x in 1:size(data, 2)]\n",
    "        startCandidate.function_cost_per_timestep = [0 for x in 1:size(data, 2)]\n",
    "        startCandidate.same_note = [0, 0, 0, 0]\n",
    "        startCandidate.last_four = []\n",
    "        startCandidate.last_soprano = []\n",
    "        startCandidate.last_cadence = \"X\"\n",
    "        push!(startCandidate.last_soprano, previous_sequence[end][3][4][1])\n",
    "        push!(startCandidate.last_four, previous_sequence[end][2])\n",
    "        push!(activeset, startCandidate)\n",
    "    end\n",
    "\n",
    "    best_solution, estimator, voicingindeces, cost  = BB(function_potential, function_potential_unsorted, rhythm_map, data, voicing_permutations, \n",
    "                voicing_permutations_raw, valid_function_table, phase, activeset, previous_sequence)\n",
    "\n",
    "    return best_solution, cost\n",
    "end"
   ]
  },
  {
   "cell_type": "code",
   "execution_count": 16,
   "metadata": {},
   "outputs": [
    {
     "data": {
      "text/plain": [
       "BB (generic function with 1 method)"
      ]
     },
     "execution_count": 16,
     "metadata": {},
     "output_type": "execute_result"
    }
   ],
   "source": [
    "function BB(function_potential, function_potential_unsorted, rhythm_map, data, voicing_permutations, \n",
    "        voicing_permutations_raw, valid_function_table, phase, activeset, previous_sequence)\n",
    "        \n",
    "    # Initialize global search variables\n",
    "    best_solution = []\n",
    "    best_score = 0\n",
    "    total_depth = size(data, 2)\n",
    "    println(\"Amount of timesteps to optimise: \", total_depth)\n",
    "    \n",
    "    ##### TEST ZONE new heuristic\n",
    "    println(\"Building lookup-table list...\")\n",
    "    # Estimator: [t, ancient_chord][prev_chord, current_chord]\n",
    "    estimator = []\n",
    "    estimator, voicingindeces = initialiseBetterHeuristic(voicing_permutations_raw, total_depth)\n",
    "    println(\"Lookup-table built.\")\n",
    "    #####\n",
    "    \n",
    "    # Populate active set with all permutations of the possible first functions\n",
    "    \n",
    "    score = []\n",
    "    \n",
    "    bestval_func = 499\n",
    "    bestval_voices = 499\n",
    "    println(\"Initial function score upper bound: \", bestval_func, \", voicing score upper bound: \", bestval_voices)\n",
    "    solution_list = []\n",
    "\n",
    "    # TEST ZONE: Manually set desired function at timestep [T]\n",
    "    \n",
    "    #function_potential[5] = [(0, \"D64\")]\n",
    "    #function_potential[5] = [(0, \"S65\")]\n",
    "    #function_potential_local[8] = [(0, \"T\")]\n",
    "    #function_potential[12] = [(0, \"T\")]\n",
    "    #function_potential[13] = [(0, \"S\")]\n",
    "    #function_potential[14] = [(0, \"D64\")]\n",
    "    #function_potential[15] = [(0, \"D\")]\n",
    "    \n",
    "\n",
    "    iterations = 0\n",
    "    pruned = 0\n",
    "    processed = 0\n",
    "    solutions = 0\n",
    "    last_solution = 0\n",
    "\n",
    "    \n",
    "    println(\"Starting search...\")\n",
    "    \n",
    "    start = time()\n",
    "    prev_depth = 1\n",
    "    hit_bottom = false\n",
    "    lowest_depth = total_depth\n",
    "    best_solution = 0\n",
    "    minlist = [0 for x in 1:total_depth+1]\n",
    "    \n",
    "    # Test best first\n",
    "    wait_list = candidateSequence[]\n",
    "    #\n",
    "    done_list = Array{candidateSequence, 1}[[] for i=1:total_depth]\n",
    "    dead_list = Array{candidateSequence, 1}[[] for i=1:total_depth]\n",
    "    while !isempty(activeset)\n",
    "        \n",
    "        iterations += 1\n",
    "        active_node = pop!(activeset)\n",
    "\n",
    "        depth = size(active_node.sequence, 1)\n",
    "        child_depth = depth+1\n",
    "        \n",
    "        if hit_bottom\n",
    "           if depth < lowest_depth\n",
    "                lowest_depth = depth\n",
    "            end\n",
    "        end\n",
    "        # Before continuing, check if we need to update lookup table\n",
    "        if depth < prev_depth \n",
    "            # Propagate all others\n",
    "            \n",
    "            for i in Iterators.reverse(depth:total_depth-1)\n",
    "                if !isempty(done_list[i])\n",
    "                    done_list[i] = sort!(done_list[i], by = c -> c.total_cost)\n",
    "                end\n",
    "            \n",
    "                best = 0\n",
    "\n",
    "                while !isempty(done_list[i])\n",
    "                    candidate = popfirst!(done_list[i])\n",
    "\n",
    "                    if best == 0\n",
    "                        best = candidate\n",
    "                        if minlist[i+1] > candidate.total_cost_per_timestep[end] - candidate.total_cost_per_timestep[i] || minlist[i+1] == 0\n",
    "                            minlist[i+1] = candidate.total_cost_per_timestep[end] - candidate.total_cost_per_timestep[i]\n",
    "                        end\n",
    "                    end\n",
    "                        \n",
    "                    curr = voicingindeces[candidate.sequence[i][3]]\n",
    "                    prev = curr\n",
    "                    anc = curr\n",
    "                    if i >= 2\n",
    "                        prev = voicingindeces[candidate.sequence[i-1][3]]\n",
    "                        if i >= 3\n",
    "                            anc = voicingindeces[candidate.sequence[i-2][3]]\n",
    "                        else\n",
    "                            anc = prev\n",
    "                        end\n",
    "                    else\n",
    "                        prev = curr\n",
    "                    end\n",
    "                    \n",
    "                    cost_to_end = candidate.total_cost_per_timestep[end] - candidate.total_cost_per_timestep[i]\n",
    "                    currentval = estimator[i, anc, prev, curr]\n",
    "                    if currentval == -1 || (cost_to_end <= currentval && best.total_cost <= candidate.total_cost)\n",
    "\n",
    "                        estimator[i, anc, prev, curr] = cost_to_end\n",
    "                        if i > 1\n",
    "                            push!(done_list[i-1], candidate)\n",
    "                        end\n",
    "                    else\n",
    "                        continue\n",
    "                    end  \n",
    "                 end\n",
    "            end\n",
    "        end\n",
    "        \n",
    "        \n",
    "        # Generate children of active_node and corresponding optimistic bounds\n",
    "        #for (cost, func) in function_potential_local[depth+1]\n",
    "        for (cost, func) in Iterators.reverse(function_potential[depth+1]) \n",
    "        \n",
    "            #active_node.sequence = (cost, func, voicings)\n",
    "            # Initialise new candidate without voicings just to check for function legality\n",
    "            newCandidate = candidateSequence()\n",
    "            newCandidate.sequence = active_node.sequence\n",
    "            newCandidate.function_cost = active_node.function_cost\n",
    "            newCandidate.function_cost_per_timestep = active_node.function_cost_per_timestep\n",
    "            newCandidate.voicing_cost = active_node.voicing_cost\n",
    "            newCandidate.total_cost_per_timestep = active_node.total_cost_per_timestep\n",
    "            newCandidate.num_mediants = active_node.num_mediants\n",
    "            newCandidate.same_note = active_node.same_note\n",
    "            newCandidate.last_four = active_node.last_four\n",
    "            newCandidate.last_soprano = active_node.last_soprano\n",
    "            newCandidate.last_cadence = active_node.last_cadence\n",
    "            \n",
    "            temp_child = (cost, func, active_node.sequence[end][3])\n",
    "            push!(newCandidate.sequence, temp_child)\n",
    "            child_depth = size(newCandidate.sequence, 1)\n",
    "                \n",
    "            newCandidate.function_cost = function_cost(newCandidate, rhythm_map, valid_function_table) \n",
    "            newCandidate.function_cost_per_timestep[child_depth] = newCandidate.function_cost\n",
    "\n",
    "            # Get voicing indeces for previous timesteps to use for heuristic lookup table\n",
    "            # Prev = active_note depth, Ancient = prev - 1\n",
    "            i_previous_voicing = voicingindeces[newCandidate.sequence[end-1][3]]\n",
    "            \n",
    "            if child_depth > 2\n",
    "                i_anc_voicing = voicingindeces[newCandidate.sequence[end-2][3]]\n",
    "            else\n",
    "                i_anc_voicing = i_previous_voicing\n",
    "            end\n",
    "                            \n",
    "            # If illegal, or if the chosen function can not possibly improve upon the best function chain found, prune it\n",
    "            \n",
    "            if newCandidate.function_cost > 999 \n",
    "                pruned += 1                              \n",
    "                # Mark all function voicings as invalid for the current combination as invalid\n",
    "\n",
    "                if child_depth != total_depth\n",
    "                    for v in voicing_permutations[func]\n",
    "                        v_index = voicingindeces[v]\n",
    "                        if estimator[child_depth, i_anc_voicing, i_previous_voicing, v_index] == -1\n",
    "                            estimator[child_depth, i_anc_voicing, i_previous_voicing, v_index] = 1000\n",
    "                        end\n",
    "                    end\n",
    "                end\n",
    "\n",
    "                deleteat!(newCandidate.sequence, size(newCandidate.sequence, 1))\n",
    "                continue\n",
    "            else\n",
    "            \n",
    "                deleteat!(newCandidate.sequence, size(newCandidate.sequence, 1))\n",
    "            end\n",
    "            \n",
    "            # Child : [(func1_cost, \"func1_name\", [func1_voicing_list], func1_total_func_cost, func1_total_voice_cost, func1_distance_cost), (function2_cost, \"function2_name\", , [function2_voicing_list]), ...]\n",
    "            for voicing in voicing_permutations[func]\n",
    "                \n",
    "                #Create child with full voicing information\n",
    "                child = deepcopy(newCandidate)\n",
    "                temp_child = (cost, func, voicing)\n",
    "                push!(child.sequence, temp_child)\n",
    "                solution_found = false\n",
    "                                        \n",
    "                i_curr_voicing = voicingindeces[child.sequence[end][3]]\n",
    "                # Calculate current voicing cost\n",
    "                child.voicing_cost = voicing_cost(child, rhythm_map, data, false, false)\n",
    "                  \n",
    "                \n",
    "                # Calculate child total cost (function + voice)\n",
    "                child.total_cost = child.function_cost + child.voicing_cost\n",
    "                child.total_cost_per_timestep[child_depth] = child.total_cost\n",
    "                \n",
    "                \n",
    "\n",
    "                if child_depth == total_depth\n",
    "                        child_heuristic = 0          \n",
    "                    else\n",
    "                        child_heuristic = estimator[child_depth, i_anc_voicing, i_previous_voicing, i_curr_voicing][1]                 \n",
    "                end\n",
    "                                        \n",
    "                # Get heuristic. If -1, it has not been explored yet and should be replaced with x*remaining_timesteps (x = 0, 1, ..., adjustable!)                                                 \n",
    "                if child_heuristic == -1\n",
    "                    child_total_heuristic = 0*((total_depth-1) - child_depth)   #(15 * (total_depth-1) - child_depth # Inaccurate heuristic, but ensures a solution of a certain quality\n",
    "                    child_estimated_cost = child.total_cost + child_total_heuristic\n",
    "                else\n",
    "                    child_estimated_cost = child.total_cost + child_heuristic\n",
    "                    new_prop = true\n",
    "                end \n",
    "\n",
    "                processed += 1\n",
    "                if child_estimated_cost >= bestval_func + bestval_voices || child.total_cost + minlist[child_depth+1] > bestval_func + bestval_voices\n",
    "                    \n",
    "\n",
    "                    # Update estimator lookup table with cost of last-step + estimated cost if est is not -1\n",
    "                    if child_depth != total_depth \n",
    "                        if estimator[child_depth, i_anc_voicing, i_previous_voicing, i_curr_voicing] == -1\n",
    "                            estimator[child_depth, i_anc_voicing, i_previous_voicing, i_curr_voicing] = 1000\n",
    "                        end \n",
    "                    end  \n",
    "                                   \n",
    "                    deleteat!(child.sequence, size(child.sequence, 1))\n",
    "                    pruned += 1 \n",
    "                \n",
    "                elseif child_depth == total_depth\n",
    "                    hit_bottom = true\n",
    "                    solutions += 1\n",
    "                    prev = voicingindeces[child.sequence[end-1][3]]\n",
    "                    anc = voicingindeces[child.sequence[end-2][3]]\n",
    "                    ancanc = voicingindeces[child.sequence[end-3][3]]\n",
    "                                                    \n",
    "                                                 \n",
    "                    old = estimator[child_depth-1, ancanc, anc, prev]\n",
    "                    new = child.total_cost_per_timestep[child_depth] - child.total_cost_per_timestep[child_depth-1]\n",
    "                    if old == -1 || new < old\n",
    "                        estimator[child_depth-1, ancanc, anc, prev] = \n",
    "                                                    (child.total_cost_per_timestep[child_depth] - child.total_cost_per_timestep[child_depth-1])\n",
    "                        solution_found = true\n",
    "                        currentbest = child\n",
    "                    end\n",
    "                                                \n",
    "                    # Update estimator lookup table with cost of last-step only # KAN HENDE DEN MÅ PROPAGERE OGSÅ ETTER NODE SLUTT\n",
    "                    \n",
    "                    #println(estimator[child_depth, i_previous_voicing, :])\n",
    "                            \n",
    "                    if child.total_cost < bestval_func + bestval_voices\n",
    "                                        \n",
    "                        last_solution = iterations\n",
    "                        currentbest = child\n",
    "                        solution_found = true\n",
    "                        bestval_func = child.function_cost\n",
    "                        bestval_voices = child.voicing_cost \n",
    "                        best_solution = child\n",
    "                        pushfirst!(solution_list, child)\n",
    "\n",
    "                               \n",
    "                        println(\"New solution\")\n",
    "                        println(\"function cost: \", child.function_cost)\n",
    "                        println(\"child voicing cost: \", child.voicing_cost)\n",
    "                        println(\"Best yet: \", bestval_func + bestval_voices)                                  \n",
    "                    end\n",
    "                else                                \n",
    "                        \n",
    "                    ### TEST\n",
    "                    push!(wait_list, child)\n",
    "                    #push!(activeset, child)\n",
    "                end\n",
    "                     \n",
    "                #Can safely prop if active_node at penultimate step\n",
    "                #if child_depth == total_depth\n",
    "                if solution_found\n",
    "                    push!(done_list[total_depth-1], currentbest)                                   \n",
    "                end\n",
    "                \n",
    "            end\n",
    "        end\n",
    "        \n",
    "        wait_list = sort!(wait_list, by = c -> c.total_cost)\n",
    "                                            \n",
    "        while !isempty(wait_list)\n",
    "            push!(activeset, pop!(wait_list))                               \n",
    "        end\n",
    "        \n",
    "        if iterations % 10000 == 0\n",
    "            println(\"Iterations done: \", iterations)\n",
    "            println(\"Nodes in active set: \", size(activeset, 1))\n",
    "            println(\"Lowest depth: \", lowest_depth, \" current depth: \", depth)\n",
    "        end     \n",
    "            \n",
    "        if  iterations == 500000\n",
    "            println(\"Timed out\")\n",
    "            #display(activeset)\n",
    "            for timestep in done_list\n",
    "                if !isempty(timestep)\n",
    "                    for candidate in timestep\n",
    "                        display(candidate)\n",
    "                    end\n",
    "                end\n",
    "            end   \n",
    "            display(minlist)\n",
    "            break\n",
    "        end\n",
    "        prev_depth = depth     \n",
    "    end\n",
    "    \n",
    "    elapsed = time() - start\n",
    "    println(\"##: Done. Total checked: \", processed, \", Pruned: \", pruned, \", completed: \", solutions, \", time: \", elapsed, \", efficiency: \", (solutions)/elapsed)\n",
    "    println(\"Results: bestval_func: \", bestval_func, \", bestval_voices: \", bestval_voices)\n",
    "    return solution_list, estimator, voicingindeces, bestval_func+bestval_voices\n",
    "end\n",
    "\n",
    "#estimator = []\n",
    "#solution_list, estimator, voicingindeces = prepare(data[:, 1:16], functions, function_potential, function_potential_unsorted)\n",
    "    \n",
    "#plant = 1\n",
    "#println(plant)\n",
    "                                       "
   ]
  },
  {
   "cell_type": "code",
   "execution_count": 17,
   "metadata": {},
   "outputs": [
    {
     "data": {
      "text/plain": [
       "4-element Array{String,1}:\n",
       " \"D\"  \n",
       " \"D-5\"\n",
       " \"D64\"\n",
       " \"D54\""
      ]
     },
     "execution_count": 17,
     "metadata": {},
     "output_type": "execute_result"
    }
   ],
   "source": [
    "#Global Initialisations\n",
    "mutable struct candidateSequence\n",
    "    sequence::Array{Tuple{Int8,String,Array{Tuple{Int16,Int16},1}},1}\n",
    "    function_cost::Int16\n",
    "    voicing_cost::Int16\n",
    "    total_cost::Int16\n",
    "    total_cost_per_timestep::Array{Int16,1}\n",
    "    function_cost_per_timestep::Array{Int16,1}\n",
    "    num_mediants::Int8\n",
    "    same_note::Array{Int8, 1}\n",
    "    last_four::Array{String, 1}\n",
    "    last_soprano::Array{Int8, 1}\n",
    "    last_cadence::String\n",
    "    candidateSequence() = new()\n",
    "end\n",
    "\n",
    "Tonics = [\"T\", \"T/3\", \"T/5\", \"T-5\"]\n",
    "Tonics_dependent = [\"T64\", \"T54\"]\n",
    "Subdominants = [\"S\", \"S/3\", \"S/5\", \"S65\", \"S65/6\", \"S6\"]\n",
    "Dominants = [\"D\", \"D/3\", \"D/5\", \"D-5\", \"D7\", \"D7-1\", \"D7-5\", \"D7/3\", \"D7/5\", \"D7/7\", \"D64\", \"D54\"]\n",
    "Authentic_Dominants = [\"D\", \"D7\"]\n",
    "Dominants_dependent = [\"D64\", \"D54\"]\n",
    "Mediants = [\"Ts\", \"Tm\", \"Ss\", \"Dm\"]\n",
    "beat_accentuation = Dict(\"O\" => 1, \"W\" => 2, \"S\" => 3, \"A\" => 4, \"C\" => 4)\n",
    "dominant_order = Dict(\"D\" => 3, \"D/3\" => 3, \"D/5\" => 3, \"D-5\" => 3, \"D64\" => 1, \"D54\" => 2, \"D7\" => 5, \"D7-1\" => 4, \"D7-5\" => 5, \"D7/3\" => 5, \"D7/5\" => 5, \"D7/7\" => 5)\n",
    "precursor_dominants = [\"D\", \"D-5\", \"D64\", \"D54\"]"
   ]
  },
  {
   "cell_type": "code",
   "execution_count": 18,
   "metadata": {},
   "outputs": [
    {
     "data": {
      "text/plain": [
       "0-element Array{Any,1}"
      ]
     },
     "execution_count": 18,
     "metadata": {},
     "output_type": "execute_result"
    }
   ],
   "source": [
    "# time_signature = (beat, subdivision): (3,2), (4,2) supported\n",
    "\n",
    "function optimiseMusic(filepath, time_signature)\n",
    "    \n",
    "    previous_sequence = []\n",
    "    first_part = 0\n",
    "    second_part = 0\n",
    "    start = time()\n",
    "    scale = 0\n",
    "    estimator = 0\n",
    "    voicingindeces = 0\n",
    "    elapsed = 0\n",
    "    total = 0\n",
    "    key = 0\n",
    "    total_cost = 0\n",
    "    for i in 1:2\n",
    "        # Retrieve and analyse distribution of input data\n",
    "        phase = i\n",
    "        if time_signature == (4,2)\n",
    "            if phase == 1 \n",
    "                startindex = 1\n",
    "                finalindex = 16\n",
    "            elseif phase == 2\n",
    "                startindex = 16\n",
    "                finalindex = 32\n",
    "            end\n",
    "        elseif time_signature == (3,2)\n",
    "            if phase == 1 \n",
    "                startindex = 1\n",
    "                finalindex = 12\n",
    "            elseif phase == 2\n",
    "                startindex = 12\n",
    "                finalindex = 24\n",
    "            end \n",
    "        end            \n",
    "                    \n",
    "        full_data, data = initialiseData(filepath, startindex, finalindex)\n",
    "        tonal_map = createTonalMap(full_data)\n",
    "        println(tonal_map)\n",
    "        key, scale = findScale(full_data, tonal_map)\n",
    "        \n",
    "        # Initialise function definitions and all voicing permutations\n",
    "        functions = initialiseFunctionDefinitions(key, scale)\n",
    "        function_potential, function_potential_unsorted = initialiseFunctionPotentialList(startindex, finalindex, tonal_map, functions)\n",
    "        voicing_permutations, voicing_permutations_raw = createVoicingPermutations(functions)\n",
    "        valid_function_table = createValidFunctionTable(scale)\n",
    "\n",
    "        # Free estimatorcontainer from memory to avoid out of memory crash\n",
    "        \n",
    "        if phase == 1\n",
    "            first_part, cost = prepare(data, time_signature, functions, function_potential, function_potential_unsorted, \n",
    "                voicing_permutations, voicing_permutations_raw, valid_function_table, phase, previous_sequence)\n",
    "            push!(previous_sequence, first_part[1].sequence[end])\n",
    "        else\n",
    "            second_part, cost = prepare(data, time_signature, functions, function_potential, function_potential_unsorted, \n",
    "                voicing_permutations, voicing_permutations_raw, valid_function_table, phase, previous_sequence)\n",
    "        end\n",
    "                        \n",
    "        total_cost += cost\n",
    "        #display(valid_function_table)\n",
    "        \n",
    "    end\n",
    "    elapsed = time() - start\n",
    "    println(\"#Key: \", key, \"Scale: \", scale)\n",
    "    \n",
    "    return first_part, second_part, scale, elapsed, total_cost  #first_part, second_part, scale, elapsed, estimator, voicingindeces\n",
    "end\n",
    "estimator = []"
   ]
  },
  {
   "cell_type": "markdown",
   "metadata": {},
   "source": [
    "# # Collect solution voicings and create piano roll"
   ]
  },
  {
   "cell_type": "code",
   "execution_count": 20,
   "metadata": {},
   "outputs": [
    {
     "name": "stdout",
     "output_type": "stream",
     "text": [
      "Optimising: ../../results/neuralnet/pianoroll/AC-06-Nun-nn.csv\n",
      "[0 1 0 0 0 0 0 0 0 1 0 0; 0 0 2 0 0 0 0 0 0 0 0 1; 0 1 0 0 1 0 0 0 0 1 0 0; 0 0 2 0 0 0 2 0 0 0 0 0; 0 0 1 0 1 0 0 0 1 0 0 1; 0 0 0 0 0 0 2 0 0 2 0 0; 0 0 0 0 1 0 0 0 2 0 0 1; 0 0 0 0 2 0 0 0 0 2 0 0; 0 0 0 0 1 0 1 0 0 2 0 0; 0 0 0 0 1 0 0 0 1 2 0 0; 0 0 0 0 0 0 1 0 1 1 0 1; 0 0 0 1 0 0 0 0 1 1 0 1; 0 0 0 1 1 0 1 0 0 0 0 1; 0 0 0 1 1 0 1 0 1 0 0 0; 0 1 0 0 1 0 1 0 0 0 0 1; 0 0 0 0 1 0 3 0 0 0 0 0; 0 0 0 1 0 0 1 0 0 0 0 2; 0 0 0 0 1 0 0 0 2 0 0 1; 0 0 0 0 2 0 0 0 1 0 0 1; 0 0 0 0 1 0 0 0 0 1 0 2; 0 0 0 0 2 0 0 0 0 2 0 0; 0 0 1 0 1 0 0 0 0 1 0 1; 0 0 0 0 1 0 1 0 1 1 0 0; 0 0 1 0 0 0 1 0 0 1 0 1; 0 0 1 0 0 0 1 0 1 1 0 0; 0 0 0 0 1 0 0 0 1 1 0 1; 0 1 0 0 1 0 0 0 0 2 0 0; 0 1 0 0 1 0 0 0 0 2 0 0; 0 1 0 0 0 0 1 0 0 2 0 0; 0 0 1 0 0 0 2 0 0 1 0 0; 0 1 1 0 0 0 0 0 2 0 0 0; 0 1 0 0 0 0 1 0 0 2 0 0; 0 1 0 0 0 0 1 0 1 1 0 0]\n",
      "Key Counter is [0 9 10 4 22 0 21 0 16 30 0 16]\n",
      "Key Score is [78; 50; 108; 30; 118; 62; 66; 99; 29; 124; 44; 88]\n",
      "Position Counter for 10 is [30 0 16 0 9 10 4 22 0 21 0 16]\n",
      "Any[[10.0, 89.5, 1.0]]\n",
      "[10, 90, 1]\n",
      "10 A Major\n",
      "Rhythm map: [\"S\", \"W\", \"S\", \"W\", \"S\", \"C\", \"C\", \"C\", \"S\", \"W\", \"S\", \"W\", \"S\", \"C\", \"C\", \"C\"] size: (16,)\n",
      "Amount of timesteps to optimise: 16\n",
      "Building lookup-table list...\n",
      "Lookup-table built.\n",
      "Initial function score upper bound: 499, voicing score upper bound: 499\n",
      "Starting search...\n",
      "New solution\n",
      "function cost: 180\n",
      "child voicing cost: 94\n",
      "Best yet: 274\n",
      "New solution\n",
      "function cost: 174\n",
      "child voicing cost: 99\n",
      "Best yet: 273\n",
      "New solution\n",
      "function cost: 174\n",
      "child voicing cost: 94\n",
      "Best yet: 268\n",
      "New solution\n",
      "function cost: 165\n",
      "child voicing cost: 97\n",
      "Best yet: 262\n",
      "New solution\n",
      "function cost: 162\n",
      "child voicing cost: 94\n",
      "Best yet: 256\n",
      "New solution\n",
      "function cost: 147\n",
      "child voicing cost: 95\n",
      "Best yet: 242\n",
      "New solution\n",
      "function cost: 177\n",
      "child voicing cost: 63\n",
      "Best yet: 240\n",
      "New solution\n",
      "function cost: 162\n",
      "child voicing cost: 77\n",
      "Best yet: 239\n",
      "New solution\n",
      "function cost: 156\n",
      "child voicing cost: 82\n",
      "Best yet: 238\n",
      "New solution\n",
      "function cost: 156\n",
      "child voicing cost: 81\n",
      "Best yet: 237\n",
      "##: Done. Total checked: 116949, Pruned: 134191, completed: 10, time: 2.6590001583099365, efficiency: 3.7608121115554995\n",
      "Results: bestval_func: 156, bestval_voices: 81\n",
      "[0 1 0 0 0 0 0 0 0 1 0 0; 0 0 2 0 0 0 0 0 0 0 0 1; 0 1 0 0 1 0 0 0 0 1 0 0; 0 0 2 0 0 0 2 0 0 0 0 0; 0 0 1 0 1 0 0 0 1 0 0 1; 0 0 0 0 0 0 2 0 0 2 0 0; 0 0 0 0 1 0 0 0 2 0 0 1; 0 0 0 0 2 0 0 0 0 2 0 0; 0 0 0 0 1 0 1 0 0 2 0 0; 0 0 0 0 1 0 0 0 1 2 0 0; 0 0 0 0 0 0 1 0 1 1 0 1; 0 0 0 1 0 0 0 0 1 1 0 1; 0 0 0 1 1 0 1 0 0 0 0 1; 0 0 0 1 1 0 1 0 1 0 0 0; 0 1 0 0 1 0 1 0 0 0 0 1; 0 0 0 0 1 0 3 0 0 0 0 0; 0 0 0 1 0 0 1 0 0 0 0 2; 0 0 0 0 1 0 0 0 2 0 0 1; 0 0 0 0 2 0 0 0 1 0 0 1; 0 0 0 0 1 0 0 0 0 1 0 2; 0 0 0 0 2 0 0 0 0 2 0 0; 0 0 1 0 1 0 0 0 0 1 0 1; 0 0 0 0 1 0 1 0 1 1 0 0; 0 0 1 0 0 0 1 0 0 1 0 1; 0 0 1 0 0 0 1 0 1 1 0 0; 0 0 0 0 1 0 0 0 1 1 0 1; 0 1 0 0 1 0 0 0 0 2 0 0; 0 1 0 0 1 0 0 0 0 2 0 0; 0 1 0 0 0 0 1 0 0 2 0 0; 0 0 1 0 0 0 2 0 0 1 0 0; 0 1 1 0 0 0 0 0 2 0 0 0; 0 1 0 0 0 0 1 0 0 2 0 0; 0 1 0 0 0 0 1 0 1 1 0 0]\n",
      "Key Counter is [0 9 10 4 22 0 21 0 16 30 0 16]\n",
      "Key Score is [78; 50; 108; 30; 118; 62; 66; 99; 29; 124; 44; 88]\n",
      "Position Counter for 10 is [30 0 16 0 9 10 4 22 0 21 0 16]\n",
      "Any[[10.0, 89.5, 1.0]]\n",
      "[10, 90, 1]\n",
      "10 A Major\n",
      "Rhythm map: [\"W\", \"S\", \"W\", \"S\", \"W\", \"S\", \"W\", \"S\", \"W\", \"S\", \"W\", \"S\", \"W\", \"A\", \"A\", \"A\", \"A\"] size: (17,)\n",
      "Amount of timesteps to optimise: 17\n",
      "Building lookup-table list...\n",
      "Lookup-table built.\n",
      "Initial function score upper bound: 499, voicing score upper bound: 499\n",
      "Starting search...\n",
      "New solution\n",
      "function cost: 186\n",
      "child voicing cost: 70\n",
      "Best yet: 256\n",
      "New solution\n",
      "function cost: 186\n",
      "child voicing cost: 64\n",
      "Best yet: 250\n",
      "New solution\n",
      "function cost: 162\n",
      "child voicing cost: 85\n",
      "Best yet: 247\n",
      "New solution\n",
      "function cost: 162\n",
      "child voicing cost: 84\n",
      "Best yet: 246\n",
      "New solution\n",
      "function cost: 162\n",
      "child voicing cost: 82\n",
      "Best yet: 244\n",
      "New solution\n",
      "function cost: 162\n",
      "child voicing cost: 76\n",
      "Best yet: 238\n",
      "New solution\n",
      "function cost: 147\n",
      "child voicing cost: 89\n",
      "Best yet: 236\n",
      "New solution\n",
      "function cost: 147\n",
      "child voicing cost: 83\n",
      "Best yet: 230\n",
      "New solution\n",
      "function cost: 141\n",
      "child voicing cost: 83\n",
      "Best yet: 224\n",
      "New solution\n",
      "function cost: 141\n",
      "child voicing cost: 77\n",
      "Best yet: 218\n",
      "##: Done. Total checked: 74309, Pruned: 80950, completed: 10, time: 1.5279998779296875, efficiency: 6.544503140634518\n",
      "Results: bestval_func: 141, bestval_voices: 77\n",
      "#Key: 10Scale: Major\n"
     ]
    },
    {
     "data": {
      "text/plain": [
       "(0, \"T\", Tuple{Int16,Int16}[(45, 1), (57, 1), (61, 3), (64, 5)])"
      ]
     },
     "metadata": {},
     "output_type": "display_data"
    },
    {
     "data": {
      "text/plain": [
       "(0, \"Ss\", Tuple{Int16,Int16}[(47, 1), (54, 5), (59, 1), (62, 3)])"
      ]
     },
     "metadata": {},
     "output_type": "display_data"
    },
    {
     "data": {
      "text/plain": [
       "(0, \"T/3\", Tuple{Int16,Int16}[(49, 3), (52, 5), (57, 1), (69, 1)])"
      ]
     },
     "metadata": {},
     "output_type": "display_data"
    },
    {
     "data": {
      "text/plain": [
       "(9, \"S\", Tuple{Int16,Int16}[(50, 1), (54, 3), (62, 1), (69, 5)])"
      ]
     },
     "metadata": {},
     "output_type": "display_data"
    },
    {
     "data": {
      "text/plain": [
       "(0, \"D7/3\", Tuple{Int16,Int16}[(44, 3), (52, 1), (62, 7), (71, 5)])"
      ]
     },
     "metadata": {},
     "output_type": "display_data"
    },
    {
     "data": {
      "text/plain": [
       "(0, \"Ts\", Tuple{Int16,Int16}[(42, 1), (57, 3), (69, 3), (73, 5)])"
      ]
     },
     "metadata": {},
     "output_type": "display_data"
    },
    {
     "data": {
      "text/plain": [
       "(12, \"D\", Tuple{Int16,Int16}[(40, 1), (59, 5), (68, 3), (76, 1)])"
      ]
     },
     "metadata": {},
     "output_type": "display_data"
    },
    {
     "data": {
      "text/plain": [
       "(9, \"D\", Tuple{Int16,Int16}[(52, 1), (59, 5), (68, 3), (76, 1)])"
      ]
     },
     "metadata": {},
     "output_type": "display_data"
    },
    {
     "data": {
      "text/plain": [
       "(21, \"S/3\", Tuple{Int16,Int16}[(54, 3), (57, 5), (69, 5), (74, 1)])"
      ]
     },
     "metadata": {},
     "output_type": "display_data"
    },
    {
     "data": {
      "text/plain": [
       "(12, \"D/3\", Tuple{Int16,Int16}[(56, 3), (59, 5), (64, 1), (71, 5)])"
      ]
     },
     "metadata": {},
     "output_type": "display_data"
    },
    {
     "data": {
      "text/plain": [
       "(15, \"T\", Tuple{Int16,Int16}[(57, 1), (61, 3), (64, 5), (69, 1)])"
      ]
     },
     "metadata": {},
     "output_type": "display_data"
    },
    {
     "data": {
      "text/plain": [
       "(12, \"T\", Tuple{Int16,Int16}[(57, 1), (61, 3), (69, 1), (76, 5)])"
      ]
     },
     "metadata": {},
     "output_type": "display_data"
    },
    {
     "data": {
      "text/plain": [
       "(9, \"D\", Tuple{Int16,Int16}[(52, 1), (59, 5), (68, 3), (76, 1)])"
      ]
     },
     "metadata": {},
     "output_type": "display_data"
    },
    {
     "data": {
      "text/plain": [
       "(9, \"D7-5\", Tuple{Int16,Int16}[(52, 1), (64, 1), (68, 3), (74, 7)])"
      ]
     },
     "metadata": {},
     "output_type": "display_data"
    },
    {
     "data": {
      "text/plain": [
       "(15, \"T\", Tuple{Int16,Int16}[(57, 1), (64, 5), (69, 1), (73, 3)])"
      ]
     },
     "metadata": {},
     "output_type": "display_data"
    },
    {
     "data": {
      "text/plain": [
       "(33, \"T\", Tuple{Int16,Int16}[(45, 1), (64, 5), (69, 1), (73, 3)])"
      ]
     },
     "metadata": {},
     "output_type": "display_data"
    },
    {
     "data": {
      "text/plain": [
       "(9, \"S65\", Tuple{Int16,Int16}[(50, 1), (66, 3), (69, 5), (71, 6)])"
      ]
     },
     "metadata": {},
     "output_type": "display_data"
    },
    {
     "data": {
      "text/plain": [
       "(12, \"D\", Tuple{Int16,Int16}[(52, 1), (64, 1), (68, 3), (71, 5)])"
      ]
     },
     "metadata": {},
     "output_type": "display_data"
    },
    {
     "data": {
      "text/plain": [
       "(0, \"D/3\", Tuple{Int16,Int16}[(56, 3), (64, 1), (71, 5), (76, 1)])"
      ]
     },
     "metadata": {},
     "output_type": "display_data"
    },
    {
     "data": {
      "text/plain": [
       "(12, \"T\", Tuple{Int16,Int16}[(57, 1), (64, 5), (69, 1), (73, 3)])"
      ]
     },
     "metadata": {},
     "output_type": "display_data"
    },
    {
     "data": {
      "text/plain": [
       "(9, \"D\", Tuple{Int16,Int16}[(52, 1), (64, 1), (68, 3), (71, 5)])"
      ]
     },
     "metadata": {},
     "output_type": "display_data"
    },
    {
     "data": {
      "text/plain": [
       "(3, \"D7/7\", Tuple{Int16,Int16}[(50, 7), (59, 5), (68, 3), (76, 1)])"
      ]
     },
     "metadata": {},
     "output_type": "display_data"
    },
    {
     "data": {
      "text/plain": [
       "(18, \"T/3\", Tuple{Int16,Int16}[(49, 3), (57, 1), (69, 1), (76, 5)])"
      ]
     },
     "metadata": {},
     "output_type": "display_data"
    },
    {
     "data": {
      "text/plain": [
       "(6, \"S/3\", Tuple{Int16,Int16}[(54, 3), (57, 5), (69, 5), (74, 1)])"
      ]
     },
     "metadata": {},
     "output_type": "display_data"
    },
    {
     "data": {
      "text/plain": [
       "(6, \"Ts\", Tuple{Int16,Int16}[(54, 1), (57, 3), (69, 3), (73, 5)])"
      ]
     },
     "metadata": {},
     "output_type": "display_data"
    },
    {
     "data": {
      "text/plain": [
       "(6, \"D/3\", Tuple{Int16,Int16}[(56, 3), (59, 5), (64, 1), (71, 5)])"
      ]
     },
     "metadata": {},
     "output_type": "display_data"
    },
    {
     "data": {
      "text/plain": [
       "(0, \"T\", Tuple{Int16,Int16}[(57, 1), (61, 3), (64, 5), (69, 1)])"
      ]
     },
     "metadata": {},
     "output_type": "display_data"
    },
    {
     "data": {
      "text/plain": [
       "(0, \"T\", Tuple{Int16,Int16}[(57, 1), (61, 3), (69, 1), (76, 5)])"
      ]
     },
     "metadata": {},
     "output_type": "display_data"
    },
    {
     "data": {
      "text/plain": [
       "(18, \"S\", Tuple{Int16,Int16}[(50, 1), (62, 1), (69, 5), (78, 3)])"
      ]
     },
     "metadata": {},
     "output_type": "display_data"
    },
    {
     "data": {
      "text/plain": [
       "(24, \"D7\", Tuple{Int16,Int16}[(52, 1), (62, 7), (68, 3), (71, 5)])"
      ]
     },
     "metadata": {},
     "output_type": "display_data"
    },
    {
     "data": {
      "text/plain": [
       "(12, \"T\", Tuple{Int16,Int16}[(57, 1), (61, 3), (64, 5), (69, 1)])"
      ]
     },
     "metadata": {},
     "output_type": "display_data"
    },
    {
     "data": {
      "text/plain": [
       "(12, \"T\", Tuple{Int16,Int16}[(57, 1), (61, 3), (64, 5), (69, 1)])"
      ]
     },
     "metadata": {},
     "output_type": "display_data"
    },
    {
     "name": "stdout",
     "output_type": "stream",
     "text": [
      "#Total time for optimisation of piece: 14.95300006866455\n",
      "#Total cost of piece: 455\n",
      "[\"T\", \"Ss\", \"T/3\", \"S\", \"D7/3\", \"Ts\", \"D\", \"D\", \"S/3\", \"D/3\", \"T\", \"T\", \"D\", \"D7-5\", \"T\", \"T\", \"S65\", \"D\", \"D/3\", \"T\", \"D\", \"D7/7\", \"T/3\", \"S/3\", \"Ts\", \"D/3\", \"T\", \"T\", \"S\", \"D7\", \"T\", \"T\"]\n",
      "../../results/optimizer/pianoroll/AC-06-Nun-opt.csv\n",
      " End of file \n",
      " \n",
      "Optimising: ../../results/neuralnet/pianoroll/AC-11-Wann-nn.csv\n",
      "[0 0 2 0 0 0 1 0 0 1 0 0; 0 0 2 0 0 0 1 0 0 1 0 0; 0 0 0 0 0 0 0 0 0 0 0 0; 0 0 1 0 0 0 1 0 0 0 0 0; 0 0 1 0 0 0 0 1 0 0 0 2; 0 0 0 0 1 0 2 0 0 1 0 0; 0 0 1 0 1 0 0 1 0 1 0 0; 0 1 1 0 1 0 0 0 0 0 0 1; 0 0 1 0 0 0 1 1 0 1 0 0; 0 0 0 0 1 0 0 1 0 2 0 0; 0 0 1 0 0 0 2 0 0 1 0 0; 0 1 1 0 1 0 0 0 0 1 0 0; 0 0 3 0 0 0 1 0 0 0 0 0; 0 0 0 0 1 0 0 1 0 1 0 1; 0 0 1 0 0 0 0 1 0 2 0 0; 0 0 1 0 0 0 0 0 0 2 0 1; 0 0 1 0 0 0 1 0 0 0 0 2; 0 0 1 0 0 0 0 0 0 3 0 0; 0 1 0 0 1 0 0 0 0 2 0 0; 0 0 2 0 1 0 0 1 0 0 0 0; 0 0 3 0 0 0 1 0 0 0 0 0; 0 0 3 0 0 0 1 0 0 0 0 0; 0 0 2 0 0 0 1 0 0 1 0 0; 0 0 2 0 0 0 0 2 0 0 0 0; 0 0 2 0 0 0 1 0 0 0 0 1; 0 1 0 0 2 0 0 0 0 0 0 1; 0 0 1 0 1 0 1 0 0 0 0 1; 0 0 1 0 1 0 0 0 0 0 0 2; 0 1 1 0 1 0 0 0 0 1 0 0; 0 0 1 0 0 0 1 0 0 2 0 0; 0 1 1 0 0 0 0 0 0 2 0 0; 0 0 2 0 0 0 1 0 0 0 0 1; 0 1 2 0 0 0 0 0 0 1 0 0]\n",
      "Key Counter is [0 7 41 0 13 0 17 9 0 26 0 13]\n",
      "Key Score is [102; 24; 126; 50; 76; 89; 37; 119; 16; 117; 76; 50]\n",
      "Position Counter for 3 is [41 0 13 0 17 9 0 26 0 13 0 7]\n",
      "Any[[3.0, 93.75, 1.0]]\n",
      "[3, 94, 1]\n",
      "3 D Major\n",
      "Rhythm map: [\"S\", \"W\", \"S\", \"W\", \"S\", \"C\", \"C\", \"C\", \"S\", \"W\", \"S\", \"W\", \"S\", \"C\", \"C\", \"C\"] size: (16,)\n",
      "Amount of timesteps to optimise: 16\n",
      "Building lookup-table list...\n",
      "Lookup-table built.\n",
      "Initial function score upper bound: 499, voicing score upper bound: 499\n",
      "Starting search...\n",
      "New solution\n",
      "function cost: 159\n",
      "child voicing cost: 106\n",
      "Best yet: 265\n",
      "New solution\n",
      "function cost: 159\n",
      "child voicing cost: 105\n",
      "Best yet: 264\n",
      "New solution\n",
      "function cost: 174\n",
      "child voicing cost: 86\n",
      "Best yet: 260\n",
      "New solution\n",
      "function cost: 141\n",
      "child voicing cost: 101\n",
      "Best yet: 242\n",
      "New solution\n",
      "function cost: 141\n",
      "child voicing cost: 100\n",
      "Best yet: 241\n",
      "New solution\n",
      "function cost: 141\n",
      "child voicing cost: 94\n",
      "Best yet: 235\n",
      "New solution\n",
      "function cost: 138\n",
      "child voicing cost: 95\n",
      "Best yet: 233\n",
      "New solution\n",
      "function cost: 141\n",
      "child voicing cost: 89\n",
      "Best yet: 230\n",
      "New solution\n",
      "function cost: 138\n",
      "child voicing cost: 90\n",
      "Best yet: 228\n",
      "New solution\n",
      "function cost: 141\n",
      "child voicing cost: 86\n",
      "Best yet: 227\n",
      "New solution\n",
      "function cost: 141\n",
      "child voicing cost: 80\n",
      "Best yet: 221\n",
      "New solution\n",
      "function cost: 138\n",
      "child voicing cost: 81\n",
      "Best yet: 219\n",
      "New solution\n",
      "function cost: 138\n",
      "child voicing cost: 72\n",
      "Best yet: 210\n",
      "New solution\n",
      "function cost: 126\n",
      "child voicing cost: 79\n",
      "Best yet: 205\n",
      "##: Done. Total checked: 99791, Pruned: 121992, completed: 14, time: 2.2009999752044678, efficiency: 6.360745187513886\n",
      "Results: bestval_func: 126, bestval_voices: 79\n",
      "[0 0 2 0 0 0 1 0 0 1 0 0; 0 0 2 0 0 0 1 0 0 1 0 0; 0 0 0 0 0 0 0 0 0 0 0 0; 0 0 1 0 0 0 1 0 0 0 0 0; 0 0 1 0 0 0 0 1 0 0 0 2; 0 0 0 0 1 0 2 0 0 1 0 0; 0 0 1 0 1 0 0 1 0 1 0 0; 0 1 1 0 1 0 0 0 0 0 0 1; 0 0 1 0 0 0 1 1 0 1 0 0; 0 0 0 0 1 0 0 1 0 2 0 0; 0 0 1 0 0 0 2 0 0 1 0 0; 0 1 1 0 1 0 0 0 0 1 0 0; 0 0 3 0 0 0 1 0 0 0 0 0; 0 0 0 0 1 0 0 1 0 1 0 1; 0 0 1 0 0 0 0 1 0 2 0 0; 0 0 1 0 0 0 0 0 0 2 0 1; 0 0 1 0 0 0 1 0 0 0 0 2; 0 0 1 0 0 0 0 0 0 3 0 0; 0 1 0 0 1 0 0 0 0 2 0 0; 0 0 2 0 1 0 0 1 0 0 0 0; 0 0 3 0 0 0 1 0 0 0 0 0; 0 0 3 0 0 0 1 0 0 0 0 0; 0 0 2 0 0 0 1 0 0 1 0 0; 0 0 2 0 0 0 0 2 0 0 0 0; 0 0 2 0 0 0 1 0 0 0 0 1; 0 1 0 0 2 0 0 0 0 0 0 1; 0 0 1 0 1 0 1 0 0 0 0 1; 0 0 1 0 1 0 0 0 0 0 0 2; 0 1 1 0 1 0 0 0 0 1 0 0; 0 0 1 0 0 0 1 0 0 2 0 0; 0 1 1 0 0 0 0 0 0 2 0 0; 0 0 2 0 0 0 1 0 0 0 0 1; 0 1 2 0 0 0 0 0 0 1 0 0]\n",
      "Key Counter is [0 7 41 0 13 0 17 9 0 26 0 13]\n",
      "Key Score is [102; 24; 126; 50; 76; 89; 37; 119; 16; 117; 76; 50]\n",
      "Position Counter for 3 is [41 0 13 0 17 9 0 26 0 13 0 7]\n",
      "Any[[3.0, 93.75, 1.0]]\n",
      "[3, 94, 1]\n",
      "3 D Major\n",
      "Rhythm map: [\"W\", \"S\", \"W\", \"S\", \"W\", \"S\", \"W\", \"S\", \"W\", \"S\", \"W\", \"S\", \"W\", \"A\", \"A\", \"A\", \"A\"] size: (17,)\n",
      "Amount of timesteps to optimise: 17\n",
      "Building lookup-table list...\n",
      "Lookup-table built.\n",
      "Initial function score upper bound: 499, voicing score upper bound: 499\n",
      "Starting search...\n",
      "New solution\n",
      "function cost: 228\n",
      "child voicing cost: 115\n",
      "Best yet: 343\n",
      "New solution\n",
      "function cost: 228\n",
      "child voicing cost: 113\n",
      "Best yet: 341\n",
      "New solution\n",
      "function cost: 228\n",
      "child voicing cost: 107\n",
      "Best yet: 335\n",
      "New solution\n",
      "function cost: 222\n",
      "child voicing cost: 97\n",
      "Best yet: 319\n",
      "New solution\n",
      "function cost: 222\n",
      "child voicing cost: 94\n",
      "Best yet: 316\n",
      "New solution\n",
      "function cost: 219\n",
      "child voicing cost: 89\n",
      "Best yet: 308\n",
      "New solution\n",
      "function cost: 225\n",
      "child voicing cost: 81\n",
      "Best yet: 306\n",
      "New solution\n",
      "function cost: 225\n",
      "child voicing cost: 78\n",
      "Best yet: 303\n",
      "New solution\n",
      "function cost: 213\n",
      "child voicing cost: 88\n",
      "Best yet: 301\n",
      "New solution\n",
      "function cost: 213\n",
      "child voicing cost: 85\n",
      "Best yet: 298\n",
      "New solution\n",
      "function cost: 213\n",
      "child voicing cost: 82\n",
      "Best yet: 295\n",
      "New solution\n",
      "function cost: 213\n",
      "child voicing cost: 79\n",
      "Best yet: 292\n",
      "New solution\n",
      "function cost: 216\n",
      "child voicing cost: 75\n",
      "Best yet: 291\n",
      "New solution\n",
      "function cost: 198\n",
      "child voicing cost: 87\n",
      "Best yet: 285\n",
      "New solution\n",
      "function cost: 189\n",
      "child voicing cost: 94\n",
      "Best yet: 283\n",
      "New solution\n",
      "function cost: 171\n",
      "child voicing cost: 109\n",
      "Best yet: 280\n",
      "New solution\n",
      "function cost: 168\n",
      "child voicing cost: 111\n",
      "Best yet: 279\n",
      "New solution\n",
      "function cost: 177\n",
      "child voicing cost: 101\n",
      "Best yet: 278\n",
      "New solution\n",
      "function cost: 171\n",
      "child voicing cost: 105\n",
      "Best yet: 276\n",
      "New solution\n",
      "function cost: 171\n",
      "child voicing cost: 104\n",
      "Best yet: 275\n",
      "New solution\n",
      "function cost: 165\n",
      "child voicing cost: 105\n",
      "Best yet: 270\n",
      "New solution\n",
      "function cost: 165\n",
      "child voicing cost: 100\n",
      "Best yet: 265\n",
      "New solution\n",
      "function cost: 168\n",
      "child voicing cost: 94\n",
      "Best yet: 262\n",
      "New solution\n",
      "function cost: 156\n",
      "child voicing cost: 104\n",
      "Best yet: 260\n",
      "New solution\n",
      "function cost: 159\n",
      "child voicing cost: 98\n",
      "Best yet: 257\n",
      "New solution\n",
      "function cost: 135\n",
      "child voicing cost: 121\n",
      "Best yet: 256\n",
      "New solution\n",
      "function cost: 138\n",
      "child voicing cost: 111\n",
      "Best yet: 249\n",
      "New solution\n",
      "function cost: 141\n",
      "child voicing cost: 105\n",
      "Best yet: 246\n",
      "New solution\n",
      "function cost: 144\n",
      "child voicing cost: 101\n",
      "Best yet: 245\n",
      "New solution\n",
      "function cost: 147\n",
      "child voicing cost: 95\n",
      "Best yet: 242\n"
     ]
    },
    {
     "data": {
      "text/plain": [
       "(0, \"T\", Tuple{Int16,Int16}[(50, 1), (54, 3), (62, 1), (69, 5)])"
      ]
     },
     "metadata": {},
     "output_type": "display_data"
    },
    {
     "data": {
      "text/plain": [
       "(0, \"T\", Tuple{Int16,Int16}[(50, 1), (57, 5), (62, 1), (66, 3)])"
      ]
     },
     "metadata": {},
     "output_type": "display_data"
    },
    {
     "data": {
      "text/plain": [
       "(0, \"D7-1\", Tuple{Int16,Int16}[(52, 5), (55, 7), (61, 3), (64, 5)])"
      ]
     },
     "metadata": {},
     "output_type": "display_data"
    },
    {
     "data": {
      "text/plain": [
       "(0, \"T\", Tuple{Int16,Int16}[(50, 1), (57, 5), (62, 1), (66, 3)])"
      ]
     },
     "metadata": {},
     "output_type": "display_data"
    },
    {
     "data": {
      "text/plain": [
       "(9, \"S/3\", Tuple{Int16,Int16}[(47, 3), (55, 1), (62, 5), (67, 1)])"
      ]
     },
     "metadata": {},
     "output_type": "display_data"
    },
    {
     "data": {
      "text/plain": [
       "(18, \"D7/3\", Tuple{Int16,Int16}[(49, 3), (55, 7), (64, 5), (69, 1)])"
      ]
     },
     "metadata": {},
     "output_type": "display_data"
    },
    {
     "data": {
      "text/plain": [
       "(9, \"T\", Tuple{Int16,Int16}[(50, 1), (54, 3), (62, 1), (69, 5)])"
      ]
     },
     "metadata": {},
     "output_type": "display_data"
    },
    {
     "data": {
      "text/plain": [
       "(15, \"T\", Tuple{Int16,Int16}[(50, 1), (57, 5), (62, 1), (66, 3)])"
      ]
     },
     "metadata": {},
     "output_type": "display_data"
    },
    {
     "data": {
      "text/plain": [
       "(9, \"S/3\", Tuple{Int16,Int16}[(47, 3), (55, 1), (62, 5), (67, 1)])"
      ]
     },
     "metadata": {},
     "output_type": "display_data"
    },
    {
     "data": {
      "text/plain": [
       "(12, \"D7/3\", Tuple{Int16,Int16}[(49, 3), (55, 7), (57, 1), (64, 5)])"
      ]
     },
     "metadata": {},
     "output_type": "display_data"
    },
    {
     "data": {
      "text/plain": [
       "(12, \"T\", Tuple{Int16,Int16}[(50, 1), (54, 3), (57, 5), (62, 1)])"
      ]
     },
     "metadata": {},
     "output_type": "display_data"
    },
    {
     "data": {
      "text/plain": [
       "(6, \"D/3\", Tuple{Int16,Int16}[(49, 3), (52, 5), (57, 1), (69, 1)])"
      ]
     },
     "metadata": {},
     "output_type": "display_data"
    },
    {
     "data": {
      "text/plain": [
       "(0, \"T-5\", Tuple{Int16,Int16}[(50, 1), (50, 1), (54, 3), (62, 1)])"
      ]
     },
     "metadata": {},
     "output_type": "display_data"
    },
    {
     "data": {
      "text/plain": [
       "(6, \"D7\", Tuple{Int16,Int16}[(45, 1), (49, 3), (55, 7), (64, 5)])"
      ]
     },
     "metadata": {},
     "output_type": "display_data"
    },
    {
     "data": {
      "text/plain": [
       "(15, \"Ts\", Tuple{Int16,Int16}[(47, 1), (50, 3), (54, 5), (62, 3)])"
      ]
     },
     "metadata": {},
     "output_type": "display_data"
    },
    {
     "data": {
      "text/plain": [
       "(15, \"Ts\", Tuple{Int16,Int16}[(47, 1), (50, 3), (54, 5), (59, 1)])"
      ]
     },
     "metadata": {},
     "output_type": "display_data"
    },
    {
     "data": {
      "text/plain": [
       "(21, \"D\", Tuple{Int16,Int16}[(45, 1), (52, 5), (57, 1), (61, 3)])"
      ]
     },
     "metadata": {},
     "output_type": "display_data"
    },
    {
     "data": {
      "text/plain": [
       "(18, \"S/3\", Tuple{Int16,Int16}[(47, 3), (50, 5), (55, 1), (62, 5)])"
      ]
     },
     "metadata": {},
     "output_type": "display_data"
    },
    {
     "data": {
      "text/plain": [
       "(0, \"D\", Tuple{Int16,Int16}[(45, 1), (57, 1), (61, 3), (64, 5)])"
      ]
     },
     "metadata": {},
     "output_type": "display_data"
    },
    {
     "data": {
      "text/plain": [
       "(9, \"D7-1\", Tuple{Int16,Int16}[(52, 5), (55, 7), (61, 3), (64, 5)])"
      ]
     },
     "metadata": {},
     "output_type": "display_data"
    },
    {
     "data": {
      "text/plain": [
       "(15, \"T\", Tuple{Int16,Int16}[(50, 1), (57, 5), (62, 1), (66, 3)])"
      ]
     },
     "metadata": {},
     "output_type": "display_data"
    },
    {
     "data": {
      "text/plain": [
       "(0, \"T-5\", Tuple{Int16,Int16}[(50, 1), (62, 1), (66, 3), (74, 1)])"
      ]
     },
     "metadata": {},
     "output_type": "display_data"
    },
    {
     "data": {
      "text/plain": [
       "(0, \"T\", Tuple{Int16,Int16}[(50, 1), (62, 1), (66, 3), (69, 5)])"
      ]
     },
     "metadata": {},
     "output_type": "display_data"
    },
    {
     "data": {
      "text/plain": [
       "(0, \"S/3\", Tuple{Int16,Int16}[(47, 3), (62, 5), (67, 1), (74, 5)])"
      ]
     },
     "metadata": {},
     "output_type": "display_data"
    },
    {
     "data": {
      "text/plain": [
       "(0, \"Ts\", Tuple{Int16,Int16}[(47, 1), (62, 3), (66, 5), (71, 1)])"
      ]
     },
     "metadata": {},
     "output_type": "display_data"
    },
    {
     "data": {
      "text/plain": [
       "(15, \"D7\", Tuple{Int16,Int16}[(45, 1), (64, 5), (67, 7), (73, 3)])"
      ]
     },
     "metadata": {},
     "output_type": "display_data"
    },
    {
     "data": {
      "text/plain": [
       "(6, \"Ts\", Tuple{Int16,Int16}[(47, 1), (62, 3), (66, 5), (74, 3)])"
      ]
     },
     "metadata": {},
     "output_type": "display_data"
    },
    {
     "data": {
      "text/plain": [
       "(18, \"S/3\", Tuple{Int16,Int16}[(59, 3), (62, 5), (67, 1), (74, 5)])"
      ]
     },
     "metadata": {},
     "output_type": "display_data"
    },
    {
     "data": {
      "text/plain": [
       "(18, \"D64\", Tuple{Int16,Int16}[(57, 1), (62, 4), (69, 1), (78, 6)])"
      ]
     },
     "metadata": {},
     "output_type": "display_data"
    },
    {
     "data": {
      "text/plain": [
       "(9, \"D\", Tuple{Int16,Int16}[(57, 1), (61, 3), (69, 1), (76, 5)])"
      ]
     },
     "metadata": {},
     "output_type": "display_data"
    },
    {
     "data": {
      "text/plain": [
       "(12, \"T\", Tuple{Int16,Int16}[(50, 1), (62, 1), (69, 5), (78, 3)])"
      ]
     },
     "metadata": {},
     "output_type": "display_data"
    },
    {
     "data": {
      "text/plain": [
       "(12, \"T\", Tuple{Int16,Int16}[(50, 1), (62, 1), (69, 5), (78, 3)])"
      ]
     },
     "metadata": {},
     "output_type": "display_data"
    },
    {
     "name": "stdout",
     "output_type": "stream",
     "text": [
      "##: Done. Total checked: 185428, Pruned: 219112, completed: 30, time: 4.053999900817871, efficiency: 7.400098849027518\n",
      "Results: bestval_func: 147, bestval_voices: 95\n",
      "#Key: 3Scale: Major\n",
      "#Total time for optimisation of piece: 7.59499979019165\n",
      "#Total cost of piece: 447\n",
      "[\"T\", \"T\", \"D7-1\", \"T\", \"S/3\", \"D7/3\", \"T\", \"T\", \"S/3\", \"D7/3\", \"T\", \"D/3\", \"T-5\", \"D7\", \"Ts\", \"Ts\", \"D\", \"S/3\", \"D\", \"D7-1\", \"T\", \"T-5\", \"T\", \"S/3\", \"Ts\", \"D7\", \"Ts\", \"S/3\", \"D64\", \"D\", \"T\", \"T\"]\n",
      "../../results/optimizer/pianoroll/AC-11-Wann-opt.csv\n",
      " End of file \n",
      " \n",
      "Optimising: ../../results/neuralnet/pianoroll/C137-5-Lobe-nn.csv\n",
      "[2 0 0 0 1 0 0 1 0 0 0 0; 0 0 1 0 0 0 0 2 0 0 0 1; 1 0 0 0 1 0 0 1 0 0 0 0; 2 0 0 0 0 0 1 0 0 1 0 0; 0 0 0 0 0 0 0 3 0 0 0 1; 1 0 1 0 0 1 0 0 0 1 0 0; 0 0 0 0 2 0 0 2 0 0 0 0; 0 0 1 0 0 1 0 2 0 0 0 0; 1 0 2 0 0 0 0 1 0 0 0 0; 1 0 0 0 1 0 0 2 0 0 0 0; 1 0 2 0 0 0 0 1 0 0 0 0; 0 0 1 0 0 2 0 1 0 0 0 0; 1 0 1 0 1 0 0 1 0 0 0 0; 1 0 2 0 0 1 0 0 0 0 0 0; 1 0 1 0 0 1 0 1 0 0 0 0; 1 0 1 0 1 0 0 1 0 0 0 0; 1 0 0 0 1 0 0 0 0 2 0 0; 0 0 2 0 0 0 0 1 0 0 0 1; 1 0 1 0 0 0 0 1 0 1 0 0; 1 0 1 0 1 0 0 0 0 1 0 0; 0 0 1 0 0 1 0 1 0 0 0 1; 2 0 0 0 1 0 0 1 0 0 0 0; 1 0 0 0 1 1 0 1 0 0 0 0; 2 0 0 0 1 0 0 1 0 0 0 0; 0 0 2 0 0 1 0 0 0 0 0 1; 2 0 1 0 0 0 0 1 0 0 0 0; 1 0 1 0 0 0 0 1 0 1 0 0; 1 0 2 0 0 0 0 0 0 1 0 0; 1 0 2 0 0 0 0 1 0 0 0 0; 1 0 0 0 0 0 1 2 0 0 0 0; 0 0 2 0 0 0 0 2 0 0 0 0; 0 0 1 0 1 0 0 2 0 0 0 0; 0 0 1 0 1 1 0 1 0 0 0 0]\n",
      "Key Counter is [27 0 30 0 14 10 2 35 0 8 0 5]\n",
      "Key Score is [129; 39; 94; 102; 29; 124; 17; 121; 72; 59; 110; 21]\n",
      "Position Counter for 1 is [27 0 30 0 14 10 2 35 0 8 0 5]\n",
      "Any[[1.0, 90.0, 1.0]]\n",
      "[1, 90, 1]\n",
      "1 C Major\n",
      "Rhythm map: [\"S\", \"W\", \"S\", \"W\", \"S\", \"C\", \"C\", \"C\", \"S\", \"W\", \"S\", \"W\", \"S\", \"C\", \"C\", \"C\"] size: (16,)\n",
      "Amount of timesteps to optimise: 16\n",
      "Building lookup-table list...\n",
      "Lookup-table built.\n",
      "Initial function score upper bound: 499, voicing score upper bound: 499\n",
      "Starting search...\n",
      "New solution\n",
      "function cost: 135\n",
      "child voicing cost: 116\n",
      "Best yet: 251\n",
      "New solution\n",
      "function cost: 135\n",
      "child voicing cost: 112\n",
      "Best yet: 247\n",
      "New solution\n",
      "function cost: 135\n",
      "child voicing cost: 109\n",
      "Best yet: 244\n",
      "New solution\n",
      "function cost: 120\n",
      "child voicing cost: 111\n",
      "Best yet: 231\n",
      "New solution\n",
      "function cost: 120\n",
      "child voicing cost: 108\n",
      "Best yet: 228\n",
      "New solution\n",
      "function cost: 120\n",
      "child voicing cost: 105\n",
      "Best yet: 225\n",
      "New solution\n",
      "function cost: 135\n",
      "child voicing cost: 87\n",
      "Best yet: 222\n",
      "New solution\n",
      "function cost: 120\n",
      "child voicing cost: 99\n",
      "Best yet: 219\n",
      "New solution\n",
      "function cost: 120\n",
      "child voicing cost: 96\n",
      "Best yet: 216\n",
      "New solution\n",
      "function cost: 120\n",
      "child voicing cost: 94\n",
      "Best yet: 214\n",
      "New solution\n",
      "function cost: 114\n",
      "child voicing cost: 97\n",
      "Best yet: 211\n",
      "New solution\n",
      "function cost: 114\n",
      "child voicing cost: 96\n",
      "Best yet: 210\n",
      "New solution\n",
      "function cost: 105\n",
      "child voicing cost: 103\n",
      "Best yet: 208\n",
      "New solution\n",
      "function cost: 105\n",
      "child voicing cost: 100\n",
      "Best yet: 205\n",
      "New solution\n",
      "function cost: 105\n",
      "child voicing cost: 99\n",
      "Best yet: 204\n",
      "New solution\n",
      "function cost: 105\n",
      "child voicing cost: 97\n",
      "Best yet: 202\n",
      "New solution\n",
      "function cost: 105\n",
      "child voicing cost: 96\n",
      "Best yet: 201\n",
      "##: Done. Total checked: 80424, Pruned: 89943, completed: 17, time: 1.691999912261963, efficiency: 10.04728184487517\n",
      "Results: bestval_func: 105, bestval_voices: 96\n",
      "[2 0 0 0 1 0 0 1 0 0 0 0; 0 0 1 0 0 0 0 2 0 0 0 1; 1 0 0 0 1 0 0 1 0 0 0 0; 2 0 0 0 0 0 1 0 0 1 0 0; 0 0 0 0 0 0 0 3 0 0 0 1; 1 0 1 0 0 1 0 0 0 1 0 0; 0 0 0 0 2 0 0 2 0 0 0 0; 0 0 1 0 0 1 0 2 0 0 0 0; 1 0 2 0 0 0 0 1 0 0 0 0; 1 0 0 0 1 0 0 2 0 0 0 0; 1 0 2 0 0 0 0 1 0 0 0 0; 0 0 1 0 0 2 0 1 0 0 0 0; 1 0 1 0 1 0 0 1 0 0 0 0; 1 0 2 0 0 1 0 0 0 0 0 0; 1 0 1 0 0 1 0 1 0 0 0 0; 1 0 1 0 1 0 0 1 0 0 0 0; 1 0 0 0 1 0 0 0 0 2 0 0; 0 0 2 0 0 0 0 1 0 0 0 1; 1 0 1 0 0 0 0 1 0 1 0 0; 1 0 1 0 1 0 0 0 0 1 0 0; 0 0 1 0 0 1 0 1 0 0 0 1; 2 0 0 0 1 0 0 1 0 0 0 0; 1 0 0 0 1 1 0 1 0 0 0 0; 2 0 0 0 1 0 0 1 0 0 0 0; 0 0 2 0 0 1 0 0 0 0 0 1; 2 0 1 0 0 0 0 1 0 0 0 0; 1 0 1 0 0 0 0 1 0 1 0 0; 1 0 2 0 0 0 0 0 0 1 0 0; 1 0 2 0 0 0 0 1 0 0 0 0; 1 0 0 0 0 0 1 2 0 0 0 0; 0 0 2 0 0 0 0 2 0 0 0 0; 0 0 1 0 1 0 0 2 0 0 0 0; 0 0 1 0 1 1 0 1 0 0 0 0]\n",
      "Key Counter is [27 0 30 0 14 10 2 35 0 8 0 5]\n",
      "Key Score is [129; 39; 94; 102; 29; 124; 17; 121; 72; 59; 110; 21]\n",
      "Position Counter for 1 is [27 0 30 0 14 10 2 35 0 8 0 5]\n",
      "Any[[1.0, 90.0, 1.0]]\n",
      "[1, 90, 1]\n",
      "1 C Major\n",
      "Rhythm map: [\"W\", \"S\", \"W\", \"S\", \"W\", \"S\", \"W\", \"S\", \"W\", \"S\", \"W\", \"S\", \"W\", \"A\", \"A\", \"A\", \"A\"] size: (17,)\n",
      "Amount of timesteps to optimise: 17\n",
      "Building lookup-table list...\n",
      "Lookup-table built.\n",
      "Initial function score upper bound: 499, voicing score upper bound: 499\n",
      "Starting search...\n",
      "New solution\n",
      "function cost: 171\n",
      "child voicing cost: 106\n",
      "Best yet: 277\n",
      "New solution\n",
      "function cost: 171\n",
      "child voicing cost: 103\n",
      "Best yet: 274\n",
      "New solution\n",
      "function cost: 171\n",
      "child voicing cost: 91\n",
      "Best yet: 262\n",
      "New solution\n",
      "function cost: 144\n",
      "child voicing cost: 113\n",
      "Best yet: 257\n",
      "New solution\n",
      "function cost: 144\n",
      "child voicing cost: 105\n",
      "Best yet: 249\n",
      "New solution\n",
      "function cost: 147\n",
      "child voicing cost: 101\n",
      "Best yet: 248\n",
      "New solution\n",
      "function cost: 147\n",
      "child voicing cost: 98\n",
      "Best yet: 245\n",
      "New solution\n",
      "function cost: 147\n",
      "child voicing cost: 95\n",
      "Best yet: 242\n",
      "New solution\n",
      "function cost: 147\n",
      "child voicing cost: 93\n",
      "Best yet: 240\n",
      "New solution\n",
      "function cost: 132\n",
      "child voicing cost: 107\n",
      "Best yet: 239\n",
      "New solution\n",
      "function cost: 132\n",
      "child voicing cost: 104\n",
      "Best yet: 236\n",
      "New solution\n",
      "function cost: 132\n",
      "child voicing cost: 101\n",
      "Best yet: 233\n",
      "New solution\n",
      "function cost: 132\n",
      "child voicing cost: 98\n",
      "Best yet: 230\n"
     ]
    },
    {
     "data": {
      "text/plain": [
       "(0, \"T\", Tuple{Int16,Int16}[(60, 1), (60, 1), (67, 5), (76, 3)])"
      ]
     },
     "metadata": {},
     "output_type": "display_data"
    },
    {
     "data": {
      "text/plain": [
       "(0, \"D/3\", Tuple{Int16,Int16}[(59, 3), (62, 5), (67, 1), (74, 5)])"
      ]
     },
     "metadata": {},
     "output_type": "display_data"
    },
    {
     "data": {
      "text/plain": [
       "(0, \"T\", Tuple{Int16,Int16}[(60, 1), (64, 3), (67, 5), (72, 1)])"
      ]
     },
     "metadata": {},
     "output_type": "display_data"
    },
    {
     "data": {
      "text/plain": [
       "(6, \"Ts\", Tuple{Int16,Int16}[(57, 1), (64, 5), (69, 1), (72, 3)])"
      ]
     },
     "metadata": {},
     "output_type": "display_data"
    },
    {
     "data": {
      "text/plain": [
       "(0, \"D-5\", Tuple{Int16,Int16}[(55, 1), (67, 1), (71, 3), (79, 1)])"
      ]
     },
     "metadata": {},
     "output_type": "display_data"
    },
    {
     "data": {
      "text/plain": [
       "(6, \"S/3\", Tuple{Int16,Int16}[(57, 3), (60, 5), (72, 5), (77, 1)])"
      ]
     },
     "metadata": {},
     "output_type": "display_data"
    },
    {
     "data": {
      "text/plain": [
       "(21, \"D\", Tuple{Int16,Int16}[(55, 1), (62, 5), (71, 3), (79, 1)])"
      ]
     },
     "metadata": {},
     "output_type": "display_data"
    },
    {
     "data": {
      "text/plain": [
       "(18, \"D\", Tuple{Int16,Int16}[(55, 1), (67, 1), (71, 3), (74, 5)])"
      ]
     },
     "metadata": {},
     "output_type": "display_data"
    },
    {
     "data": {
      "text/plain": [
       "(12, \"T\", Tuple{Int16,Int16}[(48, 1), (67, 5), (72, 1), (76, 3)])"
      ]
     },
     "metadata": {},
     "output_type": "display_data"
    },
    {
     "data": {
      "text/plain": [
       "(0, \"T/3\", Tuple{Int16,Int16}[(52, 3), (67, 5), (72, 1), (79, 5)])"
      ]
     },
     "metadata": {},
     "output_type": "display_data"
    },
    {
     "data": {
      "text/plain": [
       "(12, \"T\", Tuple{Int16,Int16}[(48, 1), (64, 3), (72, 1), (79, 5)])"
      ]
     },
     "metadata": {},
     "output_type": "display_data"
    },
    {
     "data": {
      "text/plain": [
       "(6, \"Ss\", Tuple{Int16,Int16}[(50, 1), (65, 3), (69, 5), (77, 3)])"
      ]
     },
     "metadata": {},
     "output_type": "display_data"
    },
    {
     "data": {
      "text/plain": [
       "(6, \"T\", Tuple{Int16,Int16}[(48, 1), (67, 5), (72, 1), (76, 3)])"
      ]
     },
     "metadata": {},
     "output_type": "display_data"
    },
    {
     "data": {
      "text/plain": [
       "(3, \"D7-1\", Tuple{Int16,Int16}[(50, 5), (65, 7), (71, 3), (74, 5)])"
      ]
     },
     "metadata": {},
     "output_type": "display_data"
    },
    {
     "data": {
      "text/plain": [
       "(9, \"T\", Tuple{Int16,Int16}[(48, 1), (64, 3), (72, 1), (79, 5)])"
      ]
     },
     "metadata": {},
     "output_type": "display_data"
    },
    {
     "data": {
      "text/plain": [
       "(6, \"T\", Tuple{Int16,Int16}[(60, 1), (64, 3), (72, 1), (79, 5)])"
      ]
     },
     "metadata": {},
     "output_type": "display_data"
    },
    {
     "data": {
      "text/plain": [
       "(0, \"Ts\", Tuple{Int16,Int16}[(57, 1), (64, 5), (72, 3), (72, 3)])"
      ]
     },
     "metadata": {},
     "output_type": "display_data"
    },
    {
     "data": {
      "text/plain": [
       "(0, \"D/3\", Tuple{Int16,Int16}[(59, 3), (62, 5), (67, 1), (74, 5)])"
      ]
     },
     "metadata": {},
     "output_type": "display_data"
    },
    {
     "data": {
      "text/plain": [
       "(12, \"S/3\", Tuple{Int16,Int16}[(57, 3), (60, 5), (65, 1), (77, 1)])"
      ]
     },
     "metadata": {},
     "output_type": "display_data"
    },
    {
     "data": {
      "text/plain": [
       "(6, \"Ts\", Tuple{Int16,Int16}[(57, 1), (60, 3), (72, 3), (76, 5)])"
      ]
     },
     "metadata": {},
     "output_type": "display_data"
    },
    {
     "data": {
      "text/plain": [
       "(0, \"D7/3\", Tuple{Int16,Int16}[(59, 3), (65, 7), (67, 1), (74, 5)])"
      ]
     },
     "metadata": {},
     "output_type": "display_data"
    },
    {
     "data": {
      "text/plain": [
       "(0, \"T\", Tuple{Int16,Int16}[(60, 1), (64, 3), (67, 5), (72, 1)])"
      ]
     },
     "metadata": {},
     "output_type": "display_data"
    },
    {
     "data": {
      "text/plain": [
       "(9, \"S\", Tuple{Int16,Int16}[(53, 1), (65, 1), (69, 3), (72, 5)])"
      ]
     },
     "metadata": {},
     "output_type": "display_data"
    },
    {
     "data": {
      "text/plain": [
       "(0, \"T\", Tuple{Int16,Int16}[(48, 1), (64, 3), (72, 1), (79, 5)])"
      ]
     },
     "metadata": {},
     "output_type": "display_data"
    },
    {
     "data": {
      "text/plain": [
       "(0, \"D7-1\", Tuple{Int16,Int16}[(50, 5), (65, 7), (71, 3), (77, 7)])"
      ]
     },
     "metadata": {},
     "output_type": "display_data"
    },
    {
     "data": {
      "text/plain": [
       "(6, \"T\", Tuple{Int16,Int16}[(48, 1), (67, 5), (72, 1), (76, 3)])"
      ]
     },
     "metadata": {},
     "output_type": "display_data"
    },
    {
     "data": {
      "text/plain": [
       "(9, \"D\", Tuple{Int16,Int16}[(55, 1), (67, 1), (71, 3), (74, 5)])"
      ]
     },
     "metadata": {},
     "output_type": "display_data"
    },
    {
     "data": {
      "text/plain": [
       "(15, \"S/3\", Tuple{Int16,Int16}[(57, 3), (65, 1), (72, 5), (77, 1)])"
      ]
     },
     "metadata": {},
     "output_type": "display_data"
    },
    {
     "data": {
      "text/plain": [
       "(18, \"D\", Tuple{Int16,Int16}[(55, 1), (62, 5), (71, 3), (79, 1)])"
      ]
     },
     "metadata": {},
     "output_type": "display_data"
    },
    {
     "data": {
      "text/plain": [
       "(15, \"D\", Tuple{Int16,Int16}[(55, 1), (67, 1), (71, 3), (74, 5)])"
      ]
     },
     "metadata": {},
     "output_type": "display_data"
    },
    {
     "data": {
      "text/plain": [
       "(21, \"T\", Tuple{Int16,Int16}[(48, 1), (67, 5), (72, 1), (76, 3)])"
      ]
     },
     "metadata": {},
     "output_type": "display_data"
    },
    {
     "data": {
      "text/plain": [
       "(21, \"T\", Tuple{Int16,Int16}[(48, 1), (67, 5), (72, 1), (76, 3)])"
      ]
     },
     "metadata": {},
     "output_type": "display_data"
    },
    {
     "name": "stdout",
     "output_type": "stream",
     "text": [
      "##: Done. Total checked: 92531, Pruned: 101661, completed: 13, time: 2.0759999752044678, efficiency: 6.2620424640032155\n",
      "Results: bestval_func: 132, bestval_voices: 98\n",
      "#Key: 1Scale: Major\n",
      "#Total time for optimisation of piece: 5.426999807357788\n",
      "#Total cost of piece: 431\n",
      "[\"T\", \"D/3\", \"T\", \"Ts\", \"D-5\", \"S/3\", \"D\", \"D\", \"T\", \"T/3\", \"T\", \"Ss\", \"T\", \"D7-1\", \"T\", \"T\", \"Ts\", \"D/3\", \"S/3\", \"Ts\", \"D7/3\", \"T\", \"S\", \"T\", \"D7-1\", \"T\", \"D\", \"S/3\", \"D\", \"D\", \"T\", \"T\"]\n",
      "../../results/optimizer/pianoroll/C137-5-Lobe-opt.csv\n",
      " End of file \n",
      " \n",
      "Optimising: ../../results/neuralnet/pianoroll/C140-7-Gloria-nn.csv\n",
      "[0 0 0 2 0 0 0 1 0 0 1 0; 0 0 1 0 0 1 0 0 0 0 2 0; 0 0 0 1 0 1 0 1 0 0 1 0; 0 0 1 0 0 1 0 0 0 0 1 0; 1 0 0 0 0 2 0 0 0 1 0 0; 0 0 1 0 0 1 0 0 1 0 1 0; 1 0 0 1 0 0 0 1 0 0 1 0; 1 0 0 0 0 1 0 0 0 0 2 0; 0 0 1 0 0 1 0 0 0 0 2 0; 0 0 1 0 0 1 0 0 0 0 2 0; 0 0 1 1 0 0 0 0 0 0 2 0; 1 0 0 2 0 1 0 0 0 0 0 0; 2 0 0 1 0 0 0 0 0 0 1 0; 0 0 1 0 0 1 0 1 0 0 1 0; 1 0 0 1 0 1 0 0 1 0 0 0; 0 0 0 0 0 2 0 1 0 0 1 0; 0 0 0 1 0 0 0 0 0 0 3 0; 0 0 1 1 0 0 0 0 0 0 2 0; 0 0 1 1 0 0 0 0 0 0 2 0; 0 0 0 2 0 0 0 0 0 0 2 0; 1 0 0 1 0 1 0 0 0 1 0 0; 0 0 0 1 0 1 0 1 0 0 1 0; 1 0 0 0 0 2 0 0 0 0 1 0; 0 0 1 1 0 0 0 1 0 0 1 0; 1 0 0 0 0 1 0 0 0 0 2 0; 0 0 1 0 0 1 0 0 0 0 2 0; 0 0 0 0 0 1 0 1 0 0 2 0; 0 0 0 1 0 0 0 1 0 0 2 0; 3 0 0 0 0 0 0 0 0 1 0 0; 1 0 1 0 0 0 0 1 0 0 1 0; 2 0 1 0 0 0 0 0 0 0 1 0; 2 0 0 0 0 2 0 0 0 0 0 0; 1 0 1 0 0 1 0 0 0 0 1 0]\n",
      "Key Counter is [19 0 14 18 0 24 0 10 2 3 41 0]\n",
      "Key Score is [70; 104; 27; 128; 23; 111; 85; 46; 114; 19; 129; 61]\n",
      "Position Counter for 11 is [41 0 19 0 14 18 0 24 0 10 2 3]\n",
      "Any[[11.0, 96.75, 1.0]]\n",
      "[11, 97, 1]\n",
      "11 A# Major\n",
      "Rhythm map: [\"S\", \"W\", \"S\", \"W\", \"S\", \"C\", \"C\", \"C\", \"S\", \"W\", \"S\", \"W\", \"S\", \"C\", \"C\", \"C\"] size: (16,)\n",
      "Amount of timesteps to optimise: 16\n",
      "Building lookup-table list...\n",
      "Lookup-table built.\n",
      "Initial function score upper bound: 499, voicing score upper bound: 499\n",
      "Starting search...\n",
      "New solution\n",
      "function cost: 171\n",
      "child voicing cost: 104\n",
      "Best yet: 275\n",
      "New solution\n",
      "function cost: 171\n",
      "child voicing cost: 101\n",
      "Best yet: 272\n",
      "New solution\n",
      "function cost: 180\n",
      "child voicing cost: 88\n",
      "Best yet: 268\n",
      "New solution\n",
      "function cost: 180\n",
      "child voicing cost: 85\n",
      "Best yet: 265\n",
      "New solution\n",
      "function cost: 180\n",
      "child voicing cost: 83\n",
      "Best yet: 263\n",
      "New solution\n",
      "function cost: 147\n",
      "child voicing cost: 114\n",
      "Best yet: 261\n",
      "New solution\n",
      "function cost: 150\n",
      "child voicing cost: 110\n",
      "Best yet: 260\n",
      "New solution\n",
      "function cost: 144\n",
      "child voicing cost: 114\n",
      "Best yet: 258\n",
      "New solution\n",
      "function cost: 144\n",
      "child voicing cost: 112\n",
      "Best yet: 256\n",
      "New solution\n",
      "function cost: 144\n",
      "child voicing cost: 110\n",
      "Best yet: 254\n",
      "New solution\n",
      "function cost: 141\n",
      "child voicing cost: 111\n",
      "Best yet: 252\n",
      "New solution\n",
      "function cost: 171\n",
      "child voicing cost: 79\n",
      "Best yet: 250\n",
      "New solution\n",
      "function cost: 162\n",
      "child voicing cost: 85\n",
      "Best yet: 247\n",
      "New solution\n",
      "function cost: 162\n",
      "child voicing cost: 82\n",
      "Best yet: 244\n",
      "New solution\n",
      "function cost: 156\n",
      "child voicing cost: 87\n",
      "Best yet: 243\n",
      "New solution\n",
      "function cost: 144\n",
      "child voicing cost: 98\n",
      "Best yet: 242\n",
      "New solution\n",
      "function cost: 144\n",
      "child voicing cost: 97\n",
      "Best yet: 241\n",
      "New solution\n",
      "function cost: 144\n",
      "child voicing cost: 94\n",
      "Best yet: 238\n",
      "New solution\n",
      "function cost: 144\n",
      "child voicing cost: 93\n",
      "Best yet: 237\n",
      "New solution\n",
      "function cost: 144\n",
      "child voicing cost: 92\n",
      "Best yet: 236\n",
      "New solution\n",
      "function cost: 144\n",
      "child voicing cost: 91\n",
      "Best yet: 235\n",
      "New solution\n",
      "function cost: 144\n",
      "child voicing cost: 90\n",
      "Best yet: 234\n",
      "New solution\n",
      "function cost: 144\n",
      "child voicing cost: 89\n",
      "Best yet: 233\n",
      "New solution\n",
      "function cost: 135\n",
      "child voicing cost: 82\n",
      "Best yet: 217\n",
      "New solution\n",
      "function cost: 135\n",
      "child voicing cost: 79\n",
      "Best yet: 214\n",
      "New solution\n",
      "function cost: 135\n",
      "child voicing cost: 76\n",
      "Best yet: 211\n",
      "New solution\n",
      "function cost: 120\n",
      "child voicing cost: 77\n",
      "Best yet: 197\n",
      "New solution\n",
      "function cost: 114\n",
      "child voicing cost: 81\n",
      "Best yet: 195\n",
      "##: Done. Total checked: 251657, Pruned: 381142, completed: 28, time: 5.5329999923706055, efficiency: 5.060545822990945\n",
      "Results: bestval_func: 114, bestval_voices: 81\n",
      "[0 0 0 2 0 0 0 1 0 0 1 0; 0 0 1 0 0 1 0 0 0 0 2 0; 0 0 0 1 0 1 0 1 0 0 1 0; 0 0 1 0 0 1 0 0 0 0 1 0; 1 0 0 0 0 2 0 0 0 1 0 0; 0 0 1 0 0 1 0 0 1 0 1 0; 1 0 0 1 0 0 0 1 0 0 1 0; 1 0 0 0 0 1 0 0 0 0 2 0; 0 0 1 0 0 1 0 0 0 0 2 0; 0 0 1 0 0 1 0 0 0 0 2 0; 0 0 1 1 0 0 0 0 0 0 2 0; 1 0 0 2 0 1 0 0 0 0 0 0; 2 0 0 1 0 0 0 0 0 0 1 0; 0 0 1 0 0 1 0 1 0 0 1 0; 1 0 0 1 0 1 0 0 1 0 0 0; 0 0 0 0 0 2 0 1 0 0 1 0; 0 0 0 1 0 0 0 0 0 0 3 0; 0 0 1 1 0 0 0 0 0 0 2 0; 0 0 1 1 0 0 0 0 0 0 2 0; 0 0 0 2 0 0 0 0 0 0 2 0; 1 0 0 1 0 1 0 0 0 1 0 0; 0 0 0 1 0 1 0 1 0 0 1 0; 1 0 0 0 0 2 0 0 0 0 1 0; 0 0 1 1 0 0 0 1 0 0 1 0; 1 0 0 0 0 1 0 0 0 0 2 0; 0 0 1 0 0 1 0 0 0 0 2 0; 0 0 0 0 0 1 0 1 0 0 2 0; 0 0 0 1 0 0 0 1 0 0 2 0; 3 0 0 0 0 0 0 0 0 1 0 0; 1 0 1 0 0 0 0 1 0 0 1 0; 2 0 1 0 0 0 0 0 0 0 1 0; 2 0 0 0 0 2 0 0 0 0 0 0; 1 0 1 0 0 1 0 0 0 0 1 0]\n",
      "Key Counter is [19 0 14 18 0 24 0 10 2 3 41 0]\n",
      "Key Score is [70; 104; 27; 128; 23; 111; 85; 46; 114; 19; 129; 61]\n",
      "Position Counter for 11 is [41 0 19 0 14 18 0 24 0 10 2 3]\n",
      "Any[[11.0, 96.75, 1.0]]\n",
      "[11, 97, 1]\n",
      "11 A# Major\n",
      "Rhythm map: [\"W\", \"S\", \"W\", \"S\", \"W\", \"S\", \"W\", \"S\", \"W\", \"S\", \"W\", \"S\", \"W\", \"A\", \"A\", \"A\", \"A\"] size: (17,)\n",
      "Amount of timesteps to optimise: 17\n",
      "Building lookup-table list...\n",
      "Lookup-table built.\n",
      "Initial function score upper bound: 499, voicing score upper bound: 499\n",
      "Starting search...\n",
      "New solution\n",
      "function cost: 192\n",
      "child voicing cost: 94\n",
      "Best yet: 286\n",
      "New solution\n",
      "function cost: 192\n",
      "child voicing cost: 91\n",
      "Best yet: 283\n",
      "New solution\n",
      "function cost: 192\n",
      "child voicing cost: 88\n",
      "Best yet: 280\n",
      "New solution\n",
      "function cost: 177\n",
      "child voicing cost: 98\n",
      "Best yet: 275\n",
      "New solution\n",
      "function cost: 177\n",
      "child voicing cost: 94\n",
      "Best yet: 271\n",
      "New solution\n",
      "function cost: 177\n",
      "child voicing cost: 91\n",
      "Best yet: 268\n",
      "New solution\n",
      "function cost: 177\n",
      "child voicing cost: 88\n",
      "Best yet: 265\n",
      "New solution\n",
      "function cost: 174\n",
      "child voicing cost: 87\n",
      "Best yet: 261\n",
      "New solution\n",
      "function cost: 174\n",
      "child voicing cost: 84\n",
      "Best yet: 258\n",
      "New solution\n",
      "function cost: 171\n",
      "child voicing cost: 86\n",
      "Best yet: 257\n",
      "New solution\n",
      "function cost: 171\n",
      "child voicing cost: 83\n",
      "Best yet: 254\n",
      "New solution\n",
      "function cost: 168\n",
      "child voicing cost: 85\n",
      "Best yet: 253\n",
      "New solution\n",
      "function cost: 174\n",
      "child voicing cost: 78\n",
      "Best yet: 252\n",
      "New solution\n",
      "function cost: 156\n",
      "child voicing cost: 93\n",
      "Best yet: 249\n",
      "New solution\n",
      "function cost: 171\n",
      "child voicing cost: 72\n",
      "Best yet: 243\n",
      "New solution\n",
      "function cost: 171\n",
      "child voicing cost: 69\n",
      "Best yet: 240\n",
      "New solution\n",
      "function cost: 159\n",
      "child voicing cost: 77\n",
      "Best yet: 236\n",
      "New solution\n",
      "function cost: 159\n",
      "child voicing cost: 74\n",
      "Best yet: 233\n",
      "New solution\n",
      "function cost: 156\n",
      "child voicing cost: 76\n",
      "Best yet: 232\n",
      "New solution\n",
      "function cost: 156\n",
      "child voicing cost: 73\n",
      "Best yet: 229\n",
      "New solution\n",
      "function cost: 144\n",
      "child voicing cost: 81\n",
      "Best yet: 225\n",
      "New solution\n",
      "function cost: 144\n",
      "child voicing cost: 78\n",
      "Best yet: 222\n",
      "New solution\n",
      "function cost: 144\n",
      "child voicing cost: 76\n",
      "Best yet: 220\n"
     ]
    },
    {
     "data": {
      "text/plain": [
       "(18, \"T\", Tuple{Int16,Int16}[(46, 1), (50, 3), (58, 1), (65, 5)])"
      ]
     },
     "metadata": {},
     "output_type": "display_data"
    },
    {
     "data": {
      "text/plain": [
       "(0, \"T\", Tuple{Int16,Int16}[(46, 1), (53, 5), (58, 1), (62, 3)])"
      ]
     },
     "metadata": {},
     "output_type": "display_data"
    },
    {
     "data": {
      "text/plain": [
       "(6, \"S\", Tuple{Int16,Int16}[(51, 1), (55, 3), (58, 5), (63, 1)])"
      ]
     },
     "metadata": {},
     "output_type": "display_data"
    },
    {
     "data": {
      "text/plain": [
       "(0, \"T/3\", Tuple{Int16,Int16}[(50, 3), (53, 5), (58, 1), (65, 5)])"
      ]
     },
     "metadata": {},
     "output_type": "display_data"
    },
    {
     "data": {
      "text/plain": [
       "(0, \"D/3\", Tuple{Int16,Int16}[(45, 3), (53, 1), (60, 5), (72, 5)])"
      ]
     },
     "metadata": {},
     "output_type": "display_data"
    },
    {
     "data": {
      "text/plain": [
       "(6, \"T\", Tuple{Int16,Int16}[(46, 1), (53, 5), (62, 3), (70, 1)])"
      ]
     },
     "metadata": {},
     "output_type": "display_data"
    },
    {
     "data": {
      "text/plain": [
       "(9, \"S\", Tuple{Int16,Int16}[(51, 1), (55, 3), (63, 1), (70, 5)])"
      ]
     },
     "metadata": {},
     "output_type": "display_data"
    },
    {
     "data": {
      "text/plain": [
       "(24, \"S\", Tuple{Int16,Int16}[(51, 1), (55, 3), (58, 5), (63, 1)])"
      ]
     },
     "metadata": {},
     "output_type": "display_data"
    },
    {
     "data": {
      "text/plain": [
       "(0, \"T/3\", Tuple{Int16,Int16}[(50, 3), (53, 5), (58, 1), (65, 5)])"
      ]
     },
     "metadata": {},
     "output_type": "display_data"
    },
    {
     "data": {
      "text/plain": [
       "(15, \"D/5\", Tuple{Int16,Int16}[(48, 5), (53, 1), (60, 5), (69, 3)])"
      ]
     },
     "metadata": {},
     "output_type": "display_data"
    },
    {
     "data": {
      "text/plain": [
       "(6, \"T\", Tuple{Int16,Int16}[(46, 1), (53, 5), (62, 3), (70, 1)])"
      ]
     },
     "metadata": {},
     "output_type": "display_data"
    },
    {
     "data": {
      "text/plain": [
       "(12, \"S\", Tuple{Int16,Int16}[(51, 1), (55, 3), (63, 1), (70, 5)])"
      ]
     },
     "metadata": {},
     "output_type": "display_data"
    },
    {
     "data": {
      "text/plain": [
       "(3, \"D7-1\", Tuple{Int16,Int16}[(48, 5), (57, 3), (63, 7), (72, 5)])"
      ]
     },
     "metadata": {},
     "output_type": "display_data"
    },
    {
     "data": {
      "text/plain": [
       "(6, \"Ts\", Tuple{Int16,Int16}[(55, 1), (58, 3), (62, 5), (67, 1)])"
      ]
     },
     "metadata": {},
     "output_type": "display_data"
    },
    {
     "data": {
      "text/plain": [
       "(9, \"D\", Tuple{Int16,Int16}[(53, 1), (60, 5), (65, 1), (69, 3)])"
      ]
     },
     "metadata": {},
     "output_type": "display_data"
    },
    {
     "data": {
      "text/plain": [
       "(18, \"D\", Tuple{Int16,Int16}[(41, 1), (60, 5), (65, 1), (69, 3)])"
      ]
     },
     "metadata": {},
     "output_type": "display_data"
    },
    {
     "data": {
      "text/plain": [
       "(3, \"T-5\", Tuple{Int16,Int16}[(46, 1), (58, 1), (62, 3), (70, 1)])"
      ]
     },
     "metadata": {},
     "output_type": "display_data"
    },
    {
     "data": {
      "text/plain": [
       "(12, \"S/5\", Tuple{Int16,Int16}[(46, 5), (58, 5), (63, 1), (67, 3)])"
      ]
     },
     "metadata": {},
     "output_type": "display_data"
    },
    {
     "data": {
      "text/plain": [
       "(6, \"T\", Tuple{Int16,Int16}[(46, 1), (58, 1), (62, 3), (65, 5)])"
      ]
     },
     "metadata": {},
     "output_type": "display_data"
    },
    {
     "data": {
      "text/plain": [
       "(0, \"S/3\", Tuple{Int16,Int16}[(43, 3), (58, 5), (63, 1), (70, 5)])"
      ]
     },
     "metadata": {},
     "output_type": "display_data"
    },
    {
     "data": {
      "text/plain": [
       "(0, \"D7\", Tuple{Int16,Int16}[(41, 1), (57, 3), (63, 7), (72, 5)])"
      ]
     },
     "metadata": {},
     "output_type": "display_data"
    },
    {
     "data": {
      "text/plain": [
       "(9, \"Ts\", Tuple{Int16,Int16}[(43, 1), (58, 3), (62, 5), (70, 3)])"
      ]
     },
     "metadata": {},
     "output_type": "display_data"
    },
    {
     "data": {
      "text/plain": [
       "(3, \"D\", Tuple{Int16,Int16}[(41, 1), (60, 5), (69, 3), (77, 1)])"
      ]
     },
     "metadata": {},
     "output_type": "display_data"
    },
    {
     "data": {
      "text/plain": [
       "(3, \"S/3\", Tuple{Int16,Int16}[(43, 3), (58, 5), (70, 5), (75, 1)])"
      ]
     },
     "metadata": {},
     "output_type": "display_data"
    },
    {
     "data": {
      "text/plain": [
       "(9, \"D/3\", Tuple{Int16,Int16}[(45, 3), (60, 5), (65, 1), (72, 5)])"
      ]
     },
     "metadata": {},
     "output_type": "display_data"
    },
    {
     "data": {
      "text/plain": [
       "(0, \"T\", Tuple{Int16,Int16}[(46, 1), (62, 3), (65, 5), (70, 1)])"
      ]
     },
     "metadata": {},
     "output_type": "display_data"
    },
    {
     "data": {
      "text/plain": [
       "(15, \"D\", Tuple{Int16,Int16}[(53, 1), (60, 5), (65, 1), (69, 3)])"
      ]
     },
     "metadata": {},
     "output_type": "display_data"
    },
    {
     "data": {
      "text/plain": [
       "(0, \"S/3\", Tuple{Int16,Int16}[(55, 3), (58, 5), (63, 1), (63, 1)])"
      ]
     },
     "metadata": {},
     "output_type": "display_data"
    },
    {
     "data": {
      "text/plain": [
       "(30, \"D\", Tuple{Int16,Int16}[(53, 1), (57, 3), (60, 5), (65, 1)])"
      ]
     },
     "metadata": {},
     "output_type": "display_data"
    },
    {
     "data": {
      "text/plain": [
       "(12, \"D7\", Tuple{Int16,Int16}[(53, 1), (57, 3), (60, 5), (63, 7)])"
      ]
     },
     "metadata": {},
     "output_type": "display_data"
    },
    {
     "data": {
      "text/plain": [
       "(21, \"T\", Tuple{Int16,Int16}[(46, 1), (53, 5), (58, 1), (62, 3)])"
      ]
     },
     "metadata": {},
     "output_type": "display_data"
    },
    {
     "data": {
      "text/plain": [
       "(21, \"T\", Tuple{Int16,Int16}[(46, 1), (53, 5), (58, 1), (62, 3)])"
      ]
     },
     "metadata": {},
     "output_type": "display_data"
    },
    {
     "name": "stdout",
     "output_type": "stream",
     "text": [
      "##: Done. Total checked: 202356, Pruned: 221123, completed: 23, time: 3.9880001544952393, efficiency: 5.767301682291712\n",
      "Results: bestval_func: 144, bestval_voices: 76\n",
      "#Key: 11Scale: Major\n",
      "#Total time for optimisation of piece: 10.75\n",
      "#Total cost of piece: 415\n",
      "[\"T\", \"T\", \"S\", \"T/3\", \"D/3\", \"T\", \"S\", \"S\", \"T/3\", \"D/5\", \"T\", \"S\", \"D7-1\", \"Ts\", \"D\", \"D\", \"T-5\", \"S/5\", \"T\", \"S/3\", \"D7\", \"Ts\", \"D\", \"S/3\", \"D/3\", \"T\", \"D\", \"S/3\", \"D\", \"D7\", \"T\", \"T\"]\n",
      "../../results/optimizer/pianoroll/C140-7-Gloria-opt.csv\n",
      " End of file \n",
      " \n",
      "Optimising: ../../results/neuralnet/pianoroll/CO-05-fitly-nn.csv\n",
      "[0 0 1 0 2 0 0 0 1 0 0 0; 0 0 0 0 0 1 0 0 0 2 0 0; 0 0 0 0 0 0 0 2 0 0 0 1; 0 0 1 0 0 1 0 0 0 0 0 1; 1 0 0 0 1 0 0 1 0 0 0 0; 1 0 1 0 0 0 0 1 0 0 0 1; 1 0 0 0 1 0 0 1 0 0 0 1; 1 0 0 0 1 0 0 1 0 1 0 0; 0 0 2 0 0 0 0 1 0 1 0 0; 0 0 2 0 0 0 1 0 0 1 0 0; 0 0 2 0 0 0 1 1 0 0 0 0; 0 0 1 0 0 0 0 1 0 1 0 1; 0 0 0 0 1 0 0 2 0 0 0 1; 0 0 1 0 1 1 0 1 0 0 0 0; 0 0 0 0 1 1 0 1 0 1 0 0; 0 0 0 0 2 1 0 1 0 0 0 0; 0 0 1 0 1 1 0 1 0 0 0 0; 0 0 1 0 0 1 0 2 0 0 0 0; 0 0 1 0 2 0 0 1 0 0 0 0; 0 0 1 0 1 0 0 1 0 1 0 0; 0 0 1 0 0 0 0 2 0 0 0 1; 2 0 0 0 1 0 0 1 0 0 0 0; 2 0 0 0 1 0 0 1 0 0 0 0; 1 0 0 0 2 0 0 1 0 0 0 0; 0 0 1 0 0 1 0 1 0 1 0 0; 0 0 1 0 1 1 0 1 0 0 0 0; 0 0 2 0 0 0 0 1 0 1 0 0; 0 0 1 0 1 0 0 1 0 1 0 0; 0 0 2 0 0 1 0 0 0 1 0 0; 0 0 2 0 0 0 0 0 0 1 0 1; 1 0 0 0 1 0 0 0 0 2 0 0; 1 0 0 0 2 0 0 0 0 1 0 0; 0 0 0 0 2 0 0 0 0 0 0 2]\n",
      "Key Counter is [11 0 25 0 25 10 2 28 1 16 0 10]\n",
      "Key Score is [125; 24; 106; 75; 54; 115; 23; 117; 50; 79; 90; 38]\n",
      "Position Counter for 1 is [11 0 25 0 25 10 2 28 1 16 0 10]\n",
      "Any[[1.0, 81.5, 0.0]]\n",
      "[1, 82, 0]\n",
      "10 A Minor\n",
      "Rhythm map: [\"S\", \"W\", \"S\", \"W\", \"S\", \"C\", \"C\", \"C\", \"S\", \"W\", \"S\", \"W\", \"S\", \"C\", \"C\", \"C\"] size: (16,)\n",
      "Amount of timesteps to optimise: 16\n",
      "Building lookup-table list...\n",
      "Lookup-table built.\n",
      "Initial function score upper bound: 499, voicing score upper bound: 499\n",
      "Starting search...\n",
      "New solution\n",
      "function cost: 144\n",
      "child voicing cost: 93\n",
      "Best yet: 237\n",
      "New solution\n",
      "function cost: 144\n",
      "child voicing cost: 91\n",
      "Best yet: 235\n",
      "New solution\n",
      "function cost: 144\n",
      "child voicing cost: 90\n",
      "Best yet: 234\n",
      "New solution\n",
      "function cost: 144\n",
      "child voicing cost: 88\n",
      "Best yet: 232\n",
      "New solution\n",
      "function cost: 144\n",
      "child voicing cost: 86\n",
      "Best yet: 230\n",
      "New solution\n",
      "function cost: 141\n",
      "child voicing cost: 86\n",
      "Best yet: 227\n",
      "New solution\n",
      "function cost: 141\n",
      "child voicing cost: 84\n",
      "Best yet: 225\n",
      "New solution\n",
      "function cost: 141\n",
      "child voicing cost: 82\n",
      "Best yet: 223\n",
      "New solution\n",
      "function cost: 141\n",
      "child voicing cost: 80\n",
      "Best yet: 221\n",
      "New solution\n",
      "function cost: 141\n",
      "child voicing cost: 76\n",
      "Best yet: 217\n",
      "##: Done. Total checked: 61282, Pruned: 69735, completed: 10, time: 1.2720000743865967, efficiency: 7.861634760377159\n",
      "Results: bestval_func: 141, bestval_voices: 76\n",
      "[0 0 1 0 2 0 0 0 1 0 0 0; 0 0 0 0 0 1 0 0 0 2 0 0; 0 0 0 0 0 0 0 2 0 0 0 1; 0 0 1 0 0 1 0 0 0 0 0 1; 1 0 0 0 1 0 0 1 0 0 0 0; 1 0 1 0 0 0 0 1 0 0 0 1; 1 0 0 0 1 0 0 1 0 0 0 1; 1 0 0 0 1 0 0 1 0 1 0 0; 0 0 2 0 0 0 0 1 0 1 0 0; 0 0 2 0 0 0 1 0 0 1 0 0; 0 0 2 0 0 0 1 1 0 0 0 0; 0 0 1 0 0 0 0 1 0 1 0 1; 0 0 0 0 1 0 0 2 0 0 0 1; 0 0 1 0 1 1 0 1 0 0 0 0; 0 0 0 0 1 1 0 1 0 1 0 0; 0 0 0 0 2 1 0 1 0 0 0 0; 0 0 1 0 1 1 0 1 0 0 0 0; 0 0 1 0 0 1 0 2 0 0 0 0; 0 0 1 0 2 0 0 1 0 0 0 0; 0 0 1 0 1 0 0 1 0 1 0 0; 0 0 1 0 0 0 0 2 0 0 0 1; 2 0 0 0 1 0 0 1 0 0 0 0; 2 0 0 0 1 0 0 1 0 0 0 0; 1 0 0 0 2 0 0 1 0 0 0 0; 0 0 1 0 0 1 0 1 0 1 0 0; 0 0 1 0 1 1 0 1 0 0 0 0; 0 0 2 0 0 0 0 1 0 1 0 0; 0 0 1 0 1 0 0 1 0 1 0 0; 0 0 2 0 0 1 0 0 0 1 0 0; 0 0 2 0 0 0 0 0 0 1 0 1; 1 0 0 0 1 0 0 0 0 2 0 0; 1 0 0 0 2 0 0 0 0 1 0 0; 0 0 0 0 2 0 0 0 0 0 0 2]\n",
      "Key Counter is [11 0 25 0 25 10 2 28 1 16 0 10]\n",
      "Key Score is [125; 24; 106; 75; 54; 115; 23; 117; 50; 79; 90; 38]\n",
      "Position Counter for 1 is [11 0 25 0 25 10 2 28 1 16 0 10]\n",
      "Any[[1.0, 81.5, 0.0]]\n",
      "[1, 82, 0]\n",
      "10 A Minor\n",
      "Rhythm map: [\"W\", \"S\", \"W\", \"S\", \"W\", \"S\", \"W\", \"S\", \"W\", \"S\", \"W\", \"S\", \"W\", \"A\", \"A\", \"A\", \"A\"] size: (17,)\n",
      "Amount of timesteps to optimise: 17\n",
      "Building lookup-table list...\n",
      "Lookup-table built.\n",
      "Initial function score upper bound: 499, voicing score upper bound: 499\n",
      "Starting search...\n",
      "New solution\n",
      "function cost: 204\n",
      "child voicing cost: 69\n",
      "Best yet: 273\n",
      "New solution\n",
      "function cost: 204\n",
      "child voicing cost: 66\n",
      "Best yet: 270\n",
      "New solution\n",
      "function cost: 198\n",
      "child voicing cost: 69\n",
      "Best yet: 267\n",
      "New solution\n",
      "function cost: 192\n",
      "child voicing cost: 73\n",
      "Best yet: 265\n",
      "New solution\n",
      "function cost: 198\n",
      "child voicing cost: 65\n",
      "Best yet: 263\n",
      "New solution\n",
      "function cost: 186\n",
      "child voicing cost: 73\n",
      "Best yet: 259\n",
      "New solution\n",
      "function cost: 186\n",
      "child voicing cost: 67\n",
      "Best yet: 253\n",
      "New solution\n",
      "function cost: 192\n",
      "child voicing cost: 59\n",
      "Best yet: 251\n",
      "New solution\n",
      "function cost: 192\n",
      "child voicing cost: 55\n",
      "Best yet: 247\n",
      "New solution\n",
      "function cost: 198\n",
      "child voicing cost: 47\n",
      "Best yet: 245\n",
      "New solution\n",
      "function cost: 180\n",
      "child voicing cost: 64\n",
      "Best yet: 244\n",
      "New solution\n",
      "function cost: 174\n",
      "child voicing cost: 68\n",
      "Best yet: 242\n",
      "New solution\n",
      "function cost: 168\n",
      "child voicing cost: 71\n",
      "Best yet: 239\n",
      "New solution\n",
      "function cost: 174\n",
      "child voicing cost: 63\n",
      "Best yet: 237\n",
      "New solution\n",
      "function cost: 168\n",
      "child voicing cost: 67\n",
      "Best yet: 235\n",
      "New solution\n",
      "function cost: 168\n",
      "child voicing cost: 61\n",
      "Best yet: 229\n",
      "New solution\n",
      "function cost: 174\n",
      "child voicing cost: 53\n",
      "Best yet: 227\n",
      "New solution\n",
      "function cost: 171\n",
      "child voicing cost: 55\n",
      "Best yet: 226\n",
      "New solution\n",
      "function cost: 165\n",
      "child voicing cost: 57\n",
      "Best yet: 222\n",
      "New solution\n",
      "function cost: 171\n",
      "child voicing cost: 49\n",
      "Best yet: 220\n"
     ]
    },
    {
     "data": {
      "text/plain": [
       "(24, \"T\", Tuple{Int16,Int16}[(57, 1), (57, 1), (64, 5), (72, 3)])"
      ]
     },
     "metadata": {},
     "output_type": "display_data"
    },
    {
     "data": {
      "text/plain": [
       "(0, \"S/3\", Tuple{Int16,Int16}[(53, 3), (57, 5), (62, 1), (74, 1)])"
      ]
     },
     "metadata": {},
     "output_type": "display_data"
    },
    {
     "data": {
      "text/plain": [
       "(12, \"D\", Tuple{Int16,Int16}[(52, 1), (59, 5), (64, 1), (68, 3)])"
      ]
     },
     "metadata": {},
     "output_type": "display_data"
    },
    {
     "data": {
      "text/plain": [
       "(3, \"D7/7\", Tuple{Int16,Int16}[(50, 7), (59, 5), (64, 1), (68, 3)])"
      ]
     },
     "metadata": {},
     "output_type": "display_data"
    },
    {
     "data": {
      "text/plain": [
       "(6, \"T/3\", Tuple{Int16,Int16}[(48, 3), (57, 1), (64, 5), (69, 1)])"
      ]
     },
     "metadata": {},
     "output_type": "display_data"
    },
    {
     "data": {
      "text/plain": [
       "(12, \"D/3\", Tuple{Int16,Int16}[(44, 3), (59, 5), (64, 1), (76, 1)])"
      ]
     },
     "metadata": {},
     "output_type": "display_data"
    },
    {
     "data": {
      "text/plain": [
       "(12, \"T\", Tuple{Int16,Int16}[(45, 1), (60, 3), (69, 1), (76, 5)])"
      ]
     },
     "metadata": {},
     "output_type": "display_data"
    },
    {
     "data": {
      "text/plain": [
       "(6, \"T\", Tuple{Int16,Int16}[(45, 1), (64, 5), (69, 1), (72, 3)])"
      ]
     },
     "metadata": {},
     "output_type": "display_data"
    },
    {
     "data": {
      "text/plain": [
       "(6, \"S\", Tuple{Int16,Int16}[(50, 1), (65, 3), (69, 5), (74, 1)])"
      ]
     },
     "metadata": {},
     "output_type": "display_data"
    },
    {
     "data": {
      "text/plain": [
       "(3, \"S\", Tuple{Int16,Int16}[(50, 1), (62, 1), (69, 5), (77, 3)])"
      ]
     },
     "metadata": {},
     "output_type": "display_data"
    },
    {
     "data": {
      "text/plain": [
       "(15, \"D7-5\", Tuple{Int16,Int16}[(52, 1), (62, 7), (68, 3), (76, 1)])"
      ]
     },
     "metadata": {},
     "output_type": "display_data"
    },
    {
     "data": {
      "text/plain": [
       "(15, \"T\", Tuple{Int16,Int16}[(57, 1), (60, 3), (69, 1), (76, 5)])"
      ]
     },
     "metadata": {},
     "output_type": "display_data"
    },
    {
     "data": {
      "text/plain": [
       "(6, \"Dm\", Tuple{Int16,Int16}[(55, 1), (62, 5), (71, 3), (79, 1)])"
      ]
     },
     "metadata": {},
     "output_type": "display_data"
    },
    {
     "data": {
      "text/plain": [
       "(12, \"S/3\", Tuple{Int16,Int16}[(53, 3), (62, 1), (69, 5), (74, 1)])"
      ]
     },
     "metadata": {},
     "output_type": "display_data"
    },
    {
     "data": {
      "text/plain": [
       "(12, \"D\", Tuple{Int16,Int16}[(52, 1), (59, 5), (68, 3), (76, 1)])"
      ]
     },
     "metadata": {},
     "output_type": "display_data"
    },
    {
     "data": {
      "text/plain": [
       "(21, \"D\", Tuple{Int16,Int16}[(40, 1), (59, 5), (68, 3), (76, 1)])"
      ]
     },
     "metadata": {},
     "output_type": "display_data"
    },
    {
     "data": {
      "text/plain": [
       "(12, \"S/3\", Tuple{Int16,Int16}[(41, 3), (57, 5), (69, 5), (74, 1)])"
      ]
     },
     "metadata": {},
     "output_type": "display_data"
    },
    {
     "data": {
      "text/plain": [
       "(18, \"Ts\", Tuple{Int16,Int16}[(41, 1), (57, 3), (69, 3), (72, 5)])"
      ]
     },
     "metadata": {},
     "output_type": "display_data"
    },
    {
     "data": {
      "text/plain": [
       "(12, \"D\", Tuple{Int16,Int16}[(40, 1), (59, 5), (68, 3), (76, 1)])"
      ]
     },
     "metadata": {},
     "output_type": "display_data"
    },
    {
     "data": {
      "text/plain": [
       "(9, \"S/3\", Tuple{Int16,Int16}[(41, 3), (57, 5), (69, 5), (74, 1)])"
      ]
     },
     "metadata": {},
     "output_type": "display_data"
    },
    {
     "data": {
      "text/plain": [
       "(12, \"D7/3\", Tuple{Int16,Int16}[(44, 3), (64, 1), (71, 5), (74, 7)])"
      ]
     },
     "metadata": {},
     "output_type": "display_data"
    },
    {
     "data": {
      "text/plain": [
       "(15, \"T\", Tuple{Int16,Int16}[(45, 1), (64, 5), (69, 1), (72, 3)])"
      ]
     },
     "metadata": {},
     "output_type": "display_data"
    },
    {
     "data": {
      "text/plain": [
       "(18, \"S65\", Tuple{Int16,Int16}[(50, 1), (65, 3), (69, 5), (71, 6)])"
      ]
     },
     "metadata": {},
     "output_type": "display_data"
    },
    {
     "data": {
      "text/plain": [
       "(6, \"D\", Tuple{Int16,Int16}[(52, 1), (64, 1), (68, 3), (71, 5)])"
      ]
     },
     "metadata": {},
     "output_type": "display_data"
    },
    {
     "data": {
      "text/plain": [
       "(6, \"S/3\", Tuple{Int16,Int16}[(53, 3), (62, 1), (69, 5), (74, 1)])"
      ]
     },
     "metadata": {},
     "output_type": "display_data"
    },
    {
     "data": {
      "text/plain": [
       "(15, \"T/5\", Tuple{Int16,Int16}[(52, 5), (64, 5), (69, 1), (72, 3)])"
      ]
     },
     "metadata": {},
     "output_type": "display_data"
    },
    {
     "data": {
      "text/plain": [
       "(6, \"S\", Tuple{Int16,Int16}[(50, 1), (65, 3), (69, 5), (74, 1)])"
      ]
     },
     "metadata": {},
     "output_type": "display_data"
    },
    {
     "data": {
      "text/plain": [
       "(12, \"T/3\", Tuple{Int16,Int16}[(48, 3), (64, 5), (69, 1), (76, 5)])"
      ]
     },
     "metadata": {},
     "output_type": "display_data"
    },
    {
     "data": {
      "text/plain": [
       "(0, \"S\", Tuple{Int16,Int16}[(50, 1), (57, 5), (65, 3), (74, 1)])"
      ]
     },
     "metadata": {},
     "output_type": "display_data"
    },
    {
     "data": {
      "text/plain": [
       "(15, \"D\", Tuple{Int16,Int16}[(52, 1), (56, 3), (64, 1), (71, 5)])"
      ]
     },
     "metadata": {},
     "output_type": "display_data"
    },
    {
     "data": {
      "text/plain": [
       "(0, \"T\", Tuple{Int16,Int16}[(45, 1), (57, 1), (64, 5), (72, 3)])"
      ]
     },
     "metadata": {},
     "output_type": "display_data"
    },
    {
     "data": {
      "text/plain": [
       "(0, \"T\", Tuple{Int16,Int16}[(45, 1), (57, 1), (64, 5), (72, 3)])"
      ]
     },
     "metadata": {},
     "output_type": "display_data"
    },
    {
     "name": "stdout",
     "output_type": "stream",
     "text": [
      "##: Done. Total checked: 169662, Pruned: 194511, completed: 20, time: 3.577000141143799, efficiency: 5.591277386308602\n",
      "Results: bestval_func: 171, bestval_voices: 49\n",
      "#Key: 10Scale: Minor\n",
      "#Total time for optimisation of piece: 6.375\n",
      "#Total cost of piece: 437\n",
      "[\"T\", \"S/3\", \"D\", \"D7/7\", \"T/3\", \"D/3\", \"T\", \"T\", \"S\", \"S\", \"D7-5\", \"T\", \"Dm\", \"S/3\", \"D\", \"D\", \"S/3\", \"Ts\", \"D\", \"S/3\", \"D7/3\", \"T\", \"S65\", \"D\", \"S/3\", \"T/5\", \"S\", \"T/3\", \"S\", \"D\", \"T\", \"T\"]\n",
      "../../results/optimizer/pianoroll/CO-05-fitly-opt.csv\n",
      " End of file \n",
      " \n",
      "Optimising: ../../results/neuralnet/pianoroll/CO-09-jesus-nn.csv\n",
      "[0 0 2 0 0 0 1 0 0 0 0 0; 0 1 0 0 1 0 0 0 1 1 0 0; 0 0 1 0 0 0 1 0 1 0 0 1; 0 2 0 0 1 0 0 1 0 0 0 0; 0 1 0 0 1 0 1 0 0 1 0 0; 0 0 2 0 0 0 1 0 0 0 0 1; 0 1 0 0 3 0 0 0 0 0 0 0; 0 1 1 0 1 0 1 0 0 0 0 0; 0 0 1 0 2 0 0 0 0 0 0 1; 0 0 0 0 1 0 0 0 0 3 0 0; 0 1 0 0 1 0 0 0 0 2 0 0; 0 0 1 0 1 0 0 0 1 0 0 1; 0 0 0 0 1 0 0 1 0 1 0 1; 0 0 0 0 1 0 2 0 0 1 0 0; 0 0 1 0 0 0 1 0 0 1 0 1; 0 0 0 0 2 0 0 0 0 2 0 0; 0 0 2 0 0 0 0 0 0 2 0 0; 0 0 0 0 2 0 0 0 0 1 0 1; 0 0 0 0 1 0 0 0 1 1 0 1; 0 1 0 0 1 0 0 0 0 2 0 0; 0 0 0 0 1 0 0 0 0 3 0 0; 0 0 2 0 1 0 0 0 0 1 0 0; 0 0 1 0 1 0 0 1 0 0 0 1; 0 0 1 0 0 0 2 0 0 1 0 0; 0 1 0 0 3 0 0 0 0 0 0 0; 0 0 2 0 0 0 0 0 0 1 0 1; 0 1 1 0 1 0 0 0 0 1 0 0; 0 0 3 0 0 0 0 0 0 0 0 1; 0 0 0 0 2 0 0 1 0 1 0 0; 0 0 1 0 1 0 0 1 0 1 0 0; 0 0 1 0 0 0 1 0 0 1 0 1; 0 1 0 0 2 0 0 0 0 1 0 0; 0 0 2 0 1 0 0 0 0 1 0 0]\n",
      "Key Counter is [0 11 25 0 33 0 11 5 4 30 0 12]\n",
      "Key Score is [105; 26; 127; 34; 101; 93; 38; 116; 20; 126; 60; 71]\n",
      "Position Counter for 3 is [25 0 33 0 11 5 4 30 0 12 0 11]\n",
      "Any[[3.0, 85.0, 1.0]]\n",
      "[3, 85, 1]\n",
      "3 D Major\n",
      "Rhythm map: [\"S\", \"W\", \"S\", \"W\", \"S\", \"C\", \"C\", \"C\", \"S\", \"W\", \"S\", \"W\", \"S\", \"C\", \"C\", \"C\"] size: (16,)\n",
      "Amount of timesteps to optimise: 16\n",
      "Building lookup-table list...\n",
      "Lookup-table built.\n",
      "Initial function score upper bound: 499, voicing score upper bound: 499\n",
      "Starting search...\n",
      "New solution\n",
      "function cost: 195\n",
      "child voicing cost: 80\n",
      "Best yet: 275\n",
      "New solution\n",
      "function cost: 195\n",
      "child voicing cost: 76\n",
      "Best yet: 271\n",
      "New solution\n",
      "function cost: 195\n",
      "child voicing cost: 75\n",
      "Best yet: 270\n",
      "New solution\n",
      "function cost: 195\n",
      "child voicing cost: 74\n",
      "Best yet: 269\n",
      "New solution\n",
      "function cost: 195\n",
      "child voicing cost: 72\n",
      "Best yet: 267\n",
      "New solution\n",
      "function cost: 195\n",
      "child voicing cost: 71\n",
      "Best yet: 266\n",
      "New solution\n",
      "function cost: 195\n",
      "child voicing cost: 69\n",
      "Best yet: 264\n",
      "New solution\n",
      "function cost: 195\n",
      "child voicing cost: 68\n",
      "Best yet: 263\n",
      "New solution\n",
      "function cost: 186\n",
      "child voicing cost: 75\n",
      "Best yet: 261\n",
      "New solution\n",
      "function cost: 186\n",
      "child voicing cost: 74\n",
      "Best yet: 260\n",
      "New solution\n",
      "function cost: 186\n",
      "child voicing cost: 73\n",
      "Best yet: 259\n",
      "New solution\n",
      "function cost: 186\n",
      "child voicing cost: 71\n",
      "Best yet: 257\n",
      "New solution\n",
      "function cost: 192\n",
      "child voicing cost: 63\n",
      "Best yet: 255\n",
      "New solution\n",
      "function cost: 189\n",
      "child voicing cost: 63\n",
      "Best yet: 252\n",
      "New solution\n",
      "function cost: 180\n",
      "child voicing cost: 70\n",
      "Best yet: 250\n",
      "New solution\n",
      "function cost: 180\n",
      "child voicing cost: 68\n",
      "Best yet: 248\n",
      "##: Done. Total checked: 155446, Pruned: 201299, completed: 16, time: 3.2850000858306885, efficiency: 4.87062392144627\n",
      "Results: bestval_func: 180, bestval_voices: 68\n",
      "[0 0 2 0 0 0 1 0 0 0 0 0; 0 1 0 0 1 0 0 0 1 1 0 0; 0 0 1 0 0 0 1 0 1 0 0 1; 0 2 0 0 1 0 0 1 0 0 0 0; 0 1 0 0 1 0 1 0 0 1 0 0; 0 0 2 0 0 0 1 0 0 0 0 1; 0 1 0 0 3 0 0 0 0 0 0 0; 0 1 1 0 1 0 1 0 0 0 0 0; 0 0 1 0 2 0 0 0 0 0 0 1; 0 0 0 0 1 0 0 0 0 3 0 0; 0 1 0 0 1 0 0 0 0 2 0 0; 0 0 1 0 1 0 0 0 1 0 0 1; 0 0 0 0 1 0 0 1 0 1 0 1; 0 0 0 0 1 0 2 0 0 1 0 0; 0 0 1 0 0 0 1 0 0 1 0 1; 0 0 0 0 2 0 0 0 0 2 0 0; 0 0 2 0 0 0 0 0 0 2 0 0; 0 0 0 0 2 0 0 0 0 1 0 1; 0 0 0 0 1 0 0 0 1 1 0 1; 0 1 0 0 1 0 0 0 0 2 0 0; 0 0 0 0 1 0 0 0 0 3 0 0; 0 0 2 0 1 0 0 0 0 1 0 0; 0 0 1 0 1 0 0 1 0 0 0 1; 0 0 1 0 0 0 2 0 0 1 0 0; 0 1 0 0 3 0 0 0 0 0 0 0; 0 0 2 0 0 0 0 0 0 1 0 1; 0 1 1 0 1 0 0 0 0 1 0 0; 0 0 3 0 0 0 0 0 0 0 0 1; 0 0 0 0 2 0 0 1 0 1 0 0; 0 0 1 0 1 0 0 1 0 1 0 0; 0 0 1 0 0 0 1 0 0 1 0 1; 0 1 0 0 2 0 0 0 0 1 0 0; 0 0 2 0 1 0 0 0 0 1 0 0]\n",
      "Key Counter is [0 11 25 0 33 0 11 5 4 30 0 12]\n",
      "Key Score is [105; 26; 127; 34; 101; 93; 38; 116; 20; 126; 60; 71]\n",
      "Position Counter for 3 is [25 0 33 0 11 5 4 30 0 12 0 11]\n",
      "Any[[3.0, 85.0, 1.0]]\n",
      "[3, 85, 1]\n",
      "3 D Major\n",
      "Rhythm map: [\"W\", \"S\", \"W\", \"S\", \"W\", \"S\", \"W\", \"S\", \"W\", \"S\", \"W\", \"S\", \"W\", \"A\", \"A\", \"A\", \"A\"] size: (17,)\n",
      "Amount of timesteps to optimise: 17\n",
      "Building lookup-table list...\n",
      "Lookup-table built.\n",
      "Initial function score upper bound: 499, voicing score upper bound: 499\n",
      "Starting search...\n",
      "New solution\n",
      "function cost: 240\n",
      "child voicing cost: 72\n",
      "Best yet: 312\n",
      "New solution\n",
      "function cost: 240\n",
      "child voicing cost: 71\n",
      "Best yet: 311\n",
      "New solution\n",
      "function cost: 216\n",
      "child voicing cost: 91\n",
      "Best yet: 307\n",
      "New solution\n",
      "function cost: 216\n",
      "child voicing cost: 88\n",
      "Best yet: 304\n",
      "New solution\n",
      "function cost: 216\n",
      "child voicing cost: 85\n",
      "Best yet: 301\n",
      "New solution\n",
      "function cost: 210\n",
      "child voicing cost: 90\n",
      "Best yet: 300\n",
      "New solution\n",
      "function cost: 210\n",
      "child voicing cost: 89\n",
      "Best yet: 299\n",
      "New solution\n",
      "function cost: 210\n",
      "child voicing cost: 86\n",
      "Best yet: 296\n",
      "New solution\n",
      "function cost: 204\n",
      "child voicing cost: 83\n",
      "Best yet: 287\n",
      "New solution\n",
      "function cost: 204\n",
      "child voicing cost: 80\n",
      "Best yet: 284\n",
      "New solution\n",
      "function cost: 204\n",
      "child voicing cost: 77\n",
      "Best yet: 281\n",
      "New solution\n",
      "function cost: 210\n",
      "child voicing cost: 70\n",
      "Best yet: 280\n",
      "New solution\n",
      "function cost: 189\n",
      "child voicing cost: 89\n",
      "Best yet: 278\n",
      "New solution\n",
      "function cost: 192\n",
      "child voicing cost: 82\n",
      "Best yet: 274\n",
      "New solution\n",
      "function cost: 192\n",
      "child voicing cost: 79\n",
      "Best yet: 271\n",
      "New solution\n",
      "function cost: 195\n",
      "child voicing cost: 72\n",
      "Best yet: 267\n",
      "New solution\n",
      "function cost: 195\n",
      "child voicing cost: 69\n",
      "Best yet: 264\n",
      "New solution\n",
      "function cost: 177\n",
      "child voicing cost: 86\n",
      "Best yet: 263\n",
      "New solution\n",
      "function cost: 180\n",
      "child voicing cost: 82\n",
      "Best yet: 262\n",
      "New solution\n",
      "function cost: 183\n",
      "child voicing cost: 75\n",
      "Best yet: 258\n",
      "New solution\n",
      "function cost: 183\n",
      "child voicing cost: 72\n",
      "Best yet: 255\n",
      "New solution\n",
      "function cost: 183\n",
      "child voicing cost: 69\n",
      "Best yet: 252\n",
      "New solution\n",
      "function cost: 189\n",
      "child voicing cost: 61\n",
      "Best yet: 250\n",
      "New solution\n",
      "function cost: 189\n",
      "child voicing cost: 60\n",
      "Best yet: 249\n",
      "New solution\n",
      "function cost: 162\n",
      "child voicing cost: 86\n",
      "Best yet: 248\n",
      "New solution\n",
      "function cost: 162\n",
      "child voicing cost: 84\n",
      "Best yet: 246\n",
      "New solution\n",
      "function cost: 174\n",
      "child voicing cost: 71\n",
      "Best yet: 245\n",
      "New solution\n",
      "function cost: 177\n",
      "child voicing cost: 65\n",
      "Best yet: 242\n"
     ]
    },
    {
     "data": {
      "text/plain": [
       "(0, \"T\", Tuple{Int16,Int16}[(50, 1), (62, 1), (69, 5), (78, 3)])"
      ]
     },
     "metadata": {},
     "output_type": "display_data"
    },
    {
     "data": {
      "text/plain": [
       "(3, \"D7/3\", Tuple{Int16,Int16}[(49, 3), (64, 5), (69, 1), (79, 7)])"
      ]
     },
     "metadata": {},
     "output_type": "display_data"
    },
    {
     "data": {
      "text/plain": [
       "(12, \"T\", Tuple{Int16,Int16}[(50, 1), (62, 1), (69, 5), (78, 3)])"
      ]
     },
     "metadata": {},
     "output_type": "display_data"
    },
    {
     "data": {
      "text/plain": [
       "(9, \"D7-1\", Tuple{Int16,Int16}[(52, 5), (61, 3), (67, 7), (76, 5)])"
      ]
     },
     "metadata": {},
     "output_type": "display_data"
    },
    {
     "data": {
      "text/plain": [
       "(3, \"D7\", Tuple{Int16,Int16}[(57, 1), (61, 3), (67, 7), (76, 5)])"
      ]
     },
     "metadata": {},
     "output_type": "display_data"
    },
    {
     "data": {
      "text/plain": [
       "(0, \"Ts\", Tuple{Int16,Int16}[(59, 1), (62, 3), (66, 5), (74, 3)])"
      ]
     },
     "metadata": {},
     "output_type": "display_data"
    },
    {
     "data": {
      "text/plain": [
       "(30, \"D\", Tuple{Int16,Int16}[(57, 1), (64, 5), (69, 1), (73, 3)])"
      ]
     },
     "metadata": {},
     "output_type": "display_data"
    },
    {
     "data": {
      "text/plain": [
       "(24, \"D\", Tuple{Int16,Int16}[(45, 1), (64, 5), (69, 1), (73, 3)])"
      ]
     },
     "metadata": {},
     "output_type": "display_data"
    },
    {
     "data": {
      "text/plain": [
       "(15, \"S/3\", Tuple{Int16,Int16}[(47, 3), (50, 5), (62, 5), (67, 1)])"
      ]
     },
     "metadata": {},
     "output_type": "display_data"
    },
    {
     "data": {
      "text/plain": [
       "(12, \"D\", Tuple{Int16,Int16}[(45, 1), (52, 5), (61, 3), (69, 1)])"
      ]
     },
     "metadata": {},
     "output_type": "display_data"
    },
    {
     "data": {
      "text/plain": [
       "(0, \"D/3\", Tuple{Int16,Int16}[(49, 3), (52, 5), (64, 5), (69, 1)])"
      ]
     },
     "metadata": {},
     "output_type": "display_data"
    },
    {
     "data": {
      "text/plain": [
       "(12, \"Ts\", Tuple{Int16,Int16}[(47, 1), (54, 5), (62, 3), (71, 1)])"
      ]
     },
     "metadata": {},
     "output_type": "display_data"
    },
    {
     "data": {
      "text/plain": [
       "(12, \"D\", Tuple{Int16,Int16}[(45, 1), (57, 1), (64, 5), (73, 3)])"
      ]
     },
     "metadata": {},
     "output_type": "display_data"
    },
    {
     "data": {
      "text/plain": [
       "(18, \"D7/3\", Tuple{Int16,Int16}[(49, 3), (55, 7), (64, 5), (69, 1)])"
      ]
     },
     "metadata": {},
     "output_type": "display_data"
    },
    {
     "data": {
      "text/plain": [
       "(9, \"T\", Tuple{Int16,Int16}[(50, 1), (54, 3), (62, 1), (69, 5)])"
      ]
     },
     "metadata": {},
     "output_type": "display_data"
    },
    {
     "data": {
      "text/plain": [
       "(21, \"T\", Tuple{Int16,Int16}[(50, 1), (54, 3), (57, 5), (62, 1)])"
      ]
     },
     "metadata": {},
     "output_type": "display_data"
    },
    {
     "data": {
      "text/plain": [
       "(0, \"T/3\", Tuple{Int16,Int16}[(54, 3), (57, 5), (57, 5), (62, 1)])"
      ]
     },
     "metadata": {},
     "output_type": "display_data"
    },
    {
     "data": {
      "text/plain": [
       "(6, \"D/5\", Tuple{Int16,Int16}[(52, 5), (57, 1), (61, 3), (64, 5)])"
      ]
     },
     "metadata": {},
     "output_type": "display_data"
    },
    {
     "data": {
      "text/plain": [
       "(21, \"T\", Tuple{Int16,Int16}[(50, 1), (57, 5), (62, 1), (66, 3)])"
      ]
     },
     "metadata": {},
     "output_type": "display_data"
    },
    {
     "data": {
      "text/plain": [
       "(0, \"D\", Tuple{Int16,Int16}[(45, 1), (57, 1), (64, 5), (73, 3)])"
      ]
     },
     "metadata": {},
     "output_type": "display_data"
    },
    {
     "data": {
      "text/plain": [
       "(24, \"D7-1\", Tuple{Int16,Int16}[(52, 5), (55, 7), (64, 5), (73, 3)])"
      ]
     },
     "metadata": {},
     "output_type": "display_data"
    },
    {
     "data": {
      "text/plain": [
       "(6, \"T\", Tuple{Int16,Int16}[(50, 1), (57, 5), (66, 3), (74, 1)])"
      ]
     },
     "metadata": {},
     "output_type": "display_data"
    },
    {
     "data": {
      "text/plain": [
       "(9, \"D7/3\", Tuple{Int16,Int16}[(49, 3), (57, 1), (67, 7), (76, 5)])"
      ]
     },
     "metadata": {},
     "output_type": "display_data"
    },
    {
     "data": {
      "text/plain": [
       "(12, \"T\", Tuple{Int16,Int16}[(50, 1), (57, 5), (66, 3), (74, 1)])"
      ]
     },
     "metadata": {},
     "output_type": "display_data"
    },
    {
     "data": {
      "text/plain": [
       "(18, \"D7-1\", Tuple{Int16,Int16}[(52, 5), (55, 7), (64, 5), (73, 3)])"
      ]
     },
     "metadata": {},
     "output_type": "display_data"
    },
    {
     "data": {
      "text/plain": [
       "(15, \"T\", Tuple{Int16,Int16}[(50, 1), (57, 5), (66, 3), (74, 1)])"
      ]
     },
     "metadata": {},
     "output_type": "display_data"
    },
    {
     "data": {
      "text/plain": [
       "(6, \"D/3\", Tuple{Int16,Int16}[(49, 3), (57, 1), (64, 5), (76, 5)])"
      ]
     },
     "metadata": {},
     "output_type": "display_data"
    },
    {
     "data": {
      "text/plain": [
       "(18, \"T\", Tuple{Int16,Int16}[(50, 1), (57, 5), (66, 3), (74, 1)])"
      ]
     },
     "metadata": {},
     "output_type": "display_data"
    },
    {
     "data": {
      "text/plain": [
       "(15, \"D7-1\", Tuple{Int16,Int16}[(52, 5), (55, 7), (64, 5), (73, 3)])"
      ]
     },
     "metadata": {},
     "output_type": "display_data"
    },
    {
     "data": {
      "text/plain": [
       "(3, \"D7\", Tuple{Int16,Int16}[(57, 1), (61, 3), (64, 5), (67, 7)])"
      ]
     },
     "metadata": {},
     "output_type": "display_data"
    },
    {
     "data": {
      "text/plain": [
       "(9, \"T\", Tuple{Int16,Int16}[(50, 1), (57, 5), (62, 1), (66, 3)])"
      ]
     },
     "metadata": {},
     "output_type": "display_data"
    },
    {
     "data": {
      "text/plain": [
       "(9, \"T\", Tuple{Int16,Int16}[(50, 1), (57, 5), (62, 1), (66, 3)])"
      ]
     },
     "metadata": {},
     "output_type": "display_data"
    },
    {
     "name": "stdout",
     "output_type": "stream",
     "text": [
      "##: Done. Total checked: 228885, Pruned: 253405, completed: 28, time: 4.569999933242798, efficiency: 6.12691475033166\n",
      "Results: bestval_func: 177, bestval_voices: 65\n",
      "#Key: 3Scale: Major\n",
      "#Total time for optimisation of piece: 9.223999977111816\n",
      "#Total cost of piece: 490\n",
      "[\"T\", \"D7/3\", \"T\", \"D7-1\", \"D7\", \"Ts\", \"D\", \"D\", \"S/3\", \"D\", \"D/3\", \"Ts\", \"D\", \"D7/3\", \"T\", \"T\", \"T/3\", \"D/5\", \"T\", \"D\", \"D7-1\", \"T\", \"D7/3\", \"T\", \"D7-1\", \"T\", \"D/3\", \"T\", \"D7-1\", \"D7\", \"T\", \"T\"]\n",
      "../../results/optimizer/pianoroll/CO-09-jesus-opt.csv\n",
      " End of file \n",
      " \n",
      "Optimising: ../../results/neuralnet/pianoroll/CO-12-break-nn.csv\n",
      "[0 0 1 0 0 0 1 0 0 0 0 0; 1 0 0 0 2 0 0 1 0 0 0 0; 0 0 2 0 0 0 1 0 0 1 0 0; 0 1 0 0 1 0 0 1 0 0 0 0; 0 0 0 0 0 0 1 1 0 0 0 0; 0 0 1 0 0 0 1 0 0 1 0 1; 0 1 0 0 1 0 0 1 0 1 0 0; 0 0 0 1 0 0 2 0 0 0 0 1; 0 0 0 1 1 0 0 0 0 0 0 2; 0 0 0 0 1 0 0 1 0 1 0 1; 0 0 1 0 0 0 1 1 0 1 0 0; 0 0 0 0 1 0 0 1 0 2 0 0; 0 0 1 0 0 0 2 0 0 0 0 1; 0 0 2 0 0 0 2 0 0 0 0 0; 0 0 1 0 0 0 1 0 0 1 0 1; 0 1 0 0 1 0 0 0 0 1 0 1; 0 1 1 0 0 0 0 0 0 0 0 2; 0 0 0 0 1 0 0 1 0 0 0 2; 0 0 2 0 1 0 0 0 0 1 0 0; 0 1 1 0 0 0 0 1 0 1 0 0; 0 0 2 0 0 0 1 0 0 0 0 1; 0 1 0 0 2 0 0 0 0 1 0 0; 0 0 3 0 0 0 0 0 0 0 0 1; 0 0 0 0 1 0 0 1 0 1 0 1; 0 1 0 0 1 0 0 0 0 2 0 0; 0 0 2 0 0 0 0 0 0 1 0 1; 0 0 0 0 1 0 1 0 0 1 0 1; 1 0 0 0 0 0 1 1 0 1 0 0; 0 0 0 1 0 0 0 1 0 0 0 2; 0 0 0 0 2 0 0 1 0 0 0 1; 0 0 0 0 1 0 1 1 0 0 0 1; 0 0 0 1 0 0 1 0 0 0 0 2; 0 0 1 0 0 0 1 0 0 0 0 2]\n",
      "Key Counter is [2 7 21 4 18 0 18 14 0 18 0 25]\n",
      "Key Score is [98; 31; 121; 41; 90; 73; 54; 116; 27; 107; 59; 72]\n",
      "Position Counter for 3 is [21 4 18 0 18 14 0 18 0 25 2 7]\n",
      "Any[[3.0, 76.0, 0.0]]\n",
      "[3, 76, 0]\n",
      "12 B Minor\n",
      "Rhythm map: [\"S\", \"W\", \"S\", \"W\", \"S\", \"C\", \"C\", \"C\", \"S\", \"W\", \"S\", \"W\", \"S\", \"C\", \"C\", \"C\"] size: (16,)\n",
      "Amount of timesteps to optimise: 16\n",
      "Building lookup-table list...\n",
      "Lookup-table built.\n",
      "Initial function score upper bound: 499, voicing score upper bound: 499\n",
      "Starting search...\n",
      "New solution\n",
      "function cost: 207\n",
      "child voicing cost: 110\n",
      "Best yet: 317\n",
      "New solution\n",
      "function cost: 207\n",
      "child voicing cost: 109\n",
      "Best yet: 316\n",
      "New solution\n",
      "function cost: 207\n",
      "child voicing cost: 106\n",
      "Best yet: 313\n",
      "New solution\n",
      "function cost: 195\n",
      "child voicing cost: 109\n",
      "Best yet: 304\n",
      "New solution\n",
      "function cost: 195\n",
      "child voicing cost: 106\n",
      "Best yet: 301\n",
      "New solution\n",
      "function cost: 153\n",
      "child voicing cost: 121\n",
      "Best yet: 274\n",
      "New solution\n",
      "function cost: 153\n",
      "child voicing cost: 118\n",
      "Best yet: 271\n",
      "New solution\n",
      "function cost: 135\n",
      "child voicing cost: 124\n",
      "Best yet: 259\n",
      "New solution\n",
      "function cost: 135\n",
      "child voicing cost: 121\n",
      "Best yet: 256\n",
      "New solution\n",
      "function cost: 141\n",
      "child voicing cost: 114\n",
      "Best yet: 255\n",
      "New solution\n",
      "function cost: 135\n",
      "child voicing cost: 118\n",
      "Best yet: 253\n",
      "New solution\n",
      "function cost: 141\n",
      "child voicing cost: 111\n",
      "Best yet: 252\n",
      "New solution\n",
      "function cost: 120\n",
      "child voicing cost: 126\n",
      "Best yet: 246\n",
      "New solution\n",
      "function cost: 120\n",
      "child voicing cost: 123\n",
      "Best yet: 243\n",
      "New solution\n",
      "function cost: 126\n",
      "child voicing cost: 116\n",
      "Best yet: 242\n",
      "New solution\n",
      "function cost: 120\n",
      "child voicing cost: 120\n",
      "Best yet: 240\n",
      "New solution\n",
      "function cost: 126\n",
      "child voicing cost: 113\n",
      "Best yet: 239\n",
      "New solution\n",
      "function cost: 123\n",
      "child voicing cost: 115\n",
      "Best yet: 238\n",
      "New solution\n",
      "function cost: 123\n",
      "child voicing cost: 112\n",
      "Best yet: 235\n",
      "New solution\n",
      "function cost: 129\n",
      "child voicing cost: 105\n",
      "Best yet: 234\n",
      "New solution\n",
      "function cost: 123\n",
      "child voicing cost: 109\n",
      "Best yet: 232\n",
      "New solution\n",
      "function cost: 129\n",
      "child voicing cost: 102\n",
      "Best yet: 231\n",
      "New solution\n",
      "function cost: 129\n",
      "child voicing cost: 98\n",
      "Best yet: 227\n",
      "New solution\n",
      "function cost: 120\n",
      "child voicing cost: 104\n",
      "Best yet: 224\n",
      "New solution\n",
      "function cost: 120\n",
      "child voicing cost: 102\n",
      "Best yet: 222\n",
      "New solution\n",
      "function cost: 117\n",
      "child voicing cost: 104\n",
      "Best yet: 221\n",
      "New solution\n",
      "function cost: 111\n",
      "child voicing cost: 108\n",
      "Best yet: 219\n",
      "New solution\n",
      "function cost: 117\n",
      "child voicing cost: 101\n",
      "Best yet: 218\n",
      "New solution\n",
      "function cost: 111\n",
      "child voicing cost: 105\n",
      "Best yet: 216\n",
      "New solution\n",
      "function cost: 117\n",
      "child voicing cost: 98\n",
      "Best yet: 215\n",
      "New solution\n",
      "function cost: 123\n",
      "child voicing cost: 90\n",
      "Best yet: 213\n",
      "New solution\n",
      "function cost: 111\n",
      "child voicing cost: 100\n",
      "Best yet: 211\n",
      "New solution\n",
      "function cost: 123\n",
      "child voicing cost: 85\n",
      "Best yet: 208\n",
      "New solution\n",
      "function cost: 111\n",
      "child voicing cost: 95\n",
      "Best yet: 206\n",
      "##: Done. Total checked: 250683, Pruned: 309791, completed: 34, time: 5.121000051498413, efficiency: 6.639328189432754\n",
      "Results: bestval_func: 111, bestval_voices: 95\n",
      "[0 0 1 0 0 0 1 0 0 0 0 0; 1 0 0 0 2 0 0 1 0 0 0 0; 0 0 2 0 0 0 1 0 0 1 0 0; 0 1 0 0 1 0 0 1 0 0 0 0; 0 0 0 0 0 0 1 1 0 0 0 0; 0 0 1 0 0 0 1 0 0 1 0 1; 0 1 0 0 1 0 0 1 0 1 0 0; 0 0 0 1 0 0 2 0 0 0 0 1; 0 0 0 1 1 0 0 0 0 0 0 2; 0 0 0 0 1 0 0 1 0 1 0 1; 0 0 1 0 0 0 1 1 0 1 0 0; 0 0 0 0 1 0 0 1 0 2 0 0; 0 0 1 0 0 0 2 0 0 0 0 1; 0 0 2 0 0 0 2 0 0 0 0 0; 0 0 1 0 0 0 1 0 0 1 0 1; 0 1 0 0 1 0 0 0 0 1 0 1; 0 1 1 0 0 0 0 0 0 0 0 2; 0 0 0 0 1 0 0 1 0 0 0 2; 0 0 2 0 1 0 0 0 0 1 0 0; 0 1 1 0 0 0 0 1 0 1 0 0; 0 0 2 0 0 0 1 0 0 0 0 1; 0 1 0 0 2 0 0 0 0 1 0 0; 0 0 3 0 0 0 0 0 0 0 0 1; 0 0 0 0 1 0 0 1 0 1 0 1; 0 1 0 0 1 0 0 0 0 2 0 0; 0 0 2 0 0 0 0 0 0 1 0 1; 0 0 0 0 1 0 1 0 0 1 0 1; 1 0 0 0 0 0 1 1 0 1 0 0; 0 0 0 1 0 0 0 1 0 0 0 2; 0 0 0 0 2 0 0 1 0 0 0 1; 0 0 0 0 1 0 1 1 0 0 0 1; 0 0 0 1 0 0 1 0 0 0 0 2; 0 0 1 0 0 0 1 0 0 0 0 2]\n",
      "Key Counter is [2 7 21 4 18 0 18 14 0 18 0 25]\n",
      "Key Score is [98; 31; 121; 41; 90; 73; 54; 116; 27; 107; 59; 72]\n",
      "Position Counter for 3 is [21 4 18 0 18 14 0 18 0 25 2 7]\n",
      "Any[[3.0, 76.0, 0.0]]\n",
      "[3, 76, 0]\n",
      "12 B Minor\n",
      "Rhythm map: [\"W\", \"S\", \"W\", \"S\", \"W\", \"S\", \"W\", \"S\", \"W\", \"S\", \"W\", \"S\", \"W\", \"A\", \"A\", \"A\", \"A\"] size: (17,)\n",
      "Amount of timesteps to optimise: 17\n",
      "Building lookup-table list...\n",
      "Lookup-table built.\n",
      "Initial function score upper bound: 499, voicing score upper bound: 499\n",
      "Starting search...\n",
      "New solution\n",
      "function cost: 201\n",
      "child voicing cost: 92\n",
      "Best yet: 293\n",
      "New solution\n",
      "function cost: 201\n",
      "child voicing cost: 89\n",
      "Best yet: 290\n",
      "New solution\n",
      "function cost: 189\n",
      "child voicing cost: 92\n",
      "Best yet: 281\n",
      "New solution\n",
      "function cost: 189\n",
      "child voicing cost: 89\n",
      "Best yet: 278\n",
      "New solution\n",
      "function cost: 189\n",
      "child voicing cost: 86\n",
      "Best yet: 275\n",
      "New solution\n",
      "function cost: 183\n",
      "child voicing cost: 87\n",
      "Best yet: 270\n",
      "New solution\n",
      "function cost: 183\n",
      "child voicing cost: 84\n",
      "Best yet: 267\n",
      "New solution\n",
      "function cost: 183\n",
      "child voicing cost: 81\n",
      "Best yet: 264\n",
      "New solution\n",
      "function cost: 183\n",
      "child voicing cost: 78\n",
      "Best yet: 261\n"
     ]
    },
    {
     "data": {
      "text/plain": [
       "(0, \"T\", Tuple{Int16,Int16}[(59, 1), (59, 1), (62, 3), (66, 5)])"
      ]
     },
     "metadata": {},
     "output_type": "display_data"
    },
    {
     "data": {
      "text/plain": [
       "(3, \"S\", Tuple{Int16,Int16}[(52, 1), (59, 5), (64, 1), (67, 3)])"
      ]
     },
     "metadata": {},
     "output_type": "display_data"
    },
    {
     "data": {
      "text/plain": [
       "(0, \"Tm\", Tuple{Int16,Int16}[(50, 1), (62, 1), (66, 3), (69, 5)])"
      ]
     },
     "metadata": {},
     "output_type": "display_data"
    },
    {
     "data": {
      "text/plain": [
       "(6, \"S\", Tuple{Int16,Int16}[(52, 1), (59, 5), (64, 1), (67, 3)])"
      ]
     },
     "metadata": {},
     "output_type": "display_data"
    },
    {
     "data": {
      "text/plain": [
       "(3, \"D/3\", Tuple{Int16,Int16}[(46, 3), (61, 5), (66, 1), (73, 5)])"
      ]
     },
     "metadata": {},
     "output_type": "display_data"
    },
    {
     "data": {
      "text/plain": [
       "(6, \"T\", Tuple{Int16,Int16}[(47, 1), (62, 3), (66, 5), (71, 1)])"
      ]
     },
     "metadata": {},
     "output_type": "display_data"
    },
    {
     "data": {
      "text/plain": [
       "(12, \"D\", Tuple{Int16,Int16}[(54, 1), (61, 5), (66, 1), (70, 3)])"
      ]
     },
     "metadata": {},
     "output_type": "display_data"
    },
    {
     "data": {
      "text/plain": [
       "(9, \"D\", Tuple{Int16,Int16}[(54, 1), (66, 1), (70, 3), (73, 5)])"
      ]
     },
     "metadata": {},
     "output_type": "display_data"
    },
    {
     "data": {
      "text/plain": [
       "(9, \"T\", Tuple{Int16,Int16}[(59, 1), (66, 5), (71, 1), (74, 3)])"
      ]
     },
     "metadata": {},
     "output_type": "display_data"
    },
    {
     "data": {
      "text/plain": [
       "(6, \"S/3\", Tuple{Int16,Int16}[(55, 3), (64, 1), (71, 5), (76, 1)])"
      ]
     },
     "metadata": {},
     "output_type": "display_data"
    },
    {
     "data": {
      "text/plain": [
       "(9, \"D\", Tuple{Int16,Int16}[(54, 1), (61, 5), (70, 3), (78, 1)])"
      ]
     },
     "metadata": {},
     "output_type": "display_data"
    },
    {
     "data": {
      "text/plain": [
       "(12, \"S/3\", Tuple{Int16,Int16}[(55, 3), (59, 5), (71, 5), (76, 1)])"
      ]
     },
     "metadata": {},
     "output_type": "display_data"
    },
    {
     "data": {
      "text/plain": [
       "(0, \"D64\", Tuple{Int16,Int16}[(54, 1), (59, 4), (66, 1), (74, 6)])"
      ]
     },
     "metadata": {},
     "output_type": "display_data"
    },
    {
     "data": {
      "text/plain": [
       "(15, \"D\", Tuple{Int16,Int16}[(54, 1), (58, 3), (66, 1), (73, 5)])"
      ]
     },
     "metadata": {},
     "output_type": "display_data"
    },
    {
     "data": {
      "text/plain": [
       "(6, \"T\", Tuple{Int16,Int16}[(47, 1), (59, 1), (66, 5), (74, 3)])"
      ]
     },
     "metadata": {},
     "output_type": "display_data"
    },
    {
     "data": {
      "text/plain": [
       "(15, \"T\", Tuple{Int16,Int16}[(47, 1), (62, 3), (66, 5), (71, 1)])"
      ]
     },
     "metadata": {},
     "output_type": "display_data"
    },
    {
     "data": {
      "text/plain": [
       "(6, \"T-5\", Tuple{Int16,Int16}[(47, 1), (59, 1), (62, 3), (71, 1)])"
      ]
     },
     "metadata": {},
     "output_type": "display_data"
    },
    {
     "data": {
      "text/plain": [
       "(0, \"S/5\", Tuple{Int16,Int16}[(47, 5), (59, 5), (64, 1), (67, 3)])"
      ]
     },
     "metadata": {},
     "output_type": "display_data"
    },
    {
     "data": {
      "text/plain": [
       "(21, \"T\", Tuple{Int16,Int16}[(47, 1), (59, 1), (62, 3), (66, 5)])"
      ]
     },
     "metadata": {},
     "output_type": "display_data"
    },
    {
     "data": {
      "text/plain": [
       "(9, \"D/3\", Tuple{Int16,Int16}[(46, 3), (54, 1), (61, 5), (66, 1)])"
      ]
     },
     "metadata": {},
     "output_type": "display_data"
    },
    {
     "data": {
      "text/plain": [
       "(9, \"T\", Tuple{Int16,Int16}[(47, 1), (54, 5), (59, 1), (62, 3)])"
      ]
     },
     "metadata": {},
     "output_type": "display_data"
    },
    {
     "data": {
      "text/plain": [
       "(3, \"D7-1\", Tuple{Int16,Int16}[(49, 5), (52, 7), (58, 3), (61, 5)])"
      ]
     },
     "metadata": {},
     "output_type": "display_data"
    },
    {
     "data": {
      "text/plain": [
       "(21, \"T\", Tuple{Int16,Int16}[(47, 1), (54, 5), (59, 1), (62, 3)])"
      ]
     },
     "metadata": {},
     "output_type": "display_data"
    },
    {
     "data": {
      "text/plain": [
       "(6, \"S/3\", Tuple{Int16,Int16}[(43, 3), (52, 1), (59, 5), (64, 1)])"
      ]
     },
     "metadata": {},
     "output_type": "display_data"
    },
    {
     "data": {
      "text/plain": [
       "(12, \"D7\", Tuple{Int16,Int16}[(42, 1), (52, 7), (61, 5), (70, 3)])"
      ]
     },
     "metadata": {},
     "output_type": "display_data"
    },
    {
     "data": {
      "text/plain": [
       "(21, \"Ts\", Tuple{Int16,Int16}[(43, 1), (50, 5), (59, 3), (71, 3)])"
      ]
     },
     "metadata": {},
     "output_type": "display_data"
    },
    {
     "data": {
      "text/plain": [
       "(12, \"T/3\", Tuple{Int16,Int16}[(50, 3), (54, 5), (59, 1), (71, 1)])"
      ]
     },
     "metadata": {},
     "output_type": "display_data"
    },
    {
     "data": {
      "text/plain": [
       "(9, \"Tm\", Tuple{Int16,Int16}[(50, 1), (54, 3), (66, 3), (69, 5)])"
      ]
     },
     "metadata": {},
     "output_type": "display_data"
    },
    {
     "data": {
      "text/plain": [
       "(18, \"S\", Tuple{Int16,Int16}[(52, 1), (59, 5), (64, 1), (67, 3)])"
      ]
     },
     "metadata": {},
     "output_type": "display_data"
    },
    {
     "data": {
      "text/plain": [
       "(15, \"D7\", Tuple{Int16,Int16}[(54, 1), (58, 3), (61, 5), (64, 7)])"
      ]
     },
     "metadata": {},
     "output_type": "display_data"
    },
    {
     "data": {
      "text/plain": [
       "(18, \"T\", Tuple{Int16,Int16}[(47, 1), (54, 5), (59, 1), (62, 3)])"
      ]
     },
     "metadata": {},
     "output_type": "display_data"
    },
    {
     "data": {
      "text/plain": [
       "(18, \"T\", Tuple{Int16,Int16}[(47, 1), (54, 5), (59, 1), (62, 3)])"
      ]
     },
     "metadata": {},
     "output_type": "display_data"
    },
    {
     "name": "stdout",
     "output_type": "stream",
     "text": [
      "##: Done. Total checked: 91211, Pruned: 101286, completed: 9, time: 1.8350000381469727, efficiency: 4.904632050628412\n",
      "Results: bestval_func: 183, bestval_voices: 78\n",
      "#Key: 12Scale: Minor\n",
      "#Total time for optimisation of piece: 8.459999799728394\n",
      "#Total cost of piece: 467\n",
      "[\"T\", \"S\", \"Tm\", \"S\", \"D/3\", \"T\", \"D\", \"D\", \"T\", \"S/3\", \"D\", \"S/3\", \"D64\", \"D\", \"T\", \"T\", \"T-5\", \"S/5\", \"T\", \"D/3\", \"T\", \"D7-1\", \"T\", \"S/3\", \"D7\", \"Ts\", \"T/3\", \"Tm\", \"S\", \"D7\", \"T\", \"T\"]\n",
      "../../results/optimizer/pianoroll/CO-12-break-opt.csv\n",
      " End of file \n",
      " \n",
      "Optimising: ../../results/neuralnet/pianoroll/CO-17-gloom-nn.csv\n",
      "[2 0 0 0 1 0 0 0 0 0 0 0; 0 0 1 0 0 1 0 1 0 0 0 1; 1 0 0 0 1 0 0 0 0 2 0 0; 0 0 0 1 0 0 1 0 0 1 0 1; 0 0 1 0 1 0 0 1 0 0 0 1; 2 0 0 0 1 1 0 0 0 0 0 0; 0 0 1 0 0 1 0 0 0 0 1 1; 2 0 0 0 1 0 0 1 0 0 0 0; 2 0 0 0 0 1 0 1 0 0 0 0; 0 0 2 0 0 1 0 0 0 0 1 0; 1 0 0 0 0 0 0 1 0 1 1 0; 0 0 1 0 0 1 0 0 0 1 1 0; 1 0 0 0 1 0 0 0 0 1 1 0; 0 0 2 0 0 1 0 0 0 1 0 0; 1 0 0 0 2 1 0 0 0 0 0 0; 1 0 0 0 0 1 0 1 0 0 1 0; 1 0 0 0 1 0 0 1 0 1 0 0; 1 0 0 0 0 1 0 2 0 0 0 0; 2 0 0 0 1 0 0 1 0 0 0 0; 1 0 1 0 0 2 0 0 0 0 0 0; 0 0 2 0 0 1 0 0 0 0 1 0; 0 0 1 0 1 0 0 0 0 1 1 0; 0 0 1 0 0 0 1 0 0 1 1 0; 1 0 1 0 0 0 2 0 0 0 0 0; 0 0 2 0 0 0 0 2 0 0 0 0; 2 0 0 0 0 0 0 1 0 1 0 0; 0 0 1 0 0 0 0 3 0 0 0 0; 2 0 0 0 1 0 0 1 0 0 0 0; 0 0 2 0 0 1 0 0 0 1 0 0; 1 0 1 0 0 2 0 0 0 0 0 0; 2 0 0 0 0 1 0 1 0 0 0 0; 1 0 1 0 0 1 0 0 0 0 0 1; 1 0 0 0 1 0 0 0 0 0 0 2]\n",
      "Key Counter is [28 0 21 1 13 18 4 18 0 12 9 7]\n",
      "Key Score is [117; 60; 75; 95; 37; 119; 39; 103; 74; 57; 107; 34]\n",
      "Position Counter for 6 is [18 4 18 0 12 9 7 28 0 21 1 13]\n",
      "Any[[6.0, 80.75, 1.0]]\n",
      "[6, 81, 1]\n",
      "6 F Major\n",
      "Rhythm map: [\"S\", \"W\", \"S\", \"W\", \"S\", \"C\", \"C\", \"C\", \"S\", \"W\", \"S\", \"W\", \"S\", \"C\", \"C\", \"C\"] size: (16,)\n",
      "Amount of timesteps to optimise: 16\n",
      "Building lookup-table list...\n",
      "Lookup-table built.\n",
      "Initial function score upper bound: 499, voicing score upper bound: 499\n",
      "Starting search...\n",
      "New solution\n",
      "function cost: 201\n",
      "child voicing cost: 112\n",
      "Best yet: 313\n",
      "New solution\n",
      "function cost: 201\n",
      "child voicing cost: 110\n",
      "Best yet: 311\n",
      "New solution\n",
      "function cost: 201\n",
      "child voicing cost: 109\n",
      "Best yet: 310\n",
      "New solution\n",
      "function cost: 201\n",
      "child voicing cost: 97\n",
      "Best yet: 298\n",
      "New solution\n",
      "function cost: 201\n",
      "child voicing cost: 94\n",
      "Best yet: 295\n",
      "New solution\n",
      "function cost: 189\n",
      "child voicing cost: 101\n",
      "Best yet: 290\n",
      "New solution\n",
      "function cost: 189\n",
      "child voicing cost: 100\n",
      "Best yet: 289\n",
      "New solution\n",
      "function cost: 186\n",
      "child voicing cost: 99\n",
      "Best yet: 285\n",
      "New solution\n",
      "function cost: 186\n",
      "child voicing cost: 95\n",
      "Best yet: 281\n",
      "New solution\n",
      "function cost: 195\n",
      "child voicing cost: 85\n",
      "Best yet: 280\n",
      "New solution\n",
      "function cost: 186\n",
      "child voicing cost: 89\n",
      "Best yet: 275\n",
      "New solution\n",
      "function cost: 174\n",
      "child voicing cost: 99\n",
      "Best yet: 273\n",
      "New solution\n",
      "function cost: 174\n",
      "child voicing cost: 98\n",
      "Best yet: 272\n",
      "New solution\n",
      "function cost: 174\n",
      "child voicing cost: 96\n",
      "Best yet: 270\n",
      "New solution\n",
      "function cost: 174\n",
      "child voicing cost: 94\n",
      "Best yet: 268\n",
      "New solution\n",
      "function cost: 171\n",
      "child voicing cost: 90\n",
      "Best yet: 261\n",
      "New solution\n",
      "function cost: 171\n",
      "child voicing cost: 89\n",
      "Best yet: 260\n",
      "New solution\n",
      "function cost: 162\n",
      "child voicing cost: 96\n",
      "Best yet: 258\n",
      "New solution\n",
      "function cost: 159\n",
      "child voicing cost: 98\n",
      "Best yet: 257\n",
      "New solution\n",
      "function cost: 159\n",
      "child voicing cost: 95\n",
      "Best yet: 254\n",
      "New solution\n",
      "function cost: 159\n",
      "child voicing cost: 93\n",
      "Best yet: 252\n",
      "New solution\n",
      "function cost: 159\n",
      "child voicing cost: 92\n",
      "Best yet: 251\n",
      "New solution\n",
      "function cost: 147\n",
      "child voicing cost: 102\n",
      "Best yet: 249\n",
      "New solution\n",
      "function cost: 147\n",
      "child voicing cost: 101\n",
      "Best yet: 248\n",
      "New solution\n",
      "function cost: 147\n",
      "child voicing cost: 96\n",
      "Best yet: 243\n",
      "New solution\n",
      "function cost: 153\n",
      "child voicing cost: 89\n",
      "Best yet: 242\n",
      "New solution\n",
      "function cost: 159\n",
      "child voicing cost: 82\n",
      "Best yet: 241\n",
      "New solution\n",
      "function cost: 153\n",
      "child voicing cost: 85\n",
      "Best yet: 238\n",
      "New solution\n",
      "function cost: 153\n",
      "child voicing cost: 83\n",
      "Best yet: 236\n",
      "New solution\n",
      "function cost: 147\n",
      "child voicing cost: 84\n",
      "Best yet: 231\n",
      "##: Done. Total checked: 184295, Pruned: 211223, completed: 30, time: 3.815000057220459, efficiency: 7.863695819144356\n",
      "Results: bestval_func: 147, bestval_voices: 84\n",
      "[2 0 0 0 1 0 0 0 0 0 0 0; 0 0 1 0 0 1 0 1 0 0 0 1; 1 0 0 0 1 0 0 0 0 2 0 0; 0 0 0 1 0 0 1 0 0 1 0 1; 0 0 1 0 1 0 0 1 0 0 0 1; 2 0 0 0 1 1 0 0 0 0 0 0; 0 0 1 0 0 1 0 0 0 0 1 1; 2 0 0 0 1 0 0 1 0 0 0 0; 2 0 0 0 0 1 0 1 0 0 0 0; 0 0 2 0 0 1 0 0 0 0 1 0; 1 0 0 0 0 0 0 1 0 1 1 0; 0 0 1 0 0 1 0 0 0 1 1 0; 1 0 0 0 1 0 0 0 0 1 1 0; 0 0 2 0 0 1 0 0 0 1 0 0; 1 0 0 0 2 1 0 0 0 0 0 0; 1 0 0 0 0 1 0 1 0 0 1 0; 1 0 0 0 1 0 0 1 0 1 0 0; 1 0 0 0 0 1 0 2 0 0 0 0; 2 0 0 0 1 0 0 1 0 0 0 0; 1 0 1 0 0 2 0 0 0 0 0 0; 0 0 2 0 0 1 0 0 0 0 1 0; 0 0 1 0 1 0 0 0 0 1 1 0; 0 0 1 0 0 0 1 0 0 1 1 0; 1 0 1 0 0 0 2 0 0 0 0 0; 0 0 2 0 0 0 0 2 0 0 0 0; 2 0 0 0 0 0 0 1 0 1 0 0; 0 0 1 0 0 0 0 3 0 0 0 0; 2 0 0 0 1 0 0 1 0 0 0 0; 0 0 2 0 0 1 0 0 0 1 0 0; 1 0 1 0 0 2 0 0 0 0 0 0; 2 0 0 0 0 1 0 1 0 0 0 0; 1 0 1 0 0 1 0 0 0 0 0 1; 1 0 0 0 1 0 0 0 0 0 0 2]\n",
      "Key Counter is [28 0 21 1 13 18 4 18 0 12 9 7]\n",
      "Key Score is [117; 60; 75; 95; 37; 119; 39; 103; 74; 57; 107; 34]\n",
      "Position Counter for 6 is [18 4 18 0 12 9 7 28 0 21 1 13]\n",
      "Any[[6.0, 80.75, 1.0]]\n",
      "[6, 81, 1]\n",
      "6 F Major\n",
      "Rhythm map: [\"W\", \"S\", \"W\", \"S\", \"W\", \"S\", \"W\", \"S\", \"W\", \"S\", \"W\", \"S\", \"W\", \"A\", \"A\", \"A\", \"A\"] size: (17,)\n",
      "Amount of timesteps to optimise: 17\n",
      "Building lookup-table list...\n",
      "Lookup-table built.\n",
      "Initial function score upper bound: 499, voicing score upper bound: 499\n",
      "Starting search...\n",
      "New solution\n",
      "function cost: 258\n",
      "child voicing cost: 75\n",
      "Best yet: 333\n",
      "New solution\n",
      "function cost: 252\n",
      "child voicing cost: 79\n",
      "Best yet: 331\n",
      "New solution\n",
      "function cost: 249\n",
      "child voicing cost: 64\n",
      "Best yet: 313\n",
      "New solution\n",
      "function cost: 243\n",
      "child voicing cost: 62\n",
      "Best yet: 305\n",
      "New solution\n",
      "function cost: 243\n",
      "child voicing cost: 59\n",
      "Best yet: 302\n",
      "New solution\n",
      "function cost: 225\n",
      "child voicing cost: 76\n",
      "Best yet: 301\n",
      "New solution\n",
      "function cost: 222\n",
      "child voicing cost: 74\n",
      "Best yet: 296\n",
      "New solution\n",
      "function cost: 222\n",
      "child voicing cost: 71\n",
      "Best yet: 293\n",
      "New solution\n",
      "function cost: 222\n",
      "child voicing cost: 68\n",
      "Best yet: 290\n",
      "New solution\n",
      "function cost: 219\n",
      "child voicing cost: 70\n",
      "Best yet: 289\n",
      "New solution\n",
      "function cost: 219\n",
      "child voicing cost: 67\n",
      "Best yet: 286\n",
      "New solution\n",
      "function cost: 219\n",
      "child voicing cost: 64\n",
      "Best yet: 283\n",
      "New solution\n",
      "function cost: 222\n",
      "child voicing cost: 58\n",
      "Best yet: 280\n",
      "New solution\n",
      "function cost: 213\n",
      "child voicing cost: 64\n",
      "Best yet: 277\n",
      "New solution\n",
      "function cost: 207\n",
      "child voicing cost: 68\n",
      "Best yet: 275\n",
      "New solution\n",
      "function cost: 207\n",
      "child voicing cost: 65\n",
      "Best yet: 272\n",
      "New solution\n",
      "function cost: 213\n",
      "child voicing cost: 58\n",
      "Best yet: 271\n"
     ]
    },
    {
     "data": {
      "text/plain": [
       "(12, \"T\", Tuple{Int16,Int16}[(53, 1), (53, 1), (60, 5), (69, 3)])"
      ]
     },
     "metadata": {},
     "output_type": "display_data"
    },
    {
     "data": {
      "text/plain": [
       "(12, \"S\", Tuple{Int16,Int16}[(46, 1), (53, 5), (62, 3), (70, 1)])"
      ]
     },
     "metadata": {},
     "output_type": "display_data"
    },
    {
     "data": {
      "text/plain": [
       "(0, \"Tm\", Tuple{Int16,Int16}[(45, 1), (57, 1), (64, 5), (72, 3)])"
      ]
     },
     "metadata": {},
     "output_type": "display_data"
    },
    {
     "data": {
      "text/plain": [
       "(12, \"S\", Tuple{Int16,Int16}[(46, 1), (53, 5), (62, 3), (70, 1)])"
      ]
     },
     "metadata": {},
     "output_type": "display_data"
    },
    {
     "data": {
      "text/plain": [
       "(9, \"D/3\", Tuple{Int16,Int16}[(52, 3), (55, 5), (60, 1), (67, 5)])"
      ]
     },
     "metadata": {},
     "output_type": "display_data"
    },
    {
     "data": {
      "text/plain": [
       "(12, \"T\", Tuple{Int16,Int16}[(53, 1), (57, 3), (60, 5), (65, 1)])"
      ]
     },
     "metadata": {},
     "output_type": "display_data"
    },
    {
     "data": {
      "text/plain": [
       "(3, \"S\", Tuple{Int16,Int16}[(46, 1), (58, 1), (62, 3), (65, 5)])"
      ]
     },
     "metadata": {},
     "output_type": "display_data"
    },
    {
     "data": {
      "text/plain": [
       "(30, \"S\", Tuple{Int16,Int16}[(46, 1), (53, 5), (62, 3), (70, 1)])"
      ]
     },
     "metadata": {},
     "output_type": "display_data"
    },
    {
     "data": {
      "text/plain": [
       "(3, \"D\", Tuple{Int16,Int16}[(48, 1), (52, 3), (60, 1), (67, 5)])"
      ]
     },
     "metadata": {},
     "output_type": "display_data"
    },
    {
     "data": {
      "text/plain": [
       "(3, \"Ts\", Tuple{Int16,Int16}[(50, 1), (53, 3), (57, 5), (65, 3)])"
      ]
     },
     "metadata": {},
     "output_type": "display_data"
    },
    {
     "data": {
      "text/plain": [
       "(12, \"T/3\", Tuple{Int16,Int16}[(45, 3), (53, 1), (60, 5), (72, 5)])"
      ]
     },
     "metadata": {},
     "output_type": "display_data"
    },
    {
     "data": {
      "text/plain": [
       "(3, \"S\", Tuple{Int16,Int16}[(46, 1), (53, 5), (62, 3), (70, 1)])"
      ]
     },
     "metadata": {},
     "output_type": "display_data"
    },
    {
     "data": {
      "text/plain": [
       "(6, \"D7/3\", Tuple{Int16,Int16}[(40, 3), (55, 5), (60, 1), (70, 7)])"
      ]
     },
     "metadata": {},
     "output_type": "display_data"
    },
    {
     "data": {
      "text/plain": [
       "(15, \"T\", Tuple{Int16,Int16}[(41, 1), (53, 1), (60, 5), (69, 3)])"
      ]
     },
     "metadata": {},
     "output_type": "display_data"
    },
    {
     "data": {
      "text/plain": [
       "(18, \"D\", Tuple{Int16,Int16}[(48, 1), (52, 3), (60, 1), (67, 5)])"
      ]
     },
     "metadata": {},
     "output_type": "display_data"
    },
    {
     "data": {
      "text/plain": [
       "(9, \"D\", Tuple{Int16,Int16}[(48, 1), (52, 3), (55, 5), (60, 1)])"
      ]
     },
     "metadata": {},
     "output_type": "display_data"
    },
    {
     "data": {
      "text/plain": [
       "(3, \"D7/7\", Tuple{Int16,Int16}[(46, 7), (52, 3), (55, 5), (60, 1)])"
      ]
     },
     "metadata": {},
     "output_type": "display_data"
    },
    {
     "data": {
      "text/plain": [
       "(12, \"T/3\", Tuple{Int16,Int16}[(45, 3), (53, 1), (60, 5), (65, 1)])"
      ]
     },
     "metadata": {},
     "output_type": "display_data"
    },
    {
     "data": {
      "text/plain": [
       "(0, \"D\", Tuple{Int16,Int16}[(48, 1), (55, 5), (60, 1), (64, 3)])"
      ]
     },
     "metadata": {},
     "output_type": "display_data"
    },
    {
     "data": {
      "text/plain": [
       "(15, \"D\", Tuple{Int16,Int16}[(48, 1), (52, 3), (60, 1), (67, 5)])"
      ]
     },
     "metadata": {},
     "output_type": "display_data"
    },
    {
     "data": {
      "text/plain": [
       "(3, \"Ts\", Tuple{Int16,Int16}[(50, 1), (53, 3), (57, 5), (65, 3)])"
      ]
     },
     "metadata": {},
     "output_type": "display_data"
    },
    {
     "data": {
      "text/plain": [
       "(12, \"D7\", Tuple{Int16,Int16}[(48, 1), (52, 3), (58, 7), (67, 5)])"
      ]
     },
     "metadata": {},
     "output_type": "display_data"
    },
    {
     "data": {
      "text/plain": [
       "(18, \"Ts\", Tuple{Int16,Int16}[(50, 1), (53, 3), (57, 5), (62, 1)])"
      ]
     },
     "metadata": {},
     "output_type": "display_data"
    },
    {
     "data": {
      "text/plain": [
       "(15, \"D\", Tuple{Int16,Int16}[(48, 1), (55, 5), (60, 1), (64, 3)])"
      ]
     },
     "metadata": {},
     "output_type": "display_data"
    },
    {
     "data": {
      "text/plain": [
       "(21, \"D7/7\", Tuple{Int16,Int16}[(46, 7), (55, 5), (60, 1), (64, 3)])"
      ]
     },
     "metadata": {},
     "output_type": "display_data"
    },
    {
     "data": {
      "text/plain": [
       "(21, \"T/3\", Tuple{Int16,Int16}[(45, 3), (53, 1), (60, 5), (65, 1)])"
      ]
     },
     "metadata": {},
     "output_type": "display_data"
    },
    {
     "data": {
      "text/plain": [
       "(15, \"S65\", Tuple{Int16,Int16}[(46, 1), (53, 5), (62, 3), (67, 6)])"
      ]
     },
     "metadata": {},
     "output_type": "display_data"
    },
    {
     "data": {
      "text/plain": [
       "(18, \"T/5\", Tuple{Int16,Int16}[(48, 5), (53, 1), (60, 5), (69, 3)])"
      ]
     },
     "metadata": {},
     "output_type": "display_data"
    },
    {
     "data": {
      "text/plain": [
       "(15, \"S\", Tuple{Int16,Int16}[(46, 1), (53, 5), (62, 3), (70, 1)])"
      ]
     },
     "metadata": {},
     "output_type": "display_data"
    },
    {
     "data": {
      "text/plain": [
       "(15, \"D\", Tuple{Int16,Int16}[(48, 1), (52, 3), (60, 1), (67, 5)])"
      ]
     },
     "metadata": {},
     "output_type": "display_data"
    },
    {
     "data": {
      "text/plain": [
       "(15, \"T\", Tuple{Int16,Int16}[(41, 1), (53, 1), (60, 5), (69, 3)])"
      ]
     },
     "metadata": {},
     "output_type": "display_data"
    },
    {
     "data": {
      "text/plain": [
       "(15, \"T\", Tuple{Int16,Int16}[(41, 1), (53, 1), (60, 5), (69, 3)])"
      ]
     },
     "metadata": {},
     "output_type": "display_data"
    },
    {
     "name": "stdout",
     "output_type": "stream",
     "text": [
      "##: Done. Total checked: 153307, Pruned: 183083, completed: 17, time: 3.3559999465942383, efficiency: 5.065554311838435\n",
      "Results: bestval_func: 213, bestval_voices: 58\n",
      "#Key: 6Scale: Major\n",
      "#Total time for optimisation of piece: 8.771999835968018\n",
      "#Total cost of piece: 502\n",
      "[\"T\", \"S\", \"Tm\", \"S\", \"D/3\", \"T\", \"S\", \"S\", \"D\", \"Ts\", \"T/3\", \"S\", \"D7/3\", \"T\", \"D\", \"D\", \"D7/7\", \"T/3\", \"D\", \"D\", \"Ts\", \"D7\", \"Ts\", \"D\", \"D7/7\", \"T/3\", \"S65\", \"T/5\", \"S\", \"D\", \"T\", \"T\"]\n",
      "../../results/optimizer/pianoroll/CO-17-gloom-opt.csv\n",
      " End of file \n",
      " \n",
      "Optimising: ../../results/neuralnet/pianoroll/CO-23-hosts-nn.csv\n",
      "[0 0 1 0 0 0 0 2 0 0 0 1; 0 0 1 0 0 0 1 0 0 1 0 0; 0 0 1 0 1 0 0 1 0 0 0 1; 0 0 2 0 0 0 1 0 0 1 0 0; 1 0 1 0 0 0 0 2 0 0 0 0; 0 0 1 0 1 0 0 2 0 0 0 0; 0 0 1 0 1 0 0 1 0 0 0 1; 1 0 0 0 1 0 0 1 0 1 0 0; 1 0 1 0 0 0 1 1 0 0 0 0; 1 0 0 0 0 0 2 0 0 1 0 0; 0 0 1 0 0 0 0 2 0 1 0 0; 0 0 1 0 0 0 0 1 0 1 0 1; 0 1 2 0 0 0 0 0 0 1 0 0; 0 0 1 0 1 0 0 1 0 0 0 1; 0 1 1 0 1 1 0 0 0 0 0 0; 0 0 1 0 0 0 1 1 0 0 0 1; 0 1 0 0 1 0 0 2 0 0 0 0; 0 0 2 0 0 0 1 0 0 1 0 0; 0 0 2 0 1 0 0 0 0 0 0 1; 0 0 2 0 1 0 0 0 0 1 0 0; 0 0 2 0 1 0 0 1 0 0 0 0; 0 0 2 0 1 0 1 0 0 0 0 0; 0 0 2 0 1 0 0 1 0 0 0 0; 0 0 2 0 0 0 1 1 0 0 0 0; 0 0 2 0 0 0 1 0 0 1 0 0; 0 0 1 0 0 0 1 0 0 2 0 0; 0 0 0 0 1 0 0 2 0 0 0 1; 0 0 1 0 0 0 1 0 0 2 0 0; 0 0 2 0 0 0 0 1 0 0 0 1; 1 0 0 0 1 0 0 1 0 1 0 0; 0 0 1 0 0 0 1 0 0 1 0 1; 0 0 0 0 3 0 0 0 0 1 0 0; 0 0 1 0 0 0 1 0 0 2 0 0]\n",
      "Key Counter is [5 3 38 0 17 1 14 24 0 19 0 10]\n",
      "Key Score is [114; 23; 125; 68; 63; 104; 28; 127; 33; 101; 87; 44]\n",
      "Position Counter for 8 is [24 0 19 0 10 5 3 38 0 17 1 14]\n",
      "Any[[8.0, 92.5, 1.0]]\n",
      "[8, 92, 1]\n",
      "8 G Major\n",
      "Rhythm map: [\"S\", \"W\", \"S\", \"W\", \"S\", \"C\", \"C\", \"C\", \"S\", \"W\", \"S\", \"W\", \"S\", \"C\", \"C\", \"C\"] size: (16,)\n",
      "Amount of timesteps to optimise: 16\n",
      "Building lookup-table list...\n",
      "Lookup-table built.\n",
      "Initial function score upper bound: 499, voicing score upper bound: 499\n",
      "Starting search...\n",
      "New solution\n",
      "function cost: 153\n",
      "child voicing cost: 76\n",
      "Best yet: 229\n",
      "New solution\n",
      "function cost: 153\n",
      "child voicing cost: 75\n",
      "Best yet: 228\n",
      "New solution\n",
      "function cost: 153\n",
      "child voicing cost: 73\n",
      "Best yet: 226\n",
      "New solution\n",
      "function cost: 153\n",
      "child voicing cost: 72\n",
      "Best yet: 225\n",
      "New solution\n",
      "function cost: 150\n",
      "child voicing cost: 72\n",
      "Best yet: 222\n",
      "New solution\n",
      "function cost: 150\n",
      "child voicing cost: 70\n",
      "Best yet: 220\n",
      "New solution\n",
      "function cost: 150\n",
      "child voicing cost: 69\n",
      "Best yet: 219\n",
      "New solution\n",
      "function cost: 150\n",
      "child voicing cost: 67\n",
      "Best yet: 217\n",
      "New solution\n",
      "function cost: 147\n",
      "child voicing cost: 69\n",
      "Best yet: 216\n",
      "New solution\n",
      "function cost: 147\n",
      "child voicing cost: 67\n",
      "Best yet: 214\n",
      "New solution\n",
      "function cost: 141\n",
      "child voicing cost: 72\n",
      "Best yet: 213\n",
      "New solution\n",
      "function cost: 141\n",
      "child voicing cost: 70\n",
      "Best yet: 211\n",
      "New solution\n",
      "function cost: 141\n",
      "child voicing cost: 68\n",
      "Best yet: 209\n",
      "##: Done. Total checked: 105211, Pruned: 118390, completed: 13, time: 2.189000129699707, efficiency: 5.938784481380262\n",
      "Results: bestval_func: 141, bestval_voices: 68\n",
      "[0 0 1 0 0 0 0 2 0 0 0 1; 0 0 1 0 0 0 1 0 0 1 0 0; 0 0 1 0 1 0 0 1 0 0 0 1; 0 0 2 0 0 0 1 0 0 1 0 0; 1 0 1 0 0 0 0 2 0 0 0 0; 0 0 1 0 1 0 0 2 0 0 0 0; 0 0 1 0 1 0 0 1 0 0 0 1; 1 0 0 0 1 0 0 1 0 1 0 0; 1 0 1 0 0 0 1 1 0 0 0 0; 1 0 0 0 0 0 2 0 0 1 0 0; 0 0 1 0 0 0 0 2 0 1 0 0; 0 0 1 0 0 0 0 1 0 1 0 1; 0 1 2 0 0 0 0 0 0 1 0 0; 0 0 1 0 1 0 0 1 0 0 0 1; 0 1 1 0 1 1 0 0 0 0 0 0; 0 0 1 0 0 0 1 1 0 0 0 1; 0 1 0 0 1 0 0 2 0 0 0 0; 0 0 2 0 0 0 1 0 0 1 0 0; 0 0 2 0 1 0 0 0 0 0 0 1; 0 0 2 0 1 0 0 0 0 1 0 0; 0 0 2 0 1 0 0 1 0 0 0 0; 0 0 2 0 1 0 1 0 0 0 0 0; 0 0 2 0 1 0 0 1 0 0 0 0; 0 0 2 0 0 0 1 1 0 0 0 0; 0 0 2 0 0 0 1 0 0 1 0 0; 0 0 1 0 0 0 1 0 0 2 0 0; 0 0 0 0 1 0 0 2 0 0 0 1; 0 0 1 0 0 0 1 0 0 2 0 0; 0 0 2 0 0 0 0 1 0 0 0 1; 1 0 0 0 1 0 0 1 0 1 0 0; 0 0 1 0 0 0 1 0 0 1 0 1; 0 0 0 0 3 0 0 0 0 1 0 0; 0 0 1 0 0 0 1 0 0 2 0 0]\n",
      "Key Counter is [5 3 38 0 17 1 14 24 0 19 0 10]\n",
      "Key Score is [114; 23; 125; 68; 63; 104; 28; 127; 33; 101; 87; 44]\n",
      "Position Counter for 8 is [24 0 19 0 10 5 3 38 0 17 1 14]\n",
      "Any[[8.0, 92.5, 1.0]]\n",
      "[8, 92, 1]\n",
      "8 G Major\n",
      "Rhythm map: [\"W\", \"S\", \"W\", \"S\", \"W\", \"S\", \"W\", \"S\", \"W\", \"S\", \"W\", \"S\", \"W\", \"A\", \"A\", \"A\", \"A\"] size: (17,)\n",
      "Amount of timesteps to optimise: 17\n",
      "Building lookup-table list...\n",
      "Lookup-table built.\n",
      "Initial function score upper bound: 499, voicing score upper bound: 499\n",
      "Starting search...\n",
      "New solution\n",
      "function cost: 198\n",
      "child voicing cost: 86\n",
      "Best yet: 284\n",
      "New solution\n",
      "function cost: 198\n",
      "child voicing cost: 80\n",
      "Best yet: 278\n",
      "New solution\n",
      "function cost: 198\n",
      "child voicing cost: 76\n",
      "Best yet: 274\n",
      "New solution\n",
      "function cost: 195\n",
      "child voicing cost: 73\n",
      "Best yet: 268\n",
      "New solution\n",
      "function cost: 195\n",
      "child voicing cost: 69\n",
      "Best yet: 264\n",
      "New solution\n",
      "function cost: 195\n",
      "child voicing cost: 66\n",
      "Best yet: 261\n",
      "New solution\n",
      "function cost: 195\n",
      "child voicing cost: 65\n",
      "Best yet: 260\n",
      "New solution\n",
      "function cost: 195\n",
      "child voicing cost: 64\n",
      "Best yet: 259\n",
      "New solution\n",
      "function cost: 195\n",
      "child voicing cost: 61\n",
      "Best yet: 256"
     ]
    },
    {
     "data": {
      "text/plain": [
       "(0, \"T\", Tuple{Int16,Int16}[(55, 1), (59, 3), (67, 1), (74, 5)])"
      ]
     },
     "metadata": {},
     "output_type": "display_data"
    },
    {
     "data": {
      "text/plain": [
       "(0, \"D/3\", Tuple{Int16,Int16}[(54, 3), (57, 5), (69, 5), (74, 1)])"
      ]
     },
     "metadata": {},
     "output_type": "display_data"
    },
    {
     "data": {
      "text/plain": [
       "(6, \"Ts\", Tuple{Int16,Int16}[(52, 1), (59, 5), (67, 3), (76, 1)])"
      ]
     },
     "metadata": {},
     "output_type": "display_data"
    },
    {
     "data": {
      "text/plain": [
       "(0, \"D\", Tuple{Int16,Int16}[(50, 1), (62, 1), (69, 5), (78, 3)])"
      ]
     },
     "metadata": {},
     "output_type": "display_data"
    },
    {
     "data": {
      "text/plain": [
       "(3, \"T\", Tuple{Int16,Int16}[(43, 1), (62, 5), (71, 3), (79, 1)])"
      ]
     },
     "metadata": {},
     "output_type": "display_data"
    },
    {
     "data": {
      "text/plain": [
       "(15, \"D/3\", Tuple{Int16,Int16}[(42, 3), (62, 1), (69, 5), (74, 1)])"
      ]
     },
     "metadata": {},
     "output_type": "display_data"
    },
    {
     "data": {
      "text/plain": [
       "(9, \"T\", Tuple{Int16,Int16}[(43, 1), (59, 3), (67, 1), (74, 5)])"
      ]
     },
     "metadata": {},
     "output_type": "display_data"
    },
    {
     "data": {
      "text/plain": [
       "(15, \"T\", Tuple{Int16,Int16}[(43, 1), (59, 3), (62, 5), (67, 1)])"
      ]
     },
     "metadata": {},
     "output_type": "display_data"
    },
    {
     "data": {
      "text/plain": [
       "(6, \"T\", Tuple{Int16,Int16}[(43, 1), (55, 1), (62, 5), (71, 3)])"
      ]
     },
     "metadata": {},
     "output_type": "display_data"
    },
    {
     "data": {
      "text/plain": [
       "(12, \"D7/3\", Tuple{Int16,Int16}[(42, 3), (57, 5), (62, 1), (72, 7)])"
      ]
     },
     "metadata": {},
     "output_type": "display_data"
    },
    {
     "data": {
      "text/plain": [
       "(6, \"T\", Tuple{Int16,Int16}[(43, 1), (55, 1), (62, 5), (71, 3)])"
      ]
     },
     "metadata": {},
     "output_type": "display_data"
    },
    {
     "data": {
      "text/plain": [
       "(12, \"D7-1\", Tuple{Int16,Int16}[(45, 5), (54, 3), (60, 7), (69, 5)])"
      ]
     },
     "metadata": {},
     "output_type": "display_data"
    },
    {
     "data": {
      "text/plain": [
       "(15, \"D7\", Tuple{Int16,Int16}[(50, 1), (54, 3), (60, 7), (69, 5)])"
      ]
     },
     "metadata": {},
     "output_type": "display_data"
    },
    {
     "data": {
      "text/plain": [
       "(6, \"Ts\", Tuple{Int16,Int16}[(52, 1), (55, 3), (59, 5), (67, 3)])"
      ]
     },
     "metadata": {},
     "output_type": "display_data"
    },
    {
     "data": {
      "text/plain": [
       "(21, \"D\", Tuple{Int16,Int16}[(50, 1), (57, 5), (62, 1), (66, 3)])"
      ]
     },
     "metadata": {},
     "output_type": "display_data"
    },
    {
     "data": {
      "text/plain": [
       "(15, \"D\", Tuple{Int16,Int16}[(50, 1), (54, 3), (62, 1), (69, 5)])"
      ]
     },
     "metadata": {},
     "output_type": "display_data"
    },
    {
     "data": {
      "text/plain": [
       "(6, \"Ts\", Tuple{Int16,Int16}[(52, 1), (55, 3), (59, 5), (67, 3)])"
      ]
     },
     "metadata": {},
     "output_type": "display_data"
    },
    {
     "data": {
      "text/plain": [
       "(0, \"D\", Tuple{Int16,Int16}[(50, 1), (54, 3), (62, 1), (69, 5)])"
      ]
     },
     "metadata": {},
     "output_type": "display_data"
    },
    {
     "data": {
      "text/plain": [
       "(24, \"T\", Tuple{Int16,Int16}[(43, 1), (55, 1), (62, 5), (71, 3)])"
      ]
     },
     "metadata": {},
     "output_type": "display_data"
    },
    {
     "data": {
      "text/plain": [
       "(6, \"D/5\", Tuple{Int16,Int16}[(45, 5), (54, 3), (62, 1), (69, 5)])"
      ]
     },
     "metadata": {},
     "output_type": "display_data"
    },
    {
     "data": {
      "text/plain": [
       "(18, \"T/3\", Tuple{Int16,Int16}[(47, 3), (55, 1), (62, 5), (74, 5)])"
      ]
     },
     "metadata": {},
     "output_type": "display_data"
    },
    {
     "data": {
      "text/plain": [
       "(15, \"S\", Tuple{Int16,Int16}[(48, 1), (55, 5), (64, 3), (72, 1)])"
      ]
     },
     "metadata": {},
     "output_type": "display_data"
    },
    {
     "data": {
      "text/plain": [
       "(15, \"D64\", Tuple{Int16,Int16}[(50, 1), (55, 4), (62, 1), (71, 6)])"
      ]
     },
     "metadata": {},
     "output_type": "display_data"
    },
    {
     "data": {
      "text/plain": [
       "(6, \"D\", Tuple{Int16,Int16}[(50, 1), (54, 3), (62, 1), (69, 5)])"
      ]
     },
     "metadata": {},
     "output_type": "display_data"
    },
    {
     "data": {
      "text/plain": [
       "(6, \"D7/7\", Tuple{Int16,Int16}[(48, 7), (54, 3), (62, 1), (69, 5)])"
      ]
     },
     "metadata": {},
     "output_type": "display_data"
    },
    {
     "data": {
      "text/plain": [
       "(15, \"T/3\", Tuple{Int16,Int16}[(47, 3), (55, 1), (62, 5), (74, 5)])"
      ]
     },
     "metadata": {},
     "output_type": "display_data"
    },
    {
     "data": {
      "text/plain": [
       "(0, \"Ts\", Tuple{Int16,Int16}[(40, 1), (59, 5), (67, 3), (76, 1)])"
      ]
     },
     "metadata": {},
     "output_type": "display_data"
    },
    {
     "data": {
      "text/plain": [
       "(15, \"T/3\", Tuple{Int16,Int16}[(47, 3), (62, 5), (67, 1), (74, 5)])"
      ]
     },
     "metadata": {},
     "output_type": "display_data"
    },
    {
     "data": {
      "text/plain": [
       "(15, \"S\", Tuple{Int16,Int16}[(48, 1), (64, 3), (67, 5), (72, 1)])"
      ]
     },
     "metadata": {},
     "output_type": "display_data"
    },
    {
     "data": {
      "text/plain": [
       "(9, \"D7\", Tuple{Int16,Int16}[(50, 1), (60, 7), (66, 3), (69, 5)])"
      ]
     },
     "metadata": {},
     "output_type": "display_data"
    },
    {
     "data": {
      "text/plain": [
       "(9, \"T\", Tuple{Int16,Int16}[(55, 1), (59, 3), (62, 5), (67, 1)])"
      ]
     },
     "metadata": {},
     "output_type": "display_data"
    },
    {
     "data": {
      "text/plain": [
       "(9, \"T\", Tuple{Int16,Int16}[(55, 1), (59, 3), (62, 5), (67, 1)])"
      ]
     },
     "metadata": {},
     "output_type": "display_data"
    },
    {
     "name": "stdout",
     "output_type": "stream",
     "text": [
      "\n",
      "##: Done. Total checked: 105043, Pruned: 121992, completed: 9, time: 2.2260000705718994, efficiency: 4.0431265564550225\n",
      "Results: bestval_func: 195, bestval_voices: 61\n",
      "#Key: 8Scale: Major\n",
      "#Total time for optimisation of piece: 6.039000034332275\n",
      "#Total cost of piece: 465\n",
      "[\"T\", \"D/3\", \"Ts\", \"D\", \"T\", \"D/3\", \"T\", \"T\", \"T\", \"D7/3\", \"T\", \"D7-1\", \"D7\", \"Ts\", \"D\", \"D\", \"Ts\", \"D\", \"T\", \"D/5\", \"T/3\", \"S\", \"D64\", \"D\", \"D7/7\", \"T/3\", \"Ts\", \"T/3\", \"S\", \"D7\", \"T\", \"T\"]\n",
      "../../results/optimizer/pianoroll/CO-23-hosts-opt.csv\n",
      " End of file \n",
      " \n",
      "Optimising: ../../results/neuralnet/pianoroll/CO-28-lord-nn.csv\n",
      "[0 0 0 0 1 0 0 1 0 0 0 0; 0 1 0 0 1 0 0 0 0 0 0 0; 0 1 1 0 1 0 0 0 0 1 0 0; 0 0 0 0 1 0 0 2 0 0 0 1; 0 1 0 0 2 0 0 0 0 1 0 0; 0 0 2 0 0 0 1 0 0 1 0 0; 0 0 2 0 0 0 0 0 0 1 0 1; 0 0 0 0 1 0 0 0 0 3 0 0; 0 0 2 0 0 0 0 0 0 2 0 0; 0 0 0 0 1 0 1 1 0 0 0 1; 1 0 0 0 0 0 1 1 0 0 0 1; 0 0 1 0 0 0 1 1 0 1 0 0; 1 0 0 0 2 0 0 1 0 0 0 0; 1 0 0 0 0 0 1 0 0 2 0 0; 1 0 0 0 1 0 0 0 0 0 0 2; 1 0 0 0 0 0 1 0 0 1 0 1; 1 0 0 0 0 0 1 1 0 0 0 1; 0 0 0 1 0 0 1 1 0 0 0 1; 0 0 0 1 1 0 1 0 0 1 0 0; 0 0 1 0 0 0 0 0 0 1 0 2; 0 0 1 0 0 0 0 0 0 1 0 2; 0 0 2 0 0 0 0 1 0 1 0 0; 0 0 2 0 0 0 1 0 0 1 0 0; 0 0 1 0 0 0 1 0 0 1 0 1; 0 0 1 0 0 0 1 1 0 0 0 1; 0 0 0 0 1 0 1 2 0 0 0 0; 0 1 0 0 1 0 0 1 0 1 0 0; 0 0 2 0 0 0 0 1 0 0 0 1; 0 0 2 0 0 0 1 0 0 1 0 0; 0 1 0 0 0 0 1 0 0 1 0 1; 0 0 1 0 0 0 1 0 0 2 0 0; 0 0 0 0 0 0 0 1 1 0 0 2; 0 0 0 0 2 0 0 1 0 0 0 1]\n",
      "Key Counter is [6 5 21 2 16 0 16 17 1 24 0 20]\n",
      "Key Score is [104; 30; 119; 47; 84; 84; 44; 120; 31; 103; 70; 60]\n",
      "Position Counter for 8 is [17 1 24 0 20 6 5 21 2 16 0 16]\n",
      "Any[[8.0, 76.5, 0.0]]\n",
      "[8, 76, 0]\n",
      "5 E Minor\n",
      "Rhythm map: [\"S\", \"W\", \"S\", \"W\", \"S\", \"C\", \"C\", \"C\", \"S\", \"W\", \"S\", \"W\", \"S\", \"C\", \"C\", \"C\"] size: (16,)\n",
      "Amount of timesteps to optimise: 16\n",
      "Building lookup-table list...\n",
      "Lookup-table built.\n",
      "Initial function score upper bound: 499, voicing score upper bound: 499\n",
      "Starting search...\n",
      "New solution\n",
      "function cost: 231\n",
      "child voicing cost: 113\n",
      "Best yet: 344\n",
      "New solution\n",
      "function cost: 231\n",
      "child voicing cost: 110\n",
      "Best yet: 341\n",
      "New solution\n",
      "function cost: 231\n",
      "child voicing cost: 109\n",
      "Best yet: 340\n",
      "New solution\n",
      "function cost: 231\n",
      "child voicing cost: 107\n",
      "Best yet: 338\n",
      "New solution\n",
      "function cost: 234\n",
      "child voicing cost: 102\n",
      "Best yet: 336\n",
      "New solution\n",
      "function cost: 234\n",
      "child voicing cost: 100\n",
      "Best yet: 334\n",
      "New solution\n",
      "function cost: 228\n",
      "child voicing cost: 105\n",
      "Best yet: 333\n",
      "New solution\n",
      "function cost: 231\n",
      "child voicing cost: 100\n",
      "Best yet: 331\n",
      "New solution\n",
      "function cost: 231\n",
      "child voicing cost: 97\n",
      "Best yet: 328\n",
      "New solution\n",
      "function cost: 228\n",
      "child voicing cost: 97\n",
      "Best yet: 325\n",
      "New solution\n",
      "function cost: 213\n",
      "child voicing cost: 111\n",
      "Best yet: 324\n",
      "New solution\n",
      "function cost: 213\n",
      "child voicing cost: 107\n",
      "Best yet: 320\n",
      "New solution\n",
      "function cost: 213\n",
      "child voicing cost: 101\n",
      "Best yet: 314\n",
      "New solution\n",
      "function cost: 216\n",
      "child voicing cost: 93\n",
      "Best yet: 309\n",
      "New solution\n",
      "function cost: 204\n",
      "child voicing cost: 101\n",
      "Best yet: 305\n",
      "New solution\n",
      "function cost: 204\n",
      "child voicing cost: 100\n",
      "Best yet: 304\n",
      "New solution\n",
      "function cost: 204\n",
      "child voicing cost: 98\n",
      "Best yet: 302\n",
      "New solution\n",
      "function cost: 198\n",
      "child voicing cost: 89\n",
      "Best yet: 287\n",
      "New solution\n",
      "function cost: 198\n",
      "child voicing cost: 87\n",
      "Best yet: 285\n",
      "New solution\n",
      "function cost: 198\n",
      "child voicing cost: 86\n",
      "Best yet: 284\n",
      "New solution\n",
      "function cost: 198\n",
      "child voicing cost: 84\n",
      "Best yet: 282\n",
      "New solution\n",
      "function cost: 177\n",
      "child voicing cost: 104\n",
      "Best yet: 281\n",
      "New solution\n",
      "function cost: 177\n",
      "child voicing cost: 102\n",
      "Best yet: 279\n",
      "New solution\n",
      "function cost: 189\n",
      "child voicing cost: 88\n",
      "Best yet: 277\n",
      "New solution\n",
      "function cost: 186\n",
      "child voicing cost: 89\n",
      "Best yet: 275\n",
      "New solution\n",
      "function cost: 183\n",
      "child voicing cost: 91\n",
      "Best yet: 274\n",
      "New solution\n",
      "function cost: 189\n",
      "child voicing cost: 83\n",
      "Best yet: 272\n",
      "New solution\n",
      "function cost: 192\n",
      "child voicing cost: 78\n",
      "Best yet: 270\n",
      "New solution\n",
      "function cost: 168\n",
      "child voicing cost: 101\n",
      "Best yet: 269\n",
      "New solution\n",
      "function cost: 168\n",
      "child voicing cost: 100\n",
      "Best yet: 268\n",
      "New solution\n",
      "function cost: 168\n",
      "child voicing cost: 98\n",
      "Best yet: 266\n",
      "New solution\n",
      "function cost: 180\n",
      "child voicing cost: 84\n",
      "Best yet: 264\n",
      "New solution\n",
      "function cost: 174\n",
      "child voicing cost: 89\n",
      "Best yet: 263\n",
      "New solution\n",
      "function cost: 174\n",
      "child voicing cost: 87\n",
      "Best yet: 261\n",
      "New solution\n",
      "function cost: 174\n",
      "child voicing cost: 86\n",
      "Best yet: 260\n",
      "New solution\n",
      "function cost: 174\n",
      "child voicing cost: 84\n",
      "Best yet: 258\n",
      "New solution\n",
      "function cost: 174\n",
      "child voicing cost: 83\n",
      "Best yet: 257\n",
      "##: Done. Total checked: 277267, Pruned: 328968, completed: 37, time: 5.45799994468689, efficiency: 6.779040010071416\n",
      "Results: bestval_func: 174, bestval_voices: 83\n",
      "[0 0 0 0 1 0 0 1 0 0 0 0; 0 1 0 0 1 0 0 0 0 0 0 0; 0 1 1 0 1 0 0 0 0 1 0 0; 0 0 0 0 1 0 0 2 0 0 0 1; 0 1 0 0 2 0 0 0 0 1 0 0; 0 0 2 0 0 0 1 0 0 1 0 0; 0 0 2 0 0 0 0 0 0 1 0 1; 0 0 0 0 1 0 0 0 0 3 0 0; 0 0 2 0 0 0 0 0 0 2 0 0; 0 0 0 0 1 0 1 1 0 0 0 1; 1 0 0 0 0 0 1 1 0 0 0 1; 0 0 1 0 0 0 1 1 0 1 0 0; 1 0 0 0 2 0 0 1 0 0 0 0; 1 0 0 0 0 0 1 0 0 2 0 0; 1 0 0 0 1 0 0 0 0 0 0 2; 1 0 0 0 0 0 1 0 0 1 0 1; 1 0 0 0 0 0 1 1 0 0 0 1; 0 0 0 1 0 0 1 1 0 0 0 1; 0 0 0 1 1 0 1 0 0 1 0 0; 0 0 1 0 0 0 0 0 0 1 0 2; 0 0 1 0 0 0 0 0 0 1 0 2; 0 0 2 0 0 0 0 1 0 1 0 0; 0 0 2 0 0 0 1 0 0 1 0 0; 0 0 1 0 0 0 1 0 0 1 0 1; 0 0 1 0 0 0 1 1 0 0 0 1; 0 0 0 0 1 0 1 2 0 0 0 0; 0 1 0 0 1 0 0 1 0 1 0 0; 0 0 2 0 0 0 0 1 0 0 0 1; 0 0 2 0 0 0 1 0 0 1 0 0; 0 1 0 0 0 0 1 0 0 1 0 1; 0 0 1 0 0 0 1 0 0 2 0 0; 0 0 0 0 0 0 0 1 1 0 0 2; 0 0 0 0 2 0 0 1 0 0 0 1]\n",
      "Key Counter is [6 5 21 2 16 0 16 17 1 24 0 20]\n",
      "Key Score is [104; 30; 119; 47; 84; 84; 44; 120; 31; 103; 70; 60]\n",
      "Position Counter for 8 is [17 1 24 0 20 6 5 21 2 16 0 16]\n",
      "Any[[8.0, 76.5, 0.0]]\n",
      "[8, 76, 0]\n",
      "5 E Minor\n",
      "Rhythm map: [\"W\", \"S\", \"W\", \"S\", \"W\", \"S\", \"W\", \"S\", \"W\", \"S\", \"W\", \"S\", \"W\", \"A\", \"A\", \"A\", \"A\"] size: (17,)\n",
      "Amount of timesteps to optimise: 17\n",
      "Building lookup-table list...\n",
      "Lookup-table built.\n",
      "Initial function score upper bound: 499, voicing score upper bound: 499\n",
      "Starting search...\n",
      "New solution\n",
      "function cost: 246\n",
      "child voicing cost: 76\n",
      "Best yet: 322\n",
      "New solution\n",
      "function cost: 246\n",
      "child voicing cost: 70\n",
      "Best yet: 316\n",
      "New solution\n",
      "function cost: 246\n",
      "child voicing cost: 69\n",
      "Best yet: 315\n",
      "New solution\n",
      "function cost: 249\n",
      "child voicing cost: 65\n",
      "Best yet: 314\n",
      "New solution\n",
      "function cost: 237\n",
      "child voicing cost: 74\n",
      "Best yet: 311\n",
      "New solution\n",
      "function cost: 243\n",
      "child voicing cost: 67\n",
      "Best yet: 310\n",
      "New solution\n",
      "function cost: 237\n",
      "child voicing cost: 72\n",
      "Best yet: 309\n",
      "New solution\n",
      "function cost: 234\n",
      "child voicing cost: 70\n",
      "Best yet: 304\n",
      "New solution\n",
      "function cost: 222\n",
      "child voicing cost: 80\n",
      "Best yet: 302\n",
      "New solution\n",
      "function cost: 222\n",
      "child voicing cost: 79\n",
      "Best yet: 301\n",
      "New solution\n",
      "function cost: 216\n",
      "child voicing cost: 81\n",
      "Best yet: 297\n",
      "New solution\n",
      "function cost: 219\n",
      "child voicing cost: 75\n",
      "Best yet: 294\n",
      "New solution\n",
      "function cost: 222\n",
      "child voicing cost: 66\n",
      "Best yet: 288\n",
      "New solution\n",
      "function cost: 222\n",
      "child voicing cost: 63\n",
      "Best yet: 285\n",
      "New solution\n",
      "function cost: 219\n",
      "child voicing cost: 60\n",
      "Best yet: 279\n",
      "New solution\n",
      "function cost: 219\n",
      "child voicing cost: 58\n",
      "Best yet: 277"
     ]
    },
    {
     "data": {
      "text/plain": [
       "(0, \"T\", Tuple{Int16,Int16}[(52, 1), (55, 3), (59, 5), (64, 1)])"
      ]
     },
     "metadata": {},
     "output_type": "display_data"
    },
    {
     "data": {
      "text/plain": [
       "(9, \"Dm\", Tuple{Int16,Int16}[(50, 1), (57, 5), (62, 1), (66, 3)])"
      ]
     },
     "metadata": {},
     "output_type": "display_data"
    },
    {
     "data": {
      "text/plain": [
       "(9, \"S/3\", Tuple{Int16,Int16}[(48, 3), (57, 1), (64, 5), (69, 1)])"
      ]
     },
     "metadata": {},
     "output_type": "display_data"
    },
    {
     "data": {
      "text/plain": [
       "(9, \"T/5\", Tuple{Int16,Int16}[(47, 5), (55, 3), (64, 1), (71, 5)])"
      ]
     },
     "metadata": {},
     "output_type": "display_data"
    },
    {
     "data": {
      "text/plain": [
       "(3, \"S/3\", Tuple{Int16,Int16}[(48, 3), (57, 1), (64, 5), (64, 5)])"
      ]
     },
     "metadata": {},
     "output_type": "display_data"
    },
    {
     "data": {
      "text/plain": [
       "(12, \"D7\", Tuple{Int16,Int16}[(47, 1), (57, 7), (63, 3), (66, 5)])"
      ]
     },
     "metadata": {},
     "output_type": "display_data"
    },
    {
     "data": {
      "text/plain": [
       "(18, \"T\", Tuple{Int16,Int16}[(40, 1), (55, 3), (64, 1), (71, 5)])"
      ]
     },
     "metadata": {},
     "output_type": "display_data"
    },
    {
     "data": {
      "text/plain": [
       "(27, \"T\", Tuple{Int16,Int16}[(52, 1), (55, 3), (64, 1), (71, 5)])"
      ]
     },
     "metadata": {},
     "output_type": "display_data"
    },
    {
     "data": {
      "text/plain": [
       "(15, \"D7-1\", Tuple{Int16,Int16}[(54, 5), (57, 7), (63, 3), (69, 7)])"
      ]
     },
     "metadata": {},
     "output_type": "display_data"
    },
    {
     "data": {
      "text/plain": [
       "(6, \"T\", Tuple{Int16,Int16}[(52, 1), (59, 5), (64, 1), (67, 3)])"
      ]
     },
     "metadata": {},
     "output_type": "display_data"
    },
    {
     "data": {
      "text/plain": [
       "(9, \"Ts\", Tuple{Int16,Int16}[(48, 1), (60, 1), (64, 3), (67, 5)])"
      ]
     },
     "metadata": {},
     "output_type": "display_data"
    },
    {
     "data": {
      "text/plain": [
       "(6, \"D7-1\", Tuple{Int16,Int16}[(54, 5), (57, 7), (63, 3), (66, 5)])"
      ]
     },
     "metadata": {},
     "output_type": "display_data"
    },
    {
     "data": {
      "text/plain": [
       "(3, \"T\", Tuple{Int16,Int16}[(52, 1), (55, 3), (64, 1), (71, 5)])"
      ]
     },
     "metadata": {},
     "output_type": "display_data"
    },
    {
     "data": {
      "text/plain": [
       "(6, \"S\", Tuple{Int16,Int16}[(45, 1), (57, 1), (64, 5), (72, 3)])"
      ]
     },
     "metadata": {},
     "output_type": "display_data"
    },
    {
     "data": {
      "text/plain": [
       "(21, \"D\", Tuple{Int16,Int16}[(47, 1), (54, 5), (63, 3), (71, 1)])"
      ]
     },
     "metadata": {},
     "output_type": "display_data"
    },
    {
     "data": {
      "text/plain": [
       "(21, \"D\", Tuple{Int16,Int16}[(47, 1), (59, 1), (63, 3), (66, 5)])"
      ]
     },
     "metadata": {},
     "output_type": "display_data"
    },
    {
     "data": {
      "text/plain": [
       "(15, \"D7/7\", Tuple{Int16,Int16}[(45, 7), (59, 1), (63, 3), (66, 5)])"
      ]
     },
     "metadata": {},
     "output_type": "display_data"
    },
    {
     "data": {
      "text/plain": [
       "(9, \"T/3\", Tuple{Int16,Int16}[(43, 3), (59, 5), (64, 1), (71, 5)])"
      ]
     },
     "metadata": {},
     "output_type": "display_data"
    },
    {
     "data": {
      "text/plain": [
       "(9, \"S65/6\", Tuple{Int16,Int16}[(42, 6), (57, 1), (64, 5), (72, 3)])"
      ]
     },
     "metadata": {},
     "output_type": "display_data"
    },
    {
     "data": {
      "text/plain": [
       "(12, \"D\", Tuple{Int16,Int16}[(47, 1), (59, 1), (63, 3), (66, 5)])"
      ]
     },
     "metadata": {},
     "output_type": "display_data"
    },
    {
     "data": {
      "text/plain": [
       "(3, \"D7-5\", Tuple{Int16,Int16}[(47, 1), (57, 7), (63, 3), (71, 1)])"
      ]
     },
     "metadata": {},
     "output_type": "display_data"
    },
    {
     "data": {
      "text/plain": [
       "(18, \"T\", Tuple{Int16,Int16}[(52, 1), (55, 3), (64, 1), (71, 5)])"
      ]
     },
     "metadata": {},
     "output_type": "display_data"
    },
    {
     "data": {
      "text/plain": [
       "(12, \"S65/6\", Tuple{Int16,Int16}[(54, 6), (57, 1), (64, 5), (72, 3)])"
      ]
     },
     "metadata": {},
     "output_type": "display_data"
    },
    {
     "data": {
      "text/plain": [
       "(9, \"D7-1\", Tuple{Int16,Int16}[(54, 5), (57, 7), (63, 3), (66, 5)])"
      ]
     },
     "metadata": {},
     "output_type": "display_data"
    },
    {
     "data": {
      "text/plain": [
       "(12, \"T\", Tuple{Int16,Int16}[(52, 1), (59, 5), (64, 1), (67, 3)])"
      ]
     },
     "metadata": {},
     "output_type": "display_data"
    },
    {
     "data": {
      "text/plain": [
       "(15, \"Dm\", Tuple{Int16,Int16}[(50, 1), (62, 1), (66, 3), (69, 5)])"
      ]
     },
     "metadata": {},
     "output_type": "display_data"
    },
    {
     "data": {
      "text/plain": [
       "(9, \"S/3\", Tuple{Int16,Int16}[(48, 3), (52, 5), (64, 5), (69, 1)])"
      ]
     },
     "metadata": {},
     "output_type": "display_data"
    },
    {
     "data": {
      "text/plain": [
       "(12, \"T/5\", Tuple{Int16,Int16}[(47, 5), (55, 3), (64, 1), (71, 5)])"
      ]
     },
     "metadata": {},
     "output_type": "display_data"
    },
    {
     "data": {
      "text/plain": [
       "(21, \"S\", Tuple{Int16,Int16}[(45, 1), (57, 1), (64, 5), (72, 3)])"
      ]
     },
     "metadata": {},
     "output_type": "display_data"
    },
    {
     "data": {
      "text/plain": [
       "(6, \"D7\", Tuple{Int16,Int16}[(47, 1), (57, 7), (63, 3), (66, 5)])"
      ]
     },
     "metadata": {},
     "output_type": "display_data"
    },
    {
     "data": {
      "text/plain": [
       "(30, \"T\", Tuple{Int16,Int16}[(52, 1), (55, 3), (59, 5), (64, 1)])"
      ]
     },
     "metadata": {},
     "output_type": "display_data"
    },
    {
     "data": {
      "text/plain": [
       "(30, \"T\", Tuple{Int16,Int16}[(52, 1), (55, 3), (59, 5), (64, 1)])"
      ]
     },
     "metadata": {},
     "output_type": "display_data"
    },
    {
     "name": "stdout",
     "output_type": "stream",
     "text": [
      "\n",
      "##: Done. Total checked: 304146, Pruned: 340492, completed: 16, time: 6.450000047683716, efficiency: 2.4806201366999714\n",
      "Results: bestval_func: 219, bestval_voices: 58\n",
      "#Key: 5Scale: Minor\n",
      "#Total time for optimisation of piece: 13.491999864578247\n",
      "#Total cost of piece: 534\n",
      "[\"T\", \"Dm\", \"S/3\", \"T/5\", \"S/3\", \"D7\", \"T\", \"T\", \"D7-1\", \"T\", \"Ts\", \"D7-1\", \"T\", \"S\", \"D\", \"D\", \"D7/7\", \"T/3\", \"S65/6\", \"D\", \"D7-5\", \"T\", \"S65/6\", \"D7-1\", \"T\", \"Dm\", \"S/3\", \"T/5\", \"S\", \"D7\", \"T\", \"T\"]\n",
      "../../results/optimizer/pianoroll/CO-28-lord-opt.csv\n",
      " End of file \n",
      " \n",
      "Optimising: ../../results/neuralnet/pianoroll/CO-33-thee-nn.csv\n",
      "[2 0 0 0 1 0 0 1 0 0 0 0; 1 0 1 0 0 0 1 0 0 1 0 0; 0 0 1 0 0 0 0 2 0 0 0 1; 2 0 0 0 0 1 0 0 1 0 0 0; 1 0 0 0 1 0 0 2 0 0 0 0; 0 0 1 0 0 0 0 2 0 0 0 1; 1 0 0 0 1 1 0 1 0 0 0 0; 0 0 2 0 0 0 0 1 0 0 0 1; 1 0 1 0 1 0 0 1 0 0 0 0; 1 0 1 0 1 0 0 1 0 0 0 0; 0 0 0 0 1 1 0 2 0 0 0 0; 2 0 0 0 1 0 0 1 0 0 0 0; 1 0 0 0 1 0 0 2 0 0 0 0; 1 0 1 0 0 1 0 1 0 0 0 0; 1 0 0 0 1 1 0 1 0 0 0 0; 1 0 1 0 0 1 0 1 0 0 0 0; 1 0 1 0 1 0 0 1 0 0 0 0; 0 0 1 0 0 0 0 2 0 0 0 1; 2 0 0 0 0 0 0 2 0 0 0 0; 2 0 0 0 1 0 0 1 0 0 0 0; 1 1 1 0 1 0 0 0 0 0 0 0; 1 0 1 0 1 0 0 0 0 1 0 0; 1 0 2 0 0 0 0 1 0 0 0 0; 1 0 1 0 0 0 0 1 0 0 0 1; 1 0 0 0 0 0 1 0 0 2 0 0; 0 0 1 0 0 0 0 1 0 2 0 0; 0 0 1 0 0 0 0 2 0 0 0 1; 1 0 2 0 0 0 0 1 0 0 0 0; 1 0 0 0 0 1 0 1 0 0 1 0; 2 0 0 0 1 1 0 0 0 0 0 0; 2 0 0 0 1 0 0 0 0 1 0 0; 1 0 0 0 1 1 0 0 0 1 0 0; 1 0 0 0 0 0 0 2 0 0 1 0]\n",
      "Key Counter is [33 1 20 0 16 9 2 34 1 8 2 6]\n",
      "Key Score is [126; 48; 87; 99; 34; 122; 21; 119; 80; 54; 106; 28]\n",
      "Position Counter for 1 is [33 1 20 0 16 9 2 34 1 8 2 6]\n",
      "Any[[1.0, 93.0, 1.0]]\n",
      "[1, 93, 1]\n",
      "1 C Major\n",
      "Rhythm map: [\"S\", \"W\", \"S\", \"W\", \"S\", \"C\", \"C\", \"C\", \"S\", \"W\", \"S\", \"W\", \"S\", \"C\", \"C\", \"C\"] size: (16,)\n",
      "Amount of timesteps to optimise: 16\n",
      "Building lookup-table list...\n",
      "Lookup-table built.\n",
      "Initial function score upper bound: 499, voicing score upper bound: 499\n",
      "Starting search...\n",
      "New solution\n",
      "function cost: 171\n",
      "child voicing cost: 98\n",
      "Best yet: 269\n",
      "New solution\n",
      "function cost: 171\n",
      "child voicing cost: 97\n",
      "Best yet: 268\n",
      "New solution\n",
      "function cost: 174\n",
      "child voicing cost: 75\n",
      "Best yet: 249\n",
      "New solution\n",
      "function cost: 153\n",
      "child voicing cost: 92\n",
      "Best yet: 245\n",
      "New solution\n",
      "function cost: 153\n",
      "child voicing cost: 89\n",
      "Best yet: 242\n",
      "New solution\n",
      "function cost: 153\n",
      "child voicing cost: 88\n",
      "Best yet: 241\n",
      "New solution\n",
      "function cost: 159\n",
      "child voicing cost: 78\n",
      "Best yet: 237\n",
      "New solution\n",
      "function cost: 159\n",
      "child voicing cost: 77\n",
      "Best yet: 236\n",
      "New solution\n",
      "function cost: 159\n",
      "child voicing cost: 76\n",
      "Best yet: 235\n",
      "New solution\n",
      "function cost: 159\n",
      "child voicing cost: 74\n",
      "Best yet: 233\n",
      "New solution\n",
      "function cost: 150\n",
      "child voicing cost: 82\n",
      "Best yet: 232\n",
      "New solution\n",
      "function cost: 156\n",
      "child voicing cost: 74\n",
      "Best yet: 230\n",
      "New solution\n",
      "function cost: 156\n",
      "child voicing cost: 71\n",
      "Best yet: 227\n",
      "New solution\n",
      "function cost: 117\n",
      "child voicing cost: 89\n",
      "Best yet: 206\n",
      "New solution\n",
      "function cost: 117\n",
      "child voicing cost: 85\n",
      "Best yet: 202\n",
      "New solution\n",
      "function cost: 123\n",
      "child voicing cost: 78\n",
      "Best yet: 201\n",
      "New solution\n",
      "function cost: 117\n",
      "child voicing cost: 82\n",
      "Best yet: 199\n",
      "New solution\n",
      "function cost: 117\n",
      "child voicing cost: 80\n",
      "Best yet: 197\n",
      "##: Done. Total checked: 191045, Pruned: 239815, completed: 18, time: 4.138999938964844, efficiency: 4.348876604357179\n",
      "Results: bestval_func: 117, bestval_voices: 80\n",
      "[2 0 0 0 1 0 0 1 0 0 0 0; 1 0 1 0 0 0 1 0 0 1 0 0; 0 0 1 0 0 0 0 2 0 0 0 1; 2 0 0 0 0 1 0 0 1 0 0 0; 1 0 0 0 1 0 0 2 0 0 0 0; 0 0 1 0 0 0 0 2 0 0 0 1; 1 0 0 0 1 1 0 1 0 0 0 0; 0 0 2 0 0 0 0 1 0 0 0 1; 1 0 1 0 1 0 0 1 0 0 0 0; 1 0 1 0 1 0 0 1 0 0 0 0; 0 0 0 0 1 1 0 2 0 0 0 0; 2 0 0 0 1 0 0 1 0 0 0 0; 1 0 0 0 1 0 0 2 0 0 0 0; 1 0 1 0 0 1 0 1 0 0 0 0; 1 0 0 0 1 1 0 1 0 0 0 0; 1 0 1 0 0 1 0 1 0 0 0 0; 1 0 1 0 1 0 0 1 0 0 0 0; 0 0 1 0 0 0 0 2 0 0 0 1; 2 0 0 0 0 0 0 2 0 0 0 0; 2 0 0 0 1 0 0 1 0 0 0 0; 1 1 1 0 1 0 0 0 0 0 0 0; 1 0 1 0 1 0 0 0 0 1 0 0; 1 0 2 0 0 0 0 1 0 0 0 0; 1 0 1 0 0 0 0 1 0 0 0 1; 1 0 0 0 0 0 1 0 0 2 0 0; 0 0 1 0 0 0 0 1 0 2 0 0; 0 0 1 0 0 0 0 2 0 0 0 1; 1 0 2 0 0 0 0 1 0 0 0 0; 1 0 0 0 0 1 0 1 0 0 1 0; 2 0 0 0 1 1 0 0 0 0 0 0; 2 0 0 0 1 0 0 0 0 1 0 0; 1 0 0 0 1 1 0 0 0 1 0 0; 1 0 0 0 0 0 0 2 0 0 1 0]\n",
      "Key Counter is [33 1 20 0 16 9 2 34 1 8 2 6]\n",
      "Key Score is [126; 48; 87; 99; 34; 122; 21; 119; 80; 54; 106; 28]\n",
      "Position Counter for 1 is [33 1 20 0 16 9 2 34 1 8 2 6]\n",
      "Any[[1.0, 93.0, 1.0]]\n",
      "[1, 93, 1]\n",
      "1 C Major\n",
      "Rhythm map: [\"W\", \"S\", \"W\", \"S\", \"W\", \"S\", \"W\", \"S\", \"W\", \"S\", \"W\", \"S\", \"W\", \"A\", \"A\", \"A\", \"A\"] size: (17,)\n",
      "Amount of timesteps to optimise: 17\n",
      "Building lookup-table list...\n",
      "Lookup-table built.\n",
      "Initial function score upper bound: 499, voicing score upper bound: 499\n",
      "Starting search...\n",
      "New solution\n",
      "function cost: 192\n",
      "child voicing cost: 78\n",
      "Best yet: 270\n",
      "New solution\n",
      "function cost: 183\n",
      "child voicing cost: 72\n",
      "Best yet: 255\n",
      "New solution\n",
      "function cost: 183\n",
      "child voicing cost: 69\n",
      "Best yet: 252\n",
      "New solution\n",
      "function cost: 177\n",
      "child voicing cost: 69\n",
      "Best yet: 246\n",
      "New solution\n",
      "function cost: 174\n",
      "child voicing cost: 70\n",
      "Best yet: 244\n",
      "New solution\n",
      "function cost: 153\n",
      "child voicing cost: 83\n",
      "Best yet: 236\n",
      "New solution\n",
      "function cost: 159\n",
      "child voicing cost: 75\n",
      "Best yet: 234\n",
      "New solution\n",
      "function cost: 153\n",
      "child voicing cost: 80\n",
      "Best yet: 233\n",
      "New solution\n",
      "function cost: 153\n",
      "child voicing cost: 76\n",
      "Best yet: 229\n",
      "New solution\n",
      "function cost: 150\n",
      "child voicing cost: 78\n",
      "Best yet: 228\n",
      "New solution\n",
      "function cost: 150\n",
      "child voicing cost: 77\n",
      "Best yet: 227\n",
      "New solution\n",
      "function cost: 150\n",
      "child voicing cost: 76\n",
      "Best yet: 226\n",
      "New solution\n",
      "function cost: 162\n",
      "child voicing cost: 62\n",
      "Best yet: 224\n",
      "New solution\n",
      "function cost: 159\n",
      "child voicing cost: 64\n",
      "Best yet: 223\n",
      "New solution\n",
      "function cost: 159\n",
      "child voicing cost: 63\n",
      "Best yet: 222\n",
      "New solution\n",
      "function cost: 159\n",
      "child voicing cost: 62\n",
      "Best yet: 221\n",
      "New solution\n",
      "function cost: 141\n",
      "child voicing cost: 76\n",
      "Best yet: 217\n",
      "New solution\n",
      "function cost: 138\n",
      "child voicing cost: 78\n",
      "Best yet: 216\n",
      "New solution\n",
      "function cost: 138\n",
      "child voicing cost: 77\n",
      "Best yet: 215\n",
      "New solution\n",
      "function cost: 138\n",
      "child voicing cost: 76\n",
      "Best yet: 214\n",
      "New solution\n",
      "function cost: 126\n",
      "child voicing cost: 87\n",
      "Best yet: 213\n",
      "New solution\n",
      "function cost: 126\n",
      "child voicing cost: 86\n",
      "Best yet: 212"
     ]
    },
    {
     "data": {
      "text/plain": [
       "(0, \"T\", Tuple{Int16,Int16}[(48, 1), (64, 3), (67, 5), (72, 1)])"
      ]
     },
     "metadata": {},
     "output_type": "display_data"
    },
    {
     "data": {
      "text/plain": [
       "(9, \"D54\", Tuple{Int16,Int16}[(55, 1), (62, 5), (67, 1), (72, 4)])"
      ]
     },
     "metadata": {},
     "output_type": "display_data"
    },
    {
     "data": {
      "text/plain": [
       "(0, \"D\", Tuple{Int16,Int16}[(55, 1), (62, 5), (67, 1), (71, 3)])"
      ]
     },
     "metadata": {},
     "output_type": "display_data"
    },
    {
     "data": {
      "text/plain": [
       "(3, \"S/3\", Tuple{Int16,Int16}[(57, 3), (60, 5), (65, 1), (77, 1)])"
      ]
     },
     "metadata": {},
     "output_type": "display_data"
    },
    {
     "data": {
      "text/plain": [
       "(0, \"D64\", Tuple{Int16,Int16}[(55, 1), (60, 4), (67, 1), (76, 6)])"
      ]
     },
     "metadata": {},
     "output_type": "display_data"
    },
    {
     "data": {
      "text/plain": [
       "(0, \"D\", Tuple{Int16,Int16}[(55, 1), (59, 3), (67, 1), (74, 5)])"
      ]
     },
     "metadata": {},
     "output_type": "display_data"
    },
    {
     "data": {
      "text/plain": [
       "(15, \"T\", Tuple{Int16,Int16}[(48, 1), (60, 1), (67, 5), (76, 3)])"
      ]
     },
     "metadata": {},
     "output_type": "display_data"
    },
    {
     "data": {
      "text/plain": [
       "(15, \"T\", Tuple{Int16,Int16}[(48, 1), (64, 3), (67, 5), (72, 1)])"
      ]
     },
     "metadata": {},
     "output_type": "display_data"
    },
    {
     "data": {
      "text/plain": [
       "(6, \"D7/3\", Tuple{Int16,Int16}[(47, 3), (55, 1), (65, 7), (74, 5)])"
      ]
     },
     "metadata": {},
     "output_type": "display_data"
    },
    {
     "data": {
      "text/plain": [
       "(6, \"T\", Tuple{Int16,Int16}[(48, 1), (55, 5), (64, 3), (72, 1)])"
      ]
     },
     "metadata": {},
     "output_type": "display_data"
    },
    {
     "data": {
      "text/plain": [
       "(18, \"D7/7\", Tuple{Int16,Int16}[(41, 7), (55, 1), (62, 5), (71, 3)])"
      ]
     },
     "metadata": {},
     "output_type": "display_data"
    },
    {
     "data": {
      "text/plain": [
       "(0, \"T/3\", Tuple{Int16,Int16}[(40, 3), (55, 5), (60, 1), (72, 1)])"
      ]
     },
     "metadata": {},
     "output_type": "display_data"
    },
    {
     "data": {
      "text/plain": [
       "(9, \"D\", Tuple{Int16,Int16}[(43, 1), (50, 5), (59, 3), (67, 1)])"
      ]
     },
     "metadata": {},
     "output_type": "display_data"
    },
    {
     "data": {
      "text/plain": [
       "(3, \"D7\", Tuple{Int16,Int16}[(43, 1), (50, 5), (59, 3), (65, 7)])"
      ]
     },
     "metadata": {},
     "output_type": "display_data"
    },
    {
     "data": {
      "text/plain": [
       "(18, \"Ts\", Tuple{Int16,Int16}[(45, 1), (48, 3), (60, 3), (64, 5)])"
      ]
     },
     "metadata": {},
     "output_type": "display_data"
    },
    {
     "data": {
      "text/plain": [
       "(15, \"Ts\", Tuple{Int16,Int16}[(45, 1), (48, 3), (57, 1), (64, 5)])"
      ]
     },
     "metadata": {},
     "output_type": "display_data"
    },
    {
     "data": {
      "text/plain": [
       "(6, \"T/3\", Tuple{Int16,Int16}[(52, 3), (55, 5), (55, 5), (60, 1)])"
      ]
     },
     "metadata": {},
     "output_type": "display_data"
    },
    {
     "data": {
      "text/plain": [
       "(0, \"D/5\", Tuple{Int16,Int16}[(50, 5), (55, 1), (59, 3), (62, 5)])"
      ]
     },
     "metadata": {},
     "output_type": "display_data"
    },
    {
     "data": {
      "text/plain": [
       "(0, \"T/3\", Tuple{Int16,Int16}[(52, 3), (55, 5), (60, 1), (67, 5)])"
      ]
     },
     "metadata": {},
     "output_type": "display_data"
    },
    {
     "data": {
      "text/plain": [
       "(0, \"T\", Tuple{Int16,Int16}[(48, 1), (52, 3), (60, 1), (67, 5)])"
      ]
     },
     "metadata": {},
     "output_type": "display_data"
    },
    {
     "data": {
      "text/plain": [
       "(9, \"D7-1\", Tuple{Int16,Int16}[(50, 5), (53, 7), (59, 3), (65, 7)])"
      ]
     },
     "metadata": {},
     "output_type": "display_data"
    },
    {
     "data": {
      "text/plain": [
       "(6, \"Ts\", Tuple{Int16,Int16}[(45, 1), (52, 5), (60, 3), (72, 3)])"
      ]
     },
     "metadata": {},
     "output_type": "display_data"
    },
    {
     "data": {
      "text/plain": [
       "(3, \"D/3\", Tuple{Int16,Int16}[(47, 3), (50, 5), (62, 5), (67, 1)])"
      ]
     },
     "metadata": {},
     "output_type": "display_data"
    },
    {
     "data": {
      "text/plain": [
       "(9, \"T\", Tuple{Int16,Int16}[(48, 1), (52, 3), (60, 1), (67, 5)])"
      ]
     },
     "metadata": {},
     "output_type": "display_data"
    },
    {
     "data": {
      "text/plain": [
       "(15, \"S\", Tuple{Int16,Int16}[(41, 1), (57, 3), (60, 5), (65, 1)])"
      ]
     },
     "metadata": {},
     "output_type": "display_data"
    },
    {
     "data": {
      "text/plain": [
       "(12, \"D\", Tuple{Int16,Int16}[(43, 1), (55, 1), (59, 3), (62, 5)])"
      ]
     },
     "metadata": {},
     "output_type": "display_data"
    },
    {
     "data": {
      "text/plain": [
       "(6, \"D7/7\", Tuple{Int16,Int16}[(41, 7), (55, 1), (59, 3), (62, 5)])"
      ]
     },
     "metadata": {},
     "output_type": "display_data"
    },
    {
     "data": {
      "text/plain": [
       "(12, \"T/3\", Tuple{Int16,Int16}[(40, 3), (55, 5), (60, 1), (67, 5)])"
      ]
     },
     "metadata": {},
     "output_type": "display_data"
    },
    {
     "data": {
      "text/plain": [
       "(9, \"S\", Tuple{Int16,Int16}[(41, 1), (53, 1), (60, 5), (69, 3)])"
      ]
     },
     "metadata": {},
     "output_type": "display_data"
    },
    {
     "data": {
      "text/plain": [
       "(18, \"D7\", Tuple{Int16,Int16}[(43, 1), (53, 7), (59, 3), (62, 5)])"
      ]
     },
     "metadata": {},
     "output_type": "display_data"
    },
    {
     "data": {
      "text/plain": [
       "(6, \"T\", Tuple{Int16,Int16}[(48, 1), (52, 3), (55, 5), (60, 1)])"
      ]
     },
     "metadata": {},
     "output_type": "display_data"
    },
    {
     "data": {
      "text/plain": [
       "(6, \"T\", Tuple{Int16,Int16}[(48, 1), (52, 3), (55, 5), (60, 1)])"
      ]
     },
     "metadata": {},
     "output_type": "display_data"
    },
    {
     "name": "stdout",
     "output_type": "stream",
     "text": [
      "\n",
      "##: Done. Total checked: 143017, Pruned: 154473, completed: 22, time: 2.825000047683716, efficiency: 7.787610488020459\n",
      "Results: bestval_func: 126, bestval_voices: 86\n",
      "#Key: 1Scale: Major\n",
      "#Total time for optimisation of piece: 8.682999849319458\n",
      "#Total cost of piece: 409\n",
      "[\"T\", \"D54\", \"D\", \"S/3\", \"D64\", \"D\", \"T\", \"T\", \"D7/3\", \"T\", \"D7/7\", \"T/3\", \"D\", \"D7\", \"Ts\", \"Ts\", \"T/3\", \"D/5\", \"T/3\", \"T\", \"D7-1\", \"Ts\", \"D/3\", \"T\", \"S\", \"D\", \"D7/7\", \"T/3\", \"S\", \"D7\", \"T\", \"T\"]\n",
      "../../results/optimizer/pianoroll/CO-33-thee-opt.csv\n",
      " End of file \n",
      " \n",
      "Optimising: ../../results/neuralnet/pianoroll/CO-35-rejoi-nn.csv\n",
      "[0 1 0 0 0 0 2 0 0 1 0 0; 0 1 0 0 0 1 0 0 1 0 0 0; 0 0 1 0 0 0 1 0 0 1 0 0; 0 0 1 0 0 0 1 0 1 0 0 1; 0 1 0 0 0 0 1 0 0 1 0 1; 0 0 0 0 2 0 0 0 1 0 0 1; 0 0 0 0 1 0 0 0 2 0 0 1; 0 0 0 1 1 0 1 0 0 0 0 1; 0 0 0 0 1 0 1 0 0 2 0 0; 0 0 0 0 1 0 1 0 0 1 0 1; 0 0 0 1 2 0 0 0 0 0 0 1; 0 0 0 0 3 0 0 0 0 0 0 1; 0 0 0 0 3 0 0 0 0 0 0 1; 0 1 0 0 2 0 0 0 0 1 0 0; 0 0 0 0 2 0 0 0 0 1 0 1; 0 1 0 0 1 0 1 0 0 1 0 0; 0 1 0 0 0 0 1 0 0 1 0 1; 0 0 0 0 1 0 0 0 0 3 0 0; 0 0 0 0 0 0 2 0 1 1 0 0; 0 0 0 0 2 0 0 0 1 0 0 1; 0 1 0 0 1 0 0 0 1 0 0 1; 0 1 0 0 1 0 1 0 0 1 0 0; 0 1 0 0 2 0 1 0 0 0 0 0; 0 0 0 1 0 0 2 0 0 1 0 0; 0 0 0 2 0 0 1 0 0 1 0 0; 0 0 0 1 1 0 0 0 2 0 0 0; 1 0 0 1 1 0 0 0 1 0 0 0; 0 0 0 1 2 0 0 0 1 0 0 0; 0 0 0 0 2 0 0 0 1 0 0 1; 0 0 0 0 2 0 0 0 1 0 0 1; 0 0 0 0 1 0 0 0 1 1 0 1; 0 0 0 0 2 0 0 0 1 1 0 0; 0 0 1 0 1 0 1 0 0 1 0 0]\n",
      "Key Counter is [1 9 3 8 38 1 18 0 16 20 0 16]\n",
      "Key Score is [79; 53; 104; 29; 125; 63; 68; 96; 35; 120; 33; 105]\n",
      "Position Counter for 5 is [38 1 18 0 16 20 0 16 1 9 3 8]\n",
      "Any[[5.0, 92.75, 1.0]]\n",
      "[5, 93, 1]\n",
      "5 E Major\n",
      "Rhythm map: [\"S\", \"W\", \"S\", \"W\", \"S\", \"C\", \"C\", \"C\", \"S\", \"W\", \"S\", \"W\", \"S\", \"C\", \"C\", \"C\"] size: (16,)\n",
      "Amount of timesteps to optimise: 16\n",
      "Building lookup-table list...\n",
      "Lookup-table built.\n",
      "Initial function score upper bound: 499, voicing score upper bound: 499\n",
      "Starting search...\n",
      "New solution\n",
      "function cost: 150\n",
      "child voicing cost: 107\n",
      "Best yet: 257\n",
      "New solution\n",
      "function cost: 132\n",
      "child voicing cost: 122\n",
      "Best yet: 254\n",
      "New solution\n",
      "function cost: 147\n",
      "child voicing cost: 94\n",
      "Best yet: 241\n",
      "New solution\n",
      "function cost: 156\n",
      "child voicing cost: 75\n",
      "Best yet: 231\n",
      "New solution\n",
      "function cost: 156\n",
      "child voicing cost: 73\n",
      "Best yet: 229\n",
      "New solution\n",
      "function cost: 156\n",
      "child voicing cost: 70\n",
      "Best yet: 226\n",
      "New solution\n",
      "function cost: 156\n",
      "child voicing cost: 68\n",
      "Best yet: 224\n",
      "##: Done. Total checked: 52142, Pruned: 61963, completed: 7, time: 1.313999891281128, efficiency: 5.32724549404271\n",
      "Results: bestval_func: 156, bestval_voices: 68\n",
      "[0 1 0 0 0 0 2 0 0 1 0 0; 0 1 0 0 0 1 0 0 1 0 0 0; 0 0 1 0 0 0 1 0 0 1 0 0; 0 0 1 0 0 0 1 0 1 0 0 1; 0 1 0 0 0 0 1 0 0 1 0 1; 0 0 0 0 2 0 0 0 1 0 0 1; 0 0 0 0 1 0 0 0 2 0 0 1; 0 0 0 1 1 0 1 0 0 0 0 1; 0 0 0 0 1 0 1 0 0 2 0 0; 0 0 0 0 1 0 1 0 0 1 0 1; 0 0 0 1 2 0 0 0 0 0 0 1; 0 0 0 0 3 0 0 0 0 0 0 1; 0 0 0 0 3 0 0 0 0 0 0 1; 0 1 0 0 2 0 0 0 0 1 0 0; 0 0 0 0 2 0 0 0 0 1 0 1; 0 1 0 0 1 0 1 0 0 1 0 0; 0 1 0 0 0 0 1 0 0 1 0 1; 0 0 0 0 1 0 0 0 0 3 0 0; 0 0 0 0 0 0 2 0 1 1 0 0; 0 0 0 0 2 0 0 0 1 0 0 1; 0 1 0 0 1 0 0 0 1 0 0 1; 0 1 0 0 1 0 1 0 0 1 0 0; 0 1 0 0 2 0 1 0 0 0 0 0; 0 0 0 1 0 0 2 0 0 1 0 0; 0 0 0 2 0 0 1 0 0 1 0 0; 0 0 0 1 1 0 0 0 2 0 0 0; 1 0 0 1 1 0 0 0 1 0 0 0; 0 0 0 1 2 0 0 0 1 0 0 0; 0 0 0 0 2 0 0 0 1 0 0 1; 0 0 0 0 2 0 0 0 1 0 0 1; 0 0 0 0 1 0 0 0 1 1 0 1; 0 0 0 0 2 0 0 0 1 1 0 0; 0 0 1 0 1 0 1 0 0 1 0 0]\n",
      "Key Counter is [1 9 3 8 38 1 18 0 16 20 0 16]\n",
      "Key Score is [79; 53; 104; 29; 125; 63; 68; 96; 35; 120; 33; 105]\n",
      "Position Counter for 5 is [38 1 18 0 16 20 0 16 1 9 3 8]\n",
      "Any[[5.0, 92.75, 1.0]]\n",
      "[5, 93, 1]\n",
      "5 E Major\n",
      "Rhythm map: [\"W\", \"S\", \"W\", \"S\", \"W\", \"S\", \"W\", \"S\", \"W\", \"S\", \"W\", \"S\", \"W\", \"A\", \"A\", \"A\", \"A\"] size: (17,)\n",
      "Amount of timesteps to optimise: 17\n",
      "Building lookup-table list...\n",
      "Lookup-table built.\n",
      "Initial function score upper bound: 499, voicing score upper bound: 499\n",
      "Starting search...\n",
      "New solution\n",
      "function cost: 192\n",
      "child voicing cost: 84\n",
      "Best yet: 276\n",
      "New solution\n",
      "function cost: 192\n",
      "child voicing cost: 82\n",
      "Best yet: 274\n",
      "New solution\n",
      "function cost: 192\n",
      "child voicing cost: 76\n",
      "Best yet: 268\n",
      "New solution\n",
      "function cost: 192\n",
      "child voicing cost: 71\n",
      "Best yet: 263\n",
      "New solution\n",
      "function cost: 195\n",
      "child voicing cost: 66\n",
      "Best yet: 261\n",
      "New solution\n",
      "function cost: 180\n",
      "child voicing cost: 80\n",
      "Best yet: 260\n",
      "New solution\n",
      "function cost: 180\n",
      "child voicing cost: 79\n",
      "Best yet: 259\n",
      "New solution\n",
      "function cost: 189\n",
      "child voicing cost: 67\n",
      "Best yet: 256\n",
      "New solution\n",
      "function cost: 162\n",
      "child voicing cost: 85\n",
      "Best yet: 247\n",
      "New solution\n",
      "function cost: 168\n",
      "child voicing cost: 77\n",
      "Best yet: 245\n",
      "New solution\n",
      "function cost: 159\n",
      "child voicing cost: 85\n",
      "Best yet: 244\n",
      "New solution\n",
      "function cost: 159\n",
      "child voicing cost: 82\n",
      "Best yet: 241\n",
      "New solution\n",
      "function cost: 159\n",
      "child voicing cost: 81\n",
      "Best yet: 240\n",
      "New solution\n",
      "function cost: 156\n",
      "child voicing cost: 83\n",
      "Best yet: 239"
     ]
    },
    {
     "data": {
      "text/plain": [
       "(21, \"T\", Tuple{Int16,Int16}[(52, 1), (59, 5), (68, 3), (76, 1)])"
      ]
     },
     "metadata": {},
     "output_type": "display_data"
    },
    {
     "data": {
      "text/plain": [
       "(3, \"Ts\", Tuple{Int16,Int16}[(49, 1), (61, 1), (68, 5), (76, 3)])"
      ]
     },
     "metadata": {},
     "output_type": "display_data"
    },
    {
     "data": {
      "text/plain": [
       "(3, \"D7\", Tuple{Int16,Int16}[(47, 1), (63, 3), (69, 7), (78, 5)])"
      ]
     },
     "metadata": {},
     "output_type": "display_data"
    },
    {
     "data": {
      "text/plain": [
       "(15, \"Ts\", Tuple{Int16,Int16}[(49, 1), (64, 3), (68, 5), (73, 1)])"
      ]
     },
     "metadata": {},
     "output_type": "display_data"
    },
    {
     "data": {
      "text/plain": [
       "(6, \"D7/3\", Tuple{Int16,Int16}[(51, 3), (66, 5), (69, 7), (71, 1)])"
      ]
     },
     "metadata": {},
     "output_type": "display_data"
    },
    {
     "data": {
      "text/plain": [
       "(0, \"T\", Tuple{Int16,Int16}[(52, 1), (64, 1), (68, 3), (71, 5)])"
      ]
     },
     "metadata": {},
     "output_type": "display_data"
    },
    {
     "data": {
      "text/plain": [
       "(18, \"D\", Tuple{Int16,Int16}[(47, 1), (63, 3), (71, 1), (78, 5)])"
      ]
     },
     "metadata": {},
     "output_type": "display_data"
    },
    {
     "data": {
      "text/plain": [
       "(15, \"D\", Tuple{Int16,Int16}[(47, 1), (66, 5), (71, 1), (75, 3)])"
      ]
     },
     "metadata": {},
     "output_type": "display_data"
    },
    {
     "data": {
      "text/plain": [
       "(18, \"S/3\", Tuple{Int16,Int16}[(49, 3), (64, 5), (69, 1), (76, 5)])"
      ]
     },
     "metadata": {},
     "output_type": "display_data"
    },
    {
     "data": {
      "text/plain": [
       "(3, \"D7/3\", Tuple{Int16,Int16}[(51, 3), (66, 5), (69, 7), (71, 1)])"
      ]
     },
     "metadata": {},
     "output_type": "display_data"
    },
    {
     "data": {
      "text/plain": [
       "(15, \"T\", Tuple{Int16,Int16}[(52, 1), (64, 1), (68, 3), (71, 5)])"
      ]
     },
     "metadata": {},
     "output_type": "display_data"
    },
    {
     "data": {
      "text/plain": [
       "(15, \"D/3\", Tuple{Int16,Int16}[(51, 3), (59, 1), (66, 5), (78, 5)])"
      ]
     },
     "metadata": {},
     "output_type": "display_data"
    },
    {
     "data": {
      "text/plain": [
       "(12, \"T\", Tuple{Int16,Int16}[(52, 1), (59, 5), (68, 3), (76, 1)])"
      ]
     },
     "metadata": {},
     "output_type": "display_data"
    },
    {
     "data": {
      "text/plain": [
       "(15, \"D7/5\", Tuple{Int16,Int16}[(54, 5), (59, 1), (69, 7), (75, 3)])"
      ]
     },
     "metadata": {},
     "output_type": "display_data"
    },
    {
     "data": {
      "text/plain": [
       "(3, \"T\", Tuple{Int16,Int16}[(52, 1), (59, 5), (68, 3), (76, 1)])"
      ]
     },
     "metadata": {},
     "output_type": "display_data"
    },
    {
     "data": {
      "text/plain": [
       "(15, \"T\", Tuple{Int16,Int16}[(52, 1), (64, 1), (68, 3), (71, 5)])"
      ]
     },
     "metadata": {},
     "output_type": "display_data"
    },
    {
     "data": {
      "text/plain": [
       "(6, \"D7/3\", Tuple{Int16,Int16}[(51, 3), (66, 5), (69, 7), (71, 1)])"
      ]
     },
     "metadata": {},
     "output_type": "display_data"
    },
    {
     "data": {
      "text/plain": [
       "(27, \"Ts\", Tuple{Int16,Int16}[(49, 1), (56, 5), (64, 3), (73, 1)])"
      ]
     },
     "metadata": {},
     "output_type": "display_data"
    },
    {
     "data": {
      "text/plain": [
       "(12, \"D7-1\", Tuple{Int16,Int16}[(42, 5), (57, 7), (66, 5), (75, 3)])"
      ]
     },
     "metadata": {},
     "output_type": "display_data"
    },
    {
     "data": {
      "text/plain": [
       "(0, \"T\", Tuple{Int16,Int16}[(40, 1), (59, 5), (68, 3), (76, 1)])"
      ]
     },
     "metadata": {},
     "output_type": "display_data"
    },
    {
     "data": {
      "text/plain": [
       "(6, \"T/3\", Tuple{Int16,Int16}[(44, 3), (59, 5), (64, 1), (76, 1)])"
      ]
     },
     "metadata": {},
     "output_type": "display_data"
    },
    {
     "data": {
      "text/plain": [
       "(9, \"S\", Tuple{Int16,Int16}[(45, 1), (57, 1), (64, 5), (73, 3)])"
      ]
     },
     "metadata": {},
     "output_type": "display_data"
    },
    {
     "data": {
      "text/plain": [
       "(12, \"T\", Tuple{Int16,Int16}[(52, 1), (56, 3), (64, 1), (71, 5)])"
      ]
     },
     "metadata": {},
     "output_type": "display_data"
    },
    {
     "data": {
      "text/plain": [
       "(0, \"D7-1\", Tuple{Int16,Int16}[(54, 5), (57, 7), (63, 3), (69, 7)])"
      ]
     },
     "metadata": {},
     "output_type": "display_data"
    },
    {
     "data": {
      "text/plain": [
       "(12, \"D7/7\", Tuple{Int16,Int16}[(57, 7), (59, 1), (63, 3), (66, 5)])"
      ]
     },
     "metadata": {},
     "output_type": "display_data"
    },
    {
     "data": {
      "text/plain": [
       "(12, \"T/3\", Tuple{Int16,Int16}[(56, 3), (59, 5), (64, 1), (71, 5)])"
      ]
     },
     "metadata": {},
     "output_type": "display_data"
    },
    {
     "data": {
      "text/plain": [
       "(6, \"T\", Tuple{Int16,Int16}[(52, 1), (64, 1), (68, 3), (71, 5)])"
      ]
     },
     "metadata": {},
     "output_type": "display_data"
    },
    {
     "data": {
      "text/plain": [
       "(3, \"T-5\", Tuple{Int16,Int16}[(52, 1), (64, 1), (68, 3), (76, 1)])"
      ]
     },
     "metadata": {},
     "output_type": "display_data"
    },
    {
     "data": {
      "text/plain": [
       "(18, \"D7-1\", Tuple{Int16,Int16}[(54, 5), (63, 3), (66, 5), (69, 7)])"
      ]
     },
     "metadata": {},
     "output_type": "display_data"
    },
    {
     "data": {
      "text/plain": [
       "(12, \"D7\", Tuple{Int16,Int16}[(59, 1), (63, 3), (66, 5), (69, 7)])"
      ]
     },
     "metadata": {},
     "output_type": "display_data"
    },
    {
     "data": {
      "text/plain": [
       "(15, \"T\", Tuple{Int16,Int16}[(52, 1), (59, 5), (64, 1), (68, 3)])"
      ]
     },
     "metadata": {},
     "output_type": "display_data"
    },
    {
     "data": {
      "text/plain": [
       "(15, \"T\", Tuple{Int16,Int16}[(52, 1), (59, 5), (64, 1), (68, 3)])"
      ]
     },
     "metadata": {},
     "output_type": "display_data"
    },
    {
     "name": "stdout",
     "output_type": "stream",
     "text": [
      "\n",
      "##: Done. Total checked: 143451, Pruned: 157212, completed: 14, time: 2.7760000228881836, efficiency: 5.043227624124524\n",
      "Results: bestval_func: 156, bestval_voices: 83\n",
      "#Key: 5Scale: Major\n",
      "#Total time for optimisation of piece: 5.61899995803833\n",
      "#Total cost of piece: 463\n",
      "[\"T\", \"Ts\", \"D7\", \"Ts\", \"D7/3\", \"T\", \"D\", \"D\", \"S/3\", \"D7/3\", \"T\", \"D/3\", \"T\", \"D7/5\", \"T\", \"T\", \"D7/3\", \"Ts\", \"D7-1\", \"T\", \"T/3\", \"S\", \"T\", \"D7-1\", \"D7/7\", \"T/3\", \"T\", \"T-5\", \"D7-1\", \"D7\", \"T\", \"T\"]\n",
      "../../results/optimizer/pianoroll/CO-35-rejoi-opt.csv\n",
      " End of file \n",
      " \n",
      "Optimising: ../../results/neuralnet/pianoroll/CO-46-alldk-nn.csv\n",
      "[0 1 0 0 1 0 0 0 0 1 0 0; 0 0 1 0 1 0 0 0 1 0 0 1; 0 0 0 0 1 0 0 0 1 0 0 2; 0 1 0 0 1 0 0 0 0 1 0 0; 0 0 0 1 0 0 0 1 0 0 0 2; 0 0 0 0 1 0 0 0 0 3 0 0; 0 1 0 0 1 0 0 0 0 2 0 0; 0 1 0 0 1 0 0 0 1 0 0 1; 0 0 1 0 1 0 0 0 0 1 0 1; 0 1 0 0 2 0 0 0 1 0 0 0; 0 0 0 0 1 0 2 0 1 0 0 0; 0 0 0 0 1 0 0 0 1 0 0 2; 0 1 0 0 1 0 0 0 0 2 0 0; 0 0 0 0 1 0 0 0 1 1 0 1; 0 1 0 0 1 0 0 0 2 0 0 0; 0 1 0 0 1 0 0 0 2 0 0 0; 0 0 0 0 1 0 1 0 1 0 0 1; 0 0 0 0 1 0 1 0 1 1 0 0; 0 0 0 0 0 0 2 0 0 1 0 1; 0 0 0 0 0 0 2 0 0 1 0 1; 0 2 0 0 1 0 1 0 0 0 0 0; 0 1 0 0 1 0 0 0 0 1 0 1; 0 0 0 0 1 0 0 0 1 1 0 1; 0 0 1 0 1 0 0 0 1 0 0 1; 0 0 0 0 1 0 0 0 2 1 0 0; 0 1 0 0 0 0 0 0 1 1 0 1; 0 1 0 0 1 0 1 0 0 1 0 0; 0 1 0 0 1 0 1 0 0 0 0 1; 0 1 0 0 1 0 1 0 0 0 0 1; 0 0 0 1 0 0 1 0 0 1 0 1; 0 0 0 0 1 0 0 0 1 1 0 1; 0 2 0 0 2 0 0 0 0 0 0 0; 0 0 0 0 1 0 1 0 0 2 0 0]\n",
      "Key Counter is [0 17 3 2 30 0 14 1 19 23 0 21]\n",
      "Key Score is [78; 52; 109; 25; 126; 57; 73; 92; 39; 127; 29; 103]\n",
      "Position Counter for 10 is [23 0 21 0 17 3 2 30 0 14 1 19]\n",
      "Any[[10.0, 88.0, 1.0]]\n",
      "[10, 88, 1]\n",
      "10 A Major\n",
      "Rhythm map: [\"S\", \"W\", \"S\", \"W\", \"S\", \"C\", \"C\", \"C\", \"S\", \"W\", \"S\", \"W\", \"S\", \"C\", \"C\", \"C\"] size: (16,)\n",
      "Amount of timesteps to optimise: 16\n",
      "Building lookup-table list...\n",
      "Lookup-table built.\n",
      "Initial function score upper bound: 499, voicing score upper bound: 499\n",
      "Starting search...\n",
      "New solution\n",
      "function cost: 141\n",
      "child voicing cost: 121\n",
      "Best yet: 262\n",
      "New solution\n",
      "function cost: 141\n",
      "child voicing cost: 118\n",
      "Best yet: 259\n",
      "New solution\n",
      "function cost: 141\n",
      "child voicing cost: 116\n",
      "Best yet: 257\n",
      "New solution\n",
      "function cost: 150\n",
      "child voicing cost: 97\n",
      "Best yet: 247\n",
      "New solution\n",
      "function cost: 150\n",
      "child voicing cost: 96\n",
      "Best yet: 246\n",
      "New solution\n",
      "function cost: 150\n",
      "child voicing cost: 94\n",
      "Best yet: 244\n",
      "New solution\n",
      "function cost: 147\n",
      "child voicing cost: 91\n",
      "Best yet: 238\n",
      "New solution\n",
      "function cost: 135\n",
      "child voicing cost: 98\n",
      "Best yet: 233\n",
      "New solution\n",
      "function cost: 135\n",
      "child voicing cost: 97\n",
      "Best yet: 232\n",
      "New solution\n",
      "function cost: 135\n",
      "child voicing cost: 95\n",
      "Best yet: 230\n",
      "New solution\n",
      "function cost: 135\n",
      "child voicing cost: 90\n",
      "Best yet: 225\n",
      "New solution\n",
      "function cost: 129\n",
      "child voicing cost: 92\n",
      "Best yet: 221\n",
      "New solution\n",
      "function cost: 129\n",
      "child voicing cost: 90\n",
      "Best yet: 219\n",
      "New solution\n",
      "function cost: 129\n",
      "child voicing cost: 89\n",
      "Best yet: 218\n",
      "New solution\n",
      "function cost: 123\n",
      "child voicing cost: 91\n",
      "Best yet: 214\n",
      "New solution\n",
      "function cost: 123\n",
      "child voicing cost: 90\n",
      "Best yet: 213\n",
      "New solution\n",
      "function cost: 123\n",
      "child voicing cost: 87\n",
      "Best yet: 210\n",
      "New solution\n",
      "function cost: 123\n",
      "child voicing cost: 86\n",
      "Best yet: 209\n",
      "New solution\n",
      "function cost: 126\n",
      "child voicing cost: 82\n",
      "Best yet: 208\n",
      "New solution\n",
      "function cost: 126\n",
      "child voicing cost: 81\n",
      "Best yet: 207\n",
      "New solution\n",
      "function cost: 123\n",
      "child voicing cost: 83\n",
      "Best yet: 206\n",
      "New solution\n",
      "function cost: 123\n",
      "child voicing cost: 82\n",
      "Best yet: 205\n",
      "New solution\n",
      "function cost: 123\n",
      "child voicing cost: 81\n",
      "Best yet: 204\n",
      "New solution\n",
      "function cost: 123\n",
      "child voicing cost: 80\n",
      "Best yet: 203\n",
      "New solution\n",
      "function cost: 123\n",
      "child voicing cost: 79\n",
      "Best yet: 202\n",
      "New solution\n",
      "function cost: 123\n",
      "child voicing cost: 78\n",
      "Best yet: 201\n",
      "New solution\n",
      "function cost: 123\n",
      "child voicing cost: 75\n",
      "Best yet: 198\n",
      "New solution\n",
      "function cost: 123\n",
      "child voicing cost: 74\n",
      "Best yet: 197\n",
      "New solution\n",
      "function cost: 123\n",
      "child voicing cost: 71\n",
      "Best yet: 194\n",
      "New solution\n",
      "function cost: 123\n",
      "child voicing cost: 68\n",
      "Best yet: 191\n",
      "New solution\n",
      "function cost: 123\n",
      "child voicing cost: 67\n",
      "Best yet: 190\n",
      "##: Done. Total checked: 603850, Pruned: 751336, completed: 31, time: 12.391000032424927, efficiency: 2.5018158275263342\n",
      "Results: bestval_func: 123, bestval_voices: 67\n",
      "[0 1 0 0 1 0 0 0 0 1 0 0; 0 0 1 0 1 0 0 0 1 0 0 1; 0 0 0 0 1 0 0 0 1 0 0 2; 0 1 0 0 1 0 0 0 0 1 0 0; 0 0 0 1 0 0 0 1 0 0 0 2; 0 0 0 0 1 0 0 0 0 3 0 0; 0 1 0 0 1 0 0 0 0 2 0 0; 0 1 0 0 1 0 0 0 1 0 0 1; 0 0 1 0 1 0 0 0 0 1 0 1; 0 1 0 0 2 0 0 0 1 0 0 0; 0 0 0 0 1 0 2 0 1 0 0 0; 0 0 0 0 1 0 0 0 1 0 0 2; 0 1 0 0 1 0 0 0 0 2 0 0; 0 0 0 0 1 0 0 0 1 1 0 1; 0 1 0 0 1 0 0 0 2 0 0 0; 0 1 0 0 1 0 0 0 2 0 0 0; 0 0 0 0 1 0 1 0 1 0 0 1; 0 0 0 0 1 0 1 0 1 1 0 0; 0 0 0 0 0 0 2 0 0 1 0 1; 0 0 0 0 0 0 2 0 0 1 0 1; 0 2 0 0 1 0 1 0 0 0 0 0; 0 1 0 0 1 0 0 0 0 1 0 1; 0 0 0 0 1 0 0 0 1 1 0 1; 0 0 1 0 1 0 0 0 1 0 0 1; 0 0 0 0 1 0 0 0 2 1 0 0; 0 1 0 0 0 0 0 0 1 1 0 1; 0 1 0 0 1 0 1 0 0 1 0 0; 0 1 0 0 1 0 1 0 0 0 0 1; 0 1 0 0 1 0 1 0 0 0 0 1; 0 0 0 1 0 0 1 0 0 1 0 1; 0 0 0 0 1 0 0 0 1 1 0 1; 0 2 0 0 2 0 0 0 0 0 0 0; 0 0 0 0 1 0 1 0 0 2 0 0]\n",
      "Key Counter is [0 17 3 2 30 0 14 1 19 23 0 21]\n",
      "Key Score is [78; 52; 109; 25; 126; 57; 73; 92; 39; 127; 29; 103]\n",
      "Position Counter for 10 is [23 0 21 0 17 3 2 30 0 14 1 19]\n",
      "Any[[10.0, 88.0, 1.0]]\n",
      "[10, 88, 1]\n",
      "10 A Major\n",
      "Rhythm map: [\"W\", \"S\", \"W\", \"S\", \"W\", \"S\", \"W\", \"S\", \"W\", \"S\", \"W\", \"S\", \"W\", \"A\", \"A\", \"A\", \"A\"] size: (17,)\n",
      "Amount of timesteps to optimise: 17\n",
      "Building lookup-table list...\n",
      "Lookup-table built.\n",
      "Initial function score upper bound: 499, voicing score upper bound: 499\n",
      "Starting search...\n",
      "New solution\n",
      "function cost: 174\n",
      "child voicing cost: 73\n",
      "Best yet: 247\n",
      "New solution\n",
      "function cost: 174\n",
      "child voicing cost: 70\n",
      "Best yet: 244\n"
     ]
    },
    {
     "data": {
      "text/plain": [
       "(0, \"T\", Tuple{Int16,Int16}[(57, 1), (57, 1), (64, 5), (73, 3)])"
      ]
     },
     "metadata": {},
     "output_type": "display_data"
    },
    {
     "data": {
      "text/plain": [
       "(6, \"D\", Tuple{Int16,Int16}[(52, 1), (56, 3), (64, 1), (71, 5)])"
      ]
     },
     "metadata": {},
     "output_type": "display_data"
    },
    {
     "data": {
      "text/plain": [
       "(9, \"D7/7\", Tuple{Int16,Int16}[(50, 7), (56, 3), (64, 1), (71, 5)])"
      ]
     },
     "metadata": {},
     "output_type": "display_data"
    },
    {
     "data": {
      "text/plain": [
       "(0, \"T/3\", Tuple{Int16,Int16}[(49, 3), (57, 1), (64, 5), (69, 1)])"
      ]
     },
     "metadata": {},
     "output_type": "display_data"
    },
    {
     "data": {
      "text/plain": [
       "(12, \"S65/6\", Tuple{Int16,Int16}[(47, 6), (57, 5), (66, 3), (74, 1)])"
      ]
     },
     "metadata": {},
     "output_type": "display_data"
    },
    {
     "data": {
      "text/plain": [
       "(24, \"D\", Tuple{Int16,Int16}[(40, 1), (59, 5), (68, 3), (76, 1)])"
      ]
     },
     "metadata": {},
     "output_type": "display_data"
    },
    {
     "data": {
      "text/plain": [
       "(0, \"T\", Tuple{Int16,Int16}[(45, 1), (61, 3), (69, 1), (76, 5)])"
      ]
     },
     "metadata": {},
     "output_type": "display_data"
    },
    {
     "data": {
      "text/plain": [
       "(9, \"T\", Tuple{Int16,Int16}[(45, 1), (61, 3), (64, 5), (69, 1)])"
      ]
     },
     "metadata": {},
     "output_type": "display_data"
    },
    {
     "data": {
      "text/plain": [
       "(9, \"D/3\", Tuple{Int16,Int16}[(44, 3), (59, 5), (64, 1), (71, 5)])"
      ]
     },
     "metadata": {},
     "output_type": "display_data"
    },
    {
     "data": {
      "text/plain": [
       "(6, \"D\", Tuple{Int16,Int16}[(40, 1), (59, 5), (68, 3), (76, 1)])"
      ]
     },
     "metadata": {},
     "output_type": "display_data"
    },
    {
     "data": {
      "text/plain": [
       "(18, \"S/3\", Tuple{Int16,Int16}[(42, 3), (57, 5), (69, 5), (74, 1)])"
      ]
     },
     "metadata": {},
     "output_type": "display_data"
    },
    {
     "data": {
      "text/plain": [
       "(0, \"D/3\", Tuple{Int16,Int16}[(44, 3), (59, 5), (64, 1), (71, 5)])"
      ]
     },
     "metadata": {},
     "output_type": "display_data"
    },
    {
     "data": {
      "text/plain": [
       "(0, \"T\", Tuple{Int16,Int16}[(45, 1), (61, 3), (64, 5), (69, 1)])"
      ]
     },
     "metadata": {},
     "output_type": "display_data"
    },
    {
     "data": {
      "text/plain": [
       "(6, \"D/3\", Tuple{Int16,Int16}[(44, 3), (59, 5), (64, 1), (71, 5)])"
      ]
     },
     "metadata": {},
     "output_type": "display_data"
    },
    {
     "data": {
      "text/plain": [
       "(12, \"Ts\", Tuple{Int16,Int16}[(42, 1), (57, 3), (69, 3), (73, 5)])"
      ]
     },
     "metadata": {},
     "output_type": "display_data"
    },
    {
     "data": {
      "text/plain": [
       "(12, \"Ts\", Tuple{Int16,Int16}[(42, 1), (57, 3), (66, 1), (73, 5)])"
      ]
     },
     "metadata": {},
     "output_type": "display_data"
    },
    {
     "data": {
      "text/plain": [
       "(6, \"D\", Tuple{Int16,Int16}[(40, 1), (59, 5), (68, 3), (76, 1)])"
      ]
     },
     "metadata": {},
     "output_type": "display_data"
    },
    {
     "data": {
      "text/plain": [
       "(9, \"S/3\", Tuple{Int16,Int16}[(42, 3), (57, 5), (69, 5), (74, 1)])"
      ]
     },
     "metadata": {},
     "output_type": "display_data"
    },
    {
     "data": {
      "text/plain": [
       "(6, \"Ts\", Tuple{Int16,Int16}[(42, 1), (57, 3), (69, 3), (73, 5)])"
      ]
     },
     "metadata": {},
     "output_type": "display_data"
    },
    {
     "data": {
      "text/plain": [
       "(6, \"Ts\", Tuple{Int16,Int16}[(54, 1), (57, 3), (69, 3), (73, 5)])"
      ]
     },
     "metadata": {},
     "output_type": "display_data"
    },
    {
     "data": {
      "text/plain": [
       "(18, \"D/3\", Tuple{Int16,Int16}[(56, 3), (59, 5), (64, 1), (71, 5)])"
      ]
     },
     "metadata": {},
     "output_type": "display_data"
    },
    {
     "data": {
      "text/plain": [
       "(6, \"T\", Tuple{Int16,Int16}[(57, 1), (61, 3), (64, 5), (69, 1)])"
      ]
     },
     "metadata": {},
     "output_type": "display_data"
    },
    {
     "data": {
      "text/plain": [
       "(6, \"D/3\", Tuple{Int16,Int16}[(56, 3), (59, 5), (64, 1), (71, 5)])"
      ]
     },
     "metadata": {},
     "output_type": "display_data"
    },
    {
     "data": {
      "text/plain": [
       "(0, \"D7\", Tuple{Int16,Int16}[(52, 1), (59, 5), (62, 7), (68, 3)])"
      ]
     },
     "metadata": {},
     "output_type": "display_data"
    },
    {
     "data": {
      "text/plain": [
       "(15, \"T-5\", Tuple{Int16,Int16}[(45, 1), (57, 1), (61, 3), (69, 1)])"
      ]
     },
     "metadata": {},
     "output_type": "display_data"
    },
    {
     "data": {
      "text/plain": [
       "(18, \"D7/3\", Tuple{Int16,Int16}[(44, 3), (52, 1), (62, 7), (71, 5)])"
      ]
     },
     "metadata": {},
     "output_type": "display_data"
    },
    {
     "data": {
      "text/plain": [
       "(9, \"T\", Tuple{Int16,Int16}[(45, 1), (52, 5), (61, 3), (69, 1)])"
      ]
     },
     "metadata": {},
     "output_type": "display_data"
    },
    {
     "data": {
      "text/plain": [
       "(12, \"T/3\", Tuple{Int16,Int16}[(49, 3), (52, 5), (57, 1), (64, 5)])"
      ]
     },
     "metadata": {},
     "output_type": "display_data"
    },
    {
     "data": {
      "text/plain": [
       "(15, \"S\", Tuple{Int16,Int16}[(50, 1), (54, 3), (57, 5), (62, 1)])"
      ]
     },
     "metadata": {},
     "output_type": "display_data"
    },
    {
     "data": {
      "text/plain": [
       "(12, \"D\", Tuple{Int16,Int16}[(52, 1), (52, 1), (56, 3), (59, 5)])"
      ]
     },
     "metadata": {},
     "output_type": "display_data"
    },
    {
     "data": {
      "text/plain": [
       "(9, \"T\", Tuple{Int16,Int16}[(45, 1), (52, 5), (57, 1), (61, 3)])"
      ]
     },
     "metadata": {},
     "output_type": "display_data"
    },
    {
     "data": {
      "text/plain": [
       "(9, \"T\", Tuple{Int16,Int16}[(45, 1), (52, 5), (57, 1), (61, 3)])"
      ]
     },
     "metadata": {},
     "output_type": "display_data"
    },
    {
     "name": "stdout",
     "output_type": "stream",
     "text": [
      "##: Done. Total checked: 65927, Pruned: 73133, completed: 2, time: 1.38100004196167, efficiency: 1.4482258792396985\n",
      "Results: bestval_func: 174, bestval_voices: 70\n",
      "#Key: 10Scale: Major\n",
      "#Total time for optimisation of piece: 15.085999965667725\n",
      "#Total cost of piece: 434\n",
      "[\"T\", \"D\", \"D7/7\", \"T/3\", \"S65/6\", \"D\", \"T\", \"T\", \"D/3\", \"D\", \"S/3\", \"D/3\", \"T\", \"D/3\", \"Ts\", \"Ts\", \"D\", \"S/3\", \"Ts\", \"Ts\", \"D/3\", \"T\", \"D/3\", \"D7\", \"T-5\", \"D7/3\", \"T\", \"T/3\", \"S\", \"D\", \"T\", \"T\"]\n",
      "../../results/optimizer/pianoroll/CO-46-alldk-opt.csv\n",
      " End of file \n",
      " \n",
      "Optimising: ../../results/neuralnet/pianoroll/CO-53-heart-nn.csv\n",
      "[0 0 0 0 1 0 0 0 1 0 0 2; 0 1 0 0 0 0 1 0 0 2 0 0; 0 0 1 0 1 0 0 0 1 0 0 1; 0 0 0 1 0 0 1 0 0 1 0 1; 0 0 0 0 1 0 1 0 0 0 0 2; 0 0 0 0 2 0 0 0 2 0 0 0; 0 0 1 0 1 0 0 0 1 0 0 1; 0 1 0 0 1 0 0 0 1 0 0 1; 0 1 1 0 0 0 1 0 0 1 0 0; 0 0 0 0 2 0 0 0 0 0 0 2; 0 1 0 0 1 0 0 0 0 2 0 0; 0 0 1 0 1 0 0 0 0 2 0 0; 0 2 0 0 1 0 0 0 1 0 0 0; 0 0 0 0 1 0 1 0 0 1 0 1; 0 0 0 0 1 0 1 0 1 0 0 1; 0 0 0 0 1 0 1 0 1 0 0 1; 0 0 0 0 1 0 0 0 1 0 0 2; 0 2 0 0 0 0 0 0 0 2 0 0; 0 0 0 0 0 0 1 0 0 1 0 2; 0 1 0 0 1 0 0 0 1 1 0 0; 0 0 0 0 1 0 0 0 2 0 0 1; 0 0 0 0 1 0 0 0 2 0 0 1; 0 0 0 0 1 0 1 0 0 1 0 1; 0 1 0 0 1 0 0 0 1 1 0 0; 0 1 0 0 1 0 1 0 0 1 0 0; 0 0 0 0 1 0 0 0 2 1 0 0; 0 0 0 0 1 0 0 0 1 2 0 0; 0 0 0 0 1 0 0 0 1 1 0 1; 0 0 0 0 1 0 1 0 0 1 0 1; 0 1 0 0 2 0 0 0 1 0 0 0; 0 1 0 0 2 0 0 0 0 0 0 1; 0 1 0 0 2 0 0 0 0 1 0 0; 0 1 0 0 1 0 0 0 0 2 0 0]\n",
      "Key Counter is [0 15 4 1 33 0 11 0 21 24 0 23]\n",
      "Key Score is [84; 48; 110; 26; 128; 61; 71; 95; 37; 131; 29; 104]\n",
      "Position Counter for 10 is [24 0 23 0 15 4 1 33 0 11 0 21]\n",
      "Any[[10.0, 94.25, 1.0]]\n",
      "[10, 94, 1]\n",
      "10 A Major\n",
      "Rhythm map: [\"S\", \"W\", \"S\", \"W\", \"S\", \"C\", \"C\", \"C\", \"S\", \"W\", \"S\", \"W\", \"S\", \"C\", \"C\", \"C\"] size: (16,)\n",
      "Amount of timesteps to optimise: 16\n",
      "Building lookup-table list...\n",
      "Lookup-table built.\n",
      "Initial function score upper bound: 499, voicing score upper bound: 499\n",
      "Starting search...\n",
      "New solution\n",
      "function cost: 123\n",
      "child voicing cost: 115\n",
      "Best yet: 238\n",
      "New solution\n",
      "function cost: 123\n",
      "child voicing cost: 112\n",
      "Best yet: 235\n",
      "New solution\n",
      "function cost: 123\n",
      "child voicing cost: 111\n",
      "Best yet: 234\n",
      "New solution\n",
      "function cost: 123\n",
      "child voicing cost: 108\n",
      "Best yet: 231\n",
      "New solution\n",
      "function cost: 123\n",
      "child voicing cost: 107\n",
      "Best yet: 230\n",
      "New solution\n",
      "function cost: 123\n",
      "child voicing cost: 103\n",
      "Best yet: 226\n",
      "New solution\n",
      "function cost: 135\n",
      "child voicing cost: 69\n",
      "Best yet: 204\n",
      "New solution\n",
      "function cost: 135\n",
      "child voicing cost: 61\n",
      "Best yet: 196\n",
      "##: Done. Total checked: 70862, Pruned: 84101, completed: 8, time: 1.5350000858306885, efficiency: 5.211726092947206\n",
      "Results: bestval_func: 135, bestval_voices: 61\n",
      "[0 0 0 0 1 0 0 0 1 0 0 2; 0 1 0 0 0 0 1 0 0 2 0 0; 0 0 1 0 1 0 0 0 1 0 0 1; 0 0 0 1 0 0 1 0 0 1 0 1; 0 0 0 0 1 0 1 0 0 0 0 2; 0 0 0 0 2 0 0 0 2 0 0 0; 0 0 1 0 1 0 0 0 1 0 0 1; 0 1 0 0 1 0 0 0 1 0 0 1; 0 1 1 0 0 0 1 0 0 1 0 0; 0 0 0 0 2 0 0 0 0 0 0 2; 0 1 0 0 1 0 0 0 0 2 0 0; 0 0 1 0 1 0 0 0 0 2 0 0; 0 2 0 0 1 0 0 0 1 0 0 0; 0 0 0 0 1 0 1 0 0 1 0 1; 0 0 0 0 1 0 1 0 1 0 0 1; 0 0 0 0 1 0 1 0 1 0 0 1; 0 0 0 0 1 0 0 0 1 0 0 2; 0 2 0 0 0 0 0 0 0 2 0 0; 0 0 0 0 0 0 1 0 0 1 0 2; 0 1 0 0 1 0 0 0 1 1 0 0; 0 0 0 0 1 0 0 0 2 0 0 1; 0 0 0 0 1 0 0 0 2 0 0 1; 0 0 0 0 1 0 1 0 0 1 0 1; 0 1 0 0 1 0 0 0 1 1 0 0; 0 1 0 0 1 0 1 0 0 1 0 0; 0 0 0 0 1 0 0 0 2 1 0 0; 0 0 0 0 1 0 0 0 1 2 0 0; 0 0 0 0 1 0 0 0 1 1 0 1; 0 0 0 0 1 0 1 0 0 1 0 1; 0 1 0 0 2 0 0 0 1 0 0 0; 0 1 0 0 2 0 0 0 0 0 0 1; 0 1 0 0 2 0 0 0 0 1 0 0; 0 1 0 0 1 0 0 0 0 2 0 0]\n",
      "Key Counter is [0 15 4 1 33 0 11 0 21 24 0 23]\n",
      "Key Score is [84; 48; 110; 26; 128; 61; 71; 95; 37; 131; 29; 104]\n",
      "Position Counter for 10 is [24 0 23 0 15 4 1 33 0 11 0 21]\n",
      "Any[[10.0, 94.25, 1.0]]\n",
      "[10, 94, 1]\n",
      "10 A Major\n",
      "Rhythm map: [\"W\", \"S\", \"W\", \"S\", \"W\", \"S\", \"W\", \"S\", \"W\", \"S\", \"W\", \"S\", \"W\", \"A\", \"A\", \"A\", \"A\"] size: (17,)\n",
      "Amount of timesteps to optimise: 17\n",
      "Building lookup-table list...\n",
      "Lookup-table built.\n",
      "Initial function score upper bound: 499, voicing score upper bound: 499\n",
      "Starting search...\n",
      "New solution\n",
      "function cost: 174\n",
      "child voicing cost: 75\n",
      "Best yet: 249\n",
      "New solution\n",
      "function cost: 174\n",
      "child voicing cost: 72\n",
      "Best yet: 246\n",
      "New solution\n",
      "function cost: 174\n",
      "child voicing cost: 69\n",
      "Best yet: 243\n",
      "New solution\n",
      "function cost: 174\n",
      "child voicing cost: 67\n",
      "Best yet: 241\n",
      "New solution\n",
      "function cost: 168\n",
      "child voicing cost: 72\n",
      "Best yet: 240\n",
      "New solution\n",
      "function cost: 168\n",
      "child voicing cost: 71\n",
      "Best yet: 239\n",
      "New solution\n",
      "function cost: 171\n",
      "child voicing cost: 67\n",
      "Best yet: 238\n",
      "New solution\n",
      "function cost: 159\n",
      "child voicing cost: 76\n",
      "Best yet: 235\n",
      "New solution\n",
      "function cost: 159\n",
      "child voicing cost: 74\n",
      "Best yet: 233\n",
      "New solution\n",
      "function cost: 159\n",
      "child voicing cost: 73\n",
      "Best yet: 232\n",
      "New solution\n",
      "function cost: 159\n",
      "child voicing cost: 71\n",
      "Best yet: 230\n",
      "New solution\n",
      "function cost: 162\n",
      "child voicing cost: 65\n",
      "Best yet: 227\n",
      "New solution\n",
      "function cost: 156\n",
      "child voicing cost: 70\n",
      "Best yet: 226\n",
      "New solution\n",
      "function cost: 156\n",
      "child voicing cost: 67\n",
      "Best yet: 223\n"
     ]
    },
    {
     "data": {
      "text/plain": [
       "(15, \"T\", Tuple{Int16,Int16}[(57, 1), (57, 1), (64, 5), (73, 3)])"
      ]
     },
     "metadata": {},
     "output_type": "display_data"
    },
    {
     "data": {
      "text/plain": [
       "(0, \"Ts\", Tuple{Int16,Int16}[(54, 1), (57, 3), (66, 1), (73, 5)])"
      ]
     },
     "metadata": {},
     "output_type": "display_data"
    },
    {
     "data": {
      "text/plain": [
       "(6, \"D\", Tuple{Int16,Int16}[(52, 1), (59, 5), (68, 3), (76, 1)])"
      ]
     },
     "metadata": {},
     "output_type": "display_data"
    },
    {
     "data": {
      "text/plain": [
       "(12, \"S/3\", Tuple{Int16,Int16}[(54, 3), (57, 5), (69, 5), (74, 1)])"
      ]
     },
     "metadata": {},
     "output_type": "display_data"
    },
    {
     "data": {
      "text/plain": [
       "(15, \"D7/3\", Tuple{Int16,Int16}[(56, 3), (64, 1), (71, 5), (74, 7)])"
      ]
     },
     "metadata": {},
     "output_type": "display_data"
    },
    {
     "data": {
      "text/plain": [
       "(15, \"T\", Tuple{Int16,Int16}[(57, 1), (64, 5), (69, 1), (73, 3)])"
      ]
     },
     "metadata": {},
     "output_type": "display_data"
    },
    {
     "data": {
      "text/plain": [
       "(6, \"D\", Tuple{Int16,Int16}[(52, 1), (64, 1), (68, 3), (71, 5)])"
      ]
     },
     "metadata": {},
     "output_type": "display_data"
    },
    {
     "data": {
      "text/plain": [
       "(9, \"D\", Tuple{Int16,Int16}[(52, 1), (59, 5), (68, 3), (76, 1)])"
      ]
     },
     "metadata": {},
     "output_type": "display_data"
    },
    {
     "data": {
      "text/plain": [
       "(3, \"S/3\", Tuple{Int16,Int16}[(54, 3), (57, 5), (69, 5), (74, 1)])"
      ]
     },
     "metadata": {},
     "output_type": "display_data"
    },
    {
     "data": {
      "text/plain": [
       "(0, \"D/3\", Tuple{Int16,Int16}[(56, 3), (59, 5), (64, 1), (71, 5)])"
      ]
     },
     "metadata": {},
     "output_type": "display_data"
    },
    {
     "data": {
      "text/plain": [
       "(0, \"T\", Tuple{Int16,Int16}[(57, 1), (61, 3), (64, 5), (69, 1)])"
      ]
     },
     "metadata": {},
     "output_type": "display_data"
    },
    {
     "data": {
      "text/plain": [
       "(9, \"D7/5\", Tuple{Int16,Int16}[(59, 5), (62, 7), (64, 1), (68, 3)])"
      ]
     },
     "metadata": {},
     "output_type": "display_data"
    },
    {
     "data": {
      "text/plain": [
       "(15, \"T\", Tuple{Int16,Int16}[(57, 1), (61, 3), (64, 5), (69, 1)])"
      ]
     },
     "metadata": {},
     "output_type": "display_data"
    },
    {
     "data": {
      "text/plain": [
       "(9, \"D/3\", Tuple{Int16,Int16}[(56, 3), (59, 5), (71, 5), (76, 1)])"
      ]
     },
     "metadata": {},
     "output_type": "display_data"
    },
    {
     "data": {
      "text/plain": [
       "(18, \"T\", Tuple{Int16,Int16}[(57, 1), (61, 3), (69, 1), (76, 5)])"
      ]
     },
     "metadata": {},
     "output_type": "display_data"
    },
    {
     "data": {
      "text/plain": [
       "(18, \"T\", Tuple{Int16,Int16}[(57, 1), (64, 5), (69, 1), (73, 3)])"
      ]
     },
     "metadata": {},
     "output_type": "display_data"
    },
    {
     "data": {
      "text/plain": [
       "(0, \"D/3\", Tuple{Int16,Int16}[(56, 3), (64, 1), (71, 5), (76, 1)])"
      ]
     },
     "metadata": {},
     "output_type": "display_data"
    },
    {
     "data": {
      "text/plain": [
       "(9, \"T\", Tuple{Int16,Int16}[(57, 1), (61, 3), (69, 1), (76, 5)])"
      ]
     },
     "metadata": {},
     "output_type": "display_data"
    },
    {
     "data": {
      "text/plain": [
       "(15, \"D7-1\", Tuple{Int16,Int16}[(59, 5), (62, 7), (68, 3), (74, 7)])"
      ]
     },
     "metadata": {},
     "output_type": "display_data"
    },
    {
     "data": {
      "text/plain": [
       "(3, \"T\", Tuple{Int16,Int16}[(57, 1), (64, 5), (69, 1), (73, 3)])"
      ]
     },
     "metadata": {},
     "output_type": "display_data"
    },
    {
     "data": {
      "text/plain": [
       "(9, \"D/3\", Tuple{Int16,Int16}[(56, 3), (64, 1), (71, 5), (76, 1)])"
      ]
     },
     "metadata": {},
     "output_type": "display_data"
    },
    {
     "data": {
      "text/plain": [
       "(12, \"T\", Tuple{Int16,Int16}[(57, 1), (61, 3), (69, 1), (76, 5)])"
      ]
     },
     "metadata": {},
     "output_type": "display_data"
    },
    {
     "data": {
      "text/plain": [
       "(6, \"S65\", Tuple{Int16,Int16}[(50, 1), (59, 6), (69, 5), (78, 3)])"
      ]
     },
     "metadata": {},
     "output_type": "display_data"
    },
    {
     "data": {
      "text/plain": [
       "(3, \"T/5\", Tuple{Int16,Int16}[(52, 5), (57, 1), (69, 1), (73, 3)])"
      ]
     },
     "metadata": {},
     "output_type": "display_data"
    },
    {
     "data": {
      "text/plain": [
       "(9, \"S/3\", Tuple{Int16,Int16}[(54, 3), (57, 5), (69, 5), (74, 1)])"
      ]
     },
     "metadata": {},
     "output_type": "display_data"
    },
    {
     "data": {
      "text/plain": [
       "(15, \"D/3\", Tuple{Int16,Int16}[(56, 3), (59, 5), (64, 1), (71, 5)])"
      ]
     },
     "metadata": {},
     "output_type": "display_data"
    },
    {
     "data": {
      "text/plain": [
       "(15, \"T\", Tuple{Int16,Int16}[(57, 1), (61, 3), (64, 5), (69, 1)])"
      ]
     },
     "metadata": {},
     "output_type": "display_data"
    },
    {
     "data": {
      "text/plain": [
       "(9, \"T\", Tuple{Int16,Int16}[(57, 1), (61, 3), (69, 1), (76, 5)])"
      ]
     },
     "metadata": {},
     "output_type": "display_data"
    },
    {
     "data": {
      "text/plain": [
       "(9, \"D\", Tuple{Int16,Int16}[(52, 1), (59, 5), (68, 3), (76, 1)])"
      ]
     },
     "metadata": {},
     "output_type": "display_data"
    },
    {
     "data": {
      "text/plain": [
       "(6, \"D\", Tuple{Int16,Int16}[(52, 1), (64, 1), (68, 3), (71, 5)])"
      ]
     },
     "metadata": {},
     "output_type": "display_data"
    },
    {
     "data": {
      "text/plain": [
       "(21, \"T\", Tuple{Int16,Int16}[(45, 1), (64, 5), (69, 1), (73, 3)])"
      ]
     },
     "metadata": {},
     "output_type": "display_data"
    },
    {
     "data": {
      "text/plain": [
       "(21, \"T\", Tuple{Int16,Int16}[(45, 1), (64, 5), (69, 1), (73, 3)])"
      ]
     },
     "metadata": {},
     "output_type": "display_data"
    },
    {
     "name": "stdout",
     "output_type": "stream",
     "text": [
      "##: Done. Total checked: 82307, Pruned: 89882, completed: 14, time: 1.7750000953674316, efficiency: 7.887323519890824\n",
      "Results: bestval_func: 156, bestval_voices: 67\n",
      "#Key: 10Scale: Major\n",
      "#Total time for optimisation of piece: 4.6540000438690186\n",
      "#Total cost of piece: 419\n",
      "[\"T\", \"Ts\", \"D\", \"S/3\", \"D7/3\", \"T\", \"D\", \"D\", \"S/3\", \"D/3\", \"T\", \"D7/5\", \"T\", \"D/3\", \"T\", \"T\", \"D/3\", \"T\", \"D7-1\", \"T\", \"D/3\", \"T\", \"S65\", \"T/5\", \"S/3\", \"D/3\", \"T\", \"T\", \"D\", \"D\", \"T\", \"T\"]\n",
      "../../results/optimizer/pianoroll/CO-53-heart-opt.csv\n",
      " End of file \n",
      " \n",
      "Optimising: ../../results/neuralnet/pianoroll/CO-59-besid-nn.csv\n",
      "[0 0 0 0 2 0 0 1 0 0 0 1; 0 0 0 0 2 0 0 1 0 0 0 1; 1 0 1 0 0 0 1 0 0 1 0 0; 0 0 1 0 0 0 0 1 0 0 0 1; 0 0 1 0 0 0 1 0 0 2 0 0; 0 0 1 0 0 0 0 2 0 0 0 1; 1 0 0 0 1 0 0 1 0 1 0 0; 0 0 1 0 0 0 0 1 0 0 0 2; 0 0 1 0 1 0 0 0 0 1 0 1; 0 1 1 0 1 0 0 1 0 0 0 0; 0 0 3 0 0 0 0 1 0 0 0 0; 0 0 2 0 0 0 1 0 0 1 0 0; 0 0 2 0 0 0 1 0 0 0 0 1; 0 0 0 0 1 0 1 0 0 2 0 0; 0 0 0 0 2 0 0 0 1 0 0 1; 0 0 0 0 1 0 0 0 1 1 0 1; 0 0 0 0 1 0 0 2 0 0 0 1; 1 1 0 0 0 0 1 0 0 0 1 0; 0 0 1 0 0 0 1 1 0 0 0 1; 2 0 0 0 0 0 1 0 0 1 0 0; 0 0 0 0 2 0 0 2 0 0 0 0; 0 0 1 0 0 0 2 0 0 1 0 0; 0 0 2 0 1 0 0 0 0 1 0 0; 0 0 2 0 0 0 0 0 0 2 0 0; 0 0 2 0 0 0 0 1 0 1 0 0; 0 0 2 0 0 0 1 0 0 1 0 0; 0 0 1 0 1 0 0 2 0 0 0 0; 0 0 0 0 1 0 0 1 0 1 0 1; 1 0 0 0 1 0 0 0 0 2 0 0; 0 0 0 0 0 1 0 0 0 1 0 2; 0 0 0 0 2 0 0 0 0 0 0 2; 0 0 0 0 1 0 1 0 0 2 0 0; 0 1 1 0 0 0 0 0 0 2 0 0]\n",
      "Key Counter is [6 3 26 0 21 1 12 18 2 24 1 17]\n",
      "Key Score is [113; 25; 121; 54; 79; 97; 36; 124; 31; 105; 76; 56]\n",
      "Position Counter for 8 is [18 2 24 1 17 6 3 26 0 21 1 12]\n",
      "Any[[8.0, 77.5, 0.0]]\n",
      "[8, 78, 0]\n",
      "5 E Minor\n",
      "Rhythm map: [\"S\", \"W\", \"S\", \"W\", \"S\", \"C\", \"C\", \"C\", \"S\", \"W\", \"S\", \"W\", \"S\", \"C\", \"C\", \"C\"] size: (16,)\n",
      "Amount of timesteps to optimise: 16\n",
      "Building lookup-table list...\n",
      "Lookup-table built.\n",
      "Initial function score upper bound: 499, voicing score upper bound: 499\n",
      "Starting search...\n",
      "New solution\n",
      "function cost: 180\n",
      "child voicing cost: 98\n",
      "Best yet: 278\n",
      "New solution\n",
      "function cost: 180\n",
      "child voicing cost: 97\n",
      "Best yet: 277\n",
      "New solution\n",
      "function cost: 180\n",
      "child voicing cost: 96\n",
      "Best yet: 276\n",
      "New solution\n",
      "function cost: 177\n",
      "child voicing cost: 98\n",
      "Best yet: 275\n",
      "New solution\n",
      "function cost: 150\n",
      "child voicing cost: 104\n",
      "Best yet: 254\n",
      "New solution\n",
      "function cost: 150\n",
      "child voicing cost: 103\n",
      "Best yet: 253\n",
      "New solution\n",
      "function cost: 150\n",
      "child voicing cost: 102\n",
      "Best yet: 252\n",
      "New solution\n",
      "function cost: 150\n",
      "child voicing cost: 101\n",
      "Best yet: 251\n",
      "New solution\n",
      "function cost: 150\n",
      "child voicing cost: 91\n",
      "Best yet: 241\n",
      "New solution\n",
      "function cost: 150\n",
      "child voicing cost: 90\n",
      "Best yet: 240\n",
      "New solution\n",
      "function cost: 150\n",
      "child voicing cost: 89\n",
      "Best yet: 239\n",
      "New solution\n",
      "function cost: 150\n",
      "child voicing cost: 88\n",
      "Best yet: 238\n",
      "New solution\n",
      "function cost: 144\n",
      "child voicing cost: 92\n",
      "Best yet: 236\n",
      "New solution\n",
      "function cost: 144\n",
      "child voicing cost: 88\n",
      "Best yet: 232\n",
      "New solution\n",
      "function cost: 144\n",
      "child voicing cost: 86\n",
      "Best yet: 230\n",
      "New solution\n",
      "function cost: 138\n",
      "child voicing cost: 87\n",
      "Best yet: 225\n",
      "New solution\n",
      "function cost: 138\n",
      "child voicing cost: 85\n",
      "Best yet: 223\n",
      "New solution\n",
      "function cost: 138\n",
      "child voicing cost: 84\n",
      "Best yet: 222\n",
      "New solution\n",
      "function cost: 138\n",
      "child voicing cost: 82\n",
      "Best yet: 220\n",
      "##: Done. Total checked: 95711, Pruned: 109514, completed: 19, time: 2.01200008392334, efficiency: 9.44333956634364\n",
      "Results: bestval_func: 138, bestval_voices: 82\n",
      "[0 0 0 0 2 0 0 1 0 0 0 1; 0 0 0 0 2 0 0 1 0 0 0 1; 1 0 1 0 0 0 1 0 0 1 0 0; 0 0 1 0 0 0 0 1 0 0 0 1; 0 0 1 0 0 0 1 0 0 2 0 0; 0 0 1 0 0 0 0 2 0 0 0 1; 1 0 0 0 1 0 0 1 0 1 0 0; 0 0 1 0 0 0 0 1 0 0 0 2; 0 0 1 0 1 0 0 0 0 1 0 1; 0 1 1 0 1 0 0 1 0 0 0 0; 0 0 3 0 0 0 0 1 0 0 0 0; 0 0 2 0 0 0 1 0 0 1 0 0; 0 0 2 0 0 0 1 0 0 0 0 1; 0 0 0 0 1 0 1 0 0 2 0 0; 0 0 0 0 2 0 0 0 1 0 0 1; 0 0 0 0 1 0 0 0 1 1 0 1; 0 0 0 0 1 0 0 2 0 0 0 1; 1 1 0 0 0 0 1 0 0 0 1 0; 0 0 1 0 0 0 1 1 0 0 0 1; 2 0 0 0 0 0 1 0 0 1 0 0; 0 0 0 0 2 0 0 2 0 0 0 0; 0 0 1 0 0 0 2 0 0 1 0 0; 0 0 2 0 1 0 0 0 0 1 0 0; 0 0 2 0 0 0 0 0 0 2 0 0; 0 0 2 0 0 0 0 1 0 1 0 0; 0 0 2 0 0 0 1 0 0 1 0 0; 0 0 1 0 1 0 0 2 0 0 0 0; 0 0 0 0 1 0 0 1 0 1 0 1; 1 0 0 0 1 0 0 0 0 2 0 0; 0 0 0 0 0 1 0 0 0 1 0 2; 0 0 0 0 2 0 0 0 0 0 0 2; 0 0 0 0 1 0 1 0 0 2 0 0; 0 1 1 0 0 0 0 0 0 2 0 0]\n",
      "Key Counter is [6 3 26 0 21 1 12 18 2 24 1 17]\n",
      "Key Score is [113; 25; 121; 54; 79; 97; 36; 124; 31; 105; 76; 56]\n",
      "Position Counter for 8 is [18 2 24 1 17 6 3 26 0 21 1 12]\n",
      "Any[[8.0, 77.5, 0.0]]\n",
      "[8, 78, 0]\n",
      "5 E Minor\n",
      "Rhythm map: [\"W\", \"S\", \"W\", \"S\", \"W\", \"S\", \"W\", \"S\", \"W\", \"S\", \"W\", \"S\", \"W\", \"A\", \"A\", \"A\", \"A\"] size: (17,)\n",
      "Amount of timesteps to optimise: 17\n",
      "Building lookup-table list...\n",
      "Lookup-table built.\n",
      "Initial function score upper bound: 499, voicing score upper bound: 499\n",
      "Starting search...\n",
      "New solution\n",
      "function cost: 198\n",
      "child voicing cost: 105\n",
      "Best yet: 303\n",
      "New solution\n",
      "function cost: 198\n",
      "child voicing cost: 102\n",
      "Best yet: 300\n",
      "New solution\n",
      "function cost: 198\n",
      "child voicing cost: 99\n",
      "Best yet: 297\n",
      "New solution\n",
      "function cost: 192\n",
      "child voicing cost: 97\n",
      "Best yet: 289\n",
      "New solution\n",
      "function cost: 192\n",
      "child voicing cost: 94\n",
      "Best yet: 286\n",
      "New solution\n",
      "function cost: 192\n",
      "child voicing cost: 91\n",
      "Best yet: 283\n",
      "New solution\n",
      "function cost: 192\n",
      "child voicing cost: 90\n",
      "Best yet: 282\n",
      "New solution\n",
      "function cost: 192\n",
      "child voicing cost: 87\n",
      "Best yet: 279\n",
      "New solution\n",
      "function cost: 204\n",
      "child voicing cost: 72\n",
      "Best yet: 276\n",
      "New solution\n",
      "function cost: 204\n",
      "child voicing cost: 69\n",
      "Best yet: 273\n",
      "New solution\n",
      "function cost: 195\n",
      "child voicing cost: 70\n",
      "Best yet: 265\n",
      "New solution\n",
      "function cost: 195\n",
      "child voicing cost: 67\n",
      "Best yet: 262\n",
      "New solution\n",
      "function cost: 195\n",
      "child voicing cost: 62\n",
      "Best yet: 257\n",
      "New solution\n",
      "function cost: 195\n",
      "child voicing cost: 61\n",
      "Best yet: 256\n"
     ]
    },
    {
     "data": {
      "text/plain": [
       "(0, \"T\", Tuple{Int16,Int16}[(52, 1), (64, 1), (67, 3), (71, 5)])"
      ]
     },
     "metadata": {},
     "output_type": "display_data"
    },
    {
     "data": {
      "text/plain": [
       "(0, \"T\", Tuple{Int16,Int16}[(52, 1), (59, 5), (67, 3), (76, 1)])"
      ]
     },
     "metadata": {},
     "output_type": "display_data"
    },
    {
     "data": {
      "text/plain": [
       "(6, \"D7/3\", Tuple{Int16,Int16}[(51, 3), (59, 1), (69, 7), (78, 5)])"
      ]
     },
     "metadata": {},
     "output_type": "display_data"
    },
    {
     "data": {
      "text/plain": [
       "(6, \"T\", Tuple{Int16,Int16}[(52, 1), (59, 5), (67, 3), (76, 1)])"
      ]
     },
     "metadata": {},
     "output_type": "display_data"
    },
    {
     "data": {
      "text/plain": [
       "(3, \"D7-1\", Tuple{Int16,Int16}[(54, 5), (57, 7), (69, 7), (75, 3)])"
      ]
     },
     "metadata": {},
     "output_type": "display_data"
    },
    {
     "data": {
      "text/plain": [
       "(12, \"D7\", Tuple{Int16,Int16}[(47, 1), (63, 3), (69, 7), (78, 5)])"
      ]
     },
     "metadata": {},
     "output_type": "display_data"
    },
    {
     "data": {
      "text/plain": [
       "(9, \"Ts\", Tuple{Int16,Int16}[(48, 1), (64, 3), (67, 5), (76, 3)])"
      ]
     },
     "metadata": {},
     "output_type": "display_data"
    },
    {
     "data": {
      "text/plain": [
       "(12, \"Ts\", Tuple{Int16,Int16}[(48, 1), (64, 3), (67, 5), (72, 1)])"
      ]
     },
     "metadata": {},
     "output_type": "display_data"
    },
    {
     "data": {
      "text/plain": [
       "(9, \"D7\", Tuple{Int16,Int16}[(47, 1), (63, 3), (69, 7), (78, 5)])"
      ]
     },
     "metadata": {},
     "output_type": "display_data"
    },
    {
     "data": {
      "text/plain": [
       "(12, \"T\", Tuple{Int16,Int16}[(52, 1), (64, 1), (67, 3), (71, 5)])"
      ]
     },
     "metadata": {},
     "output_type": "display_data"
    },
    {
     "data": {
      "text/plain": [
       "(18, \"T-5\", Tuple{Int16,Int16}[(52, 1), (64, 1), (67, 3), (76, 1)])"
      ]
     },
     "metadata": {},
     "output_type": "display_data"
    },
    {
     "data": {
      "text/plain": [
       "(12, \"D7/3\", Tuple{Int16,Int16}[(51, 3), (59, 1), (69, 7), (78, 5)])"
      ]
     },
     "metadata": {},
     "output_type": "display_data"
    },
    {
     "data": {
      "text/plain": [
       "(15, \"T\", Tuple{Int16,Int16}[(52, 1), (59, 5), (67, 3), (76, 1)])"
      ]
     },
     "metadata": {},
     "output_type": "display_data"
    },
    {
     "data": {
      "text/plain": [
       "(3, \"D7-1\", Tuple{Int16,Int16}[(54, 5), (57, 7), (66, 5), (75, 3)])"
      ]
     },
     "metadata": {},
     "output_type": "display_data"
    },
    {
     "data": {
      "text/plain": [
       "(3, \"T\", Tuple{Int16,Int16}[(52, 1), (59, 5), (67, 3), (76, 1)])"
      ]
     },
     "metadata": {},
     "output_type": "display_data"
    },
    {
     "data": {
      "text/plain": [
       "(18, \"T\", Tuple{Int16,Int16}[(52, 1), (64, 1), (67, 3), (71, 5)])"
      ]
     },
     "metadata": {},
     "output_type": "display_data"
    },
    {
     "data": {
      "text/plain": [
       "(6, \"Tm\", Tuple{Int16,Int16}[(55, 1), (62, 5), (67, 1), (71, 3)])"
      ]
     },
     "metadata": {},
     "output_type": "display_data"
    },
    {
     "data": {
      "text/plain": [
       "(21, \"S\", Tuple{Int16,Int16}[(57, 1), (60, 3), (64, 5), (69, 1)])"
      ]
     },
     "metadata": {},
     "output_type": "display_data"
    },
    {
     "data": {
      "text/plain": [
       "(3, \"Tm\", Tuple{Int16,Int16}[(55, 1), (59, 3), (67, 1), (74, 5)])"
      ]
     },
     "metadata": {},
     "output_type": "display_data"
    },
    {
     "data": {
      "text/plain": [
       "(12, \"D7/3\", Tuple{Int16,Int16}[(51, 3), (59, 1), (66, 5), (69, 7)])"
      ]
     },
     "metadata": {},
     "output_type": "display_data"
    },
    {
     "data": {
      "text/plain": [
       "(12, \"T\", Tuple{Int16,Int16}[(52, 1), (59, 5), (64, 1), (67, 3)])"
      ]
     },
     "metadata": {},
     "output_type": "display_data"
    },
    {
     "data": {
      "text/plain": [
       "(3, \"D7-1\", Tuple{Int16,Int16}[(54, 5), (57, 7), (63, 3), (66, 5)])"
      ]
     },
     "metadata": {},
     "output_type": "display_data"
    },
    {
     "data": {
      "text/plain": [
       "(21, \"T\", Tuple{Int16,Int16}[(52, 1), (59, 5), (64, 1), (67, 3)])"
      ]
     },
     "metadata": {},
     "output_type": "display_data"
    },
    {
     "data": {
      "text/plain": [
       "(12, \"S\", Tuple{Int16,Int16}[(45, 1), (60, 3), (64, 5), (69, 1)])"
      ]
     },
     "metadata": {},
     "output_type": "display_data"
    },
    {
     "data": {
      "text/plain": [
       "(18, \"T/3\", Tuple{Int16,Int16}[(43, 3), (59, 5), (64, 1), (71, 5)])"
      ]
     },
     "metadata": {},
     "output_type": "display_data"
    },
    {
     "data": {
      "text/plain": [
       "(12, \"D7/5\", Tuple{Int16,Int16}[(42, 5), (59, 1), (63, 3), (69, 7)])"
      ]
     },
     "metadata": {},
     "output_type": "display_data"
    },
    {
     "data": {
      "text/plain": [
       "(18, \"T\", Tuple{Int16,Int16}[(40, 1), (59, 5), (64, 1), (67, 3)])"
      ]
     },
     "metadata": {},
     "output_type": "display_data"
    },
    {
     "data": {
      "text/plain": [
       "(6, \"T/3\", Tuple{Int16,Int16}[(43, 3), (59, 5), (64, 1), (71, 5)])"
      ]
     },
     "metadata": {},
     "output_type": "display_data"
    },
    {
     "data": {
      "text/plain": [
       "(0, \"S\", Tuple{Int16,Int16}[(45, 1), (57, 1), (64, 5), (72, 3)])"
      ]
     },
     "metadata": {},
     "output_type": "display_data"
    },
    {
     "data": {
      "text/plain": [
       "(15, \"D7\", Tuple{Int16,Int16}[(47, 1), (57, 7), (63, 3), (66, 5)])"
      ]
     },
     "metadata": {},
     "output_type": "display_data"
    },
    {
     "data": {
      "text/plain": [
       "(12, \"T\", Tuple{Int16,Int16}[(52, 1), (55, 3), (59, 5), (64, 1)])"
      ]
     },
     "metadata": {},
     "output_type": "display_data"
    },
    {
     "data": {
      "text/plain": [
       "(12, \"T\", Tuple{Int16,Int16}[(52, 1), (55, 3), (59, 5), (64, 1)])"
      ]
     },
     "metadata": {},
     "output_type": "display_data"
    },
    {
     "name": "stdout",
     "output_type": "stream",
     "text": [
      "##: Done. Total checked: 95724, Pruned: 108410, completed: 14, time: 2.0959999561309814, efficiency: 6.6793894527758875\n",
      "Results: bestval_func: 195, bestval_voices: 61\n",
      "#Key: 5Scale: Minor\n",
      "#Total time for optimisation of piece: 5.685999870300293\n",
      "#Total cost of piece: 476\n",
      "[\"T\", \"T\", \"D7/3\", \"T\", \"D7-1\", \"D7\", \"Ts\", \"Ts\", \"D7\", \"T\", \"T-5\", \"D7/3\", \"T\", \"D7-1\", \"T\", \"T\", \"Tm\", \"S\", \"Tm\", \"D7/3\", \"T\", \"D7-1\", \"T\", \"S\", \"T/3\", \"D7/5\", \"T\", \"T/3\", \"S\", \"D7\", \"T\", \"T\"]\n",
      "../../results/optimizer/pianoroll/CO-59-besid-opt.csv\n",
      " End of file \n",
      " \n",
      "Optimising: ../../results/neuralnet/pianoroll/M3-01-Jesu-nn.csv\n",
      "[0 1 0 0 0 1 0 0 0 0 2 0; 0 0 1 0 0 1 0 0 1 0 0 1; 0 0 0 0 0 0 2 0 0 0 1 0; 0 0 1 0 0 1 0 0 0 0 2 0; 0 0 0 2 0 0 1 0 0 0 1 0; 0 0 0 1 0 1 0 0 1 0 1 0; 0 0 0 1 0 2 0 0 1 0 0 0; 0 0 0 0 0 2 0 0 1 0 1 0; 0 0 1 2 0 0 0 0 0 0 1 0; 0 0 0 2 0 1 0 0 0 0 1 0; 1 0 0 0 0 1 1 0 0 0 1 0; 0 0 0 0 0 1 0 1 0 0 2 0; 0 0 0 1 0 0 0 1 0 0 2 0; 1 0 0 1 0 0 0 0 1 1 0 0; 2 0 1 0 0 1 0 0 0 0 0 0; 0 0 0 0 0 1 0 0 0 0 3 0; 0 0 0 0 0 2 1 0 0 1 0 0; 0 0 0 0 0 2 0 0 0 0 2 0; 1 0 0 1 0 0 0 0 0 1 1 0; 0 0 0 0 0 1 0 0 0 0 3 0; 0 0 0 1 0 2 0 0 0 0 1 0; 0 0 1 0 0 1 0 0 0 0 2 0; 0 0 0 1 0 1 1 0 0 0 1 0; 1 0 0 1 0 1 0 0 0 0 1 0; 0 0 0 2 0 0 1 0 0 0 1 0; 1 0 0 1 0 1 0 0 0 0 1 0; 0 0 1 0 0 1 0 0 0 0 2 0; 0 0 1 1 0 0 0 1 0 0 1 0; 0 0 0 2 0 0 0 1 0 0 1 0; 0 0 0 1 0 1 0 1 1 0 0 0; 1 0 0 1 0 1 0 0 1 0 0 0; 0 1 0 0 0 1 1 0 0 0 1 0; 0 1 0 0 0 0 1 0 0 0 2 0]\n",
      "Key Counter is [8 3 7 22 0 28 9 5 7 3 38 1]\n",
      "Key Score is [52; 115; 28; 115; 45; 89; 108; 33; 111; 30; 111; 80]\n",
      "Position Counter for 2 is [3 7 22 0 28 9 5 7 3 38 1 8]\n",
      "Position Counter for 4 is [22 0 28 9 5 7 3 38 1 8 3 7]\n",
      "Any[[2.0, 97.0, 0.0], [4.0, 84.25, 1.0]]\n",
      "[2, 97, 0]\n",
      "11 A# Minor\n",
      "Rhythm map: [\"S\", \"W\", \"S\", \"W\", \"S\", \"C\", \"C\", \"C\", \"S\", \"W\", \"S\", \"W\", \"S\", \"C\", \"C\", \"C\"] size: (16,)\n",
      "Amount of timesteps to optimise: 16\n",
      "Building lookup-table list...\n",
      "Lookup-table built.\n",
      "Initial function score upper bound: 499, voicing score upper bound: 499\n",
      "Starting search...\n",
      "New solution\n",
      "function cost: 168\n",
      "child voicing cost: 107\n",
      "Best yet: 275\n",
      "New solution\n",
      "function cost: 168\n",
      "child voicing cost: 106\n",
      "Best yet: 274\n",
      "New solution\n",
      "function cost: 168\n",
      "child voicing cost: 104\n",
      "Best yet: 272\n",
      "New solution\n",
      "function cost: 168\n",
      "child voicing cost: 101\n",
      "Best yet: 269\n",
      "New solution\n",
      "function cost: 165\n",
      "child voicing cost: 102\n",
      "Best yet: 267\n",
      "New solution\n",
      "function cost: 165\n",
      "child voicing cost: 99\n",
      "Best yet: 264\n",
      "New solution\n",
      "function cost: 159\n",
      "child voicing cost: 103\n",
      "Best yet: 262\n",
      "New solution\n",
      "function cost: 159\n",
      "child voicing cost: 100\n",
      "Best yet: 259\n",
      "New solution\n",
      "function cost: 165\n",
      "child voicing cost: 90\n",
      "Best yet: 255\n",
      "New solution\n",
      "function cost: 165\n",
      "child voicing cost: 89\n",
      "Best yet: 254\n",
      "New solution\n",
      "function cost: 156\n",
      "child voicing cost: 90\n",
      "Best yet: 246\n",
      "New solution\n",
      "function cost: 156\n",
      "child voicing cost: 88\n",
      "Best yet: 244\n",
      "New solution\n",
      "function cost: 159\n",
      "child voicing cost: 71\n",
      "Best yet: 230\n",
      "New solution\n",
      "function cost: 147\n",
      "child voicing cost: 78\n",
      "Best yet: 225\n",
      "New solution\n",
      "function cost: 141\n",
      "child voicing cost: 80\n",
      "Best yet: 221\n",
      "New solution\n",
      "function cost: 141\n",
      "child voicing cost: 78\n",
      "Best yet: 219\n",
      "New solution\n",
      "function cost: 141\n",
      "child voicing cost: 76\n",
      "Best yet: 217\n",
      "New solution\n",
      "function cost: 141\n",
      "child voicing cost: 75\n",
      "Best yet: 216\n",
      "New solution\n",
      "function cost: 129\n",
      "child voicing cost: 86\n",
      "Best yet: 215\n",
      "New solution\n",
      "function cost: 129\n",
      "child voicing cost: 85\n",
      "Best yet: 214\n",
      "New solution\n",
      "function cost: 129\n",
      "child voicing cost: 83\n",
      "Best yet: 212\n",
      "New solution\n",
      "function cost: 129\n",
      "child voicing cost: 81\n",
      "Best yet: 210\n",
      "New solution\n",
      "function cost: 129\n",
      "child voicing cost: 80\n",
      "Best yet: 209\n",
      "##: Done. Total checked: 198185, Pruned: 229788, completed: 23, time: 4.019999980926514, efficiency: 5.7213930619718685\n",
      "Results: bestval_func: 129, bestval_voices: 80\n",
      "[0 1 0 0 0 1 0 0 0 0 2 0; 0 0 1 0 0 1 0 0 1 0 0 1; 0 0 0 0 0 0 2 0 0 0 1 0; 0 0 1 0 0 1 0 0 0 0 2 0; 0 0 0 2 0 0 1 0 0 0 1 0; 0 0 0 1 0 1 0 0 1 0 1 0; 0 0 0 1 0 2 0 0 1 0 0 0; 0 0 0 0 0 2 0 0 1 0 1 0; 0 0 1 2 0 0 0 0 0 0 1 0; 0 0 0 2 0 1 0 0 0 0 1 0; 1 0 0 0 0 1 1 0 0 0 1 0; 0 0 0 0 0 1 0 1 0 0 2 0; 0 0 0 1 0 0 0 1 0 0 2 0; 1 0 0 1 0 0 0 0 1 1 0 0; 2 0 1 0 0 1 0 0 0 0 0 0; 0 0 0 0 0 1 0 0 0 0 3 0; 0 0 0 0 0 2 1 0 0 1 0 0; 0 0 0 0 0 2 0 0 0 0 2 0; 1 0 0 1 0 0 0 0 0 1 1 0; 0 0 0 0 0 1 0 0 0 0 3 0; 0 0 0 1 0 2 0 0 0 0 1 0; 0 0 1 0 0 1 0 0 0 0 2 0; 0 0 0 1 0 1 1 0 0 0 1 0; 1 0 0 1 0 1 0 0 0 0 1 0; 0 0 0 2 0 0 1 0 0 0 1 0; 1 0 0 1 0 1 0 0 0 0 1 0; 0 0 1 0 0 1 0 0 0 0 2 0; 0 0 1 1 0 0 0 1 0 0 1 0; 0 0 0 2 0 0 0 1 0 0 1 0; 0 0 0 1 0 1 0 1 1 0 0 0; 1 0 0 1 0 1 0 0 1 0 0 0; 0 1 0 0 0 1 1 0 0 0 1 0; 0 1 0 0 0 0 1 0 0 0 2 0]\n",
      "Key Counter is [8 3 7 22 0 28 9 5 7 3 38 1]\n",
      "Key Score is [52; 115; 28; 115; 45; 89; 108; 33; 111; 30; 111; 80]\n",
      "Position Counter for 2 is [3 7 22 0 28 9 5 7 3 38 1 8]\n",
      "Position Counter for 4 is [22 0 28 9 5 7 3 38 1 8 3 7]\n",
      "Any[[2.0, 97.0, 0.0], [4.0, 84.25, 1.0]]\n",
      "[2, 97, 0]\n",
      "11 A# Minor\n",
      "Rhythm map: [\"W\", \"S\", \"W\", \"S\", \"W\", \"S\", \"W\", \"S\", \"W\", \"S\", \"W\", \"S\", \"W\", \"A\", \"A\", \"A\", \"A\"] size: (17,)\n",
      "Amount of timesteps to optimise: 17\n",
      "Building lookup-table list...\n",
      "Lookup-table built.\n",
      "Initial function score upper bound: 499, voicing score upper bound: 499\n",
      "Starting search...\n",
      "New solution\n",
      "function cost: 183\n",
      "child voicing cost: 66\n",
      "Best yet: 249\n",
      "New solution\n",
      "function cost: 171\n",
      "child voicing cost: 74\n",
      "Best yet: 245\n",
      "New solution\n",
      "function cost: 177\n",
      "child voicing cost: 66\n",
      "Best yet: 243\n",
      "New solution\n",
      "function cost: 162\n",
      "child voicing cost: 79\n",
      "Best yet: 241\n",
      "New solution\n",
      "function cost: 168\n",
      "child voicing cost: 71\n",
      "Best yet: 239\n",
      "New solution\n",
      "function cost: 162\n",
      "child voicing cost: 74\n",
      "Best yet: 236\n",
      "New solution\n",
      "function cost: 168\n",
      "child voicing cost: 66\n",
      "Best yet: 234\n",
      "New solution\n",
      "function cost: 147\n",
      "child voicing cost: 86\n",
      "Best yet: 233\n",
      "New solution\n",
      "function cost: 147\n",
      "child voicing cost: 81\n",
      "Best yet: 228\n",
      "New solution\n",
      "function cost: 147\n",
      "child voicing cost: 80\n",
      "Best yet: 227\n",
      "New solution\n",
      "function cost: 147\n",
      "child voicing cost: 78\n",
      "Best yet: 225\n",
      "New solution\n",
      "function cost: 147\n",
      "child voicing cost: 77\n",
      "Best yet: 224\n",
      "New solution\n",
      "function cost: 150\n",
      "child voicing cost: 72\n",
      "Best yet: 222\n",
      "New solution\n",
      "function cost: 150\n",
      "child voicing cost: 71\n",
      "Best yet: 221\n",
      "New solution\n",
      "function cost: 150\n",
      "child voicing cost: 69\n",
      "Best yet: 219\n",
      "New solution\n",
      "function cost: 150\n",
      "child voicing cost: 66\n",
      "Best yet: 216\n",
      "New solution\n",
      "function cost: 156\n",
      "child voicing cost: 58\n",
      "Best yet: 214\n",
      "New solution\n",
      "function cost: 150\n",
      "child voicing cost: 61\n",
      "Best yet: 211\n",
      "New solution\n",
      "function cost: 156\n",
      "child voicing cost: 53\n",
      "Best yet: 209\n"
     ]
    },
    {
     "data": {
      "text/plain": [
       "(0, \"T\", Tuple{Int16,Int16}[(46, 1), (58, 1), (65, 5), (73, 3)])"
      ]
     },
     "metadata": {},
     "output_type": "display_data"
    },
    {
     "data": {
      "text/plain": [
       "(9, \"D7\", Tuple{Int16,Int16}[(53, 1), (57, 3), (63, 7), (72, 5)])"
      ]
     },
     "metadata": {},
     "output_type": "display_data"
    },
    {
     "data": {
      "text/plain": [
       "(0, \"Ts\", Tuple{Int16,Int16}[(54, 1), (58, 3), (61, 5), (70, 3)])"
      ]
     },
     "metadata": {},
     "output_type": "display_data"
    },
    {
     "data": {
      "text/plain": [
       "(3, \"T/3\", Tuple{Int16,Int16}[(49, 3), (58, 1), (65, 5), (77, 5)])"
      ]
     },
     "metadata": {},
     "output_type": "display_data"
    },
    {
     "data": {
      "text/plain": [
       "(0, \"S\", Tuple{Int16,Int16}[(51, 1), (58, 5), (66, 3), (75, 1)])"
      ]
     },
     "metadata": {},
     "output_type": "display_data"
    },
    {
     "data": {
      "text/plain": [
       "(9, \"S/3\", Tuple{Int16,Int16}[(54, 3), (58, 5), (63, 1), (70, 5)])"
      ]
     },
     "metadata": {},
     "output_type": "display_data"
    },
    {
     "data": {
      "text/plain": [
       "(12, \"D\", Tuple{Int16,Int16}[(53, 1), (60, 5), (65, 1), (69, 3)])"
      ]
     },
     "metadata": {},
     "output_type": "display_data"
    },
    {
     "data": {
      "text/plain": [
       "(9, \"D\", Tuple{Int16,Int16}[(53, 1), (60, 5), (69, 3), (77, 1)])"
      ]
     },
     "metadata": {},
     "output_type": "display_data"
    },
    {
     "data": {
      "text/plain": [
       "(12, \"S/3\", Tuple{Int16,Int16}[(54, 3), (58, 5), (70, 5), (75, 1)])"
      ]
     },
     "metadata": {},
     "output_type": "display_data"
    },
    {
     "data": {
      "text/plain": [
       "(12, \"T/5\", Tuple{Int16,Int16}[(53, 5), (61, 3), (70, 1), (77, 5)])"
      ]
     },
     "metadata": {},
     "output_type": "display_data"
    },
    {
     "data": {
      "text/plain": [
       "(6, \"S65\", Tuple{Int16,Int16}[(51, 1), (60, 6), (70, 5), (78, 3)])"
      ]
     },
     "metadata": {},
     "output_type": "display_data"
    },
    {
     "data": {
      "text/plain": [
       "(15, \"D\", Tuple{Int16,Int16}[(53, 1), (60, 5), (69, 3), (77, 1)])"
      ]
     },
     "metadata": {},
     "output_type": "display_data"
    },
    {
     "data": {
      "text/plain": [
       "(3, \"S/3\", Tuple{Int16,Int16}[(54, 3), (63, 1), (70, 5), (75, 1)])"
      ]
     },
     "metadata": {},
     "output_type": "display_data"
    },
    {
     "data": {
      "text/plain": [
       "(9, \"D7/3\", Tuple{Int16,Int16}[(57, 3), (63, 7), (65, 1), (72, 5)])"
      ]
     },
     "metadata": {},
     "output_type": "display_data"
    },
    {
     "data": {
      "text/plain": [
       "(21, \"T\", Tuple{Int16,Int16}[(58, 1), (61, 3), (65, 5), (70, 1)])"
      ]
     },
     "metadata": {},
     "output_type": "display_data"
    },
    {
     "data": {
      "text/plain": [
       "(9, \"T\", Tuple{Int16,Int16}[(46, 1), (61, 3), (65, 5), (70, 1)])"
      ]
     },
     "metadata": {},
     "output_type": "display_data"
    },
    {
     "data": {
      "text/plain": [
       "(18, \"D/3\", Tuple{Int16,Int16}[(45, 3), (60, 5), (65, 1), (72, 5)])"
      ]
     },
     "metadata": {},
     "output_type": "display_data"
    },
    {
     "data": {
      "text/plain": [
       "(12, \"T\", Tuple{Int16,Int16}[(46, 1), (61, 3), (65, 5), (70, 1)])"
      ]
     },
     "metadata": {},
     "output_type": "display_data"
    },
    {
     "data": {
      "text/plain": [
       "(6, \"D7-1\", Tuple{Int16,Int16}[(48, 5), (60, 5), (63, 7), (69, 3)])"
      ]
     },
     "metadata": {},
     "output_type": "display_data"
    },
    {
     "data": {
      "text/plain": [
       "(9, \"T\", Tuple{Int16,Int16}[(46, 1), (61, 3), (65, 5), (70, 1)])"
      ]
     },
     "metadata": {},
     "output_type": "display_data"
    },
    {
     "data": {
      "text/plain": [
       "(9, \"S/3\", Tuple{Int16,Int16}[(42, 3), (58, 5), (63, 1), (75, 1)])"
      ]
     },
     "metadata": {},
     "output_type": "display_data"
    },
    {
     "data": {
      "text/plain": [
       "(3, \"T/5\", Tuple{Int16,Int16}[(41, 5), (58, 1), (65, 5), (73, 3)])"
      ]
     },
     "metadata": {},
     "output_type": "display_data"
    },
    {
     "data": {
      "text/plain": [
       "(6, \"S/3\", Tuple{Int16,Int16}[(42, 3), (58, 5), (63, 1), (70, 5)])"
      ]
     },
     "metadata": {},
     "output_type": "display_data"
    },
    {
     "data": {
      "text/plain": [
       "(9, \"D\", Tuple{Int16,Int16}[(41, 1), (60, 5), (65, 1), (69, 3)])"
      ]
     },
     "metadata": {},
     "output_type": "display_data"
    },
    {
     "data": {
      "text/plain": [
       "(0, \"S/3\", Tuple{Int16,Int16}[(42, 3), (58, 5), (63, 1), (75, 1)])"
      ]
     },
     "metadata": {},
     "output_type": "display_data"
    },
    {
     "data": {
      "text/plain": [
       "(3, \"D7/3\", Tuple{Int16,Int16}[(45, 3), (60, 5), (65, 1), (75, 7)])"
      ]
     },
     "metadata": {},
     "output_type": "display_data"
    },
    {
     "data": {
      "text/plain": [
       "(3, \"T\", Tuple{Int16,Int16}[(46, 1), (58, 1), (65, 5), (73, 3)])"
      ]
     },
     "metadata": {},
     "output_type": "display_data"
    },
    {
     "data": {
      "text/plain": [
       "(15, \"T/3\", Tuple{Int16,Int16}[(49, 3), (58, 1), (65, 5), (77, 5)])"
      ]
     },
     "metadata": {},
     "output_type": "display_data"
    },
    {
     "data": {
      "text/plain": [
       "(3, \"S\", Tuple{Int16,Int16}[(51, 1), (58, 5), (66, 3), (75, 1)])"
      ]
     },
     "metadata": {},
     "output_type": "display_data"
    },
    {
     "data": {
      "text/plain": [
       "(24, \"D\", Tuple{Int16,Int16}[(53, 1), (57, 3), (65, 1), (72, 5)])"
      ]
     },
     "metadata": {},
     "output_type": "display_data"
    },
    {
     "data": {
      "text/plain": [
       "(24, \"T\", Tuple{Int16,Int16}[(46, 1), (58, 1), (65, 5), (73, 3)])"
      ]
     },
     "metadata": {},
     "output_type": "display_data"
    },
    {
     "data": {
      "text/plain": [
       "(24, \"T\", Tuple{Int16,Int16}[(46, 1), (58, 1), (65, 5), (73, 3)])"
      ]
     },
     "metadata": {},
     "output_type": "display_data"
    },
    {
     "name": "stdout",
     "output_type": "stream",
     "text": [
      "##: Done. Total checked: 125079, Pruned: 146793, completed: 19, time: 2.690000057220459, efficiency: 7.063196875777187\n",
      "Results: bestval_func: 156, bestval_voices: 53\n",
      "#Key: 11Scale: Minor\n",
      "#Total time for optimisation of piece: 8.023000001907349\n",
      "#Total cost of piece: 418\n",
      "[\"T\", \"D7\", \"Ts\", \"T/3\", \"S\", \"S/3\", \"D\", \"D\", \"S/3\", \"T/5\", \"S65\", \"D\", \"S/3\", \"D7/3\", \"T\", \"T\", \"D/3\", \"T\", \"D7-1\", \"T\", \"S/3\", \"T/5\", \"S/3\", \"D\", \"S/3\", \"D7/3\", \"T\", \"T/3\", \"S\", \"D\", \"T\", \"T\"]\n",
      "../../results/optimizer/pianoroll/M3-01-Jesu-opt.csv\n",
      " End of file \n",
      " \n",
      "Optimising: ../../results/neuralnet/pianoroll/M3-07-Weg-nn.csv\n",
      "[0 0 0 1 0 0 1 0 0 0 1 0; 0 0 1 0 0 1 0 0 1 0 0 0; 0 0 0 0 0 0 1 0 0 0 0 0; 0 0 1 0 0 1 0 0 0 0 1 0; 0 0 1 2 0 0 0 0 1 0 0 0; 0 0 0 2 0 1 0 0 0 0 1 0; 0 0 1 1 0 2 0 0 0 0 0 0; 0 1 0 1 0 1 0 0 0 0 1 0; 0 0 0 1 0 0 1 0 0 0 2 0; 1 0 0 1 0 1 0 0 0 0 1 0; 0 0 1 0 0 1 0 0 0 0 2 0; 0 0 1 0 0 0 0 1 0 0 2 0; 0 0 0 1 0 0 0 1 0 0 2 0; 0 0 0 2 0 0 0 1 0 0 1 0; 0 0 0 1 0 2 0 0 1 0 0 0; 0 0 0 1 0 2 0 0 1 0 0 0; 0 0 0 0 0 2 1 0 0 0 0 1; 0 0 1 0 0 1 1 0 0 0 1 0; 0 0 1 0 0 1 0 0 0 0 2 0; 0 0 1 0 0 0 0 1 0 0 2 0; 0 0 0 2 0 0 0 1 0 0 1 0; 0 0 0 2 0 0 0 1 0 0 1 0; 0 0 0 1 0 2 0 0 1 0 0 0; 0 0 0 2 0 1 0 0 1 0 0 0; 0 0 1 1 0 1 0 0 1 0 0 0; 0 0 0 1 0 2 0 0 0 0 1 0; 0 0 0 0 0 1 1 0 0 0 2 0; 0 0 1 0 0 1 0 0 0 0 2 0; 0 0 1 0 0 0 0 1 0 0 2 0; 0 0 0 2 0 0 0 1 0 0 1 0; 0 0 0 2 0 0 0 1 0 0 1 0; 0 0 0 0 0 2 0 0 1 0 1 0; 1 0 0 2 0 1 0 0 0 0 0 0]\n",
      "Key Counter is [2 1 12 29 0 27 6 9 8 0 31 1]\n",
      "Key Score is [51; 104; 29; 118; 45; 81; 103; 30; 107; 28; 110; 76]\n",
      "Position Counter for 4 is [29 0 27 6 9 8 0 31 1 2 1 12]\n",
      "Any[[4.0, 89.5, 1.0]]\n",
      "[4, 90, 1]\n",
      "4 D# Major\n",
      "Rhythm map: [\"S\", \"W\", \"S\", \"W\", \"S\", \"C\", \"C\", \"C\", \"S\", \"W\", \"S\", \"W\", \"S\", \"C\", \"C\", \"C\"] size: (16,)\n",
      "Amount of timesteps to optimise: 16\n",
      "Building lookup-table list...\n",
      "Lookup-table built.\n",
      "Initial function score upper bound: 499, voicing score upper bound: 499\n",
      "Starting search...\n",
      "New solution\n",
      "function cost: 159\n",
      "child voicing cost: 103\n",
      "Best yet: 262\n",
      "New solution\n",
      "function cost: 159\n",
      "child voicing cost: 102\n",
      "Best yet: 261\n",
      "New solution\n",
      "function cost: 156\n",
      "child voicing cost: 104\n",
      "Best yet: 260\n",
      "New solution\n",
      "function cost: 156\n",
      "child voicing cost: 100\n",
      "Best yet: 256\n",
      "New solution\n",
      "function cost: 165\n",
      "child voicing cost: 90\n",
      "Best yet: 255\n",
      "New solution\n",
      "function cost: 165\n",
      "child voicing cost: 88\n",
      "Best yet: 253\n",
      "New solution\n",
      "function cost: 165\n",
      "child voicing cost: 87\n",
      "Best yet: 252\n",
      "New solution\n",
      "function cost: 165\n",
      "child voicing cost: 85\n",
      "Best yet: 250\n",
      "New solution\n",
      "function cost: 147\n",
      "child voicing cost: 102\n",
      "Best yet: 249\n",
      "New solution\n",
      "function cost: 159\n",
      "child voicing cost: 89\n",
      "Best yet: 248\n",
      "New solution\n",
      "function cost: 159\n",
      "child voicing cost: 86\n",
      "Best yet: 245\n",
      "New solution\n",
      "function cost: 153\n",
      "child voicing cost: 91\n",
      "Best yet: 244\n",
      "New solution\n",
      "function cost: 153\n",
      "child voicing cost: 90\n",
      "Best yet: 243\n",
      "New solution\n",
      "function cost: 153\n",
      "child voicing cost: 88\n",
      "Best yet: 241\n",
      "New solution\n",
      "function cost: 135\n",
      "child voicing cost: 105\n",
      "Best yet: 240\n",
      "New solution\n",
      "function cost: 147\n",
      "child voicing cost: 92\n",
      "Best yet: 239\n",
      "New solution\n",
      "function cost: 147\n",
      "child voicing cost: 89\n",
      "Best yet: 236\n",
      "##: Done. Total checked: 116123, Pruned: 138559, completed: 17, time: 2.5209999084472656, efficiency: 6.743356056078019\n",
      "Results: bestval_func: 147, bestval_voices: 89\n",
      "[0 0 0 1 0 0 1 0 0 0 1 0; 0 0 1 0 0 1 0 0 1 0 0 0; 0 0 0 0 0 0 1 0 0 0 0 0; 0 0 1 0 0 1 0 0 0 0 1 0; 0 0 1 2 0 0 0 0 1 0 0 0; 0 0 0 2 0 1 0 0 0 0 1 0; 0 0 1 1 0 2 0 0 0 0 0 0; 0 1 0 1 0 1 0 0 0 0 1 0; 0 0 0 1 0 0 1 0 0 0 2 0; 1 0 0 1 0 1 0 0 0 0 1 0; 0 0 1 0 0 1 0 0 0 0 2 0; 0 0 1 0 0 0 0 1 0 0 2 0; 0 0 0 1 0 0 0 1 0 0 2 0; 0 0 0 2 0 0 0 1 0 0 1 0; 0 0 0 1 0 2 0 0 1 0 0 0; 0 0 0 1 0 2 0 0 1 0 0 0; 0 0 0 0 0 2 1 0 0 0 0 1; 0 0 1 0 0 1 1 0 0 0 1 0; 0 0 1 0 0 1 0 0 0 0 2 0; 0 0 1 0 0 0 0 1 0 0 2 0; 0 0 0 2 0 0 0 1 0 0 1 0; 0 0 0 2 0 0 0 1 0 0 1 0; 0 0 0 1 0 2 0 0 1 0 0 0; 0 0 0 2 0 1 0 0 1 0 0 0; 0 0 1 1 0 1 0 0 1 0 0 0; 0 0 0 1 0 2 0 0 0 0 1 0; 0 0 0 0 0 1 1 0 0 0 2 0; 0 0 1 0 0 1 0 0 0 0 2 0; 0 0 1 0 0 0 0 1 0 0 2 0; 0 0 0 2 0 0 0 1 0 0 1 0; 0 0 0 2 0 0 0 1 0 0 1 0; 0 0 0 0 0 2 0 0 1 0 1 0; 1 0 0 2 0 1 0 0 0 0 0 0]\n",
      "Key Counter is [2 1 12 29 0 27 6 9 8 0 31 1]\n",
      "Key Score is [51; 104; 29; 118; 45; 81; 103; 30; 107; 28; 110; 76]\n",
      "Position Counter for 4 is [29 0 27 6 9 8 0 31 1 2 1 12]\n",
      "Any[[4.0, 89.5, 1.0]]\n",
      "[4, 90, 1]\n",
      "4 D# Major\n",
      "Rhythm map: [\"W\", \"S\", \"W\", \"S\", \"W\", \"S\", \"W\", \"S\", \"W\", \"S\", \"W\", \"S\", \"W\", \"A\", \"A\", \"A\", \"A\"] size: (17,)\n",
      "Amount of timesteps to optimise: 17\n",
      "Building lookup-table list...\n",
      "Lookup-table built.\n",
      "Initial function score upper bound: 499, voicing score upper bound: 499\n",
      "Starting search...\n",
      "New solution\n",
      "function cost: 150\n",
      "child voicing cost: 94\n",
      "Best yet: 244\n",
      "New solution\n",
      "function cost: 150\n",
      "child voicing cost: 91\n",
      "Best yet: 241\n",
      "New solution\n",
      "function cost: 156\n",
      "child voicing cost: 82\n",
      "Best yet: 238\n",
      "New solution\n",
      "function cost: 138\n",
      "child voicing cost: 99\n",
      "Best yet: 237\n",
      "New solution\n",
      "function cost: 138\n",
      "child voicing cost: 96\n",
      "Best yet: 234\n",
      "New solution\n",
      "function cost: 138\n",
      "child voicing cost: 93\n",
      "Best yet: 231\n",
      "New solution\n",
      "function cost: 153\n",
      "child voicing cost: 76\n",
      "Best yet: 229\n",
      "New solution\n",
      "function cost: 144\n",
      "child voicing cost: 83\n",
      "Best yet: 227\n",
      "New solution\n",
      "function cost: 138\n",
      "child voicing cost: 86\n",
      "Best yet: 224\n",
      "New solution\n",
      "function cost: 138\n",
      "child voicing cost: 83\n",
      "Best yet: 221\n",
      "New solution\n",
      "function cost: 138\n",
      "child voicing cost: 80\n",
      "Best yet: 218\n"
     ]
    },
    {
     "data": {
      "text/plain": [
       "(3, \"T\", Tuple{Int16,Int16}[(51, 1), (51, 1), (58, 5), (67, 3)])"
      ]
     },
     "metadata": {},
     "output_type": "display_data"
    },
    {
     "data": {
      "text/plain": [
       "(0, \"D7/3\", Tuple{Int16,Int16}[(50, 3), (53, 5), (58, 1), (68, 7)])"
      ]
     },
     "metadata": {},
     "output_type": "display_data"
    },
    {
     "data": {
      "text/plain": [
       "(3, \"Ts\", Tuple{Int16,Int16}[(48, 1), (55, 5), (60, 1), (63, 3)])"
      ]
     },
     "metadata": {},
     "output_type": "display_data"
    },
    {
     "data": {
      "text/plain": [
       "(0, \"D\", Tuple{Int16,Int16}[(46, 1), (58, 1), (62, 3), (65, 5)])"
      ]
     },
     "metadata": {},
     "output_type": "display_data"
    },
    {
     "data": {
      "text/plain": [
       "(6, \"S/3\", Tuple{Int16,Int16}[(48, 3), (56, 1), (63, 5), (68, 1)])"
      ]
     },
     "metadata": {},
     "output_type": "display_data"
    },
    {
     "data": {
      "text/plain": [
       "(9, \"D/3\", Tuple{Int16,Int16}[(50, 3), (53, 5), (65, 5), (70, 1)])"
      ]
     },
     "metadata": {},
     "output_type": "display_data"
    },
    {
     "data": {
      "text/plain": [
       "(24, \"T\", Tuple{Int16,Int16}[(51, 1), (55, 3), (63, 1), (70, 5)])"
      ]
     },
     "metadata": {},
     "output_type": "display_data"
    },
    {
     "data": {
      "text/plain": [
       "(12, \"T\", Tuple{Int16,Int16}[(51, 1), (58, 5), (63, 1), (67, 3)])"
      ]
     },
     "metadata": {},
     "output_type": "display_data"
    },
    {
     "data": {
      "text/plain": [
       "(3, \"D54\", Tuple{Int16,Int16}[(46, 1), (58, 1), (63, 4), (65, 5)])"
      ]
     },
     "metadata": {},
     "output_type": "display_data"
    },
    {
     "data": {
      "text/plain": [
       "(9, \"D\", Tuple{Int16,Int16}[(46, 1), (58, 1), (62, 3), (65, 5)])"
      ]
     },
     "metadata": {},
     "output_type": "display_data"
    },
    {
     "data": {
      "text/plain": [
       "(21, \"S/3\", Tuple{Int16,Int16}[(48, 3), (56, 1), (63, 5), (68, 1)])"
      ]
     },
     "metadata": {},
     "output_type": "display_data"
    },
    {
     "data": {
      "text/plain": [
       "(6, \"D\", Tuple{Int16,Int16}[(46, 1), (53, 5), (62, 3), (70, 1)])"
      ]
     },
     "metadata": {},
     "output_type": "display_data"
    },
    {
     "data": {
      "text/plain": [
       "(6, \"D7-5\", Tuple{Int16,Int16}[(46, 1), (58, 1), (62, 3), (68, 7)])"
      ]
     },
     "metadata": {},
     "output_type": "display_data"
    },
    {
     "data": {
      "text/plain": [
       "(0, \"T\", Tuple{Int16,Int16}[(51, 1), (58, 5), (63, 1), (67, 3)])"
      ]
     },
     "metadata": {},
     "output_type": "display_data"
    },
    {
     "data": {
      "text/plain": [
       "(24, \"D\", Tuple{Int16,Int16}[(46, 1), (58, 1), (62, 3), (65, 5)])"
      ]
     },
     "metadata": {},
     "output_type": "display_data"
    },
    {
     "data": {
      "text/plain": [
       "(24, \"D\", Tuple{Int16,Int16}[(46, 1), (50, 3), (58, 1), (65, 5)])"
      ]
     },
     "metadata": {},
     "output_type": "display_data"
    },
    {
     "data": {
      "text/plain": [
       "(18, \"D7/7\", Tuple{Int16,Int16}[(44, 7), (50, 3), (58, 1), (65, 5)])"
      ]
     },
     "metadata": {},
     "output_type": "display_data"
    },
    {
     "data": {
      "text/plain": [
       "(12, \"T/3\", Tuple{Int16,Int16}[(43, 3), (51, 1), (58, 5), (63, 1)])"
      ]
     },
     "metadata": {},
     "output_type": "display_data"
    },
    {
     "data": {
      "text/plain": [
       "(0, \"D\", Tuple{Int16,Int16}[(46, 1), (53, 5), (58, 1), (62, 3)])"
      ]
     },
     "metadata": {},
     "output_type": "display_data"
    },
    {
     "data": {
      "text/plain": [
       "(3, \"D7-5\", Tuple{Int16,Int16}[(46, 1), (58, 1), (62, 3), (68, 7)])"
      ]
     },
     "metadata": {},
     "output_type": "display_data"
    },
    {
     "data": {
      "text/plain": [
       "(0, \"T\", Tuple{Int16,Int16}[(51, 1), (58, 5), (63, 1), (67, 3)])"
      ]
     },
     "metadata": {},
     "output_type": "display_data"
    },
    {
     "data": {
      "text/plain": [
       "(0, \"T\", Tuple{Int16,Int16}[(51, 1), (55, 3), (63, 1), (70, 5)])"
      ]
     },
     "metadata": {},
     "output_type": "display_data"
    },
    {
     "data": {
      "text/plain": [
       "(3, \"D7-1\", Tuple{Int16,Int16}[(53, 5), (56, 7), (62, 3), (68, 7)])"
      ]
     },
     "metadata": {},
     "output_type": "display_data"
    },
    {
     "data": {
      "text/plain": [
       "(9, \"D7-1\", Tuple{Int16,Int16}[(53, 5), (56, 7), (62, 3), (65, 5)])"
      ]
     },
     "metadata": {},
     "output_type": "display_data"
    },
    {
     "data": {
      "text/plain": [
       "(21, \"T\", Tuple{Int16,Int16}[(51, 1), (58, 5), (63, 1), (67, 3)])"
      ]
     },
     "metadata": {},
     "output_type": "display_data"
    },
    {
     "data": {
      "text/plain": [
       "(3, \"D/3\", Tuple{Int16,Int16}[(50, 3), (58, 1), (65, 5), (70, 1)])"
      ]
     },
     "metadata": {},
     "output_type": "display_data"
    },
    {
     "data": {
      "text/plain": [
       "(12, \"D\", Tuple{Int16,Int16}[(46, 1), (62, 3), (65, 5), (70, 1)])"
      ]
     },
     "metadata": {},
     "output_type": "display_data"
    },
    {
     "data": {
      "text/plain": [
       "(21, \"S/3\", Tuple{Int16,Int16}[(48, 3), (56, 1), (63, 5), (68, 1)])"
      ]
     },
     "metadata": {},
     "output_type": "display_data"
    },
    {
     "data": {
      "text/plain": [
       "(3, \"D64\", Tuple{Int16,Int16}[(46, 1), (58, 1), (63, 4), (67, 6)])"
      ]
     },
     "metadata": {},
     "output_type": "display_data"
    },
    {
     "data": {
      "text/plain": [
       "(18, \"D\", Tuple{Int16,Int16}[(46, 1), (58, 1), (62, 3), (65, 5)])"
      ]
     },
     "metadata": {},
     "output_type": "display_data"
    },
    {
     "data": {
      "text/plain": [
       "(0, \"T\", Tuple{Int16,Int16}[(51, 1), (58, 5), (63, 1), (67, 3)])"
      ]
     },
     "metadata": {},
     "output_type": "display_data"
    },
    {
     "data": {
      "text/plain": [
       "(0, \"T\", Tuple{Int16,Int16}[(51, 1), (58, 5), (63, 1), (67, 3)])"
      ]
     },
     "metadata": {},
     "output_type": "display_data"
    },
    {
     "name": "stdout",
     "output_type": "stream",
     "text": [
      "##: Done. Total checked: 56625, Pruned: 71400, completed: 11, time: 1.3970000743865967, efficiency: 7.8740153287607715\n",
      "Results: bestval_func: 138, bestval_voices: 80\n",
      "#Key: 4Scale: Major\n",
      "#Total time for optimisation of piece: 5.289999961853027\n",
      "#Total cost of piece: 454\n",
      "[\"T\", \"D7/3\", \"Ts\", \"D\", \"S/3\", \"D/3\", \"T\", \"T\", \"D54\", \"D\", \"S/3\", \"D\", \"D7-5\", \"T\", \"D\", \"D\", \"D7/7\", \"T/3\", \"D\", \"D7-5\", \"T\", \"T\", \"D7-1\", \"D7-1\", \"T\", \"D/3\", \"D\", \"S/3\", \"D64\", \"D\", \"T\", \"T\"]\n",
      "../../results/optimizer/pianoroll/M3-07-Weg-opt.csv\n",
      " End of file \n",
      " \n",
      "Optimising: ../../results/neuralnet/pianoroll/M3-11-Weich-nn.csv\n",
      "[0 1 0 0 0 1 0 0 0 0 2 0; 0 0 1 0 0 1 0 0 1 0 0 1; 0 0 0 0 0 0 2 0 0 0 1 0; 0 0 1 0 0 1 0 0 0 0 2 0; 0 0 0 2 0 0 1 0 0 0 1 0; 0 0 0 1 0 1 0 0 1 0 1 0; 0 0 0 1 0 2 0 0 1 0 0 0; 0 0 0 0 0 2 0 0 1 0 1 0; 0 0 1 2 0 0 0 0 0 0 1 0; 0 0 0 2 0 1 0 0 0 0 1 0; 1 0 0 0 0 1 1 0 0 0 1 0; 0 0 0 0 0 1 0 1 0 0 2 0; 0 0 0 1 0 0 0 1 0 0 2 0; 1 0 0 1 0 0 0 0 1 1 0 0; 2 0 1 0 0 1 0 0 0 0 0 0; 0 0 0 0 0 1 0 0 0 0 3 0; 0 0 0 0 0 2 1 0 0 1 0 0; 0 0 0 0 0 2 0 0 0 0 2 0; 1 0 0 1 0 0 0 0 0 1 1 0; 0 0 0 0 0 1 0 0 0 0 3 0; 0 0 0 1 0 2 0 0 0 0 1 0; 0 0 1 0 0 1 0 0 0 0 2 0; 0 0 0 1 0 1 1 0 0 0 1 0; 1 0 0 1 0 1 0 0 0 0 1 0; 0 0 0 2 0 0 1 0 0 0 1 0; 1 0 0 1 0 1 0 0 0 0 1 0; 0 0 1 0 0 1 0 0 0 0 2 0; 0 0 1 1 0 0 0 1 0 0 1 0; 0 0 0 2 0 0 0 1 0 0 1 0; 0 0 0 1 0 1 0 1 1 0 0 0; 1 0 0 1 0 1 0 0 1 0 0 0; 0 1 0 0 0 1 1 0 0 0 1 0; 0 1 0 0 0 0 1 0 0 0 2 0]\n",
      "Key Counter is [8 3 7 22 0 28 9 5 7 3 38 1]\n",
      "Key Score is [52; 115; 28; 115; 45; 89; 108; 33; 111; 30; 111; 80]\n",
      "Position Counter for 2 is [3 7 22 0 28 9 5 7 3 38 1 8]\n",
      "Position Counter for 4 is [22 0 28 9 5 7 3 38 1 8 3 7]\n",
      "Any[[2.0, 97.0, 0.0], [4.0, 84.25, 1.0]]\n",
      "[2, 97, 0]\n",
      "11 A# Minor\n",
      "Rhythm map: [\"S\", \"W\", \"S\", \"W\", \"S\", \"C\", \"C\", \"C\", \"S\", \"W\", \"S\", \"W\", \"S\", \"C\", \"C\", \"C\"] size: (16,)\n",
      "Amount of timesteps to optimise: 16\n",
      "Building lookup-table list...\n",
      "Lookup-table built.\n",
      "Initial function score upper bound: 499, voicing score upper bound: 499\n",
      "Starting search...\n",
      "New solution\n",
      "function cost: 168\n",
      "child voicing cost: 107\n",
      "Best yet: 275\n",
      "New solution\n",
      "function cost: 168\n",
      "child voicing cost: 106\n",
      "Best yet: 274\n",
      "New solution\n",
      "function cost: 168\n",
      "child voicing cost: 104\n",
      "Best yet: 272\n",
      "New solution\n",
      "function cost: 168\n",
      "child voicing cost: 101\n",
      "Best yet: 269\n",
      "New solution\n",
      "function cost: 165\n",
      "child voicing cost: 102\n",
      "Best yet: 267\n",
      "New solution\n",
      "function cost: 165\n",
      "child voicing cost: 99\n",
      "Best yet: 264\n",
      "New solution\n",
      "function cost: 159\n",
      "child voicing cost: 103\n",
      "Best yet: 262\n",
      "New solution\n",
      "function cost: 159\n",
      "child voicing cost: 100\n",
      "Best yet: 259\n",
      "New solution\n",
      "function cost: 165\n",
      "child voicing cost: 90\n",
      "Best yet: 255\n",
      "New solution\n",
      "function cost: 165\n",
      "child voicing cost: 89\n",
      "Best yet: 254\n",
      "New solution\n",
      "function cost: 156\n",
      "child voicing cost: 90\n",
      "Best yet: 246\n",
      "New solution\n",
      "function cost: 156\n",
      "child voicing cost: 88\n",
      "Best yet: 244\n",
      "New solution\n",
      "function cost: 159\n",
      "child voicing cost: 71\n",
      "Best yet: 230\n",
      "New solution\n",
      "function cost: 147\n",
      "child voicing cost: 78\n",
      "Best yet: 225\n",
      "New solution\n",
      "function cost: 141\n",
      "child voicing cost: 80\n",
      "Best yet: 221\n",
      "New solution\n",
      "function cost: 141\n",
      "child voicing cost: 78\n",
      "Best yet: 219\n",
      "New solution\n",
      "function cost: 141\n",
      "child voicing cost: 76\n",
      "Best yet: 217\n",
      "New solution\n",
      "function cost: 141\n",
      "child voicing cost: 75\n",
      "Best yet: 216\n",
      "New solution\n",
      "function cost: 129\n",
      "child voicing cost: 86\n",
      "Best yet: 215\n",
      "New solution\n",
      "function cost: 129\n",
      "child voicing cost: 85\n",
      "Best yet: 214\n",
      "New solution\n",
      "function cost: 129\n",
      "child voicing cost: 83\n",
      "Best yet: 212\n",
      "New solution\n",
      "function cost: 129\n",
      "child voicing cost: 81\n",
      "Best yet: 210\n",
      "New solution\n",
      "function cost: 129\n",
      "child voicing cost: 80\n",
      "Best yet: 209\n",
      "##: Done. Total checked: 198185, Pruned: 229788, completed: 23, time: 3.930999994277954, efficiency: 5.850928525433549\n",
      "Results: bestval_func: 129, bestval_voices: 80\n",
      "[0 1 0 0 0 1 0 0 0 0 2 0; 0 0 1 0 0 1 0 0 1 0 0 1; 0 0 0 0 0 0 2 0 0 0 1 0; 0 0 1 0 0 1 0 0 0 0 2 0; 0 0 0 2 0 0 1 0 0 0 1 0; 0 0 0 1 0 1 0 0 1 0 1 0; 0 0 0 1 0 2 0 0 1 0 0 0; 0 0 0 0 0 2 0 0 1 0 1 0; 0 0 1 2 0 0 0 0 0 0 1 0; 0 0 0 2 0 1 0 0 0 0 1 0; 1 0 0 0 0 1 1 0 0 0 1 0; 0 0 0 0 0 1 0 1 0 0 2 0; 0 0 0 1 0 0 0 1 0 0 2 0; 1 0 0 1 0 0 0 0 1 1 0 0; 2 0 1 0 0 1 0 0 0 0 0 0; 0 0 0 0 0 1 0 0 0 0 3 0; 0 0 0 0 0 2 1 0 0 1 0 0; 0 0 0 0 0 2 0 0 0 0 2 0; 1 0 0 1 0 0 0 0 0 1 1 0; 0 0 0 0 0 1 0 0 0 0 3 0; 0 0 0 1 0 2 0 0 0 0 1 0; 0 0 1 0 0 1 0 0 0 0 2 0; 0 0 0 1 0 1 1 0 0 0 1 0; 1 0 0 1 0 1 0 0 0 0 1 0; 0 0 0 2 0 0 1 0 0 0 1 0; 1 0 0 1 0 1 0 0 0 0 1 0; 0 0 1 0 0 1 0 0 0 0 2 0; 0 0 1 1 0 0 0 1 0 0 1 0; 0 0 0 2 0 0 0 1 0 0 1 0; 0 0 0 1 0 1 0 1 1 0 0 0; 1 0 0 1 0 1 0 0 1 0 0 0; 0 1 0 0 0 1 1 0 0 0 1 0; 0 1 0 0 0 0 1 0 0 0 2 0]\n",
      "Key Counter is [8 3 7 22 0 28 9 5 7 3 38 1]\n",
      "Key Score is [52; 115; 28; 115; 45; 89; 108; 33; 111; 30; 111; 80]\n",
      "Position Counter for 2 is [3 7 22 0 28 9 5 7 3 38 1 8]\n",
      "Position Counter for 4 is [22 0 28 9 5 7 3 38 1 8 3 7]\n",
      "Any[[2.0, 97.0, 0.0], [4.0, 84.25, 1.0]]\n",
      "[2, 97, 0]\n",
      "11 A# Minor\n",
      "Rhythm map: [\"W\", \"S\", \"W\", \"S\", \"W\", \"S\", \"W\", \"S\", \"W\", \"S\", \"W\", \"S\", \"W\", \"A\", \"A\", \"A\", \"A\"] size: (17,)\n",
      "Amount of timesteps to optimise: 17\n",
      "Building lookup-table list...\n",
      "Lookup-table built.\n",
      "Initial function score upper bound: 499, voicing score upper bound: 499\n",
      "Starting search...\n",
      "New solution\n",
      "function cost: 183\n",
      "child voicing cost: 66\n",
      "Best yet: 249\n",
      "New solution\n",
      "function cost: 171\n",
      "child voicing cost: 74\n",
      "Best yet: 245\n",
      "New solution\n",
      "function cost: 177\n",
      "child voicing cost: 66\n",
      "Best yet: 243\n",
      "New solution\n",
      "function cost: 162\n",
      "child voicing cost: 79\n",
      "Best yet: 241\n",
      "New solution\n",
      "function cost: 168\n",
      "child voicing cost: 71\n",
      "Best yet: 239\n",
      "New solution\n",
      "function cost: 162\n",
      "child voicing cost: 74\n",
      "Best yet: 236\n",
      "New solution\n",
      "function cost: 168\n",
      "child voicing cost: 66\n",
      "Best yet: 234\n",
      "New solution\n",
      "function cost: 147\n",
      "child voicing cost: 86\n",
      "Best yet: 233\n",
      "New solution\n",
      "function cost: 147\n",
      "child voicing cost: 81\n",
      "Best yet: 228\n",
      "New solution\n",
      "function cost: 147\n",
      "child voicing cost: 80\n",
      "Best yet: 227\n",
      "New solution\n",
      "function cost: 147\n",
      "child voicing cost: 78\n",
      "Best yet: 225\n",
      "New solution\n",
      "function cost: 147\n",
      "child voicing cost: 77\n",
      "Best yet: 224\n",
      "New solution\n",
      "function cost: 150\n",
      "child voicing cost: 72\n",
      "Best yet: 222\n",
      "New solution\n",
      "function cost: 150\n",
      "child voicing cost: 71\n",
      "Best yet: 221\n",
      "New solution\n",
      "function cost: 150\n",
      "child voicing cost: 69\n",
      "Best yet: 219\n",
      "New solution\n",
      "function cost: 150\n",
      "child voicing cost: 66\n",
      "Best yet: 216\n",
      "New solution\n",
      "function cost: 156\n",
      "child voicing cost: 58\n",
      "Best yet: 214\n",
      "New solution\n",
      "function cost: 150\n",
      "child voicing cost: 61\n",
      "Best yet: 211\n",
      "New solution\n",
      "function cost: 156\n",
      "child voicing cost: 53\n",
      "Best yet: 209\n"
     ]
    },
    {
     "data": {
      "text/plain": [
       "(0, \"T\", Tuple{Int16,Int16}[(46, 1), (58, 1), (65, 5), (73, 3)])"
      ]
     },
     "metadata": {},
     "output_type": "display_data"
    },
    {
     "data": {
      "text/plain": [
       "(9, \"D7\", Tuple{Int16,Int16}[(53, 1), (57, 3), (63, 7), (72, 5)])"
      ]
     },
     "metadata": {},
     "output_type": "display_data"
    },
    {
     "data": {
      "text/plain": [
       "(0, \"Ts\", Tuple{Int16,Int16}[(54, 1), (58, 3), (61, 5), (70, 3)])"
      ]
     },
     "metadata": {},
     "output_type": "display_data"
    },
    {
     "data": {
      "text/plain": [
       "(3, \"T/3\", Tuple{Int16,Int16}[(49, 3), (58, 1), (65, 5), (77, 5)])"
      ]
     },
     "metadata": {},
     "output_type": "display_data"
    },
    {
     "data": {
      "text/plain": [
       "(0, \"S\", Tuple{Int16,Int16}[(51, 1), (58, 5), (66, 3), (75, 1)])"
      ]
     },
     "metadata": {},
     "output_type": "display_data"
    },
    {
     "data": {
      "text/plain": [
       "(9, \"S/3\", Tuple{Int16,Int16}[(54, 3), (58, 5), (63, 1), (70, 5)])"
      ]
     },
     "metadata": {},
     "output_type": "display_data"
    },
    {
     "data": {
      "text/plain": [
       "(12, \"D\", Tuple{Int16,Int16}[(53, 1), (60, 5), (65, 1), (69, 3)])"
      ]
     },
     "metadata": {},
     "output_type": "display_data"
    },
    {
     "data": {
      "text/plain": [
       "(9, \"D\", Tuple{Int16,Int16}[(53, 1), (60, 5), (69, 3), (77, 1)])"
      ]
     },
     "metadata": {},
     "output_type": "display_data"
    },
    {
     "data": {
      "text/plain": [
       "(12, \"S/3\", Tuple{Int16,Int16}[(54, 3), (58, 5), (70, 5), (75, 1)])"
      ]
     },
     "metadata": {},
     "output_type": "display_data"
    },
    {
     "data": {
      "text/plain": [
       "(12, \"T/5\", Tuple{Int16,Int16}[(53, 5), (61, 3), (70, 1), (77, 5)])"
      ]
     },
     "metadata": {},
     "output_type": "display_data"
    },
    {
     "data": {
      "text/plain": [
       "(6, \"S65\", Tuple{Int16,Int16}[(51, 1), (60, 6), (70, 5), (78, 3)])"
      ]
     },
     "metadata": {},
     "output_type": "display_data"
    },
    {
     "data": {
      "text/plain": [
       "(15, \"D\", Tuple{Int16,Int16}[(53, 1), (60, 5), (69, 3), (77, 1)])"
      ]
     },
     "metadata": {},
     "output_type": "display_data"
    },
    {
     "data": {
      "text/plain": [
       "(3, \"S/3\", Tuple{Int16,Int16}[(54, 3), (63, 1), (70, 5), (75, 1)])"
      ]
     },
     "metadata": {},
     "output_type": "display_data"
    },
    {
     "data": {
      "text/plain": [
       "(9, \"D7/3\", Tuple{Int16,Int16}[(57, 3), (63, 7), (65, 1), (72, 5)])"
      ]
     },
     "metadata": {},
     "output_type": "display_data"
    },
    {
     "data": {
      "text/plain": [
       "(21, \"T\", Tuple{Int16,Int16}[(58, 1), (61, 3), (65, 5), (70, 1)])"
      ]
     },
     "metadata": {},
     "output_type": "display_data"
    },
    {
     "data": {
      "text/plain": [
       "(9, \"T\", Tuple{Int16,Int16}[(46, 1), (61, 3), (65, 5), (70, 1)])"
      ]
     },
     "metadata": {},
     "output_type": "display_data"
    },
    {
     "data": {
      "text/plain": [
       "(18, \"D/3\", Tuple{Int16,Int16}[(45, 3), (60, 5), (65, 1), (72, 5)])"
      ]
     },
     "metadata": {},
     "output_type": "display_data"
    },
    {
     "data": {
      "text/plain": [
       "(12, \"T\", Tuple{Int16,Int16}[(46, 1), (61, 3), (65, 5), (70, 1)])"
      ]
     },
     "metadata": {},
     "output_type": "display_data"
    },
    {
     "data": {
      "text/plain": [
       "(6, \"D7-1\", Tuple{Int16,Int16}[(48, 5), (60, 5), (63, 7), (69, 3)])"
      ]
     },
     "metadata": {},
     "output_type": "display_data"
    },
    {
     "data": {
      "text/plain": [
       "(9, \"T\", Tuple{Int16,Int16}[(46, 1), (61, 3), (65, 5), (70, 1)])"
      ]
     },
     "metadata": {},
     "output_type": "display_data"
    },
    {
     "data": {
      "text/plain": [
       "(9, \"S/3\", Tuple{Int16,Int16}[(42, 3), (58, 5), (63, 1), (75, 1)])"
      ]
     },
     "metadata": {},
     "output_type": "display_data"
    },
    {
     "data": {
      "text/plain": [
       "(3, \"T/5\", Tuple{Int16,Int16}[(41, 5), (58, 1), (65, 5), (73, 3)])"
      ]
     },
     "metadata": {},
     "output_type": "display_data"
    },
    {
     "data": {
      "text/plain": [
       "(6, \"S/3\", Tuple{Int16,Int16}[(42, 3), (58, 5), (63, 1), (70, 5)])"
      ]
     },
     "metadata": {},
     "output_type": "display_data"
    },
    {
     "data": {
      "text/plain": [
       "(9, \"D\", Tuple{Int16,Int16}[(41, 1), (60, 5), (65, 1), (69, 3)])"
      ]
     },
     "metadata": {},
     "output_type": "display_data"
    },
    {
     "data": {
      "text/plain": [
       "(0, \"S/3\", Tuple{Int16,Int16}[(42, 3), (58, 5), (63, 1), (75, 1)])"
      ]
     },
     "metadata": {},
     "output_type": "display_data"
    },
    {
     "data": {
      "text/plain": [
       "(3, \"D7/3\", Tuple{Int16,Int16}[(45, 3), (60, 5), (65, 1), (75, 7)])"
      ]
     },
     "metadata": {},
     "output_type": "display_data"
    },
    {
     "data": {
      "text/plain": [
       "(3, \"T\", Tuple{Int16,Int16}[(46, 1), (58, 1), (65, 5), (73, 3)])"
      ]
     },
     "metadata": {},
     "output_type": "display_data"
    },
    {
     "data": {
      "text/plain": [
       "(15, \"T/3\", Tuple{Int16,Int16}[(49, 3), (58, 1), (65, 5), (77, 5)])"
      ]
     },
     "metadata": {},
     "output_type": "display_data"
    },
    {
     "data": {
      "text/plain": [
       "(3, \"S\", Tuple{Int16,Int16}[(51, 1), (58, 5), (66, 3), (75, 1)])"
      ]
     },
     "metadata": {},
     "output_type": "display_data"
    },
    {
     "data": {
      "text/plain": [
       "(24, \"D\", Tuple{Int16,Int16}[(53, 1), (57, 3), (65, 1), (72, 5)])"
      ]
     },
     "metadata": {},
     "output_type": "display_data"
    },
    {
     "data": {
      "text/plain": [
       "(24, \"T\", Tuple{Int16,Int16}[(46, 1), (58, 1), (65, 5), (73, 3)])"
      ]
     },
     "metadata": {},
     "output_type": "display_data"
    },
    {
     "data": {
      "text/plain": [
       "(24, \"T\", Tuple{Int16,Int16}[(46, 1), (58, 1), (65, 5), (73, 3)])"
      ]
     },
     "metadata": {},
     "output_type": "display_data"
    },
    {
     "name": "stdout",
     "output_type": "stream",
     "text": [
      "##: Done. Total checked: 125079, Pruned: 146793, completed: 19, time: 2.700000047683716, efficiency: 7.037036912758493\n",
      "Results: bestval_func: 156, bestval_voices: 53\n",
      "#Key: 11Scale: Minor\n",
      "#Total time for optimisation of piece: 7.92900013923645\n",
      "#Total cost of piece: 418\n",
      "[\"T\", \"D7\", \"Ts\", \"T/3\", \"S\", \"S/3\", \"D\", \"D\", \"S/3\", \"T/5\", \"S65\", \"D\", \"S/3\", \"D7/3\", \"T\", \"T\", \"D/3\", \"T\", \"D7-1\", \"T\", \"S/3\", \"T/5\", \"S/3\", \"D\", \"S/3\", \"D7/3\", \"T\", \"T/3\", \"S\", \"D\", \"T\", \"T\"]\n",
      "../../results/optimizer/pianoroll/M3-11-Weich-opt.csv\n",
      " End of file \n",
      " \n",
      "Optimising: ../../results/neuralnet/pianoroll/MBM-03-kyrie-nn.csv\n",
      "[0 0 0 0 0 0 0 1 0 0 0 0; 0 0 0 0 0 1 0 0 0 0 0 0; 0 0 0 0 0 0 1 0 0 0 0 0; 0 0 0 0 0 0 1 0 0 0 0 0; 0 0 0 0 0 0 0 0 0 1 0 0; 0 0 0 0 0 0 0 1 1 0 1 1; 0 1 0 0 1 0 0 1 0 0 1 0; 1 1 0 0 1 0 0 1 0 0 0 0; 2 0 0 1 1 0 0 0 0 0 0 0; 0 0 0 1 1 0 0 0 2 0 0 0; 1 0 0 1 0 0 0 0 1 1 0 0; 0 1 0 0 0 1 0 0 0 1 1 0; 0 0 0 0 0 1 1 0 0 0 2 0; 0 0 0 0 0 0 1 0 1 1 1 0; 1 1 0 1 0 1 0 0 0 0 0 0; 1 1 0 0 0 1 1 0 0 0 0 0; 1 1 0 1 0 1 0 0 0 0 0 0; 0 0 0 1 0 1 0 0 0 0 1 1; 0 0 2 0 0 0 0 0 0 0 1 1; 0 0 2 0 0 0 0 1 0 0 1 0; 0 0 1 0 0 0 0 1 0 0 2 0; 0 0 1 0 0 0 0 1 0 0 2 0; 0 0 1 0 0 0 0 1 0 0 2 0; 0 0 1 0 1 1 0 0 0 0 1 0; 0 0 0 0 1 0 0 1 0 1 1 0; 0 0 0 0 1 0 0 1 0 1 1 0; 0 0 1 0 1 1 0 1 0 0 0 0; 0 0 2 0 0 1 0 1 0 0 0 0; 2 0 0 0 1 0 0 1 0 0 0 0; 1 0 0 0 1 1 0 1 0 0 0 0; 0 0 1 0 1 1 0 0 0 1 0 0; 0 0 1 0 0 1 0 1 0 1 0 0; 0 1 1 0 0 0 0 1 0 1 0 0]\n",
      "Key Counter is [10 7 14 6 11 13 5 16 5 9 18 3]\n",
      "Key Score is [76; 64; 65; 82; 46; 91; 57; 68; 75; 54; 86; 55]\n",
      "Position Counter for 6 is [13 5 16 5 9 18 3 10 7 14 6 11]\n",
      "Any[[6.0, 61.75, 1.0]]\n",
      "[6, 62, 1]\n",
      "6 F Major\n",
      "Rhythm map: [\"S\", \"W\", \"S\", \"W\", \"S\", \"C\", \"C\", \"C\", \"S\", \"W\", \"S\", \"W\", \"S\", \"C\", \"C\", \"C\"] size: (16,)\n",
      "Amount of timesteps to optimise: 16\n",
      "Building lookup-table list...\n",
      "Lookup-table built.\n",
      "Initial function score upper bound: 499, voicing score upper bound: 499\n",
      "Starting search...\n",
      "New solution\n",
      "function cost: 165\n",
      "child voicing cost: 85\n",
      "Best yet: 250\n",
      "New solution\n",
      "function cost: 168\n",
      "child voicing cost: 81\n",
      "Best yet: 249\n",
      "New solution\n",
      "function cost: 168\n",
      "child voicing cost: 78\n",
      "Best yet: 246\n",
      "New solution\n",
      "function cost: 165\n",
      "child voicing cost: 79\n",
      "Best yet: 244\n",
      "New solution\n",
      "function cost: 165\n",
      "child voicing cost: 76\n",
      "Best yet: 241\n",
      "New solution\n",
      "function cost: 171\n",
      "child voicing cost: 68\n",
      "Best yet: 239\n",
      "New solution\n",
      "function cost: 168\n",
      "child voicing cost: 70\n",
      "Best yet: 238\n",
      "New solution\n",
      "function cost: 168\n",
      "child voicing cost: 67\n",
      "Best yet: 235\n",
      "New solution\n",
      "function cost: 162\n",
      "child voicing cost: 70\n",
      "Best yet: 232\n",
      "##: Done. Total checked: 81043, Pruned: 96087, completed: 9, time: 1.7649998664855957, efficiency: 5.099150527371131\n",
      "Results: bestval_func: 162, bestval_voices: 70\n",
      "[0 0 0 0 0 0 0 1 0 0 0 0; 0 0 0 0 0 1 0 0 0 0 0 0; 0 0 0 0 0 0 1 0 0 0 0 0; 0 0 0 0 0 0 1 0 0 0 0 0; 0 0 0 0 0 0 0 0 0 1 0 0; 0 0 0 0 0 0 0 1 1 0 1 1; 0 1 0 0 1 0 0 1 0 0 1 0; 1 1 0 0 1 0 0 1 0 0 0 0; 2 0 0 1 1 0 0 0 0 0 0 0; 0 0 0 1 1 0 0 0 2 0 0 0; 1 0 0 1 0 0 0 0 1 1 0 0; 0 1 0 0 0 1 0 0 0 1 1 0; 0 0 0 0 0 1 1 0 0 0 2 0; 0 0 0 0 0 0 1 0 1 1 1 0; 1 1 0 1 0 1 0 0 0 0 0 0; 1 1 0 0 0 1 1 0 0 0 0 0; 1 1 0 1 0 1 0 0 0 0 0 0; 0 0 0 1 0 1 0 0 0 0 1 1; 0 0 2 0 0 0 0 0 0 0 1 1; 0 0 2 0 0 0 0 1 0 0 1 0; 0 0 1 0 0 0 0 1 0 0 2 0; 0 0 1 0 0 0 0 1 0 0 2 0; 0 0 1 0 0 0 0 1 0 0 2 0; 0 0 1 0 1 1 0 0 0 0 1 0; 0 0 0 0 1 0 0 1 0 1 1 0; 0 0 0 0 1 0 0 1 0 1 1 0; 0 0 1 0 1 1 0 1 0 0 0 0; 0 0 2 0 0 1 0 1 0 0 0 0; 2 0 0 0 1 0 0 1 0 0 0 0; 1 0 0 0 1 1 0 1 0 0 0 0; 0 0 1 0 1 1 0 0 0 1 0 0; 0 0 1 0 0 1 0 1 0 1 0 0; 0 1 1 0 0 0 0 1 0 1 0 0]\n",
      "Key Counter is [10 7 14 6 11 13 5 16 5 9 18 3]\n",
      "Key Score is [76; 64; 65; 82; 46; 91; 57; 68; 75; 54; 86; 55]\n",
      "Position Counter for 6 is [13 5 16 5 9 18 3 10 7 14 6 11]\n",
      "Any[[6.0, 61.75, 1.0]]\n",
      "[6, 62, 1]\n",
      "6 F Major\n",
      "Rhythm map: [\"W\", \"S\", \"W\", \"S\", \"W\", \"S\", \"W\", \"S\", \"W\", \"S\", \"W\", \"S\", \"W\", \"A\", \"A\", \"A\", \"A\"] size: (17,)\n",
      "Amount of timesteps to optimise: 17\n",
      "Building lookup-table list...\n",
      "Lookup-table built.\n",
      "Initial function score upper bound: 499, voicing score upper bound: 499\n",
      "Starting search...\n",
      "New solution\n",
      "function cost: 198\n",
      "child voicing cost: 79\n",
      "Best yet: 277\n",
      "New solution\n",
      "function cost: 198\n",
      "child voicing cost: 76\n",
      "Best yet: 274\n",
      "New solution\n",
      "function cost: 177\n",
      "child voicing cost: 91\n",
      "Best yet: 268\n",
      "New solution\n",
      "function cost: 177\n",
      "child voicing cost: 88\n",
      "Best yet: 265\n",
      "New solution\n",
      "function cost: 177\n",
      "child voicing cost: 85\n",
      "Best yet: 262\n",
      "New solution\n",
      "function cost: 171\n",
      "child voicing cost: 84\n",
      "Best yet: 255\n",
      "New solution\n",
      "function cost: 171\n",
      "child voicing cost: 81\n",
      "Best yet: 252\n",
      "New solution\n",
      "function cost: 171\n",
      "child voicing cost: 78\n",
      "Best yet: 249\n",
      "New solution\n",
      "function cost: 171\n",
      "child voicing cost: 76\n",
      "Best yet: 247\n",
      "New solution\n",
      "function cost: 171\n",
      "child voicing cost: 73\n",
      "Best yet: 244\n",
      "New solution\n",
      "function cost: 165\n",
      "child voicing cost: 78\n",
      "Best yet: 243\n",
      "New solution\n",
      "function cost: 165\n",
      "child voicing cost: 75\n",
      "Best yet: 240\n",
      "New solution\n",
      "function cost: 159\n",
      "child voicing cost: 77\n",
      "Best yet: 236\n",
      "New solution\n",
      "function cost: 159\n",
      "child voicing cost: 74\n",
      "Best yet: 233\n",
      "New solution\n",
      "function cost: 159\n",
      "child voicing cost: 71\n",
      "Best yet: 230\n",
      "New solution\n",
      "function cost: 159\n",
      "child voicing cost: 69\n",
      "Best yet: 228"
     ]
    },
    {
     "data": {
      "text/plain": [
       "(6, \"T\", Tuple{Int16,Int16}[(53, 1), (53, 1), (57, 3), (60, 5)])"
      ]
     },
     "metadata": {},
     "output_type": "display_data"
    },
    {
     "data": {
      "text/plain": [
       "(0, \"S\", Tuple{Int16,Int16}[(46, 1), (53, 5), (58, 1), (62, 3)])"
      ]
     },
     "metadata": {},
     "output_type": "display_data"
    },
    {
     "data": {
      "text/plain": [
       "(3, \"T/3\", Tuple{Int16,Int16}[(45, 3), (53, 1), (60, 5), (65, 1)])"
      ]
     },
     "metadata": {},
     "output_type": "display_data"
    },
    {
     "data": {
      "text/plain": [
       "(3, \"D/5\", Tuple{Int16,Int16}[(43, 5), (52, 3), (60, 1), (67, 5)])"
      ]
     },
     "metadata": {},
     "output_type": "display_data"
    },
    {
     "data": {
      "text/plain": [
       "(0, \"T\", Tuple{Int16,Int16}[(41, 1), (53, 1), (60, 5), (69, 3)])"
      ]
     },
     "metadata": {},
     "output_type": "display_data"
    },
    {
     "data": {
      "text/plain": [
       "(15, \"D7/3\", Tuple{Int16,Int16}[(40, 3), (55, 5), (58, 7), (60, 1)])"
      ]
     },
     "metadata": {},
     "output_type": "display_data"
    },
    {
     "data": {
      "text/plain": [
       "(15, \"T\", Tuple{Int16,Int16}[(41, 1), (53, 1), (57, 3), (60, 5)])"
      ]
     },
     "metadata": {},
     "output_type": "display_data"
    },
    {
     "data": {
      "text/plain": [
       "(21, \"T\", Tuple{Int16,Int16}[(41, 1), (48, 5), (57, 3), (65, 1)])"
      ]
     },
     "metadata": {},
     "output_type": "display_data"
    },
    {
     "data": {
      "text/plain": [
       "(18, \"D7/3\", Tuple{Int16,Int16}[(40, 3), (48, 1), (58, 7), (67, 5)])"
      ]
     },
     "metadata": {},
     "output_type": "display_data"
    },
    {
     "data": {
      "text/plain": [
       "(24, \"T\", Tuple{Int16,Int16}[(41, 1), (48, 5), (57, 3), (65, 1)])"
      ]
     },
     "metadata": {},
     "output_type": "display_data"
    },
    {
     "data": {
      "text/plain": [
       "(6, \"Tm\", Tuple{Int16,Int16}[(45, 1), (48, 3), (60, 3), (64, 5)])"
      ]
     },
     "metadata": {},
     "output_type": "display_data"
    },
    {
     "data": {
      "text/plain": [
       "(6, \"S\", Tuple{Int16,Int16}[(46, 1), (53, 5), (58, 1), (62, 3)])"
      ]
     },
     "metadata": {},
     "output_type": "display_data"
    },
    {
     "data": {
      "text/plain": [
       "(12, \"D7/3\", Tuple{Int16,Int16}[(40, 3), (55, 5), (60, 1), (70, 7)])"
      ]
     },
     "metadata": {},
     "output_type": "display_data"
    },
    {
     "data": {
      "text/plain": [
       "(18, \"T\", Tuple{Int16,Int16}[(41, 1), (53, 1), (60, 5), (69, 3)])"
      ]
     },
     "metadata": {},
     "output_type": "display_data"
    },
    {
     "data": {
      "text/plain": [
       "(12, \"D\", Tuple{Int16,Int16}[(48, 1), (52, 3), (60, 1), (67, 5)])"
      ]
     },
     "metadata": {},
     "output_type": "display_data"
    },
    {
     "data": {
      "text/plain": [
       "(9, \"D\", Tuple{Int16,Int16}[(48, 1), (52, 3), (55, 5), (60, 1)])"
      ]
     },
     "metadata": {},
     "output_type": "display_data"
    },
    {
     "data": {
      "text/plain": [
       "(18, \"D7/7\", Tuple{Int16,Int16}[(46, 7), (52, 3), (55, 5), (60, 1)])"
      ]
     },
     "metadata": {},
     "output_type": "display_data"
    },
    {
     "data": {
      "text/plain": [
       "(15, \"T/3\", Tuple{Int16,Int16}[(45, 3), (53, 1), (60, 5), (72, 5)])"
      ]
     },
     "metadata": {},
     "output_type": "display_data"
    },
    {
     "data": {
      "text/plain": [
       "(12, \"S\", Tuple{Int16,Int16}[(46, 1), (53, 5), (62, 3), (70, 1)])"
      ]
     },
     "metadata": {},
     "output_type": "display_data"
    },
    {
     "data": {
      "text/plain": [
       "(21, \"T/5\", Tuple{Int16,Int16}[(48, 5), (53, 1), (60, 5), (69, 3)])"
      ]
     },
     "metadata": {},
     "output_type": "display_data"
    },
    {
     "data": {
      "text/plain": [
       "(6, \"S\", Tuple{Int16,Int16}[(46, 1), (53, 5), (62, 3), (70, 1)])"
      ]
     },
     "metadata": {},
     "output_type": "display_data"
    },
    {
     "data": {
      "text/plain": [
       "(6, \"S\", Tuple{Int16,Int16}[(46, 1), (58, 1), (62, 3), (65, 5)])"
      ]
     },
     "metadata": {},
     "output_type": "display_data"
    },
    {
     "data": {
      "text/plain": [
       "(0, \"Ss\", Tuple{Int16,Int16}[(43, 1), (58, 3), (62, 5), (67, 1)])"
      ]
     },
     "metadata": {},
     "output_type": "display_data"
    },
    {
     "data": {
      "text/plain": [
       "(12, \"T\", Tuple{Int16,Int16}[(41, 1), (60, 5), (65, 1), (69, 3)])"
      ]
     },
     "metadata": {},
     "output_type": "display_data"
    },
    {
     "data": {
      "text/plain": [
       "(3, \"D7-1\", Tuple{Int16,Int16}[(43, 5), (58, 7), (64, 3), (67, 5)])"
      ]
     },
     "metadata": {},
     "output_type": "display_data"
    },
    {
     "data": {
      "text/plain": [
       "(3, \"D7-1\", Tuple{Int16,Int16}[(43, 5), (58, 7), (64, 3), (70, 7)])"
      ]
     },
     "metadata": {},
     "output_type": "display_data"
    },
    {
     "data": {
      "text/plain": [
       "(9, \"Ts\", Tuple{Int16,Int16}[(50, 1), (53, 3), (65, 3), (69, 5)])"
      ]
     },
     "metadata": {},
     "output_type": "display_data"
    },
    {
     "data": {
      "text/plain": [
       "(18, \"S/3\", Tuple{Int16,Int16}[(50, 3), (53, 5), (65, 5), (70, 1)])"
      ]
     },
     "metadata": {},
     "output_type": "display_data"
    },
    {
     "data": {
      "text/plain": [
       "(0, \"D\", Tuple{Int16,Int16}[(48, 1), (55, 5), (64, 3), (72, 1)])"
      ]
     },
     "metadata": {},
     "output_type": "display_data"
    },
    {
     "data": {
      "text/plain": [
       "(15, \"D\", Tuple{Int16,Int16}[(48, 1), (60, 1), (64, 3), (67, 5)])"
      ]
     },
     "metadata": {},
     "output_type": "display_data"
    },
    {
     "data": {
      "text/plain": [
       "(9, \"T\", Tuple{Int16,Int16}[(41, 1), (60, 5), (65, 1), (69, 3)])"
      ]
     },
     "metadata": {},
     "output_type": "display_data"
    },
    {
     "data": {
      "text/plain": [
       "(9, \"T\", Tuple{Int16,Int16}[(41, 1), (60, 5), (65, 1), (69, 3)])"
      ]
     },
     "metadata": {},
     "output_type": "display_data"
    },
    {
     "name": "stdout",
     "output_type": "stream",
     "text": [
      "\n",
      "##: Done. Total checked: 79650, Pruned: 89681, completed: 16, time: 1.751000165939331, efficiency: 9.137634770820673\n",
      "Results: bestval_func: 159, bestval_voices: 69\n",
      "#Key: 6Scale: Major\n",
      "#Total time for optimisation of piece: 5.161999940872192\n",
      "#Total cost of piece: 460\n",
      "[\"T\", \"S\", \"T/3\", \"D/5\", \"T\", \"D7/3\", \"T\", \"T\", \"D7/3\", \"T\", \"Tm\", \"S\", \"D7/3\", \"T\", \"D\", \"D\", \"D7/7\", \"T/3\", \"S\", \"T/5\", \"S\", \"S\", \"Ss\", \"T\", \"D7-1\", \"D7-1\", \"Ts\", \"S/3\", \"D\", \"D\", \"T\", \"T\"]\n",
      "../../results/optimizer/pianoroll/MBM-03-kyrie-opt.csv\n",
      " End of file \n",
      " \n",
      "Optimising: ../../results/neuralnet/pianoroll/MBM-06-grati-nn.csv\n",
      "[0 0 0 0 1 0 0 0 0 0 0 0; 0 0 0 0 0 0 1 0 0 1 0 0; 0 0 0 0 0 0 0 1 0 0 0 1; 0 1 0 0 1 0 0 0 0 0 0 0; 0 0 2 0 0 0 0 0 0 0 0 0; 0 0 1 0 0 0 0 1 0 0 0 2; 0 1 0 0 1 0 0 0 0 2 0 0; 0 0 0 0 0 0 2 0 0 1 0 1; 0 0 0 0 2 0 0 0 1 1 0 0; 0 2 1 0 0 0 0 0 0 1 0 0; 0 0 1 0 0 0 2 0 0 1 0 0; 0 0 1 0 0 0 0 0 1 0 0 2; 0 1 1 0 1 0 0 1 0 0 0 0; 0 0 1 0 0 0 1 0 0 2 0 0; 0 0 1 0 0 0 1 0 1 0 0 1; 0 1 1 0 1 0 0 0 0 1 0 0; 0 0 1 0 0 0 2 0 0 1 0 0; 0 0 1 0 1 0 0 0 1 1 0 0; 0 1 1 0 0 0 0 1 0 1 0 0; 0 0 1 0 0 0 2 0 0 1 0 0; 0 0 0 0 2 0 0 0 1 0 0 1; 0 0 1 0 0 0 1 0 0 1 0 1; 0 0 1 0 0 0 1 0 0 0 0 2; 0 0 2 0 1 0 0 0 0 0 0 1; 0 1 1 0 1 0 0 0 0 0 0 1; 0 0 1 0 1 0 1 0 0 0 0 1; 0 1 1 0 0 0 0 0 0 1 0 1; 0 0 1 0 0 0 0 0 0 2 0 1; 0 0 0 0 0 0 1 0 0 3 0 0; 0 0 1 0 0 0 0 0 0 3 0 0; 0 0 1 0 1 0 0 0 0 2 0 0; 0 0 1 0 0 0 1 0 0 2 0 0; 1 0 1 0 0 0 0 1 0 0 0 1]\n",
      "Key Counter is [1 9 26 0 14 0 16 5 5 28 0 17]\n",
      "Key Score is [91; 31; 115; 37; 89; 74; 47; 107; 20; 115; 60; 61]\n",
      "Position Counter for 3 is [26 0 14 0 16 5 5 28 0 17 1 9]\n",
      "Position Counter for 10 is [28 0 17 1 9 26 0 14 0 16 5 5]\n",
      "Any[[3.0, 79.75, 1.0], [10.0, 83.5, 1.0]]\n",
      "[10, 84, 1]\n",
      "10 A Major\n",
      "Rhythm map: [\"S\", \"W\", \"S\", \"W\", \"S\", \"C\", \"C\", \"C\", \"S\", \"W\", \"S\", \"W\", \"S\", \"C\", \"C\", \"C\"] size: (16,)\n",
      "Amount of timesteps to optimise: 16\n",
      "Building lookup-table list...\n",
      "Lookup-table built.\n",
      "Initial function score upper bound: 499, voicing score upper bound: 499\n",
      "Starting search...\n",
      "New solution\n",
      "function cost: 150\n",
      "child voicing cost: 126\n",
      "Best yet: 276\n",
      "New solution\n",
      "function cost: 150\n",
      "child voicing cost: 123\n",
      "Best yet: 273\n",
      "New solution\n",
      "function cost: 150\n",
      "child voicing cost: 114\n",
      "Best yet: 264\n",
      "New solution\n",
      "function cost: 150\n",
      "child voicing cost: 109\n",
      "Best yet: 259\n",
      "New solution\n",
      "function cost: 138\n",
      "child voicing cost: 120\n",
      "Best yet: 258\n",
      "New solution\n",
      "function cost: 135\n",
      "child voicing cost: 120\n",
      "Best yet: 255\n",
      "New solution\n",
      "function cost: 150\n",
      "child voicing cost: 98\n",
      "Best yet: 248\n",
      "New solution\n",
      "function cost: 150\n",
      "child voicing cost: 95\n",
      "Best yet: 245\n",
      "New solution\n",
      "function cost: 150\n",
      "child voicing cost: 92\n",
      "Best yet: 242\n",
      "New solution\n",
      "function cost: 138\n",
      "child voicing cost: 103\n",
      "Best yet: 241\n",
      "New solution\n",
      "function cost: 129\n",
      "child voicing cost: 109\n",
      "Best yet: 238\n",
      "New solution\n",
      "function cost: 129\n",
      "child voicing cost: 107\n",
      "Best yet: 236\n",
      "New solution\n",
      "function cost: 129\n",
      "child voicing cost: 106\n",
      "Best yet: 235\n",
      "New solution\n",
      "function cost: 129\n",
      "child voicing cost: 105\n",
      "Best yet: 234\n",
      "New solution\n",
      "function cost: 129\n",
      "child voicing cost: 104\n",
      "Best yet: 233\n",
      "New solution\n",
      "function cost: 126\n",
      "child voicing cost: 106\n",
      "Best yet: 232\n",
      "New solution\n",
      "function cost: 126\n",
      "child voicing cost: 104\n",
      "Best yet: 230\n",
      "New solution\n",
      "function cost: 132\n",
      "child voicing cost: 97\n",
      "Best yet: 229\n",
      "New solution\n",
      "function cost: 132\n",
      "child voicing cost: 95\n",
      "Best yet: 227\n",
      "New solution\n",
      "function cost: 132\n",
      "child voicing cost: 94\n",
      "Best yet: 226\n",
      "New solution\n",
      "function cost: 132\n",
      "child voicing cost: 93\n",
      "Best yet: 225\n",
      "New solution\n",
      "function cost: 138\n",
      "child voicing cost: 86\n",
      "Best yet: 224\n",
      "New solution\n",
      "function cost: 138\n",
      "child voicing cost: 84\n",
      "Best yet: 222\n",
      "New solution\n",
      "function cost: 138\n",
      "child voicing cost: 82\n",
      "Best yet: 220\n",
      "New solution\n",
      "function cost: 138\n",
      "child voicing cost: 78\n",
      "Best yet: 216\n",
      "New solution\n",
      "function cost: 138\n",
      "child voicing cost: 77\n",
      "Best yet: 215\n",
      "New solution\n",
      "function cost: 123\n",
      "child voicing cost: 91\n",
      "Best yet: 214\n",
      "New solution\n",
      "function cost: 129\n",
      "child voicing cost: 83\n",
      "Best yet: 212\n",
      "New solution\n",
      "function cost: 114\n",
      "child voicing cost: 97\n",
      "Best yet: 211\n",
      "New solution\n",
      "function cost: 114\n",
      "child voicing cost: 96\n",
      "Best yet: 210\n",
      "New solution\n",
      "function cost: 114\n",
      "child voicing cost: 95\n",
      "Best yet: 209\n",
      "New solution\n",
      "function cost: 117\n",
      "child voicing cost: 91\n",
      "Best yet: 208\n",
      "New solution\n",
      "function cost: 117\n",
      "child voicing cost: 90\n",
      "Best yet: 207\n",
      "New solution\n",
      "function cost: 123\n",
      "child voicing cost: 83\n",
      "Best yet: 206\n",
      "New solution\n",
      "function cost: 129\n",
      "child voicing cost: 76\n",
      "Best yet: 205\n",
      "New solution\n",
      "function cost: 117\n",
      "child voicing cost: 87\n",
      "Best yet: 204\n",
      "New solution\n",
      "function cost: 117\n",
      "child voicing cost: 85\n",
      "Best yet: 202\n",
      "New solution\n",
      "function cost: 117\n",
      "child voicing cost: 84\n",
      "Best yet: 201\n",
      "New solution\n",
      "function cost: 117\n",
      "child voicing cost: 83\n",
      "Best yet: 200\n",
      "New solution\n",
      "function cost: 108\n",
      "child voicing cost: 90\n",
      "Best yet: 198\n",
      "New solution\n",
      "function cost: 108\n",
      "child voicing cost: 89\n",
      "Best yet: 197\n",
      "New solution\n",
      "function cost: 108\n",
      "child voicing cost: 88\n",
      "Best yet: 196\n",
      "New solution\n",
      "function cost: 111\n",
      "child voicing cost: 84\n",
      "Best yet: 195\n",
      "New solution\n",
      "function cost: 111\n",
      "child voicing cost: 83\n",
      "Best yet: 194\n",
      "New solution\n",
      "function cost: 117\n",
      "child voicing cost: 76\n",
      "Best yet: 193\n",
      "New solution\n",
      "function cost: 123\n",
      "child voicing cost: 69\n",
      "Best yet: 192\n",
      "New solution\n",
      "function cost: 111\n",
      "child voicing cost: 80\n",
      "Best yet: 191\n",
      "New solution\n",
      "function cost: 111\n",
      "child voicing cost: 78\n",
      "Best yet: 189\n",
      "New solution\n",
      "function cost: 111\n",
      "child voicing cost: 77\n",
      "Best yet: 188\n",
      "New solution\n",
      "function cost: 111\n",
      "child voicing cost: 76\n",
      "Best yet: 187\n",
      "##: Done. Total checked: 234039, Pruned: 268203, completed: 50, time: 5.059000015258789, efficiency: 9.883376131486786\n",
      "Results: bestval_func: 111, bestval_voices: 76\n",
      "[0 0 0 0 1 0 0 0 0 0 0 0; 0 0 0 0 0 0 1 0 0 1 0 0; 0 0 0 0 0 0 0 1 0 0 0 1; 0 1 0 0 1 0 0 0 0 0 0 0; 0 0 2 0 0 0 0 0 0 0 0 0; 0 0 1 0 0 0 0 1 0 0 0 2; 0 1 0 0 1 0 0 0 0 2 0 0; 0 0 0 0 0 0 2 0 0 1 0 1; 0 0 0 0 2 0 0 0 1 1 0 0; 0 2 1 0 0 0 0 0 0 1 0 0; 0 0 1 0 0 0 2 0 0 1 0 0; 0 0 1 0 0 0 0 0 1 0 0 2; 0 1 1 0 1 0 0 1 0 0 0 0; 0 0 1 0 0 0 1 0 0 2 0 0; 0 0 1 0 0 0 1 0 1 0 0 1; 0 1 1 0 1 0 0 0 0 1 0 0; 0 0 1 0 0 0 2 0 0 1 0 0; 0 0 1 0 1 0 0 0 1 1 0 0; 0 1 1 0 0 0 0 1 0 1 0 0; 0 0 1 0 0 0 2 0 0 1 0 0; 0 0 0 0 2 0 0 0 1 0 0 1; 0 0 1 0 0 0 1 0 0 1 0 1; 0 0 1 0 0 0 1 0 0 0 0 2; 0 0 2 0 1 0 0 0 0 0 0 1; 0 1 1 0 1 0 0 0 0 0 0 1; 0 0 1 0 1 0 1 0 0 0 0 1; 0 1 1 0 0 0 0 0 0 1 0 1; 0 0 1 0 0 0 0 0 0 2 0 1; 0 0 0 0 0 0 1 0 0 3 0 0; 0 0 1 0 0 0 0 0 0 3 0 0; 0 0 1 0 1 0 0 0 0 2 0 0; 0 0 1 0 0 0 1 0 0 2 0 0; 1 0 1 0 0 0 0 1 0 0 0 1]\n",
      "Key Counter is [1 9 26 0 14 0 16 5 5 28 0 17]\n",
      "Key Score is [91; 31; 115; 37; 89; 74; 47; 107; 20; 115; 60; 61]\n",
      "Position Counter for 3 is [26 0 14 0 16 5 5 28 0 17 1 9]\n",
      "Position Counter for 10 is [28 0 17 1 9 26 0 14 0 16 5 5]\n",
      "Any[[3.0, 79.75, 1.0], [10.0, 83.5, 1.0]]\n",
      "[10, 84, 1]\n",
      "10 A Major\n",
      "Rhythm map: [\"W\", \"S\", \"W\", \"S\", \"W\", \"S\", \"W\", \"S\", \"W\", \"S\", \"W\", \"S\", \"W\", \"A\", \"A\", \"A\", \"A\"] size: (17,)\n",
      "Amount of timesteps to optimise: 17\n",
      "Building lookup-table list...\n",
      "Lookup-table built.\n",
      "Initial function score upper bound: 499, voicing score upper bound: 499\n",
      "Starting search...\n",
      "New solution\n",
      "function cost: 207\n",
      "child voicing cost: 82\n",
      "Best yet: 289\n",
      "New solution\n",
      "function cost: 204\n",
      "child voicing cost: 76\n",
      "Best yet: 280\n",
      "New solution\n",
      "function cost: 204\n",
      "child voicing cost: 73\n",
      "Best yet: 277\n",
      "New solution\n",
      "function cost: 195\n",
      "child voicing cost: 81\n",
      "Best yet: 276\n",
      "New solution\n",
      "function cost: 195\n",
      "child voicing cost: 78\n",
      "Best yet: 273\n",
      "New solution\n",
      "function cost: 195\n",
      "child voicing cost: 76\n",
      "Best yet: 271\n",
      "New solution\n",
      "function cost: 195\n",
      "child voicing cost: 74\n",
      "Best yet: 269\n",
      "New solution\n",
      "function cost: 195\n",
      "child voicing cost: 69\n",
      "Best yet: 264\n",
      "New solution\n",
      "function cost: 195\n",
      "child voicing cost: 66\n",
      "Best yet: 261\n",
      "New solution\n",
      "function cost: 186\n",
      "child voicing cost: 74\n",
      "Best yet: 260\n",
      "New solution\n",
      "function cost: 186\n",
      "child voicing cost: 71\n",
      "Best yet: 257\n",
      "New solution\n",
      "function cost: 186\n",
      "child voicing cost: 68\n",
      "Best yet: 254\n",
      "New solution\n",
      "function cost: 180\n",
      "child voicing cost: 72\n",
      "Best yet: 252\n",
      "New solution\n",
      "function cost: 180\n",
      "child voicing cost: 69\n",
      "Best yet: 249\n",
      "New solution\n",
      "function cost: 165\n",
      "child voicing cost: 81\n",
      "Best yet: 246\n",
      "New solution\n",
      "function cost: 165\n",
      "child voicing cost: 78\n",
      "Best yet: 243\n",
      "New solution\n",
      "function cost: 165\n",
      "child voicing cost: 76\n",
      "Best yet: 241\n",
      "New solution\n",
      "function cost: 165\n",
      "child voicing cost: 70\n",
      "Best yet: 235\n",
      "New solution\n",
      "function cost: 165\n",
      "child voicing cost: 67\n",
      "Best yet: 232\n"
     ]
    },
    {
     "data": {
      "text/plain": [
       "(0, \"T\", Tuple{Int16,Int16}[(57, 1), (57, 1), (61, 3), (64, 5)])"
      ]
     },
     "metadata": {},
     "output_type": "display_data"
    },
    {
     "data": {
      "text/plain": [
       "(0, \"Ts\", Tuple{Int16,Int16}[(54, 1), (57, 3), (61, 5), (66, 1)])"
      ]
     },
     "metadata": {},
     "output_type": "display_data"
    },
    {
     "data": {
      "text/plain": [
       "(3, \"D\", Tuple{Int16,Int16}[(52, 1), (59, 5), (64, 1), (68, 3)])"
      ]
     },
     "metadata": {},
     "output_type": "display_data"
    },
    {
     "data": {
      "text/plain": [
       "(0, \"T/3\", Tuple{Int16,Int16}[(49, 3), (57, 1), (64, 5), (69, 1)])"
      ]
     },
     "metadata": {},
     "output_type": "display_data"
    },
    {
     "data": {
      "text/plain": [
       "(0, \"S\", Tuple{Int16,Int16}[(50, 1), (57, 5), (62, 1), (66, 3)])"
      ]
     },
     "metadata": {},
     "output_type": "display_data"
    },
    {
     "data": {
      "text/plain": [
       "(3, \"D7-1\", Tuple{Int16,Int16}[(47, 5), (59, 5), (62, 7), (68, 3)])"
      ]
     },
     "metadata": {},
     "output_type": "display_data"
    },
    {
     "data": {
      "text/plain": [
       "(0, \"T\", Tuple{Int16,Int16}[(45, 1), (61, 3), (64, 5), (69, 1)])"
      ]
     },
     "metadata": {},
     "output_type": "display_data"
    },
    {
     "data": {
      "text/plain": [
       "(21, \"T\", Tuple{Int16,Int16}[(45, 1), (57, 1), (64, 5), (73, 3)])"
      ]
     },
     "metadata": {},
     "output_type": "display_data"
    },
    {
     "data": {
      "text/plain": [
       "(12, \"D7/3\", Tuple{Int16,Int16}[(44, 3), (59, 5), (64, 1), (74, 7)])"
      ]
     },
     "metadata": {},
     "output_type": "display_data"
    },
    {
     "data": {
      "text/plain": [
       "(18, \"T\", Tuple{Int16,Int16}[(45, 1), (57, 1), (64, 5), (73, 3)])"
      ]
     },
     "metadata": {},
     "output_type": "display_data"
    },
    {
     "data": {
      "text/plain": [
       "(15, \"S65/6\", Tuple{Int16,Int16}[(47, 6), (57, 5), (62, 1), (66, 3)])"
      ]
     },
     "metadata": {},
     "output_type": "display_data"
    },
    {
     "data": {
      "text/plain": [
       "(0, \"D7-1\", Tuple{Int16,Int16}[(47, 5), (59, 5), (62, 7), (68, 3)])"
      ]
     },
     "metadata": {},
     "output_type": "display_data"
    },
    {
     "data": {
      "text/plain": [
       "(12, \"T/3\", Tuple{Int16,Int16}[(49, 3), (57, 1), (64, 5), (69, 1)])"
      ]
     },
     "metadata": {},
     "output_type": "display_data"
    },
    {
     "data": {
      "text/plain": [
       "(0, \"S/3\", Tuple{Int16,Int16}[(54, 3), (57, 5), (62, 1), (62, 1)])"
      ]
     },
     "metadata": {},
     "output_type": "display_data"
    },
    {
     "data": {
      "text/plain": [
       "(12, \"D\", Tuple{Int16,Int16}[(52, 1), (56, 3), (59, 5), (64, 1)])"
      ]
     },
     "metadata": {},
     "output_type": "display_data"
    },
    {
     "data": {
      "text/plain": [
       "(15, \"D\", Tuple{Int16,Int16}[(40, 1), (56, 3), (59, 5), (64, 1)])"
      ]
     },
     "metadata": {},
     "output_type": "display_data"
    },
    {
     "data": {
      "text/plain": [
       "(9, \"S/3\", Tuple{Int16,Int16}[(42, 3), (50, 1), (57, 5), (62, 1)])"
      ]
     },
     "metadata": {},
     "output_type": "display_data"
    },
    {
     "data": {
      "text/plain": [
       "(6, \"T/5\", Tuple{Int16,Int16}[(40, 5), (49, 3), (57, 1), (64, 5)])"
      ]
     },
     "metadata": {},
     "output_type": "display_data"
    },
    {
     "data": {
      "text/plain": [
       "(6, \"S/3\", Tuple{Int16,Int16}[(42, 3), (50, 1), (57, 5), (69, 5)])"
      ]
     },
     "metadata": {},
     "output_type": "display_data"
    },
    {
     "data": {
      "text/plain": [
       "(3, \"Ts\", Tuple{Int16,Int16}[(42, 1), (49, 5), (57, 3), (66, 1)])"
      ]
     },
     "metadata": {},
     "output_type": "display_data"
    },
    {
     "data": {
      "text/plain": [
       "(0, \"D/3\", Tuple{Int16,Int16}[(44, 3), (47, 5), (59, 5), (64, 1)])"
      ]
     },
     "metadata": {},
     "output_type": "display_data"
    },
    {
     "data": {
      "text/plain": [
       "(15, \"T\", Tuple{Int16,Int16}[(45, 1), (49, 3), (57, 1), (64, 5)])"
      ]
     },
     "metadata": {},
     "output_type": "display_data"
    },
    {
     "data": {
      "text/plain": [
       "(0, \"Ss\", Tuple{Int16,Int16}[(47, 1), (50, 3), (54, 5), (62, 3)])"
      ]
     },
     "metadata": {},
     "output_type": "display_data"
    },
    {
     "data": {
      "text/plain": [
       "(12, \"D7-1\", Tuple{Int16,Int16}[(47, 5), (50, 7), (59, 5), (68, 3)])"
      ]
     },
     "metadata": {},
     "output_type": "display_data"
    },
    {
     "data": {
      "text/plain": [
       "(12, \"T/3\", Tuple{Int16,Int16}[(49, 3), (52, 5), (57, 1), (69, 1)])"
      ]
     },
     "metadata": {},
     "output_type": "display_data"
    },
    {
     "data": {
      "text/plain": [
       "(6, \"D7/5\", Tuple{Int16,Int16}[(47, 5), (52, 1), (56, 3), (62, 7)])"
      ]
     },
     "metadata": {},
     "output_type": "display_data"
    },
    {
     "data": {
      "text/plain": [
       "(12, \"T\", Tuple{Int16,Int16}[(45, 1), (52, 5), (57, 1), (61, 3)])"
      ]
     },
     "metadata": {},
     "output_type": "display_data"
    },
    {
     "data": {
      "text/plain": [
       "(18, \"S/3\", Tuple{Int16,Int16}[(42, 3), (50, 1), (57, 5), (62, 1)])"
      ]
     },
     "metadata": {},
     "output_type": "display_data"
    },
    {
     "data": {
      "text/plain": [
       "(30, \"D\", Tuple{Int16,Int16}[(40, 1), (56, 3), (59, 5), (64, 1)])"
      ]
     },
     "metadata": {},
     "output_type": "display_data"
    },
    {
     "data": {
      "text/plain": [
       "(24, \"D7\", Tuple{Int16,Int16}[(40, 1), (56, 3), (59, 5), (62, 7)])"
      ]
     },
     "metadata": {},
     "output_type": "display_data"
    },
    {
     "data": {
      "text/plain": [
       "(3, \"T\", Tuple{Int16,Int16}[(45, 1), (52, 5), (57, 1), (61, 3)])"
      ]
     },
     "metadata": {},
     "output_type": "display_data"
    },
    {
     "data": {
      "text/plain": [
       "(3, \"T\", Tuple{Int16,Int16}[(45, 1), (52, 5), (57, 1), (61, 3)])"
      ]
     },
     "metadata": {},
     "output_type": "display_data"
    },
    {
     "name": "stdout",
     "output_type": "stream",
     "text": [
      "##: Done. Total checked: 107341, Pruned: 124519, completed: 19, time: 2.309999942779541, efficiency: 8.225108428850424\n",
      "Results: bestval_func: 165, bestval_voices: 67\n",
      "#Key: 10Scale: Major\n",
      "#Total time for optimisation of piece: 8.714999914169312\n",
      "#Total cost of piece: 419\n",
      "[\"T\", \"Ts\", \"D\", \"T/3\", \"S\", \"D7-1\", \"T\", \"T\", \"D7/3\", \"T\", \"S65/6\", \"D7-1\", \"T/3\", \"S/3\", \"D\", \"D\", \"S/3\", \"T/5\", \"S/3\", \"Ts\", \"D/3\", \"T\", \"Ss\", \"D7-1\", \"T/3\", \"D7/5\", \"T\", \"S/3\", \"D\", \"D7\", \"T\", \"T\"]\n",
      "../../results/optimizer/pianoroll/MBM-06-grati-opt.csv\n",
      " End of file \n",
      " \n",
      "Optimising: ../../results/neuralnet/pianoroll/MBM-08-quitl-nn.csv\n",
      "[0 0 1 0 0 0 0 0 0 0 0 0; 0 0 0 0 0 0 0 0 0 0 0 1; 0 0 0 0 0 0 0 0 0 0 0 1; 0 0 0 0 0 0 0 0 0 0 0 1; 0 0 0 0 1 0 0 1 0 0 0 0; 1 0 0 0 0 0 2 0 0 1 0 0; 0 0 0 0 0 0 2 0 0 2 0 0; 0 0 0 0 0 0 2 1 0 1 0 0; 0 0 0 0 0 0 2 2 0 0 0 0; 0 0 0 0 0 0 1 1 0 0 0 2; 0 0 0 0 1 0 1 1 0 0 0 1; 0 1 1 0 0 0 0 1 0 0 0 1; 0 1 1 0 1 0 0 1 0 0 0 0; 0 1 1 0 1 0 0 0 0 1 0 0; 0 1 1 0 0 0 0 0 0 1 0 1; 0 0 1 0 1 0 0 0 0 2 0 0; 0 0 1 0 1 0 0 0 0 1 0 1; 0 0 1 0 1 0 0 0 0 1 0 1; 0 1 2 0 1 0 0 0 0 0 0 0; 0 1 1 0 1 0 0 0 0 0 0 1; 0 1 1 0 1 0 0 0 0 1 0 0; 0 1 2 0 1 0 0 0 0 0 0 0; 0 0 2 0 0 0 0 0 0 0 0 2; 0 0 2 0 1 0 0 0 0 1 0 0; 0 0 1 0 1 0 0 0 0 2 0 0; 0 0 1 0 1 0 1 0 0 1 0 0; 0 0 2 0 1 0 0 0 0 0 0 1; 0 0 1 0 1 0 1 0 0 1 0 0; 0 0 1 0 0 0 1 0 0 2 0 0; 0 0 1 0 1 0 0 1 0 0 0 1; 0 0 1 0 1 0 1 0 0 0 0 1; 0 0 1 0 1 0 0 1 0 0 0 1; 0 0 1 0 1 0 1 0 0 0 0 1]\n",
      "Key Counter is [1 8 28 0 20 0 15 10 0 18 0 18]\n",
      "Key Score is [95; 24; 117; 39; 79; 77; 41; 110; 19; 107; 57; 61]\n",
      "Position Counter for 3 is [28 0 20 0 15 10 0 18 0 18 1 8]\n",
      "Any[[3.0, 77.25, 1.0]]\n",
      "[3, 77, 1]\n",
      "3 D Major\n",
      "Rhythm map: [\"S\", \"W\", \"S\", \"W\", \"S\", \"C\", \"C\", \"C\", \"S\", \"W\", \"S\", \"W\", \"S\", \"C\", \"C\", \"C\"] size: (16,)\n",
      "Amount of timesteps to optimise: 16\n",
      "Building lookup-table list...\n",
      "Lookup-table built.\n",
      "Initial function score upper bound: 499, voicing score upper bound: 499\n",
      "Starting search...\n",
      "New solution\n",
      "function cost: 198\n",
      "child voicing cost: 90\n",
      "Best yet: 288\n",
      "New solution\n",
      "function cost: 198\n",
      "child voicing cost: 89\n",
      "Best yet: 287\n",
      "New solution\n",
      "function cost: 192\n",
      "child voicing cost: 89\n",
      "Best yet: 281\n",
      "New solution\n",
      "function cost: 192\n",
      "child voicing cost: 85\n",
      "Best yet: 277\n",
      "New solution\n",
      "function cost: 192\n",
      "child voicing cost: 83\n",
      "Best yet: 275\n",
      "New solution\n",
      "function cost: 192\n",
      "child voicing cost: 80\n",
      "Best yet: 272\n",
      "New solution\n",
      "function cost: 192\n",
      "child voicing cost: 77\n",
      "Best yet: 269\n",
      "New solution\n",
      "function cost: 180\n",
      "child voicing cost: 87\n",
      "Best yet: 267\n",
      "New solution\n",
      "function cost: 177\n",
      "child voicing cost: 84\n",
      "Best yet: 261\n",
      "New solution\n",
      "function cost: 177\n",
      "child voicing cost: 79\n",
      "Best yet: 256\n",
      "##: Done. Total checked: 81895, Pruned: 98087, completed: 10, time: 1.7720000743865967, efficiency: 5.643340620886624\n",
      "Results: bestval_func: 177, bestval_voices: 79\n",
      "[0 0 1 0 0 0 0 0 0 0 0 0; 0 0 0 0 0 0 0 0 0 0 0 1; 0 0 0 0 0 0 0 0 0 0 0 1; 0 0 0 0 0 0 0 0 0 0 0 1; 0 0 0 0 1 0 0 1 0 0 0 0; 1 0 0 0 0 0 2 0 0 1 0 0; 0 0 0 0 0 0 2 0 0 2 0 0; 0 0 0 0 0 0 2 1 0 1 0 0; 0 0 0 0 0 0 2 2 0 0 0 0; 0 0 0 0 0 0 1 1 0 0 0 2; 0 0 0 0 1 0 1 1 0 0 0 1; 0 1 1 0 0 0 0 1 0 0 0 1; 0 1 1 0 1 0 0 1 0 0 0 0; 0 1 1 0 1 0 0 0 0 1 0 0; 0 1 1 0 0 0 0 0 0 1 0 1; 0 0 1 0 1 0 0 0 0 2 0 0; 0 0 1 0 1 0 0 0 0 1 0 1; 0 0 1 0 1 0 0 0 0 1 0 1; 0 1 2 0 1 0 0 0 0 0 0 0; 0 1 1 0 1 0 0 0 0 0 0 1; 0 1 1 0 1 0 0 0 0 1 0 0; 0 1 2 0 1 0 0 0 0 0 0 0; 0 0 2 0 0 0 0 0 0 0 0 2; 0 0 2 0 1 0 0 0 0 1 0 0; 0 0 1 0 1 0 0 0 0 2 0 0; 0 0 1 0 1 0 1 0 0 1 0 0; 0 0 2 0 1 0 0 0 0 0 0 1; 0 0 1 0 1 0 1 0 0 1 0 0; 0 0 1 0 0 0 1 0 0 2 0 0; 0 0 1 0 1 0 0 1 0 0 0 1; 0 0 1 0 1 0 1 0 0 0 0 1; 0 0 1 0 1 0 0 1 0 0 0 1; 0 0 1 0 1 0 1 0 0 0 0 1]\n",
      "Key Counter is [1 8 28 0 20 0 15 10 0 18 0 18]\n",
      "Key Score is [95; 24; 117; 39; 79; 77; 41; 110; 19; 107; 57; 61]\n",
      "Position Counter for 3 is [28 0 20 0 15 10 0 18 0 18 1 8]\n",
      "Any[[3.0, 77.25, 1.0]]\n",
      "[3, 77, 1]\n",
      "3 D Major\n",
      "Rhythm map: [\"W\", \"S\", \"W\", \"S\", \"W\", \"S\", \"W\", \"S\", \"W\", \"S\", \"W\", \"S\", \"W\", \"A\", \"A\", \"A\", \"A\"] size: (17,)\n",
      "Amount of timesteps to optimise: 17\n",
      "Building lookup-table list...\n",
      "Lookup-table built.\n",
      "Initial function score upper bound: 499, voicing score upper bound: 499\n",
      "Starting search...\n",
      "New solution\n",
      "function cost: 207\n",
      "child voicing cost: 97\n",
      "Best yet: 304\n",
      "New solution\n",
      "function cost: 171\n",
      "child voicing cost: 84\n",
      "Best yet: 255\n",
      "New solution\n",
      "function cost: 183\n",
      "child voicing cost: 65\n",
      "Best yet: 248"
     ]
    },
    {
     "data": {
      "text/plain": [
       "(0, \"T\", Tuple{Int16,Int16}[(50, 1), (50, 1), (57, 5), (66, 3)])"
      ]
     },
     "metadata": {},
     "output_type": "display_data"
    },
    {
     "data": {
      "text/plain": [
       "(0, \"Ts\", Tuple{Int16,Int16}[(47, 1), (50, 3), (59, 1), (66, 5)])"
      ]
     },
     "metadata": {},
     "output_type": "display_data"
    },
    {
     "data": {
      "text/plain": [
       "(6, \"D\", Tuple{Int16,Int16}[(45, 1), (52, 5), (61, 3), (69, 1)])"
      ]
     },
     "metadata": {},
     "output_type": "display_data"
    },
    {
     "data": {
      "text/plain": [
       "(0, \"S/3\", Tuple{Int16,Int16}[(47, 3), (50, 5), (62, 5), (67, 1)])"
      ]
     },
     "metadata": {},
     "output_type": "display_data"
    },
    {
     "data": {
      "text/plain": [
       "(0, \"D7/3\", Tuple{Int16,Int16}[(49, 3), (57, 1), (64, 5), (67, 7)])"
      ]
     },
     "metadata": {},
     "output_type": "display_data"
    },
    {
     "data": {
      "text/plain": [
       "(18, \"T\", Tuple{Int16,Int16}[(50, 1), (57, 5), (62, 1), (66, 3)])"
      ]
     },
     "metadata": {},
     "output_type": "display_data"
    },
    {
     "data": {
      "text/plain": [
       "(21, \"D\", Tuple{Int16,Int16}[(45, 1), (57, 1), (61, 3), (64, 5)])"
      ]
     },
     "metadata": {},
     "output_type": "display_data"
    },
    {
     "data": {
      "text/plain": [
       "(27, \"D\", Tuple{Int16,Int16}[(45, 1), (49, 3), (57, 1), (64, 5)])"
      ]
     },
     "metadata": {},
     "output_type": "display_data"
    },
    {
     "data": {
      "text/plain": [
       "(24, \"T/3\", Tuple{Int16,Int16}[(42, 3), (50, 1), (57, 5), (69, 5)])"
      ]
     },
     "metadata": {},
     "output_type": "display_data"
    },
    {
     "data": {
      "text/plain": [
       "(12, \"S\", Tuple{Int16,Int16}[(43, 1), (50, 5), (59, 3), (67, 1)])"
      ]
     },
     "metadata": {},
     "output_type": "display_data"
    },
    {
     "data": {
      "text/plain": [
       "(9, \"S/3\", Tuple{Int16,Int16}[(47, 3), (50, 5), (62, 5), (67, 1)])"
      ]
     },
     "metadata": {},
     "output_type": "display_data"
    },
    {
     "data": {
      "text/plain": [
       "(6, \"Ts\", Tuple{Int16,Int16}[(47, 1), (50, 3), (62, 3), (66, 5)])"
      ]
     },
     "metadata": {},
     "output_type": "display_data"
    },
    {
     "data": {
      "text/plain": [
       "(6, \"S65\", Tuple{Int16,Int16}[(43, 1), (52, 6), (62, 5), (71, 3)])"
      ]
     },
     "metadata": {},
     "output_type": "display_data"
    },
    {
     "data": {
      "text/plain": [
       "(15, \"D\", Tuple{Int16,Int16}[(45, 1), (52, 5), (61, 3), (69, 1)])"
      ]
     },
     "metadata": {},
     "output_type": "display_data"
    },
    {
     "data": {
      "text/plain": [
       "(18, \"T\", Tuple{Int16,Int16}[(50, 1), (54, 3), (62, 1), (69, 5)])"
      ]
     },
     "metadata": {},
     "output_type": "display_data"
    },
    {
     "data": {
      "text/plain": [
       "(15, \"T\", Tuple{Int16,Int16}[(50, 1), (54, 3), (57, 5), (62, 1)])"
      ]
     },
     "metadata": {},
     "output_type": "display_data"
    },
    {
     "data": {
      "text/plain": [
       "(9, \"D/3\", Tuple{Int16,Int16}[(49, 3), (52, 5), (57, 1), (64, 5)])"
      ]
     },
     "metadata": {},
     "output_type": "display_data"
    },
    {
     "data": {
      "text/plain": [
       "(12, \"S/3\", Tuple{Int16,Int16}[(47, 3), (50, 5), (55, 1), (67, 1)])"
      ]
     },
     "metadata": {},
     "output_type": "display_data"
    },
    {
     "data": {
      "text/plain": [
       "(21, \"D/3\", Tuple{Int16,Int16}[(49, 3), (52, 5), (57, 1), (64, 5)])"
      ]
     },
     "metadata": {},
     "output_type": "display_data"
    },
    {
     "data": {
      "text/plain": [
       "(9, \"Ts\", Tuple{Int16,Int16}[(47, 1), (54, 5), (59, 1), (62, 3)])"
      ]
     },
     "metadata": {},
     "output_type": "display_data"
    },
    {
     "data": {
      "text/plain": [
       "(6, \"D/3\", Tuple{Int16,Int16}[(49, 3), (52, 5), (57, 1), (69, 1)])"
      ]
     },
     "metadata": {},
     "output_type": "display_data"
    },
    {
     "data": {
      "text/plain": [
       "(18, \"T\", Tuple{Int16,Int16}[(50, 1), (54, 3), (62, 1), (69, 5)])"
      ]
     },
     "metadata": {},
     "output_type": "display_data"
    },
    {
     "data": {
      "text/plain": [
       "(0, \"Ts\", Tuple{Int16,Int16}[(47, 1), (54, 5), (62, 3), (71, 1)])"
      ]
     },
     "metadata": {},
     "output_type": "display_data"
    },
    {
     "data": {
      "text/plain": [
       "(9, \"D/3\", Tuple{Int16,Int16}[(49, 3), (52, 5), (57, 1), (64, 5)])"
      ]
     },
     "metadata": {},
     "output_type": "display_data"
    },
    {
     "data": {
      "text/plain": [
       "(15, \"T\", Tuple{Int16,Int16}[(50, 1), (54, 3), (57, 5), (62, 1)])"
      ]
     },
     "metadata": {},
     "output_type": "display_data"
    },
    {
     "data": {
      "text/plain": [
       "(6, \"D7/5\", Tuple{Int16,Int16}[(52, 5), (55, 7), (57, 1), (61, 3)])"
      ]
     },
     "metadata": {},
     "output_type": "display_data"
    },
    {
     "data": {
      "text/plain": [
       "(12, \"T\", Tuple{Int16,Int16}[(50, 1), (54, 3), (57, 5), (62, 1)])"
      ]
     },
     "metadata": {},
     "output_type": "display_data"
    },
    {
     "data": {
      "text/plain": [
       "(24, \"S/3\", Tuple{Int16,Int16}[(47, 3), (55, 1), (62, 5), (67, 1)])"
      ]
     },
     "metadata": {},
     "output_type": "display_data"
    },
    {
     "data": {
      "text/plain": [
       "(0, \"D64\", Tuple{Int16,Int16}[(45, 1), (57, 1), (62, 4), (66, 6)])"
      ]
     },
     "metadata": {},
     "output_type": "display_data"
    },
    {
     "data": {
      "text/plain": [
       "(15, \"D\", Tuple{Int16,Int16}[(45, 1), (57, 1), (61, 3), (64, 5)])"
      ]
     },
     "metadata": {},
     "output_type": "display_data"
    },
    {
     "data": {
      "text/plain": [
       "(12, \"T\", Tuple{Int16,Int16}[(50, 1), (54, 3), (57, 5), (62, 1)])"
      ]
     },
     "metadata": {},
     "output_type": "display_data"
    },
    {
     "data": {
      "text/plain": [
       "(12, \"T\", Tuple{Int16,Int16}[(50, 1), (54, 3), (57, 5), (62, 1)])"
      ]
     },
     "metadata": {},
     "output_type": "display_data"
    },
    {
     "name": "stdout",
     "output_type": "stream",
     "text": [
      "\n",
      "##: Done. Total checked: 66090, Pruned: 74948, completed: 3, time: 1.4300000667572021, efficiency: 2.0979019999649875\n",
      "Results: bestval_func: 183, bestval_voices: 65\n",
      "#Key: 3Scale: Major\n",
      "#Total time for optimisation of piece: 4.563999891281128\n",
      "#Total cost of piece: 504\n",
      "[\"T\", \"Ts\", \"D\", \"S/3\", \"D7/3\", \"T\", \"D\", \"D\", \"T/3\", \"S\", \"S/3\", \"Ts\", \"S65\", \"D\", \"T\", \"T\", \"D/3\", \"S/3\", \"D/3\", \"Ts\", \"D/3\", \"T\", \"Ts\", \"D/3\", \"T\", \"D7/5\", \"T\", \"S/3\", \"D64\", \"D\", \"T\", \"T\"]\n",
      "../../results/optimizer/pianoroll/MBM-08-quitl-opt.csv\n",
      " End of file \n",
      " \n",
      "Optimising: ../../results/neuralnet/pianoroll/MBM-13-patrm-nn.csv\n",
      "[0 1 0 0 1 0 0 0 0 1 0 0; 0 1 0 0 1 0 0 0 0 1 0 0; 0 0 1 0 0 0 1 0 0 1 0 0; 0 0 0 0 0 0 0 0 0 0 0 0; 0 1 0 0 1 0 0 0 0 1 0 0; 0 0 0 0 2 0 0 0 1 1 0 0; 0 0 0 0 1 0 0 0 1 2 0 0; 0 1 0 0 1 0 0 0 0 2 0 0; 0 0 0 0 0 0 1 0 2 0 0 1; 0 0 0 0 1 0 0 0 2 1 0 0; 0 0 0 0 0 0 3 0 0 1 0 0; 0 0 0 0 1 0 2 0 0 0 0 1; 0 0 0 0 3 0 0 0 0 0 0 1; 0 0 0 0 3 0 0 0 0 0 0 1; 0 0 0 0 1 0 0 0 0 3 0 0; 0 1 0 0 1 0 0 0 0 2 0 0; 0 0 0 0 1 0 0 0 1 1 0 1; 0 1 0 0 1 0 0 0 0 2 0 0; 0 1 0 0 1 0 0 0 0 2 0 0; 0 1 0 0 1 0 0 0 0 1 0 1; 0 0 1 0 0 0 0 0 0 1 0 2; 0 1 0 0 1 0 1 0 0 1 0 0; 0 0 1 0 0 0 2 0 0 1 0 0; 0 1 0 0 1 0 0 0 0 1 0 1; 0 0 2 0 1 0 0 0 0 1 0 0; 0 0 1 0 2 0 0 0 0 0 0 1; 0 1 0 0 1 0 0 0 0 2 0 0; 0 1 0 0 1 0 0 0 0 2 0 0; 0 0 2 0 1 0 0 0 0 1 0 0; 0 0 2 0 0 0 0 0 0 0 0 2; 0 2 1 0 0 0 1 0 0 0 0 0; 0 0 2 0 0 0 2 0 0 0 0 0; 0 0 2 0 1 0 0 0 0 0 0 1]\n",
      "Key Counter is [0 14 15 0 30 0 13 0 7 32 0 13]\n",
      "Key Score is [90; 34; 117; 22; 109; 77; 47; 103; 21; 124; 47; 77]\n",
      "Position Counter for 10 is [32 0 13 0 14 15 0 30 0 13 0 7]\n",
      "Any[[10.0, 94.0, 1.0]]\n",
      "[10, 94, 1]\n",
      "10 A Major\n",
      "Rhythm map: [\"S\", \"W\", \"S\", \"W\", \"S\", \"C\", \"C\", \"C\", \"S\", \"W\", \"S\", \"W\", \"S\", \"C\", \"C\", \"C\"] size: (16,)\n",
      "Amount of timesteps to optimise: 16\n",
      "Building lookup-table list...\n",
      "Lookup-table built.\n",
      "Initial function score upper bound: 499, voicing score upper bound: 499\n",
      "Starting search...\n",
      "New solution\n",
      "function cost: 174\n",
      "child voicing cost: 115\n",
      "Best yet: 289\n",
      "New solution\n",
      "function cost: 174\n",
      "child voicing cost: 114\n",
      "Best yet: 288\n",
      "New solution\n",
      "function cost: 174\n",
      "child voicing cost: 112\n",
      "Best yet: 286\n",
      "New solution\n",
      "function cost: 171\n",
      "child voicing cost: 114\n",
      "Best yet: 285\n",
      "New solution\n",
      "function cost: 171\n",
      "child voicing cost: 112\n",
      "Best yet: 283\n",
      "New solution\n",
      "function cost: 174\n",
      "child voicing cost: 108\n",
      "Best yet: 282\n",
      "New solution\n",
      "function cost: 174\n",
      "child voicing cost: 103\n",
      "Best yet: 277\n",
      "New solution\n",
      "function cost: 186\n",
      "child voicing cost: 89\n",
      "Best yet: 275\n",
      "New solution\n",
      "function cost: 177\n",
      "child voicing cost: 96\n",
      "Best yet: 273\n",
      "New solution\n",
      "function cost: 177\n",
      "child voicing cost: 95\n",
      "Best yet: 272\n",
      "New solution\n",
      "function cost: 183\n",
      "child voicing cost: 88\n",
      "Best yet: 271\n",
      "New solution\n",
      "function cost: 183\n",
      "child voicing cost: 83\n",
      "Best yet: 266\n",
      "New solution\n",
      "function cost: 168\n",
      "child voicing cost: 97\n",
      "Best yet: 265\n",
      "New solution\n",
      "function cost: 171\n",
      "child voicing cost: 93\n",
      "Best yet: 264\n",
      "New solution\n",
      "function cost: 171\n",
      "child voicing cost: 92\n",
      "Best yet: 263\n",
      "New solution\n",
      "function cost: 180\n",
      "child voicing cost: 81\n",
      "Best yet: 261\n",
      "New solution\n",
      "function cost: 180\n",
      "child voicing cost: 70\n",
      "Best yet: 250\n",
      "Iterations done: 10000\n",
      "Nodes in active set: 423\n",
      "Lowest depth: 5 current depth: 14\n",
      "Iterations done: 20000\n",
      "Nodes in active set: 383\n",
      "Lowest depth: 5 current depth: 15\n",
      "Iterations done: 30000\n",
      "Nodes in active set: 410\n",
      "Lowest depth: 5 current depth: 14\n",
      "Iterations done: 40000\n",
      "Nodes in active set: 453\n",
      "Lowest depth: 5 current depth: 14\n",
      "Iterations done: 50000\n",
      "Nodes in active set: 379\n",
      "Lowest depth: 5 current depth: 13\n",
      "Iterations done: 60000\n",
      "Nodes in active set: 363\n",
      "Lowest depth: 5 current depth: 14\n",
      "Iterations done: 70000\n",
      "Nodes in active set: 346\n",
      "Lowest depth: 5 current depth: 14\n",
      "Iterations done: 80000\n",
      "Nodes in active set: 340\n",
      "Lowest depth: 5 current depth: 13\n",
      "Iterations done: 90000\n",
      "Nodes in active set: 423\n",
      "Lowest depth: 5 current depth: 12\n",
      "Iterations done: 100000\n",
      "Nodes in active set: 386\n",
      "Lowest depth: 5 current depth: 14\n",
      "Iterations done: 110000\n",
      "Nodes in active set: 434\n",
      "Lowest depth: 5 current depth: 14\n",
      "Iterations done: 120000\n",
      "Nodes in active set: 407\n",
      "Lowest depth: 5 current depth: 14\n",
      "Iterations done: 130000\n",
      "Nodes in active set: 311\n",
      "Lowest depth: 5 current depth: 12\n",
      "Iterations done: 140000\n",
      "Nodes in active set: 431\n",
      "Lowest depth: 5 current depth: 14\n",
      "Iterations done: 150000\n",
      "Nodes in active set: 434\n",
      "Lowest depth: 5 current depth: 14\n",
      "Iterations done: 160000\n",
      "Nodes in active set: 350\n",
      "Lowest depth: 5 current depth: 14\n",
      "Iterations done: 170000\n",
      "Nodes in active set: 337\n",
      "Lowest depth: 5 current depth: 14\n",
      "Iterations done: 180000\n",
      "Nodes in active set: 330\n",
      "Lowest depth: 5 current depth: 12\n",
      "Iterations done: 190000\n",
      "Nodes in active set: 364\n",
      "Lowest depth: 5 current depth: 13\n",
      "Iterations done: 200000\n",
      "Nodes in active set: 371\n",
      "Lowest depth: 5 current depth: 13\n",
      "Iterations done: 210000\n",
      "Nodes in active set: 360\n",
      "Lowest depth: 5 current depth: 12\n",
      "Iterations done: 220000\n",
      "Nodes in active set: 385\n",
      "Lowest depth: 5 current depth: 12\n",
      "Iterations done: 230000\n",
      "Nodes in active set: 370\n",
      "Lowest depth: 5 current depth: 12\n",
      "Iterations done: 240000\n",
      "Nodes in active set: 402\n",
      "Lowest depth: 5 current depth: 14\n",
      "Iterations done: 250000\n",
      "Nodes in active set: 410\n",
      "Lowest depth: 5 current depth: 14\n",
      "Iterations done: 260000\n",
      "Nodes in active set: 384\n",
      "Lowest depth: 5 current depth: 13\n",
      "Iterations done: 270000\n",
      "Nodes in active set: 361\n",
      "Lowest depth: 5 current depth: 12\n",
      "Iterations done: 280000\n",
      "Nodes in active set: 404\n",
      "Lowest depth: 5 current depth: 14\n",
      "Iterations done: 290000\n",
      "Nodes in active set: 367\n",
      "Lowest depth: 5 current depth: 14\n",
      "Iterations done: 300000\n",
      "Nodes in active set: 302\n",
      "Lowest depth: 5 current depth: 11\n",
      "Iterations done: 310000\n",
      "Nodes in active set: 348\n",
      "Lowest depth: 5 current depth: 14\n",
      "Iterations done: 320000\n",
      "Nodes in active set: 345\n",
      "Lowest depth: 5 current depth: 12\n",
      "Iterations done: 330000\n",
      "Nodes in active set: 343\n",
      "Lowest depth: 5 current depth: 12\n",
      "Iterations done: 340000\n",
      "Nodes in active set: 334\n",
      "Lowest depth: 5 current depth: 12\n",
      "Iterations done: 350000\n",
      "Nodes in active set: 350\n",
      "Lowest depth: 5 current depth: 12\n",
      "Iterations done: 360000\n",
      "Nodes in active set: 335\n",
      "Lowest depth: 5 current depth: 12\n",
      "Iterations done: 370000\n",
      "Nodes in active set: 289\n",
      "Lowest depth: 5 current depth: 12\n",
      "Iterations done: 380000\n",
      "Nodes in active set: 289\n",
      "Lowest depth: 5 current depth: 12\n",
      "Iterations done: 390000\n",
      "Nodes in active set: 416\n",
      "Lowest depth: 5 current depth: 14\n",
      "Iterations done: 400000\n",
      "Nodes in active set: 370\n",
      "Lowest depth: 5 current depth: 14\n",
      "Iterations done: 410000\n",
      "Nodes in active set: 288\n",
      "Lowest depth: 5 current depth: 13\n",
      "Iterations done: 420000\n",
      "Nodes in active set: 304\n",
      "Lowest depth: 5 current depth: 14\n",
      "Iterations done: 430000\n",
      "Nodes in active set: 324\n",
      "Lowest depth: 5 current depth: 12\n",
      "Iterations done: 440000\n",
      "Nodes in active set: 287\n",
      "Lowest depth: 5 current depth: 12\n",
      "Iterations done: 450000\n",
      "Nodes in active set: 306\n",
      "Lowest depth: 5 current depth: 12\n",
      "Iterations done: 460000\n",
      "Nodes in active set: 245\n",
      "Lowest depth: 5 current depth: 12\n",
      "Iterations done: 470000\n",
      "Nodes in active set: 294\n",
      "Lowest depth: 5 current depth: 12\n",
      "Iterations done: 480000\n",
      "Nodes in active set: 291\n",
      "Lowest depth: 5 current depth: 12\n",
      "Iterations done: 490000\n",
      "Nodes in active set: 330\n",
      "Lowest depth: 5 current depth: 12\n"
     ]
    },
    {
     "data": {
      "text/plain": [
       "candidateSequence(Tuple{Int8,String,Array{Tuple{Int16,Int16},1}}[(0, \"T\", [(57, 1), (57, 1), (64, 5), (73, 3)]), (0, \"T\", [(57, 1), (61, 3), (64, 5), (69, 1)]), (0, \"S65\", [(50, 1), (59, 6), (66, 3), (69, 5)]), (0, \"D\", [(52, 1), (59, 5), (64, 1), (68, 3)]), (6, \"D7/3\", [(56, 3), (59, 5), (62, 7), (64, 1)]), (12, \"T\", [(57, 1), (57, 1), (61, 3), (64, 5)]), (27, \"S\", [(50, 1), (57, 5), (62, 1), (66, 3)]), (18, \"S\", [(50, 1), (57, 5), (66, 3), (74, 1)]), (12, \"Ts\", [(54, 1), (57, 3), (66, 1), (73, 5)]), (18, \"D\", [(52, 1), (59, 5), (68, 3), (76, 1)]), (21, \"S/3\", [(54, 3), (57, 5), (69, 5), (74, 1)]), (21, \"Ts\", [(54, 1), (57, 3), (69, 3), (73, 5)]), (9, \"D-5\", [(52, 1), (64, 1), (68, 3), (76, 1)]), (15, \"D7-5\", [(52, 1), (64, 1), (68, 3), (74, 7)]), (12, \"T\", [(57, 1), (64, 5), (69, 1), (73, 3)]), (0, \"T\", [(45, 1), (64, 5), (69, 1), (73, 3)])], 171, 92, 263, Int16[0, 5, 11, 13, 25, 42, 79, 110, 128, 150, 173, 198, 214, 231, 253, 263], Int16[0, 0, 0, 0, 6, 18, 45, 63, 75, 93, 114, 135, 144, 159, 171, 171], 2, Int8[0, 3, 1, 1], [\"D7\", \"T54\", \"T/3\", \"T\"], Int8[76, 74, 73, 73], \"S\")"
      ]
     },
     "metadata": {},
     "output_type": "display_data"
    },
    {
     "data": {
      "text/plain": [
       "candidateSequence(Tuple{Int8,String,Array{Tuple{Int16,Int16},1}}[(0, \"T\", [(57, 1), (57, 1), (64, 5), (73, 3)]), (0, \"T\", [(57, 1), (61, 3), (64, 5), (69, 1)]), (0, \"S65\", [(50, 1), (59, 6), (66, 3), (69, 5)]), (0, \"D\", [(52, 1), (59, 5), (64, 1), (68, 3)]), (9, \"S/3\", [(54, 3), (57, 5), (62, 1), (74, 1)]), (6, \"D\", [(52, 1), (59, 5), (68, 3), (76, 1)]), (15, \"T\", [(45, 1), (61, 3), (69, 1), (76, 5)]), (0, \"T\", [(45, 1), (61, 3), (64, 5), (69, 1)]), (18, \"D/3\", [(44, 3), (59, 5), (64, 1), (71, 5)]), (15, \"S/3\", [(42, 3), (57, 5), (62, 1), (74, 1)]), (27, \"D64\", [(40, 1), (57, 4), (64, 1), (73, 6)]), (12, \"D\", [(40, 1), (56, 3), (64, 1), (71, 5)]), (24, \"S/3\", [(42, 3), (57, 5), (62, 1), (74, 1)]), (12, \"D\", [(40, 1), (59, 5), (68, 3), (76, 1)]), (27, \"Ts\", [(42, 1), (57, 3), (69, 3), (73, 5)]), (15, \"Ts\", [(54, 1), (57, 3), (69, 3), (73, 5)])], 180, 70, 250, Int16[0, 5, 11, 13, 26, 37, 56, 67, 87, 104, 133, 147, 177, 194, 229, 250], Int16[0, 0, 0, 0, 9, 15, 30, 30, 48, 63, 90, 102, 126, 138, 165, 180], 2, Int8[0, 1, 1, 1], [\"S/3\", \"S\", \"D7-1\", \"Ts\"], Int8[74, 76, 73, 73], \"T\")"
      ]
     },
     "metadata": {},
     "output_type": "display_data"
    },
    {
     "data": {
      "text/plain": [
       "17-element Array{Int64,1}:\n",
       "   0\n",
       "   0\n",
       "   0\n",
       "   0\n",
       "   0\n",
       " 238\n",
       " 221\n",
       " 184\n",
       " 151\n",
       " 127\n",
       " 112\n",
       "  89\n",
       "  65\n",
       "  48\n",
       "  22\n",
       "   6\n",
       "   0"
      ]
     },
     "metadata": {},
     "output_type": "display_data"
    },
    {
     "name": "stdout",
     "output_type": "stream",
     "text": [
      "Iterations done: 500000\n",
      "Nodes in active set: 297\n",
      "Lowest depth: 5 current depth: 12\n",
      "Timed out\n",
      "##: Done. Total checked: 33265089, Pruned: 41070781, completed: 17, time: 731.6930000782013, efficiency: 0.023233787938634218\n",
      "Results: bestval_func: 180, bestval_voices: 70\n",
      "[0 1 0 0 1 0 0 0 0 1 0 0; 0 1 0 0 1 0 0 0 0 1 0 0; 0 0 1 0 0 0 1 0 0 1 0 0; 0 0 0 0 0 0 0 0 0 0 0 0; 0 1 0 0 1 0 0 0 0 1 0 0; 0 0 0 0 2 0 0 0 1 1 0 0; 0 0 0 0 1 0 0 0 1 2 0 0; 0 1 0 0 1 0 0 0 0 2 0 0; 0 0 0 0 0 0 1 0 2 0 0 1; 0 0 0 0 1 0 0 0 2 1 0 0; 0 0 0 0 0 0 3 0 0 1 0 0; 0 0 0 0 1 0 2 0 0 0 0 1; 0 0 0 0 3 0 0 0 0 0 0 1; 0 0 0 0 3 0 0 0 0 0 0 1; 0 0 0 0 1 0 0 0 0 3 0 0; 0 1 0 0 1 0 0 0 0 2 0 0; 0 0 0 0 1 0 0 0 1 1 0 1; 0 1 0 0 1 0 0 0 0 2 0 0; 0 1 0 0 1 0 0 0 0 2 0 0; 0 1 0 0 1 0 0 0 0 1 0 1; 0 0 1 0 0 0 0 0 0 1 0 2; 0 1 0 0 1 0 1 0 0 1 0 0; 0 0 1 0 0 0 2 0 0 1 0 0; 0 1 0 0 1 0 0 0 0 1 0 1; 0 0 2 0 1 0 0 0 0 1 0 0; 0 0 1 0 2 0 0 0 0 0 0 1; 0 1 0 0 1 0 0 0 0 2 0 0; 0 1 0 0 1 0 0 0 0 2 0 0; 0 0 2 0 1 0 0 0 0 1 0 0; 0 0 2 0 0 0 0 0 0 0 0 2; 0 2 1 0 0 0 1 0 0 0 0 0; 0 0 2 0 0 0 2 0 0 0 0 0; 0 0 2 0 1 0 0 0 0 0 0 1]\n",
      "Key Counter is [0 14 15 0 30 0 13 0 7 32 0 13]\n",
      "Key Score is [90; 34; 117; 22; 109; 77; 47; 103; 21; 124; 47; 77]\n",
      "Position Counter for 10 is [32 0 13 0 14 15 0 30 0 13 0 7]\n",
      "Any[[10.0, 94.0, 1.0]]\n",
      "[10, 94, 1]\n",
      "10 A Major\n",
      "Rhythm map: [\"W\", \"S\", \"W\", \"S\", \"W\", \"S\", \"W\", \"S\", \"W\", \"S\", \"W\", \"S\", \"W\", \"A\", \"A\", \"A\", \"A\"] size: (17,)\n",
      "Amount of timesteps to optimise: 17\n",
      "Building lookup-table list...\n",
      "Lookup-table built.\n",
      "Initial function score upper bound: 499, voicing score upper bound: 499\n",
      "Starting search...\n",
      "New solution\n",
      "function cost: 165\n",
      "child voicing cost: 84\n",
      "Best yet: 249\n",
      "New solution\n",
      "function cost: 165\n",
      "child voicing cost: 78\n",
      "Best yet: 243\n",
      "New solution\n",
      "function cost: 165\n",
      "child voicing cost: 74\n",
      "Best yet: 239\n",
      "New solution\n",
      "function cost: 165\n",
      "child voicing cost: 73\n",
      "Best yet: 238\n",
      "New solution\n",
      "function cost: 165\n",
      "child voicing cost: 71\n",
      "Best yet: 236\n",
      "New solution\n",
      "function cost: 165\n",
      "child voicing cost: 65\n",
      "Best yet: 230\n",
      "New solution\n",
      "function cost: 144\n",
      "child voicing cost: 82\n",
      "Best yet: 226\n",
      "New solution\n",
      "function cost: 144\n",
      "child voicing cost: 76\n",
      "Best yet: 220\n",
      "New solution\n",
      "function cost: 144\n",
      "child voicing cost: 73\n",
      "Best yet: 217\n",
      "New solution\n",
      "function cost: 144\n",
      "child voicing cost: 72\n",
      "Best yet: 216\n",
      "New solution\n",
      "function cost: 144\n",
      "child voicing cost: 70\n",
      "Best yet: 214\n",
      "New solution\n",
      "function cost: 144\n",
      "child voicing cost: 69\n",
      "Best yet: 213\n",
      "New solution\n",
      "function cost: 144\n",
      "child voicing cost: 68\n",
      "Best yet: 212\n",
      "New solution\n",
      "function cost: 144\n",
      "child voicing cost: 67\n",
      "Best yet: 211\n",
      "New solution\n",
      "function cost: 144\n",
      "child voicing cost: 65\n",
      "Best yet: 209\n",
      "New solution\n",
      "function cost: 144\n",
      "child voicing cost: 64\n",
      "Best yet: 208\n",
      "New solution\n",
      "function cost: 144\n",
      "child voicing cost: 63\n",
      "Best yet: 207\n"
     ]
    },
    {
     "data": {
      "text/plain": [
       "(0, \"T\", Tuple{Int16,Int16}[(57, 1), (57, 1), (64, 5), (73, 3)])"
      ]
     },
     "metadata": {},
     "output_type": "display_data"
    },
    {
     "data": {
      "text/plain": [
       "(0, \"T\", Tuple{Int16,Int16}[(57, 1), (61, 3), (64, 5), (69, 1)])"
      ]
     },
     "metadata": {},
     "output_type": "display_data"
    },
    {
     "data": {
      "text/plain": [
       "(0, \"S65\", Tuple{Int16,Int16}[(50, 1), (59, 6), (66, 3), (69, 5)])"
      ]
     },
     "metadata": {},
     "output_type": "display_data"
    },
    {
     "data": {
      "text/plain": [
       "(0, \"D\", Tuple{Int16,Int16}[(52, 1), (59, 5), (64, 1), (68, 3)])"
      ]
     },
     "metadata": {},
     "output_type": "display_data"
    },
    {
     "data": {
      "text/plain": [
       "(9, \"S/3\", Tuple{Int16,Int16}[(54, 3), (57, 5), (62, 1), (74, 1)])"
      ]
     },
     "metadata": {},
     "output_type": "display_data"
    },
    {
     "data": {
      "text/plain": [
       "(6, \"D\", Tuple{Int16,Int16}[(52, 1), (59, 5), (68, 3), (76, 1)])"
      ]
     },
     "metadata": {},
     "output_type": "display_data"
    },
    {
     "data": {
      "text/plain": [
       "(15, \"T\", Tuple{Int16,Int16}[(45, 1), (61, 3), (69, 1), (76, 5)])"
      ]
     },
     "metadata": {},
     "output_type": "display_data"
    },
    {
     "data": {
      "text/plain": [
       "(0, \"T\", Tuple{Int16,Int16}[(45, 1), (61, 3), (64, 5), (69, 1)])"
      ]
     },
     "metadata": {},
     "output_type": "display_data"
    },
    {
     "data": {
      "text/plain": [
       "(18, \"D/3\", Tuple{Int16,Int16}[(44, 3), (59, 5), (64, 1), (71, 5)])"
      ]
     },
     "metadata": {},
     "output_type": "display_data"
    },
    {
     "data": {
      "text/plain": [
       "(15, \"S/3\", Tuple{Int16,Int16}[(42, 3), (57, 5), (62, 1), (74, 1)])"
      ]
     },
     "metadata": {},
     "output_type": "display_data"
    },
    {
     "data": {
      "text/plain": [
       "(27, \"D64\", Tuple{Int16,Int16}[(40, 1), (57, 4), (64, 1), (73, 6)])"
      ]
     },
     "metadata": {},
     "output_type": "display_data"
    },
    {
     "data": {
      "text/plain": [
       "(12, \"D\", Tuple{Int16,Int16}[(40, 1), (56, 3), (64, 1), (71, 5)])"
      ]
     },
     "metadata": {},
     "output_type": "display_data"
    },
    {
     "data": {
      "text/plain": [
       "(24, \"S/3\", Tuple{Int16,Int16}[(42, 3), (57, 5), (62, 1), (74, 1)])"
      ]
     },
     "metadata": {},
     "output_type": "display_data"
    },
    {
     "data": {
      "text/plain": [
       "(12, \"D\", Tuple{Int16,Int16}[(40, 1), (59, 5), (68, 3), (76, 1)])"
      ]
     },
     "metadata": {},
     "output_type": "display_data"
    },
    {
     "data": {
      "text/plain": [
       "(27, \"Ts\", Tuple{Int16,Int16}[(42, 1), (57, 3), (69, 3), (73, 5)])"
      ]
     },
     "metadata": {},
     "output_type": "display_data"
    },
    {
     "data": {
      "text/plain": [
       "(15, \"Ts\", Tuple{Int16,Int16}[(54, 1), (57, 3), (69, 3), (73, 5)])"
      ]
     },
     "metadata": {},
     "output_type": "display_data"
    },
    {
     "data": {
      "text/plain": [
       "(6, \"D/3\", Tuple{Int16,Int16}[(56, 3), (59, 5), (64, 1), (71, 5)])"
      ]
     },
     "metadata": {},
     "output_type": "display_data"
    },
    {
     "data": {
      "text/plain": [
       "(0, \"T\", Tuple{Int16,Int16}[(57, 1), (61, 3), (64, 5), (69, 1)])"
      ]
     },
     "metadata": {},
     "output_type": "display_data"
    },
    {
     "data": {
      "text/plain": [
       "(12, \"D7/3\", Tuple{Int16,Int16}[(56, 3), (62, 7), (71, 5), (76, 1)])"
      ]
     },
     "metadata": {},
     "output_type": "display_data"
    },
    {
     "data": {
      "text/plain": [
       "(6, \"T\", Tuple{Int16,Int16}[(57, 1), (61, 3), (69, 1), (76, 5)])"
      ]
     },
     "metadata": {},
     "output_type": "display_data"
    },
    {
     "data": {
      "text/plain": [
       "(3, \"D7-1\", Tuple{Int16,Int16}[(59, 5), (62, 7), (68, 3), (71, 5)])"
      ]
     },
     "metadata": {},
     "output_type": "display_data"
    },
    {
     "data": {
      "text/plain": [
       "(9, \"T\", Tuple{Int16,Int16}[(57, 1), (64, 5), (69, 1), (73, 3)])"
      ]
     },
     "metadata": {},
     "output_type": "display_data"
    },
    {
     "data": {
      "text/plain": [
       "(9, \"S/3\", Tuple{Int16,Int16}[(54, 3), (62, 1), (69, 5), (74, 1)])"
      ]
     },
     "metadata": {},
     "output_type": "display_data"
    },
    {
     "data": {
      "text/plain": [
       "(6, \"T/5\", Tuple{Int16,Int16}[(52, 5), (61, 3), (69, 1), (76, 5)])"
      ]
     },
     "metadata": {},
     "output_type": "display_data"
    },
    {
     "data": {
      "text/plain": [
       "(6, \"S/3\", Tuple{Int16,Int16}[(54, 3), (62, 1), (69, 5), (69, 5)])"
      ]
     },
     "metadata": {},
     "output_type": "display_data"
    },
    {
     "data": {
      "text/plain": [
       "(12, \"D7\", Tuple{Int16,Int16}[(52, 1), (62, 7), (68, 3), (71, 5)])"
      ]
     },
     "metadata": {},
     "output_type": "display_data"
    },
    {
     "data": {
      "text/plain": [
       "(0, \"T\", Tuple{Int16,Int16}[(45, 1), (61, 3), (69, 1), (76, 5)])"
      ]
     },
     "metadata": {},
     "output_type": "display_data"
    },
    {
     "data": {
      "text/plain": [
       "(0, \"T/3\", Tuple{Int16,Int16}[(49, 3), (64, 5), (69, 1), (76, 5)])"
      ]
     },
     "metadata": {},
     "output_type": "display_data"
    },
    {
     "data": {
      "text/plain": [
       "(6, \"S\", Tuple{Int16,Int16}[(50, 1), (62, 1), (69, 5), (78, 3)])"
      ]
     },
     "metadata": {},
     "output_type": "display_data"
    },
    {
     "data": {
      "text/plain": [
       "(15, \"D7\", Tuple{Int16,Int16}[(52, 1), (62, 7), (68, 3), (71, 5)])"
      ]
     },
     "metadata": {},
     "output_type": "display_data"
    },
    {
     "data": {
      "text/plain": [
       "(27, \"T\", Tuple{Int16,Int16}[(57, 1), (61, 3), (64, 5), (69, 1)])"
      ]
     },
     "metadata": {},
     "output_type": "display_data"
    },
    {
     "data": {
      "text/plain": [
       "(27, \"T\", Tuple{Int16,Int16}[(57, 1), (61, 3), (64, 5), (69, 1)])"
      ]
     },
     "metadata": {},
     "output_type": "display_data"
    },
    {
     "name": "stdout",
     "output_type": "stream",
     "text": [
      "##: Done. Total checked: 100859, Pruned: 109438, completed: 17, time: 1.943000078201294, efficiency: 8.749356312809581\n",
      "Results: bestval_func: 144, bestval_voices: 63\n",
      "#Key: 10Scale: Major\n",
      "#Total time for optimisation of piece: 734.9569997787476\n",
      "#Total cost of piece: 457\n",
      "[\"T\", \"T\", \"S65\", \"D\", \"S/3\", \"D\", \"T\", \"T\", \"D/3\", \"S/3\", \"D64\", \"D\", \"S/3\", \"D\", \"Ts\", \"Ts\", \"D/3\", \"T\", \"D7/3\", \"T\", \"D7-1\", \"T\", \"S/3\", \"T/5\", \"S/3\", \"D7\", \"T\", \"T/3\", \"S\", \"D7\", \"T\", \"T\"]\n",
      "../../results/optimizer/pianoroll/MBM-13-patrm-opt.csv\n",
      " End of file \n",
      " \n",
      "Optimising: ../../results/neuralnet/pianoroll/MBM-16-cruci-nn.csv\n",
      "[1 0 0 0 0 0 0 0 0 0 0 0; 1 0 0 0 0 0 0 0 0 0 0 0; 0 0 0 0 0 1 0 0 0 0 0 1; 0 0 0 0 0 1 0 0 0 0 0 1; 0 0 0 0 0 1 0 0 0 0 0 0; 1 0 1 0 0 1 0 0 0 0 0 1; 1 0 0 0 0 2 0 0 0 1 0 0; 1 0 1 0 0 0 0 0 0 0 0 2; 1 0 2 0 0 0 0 0 0 0 0 1; 1 0 0 0 1 0 0 0 0 1 0 1; 1 0 0 0 1 0 0 0 0 2 0 0; 0 0 0 0 0 0 1 0 0 1 0 2; 0 0 0 0 1 0 0 1 0 0 0 2; 0 0 0 0 1 0 0 2 0 0 0 1; 0 0 0 1 0 0 1 1 0 0 0 1; 0 0 0 1 0 0 2 0 0 0 0 1; 0 0 0 0 1 0 2 0 0 0 0 1; 0 0 1 0 0 0 2 0 0 1 0 0; 0 0 1 0 0 0 0 0 0 1 0 2; 2 0 0 0 1 0 0 0 0 1 0 0; 1 0 0 0 1 0 1 0 0 1 0 0; 2 0 0 0 1 0 0 0 0 0 0 1; 1 0 0 0 0 0 0 1 0 0 0 2; 2 0 0 0 1 0 0 0 0 1 0 0; 1 0 0 0 1 0 1 0 0 1 0 0; 0 0 0 0 1 0 1 1 0 0 0 1; 0 0 0 0 1 0 1 1 0 0 0 1; 0 0 1 0 1 0 1 0 0 0 0 1; 0 0 1 0 1 0 1 0 0 0 0 1; 0 0 1 0 0 0 1 0 0 1 0 1; 0 0 1 0 1 0 1 0 0 0 0 1; 0 0 1 0 1 0 1 0 0 0 0 1; 0 0 1 0 0 0 1 0 0 0 0 2]\n",
      "Key Counter is [17 0 12 2 16 6 18 7 0 12 0 29]\n",
      "Key Score is [99; 43; 94; 44; 77; 70; 55; 111; 32; 87; 56; 65]\n",
      "Position Counter for 8 is [7 0 12 0 29 17 0 12 2 16 6 18]\n",
      "Any[[8.0, 72.0, 0.0]]\n",
      "[8, 72, 0]\n",
      "5 E Minor\n",
      "Rhythm map: [\"S\", \"W\", \"S\", \"W\", \"S\", \"C\", \"C\", \"C\", \"S\", \"W\", \"S\", \"W\", \"S\", \"C\", \"C\", \"C\"] size: (16,)\n",
      "Amount of timesteps to optimise: 16\n",
      "Building lookup-table list...\n",
      "Lookup-table built.\n",
      "Initial function score upper bound: 499, voicing score upper bound: 499\n",
      "Starting search...\n",
      "New solution\n",
      "function cost: 159\n",
      "child voicing cost: 97\n",
      "Best yet: 256\n",
      "New solution\n",
      "function cost: 159\n",
      "child voicing cost: 93\n",
      "Best yet: 252\n",
      "New solution\n",
      "function cost: 156\n",
      "child voicing cost: 91\n",
      "Best yet: 247\n",
      "New solution\n",
      "function cost: 156\n",
      "child voicing cost: 85\n",
      "Best yet: 241\n",
      "New solution\n",
      "function cost: 147\n",
      "child voicing cost: 85\n",
      "Best yet: 232\n",
      "New solution\n",
      "function cost: 147\n",
      "child voicing cost: 81\n",
      "Best yet: 228\n",
      "New solution\n",
      "function cost: 147\n",
      "child voicing cost: 79\n",
      "Best yet: 226\n",
      "New solution\n",
      "function cost: 132\n",
      "child voicing cost: 93\n",
      "Best yet: 225\n",
      "New solution\n",
      "function cost: 132\n",
      "child voicing cost: 89\n",
      "Best yet: 221\n",
      "New solution\n",
      "function cost: 132\n",
      "child voicing cost: 87\n",
      "Best yet: 219\n",
      "New solution\n",
      "function cost: 138\n",
      "child voicing cost: 79\n",
      "Best yet: 217\n",
      "New solution\n",
      "function cost: 138\n",
      "child voicing cost: 77\n",
      "Best yet: 215\n",
      "New solution\n",
      "function cost: 138\n",
      "child voicing cost: 75\n",
      "Best yet: 213\n",
      "New solution\n",
      "function cost: 135\n",
      "child voicing cost: 77\n",
      "Best yet: 212\n",
      "New solution\n",
      "function cost: 135\n",
      "child voicing cost: 75\n",
      "Best yet: 210\n",
      "New solution\n",
      "function cost: 135\n",
      "child voicing cost: 73\n",
      "Best yet: 208\n",
      "New solution\n",
      "function cost: 129\n",
      "child voicing cost: 78\n",
      "Best yet: 207\n",
      "New solution\n",
      "function cost: 129\n",
      "child voicing cost: 77\n",
      "Best yet: 206\n",
      "New solution\n",
      "function cost: 129\n",
      "child voicing cost: 73\n",
      "Best yet: 202\n",
      "New solution\n",
      "function cost: 129\n",
      "child voicing cost: 71\n",
      "Best yet: 200\n",
      "New solution\n",
      "function cost: 129\n",
      "child voicing cost: 69\n",
      "Best yet: 198\n",
      "##: Done. Total checked: 122572, Pruned: 145946, completed: 21, time: 2.5280001163482666, efficiency: 8.306961642998186\n",
      "Results: bestval_func: 129, bestval_voices: 69\n",
      "[1 0 0 0 0 0 0 0 0 0 0 0; 1 0 0 0 0 0 0 0 0 0 0 0; 0 0 0 0 0 1 0 0 0 0 0 1; 0 0 0 0 0 1 0 0 0 0 0 1; 0 0 0 0 0 1 0 0 0 0 0 0; 1 0 1 0 0 1 0 0 0 0 0 1; 1 0 0 0 0 2 0 0 0 1 0 0; 1 0 1 0 0 0 0 0 0 0 0 2; 1 0 2 0 0 0 0 0 0 0 0 1; 1 0 0 0 1 0 0 0 0 1 0 1; 1 0 0 0 1 0 0 0 0 2 0 0; 0 0 0 0 0 0 1 0 0 1 0 2; 0 0 0 0 1 0 0 1 0 0 0 2; 0 0 0 0 1 0 0 2 0 0 0 1; 0 0 0 1 0 0 1 1 0 0 0 1; 0 0 0 1 0 0 2 0 0 0 0 1; 0 0 0 0 1 0 2 0 0 0 0 1; 0 0 1 0 0 0 2 0 0 1 0 0; 0 0 1 0 0 0 0 0 0 1 0 2; 2 0 0 0 1 0 0 0 0 1 0 0; 1 0 0 0 1 0 1 0 0 1 0 0; 2 0 0 0 1 0 0 0 0 0 0 1; 1 0 0 0 0 0 0 1 0 0 0 2; 2 0 0 0 1 0 0 0 0 1 0 0; 1 0 0 0 1 0 1 0 0 1 0 0; 0 0 0 0 1 0 1 1 0 0 0 1; 0 0 0 0 1 0 1 1 0 0 0 1; 0 0 1 0 1 0 1 0 0 0 0 1; 0 0 1 0 1 0 1 0 0 0 0 1; 0 0 1 0 0 0 1 0 0 1 0 1; 0 0 1 0 1 0 1 0 0 0 0 1; 0 0 1 0 1 0 1 0 0 0 0 1; 0 0 1 0 0 0 1 0 0 0 0 2]\n",
      "Key Counter is [17 0 12 2 16 6 18 7 0 12 0 29]\n",
      "Key Score is [99; 43; 94; 44; 77; 70; 55; 111; 32; 87; 56; 65]\n",
      "Position Counter for 8 is [7 0 12 0 29 17 0 12 2 16 6 18]\n",
      "Any[[8.0, 72.0, 0.0]]\n",
      "[8, 72, 0]\n",
      "5 E Minor\n",
      "Rhythm map: [\"W\", \"S\", \"W\", \"S\", \"W\", \"S\", \"W\", \"S\", \"W\", \"S\", \"W\", \"S\", \"W\", \"A\", \"A\", \"A\", \"A\"] size: (17,)\n",
      "Amount of timesteps to optimise: 17\n",
      "Building lookup-table list...\n",
      "Lookup-table built.\n",
      "Initial function score upper bound: 499, voicing score upper bound: 499\n",
      "Starting search...\n",
      "New solution\n",
      "function cost: 153\n",
      "child voicing cost: 115\n",
      "Best yet: 268\n",
      "New solution\n",
      "function cost: 153\n",
      "child voicing cost: 112\n",
      "Best yet: 265\n",
      "New solution\n",
      "function cost: 153\n",
      "child voicing cost: 109\n",
      "Best yet: 262\n",
      "New solution\n",
      "function cost: 156\n",
      "child voicing cost: 104\n",
      "Best yet: 260\n",
      "New solution\n",
      "function cost: 156\n",
      "child voicing cost: 103\n",
      "Best yet: 259\n",
      "New solution\n",
      "function cost: 156\n",
      "child voicing cost: 101\n",
      "Best yet: 257\n",
      "New solution\n",
      "function cost: 156\n",
      "child voicing cost: 99\n",
      "Best yet: 255\n",
      "New solution\n",
      "function cost: 156\n",
      "child voicing cost: 98\n",
      "Best yet: 254\n",
      "New solution\n",
      "function cost: 156\n",
      "child voicing cost: 96\n",
      "Best yet: 252\n",
      "New solution\n",
      "function cost: 156\n",
      "child voicing cost: 94\n",
      "Best yet: 250\n",
      "New solution\n",
      "function cost: 159\n",
      "child voicing cost: 90\n",
      "Best yet: 249\n",
      "New solution\n",
      "function cost: 141\n",
      "child voicing cost: 104\n",
      "Best yet: 245\n",
      "New solution\n",
      "function cost: 141\n",
      "child voicing cost: 101\n",
      "Best yet: 242\n",
      "New solution\n",
      "function cost: 141\n",
      "child voicing cost: 98\n",
      "Best yet: 239\n",
      "New solution\n",
      "function cost: 141\n",
      "child voicing cost: 95\n",
      "Best yet: 236\n",
      "New solution\n",
      "function cost: 141\n",
      "child voicing cost: 92\n",
      "Best yet: 233\n",
      "New solution\n",
      "function cost: 141\n",
      "child voicing cost: 91\n",
      "Best yet: 232\n",
      "New solution\n",
      "function cost: 141\n",
      "child voicing cost: 88\n",
      "Best yet: 229\n"
     ]
    },
    {
     "data": {
      "text/plain": [
       "(3, \"T\", Tuple{Int16,Int16}[(52, 1), (52, 1), (55, 3), (59, 5)])"
      ]
     },
     "metadata": {},
     "output_type": "display_data"
    },
    {
     "data": {
      "text/plain": [
       "(0, \"S\", Tuple{Int16,Int16}[(45, 1), (52, 5), (57, 1), (60, 3)])"
      ]
     },
     "metadata": {},
     "output_type": "display_data"
    },
    {
     "data": {
      "text/plain": [
       "(3, \"T/3\", Tuple{Int16,Int16}[(43, 3), (52, 1), (59, 5), (64, 1)])"
      ]
     },
     "metadata": {},
     "output_type": "display_data"
    },
    {
     "data": {
      "text/plain": [
       "(3, \"D/5\", Tuple{Int16,Int16}[(42, 5), (51, 3), (59, 1), (66, 5)])"
      ]
     },
     "metadata": {},
     "output_type": "display_data"
    },
    {
     "data": {
      "text/plain": [
       "(3, \"T\", Tuple{Int16,Int16}[(40, 1), (52, 1), (59, 5), (67, 3)])"
      ]
     },
     "metadata": {},
     "output_type": "display_data"
    },
    {
     "data": {
      "text/plain": [
       "(15, \"D7\", Tuple{Int16,Int16}[(47, 1), (51, 3), (57, 7), (66, 5)])"
      ]
     },
     "metadata": {},
     "output_type": "display_data"
    },
    {
     "data": {
      "text/plain": [
       "(12, \"Ts\", Tuple{Int16,Int16}[(48, 1), (52, 3), (55, 5), (64, 3)])"
      ]
     },
     "metadata": {},
     "output_type": "display_data"
    },
    {
     "data": {
      "text/plain": [
       "(21, \"Ts\", Tuple{Int16,Int16}[(48, 1), (52, 3), (55, 5), (60, 1)])"
      ]
     },
     "metadata": {},
     "output_type": "display_data"
    },
    {
     "data": {
      "text/plain": [
       "(18, \"D\", Tuple{Int16,Int16}[(47, 1), (54, 5), (59, 1), (63, 3)])"
      ]
     },
     "metadata": {},
     "output_type": "display_data"
    },
    {
     "data": {
      "text/plain": [
       "(9, \"T/3\", Tuple{Int16,Int16}[(43, 3), (52, 1), (59, 5), (64, 1)])"
      ]
     },
     "metadata": {},
     "output_type": "display_data"
    },
    {
     "data": {
      "text/plain": [
       "(0, \"S\", Tuple{Int16,Int16}[(45, 1), (52, 5), (57, 1), (60, 3)])"
      ]
     },
     "metadata": {},
     "output_type": "display_data"
    },
    {
     "data": {
      "text/plain": [
       "(12, \"D7/7\", Tuple{Int16,Int16}[(45, 7), (54, 5), (59, 1), (63, 3)])"
      ]
     },
     "metadata": {},
     "output_type": "display_data"
    },
    {
     "data": {
      "text/plain": [
       "(0, \"T/3\", Tuple{Int16,Int16}[(43, 3), (52, 1), (59, 5), (64, 1)])"
      ]
     },
     "metadata": {},
     "output_type": "display_data"
    },
    {
     "data": {
      "text/plain": [
       "(12, \"D7/5\", Tuple{Int16,Int16}[(42, 5), (51, 3), (59, 1), (69, 7)])"
      ]
     },
     "metadata": {},
     "output_type": "display_data"
    },
    {
     "data": {
      "text/plain": [
       "(9, \"T\", Tuple{Int16,Int16}[(40, 1), (52, 1), (59, 5), (67, 3)])"
      ]
     },
     "metadata": {},
     "output_type": "display_data"
    },
    {
     "data": {
      "text/plain": [
       "(12, \"T\", Tuple{Int16,Int16}[(40, 1), (59, 5), (64, 1), (67, 3)])"
      ]
     },
     "metadata": {},
     "output_type": "display_data"
    },
    {
     "data": {
      "text/plain": [
       "(12, \"S65/6\", Tuple{Int16,Int16}[(42, 6), (60, 3), (64, 5), (69, 1)])"
      ]
     },
     "metadata": {},
     "output_type": "display_data"
    },
    {
     "data": {
      "text/plain": [
       "(3, \"D7-1\", Tuple{Int16,Int16}[(54, 5), (63, 3), (66, 5), (69, 7)])"
      ]
     },
     "metadata": {},
     "output_type": "display_data"
    },
    {
     "data": {
      "text/plain": [
       "(18, \"D7\", Tuple{Int16,Int16}[(47, 1), (63, 3), (69, 7), (78, 5)])"
      ]
     },
     "metadata": {},
     "output_type": "display_data"
    },
    {
     "data": {
      "text/plain": [
       "(6, \"Ts\", Tuple{Int16,Int16}[(48, 1), (64, 3), (67, 5), (76, 3)])"
      ]
     },
     "metadata": {},
     "output_type": "display_data"
    },
    {
     "data": {
      "text/plain": [
       "(6, \"D7\", Tuple{Int16,Int16}[(47, 1), (63, 3), (69, 7), (78, 5)])"
      ]
     },
     "metadata": {},
     "output_type": "display_data"
    },
    {
     "data": {
      "text/plain": [
       "(12, \"Ts\", Tuple{Int16,Int16}[(48, 1), (64, 3), (67, 5), (72, 1)])"
      ]
     },
     "metadata": {},
     "output_type": "display_data"
    },
    {
     "data": {
      "text/plain": [
       "(12, \"D\", Tuple{Int16,Int16}[(47, 1), (66, 5), (71, 1), (75, 3)])"
      ]
     },
     "metadata": {},
     "output_type": "display_data"
    },
    {
     "data": {
      "text/plain": [
       "(9, \"S/3\", Tuple{Int16,Int16}[(48, 3), (64, 5), (69, 1), (76, 5)])"
      ]
     },
     "metadata": {},
     "output_type": "display_data"
    },
    {
     "data": {
      "text/plain": [
       "(6, \"D7/3\", Tuple{Int16,Int16}[(51, 3), (66, 5), (69, 7), (71, 1)])"
      ]
     },
     "metadata": {},
     "output_type": "display_data"
    },
    {
     "data": {
      "text/plain": [
       "(6, \"T\", Tuple{Int16,Int16}[(52, 1), (64, 1), (67, 3), (71, 5)])"
      ]
     },
     "metadata": {},
     "output_type": "display_data"
    },
    {
     "data": {
      "text/plain": [
       "(6, \"D/3\", Tuple{Int16,Int16}[(51, 3), (59, 1), (66, 5), (78, 5)])"
      ]
     },
     "metadata": {},
     "output_type": "display_data"
    },
    {
     "data": {
      "text/plain": [
       "(9, \"T\", Tuple{Int16,Int16}[(52, 1), (59, 5), (67, 3), (76, 1)])"
      ]
     },
     "metadata": {},
     "output_type": "display_data"
    },
    {
     "data": {
      "text/plain": [
       "(15, \"D7-1\", Tuple{Int16,Int16}[(54, 5), (57, 7), (66, 5), (75, 3)])"
      ]
     },
     "metadata": {},
     "output_type": "display_data"
    },
    {
     "data": {
      "text/plain": [
       "(3, \"D7\", Tuple{Int16,Int16}[(59, 1), (63, 3), (66, 5), (69, 7)])"
      ]
     },
     "metadata": {},
     "output_type": "display_data"
    },
    {
     "data": {
      "text/plain": [
       "(9, \"T\", Tuple{Int16,Int16}[(52, 1), (59, 5), (64, 1), (67, 3)])"
      ]
     },
     "metadata": {},
     "output_type": "display_data"
    },
    {
     "data": {
      "text/plain": [
       "(9, \"T\", Tuple{Int16,Int16}[(52, 1), (59, 5), (64, 1), (67, 3)])"
      ]
     },
     "metadata": {},
     "output_type": "display_data"
    },
    {
     "name": "stdout",
     "output_type": "stream",
     "text": [
      "##: Done. Total checked: 147977, Pruned: 164216, completed: 18, time: 3.120000123977661, efficiency: 5.769230539982145\n",
      "Results: bestval_func: 141, bestval_voices: 88\n",
      "#Key: 5Scale: Minor\n",
      "#Total time for optimisation of piece: 7.209000110626221\n",
      "#Total cost of piece: 427\n",
      "[\"T\", \"S\", \"T/3\", \"D/5\", \"T\", \"D7\", \"Ts\", \"Ts\", \"D\", \"T/3\", \"S\", \"D7/7\", \"T/3\", \"D7/5\", \"T\", \"T\", \"S65/6\", \"D7-1\", \"D7\", \"Ts\", \"D7\", \"Ts\", \"D\", \"S/3\", \"D7/3\", \"T\", \"D/3\", \"T\", \"D7-1\", \"D7\", \"T\", \"T\"]\n",
      "../../results/optimizer/pianoroll/MBM-16-cruci-opt.csv\n",
      " End of file \n",
      " \n",
      "Optimising: ../../results/neuralnet/pianoroll/MBM-24-pacem-nn.csv\n",
      "[0 0 0 0 1 0 0 0 0 0 0 0; 0 0 0 0 0 0 1 0 0 1 0 0; 0 0 0 0 0 0 0 1 0 0 0 1; 0 1 0 0 1 0 0 0 0 0 0 0; 0 0 2 0 0 0 0 0 0 0 0 0; 0 0 1 0 0 0 0 1 0 0 0 2; 0 1 0 0 1 0 0 0 0 2 0 0; 0 0 0 0 0 0 2 0 0 1 0 1; 0 0 0 0 2 0 0 0 1 1 0 0; 0 2 1 0 0 0 0 0 0 1 0 0; 0 0 1 0 0 0 2 0 0 1 0 0; 0 0 1 0 0 0 0 0 1 0 0 2; 0 1 1 0 1 0 0 1 0 0 0 0; 0 0 1 0 0 0 1 0 0 2 0 0; 0 0 1 0 0 0 1 0 1 0 0 1; 0 1 1 0 1 0 0 0 0 1 0 0; 0 0 1 0 0 0 2 0 0 1 0 0; 0 0 1 0 1 0 0 0 1 1 0 0; 0 1 1 0 0 0 0 1 0 1 0 0; 0 0 1 0 0 0 2 0 0 1 0 0; 0 0 0 0 2 0 0 0 1 0 0 1; 0 0 1 0 0 0 1 0 0 1 0 1; 0 0 1 0 0 0 1 0 0 0 0 2; 0 0 2 0 1 0 0 0 0 0 0 1; 0 1 1 0 1 0 0 0 0 0 0 1; 0 0 1 0 1 0 1 0 0 0 0 1; 0 1 1 0 0 0 0 0 0 1 0 1; 0 0 1 0 0 0 0 0 0 2 0 1; 0 0 0 0 0 0 1 0 0 3 0 0; 0 0 1 0 0 0 0 0 0 3 0 0; 0 0 1 0 1 0 0 0 0 2 0 0; 0 0 1 0 0 0 1 0 0 2 0 0; 1 0 1 0 0 0 0 1 0 0 0 1]\n",
      "Key Counter is [1 9 26 0 14 0 16 5 5 28 0 17]\n",
      "Key Score is [91; 31; 115; 37; 89; 74; 47; 107; 20; 115; 60; 61]\n",
      "Position Counter for 3 is [26 0 14 0 16 5 5 28 0 17 1 9]\n",
      "Position Counter for 10 is [28 0 17 1 9 26 0 14 0 16 5 5]\n",
      "Any[[3.0, 79.75, 1.0], [10.0, 83.5, 1.0]]\n",
      "[10, 84, 1]\n",
      "10 A Major\n",
      "Rhythm map: [\"S\", \"W\", \"S\", \"W\", \"S\", \"C\", \"C\", \"C\", \"S\", \"W\", \"S\", \"W\", \"S\", \"C\", \"C\", \"C\"] size: (16,)\n",
      "Amount of timesteps to optimise: 16\n",
      "Building lookup-table list...\n",
      "Lookup-table built.\n",
      "Initial function score upper bound: 499, voicing score upper bound: 499\n",
      "Starting search...\n",
      "New solution\n",
      "function cost: 150\n",
      "child voicing cost: 126\n",
      "Best yet: 276\n",
      "New solution\n",
      "function cost: 150\n",
      "child voicing cost: 123\n",
      "Best yet: 273\n",
      "New solution\n",
      "function cost: 150\n",
      "child voicing cost: 114\n",
      "Best yet: 264\n",
      "New solution\n",
      "function cost: 150\n",
      "child voicing cost: 109\n",
      "Best yet: 259\n",
      "New solution\n",
      "function cost: 138\n",
      "child voicing cost: 120\n",
      "Best yet: 258\n",
      "New solution\n",
      "function cost: 135\n",
      "child voicing cost: 120\n",
      "Best yet: 255\n",
      "New solution\n",
      "function cost: 150\n",
      "child voicing cost: 98\n",
      "Best yet: 248\n",
      "New solution\n",
      "function cost: 150\n",
      "child voicing cost: 95\n",
      "Best yet: 245\n",
      "New solution\n",
      "function cost: 150\n",
      "child voicing cost: 92\n",
      "Best yet: 242\n",
      "New solution\n",
      "function cost: 138\n",
      "child voicing cost: 103\n",
      "Best yet: 241\n",
      "New solution\n",
      "function cost: 129\n",
      "child voicing cost: 109\n",
      "Best yet: 238\n",
      "New solution\n",
      "function cost: 129\n",
      "child voicing cost: 107\n",
      "Best yet: 236\n",
      "New solution\n",
      "function cost: 129\n",
      "child voicing cost: 106\n",
      "Best yet: 235\n",
      "New solution\n",
      "function cost: 129\n",
      "child voicing cost: 105\n",
      "Best yet: 234\n",
      "New solution\n",
      "function cost: 129\n",
      "child voicing cost: 104\n",
      "Best yet: 233\n",
      "New solution\n",
      "function cost: 126\n",
      "child voicing cost: 106\n",
      "Best yet: 232\n",
      "New solution\n",
      "function cost: 126\n",
      "child voicing cost: 104\n",
      "Best yet: 230\n",
      "New solution\n",
      "function cost: 132\n",
      "child voicing cost: 97\n",
      "Best yet: 229\n",
      "New solution\n",
      "function cost: 132\n",
      "child voicing cost: 95\n",
      "Best yet: 227\n",
      "New solution\n",
      "function cost: 132\n",
      "child voicing cost: 94\n",
      "Best yet: 226\n",
      "New solution\n",
      "function cost: 132\n",
      "child voicing cost: 93\n",
      "Best yet: 225\n",
      "New solution\n",
      "function cost: 138\n",
      "child voicing cost: 86\n",
      "Best yet: 224\n",
      "New solution\n",
      "function cost: 138\n",
      "child voicing cost: 84\n",
      "Best yet: 222\n",
      "New solution\n",
      "function cost: 138\n",
      "child voicing cost: 82\n",
      "Best yet: 220\n",
      "New solution\n",
      "function cost: 138\n",
      "child voicing cost: 78\n",
      "Best yet: 216\n",
      "New solution\n",
      "function cost: 138\n",
      "child voicing cost: 77\n",
      "Best yet: 215\n",
      "New solution\n",
      "function cost: 123\n",
      "child voicing cost: 91\n",
      "Best yet: 214\n",
      "New solution\n",
      "function cost: 129\n",
      "child voicing cost: 83\n",
      "Best yet: 212\n",
      "New solution\n",
      "function cost: 114\n",
      "child voicing cost: 97\n",
      "Best yet: 211\n",
      "New solution\n",
      "function cost: 114\n",
      "child voicing cost: 96\n",
      "Best yet: 210\n",
      "New solution\n",
      "function cost: 114\n",
      "child voicing cost: 95\n",
      "Best yet: 209\n",
      "New solution\n",
      "function cost: 117\n",
      "child voicing cost: 91\n",
      "Best yet: 208\n",
      "New solution\n",
      "function cost: 117\n",
      "child voicing cost: 90\n",
      "Best yet: 207\n",
      "New solution\n",
      "function cost: 123\n",
      "child voicing cost: 83\n",
      "Best yet: 206\n",
      "New solution\n",
      "function cost: 129\n",
      "child voicing cost: 76\n",
      "Best yet: 205\n",
      "New solution\n",
      "function cost: 117\n",
      "child voicing cost: 87\n",
      "Best yet: 204\n",
      "New solution\n",
      "function cost: 117\n",
      "child voicing cost: 85\n",
      "Best yet: 202\n",
      "New solution\n",
      "function cost: 117\n",
      "child voicing cost: 84\n",
      "Best yet: 201\n",
      "New solution\n",
      "function cost: 117\n",
      "child voicing cost: 83\n",
      "Best yet: 200\n",
      "New solution\n",
      "function cost: 108\n",
      "child voicing cost: 90\n",
      "Best yet: 198\n",
      "New solution\n",
      "function cost: 108\n",
      "child voicing cost: 89\n",
      "Best yet: 197\n",
      "New solution\n",
      "function cost: 108\n",
      "child voicing cost: 88\n",
      "Best yet: 196\n",
      "New solution\n",
      "function cost: 111\n",
      "child voicing cost: 84\n",
      "Best yet: 195\n",
      "New solution\n",
      "function cost: 111\n",
      "child voicing cost: 83\n",
      "Best yet: 194\n",
      "New solution\n",
      "function cost: 117\n",
      "child voicing cost: 76\n",
      "Best yet: 193\n",
      "New solution\n",
      "function cost: 123\n",
      "child voicing cost: 69\n",
      "Best yet: 192\n",
      "New solution\n",
      "function cost: 111\n",
      "child voicing cost: 80\n",
      "Best yet: 191\n",
      "New solution\n",
      "function cost: 111\n",
      "child voicing cost: 78\n",
      "Best yet: 189\n",
      "New solution\n",
      "function cost: 111\n",
      "child voicing cost: 77\n",
      "Best yet: 188\n",
      "New solution\n",
      "function cost: 111\n",
      "child voicing cost: 76\n",
      "Best yet: 187\n",
      "##: Done. Total checked: 234039, Pruned: 268203, completed: 50, time: 4.818000078201294, efficiency: 10.377749935335519\n",
      "Results: bestval_func: 111, bestval_voices: 76\n",
      "[0 0 0 0 1 0 0 0 0 0 0 0; 0 0 0 0 0 0 1 0 0 1 0 0; 0 0 0 0 0 0 0 1 0 0 0 1; 0 1 0 0 1 0 0 0 0 0 0 0; 0 0 2 0 0 0 0 0 0 0 0 0; 0 0 1 0 0 0 0 1 0 0 0 2; 0 1 0 0 1 0 0 0 0 2 0 0; 0 0 0 0 0 0 2 0 0 1 0 1; 0 0 0 0 2 0 0 0 1 1 0 0; 0 2 1 0 0 0 0 0 0 1 0 0; 0 0 1 0 0 0 2 0 0 1 0 0; 0 0 1 0 0 0 0 0 1 0 0 2; 0 1 1 0 1 0 0 1 0 0 0 0; 0 0 1 0 0 0 1 0 0 2 0 0; 0 0 1 0 0 0 1 0 1 0 0 1; 0 1 1 0 1 0 0 0 0 1 0 0; 0 0 1 0 0 0 2 0 0 1 0 0; 0 0 1 0 1 0 0 0 1 1 0 0; 0 1 1 0 0 0 0 1 0 1 0 0; 0 0 1 0 0 0 2 0 0 1 0 0; 0 0 0 0 2 0 0 0 1 0 0 1; 0 0 1 0 0 0 1 0 0 1 0 1; 0 0 1 0 0 0 1 0 0 0 0 2; 0 0 2 0 1 0 0 0 0 0 0 1; 0 1 1 0 1 0 0 0 0 0 0 1; 0 0 1 0 1 0 1 0 0 0 0 1; 0 1 1 0 0 0 0 0 0 1 0 1; 0 0 1 0 0 0 0 0 0 2 0 1; 0 0 0 0 0 0 1 0 0 3 0 0; 0 0 1 0 0 0 0 0 0 3 0 0; 0 0 1 0 1 0 0 0 0 2 0 0; 0 0 1 0 0 0 1 0 0 2 0 0; 1 0 1 0 0 0 0 1 0 0 0 1]\n",
      "Key Counter is [1 9 26 0 14 0 16 5 5 28 0 17]\n",
      "Key Score is [91; 31; 115; 37; 89; 74; 47; 107; 20; 115; 60; 61]\n",
      "Position Counter for 3 is [26 0 14 0 16 5 5 28 0 17 1 9]\n",
      "Position Counter for 10 is [28 0 17 1 9 26 0 14 0 16 5 5]\n",
      "Any[[3.0, 79.75, 1.0], [10.0, 83.5, 1.0]]\n",
      "[10, 84, 1]\n",
      "10 A Major\n",
      "Rhythm map: [\"W\", \"S\", \"W\", \"S\", \"W\", \"S\", \"W\", \"S\", \"W\", \"S\", \"W\", \"S\", \"W\", \"A\", \"A\", \"A\", \"A\"] size: (17,)\n",
      "Amount of timesteps to optimise: 17\n",
      "Building lookup-table list...\n",
      "Lookup-table built.\n",
      "Initial function score upper bound: 499, voicing score upper bound: 499\n",
      "Starting search...\n",
      "New solution\n",
      "function cost: 207\n",
      "child voicing cost: 82\n",
      "Best yet: 289\n",
      "New solution\n",
      "function cost: 204\n",
      "child voicing cost: 76\n",
      "Best yet: 280\n",
      "New solution\n",
      "function cost: 204\n",
      "child voicing cost: 73\n",
      "Best yet: 277\n",
      "New solution\n",
      "function cost: 195\n",
      "child voicing cost: 81\n",
      "Best yet: 276\n",
      "New solution\n",
      "function cost: 195\n",
      "child voicing cost: 78\n",
      "Best yet: 273\n",
      "New solution\n",
      "function cost: 195\n",
      "child voicing cost: 76\n",
      "Best yet: 271\n",
      "New solution\n",
      "function cost: 195\n",
      "child voicing cost: 74\n",
      "Best yet: 269\n",
      "New solution\n",
      "function cost: 195\n",
      "child voicing cost: 69\n",
      "Best yet: 264\n",
      "New solution\n",
      "function cost: 195\n",
      "child voicing cost: 66\n",
      "Best yet: 261\n",
      "New solution\n",
      "function cost: 186\n",
      "child voicing cost: 74\n",
      "Best yet: 260\n",
      "New solution\n",
      "function cost: 186\n",
      "child voicing cost: 71\n",
      "Best yet: 257\n",
      "New solution\n",
      "function cost: 186\n",
      "child voicing cost: 68\n",
      "Best yet: 254\n",
      "New solution\n",
      "function cost: 180\n",
      "child voicing cost: 72\n",
      "Best yet: 252\n",
      "New solution\n",
      "function cost: 180\n",
      "child voicing cost: 69\n",
      "Best yet: 249\n",
      "New solution\n",
      "function cost: 165\n",
      "child voicing cost: 81\n",
      "Best yet: 246\n",
      "New solution\n",
      "function cost: 165\n",
      "child voicing cost: 78\n",
      "Best yet: 243\n",
      "New solution\n",
      "function cost: 165\n",
      "child voicing cost: 76\n",
      "Best yet: 241\n",
      "New solution\n",
      "function cost: 165\n",
      "child voicing cost: 70\n",
      "Best yet: 235\n",
      "New solution\n",
      "function cost: 165\n",
      "child voicing cost: 67\n",
      "Best yet: 232\n"
     ]
    },
    {
     "data": {
      "text/plain": [
       "(0, \"T\", Tuple{Int16,Int16}[(57, 1), (57, 1), (61, 3), (64, 5)])"
      ]
     },
     "metadata": {},
     "output_type": "display_data"
    },
    {
     "data": {
      "text/plain": [
       "(0, \"Ts\", Tuple{Int16,Int16}[(54, 1), (57, 3), (61, 5), (66, 1)])"
      ]
     },
     "metadata": {},
     "output_type": "display_data"
    },
    {
     "data": {
      "text/plain": [
       "(3, \"D\", Tuple{Int16,Int16}[(52, 1), (59, 5), (64, 1), (68, 3)])"
      ]
     },
     "metadata": {},
     "output_type": "display_data"
    },
    {
     "data": {
      "text/plain": [
       "(0, \"T/3\", Tuple{Int16,Int16}[(49, 3), (57, 1), (64, 5), (69, 1)])"
      ]
     },
     "metadata": {},
     "output_type": "display_data"
    },
    {
     "data": {
      "text/plain": [
       "(0, \"S\", Tuple{Int16,Int16}[(50, 1), (57, 5), (62, 1), (66, 3)])"
      ]
     },
     "metadata": {},
     "output_type": "display_data"
    },
    {
     "data": {
      "text/plain": [
       "(3, \"D7-1\", Tuple{Int16,Int16}[(47, 5), (59, 5), (62, 7), (68, 3)])"
      ]
     },
     "metadata": {},
     "output_type": "display_data"
    },
    {
     "data": {
      "text/plain": [
       "(0, \"T\", Tuple{Int16,Int16}[(45, 1), (61, 3), (64, 5), (69, 1)])"
      ]
     },
     "metadata": {},
     "output_type": "display_data"
    },
    {
     "data": {
      "text/plain": [
       "(21, \"T\", Tuple{Int16,Int16}[(45, 1), (57, 1), (64, 5), (73, 3)])"
      ]
     },
     "metadata": {},
     "output_type": "display_data"
    },
    {
     "data": {
      "text/plain": [
       "(12, \"D7/3\", Tuple{Int16,Int16}[(44, 3), (59, 5), (64, 1), (74, 7)])"
      ]
     },
     "metadata": {},
     "output_type": "display_data"
    },
    {
     "data": {
      "text/plain": [
       "(18, \"T\", Tuple{Int16,Int16}[(45, 1), (57, 1), (64, 5), (73, 3)])"
      ]
     },
     "metadata": {},
     "output_type": "display_data"
    },
    {
     "data": {
      "text/plain": [
       "(15, \"S65/6\", Tuple{Int16,Int16}[(47, 6), (57, 5), (62, 1), (66, 3)])"
      ]
     },
     "metadata": {},
     "output_type": "display_data"
    },
    {
     "data": {
      "text/plain": [
       "(0, \"D7-1\", Tuple{Int16,Int16}[(47, 5), (59, 5), (62, 7), (68, 3)])"
      ]
     },
     "metadata": {},
     "output_type": "display_data"
    },
    {
     "data": {
      "text/plain": [
       "(12, \"T/3\", Tuple{Int16,Int16}[(49, 3), (57, 1), (64, 5), (69, 1)])"
      ]
     },
     "metadata": {},
     "output_type": "display_data"
    },
    {
     "data": {
      "text/plain": [
       "(0, \"S/3\", Tuple{Int16,Int16}[(54, 3), (57, 5), (62, 1), (62, 1)])"
      ]
     },
     "metadata": {},
     "output_type": "display_data"
    },
    {
     "data": {
      "text/plain": [
       "(12, \"D\", Tuple{Int16,Int16}[(52, 1), (56, 3), (59, 5), (64, 1)])"
      ]
     },
     "metadata": {},
     "output_type": "display_data"
    },
    {
     "data": {
      "text/plain": [
       "(15, \"D\", Tuple{Int16,Int16}[(40, 1), (56, 3), (59, 5), (64, 1)])"
      ]
     },
     "metadata": {},
     "output_type": "display_data"
    },
    {
     "data": {
      "text/plain": [
       "(9, \"S/3\", Tuple{Int16,Int16}[(42, 3), (50, 1), (57, 5), (62, 1)])"
      ]
     },
     "metadata": {},
     "output_type": "display_data"
    },
    {
     "data": {
      "text/plain": [
       "(6, \"T/5\", Tuple{Int16,Int16}[(40, 5), (49, 3), (57, 1), (64, 5)])"
      ]
     },
     "metadata": {},
     "output_type": "display_data"
    },
    {
     "data": {
      "text/plain": [
       "(6, \"S/3\", Tuple{Int16,Int16}[(42, 3), (50, 1), (57, 5), (69, 5)])"
      ]
     },
     "metadata": {},
     "output_type": "display_data"
    },
    {
     "data": {
      "text/plain": [
       "(3, \"Ts\", Tuple{Int16,Int16}[(42, 1), (49, 5), (57, 3), (66, 1)])"
      ]
     },
     "metadata": {},
     "output_type": "display_data"
    },
    {
     "data": {
      "text/plain": [
       "(0, \"D/3\", Tuple{Int16,Int16}[(44, 3), (47, 5), (59, 5), (64, 1)])"
      ]
     },
     "metadata": {},
     "output_type": "display_data"
    },
    {
     "data": {
      "text/plain": [
       "(15, \"T\", Tuple{Int16,Int16}[(45, 1), (49, 3), (57, 1), (64, 5)])"
      ]
     },
     "metadata": {},
     "output_type": "display_data"
    },
    {
     "data": {
      "text/plain": [
       "(0, \"Ss\", Tuple{Int16,Int16}[(47, 1), (50, 3), (54, 5), (62, 3)])"
      ]
     },
     "metadata": {},
     "output_type": "display_data"
    },
    {
     "data": {
      "text/plain": [
       "(12, \"D7-1\", Tuple{Int16,Int16}[(47, 5), (50, 7), (59, 5), (68, 3)])"
      ]
     },
     "metadata": {},
     "output_type": "display_data"
    },
    {
     "data": {
      "text/plain": [
       "(12, \"T/3\", Tuple{Int16,Int16}[(49, 3), (52, 5), (57, 1), (69, 1)])"
      ]
     },
     "metadata": {},
     "output_type": "display_data"
    },
    {
     "data": {
      "text/plain": [
       "(6, \"D7/5\", Tuple{Int16,Int16}[(47, 5), (52, 1), (56, 3), (62, 7)])"
      ]
     },
     "metadata": {},
     "output_type": "display_data"
    },
    {
     "data": {
      "text/plain": [
       "(12, \"T\", Tuple{Int16,Int16}[(45, 1), (52, 5), (57, 1), (61, 3)])"
      ]
     },
     "metadata": {},
     "output_type": "display_data"
    },
    {
     "data": {
      "text/plain": [
       "(18, \"S/3\", Tuple{Int16,Int16}[(42, 3), (50, 1), (57, 5), (62, 1)])"
      ]
     },
     "metadata": {},
     "output_type": "display_data"
    },
    {
     "data": {
      "text/plain": [
       "(30, \"D\", Tuple{Int16,Int16}[(40, 1), (56, 3), (59, 5), (64, 1)])"
      ]
     },
     "metadata": {},
     "output_type": "display_data"
    },
    {
     "data": {
      "text/plain": [
       "(24, \"D7\", Tuple{Int16,Int16}[(40, 1), (56, 3), (59, 5), (62, 7)])"
      ]
     },
     "metadata": {},
     "output_type": "display_data"
    },
    {
     "data": {
      "text/plain": [
       "(3, \"T\", Tuple{Int16,Int16}[(45, 1), (52, 5), (57, 1), (61, 3)])"
      ]
     },
     "metadata": {},
     "output_type": "display_data"
    },
    {
     "data": {
      "text/plain": [
       "(3, \"T\", Tuple{Int16,Int16}[(45, 1), (52, 5), (57, 1), (61, 3)])"
      ]
     },
     "metadata": {},
     "output_type": "display_data"
    },
    {
     "name": "stdout",
     "output_type": "stream",
     "text": [
      "##: Done. Total checked: 107341, Pruned: 124519, completed: 19, time: 2.2070000171661377, efficiency: 8.608971387502136\n",
      "Results: bestval_func: 165, bestval_voices: 67\n",
      "#Key: 10Scale: Major\n",
      "#Total time for optimisation of piece: 8.36299991607666\n",
      "#Total cost of piece: 419\n",
      "[\"T\", \"Ts\", \"D\", \"T/3\", \"S\", \"D7-1\", \"T\", \"T\", \"D7/3\", \"T\", \"S65/6\", \"D7-1\", \"T/3\", \"S/3\", \"D\", \"D\", \"S/3\", \"T/5\", \"S/3\", \"Ts\", \"D/3\", \"T\", \"Ss\", \"D7-1\", \"T/3\", \"D7/5\", \"T\", \"S/3\", \"D\", \"D7\", \"T\", \"T\"]\n",
      "../../results/optimizer/pianoroll/MBM-24-pacem-opt.csv\n",
      " End of file \n",
      " \n",
      "Optimising: ../../results/neuralnet/pianoroll/SJP-07-love-nn.csv\n",
      "[0 0 1 0 0 0 0 1 0 0 0 0; 0 0 2 0 0 0 0 0 0 0 1 0; 1 0 0 1 0 0 0 2 0 0 0 0; 0 0 0 0 0 0 0 0 0 0 0 0; 1 0 1 0 0 0 1 0 0 1 0 0; 0 0 1 0 0 0 0 1 0 0 2 0; 1 0 1 0 0 0 0 1 0 1 0 0; 1 0 0 0 0 0 0 2 0 0 1 0; 0 0 1 0 0 0 1 0 0 2 0 0; 0 0 2 0 0 0 1 0 0 0 1 0; 0 0 1 0 0 0 0 1 0 0 2 0; 1 0 0 1 0 2 0 0 0 0 0 0; 2 0 0 0 0 2 0 0 0 0 0 0; 0 0 2 0 0 1 0 1 0 0 0 0; 2 0 1 0 0 0 0 1 0 0 0 0; 1 0 1 0 0 0 0 0 0 2 0 0; 1 0 1 0 0 0 0 1 0 0 1 0; 0 0 2 0 0 0 0 1 0 0 1 0; 0 0 2 0 0 1 0 0 0 1 0 0; 0 0 1 0 0 0 0 1 0 1 1 0; 0 0 2 0 0 0 0 1 0 1 0 0; 0 0 2 0 0 0 1 0 0 0 1 0; 0 0 2 0 0 0 0 1 0 0 1 0; 1 0 1 0 0 0 0 2 0 0 0 0; 0 0 1 0 0 0 0 3 0 0 0 0; 3 0 0 0 0 0 0 1 0 0 0 0; 2 0 1 1 0 0 0 0 0 0 0 0; 0 0 2 0 0 1 0 0 0 1 0 0; 1 0 1 1 0 0 0 0 0 1 0 0; 0 0 2 0 0 0 0 1 0 0 1 0; 2 0 1 0 0 0 0 1 0 0 0 0; 1 0 2 0 0 1 0 0 0 0 0 0; 0 0 2 0 0 1 0 1 0 0 0 0]\n",
      "Key Counter is [21 0 39 4 0 9 4 24 0 11 13 0]\n",
      "Key Score is [104; 51; 78; 110; 19; 117; 30; 99; 71; 54; 121; 21]\n",
      "Position Counter for 11 is [13 0 21 0 39 4 0 9 4 24 0 11]\n",
      "Any[[11.0, 96.25, 0.0]]\n",
      "[11, 96, 0]\n",
      "8 G Minor\n",
      "Rhythm map: [\"S\", \"W\", \"S\", \"W\", \"S\", \"C\", \"C\", \"C\", \"S\", \"W\", \"S\", \"W\", \"S\", \"C\", \"C\", \"C\"] size: (16,)\n",
      "Amount of timesteps to optimise: 16\n",
      "Building lookup-table list...\n",
      "Lookup-table built.\n",
      "Initial function score upper bound: 499, voicing score upper bound: 499\n",
      "Starting search...\n",
      "New solution\n",
      "function cost: 192\n",
      "child voicing cost: 115\n",
      "Best yet: 307\n",
      "New solution\n",
      "function cost: 192\n",
      "child voicing cost: 107\n",
      "Best yet: 299\n",
      "New solution\n",
      "function cost: 192\n",
      "child voicing cost: 106\n",
      "Best yet: 298\n",
      "New solution\n",
      "function cost: 198\n",
      "child voicing cost: 95\n",
      "Best yet: 293\n",
      "New solution\n",
      "function cost: 198\n",
      "child voicing cost: 92\n",
      "Best yet: 290\n",
      "New solution\n",
      "function cost: 198\n",
      "child voicing cost: 90\n",
      "Best yet: 288\n",
      "New solution\n",
      "function cost: 198\n",
      "child voicing cost: 85\n",
      "Best yet: 283\n",
      "New solution\n",
      "function cost: 186\n",
      "child voicing cost: 90\n",
      "Best yet: 276\n",
      "New solution\n",
      "function cost: 186\n",
      "child voicing cost: 89\n",
      "Best yet: 275\n",
      "New solution\n",
      "function cost: 186\n",
      "child voicing cost: 88\n",
      "Best yet: 274\n",
      "New solution\n",
      "function cost: 183\n",
      "child voicing cost: 86\n",
      "Best yet: 269\n",
      "New solution\n",
      "function cost: 183\n",
      "child voicing cost: 82\n",
      "Best yet: 265\n",
      "New solution\n",
      "function cost: 168\n",
      "child voicing cost: 94\n",
      "Best yet: 262\n",
      "New solution\n",
      "function cost: 165\n",
      "child voicing cost: 96\n",
      "Best yet: 261\n",
      "New solution\n",
      "function cost: 162\n",
      "child voicing cost: 97\n",
      "Best yet: 259\n",
      "New solution\n",
      "function cost: 162\n",
      "child voicing cost: 94\n",
      "Best yet: 256\n",
      "New solution\n",
      "function cost: 156\n",
      "child voicing cost: 99\n",
      "Best yet: 255\n",
      "New solution\n",
      "function cost: 162\n",
      "child voicing cost: 90\n",
      "Best yet: 252\n",
      "New solution\n",
      "function cost: 156\n",
      "child voicing cost: 88\n",
      "Best yet: 244\n",
      "New solution\n",
      "function cost: 141\n",
      "child voicing cost: 102\n",
      "Best yet: 243\n",
      "New solution\n",
      "function cost: 141\n",
      "child voicing cost: 99\n",
      "Best yet: 240\n",
      "New solution\n",
      "function cost: 141\n",
      "child voicing cost: 97\n",
      "Best yet: 238\n",
      "New solution\n",
      "function cost: 141\n",
      "child voicing cost: 95\n",
      "Best yet: 236\n",
      "New solution\n",
      "function cost: 141\n",
      "child voicing cost: 92\n",
      "Best yet: 233\n",
      "New solution\n",
      "function cost: 141\n",
      "child voicing cost: 87\n",
      "Best yet: 228\n",
      "New solution\n",
      "function cost: 141\n",
      "child voicing cost: 83\n",
      "Best yet: 224\n",
      "##: Done. Total checked: 116882, Pruned: 149553, completed: 26, time: 2.6539998054504395, efficiency: 9.796534252415762\n",
      "Results: bestval_func: 141, bestval_voices: 83\n",
      "[0 0 1 0 0 0 0 1 0 0 0 0; 0 0 2 0 0 0 0 0 0 0 1 0; 1 0 0 1 0 0 0 2 0 0 0 0; 0 0 0 0 0 0 0 0 0 0 0 0; 1 0 1 0 0 0 1 0 0 1 0 0; 0 0 1 0 0 0 0 1 0 0 2 0; 1 0 1 0 0 0 0 1 0 1 0 0; 1 0 0 0 0 0 0 2 0 0 1 0; 0 0 1 0 0 0 1 0 0 2 0 0; 0 0 2 0 0 0 1 0 0 0 1 0; 0 0 1 0 0 0 0 1 0 0 2 0; 1 0 0 1 0 2 0 0 0 0 0 0; 2 0 0 0 0 2 0 0 0 0 0 0; 0 0 2 0 0 1 0 1 0 0 0 0; 2 0 1 0 0 0 0 1 0 0 0 0; 1 0 1 0 0 0 0 0 0 2 0 0; 1 0 1 0 0 0 0 1 0 0 1 0; 0 0 2 0 0 0 0 1 0 0 1 0; 0 0 2 0 0 1 0 0 0 1 0 0; 0 0 1 0 0 0 0 1 0 1 1 0; 0 0 2 0 0 0 0 1 0 1 0 0; 0 0 2 0 0 0 1 0 0 0 1 0; 0 0 2 0 0 0 0 1 0 0 1 0; 1 0 1 0 0 0 0 2 0 0 0 0; 0 0 1 0 0 0 0 3 0 0 0 0; 3 0 0 0 0 0 0 1 0 0 0 0; 2 0 1 1 0 0 0 0 0 0 0 0; 0 0 2 0 0 1 0 0 0 1 0 0; 1 0 1 1 0 0 0 0 0 1 0 0; 0 0 2 0 0 0 0 1 0 0 1 0; 2 0 1 0 0 0 0 1 0 0 0 0; 1 0 2 0 0 1 0 0 0 0 0 0; 0 0 2 0 0 1 0 1 0 0 0 0]\n",
      "Key Counter is [21 0 39 4 0 9 4 24 0 11 13 0]\n",
      "Key Score is [104; 51; 78; 110; 19; 117; 30; 99; 71; 54; 121; 21]\n",
      "Position Counter for 11 is [13 0 21 0 39 4 0 9 4 24 0 11]\n",
      "Any[[11.0, 96.25, 0.0]]\n",
      "[11, 96, 0]\n",
      "8 G Minor\n",
      "Rhythm map: [\"W\", \"S\", \"W\", \"S\", \"W\", \"S\", \"W\", \"S\", \"W\", \"S\", \"W\", \"S\", \"W\", \"A\", \"A\", \"A\", \"A\"] size: (17,)\n",
      "Amount of timesteps to optimise: 17\n",
      "Building lookup-table list...\n",
      "Lookup-table built.\n",
      "Initial function score upper bound: 499, voicing score upper bound: 499\n",
      "Starting search...\n",
      "New solution\n",
      "function cost: 189\n",
      "child voicing cost: 97\n",
      "Best yet: 286\n",
      "New solution\n",
      "function cost: 189\n",
      "child voicing cost: 92\n",
      "Best yet: 281\n",
      "New solution\n",
      "function cost: 189\n",
      "child voicing cost: 82\n",
      "Best yet: 271\n",
      "New solution\n",
      "function cost: 180\n",
      "child voicing cost: 86\n",
      "Best yet: 266\n",
      "New solution\n",
      "function cost: 189\n",
      "child voicing cost: 76\n",
      "Best yet: 265\n",
      "New solution\n",
      "function cost: 189\n",
      "child voicing cost: 72\n",
      "Best yet: 261\n",
      "New solution\n",
      "function cost: 189\n",
      "child voicing cost: 68\n",
      "Best yet: 257\n",
      "New solution\n",
      "function cost: 189\n",
      "child voicing cost: 65\n",
      "Best yet: 254\n",
      "New solution\n",
      "function cost: 189\n",
      "child voicing cost: 62\n",
      "Best yet: 251\n",
      "New solution\n",
      "function cost: 171\n",
      "child voicing cost: 78\n",
      "Best yet: 249\n",
      "New solution\n",
      "function cost: 174\n",
      "child voicing cost: 74\n",
      "Best yet: 248\n",
      "New solution\n",
      "function cost: 174\n",
      "child voicing cost: 70\n",
      "Best yet: 244\n",
      "New solution\n",
      "function cost: 165\n",
      "child voicing cost: 78\n",
      "Best yet: 243\n",
      "New solution\n",
      "function cost: 165\n",
      "child voicing cost: 75\n",
      "Best yet: 240\n",
      "New solution\n",
      "function cost: 165\n",
      "child voicing cost: 71\n",
      "Best yet: 236\n",
      "New solution\n",
      "function cost: 156\n",
      "child voicing cost: 79\n",
      "Best yet: 235\n",
      "New solution\n",
      "function cost: 162\n",
      "child voicing cost: 70\n",
      "Best yet: 232\n",
      "New solution\n",
      "function cost: 162\n",
      "child voicing cost: 67\n",
      "Best yet: 229\n",
      "New solution\n",
      "function cost: 162\n",
      "child voicing cost: 64\n",
      "Best yet: 226\n"
     ]
    },
    {
     "data": {
      "text/plain": [
       "(0, \"T\", Tuple{Int16,Int16}[(55, 1), (55, 1), (62, 5), (70, 3)])"
      ]
     },
     "metadata": {},
     "output_type": "display_data"
    },
    {
     "data": {
      "text/plain": [
       "(3, \"D\", Tuple{Int16,Int16}[(50, 1), (57, 5), (66, 3), (74, 1)])"
      ]
     },
     "metadata": {},
     "output_type": "display_data"
    },
    {
     "data": {
      "text/plain": [
       "(0, \"S/3\", Tuple{Int16,Int16}[(51, 3), (55, 5), (67, 5), (72, 1)])"
      ]
     },
     "metadata": {},
     "output_type": "display_data"
    },
    {
     "data": {
      "text/plain": [
       "(0, \"T\", Tuple{Int16,Int16}[(55, 1), (62, 5), (67, 1), (70, 3)])"
      ]
     },
     "metadata": {},
     "output_type": "display_data"
    },
    {
     "data": {
      "text/plain": [
       "(0, \"D7/3\", Tuple{Int16,Int16}[(54, 3), (60, 7), (69, 5), (74, 1)])"
      ]
     },
     "metadata": {},
     "output_type": "display_data"
    },
    {
     "data": {
      "text/plain": [
       "(9, \"T\", Tuple{Int16,Int16}[(55, 1), (58, 3), (67, 1), (74, 5)])"
      ]
     },
     "metadata": {},
     "output_type": "display_data"
    },
    {
     "data": {
      "text/plain": [
       "(12, \"S\", Tuple{Int16,Int16}[(48, 1), (60, 1), (67, 5), (75, 3)])"
      ]
     },
     "metadata": {},
     "output_type": "display_data"
    },
    {
     "data": {
      "text/plain": [
       "(18, \"S\", Tuple{Int16,Int16}[(48, 1), (63, 3), (67, 5), (72, 1)])"
      ]
     },
     "metadata": {},
     "output_type": "display_data"
    },
    {
     "data": {
      "text/plain": [
       "(0, \"D/3\", Tuple{Int16,Int16}[(54, 3), (62, 1), (69, 5), (74, 1)])"
      ]
     },
     "metadata": {},
     "output_type": "display_data"
    },
    {
     "data": {
      "text/plain": [
       "(3, \"D\", Tuple{Int16,Int16}[(50, 1), (62, 1), (69, 5), (78, 3)])"
      ]
     },
     "metadata": {},
     "output_type": "display_data"
    },
    {
     "data": {
      "text/plain": [
       "(12, \"D7/7\", Tuple{Int16,Int16}[(48, 7), (62, 1), (69, 5), (78, 3)])"
      ]
     },
     "metadata": {},
     "output_type": "display_data"
    },
    {
     "data": {
      "text/plain": [
       "(24, \"T/3\", Tuple{Int16,Int16}[(46, 3), (62, 5), (67, 1), (79, 1)])"
      ]
     },
     "metadata": {},
     "output_type": "display_data"
    },
    {
     "data": {
      "text/plain": [
       "(12, \"S\", Tuple{Int16,Int16}[(48, 1), (60, 1), (67, 5), (75, 3)])"
      ]
     },
     "metadata": {},
     "output_type": "display_data"
    },
    {
     "data": {
      "text/plain": [
       "(9, \"D\", Tuple{Int16,Int16}[(50, 1), (57, 5), (66, 3), (74, 1)])"
      ]
     },
     "metadata": {},
     "output_type": "display_data"
    },
    {
     "data": {
      "text/plain": [
       "(18, \"Ts\", Tuple{Int16,Int16}[(51, 1), (55, 3), (67, 3), (70, 5)])"
      ]
     },
     "metadata": {},
     "output_type": "display_data"
    },
    {
     "data": {
      "text/plain": [
       "(21, \"Ts\", Tuple{Int16,Int16}[(51, 1), (55, 3), (63, 1), (70, 5)])"
      ]
     },
     "metadata": {},
     "output_type": "display_data"
    },
    {
     "data": {
      "text/plain": [
       "(9, \"S\", Tuple{Int16,Int16}[(48, 1), (55, 5), (63, 3), (72, 1)])"
      ]
     },
     "metadata": {},
     "output_type": "display_data"
    },
    {
     "data": {
      "text/plain": [
       "(0, \"T/3\", Tuple{Int16,Int16}[(46, 3), (55, 1), (62, 5), (74, 5)])"
      ]
     },
     "metadata": {},
     "output_type": "display_data"
    },
    {
     "data": {
      "text/plain": [
       "(3, \"D/3\", Tuple{Int16,Int16}[(42, 3), (57, 5), (62, 1), (74, 1)])"
      ]
     },
     "metadata": {},
     "output_type": "display_data"
    },
    {
     "data": {
      "text/plain": [
       "(6, \"T\", Tuple{Int16,Int16}[(43, 1), (55, 1), (62, 5), (70, 3)])"
      ]
     },
     "metadata": {},
     "output_type": "display_data"
    },
    {
     "data": {
      "text/plain": [
       "(3, \"D\", Tuple{Int16,Int16}[(50, 1), (54, 3), (62, 1), (69, 5)])"
      ]
     },
     "metadata": {},
     "output_type": "display_data"
    },
    {
     "data": {
      "text/plain": [
       "(9, \"Ts\", Tuple{Int16,Int16}[(51, 1), (55, 3), (58, 5), (67, 3)])"
      ]
     },
     "metadata": {},
     "output_type": "display_data"
    },
    {
     "data": {
      "text/plain": [
       "(0, \"T/3\", Tuple{Int16,Int16}[(46, 3), (55, 1), (62, 5), (67, 1)])"
      ]
     },
     "metadata": {},
     "output_type": "display_data"
    },
    {
     "data": {
      "text/plain": [
       "(9, \"D7/5\", Tuple{Int16,Int16}[(45, 5), (54, 3), (62, 1), (72, 7)])"
      ]
     },
     "metadata": {},
     "output_type": "display_data"
    },
    {
     "data": {
      "text/plain": [
       "(9, \"T\", Tuple{Int16,Int16}[(43, 1), (55, 1), (62, 5), (70, 3)])"
      ]
     },
     "metadata": {},
     "output_type": "display_data"
    },
    {
     "data": {
      "text/plain": [
       "(18, \"T/3\", Tuple{Int16,Int16}[(46, 3), (55, 1), (62, 5), (67, 1)])"
      ]
     },
     "metadata": {},
     "output_type": "display_data"
    },
    {
     "data": {
      "text/plain": [
       "(15, \"S\", Tuple{Int16,Int16}[(48, 1), (60, 1), (63, 3), (67, 5)])"
      ]
     },
     "metadata": {},
     "output_type": "display_data"
    },
    {
     "data": {
      "text/plain": [
       "(15, \"Tm\", Tuple{Int16,Int16}[(46, 1), (62, 3), (65, 5), (74, 3)])"
      ]
     },
     "metadata": {},
     "output_type": "display_data"
    },
    {
     "data": {
      "text/plain": [
       "(12, \"S\", Tuple{Int16,Int16}[(48, 1), (55, 5), (63, 3), (72, 1)])"
      ]
     },
     "metadata": {},
     "output_type": "display_data"
    },
    {
     "data": {
      "text/plain": [
       "(6, \"D\", Tuple{Int16,Int16}[(50, 1), (54, 3), (62, 1), (69, 5)])"
      ]
     },
     "metadata": {},
     "output_type": "display_data"
    },
    {
     "data": {
      "text/plain": [
       "(21, \"T\", Tuple{Int16,Int16}[(43, 1), (55, 1), (62, 5), (70, 3)])"
      ]
     },
     "metadata": {},
     "output_type": "display_data"
    },
    {
     "data": {
      "text/plain": [
       "(21, \"T\", Tuple{Int16,Int16}[(43, 1), (55, 1), (62, 5), (70, 3)])"
      ]
     },
     "metadata": {},
     "output_type": "display_data"
    },
    {
     "name": "stdout",
     "output_type": "stream",
     "text": [
      "##: Done. Total checked: 92914, Pruned: 116970, completed: 19, time: 2.114000082015991, efficiency: 8.987700691989035\n",
      "Results: bestval_func: 162, bestval_voices: 64\n",
      "#Key: 8Scale: Minor\n",
      "#Total time for optimisation of piece: 6.0279998779296875\n",
      "#Total cost of piece: 450\n",
      "[\"T\", \"D\", \"S/3\", \"T\", \"D7/3\", \"T\", \"S\", \"S\", \"D/3\", \"D\", \"D7/7\", \"T/3\", \"S\", \"D\", \"Ts\", \"Ts\", \"S\", \"T/3\", \"D/3\", \"T\", \"D\", \"Ts\", \"T/3\", \"D7/5\", \"T\", \"T/3\", \"S\", \"Tm\", \"S\", \"D\", \"T\", \"T\"]\n",
      "../../results/optimizer/pianoroll/SJP-07-love-opt.csv\n",
      " End of file \n",
      " \n",
      "Optimising: ../../results/neuralnet/pianoroll/SJP-09-will-nn.csv\n",
      "[0 0 2 0 0 1 0 0 0 1 0 0; 0 1 0 0 1 0 0 1 0 1 0 0; 0 0 1 0 0 1 0 0 0 1 0 0; 0 1 0 0 1 0 0 2 0 0 0 0; 0 0 1 0 0 1 0 0 0 2 0 0; 2 0 1 0 0 0 0 0 0 1 0 0; 1 0 0 0 0 0 0 2 0 0 1 0; 1 0 0 0 0 1 0 0 0 1 1 0; 1 0 1 0 0 0 0 0 0 1 1 0; 1 0 0 0 0 1 0 0 0 1 1 0; 0 0 2 0 0 1 0 0 0 1 0 0; 0 0 2 0 0 1 0 0 0 0 1 0; 2 0 0 0 0 1 0 0 0 1 0 0; 0 0 1 0 0 0 0 1 0 1 1 0; 2 0 0 0 0 0 0 1 0 1 0 0; 1 0 1 0 0 1 0 0 0 1 0 0; 1 0 1 0 0 0 0 1 0 0 1 0; 3 0 0 0 0 0 0 1 0 0 0 0; 1 0 0 0 0 1 0 1 0 0 1 0; 1 0 0 0 0 1 0 0 0 2 0 0; 2 0 1 0 0 1 0 0 0 0 0 0; 0 0 1 0 0 0 0 1 0 0 1 1; 1 0 0 0 0 0 0 0 0 2 1 0; 1 0 0 0 1 0 0 0 0 1 1 0; 1 0 1 0 0 0 0 1 0 0 1 0; 1 0 0 0 0 2 0 0 0 1 0 0; 2 0 0 0 1 1 0 0 0 0 0 0; 2 0 0 0 0 1 0 1 0 0 0 0; 2 0 0 0 0 0 0 0 0 1 1 0; 0 0 0 0 1 0 0 1 0 1 1 0; 0 0 2 0 0 1 0 0 0 1 0 0; 0 0 1 0 0 2 0 1 0 0 0 0; 2 0 1 0 0 1 0 0 0 0 0 0]\n",
      "Key Counter is [31 2 20 0 5 20 0 15 0 23 14 1]\n",
      "Key Score is [115; 67; 66; 100; 31; 128; 37; 95; 82; 51; 123; 22]\n",
      "Position Counter for 6 is [20 0 15 0 23 14 1 31 2 20 0 5]\n",
      "Any[[6.0, 84.5, 1.0]]\n",
      "[6, 84, 1]\n",
      "6 F Major\n",
      "Rhythm map: [\"S\", \"W\", \"S\", \"W\", \"S\", \"C\", \"C\", \"C\", \"S\", \"W\", \"S\", \"W\", \"S\", \"C\", \"C\", \"C\"] size: (16,)\n",
      "Amount of timesteps to optimise: 16\n",
      "Building lookup-table list...\n",
      "Lookup-table built.\n",
      "Initial function score upper bound: 499, voicing score upper bound: 499\n",
      "Starting search...\n",
      "New solution\n",
      "function cost: 174\n",
      "child voicing cost: 88\n",
      "Best yet: 262\n",
      "New solution\n",
      "function cost: 174\n",
      "child voicing cost: 84\n",
      "Best yet: 258\n",
      "New solution\n",
      "function cost: 162\n",
      "child voicing cost: 85\n",
      "Best yet: 247\n",
      "New solution\n",
      "function cost: 162\n",
      "child voicing cost: 79\n",
      "Best yet: 241\n",
      "##: Done. Total checked: 60418, Pruned: 68739, completed: 4, time: 1.3220000267028809, efficiency: 3.0257185470534025\n",
      "Results: bestval_func: 162, bestval_voices: 79\n",
      "[0 0 2 0 0 1 0 0 0 1 0 0; 0 1 0 0 1 0 0 1 0 1 0 0; 0 0 1 0 0 1 0 0 0 1 0 0; 0 1 0 0 1 0 0 2 0 0 0 0; 0 0 1 0 0 1 0 0 0 2 0 0; 2 0 1 0 0 0 0 0 0 1 0 0; 1 0 0 0 0 0 0 2 0 0 1 0; 1 0 0 0 0 1 0 0 0 1 1 0; 1 0 1 0 0 0 0 0 0 1 1 0; 1 0 0 0 0 1 0 0 0 1 1 0; 0 0 2 0 0 1 0 0 0 1 0 0; 0 0 2 0 0 1 0 0 0 0 1 0; 2 0 0 0 0 1 0 0 0 1 0 0; 0 0 1 0 0 0 0 1 0 1 1 0; 2 0 0 0 0 0 0 1 0 1 0 0; 1 0 1 0 0 1 0 0 0 1 0 0; 1 0 1 0 0 0 0 1 0 0 1 0; 3 0 0 0 0 0 0 1 0 0 0 0; 1 0 0 0 0 1 0 1 0 0 1 0; 1 0 0 0 0 1 0 0 0 2 0 0; 2 0 1 0 0 1 0 0 0 0 0 0; 0 0 1 0 0 0 0 1 0 0 1 1; 1 0 0 0 0 0 0 0 0 2 1 0; 1 0 0 0 1 0 0 0 0 1 1 0; 1 0 1 0 0 0 0 1 0 0 1 0; 1 0 0 0 0 2 0 0 0 1 0 0; 2 0 0 0 1 1 0 0 0 0 0 0; 2 0 0 0 0 1 0 1 0 0 0 0; 2 0 0 0 0 0 0 0 0 1 1 0; 0 0 0 0 1 0 0 1 0 1 1 0; 0 0 2 0 0 1 0 0 0 1 0 0; 0 0 1 0 0 2 0 1 0 0 0 0; 2 0 1 0 0 1 0 0 0 0 0 0]\n",
      "Key Counter is [31 2 20 0 5 20 0 15 0 23 14 1]\n",
      "Key Score is [115; 67; 66; 100; 31; 128; 37; 95; 82; 51; 123; 22]\n",
      "Position Counter for 6 is [20 0 15 0 23 14 1 31 2 20 0 5]\n",
      "Any[[6.0, 84.5, 1.0]]\n",
      "[6, 84, 1]\n",
      "6 F Major\n",
      "Rhythm map: [\"W\", \"S\", \"W\", \"S\", \"W\", \"S\", \"W\", \"S\", \"W\", \"S\", \"W\", \"S\", \"W\", \"A\", \"A\", \"A\", \"A\"] size: (17,)\n",
      "Amount of timesteps to optimise: 17\n",
      "Building lookup-table list...\n",
      "Lookup-table built.\n",
      "Initial function score upper bound: 499, voicing score upper bound: 499\n",
      "Starting search...\n",
      "New solution\n",
      "function cost: 207\n",
      "child voicing cost: 84\n",
      "Best yet: 291\n",
      "New solution\n",
      "function cost: 207\n",
      "child voicing cost: 81\n",
      "Best yet: 288\n",
      "New solution\n",
      "function cost: 207\n",
      "child voicing cost: 78\n",
      "Best yet: 285\n",
      "New solution\n",
      "function cost: 210\n",
      "child voicing cost: 74\n",
      "Best yet: 284\n",
      "New solution\n",
      "function cost: 210\n",
      "child voicing cost: 71\n",
      "Best yet: 281\n",
      "New solution\n",
      "function cost: 207\n",
      "child voicing cost: 72\n",
      "Best yet: 279\n",
      "New solution\n",
      "function cost: 183\n",
      "child voicing cost: 86\n",
      "Best yet: 269\n",
      "New solution\n",
      "function cost: 183\n",
      "child voicing cost: 80\n",
      "Best yet: 263\n",
      "New solution\n",
      "function cost: 195\n",
      "child voicing cost: 64\n",
      "Best yet: 259\n",
      "New solution\n",
      "function cost: 186\n",
      "child voicing cost: 72\n",
      "Best yet: 258\n",
      "New solution\n",
      "function cost: 186\n",
      "child voicing cost: 69\n",
      "Best yet: 255\n",
      "New solution\n",
      "function cost: 183\n",
      "child voicing cost: 71\n",
      "Best yet: 254\n",
      "New solution\n",
      "function cost: 186\n",
      "child voicing cost: 67\n",
      "Best yet: 253\n",
      "New solution\n",
      "function cost: 183\n",
      "child voicing cost: 69\n",
      "Best yet: 252\n",
      "New solution\n",
      "function cost: 180\n",
      "child voicing cost: 71\n",
      "Best yet: 251"
     ]
    },
    {
     "data": {
      "text/plain": [
       "(15, \"T\", Tuple{Int16,Int16}[(53, 1), (53, 1), (60, 5), (69, 3)])"
      ]
     },
     "metadata": {},
     "output_type": "display_data"
    },
    {
     "data": {
      "text/plain": [
       "(6, \"D7/3\", Tuple{Int16,Int16}[(52, 3), (55, 5), (60, 1), (70, 7)])"
      ]
     },
     "metadata": {},
     "output_type": "display_data"
    },
    {
     "data": {
      "text/plain": [
       "(0, \"Ts\", Tuple{Int16,Int16}[(50, 1), (57, 5), (62, 1), (65, 3)])"
      ]
     },
     "metadata": {},
     "output_type": "display_data"
    },
    {
     "data": {
      "text/plain": [
       "(12, \"D7\", Tuple{Int16,Int16}[(48, 1), (58, 7), (64, 3), (67, 5)])"
      ]
     },
     "metadata": {},
     "output_type": "display_data"
    },
    {
     "data": {
      "text/plain": [
       "(12, \"Ts\", Tuple{Int16,Int16}[(50, 1), (57, 5), (65, 3), (65, 3)])"
      ]
     },
     "metadata": {},
     "output_type": "display_data"
    },
    {
     "data": {
      "text/plain": [
       "(12, \"D\", Tuple{Int16,Int16}[(48, 1), (64, 3), (67, 5), (72, 1)])"
      ]
     },
     "metadata": {},
     "output_type": "display_data"
    },
    {
     "data": {
      "text/plain": [
       "(15, \"T\", Tuple{Int16,Int16}[(53, 1), (65, 1), (69, 3), (72, 5)])"
      ]
     },
     "metadata": {},
     "output_type": "display_data"
    },
    {
     "data": {
      "text/plain": [
       "(15, \"T\", Tuple{Int16,Int16}[(53, 1), (60, 5), (69, 3), (77, 1)])"
      ]
     },
     "metadata": {},
     "output_type": "display_data"
    },
    {
     "data": {
      "text/plain": [
       "(12, \"D7/3\", Tuple{Int16,Int16}[(52, 3), (60, 1), (70, 7), (79, 5)])"
      ]
     },
     "metadata": {},
     "output_type": "display_data"
    },
    {
     "data": {
      "text/plain": [
       "(15, \"T\", Tuple{Int16,Int16}[(53, 1), (60, 5), (69, 3), (77, 1)])"
      ]
     },
     "metadata": {},
     "output_type": "display_data"
    },
    {
     "data": {
      "text/plain": [
       "(12, \"T/3\", Tuple{Int16,Int16}[(57, 3), (60, 5), (65, 1), (72, 5)])"
      ]
     },
     "metadata": {},
     "output_type": "display_data"
    },
    {
     "data": {
      "text/plain": [
       "(12, \"S\", Tuple{Int16,Int16}[(58, 1), (62, 3), (65, 5), (70, 1)])"
      ]
     },
     "metadata": {},
     "output_type": "display_data"
    },
    {
     "data": {
      "text/plain": [
       "(0, \"T/3\", Tuple{Int16,Int16}[(57, 3), (60, 5), (65, 1), (77, 1)])"
      ]
     },
     "metadata": {},
     "output_type": "display_data"
    },
    {
     "data": {
      "text/plain": [
       "(9, \"S\", Tuple{Int16,Int16}[(58, 1), (62, 3), (70, 1), (77, 5)])"
      ]
     },
     "metadata": {},
     "output_type": "display_data"
    },
    {
     "data": {
      "text/plain": [
       "(15, \"D\", Tuple{Int16,Int16}[(60, 1), (64, 3), (67, 5), (72, 1)])"
      ]
     },
     "metadata": {},
     "output_type": "display_data"
    },
    {
     "data": {
      "text/plain": [
       "(15, \"D\", Tuple{Int16,Int16}[(60, 1), (64, 3), (72, 1), (79, 5)])"
      ]
     },
     "metadata": {},
     "output_type": "display_data"
    },
    {
     "data": {
      "text/plain": [
       "(6, \"D7\", Tuple{Int16,Int16}[(48, 1), (64, 3), (70, 7), (79, 5)])"
      ]
     },
     "metadata": {},
     "output_type": "display_data"
    },
    {
     "data": {
      "text/plain": [
       "(27, \"Ts\", Tuple{Int16,Int16}[(50, 1), (65, 3), (69, 5), (77, 3)])"
      ]
     },
     "metadata": {},
     "output_type": "display_data"
    },
    {
     "data": {
      "text/plain": [
       "(3, \"D7/3\", Tuple{Int16,Int16}[(52, 3), (60, 1), (67, 5), (70, 7)])"
      ]
     },
     "metadata": {},
     "output_type": "display_data"
    },
    {
     "data": {
      "text/plain": [
       "(12, \"T\", Tuple{Int16,Int16}[(53, 1), (60, 5), (65, 1), (69, 3)])"
      ]
     },
     "metadata": {},
     "output_type": "display_data"
    },
    {
     "data": {
      "text/plain": [
       "(9, \"D-5\", Tuple{Int16,Int16}[(48, 1), (60, 1), (64, 3), (72, 1)])"
      ]
     },
     "metadata": {},
     "output_type": "display_data"
    },
    {
     "data": {
      "text/plain": [
       "(9, \"D7/7\", Tuple{Int16,Int16}[(46, 7), (55, 5), (64, 3), (72, 1)])"
      ]
     },
     "metadata": {},
     "output_type": "display_data"
    },
    {
     "data": {
      "text/plain": [
       "(18, \"T/3\", Tuple{Int16,Int16}[(45, 3), (60, 5), (65, 1), (77, 1)])"
      ]
     },
     "metadata": {},
     "output_type": "display_data"
    },
    {
     "data": {
      "text/plain": [
       "(3, \"Tm\", Tuple{Int16,Int16}[(45, 1), (60, 3), (69, 1), (76, 5)])"
      ]
     },
     "metadata": {},
     "output_type": "display_data"
    },
    {
     "data": {
      "text/plain": [
       "(6, \"D7/3\", Tuple{Int16,Int16}[(52, 3), (60, 1), (67, 5), (70, 7)])"
      ]
     },
     "metadata": {},
     "output_type": "display_data"
    },
    {
     "data": {
      "text/plain": [
       "(0, \"T\", Tuple{Int16,Int16}[(53, 1), (60, 5), (65, 1), (69, 3)])"
      ]
     },
     "metadata": {},
     "output_type": "display_data"
    },
    {
     "data": {
      "text/plain": [
       "(12, \"D7/3\", Tuple{Int16,Int16}[(52, 3), (58, 7), (67, 5), (72, 1)])"
      ]
     },
     "metadata": {},
     "output_type": "display_data"
    },
    {
     "data": {
      "text/plain": [
       "(15, \"T\", Tuple{Int16,Int16}[(53, 1), (57, 3), (65, 1), (72, 5)])"
      ]
     },
     "metadata": {},
     "output_type": "display_data"
    },
    {
     "data": {
      "text/plain": [
       "(24, \"S\", Tuple{Int16,Int16}[(46, 1), (58, 1), (65, 5), (74, 3)])"
      ]
     },
     "metadata": {},
     "output_type": "display_data"
    },
    {
     "data": {
      "text/plain": [
       "(9, \"D7\", Tuple{Int16,Int16}[(48, 1), (58, 7), (64, 3), (67, 5)])"
      ]
     },
     "metadata": {},
     "output_type": "display_data"
    },
    {
     "data": {
      "text/plain": [
       "(15, \"T\", Tuple{Int16,Int16}[(53, 1), (57, 3), (60, 5), (65, 1)])"
      ]
     },
     "metadata": {},
     "output_type": "display_data"
    },
    {
     "data": {
      "text/plain": [
       "(15, \"T\", Tuple{Int16,Int16}[(53, 1), (57, 3), (60, 5), (65, 1)])"
      ]
     },
     "metadata": {},
     "output_type": "display_data"
    },
    {
     "name": "stdout",
     "output_type": "stream",
     "text": [
      "\n",
      "##: Done. Total checked: 114238, Pruned: 132945, completed: 15, time: 2.5870001316070557, efficiency: 5.798221583654089\n",
      "Results: bestval_func: 180, bestval_voices: 71\n",
      "#Key: 6Scale: Major\n",
      "#Total time for optimisation of piece: 5.49399995803833\n",
      "#Total cost of piece: 492\n",
      "[\"T\", \"D7/3\", \"Ts\", \"D7\", \"Ts\", \"D\", \"T\", \"T\", \"D7/3\", \"T\", \"T/3\", \"S\", \"T/3\", \"S\", \"D\", \"D\", \"D7\", \"Ts\", \"D7/3\", \"T\", \"D-5\", \"D7/7\", \"T/3\", \"Tm\", \"D7/3\", \"T\", \"D7/3\", \"T\", \"S\", \"D7\", \"T\", \"T\"]\n",
      "../../results/optimizer/pianoroll/SJP-09-will-opt.csv\n",
      " End of file \n",
      " \n",
      "Optimising: ../../results/neuralnet/pianoroll/SJP-15-hatrd-nn.csv\n",
      "[0 1 0 0 1 0 0 0 0 2 0 0; 0 0 1 0 0 0 1 0 0 1 0 0; 0 0 1 0 0 0 0 0 1 0 0 2; 0 0 1 0 1 0 0 0 0 1 0 1; 0 1 0 0 1 0 0 1 0 1 0 0; 0 0 2 0 0 0 1 0 0 1 0 0; 0 1 0 0 1 0 1 0 1 0 0 0; 0 1 1 0 0 0 1 0 1 0 0 0; 0 1 0 0 0 0 2 0 0 0 0 1; 0 0 0 0 2 0 0 0 1 0 0 1; 0 0 0 0 1 0 0 0 1 2 0 0; 0 1 0 0 1 0 1 0 0 1 0 0; 0 1 0 0 2 0 0 0 0 0 0 1; 0 0 1 0 0 0 1 0 0 0 0 2; 0 1 0 0 2 0 1 0 0 0 0 0; 0 0 1 0 1 0 0 0 1 0 0 1; 0 0 0 0 2 0 0 0 0 1 0 1; 0 2 0 0 1 0 0 0 0 1 0 0; 0 1 1 0 1 0 0 0 0 1 0 0; 0 1 0 0 1 0 1 0 0 0 0 1; 0 0 1 0 0 0 1 0 1 0 0 1; 0 1 0 0 2 0 0 0 0 1 0 0; 0 0 0 0 0 0 1 0 0 1 0 2; 0 0 0 0 1 0 0 0 1 0 0 2; 0 2 0 0 1 0 0 0 0 1 0 0; 0 1 1 0 1 0 0 0 0 1 0 0; 0 1 1 0 0 0 0 0 1 1 0 0; 0 0 1 0 0 0 0 0 2 0 0 1; 0 1 0 0 0 0 1 0 0 2 0 0; 0 2 0 0 0 0 1 0 0 1 0 0; 0 1 0 0 1 0 0 0 0 1 0 1; 0 0 0 1 0 0 1 0 0 0 0 2; 0 0 0 0 2 0 1 0 0 0 0 1]\n",
      "Key Counter is [0 21 13 1 26 0 16 1 11 21 0 21]\n",
      "Key Score is [82; 49; 119; 26; 117; 61; 70; 98; 34; 129; 36; 96]\n",
      "Position Counter for 10 is [21 0 21 0 21 13 1 26 0 16 1 11]\n",
      "Any[[10.0, 85.5, 1.0]]\n",
      "[10, 86, 1]\n",
      "10 A Major\n",
      "Rhythm map: [\"S\", \"W\", \"S\", \"W\", \"S\", \"C\", \"C\", \"C\", \"S\", \"W\", \"S\", \"W\", \"S\", \"C\", \"C\", \"C\"] size: (16,)\n",
      "Amount of timesteps to optimise: 16\n",
      "Building lookup-table list...\n",
      "Lookup-table built.\n",
      "Initial function score upper bound: 499, voicing score upper bound: 499\n",
      "Starting search...\n",
      "New solution\n",
      "function cost: 228\n",
      "child voicing cost: 100\n",
      "Best yet: 328\n",
      "New solution\n",
      "function cost: 228\n",
      "child voicing cost: 97\n",
      "Best yet: 325\n",
      "New solution\n",
      "function cost: 228\n",
      "child voicing cost: 94\n",
      "Best yet: 322\n",
      "New solution\n",
      "function cost: 213\n",
      "child voicing cost: 103\n",
      "Best yet: 316\n",
      "New solution\n",
      "function cost: 213\n",
      "child voicing cost: 100\n",
      "Best yet: 313\n",
      "New solution\n",
      "function cost: 213\n",
      "child voicing cost: 97\n",
      "Best yet: 310\n",
      "New solution\n",
      "function cost: 222\n",
      "child voicing cost: 86\n",
      "Best yet: 308\n",
      "New solution\n",
      "function cost: 213\n",
      "child voicing cost: 94\n",
      "Best yet: 307\n",
      "New solution\n",
      "function cost: 213\n",
      "child voicing cost: 91\n",
      "Best yet: 304\n",
      "New solution\n",
      "function cost: 204\n",
      "child voicing cost: 86\n",
      "Best yet: 290\n",
      "New solution\n",
      "function cost: 204\n",
      "child voicing cost: 83\n",
      "Best yet: 287\n",
      "New solution\n",
      "function cost: 204\n",
      "child voicing cost: 78\n",
      "Best yet: 282\n",
      "New solution\n",
      "function cost: 198\n",
      "child voicing cost: 82\n",
      "Best yet: 280\n",
      "New solution\n",
      "function cost: 177\n",
      "child voicing cost: 78\n",
      "Best yet: 255\n",
      "New solution\n",
      "function cost: 162\n",
      "child voicing cost: 89\n",
      "Best yet: 251\n",
      "New solution\n",
      "function cost: 162\n",
      "child voicing cost: 86\n",
      "Best yet: 248\n",
      "New solution\n",
      "function cost: 162\n",
      "child voicing cost: 81\n",
      "Best yet: 243\n",
      "New solution\n",
      "function cost: 171\n",
      "child voicing cost: 71\n",
      "Best yet: 242\n",
      "New solution\n",
      "function cost: 162\n",
      "child voicing cost: 79\n",
      "Best yet: 241\n",
      "New solution\n",
      "function cost: 162\n",
      "child voicing cost: 77\n",
      "Best yet: 239\n",
      "New solution\n",
      "function cost: 168\n",
      "child voicing cost: 70\n",
      "Best yet: 238\n",
      "New solution\n",
      "function cost: 168\n",
      "child voicing cost: 67\n",
      "Best yet: 235\n",
      "New solution\n",
      "function cost: 159\n",
      "child voicing cost: 75\n",
      "Best yet: 234\n",
      "New solution\n",
      "function cost: 147\n",
      "child voicing cost: 85\n",
      "Best yet: 232\n",
      "New solution\n",
      "function cost: 147\n",
      "child voicing cost: 80\n",
      "Best yet: 227\n",
      "New solution\n",
      "function cost: 141\n",
      "child voicing cost: 84\n",
      "Best yet: 225\n",
      "New solution\n",
      "function cost: 141\n",
      "child voicing cost: 83\n",
      "Best yet: 224\n",
      "##: Done. Total checked: 232442, Pruned: 281303, completed: 27, time: 4.619999885559082, efficiency: 5.844155988920038\n",
      "Results: bestval_func: 141, bestval_voices: 83\n",
      "[0 1 0 0 1 0 0 0 0 2 0 0; 0 0 1 0 0 0 1 0 0 1 0 0; 0 0 1 0 0 0 0 0 1 0 0 2; 0 0 1 0 1 0 0 0 0 1 0 1; 0 1 0 0 1 0 0 1 0 1 0 0; 0 0 2 0 0 0 1 0 0 1 0 0; 0 1 0 0 1 0 1 0 1 0 0 0; 0 1 1 0 0 0 1 0 1 0 0 0; 0 1 0 0 0 0 2 0 0 0 0 1; 0 0 0 0 2 0 0 0 1 0 0 1; 0 0 0 0 1 0 0 0 1 2 0 0; 0 1 0 0 1 0 1 0 0 1 0 0; 0 1 0 0 2 0 0 0 0 0 0 1; 0 0 1 0 0 0 1 0 0 0 0 2; 0 1 0 0 2 0 1 0 0 0 0 0; 0 0 1 0 1 0 0 0 1 0 0 1; 0 0 0 0 2 0 0 0 0 1 0 1; 0 2 0 0 1 0 0 0 0 1 0 0; 0 1 1 0 1 0 0 0 0 1 0 0; 0 1 0 0 1 0 1 0 0 0 0 1; 0 0 1 0 0 0 1 0 1 0 0 1; 0 1 0 0 2 0 0 0 0 1 0 0; 0 0 0 0 0 0 1 0 0 1 0 2; 0 0 0 0 1 0 0 0 1 0 0 2; 0 2 0 0 1 0 0 0 0 1 0 0; 0 1 1 0 1 0 0 0 0 1 0 0; 0 1 1 0 0 0 0 0 1 1 0 0; 0 0 1 0 0 0 0 0 2 0 0 1; 0 1 0 0 0 0 1 0 0 2 0 0; 0 2 0 0 0 0 1 0 0 1 0 0; 0 1 0 0 1 0 0 0 0 1 0 1; 0 0 0 1 0 0 1 0 0 0 0 2; 0 0 0 0 2 0 1 0 0 0 0 1]\n",
      "Key Counter is [0 21 13 1 26 0 16 1 11 21 0 21]\n",
      "Key Score is [82; 49; 119; 26; 117; 61; 70; 98; 34; 129; 36; 96]\n",
      "Position Counter for 10 is [21 0 21 0 21 13 1 26 0 16 1 11]\n",
      "Any[[10.0, 85.5, 1.0]]\n",
      "[10, 86, 1]\n",
      "10 A Major\n",
      "Rhythm map: [\"W\", \"S\", \"W\", \"S\", \"W\", \"S\", \"W\", \"S\", \"W\", \"S\", \"W\", \"S\", \"W\", \"A\", \"A\", \"A\", \"A\"] size: (17,)\n",
      "Amount of timesteps to optimise: 17\n",
      "Building lookup-table list...\n",
      "Lookup-table built.\n",
      "Initial function score upper bound: 499, voicing score upper bound: 499\n",
      "Starting search...\n",
      "New solution\n",
      "function cost: 207\n",
      "child voicing cost: 65\n",
      "Best yet: 272\n",
      "New solution\n",
      "function cost: 204\n",
      "child voicing cost: 63\n",
      "Best yet: 267\n",
      "New solution\n",
      "function cost: 195\n",
      "child voicing cost: 66\n",
      "Best yet: 261\n",
      "New solution\n",
      "function cost: 195\n",
      "child voicing cost: 63\n",
      "Best yet: 258"
     ]
    },
    {
     "data": {
      "text/plain": [
       "(0, \"T\", Tuple{Int16,Int16}[(57, 1), (57, 1), (61, 3), (64, 5)])"
      ]
     },
     "metadata": {},
     "output_type": "display_data"
    },
    {
     "data": {
      "text/plain": [
       "(0, \"S\", Tuple{Int16,Int16}[(50, 1), (57, 5), (62, 1), (66, 3)])"
      ]
     },
     "metadata": {},
     "output_type": "display_data"
    },
    {
     "data": {
      "text/plain": [
       "(0, \"D7-1\", Tuple{Int16,Int16}[(47, 5), (56, 3), (62, 7), (71, 5)])"
      ]
     },
     "metadata": {},
     "output_type": "display_data"
    },
    {
     "data": {
      "text/plain": [
       "(3, \"D7/7\", Tuple{Int16,Int16}[(50, 7), (56, 3), (64, 1), (71, 5)])"
      ]
     },
     "metadata": {},
     "output_type": "display_data"
    },
    {
     "data": {
      "text/plain": [
       "(6, \"T/3\", Tuple{Int16,Int16}[(49, 3), (57, 1), (64, 5), (76, 5)])"
      ]
     },
     "metadata": {},
     "output_type": "display_data"
    },
    {
     "data": {
      "text/plain": [
       "(0, \"S\", Tuple{Int16,Int16}[(50, 1), (57, 5), (66, 3), (74, 1)])"
      ]
     },
     "metadata": {},
     "output_type": "display_data"
    },
    {
     "data": {
      "text/plain": [
       "(12, \"D\", Tuple{Int16,Int16}[(52, 1), (56, 3), (64, 1), (71, 5)])"
      ]
     },
     "metadata": {},
     "output_type": "display_data"
    },
    {
     "data": {
      "text/plain": [
       "(18, \"D\", Tuple{Int16,Int16}[(40, 1), (56, 3), (64, 1), (71, 5)])"
      ]
     },
     "metadata": {},
     "output_type": "display_data"
    },
    {
     "data": {
      "text/plain": [
       "(15, \"Ts\", Tuple{Int16,Int16}[(42, 1), (57, 3), (61, 5), (69, 3)])"
      ]
     },
     "metadata": {},
     "output_type": "display_data"
    },
    {
     "data": {
      "text/plain": [
       "(0, \"D/3\", Tuple{Int16,Int16}[(44, 3), (47, 5), (59, 5), (64, 1)])"
      ]
     },
     "metadata": {},
     "output_type": "display_data"
    },
    {
     "data": {
      "text/plain": [
       "(15, \"T\", Tuple{Int16,Int16}[(45, 1), (49, 3), (57, 1), (64, 5)])"
      ]
     },
     "metadata": {},
     "output_type": "display_data"
    },
    {
     "data": {
      "text/plain": [
       "(9, \"S/5\", Tuple{Int16,Int16}[(45, 5), (50, 1), (57, 5), (66, 3)])"
      ]
     },
     "metadata": {},
     "output_type": "display_data"
    },
    {
     "data": {
      "text/plain": [
       "(21, \"T\", Tuple{Int16,Int16}[(45, 1), (52, 5), (57, 1), (61, 3)])"
      ]
     },
     "metadata": {},
     "output_type": "display_data"
    },
    {
     "data": {
      "text/plain": [
       "(6, \"D7-1\", Tuple{Int16,Int16}[(47, 5), (50, 7), (56, 3), (59, 5)])"
      ]
     },
     "metadata": {},
     "output_type": "display_data"
    },
    {
     "data": {
      "text/plain": [
       "(24, \"T\", Tuple{Int16,Int16}[(45, 1), (52, 5), (57, 1), (61, 3)])"
      ]
     },
     "metadata": {},
     "output_type": "display_data"
    },
    {
     "data": {
      "text/plain": [
       "(12, \"T\", Tuple{Int16,Int16}[(45, 1), (49, 3), (57, 1), (64, 5)])"
      ]
     },
     "metadata": {},
     "output_type": "display_data"
    },
    {
     "data": {
      "text/plain": [
       "(3, \"D/3\", Tuple{Int16,Int16}[(44, 3), (47, 5), (59, 5), (64, 1)])"
      ]
     },
     "metadata": {},
     "output_type": "display_data"
    },
    {
     "data": {
      "text/plain": [
       "(12, \"S/3\", Tuple{Int16,Int16}[(42, 3), (50, 1), (57, 5), (69, 5)])"
      ]
     },
     "metadata": {},
     "output_type": "display_data"
    },
    {
     "data": {
      "text/plain": [
       "(9, \"D7\", Tuple{Int16,Int16}[(40, 1), (50, 7), (59, 5), (68, 3)])"
      ]
     },
     "metadata": {},
     "output_type": "display_data"
    },
    {
     "data": {
      "text/plain": [
       "(12, \"Ts\", Tuple{Int16,Int16}[(42, 1), (49, 5), (57, 3), (69, 3)])"
      ]
     },
     "metadata": {},
     "output_type": "display_data"
    },
    {
     "data": {
      "text/plain": [
       "(6, \"D7/3\", Tuple{Int16,Int16}[(44, 3), (50, 7), (59, 5), (64, 1)])"
      ]
     },
     "metadata": {},
     "output_type": "display_data"
    },
    {
     "data": {
      "text/plain": [
       "(15, \"T\", Tuple{Int16,Int16}[(45, 1), (49, 3), (57, 1), (64, 5)])"
      ]
     },
     "metadata": {},
     "output_type": "display_data"
    },
    {
     "data": {
      "text/plain": [
       "(15, \"D7-1\", Tuple{Int16,Int16}[(47, 5), (50, 7), (56, 3), (62, 7)])"
      ]
     },
     "metadata": {},
     "output_type": "display_data"
    },
    {
     "data": {
      "text/plain": [
       "(9, \"D7/7\", Tuple{Int16,Int16}[(50, 7), (52, 1), (56, 3), (59, 5)])"
      ]
     },
     "metadata": {},
     "output_type": "display_data"
    },
    {
     "data": {
      "text/plain": [
       "(9, \"T/3\", Tuple{Int16,Int16}[(49, 3), (52, 5), (57, 1), (64, 5)])"
      ]
     },
     "metadata": {},
     "output_type": "display_data"
    },
    {
     "data": {
      "text/plain": [
       "(9, \"S\", Tuple{Int16,Int16}[(50, 1), (54, 3), (57, 5), (62, 1)])"
      ]
     },
     "metadata": {},
     "output_type": "display_data"
    },
    {
     "data": {
      "text/plain": [
       "(9, \"T/3\", Tuple{Int16,Int16}[(49, 3), (52, 5), (57, 1), (69, 1)])"
      ]
     },
     "metadata": {},
     "output_type": "display_data"
    },
    {
     "data": {
      "text/plain": [
       "(21, \"Tm\", Tuple{Int16,Int16}[(49, 1), (52, 3), (64, 3), (68, 5)])"
      ]
     },
     "metadata": {},
     "output_type": "display_data"
    },
    {
     "data": {
      "text/plain": [
       "(18, \"S\", Tuple{Int16,Int16}[(50, 1), (57, 5), (62, 1), (66, 3)])"
      ]
     },
     "metadata": {},
     "output_type": "display_data"
    },
    {
     "data": {
      "text/plain": [
       "(18, \"D7\", Tuple{Int16,Int16}[(52, 1), (56, 3), (59, 5), (62, 7)])"
      ]
     },
     "metadata": {},
     "output_type": "display_data"
    },
    {
     "data": {
      "text/plain": [
       "(6, \"T\", Tuple{Int16,Int16}[(45, 1), (52, 5), (57, 1), (61, 3)])"
      ]
     },
     "metadata": {},
     "output_type": "display_data"
    },
    {
     "data": {
      "text/plain": [
       "(6, \"T\", Tuple{Int16,Int16}[(45, 1), (52, 5), (57, 1), (61, 3)])"
      ]
     },
     "metadata": {},
     "output_type": "display_data"
    },
    {
     "name": "stdout",
     "output_type": "stream",
     "text": [
      "\n",
      "##: Done. Total checked: 46252, Pruned: 53955, completed: 4, time: 1.0859999656677246, efficiency: 3.6832413687422254\n",
      "Results: bestval_func: 195, bestval_voices: 63\n",
      "#Key: 10Scale: Major\n",
      "#Total time for optimisation of piece: 7.000999927520752\n",
      "#Total cost of piece: 482\n",
      "[\"T\", \"S\", \"D7-1\", \"D7/7\", \"T/3\", \"S\", \"D\", \"D\", \"Ts\", \"D/3\", \"T\", \"S/5\", \"T\", \"D7-1\", \"T\", \"T\", \"D/3\", \"S/3\", \"D7\", \"Ts\", \"D7/3\", \"T\", \"D7-1\", \"D7/7\", \"T/3\", \"S\", \"T/3\", \"Tm\", \"S\", \"D7\", \"T\", \"T\"]\n",
      "../../results/optimizer/pianoroll/SJP-15-hatrd-opt.csv\n",
      " End of file \n",
      " \n",
      "Optimising: ../../results/neuralnet/pianoroll/SJP-20-peter-nn.csv\n",
      "[0 1 0 0 0 0 2 0 0 1 0 0; 0 0 0 0 0 1 0 0 1 0 0 1; 0 1 0 0 0 0 2 0 0 1 0 0; 0 0 0 0 0 0 0 0 1 0 0 2; 0 1 0 0 1 0 0 0 0 1 0 0; 0 0 0 1 1 0 1 0 0 0 0 1; 0 0 0 1 1 0 0 0 1 0 0 1; 0 0 0 0 1 0 1 0 1 0 0 1; 0 0 0 1 0 0 1 0 0 1 0 1; 0 1 0 0 1 0 1 0 0 1 0 0; 0 1 0 0 1 0 1 0 1 0 0 0; 0 0 0 2 0 0 0 0 2 0 0 0; 0 0 0 2 0 0 1 0 1 0 0 0; 0 2 0 0 1 0 1 0 0 0 0 0; 0 0 0 1 0 0 1 0 1 0 0 1; 0 0 0 1 1 0 1 0 0 0 0 1; 0 1 0 1 1 0 0 0 0 1 0 0; 0 0 0 0 1 0 0 0 2 0 0 1; 0 2 0 0 1 0 0 0 1 0 0 0; 1 0 0 1 0 0 0 0 2 0 0 0; 1 1 0 0 1 0 0 0 1 0 0 0; 0 1 0 1 1 0 1 0 0 0 0 0; 1 0 0 2 0 0 1 0 0 0 0 0; 0 1 0 0 1 0 0 0 2 0 0 0; 1 0 0 1 1 0 0 0 1 0 0 0; 1 1 0 0 0 0 0 0 2 0 0 0; 1 1 0 0 0 0 0 0 2 0 0 0; 0 1 0 0 1 0 0 0 2 0 0 0; 0 1 0 0 1 0 0 0 2 0 0 0; 0 1 0 0 1 0 1 0 0 1 0 0; 0 0 0 2 0 0 1 0 0 0 0 1; 0 0 0 0 2 0 0 0 1 1 0 0; 0 0 0 1 1 0 0 0 1 1 0 0]\n",
      "Key Counter is [6 18 0 18 21 1 17 0 28 9 0 11]\n",
      "Key Score is [48; 88; 76; 53; 122; 37; 93; 64; 71; 104; 34; 113]\n",
      "Position Counter for 5 is [21 1 17 0 28 9 0 11 6 18 0 18]\n",
      "Any[[5.0, 82.25, 0.0]]\n",
      "[5, 82, 0]\n",
      "2 C# Minor\n",
      "Rhythm map: [\"S\", \"W\", \"S\", \"W\", \"S\", \"C\", \"C\", \"C\", \"S\", \"W\", \"S\", \"W\", \"S\", \"C\", \"C\", \"C\"] size: (16,)\n",
      "Amount of timesteps to optimise: 16\n",
      "Building lookup-table list...\n",
      "Lookup-table built.\n",
      "Initial function score upper bound: 499, voicing score upper bound: 499\n",
      "Starting search...\n",
      "New solution\n",
      "function cost: 180\n",
      "child voicing cost: 99\n",
      "Best yet: 279\n",
      "New solution\n",
      "function cost: 180\n",
      "child voicing cost: 95\n",
      "Best yet: 275\n",
      "New solution\n",
      "function cost: 174\n",
      "child voicing cost: 95\n",
      "Best yet: 269\n",
      "New solution\n",
      "function cost: 174\n",
      "child voicing cost: 92\n",
      "Best yet: 266\n",
      "New solution\n",
      "function cost: 174\n",
      "child voicing cost: 91\n",
      "Best yet: 265\n",
      "New solution\n",
      "function cost: 174\n",
      "child voicing cost: 84\n",
      "Best yet: 258\n",
      "New solution\n",
      "function cost: 174\n",
      "child voicing cost: 83\n",
      "Best yet: 257\n",
      "New solution\n",
      "function cost: 165\n",
      "child voicing cost: 91\n",
      "Best yet: 256\n",
      "New solution\n",
      "function cost: 168\n",
      "child voicing cost: 85\n",
      "Best yet: 253\n",
      "New solution\n",
      "function cost: 156\n",
      "child voicing cost: 90\n",
      "Best yet: 246\n",
      "New solution\n",
      "function cost: 156\n",
      "child voicing cost: 89\n",
      "Best yet: 245\n",
      "New solution\n",
      "function cost: 156\n",
      "child voicing cost: 84\n",
      "Best yet: 240\n",
      "New solution\n",
      "function cost: 156\n",
      "child voicing cost: 83\n",
      "Best yet: 239\n",
      "New solution\n",
      "function cost: 156\n",
      "child voicing cost: 82\n",
      "Best yet: 238\n",
      "New solution\n",
      "function cost: 159\n",
      "child voicing cost: 74\n",
      "Best yet: 233\n",
      "New solution\n",
      "function cost: 156\n",
      "child voicing cost: 74\n",
      "Best yet: 230\n",
      "New solution\n",
      "function cost: 156\n",
      "child voicing cost: 73\n",
      "Best yet: 229\n",
      "New solution\n",
      "function cost: 141\n",
      "child voicing cost: 87\n",
      "Best yet: 228\n",
      "New solution\n",
      "function cost: 141\n",
      "child voicing cost: 86\n",
      "Best yet: 227\n",
      "New solution\n",
      "function cost: 141\n",
      "child voicing cost: 81\n",
      "Best yet: 222\n",
      "New solution\n",
      "function cost: 141\n",
      "child voicing cost: 80\n",
      "Best yet: 221\n",
      "New solution\n",
      "function cost: 141\n",
      "child voicing cost: 79\n",
      "Best yet: 220\n",
      "New solution\n",
      "function cost: 141\n",
      "child voicing cost: 78\n",
      "Best yet: 219\n",
      "New solution\n",
      "function cost: 138\n",
      "child voicing cost: 77\n",
      "Best yet: 215\n",
      "New solution\n",
      "function cost: 135\n",
      "child voicing cost: 77\n",
      "Best yet: 212\n",
      "New solution\n",
      "function cost: 135\n",
      "child voicing cost: 76\n",
      "Best yet: 211\n",
      "New solution\n",
      "function cost: 135\n",
      "child voicing cost: 74\n",
      "Best yet: 209\n",
      "New solution\n",
      "function cost: 132\n",
      "child voicing cost: 74\n",
      "Best yet: 206\n",
      "New solution\n",
      "function cost: 132\n",
      "child voicing cost: 73\n",
      "Best yet: 205\n",
      "##: Done. Total checked: 216985, Pruned: 264947, completed: 29, time: 4.242000102996826, efficiency: 6.83639775951738\n",
      "Results: bestval_func: 132, bestval_voices: 73\n",
      "[0 1 0 0 0 0 2 0 0 1 0 0; 0 0 0 0 0 1 0 0 1 0 0 1; 0 1 0 0 0 0 2 0 0 1 0 0; 0 0 0 0 0 0 0 0 1 0 0 2; 0 1 0 0 1 0 0 0 0 1 0 0; 0 0 0 1 1 0 1 0 0 0 0 1; 0 0 0 1 1 0 0 0 1 0 0 1; 0 0 0 0 1 0 1 0 1 0 0 1; 0 0 0 1 0 0 1 0 0 1 0 1; 0 1 0 0 1 0 1 0 0 1 0 0; 0 1 0 0 1 0 1 0 1 0 0 0; 0 0 0 2 0 0 0 0 2 0 0 0; 0 0 0 2 0 0 1 0 1 0 0 0; 0 2 0 0 1 0 1 0 0 0 0 0; 0 0 0 1 0 0 1 0 1 0 0 1; 0 0 0 1 1 0 1 0 0 0 0 1; 0 1 0 1 1 0 0 0 0 1 0 0; 0 0 0 0 1 0 0 0 2 0 0 1; 0 2 0 0 1 0 0 0 1 0 0 0; 1 0 0 1 0 0 0 0 2 0 0 0; 1 1 0 0 1 0 0 0 1 0 0 0; 0 1 0 1 1 0 1 0 0 0 0 0; 1 0 0 2 0 0 1 0 0 0 0 0; 0 1 0 0 1 0 0 0 2 0 0 0; 1 0 0 1 1 0 0 0 1 0 0 0; 1 1 0 0 0 0 0 0 2 0 0 0; 1 1 0 0 0 0 0 0 2 0 0 0; 0 1 0 0 1 0 0 0 2 0 0 0; 0 1 0 0 1 0 0 0 2 0 0 0; 0 1 0 0 1 0 1 0 0 1 0 0; 0 0 0 2 0 0 1 0 0 0 0 1; 0 0 0 0 2 0 0 0 1 1 0 0; 0 0 0 1 1 0 0 0 1 1 0 0]\n",
      "Key Counter is [6 18 0 18 21 1 17 0 28 9 0 11]\n",
      "Key Score is [48; 88; 76; 53; 122; 37; 93; 64; 71; 104; 34; 113]\n",
      "Position Counter for 5 is [21 1 17 0 28 9 0 11 6 18 0 18]\n",
      "Any[[5.0, 82.25, 0.0]]\n",
      "[5, 82, 0]\n",
      "2 C# Minor\n",
      "Rhythm map: [\"W\", \"S\", \"W\", \"S\", \"W\", \"S\", \"W\", \"S\", \"W\", \"S\", \"W\", \"S\", \"W\", \"A\", \"A\", \"A\", \"A\"] size: (17,)\n",
      "Amount of timesteps to optimise: 17\n",
      "Building lookup-table list...\n",
      "Lookup-table built.\n",
      "Initial function score upper bound: 499, voicing score upper bound: 499\n",
      "Starting search...\n",
      "New solution\n",
      "function cost: 162\n",
      "child voicing cost: 99\n",
      "Best yet: 261\n",
      "New solution\n",
      "function cost: 162\n",
      "child voicing cost: 96\n",
      "Best yet: 258\n",
      "New solution\n",
      "function cost: 162\n",
      "child voicing cost: 93\n",
      "Best yet: 255\n",
      "New solution\n",
      "function cost: 153\n",
      "child voicing cost: 100\n",
      "Best yet: 253\n",
      "New solution\n",
      "function cost: 153\n",
      "child voicing cost: 97\n",
      "Best yet: 250\n",
      "New solution\n",
      "function cost: 129\n",
      "child voicing cost: 119\n",
      "Best yet: 248\n",
      "New solution\n",
      "function cost: 123\n",
      "child voicing cost: 122\n",
      "Best yet: 245\n",
      "New solution\n",
      "function cost: 123\n",
      "child voicing cost: 118\n",
      "Best yet: 241\n",
      "New solution\n",
      "function cost: 123\n",
      "child voicing cost: 115\n",
      "Best yet: 238\n",
      "New solution\n",
      "function cost: 129\n",
      "child voicing cost: 108\n",
      "Best yet: 237\n",
      "New solution\n",
      "function cost: 138\n",
      "child voicing cost: 98\n",
      "Best yet: 236\n",
      "New solution\n",
      "function cost: 138\n",
      "child voicing cost: 97\n",
      "Best yet: 235\n",
      "New solution\n",
      "function cost: 144\n",
      "child voicing cost: 89\n",
      "Best yet: 233\n",
      "New solution\n",
      "function cost: 120\n",
      "child voicing cost: 110\n",
      "Best yet: 230\n",
      "New solution\n",
      "function cost: 120\n",
      "child voicing cost: 107\n",
      "Best yet: 227\n",
      "New solution\n",
      "function cost: 120\n",
      "child voicing cost: 104\n",
      "Best yet: 224\n",
      "New solution\n",
      "function cost: 150\n",
      "child voicing cost: 71\n",
      "Best yet: 221\n",
      "New solution\n",
      "function cost: 150\n",
      "child voicing cost: 68\n",
      "Best yet: 218\n",
      "New solution\n",
      "function cost: 141\n",
      "child voicing cost: 75\n",
      "Best yet: 216\n",
      "New solution\n",
      "function cost: 141\n",
      "child voicing cost: 72\n",
      "Best yet: 213\n",
      "New solution\n",
      "function cost: 126\n",
      "child voicing cost: 83\n",
      "Best yet: 209\n",
      "New solution\n",
      "function cost: 126\n",
      "child voicing cost: 81\n",
      "Best yet: 207\n",
      "New solution\n",
      "function cost: 126\n",
      "child voicing cost: 75\n",
      "Best yet: 201\n",
      "New solution\n",
      "function cost: 132\n",
      "child voicing cost: 67\n",
      "Best yet: 199"
     ]
    },
    {
     "data": {
      "text/plain": [
       "(24, \"T\", Tuple{Int16,Int16}[(49, 1), (61, 1), (68, 5), (76, 3)])"
      ]
     },
     "metadata": {},
     "output_type": "display_data"
    },
    {
     "data": {
      "text/plain": [
       "(3, \"Tm\", Tuple{Int16,Int16}[(52, 1), (59, 5), (68, 3), (76, 1)])"
      ]
     },
     "metadata": {},
     "output_type": "display_data"
    },
    {
     "data": {
      "text/plain": [
       "(0, \"S\", Tuple{Int16,Int16}[(54, 1), (57, 3), (66, 1), (73, 5)])"
      ]
     },
     "metadata": {},
     "output_type": "display_data"
    },
    {
     "data": {
      "text/plain": [
       "(15, \"D7/3\", Tuple{Int16,Int16}[(48, 3), (56, 1), (66, 7), (75, 5)])"
      ]
     },
     "metadata": {},
     "output_type": "display_data"
    },
    {
     "data": {
      "text/plain": [
       "(3, \"T\", Tuple{Int16,Int16}[(49, 1), (56, 5), (64, 3), (73, 1)])"
      ]
     },
     "metadata": {},
     "output_type": "display_data"
    },
    {
     "data": {
      "text/plain": [
       "(6, \"D7-1\", Tuple{Int16,Int16}[(51, 5), (54, 7), (63, 5), (72, 3)])"
      ]
     },
     "metadata": {},
     "output_type": "display_data"
    },
    {
     "data": {
      "text/plain": [
       "(12, \"T\", Tuple{Int16,Int16}[(49, 1), (56, 5), (64, 3), (73, 1)])"
      ]
     },
     "metadata": {},
     "output_type": "display_data"
    },
    {
     "data": {
      "text/plain": [
       "(21, \"T\", Tuple{Int16,Int16}[(49, 1), (61, 1), (64, 3), (68, 5)])"
      ]
     },
     "metadata": {},
     "output_type": "display_data"
    },
    {
     "data": {
      "text/plain": [
       "(6, \"Dm\", Tuple{Int16,Int16}[(47, 1), (63, 3), (66, 5), (71, 1)])"
      ]
     },
     "metadata": {},
     "output_type": "display_data"
    },
    {
     "data": {
      "text/plain": [
       "(6, \"S/3\", Tuple{Int16,Int16}[(45, 3), (61, 5), (66, 1), (73, 5)])"
      ]
     },
     "metadata": {},
     "output_type": "display_data"
    },
    {
     "data": {
      "text/plain": [
       "(6, \"D64\", Tuple{Int16,Int16}[(44, 1), (61, 4), (68, 1), (76, 6)])"
      ]
     },
     "metadata": {},
     "output_type": "display_data"
    },
    {
     "data": {
      "text/plain": [
       "(9, \"D\", Tuple{Int16,Int16}[(44, 1), (60, 3), (68, 1), (75, 5)])"
      ]
     },
     "metadata": {},
     "output_type": "display_data"
    },
    {
     "data": {
      "text/plain": [
       "(9, \"D7/3\", Tuple{Int16,Int16}[(48, 3), (56, 1), (66, 7), (75, 5)])"
      ]
     },
     "metadata": {},
     "output_type": "display_data"
    },
    {
     "data": {
      "text/plain": [
       "(6, \"T\", Tuple{Int16,Int16}[(49, 1), (56, 5), (64, 3), (73, 1)])"
      ]
     },
     "metadata": {},
     "output_type": "display_data"
    },
    {
     "data": {
      "text/plain": [
       "(9, \"D\", Tuple{Int16,Int16}[(44, 1), (56, 1), (63, 5), (72, 3)])"
      ]
     },
     "metadata": {},
     "output_type": "display_data"
    },
    {
     "data": {
      "text/plain": [
       "(21, \"D\", Tuple{Int16,Int16}[(44, 1), (63, 5), (68, 1), (72, 3)])"
      ]
     },
     "metadata": {},
     "output_type": "display_data"
    },
    {
     "data": {
      "text/plain": [
       "(6, \"Ts\", Tuple{Int16,Int16}[(45, 1), (61, 3), (64, 5), (73, 3)])"
      ]
     },
     "metadata": {},
     "output_type": "display_data"
    },
    {
     "data": {
      "text/plain": [
       "(6, \"D\", Tuple{Int16,Int16}[(44, 1), (60, 3), (68, 1), (75, 5)])"
      ]
     },
     "metadata": {},
     "output_type": "display_data"
    },
    {
     "data": {
      "text/plain": [
       "(0, \"T\", Tuple{Int16,Int16}[(49, 1), (61, 1), (68, 5), (76, 3)])"
      ]
     },
     "metadata": {},
     "output_type": "display_data"
    },
    {
     "data": {
      "text/plain": [
       "(0, \"D/5\", Tuple{Int16,Int16}[(51, 5), (60, 3), (68, 1), (75, 5)])"
      ]
     },
     "metadata": {},
     "output_type": "display_data"
    },
    {
     "data": {
      "text/plain": [
       "(3, \"T/3\", Tuple{Int16,Int16}[(52, 3), (61, 1), (68, 5), (73, 1)])"
      ]
     },
     "metadata": {},
     "output_type": "display_data"
    },
    {
     "data": {
      "text/plain": [
       "(15, \"Ts\", Tuple{Int16,Int16}[(45, 1), (61, 3), (69, 1), (76, 5)])"
      ]
     },
     "metadata": {},
     "output_type": "display_data"
    },
    {
     "data": {
      "text/plain": [
       "(0, \"D7-1\", Tuple{Int16,Int16}[(51, 5), (63, 5), (66, 7), (72, 3)])"
      ]
     },
     "metadata": {},
     "output_type": "display_data"
    },
    {
     "data": {
      "text/plain": [
       "(0, \"T/3\", Tuple{Int16,Int16}[(52, 3), (61, 1), (68, 5), (73, 1)])"
      ]
     },
     "metadata": {},
     "output_type": "display_data"
    },
    {
     "data": {
      "text/plain": [
       "(12, \"S65\", Tuple{Int16,Int16}[(54, 1), (61, 5), (69, 3), (75, 6)])"
      ]
     },
     "metadata": {},
     "output_type": "display_data"
    },
    {
     "data": {
      "text/plain": [
       "(6, \"D\", Tuple{Int16,Int16}[(56, 1), (60, 3), (68, 1), (75, 5)])"
      ]
     },
     "metadata": {},
     "output_type": "display_data"
    },
    {
     "data": {
      "text/plain": [
       "(12, \"S/3\", Tuple{Int16,Int16}[(57, 3), (61, 5), (66, 1), (78, 1)])"
      ]
     },
     "metadata": {},
     "output_type": "display_data"
    },
    {
     "data": {
      "text/plain": [
       "(0, \"T/5\", Tuple{Int16,Int16}[(56, 5), (61, 1), (68, 5), (76, 3)])"
      ]
     },
     "metadata": {},
     "output_type": "display_data"
    },
    {
     "data": {
      "text/plain": [
       "(15, \"S\", Tuple{Int16,Int16}[(54, 1), (61, 5), (69, 3), (78, 1)])"
      ]
     },
     "metadata": {},
     "output_type": "display_data"
    },
    {
     "data": {
      "text/plain": [
       "(15, \"D\", Tuple{Int16,Int16}[(56, 1), (60, 3), (68, 1), (75, 5)])"
      ]
     },
     "metadata": {},
     "output_type": "display_data"
    },
    {
     "data": {
      "text/plain": [
       "(21, \"T\", Tuple{Int16,Int16}[(49, 1), (61, 1), (68, 5), (76, 3)])"
      ]
     },
     "metadata": {},
     "output_type": "display_data"
    },
    {
     "data": {
      "text/plain": [
       "(21, \"T\", Tuple{Int16,Int16}[(49, 1), (61, 1), (68, 5), (76, 3)])"
      ]
     },
     "metadata": {},
     "output_type": "display_data"
    },
    {
     "name": "stdout",
     "output_type": "stream",
     "text": [
      "\n",
      "##: Done. Total checked: 161309, Pruned: 180094, completed: 24, time: 3.0460000038146973, efficiency: 7.879185807597929\n",
      "Results: bestval_func: 132, bestval_voices: 67\n",
      "#Key: 2Scale: Minor\n",
      "#Total time for optimisation of piece: 8.51800012588501\n",
      "#Total cost of piece: 404\n",
      "[\"T\", \"Tm\", \"S\", \"D7/3\", \"T\", \"D7-1\", \"T\", \"T\", \"Dm\", \"S/3\", \"D64\", \"D\", \"D7/3\", \"T\", \"D\", \"D\", \"Ts\", \"D\", \"T\", \"D/5\", \"T/3\", \"Ts\", \"D7-1\", \"T/3\", \"S65\", \"D\", \"S/3\", \"T/5\", \"S\", \"D\", \"T\", \"T\"]\n",
      "../../results/optimizer/pianoroll/SJP-20-peter-opt.csv\n",
      " End of file \n",
      " \n",
      "Optimising: ../../results/neuralnet/pianoroll/SJP-21-life-nn.csv\n",
      "[1 0 0 0 0 0 0 0 0 2 0 0; 1 0 0 0 1 0 0 1 0 0 0 1; 0 0 1 0 1 1 0 0 0 0 0 0; 1 0 1 0 0 1 0 0 0 1 0 0; 0 0 0 0 1 0 0 0 1 0 0 2; 1 0 0 0 1 0 0 0 1 1 0 0; 1 0 0 0 0 1 0 0 0 2 0 0; 0 0 1 0 0 0 0 1 0 0 1 1; 1 0 1 0 0 0 0 2 0 0 0 0; 1 0 1 0 0 0 0 2 0 0 0 0; 0 0 0 0 2 0 0 2 0 0 0 0; 0 0 2 0 0 1 0 0 0 1 0 0; 1 0 2 0 0 0 0 0 0 0 0 1; 1 0 1 0 1 0 0 0 0 0 0 1; 3 0 0 0 1 0 0 0 0 0 0 0; 2 0 1 0 1 0 0 0 0 0 0 0; 1 0 1 0 1 0 0 1 0 0 0 0; 2 0 0 0 1 0 0 0 0 1 0 0; 1 0 2 0 0 0 0 0 0 1 0 0; 0 0 1 0 0 0 0 1 0 0 0 2; 3 0 0 0 1 0 0 0 0 0 0 0; 1 0 1 0 1 0 0 0 0 0 0 1; 0 0 0 0 1 0 0 0 0 2 0 1; 1 0 1 0 1 0 0 0 0 1 0 0; 0 0 2 0 0 0 0 1 0 0 0 1; 1 0 0 0 1 0 0 2 0 0 0 0; 1 0 0 0 0 0 1 1 0 1 0 0; 0 0 1 0 0 0 1 1 0 0 0 1; 1 0 0 0 1 0 0 1 0 0 0 1; 1 0 0 0 1 0 0 1 0 1 0 0; 0 0 2 0 0 0 1 0 0 0 0 1; 0 0 1 1 1 0 0 0 0 0 0 1; 1 0 0 1 0 0 0 1 0 0 0 1]\n",
      "Key Counter is [28 0 23 2 19 4 3 18 2 14 1 16]\n",
      "Key Score is [122; 40; 93; 78; 56; 107; 28; 121; 55; 77; 90; 43]\n",
      "Position Counter for 1 is [28 0 23 2 19 4 3 18 2 14 1 16]\n",
      "Any[[1.0, 80.0, 1.0]]\n",
      "[1, 80, 1]\n",
      "1 C Major\n",
      "Rhythm map: [\"S\", \"W\", \"S\", \"W\", \"S\", \"C\", \"C\", \"C\", \"S\", \"W\", \"S\", \"W\", \"S\", \"C\", \"C\", \"C\"] size: (16,)\n",
      "Amount of timesteps to optimise: 16\n",
      "Building lookup-table list...\n",
      "Lookup-table built.\n",
      "Initial function score upper bound: 499, voicing score upper bound: 499\n",
      "Starting search...\n",
      "New solution\n",
      "function cost: 198\n",
      "child voicing cost: 77\n",
      "Best yet: 275\n",
      "New solution\n",
      "function cost: 198\n",
      "child voicing cost: 74\n",
      "Best yet: 272\n",
      "New solution\n",
      "function cost: 186\n",
      "child voicing cost: 85\n",
      "Best yet: 271\n",
      "New solution\n",
      "function cost: 186\n",
      "child voicing cost: 83\n",
      "Best yet: 269\n",
      "New solution\n",
      "function cost: 189\n",
      "child voicing cost: 75\n",
      "Best yet: 264\n",
      "New solution\n",
      "function cost: 189\n",
      "child voicing cost: 74\n",
      "Best yet: 263\n",
      "New solution\n",
      "function cost: 186\n",
      "child voicing cost: 76\n",
      "Best yet: 262\n",
      "New solution\n",
      "function cost: 186\n",
      "child voicing cost: 74\n",
      "Best yet: 260\n",
      "New solution\n",
      "function cost: 186\n",
      "child voicing cost: 71\n",
      "Best yet: 257\n",
      "New solution\n",
      "function cost: 201\n",
      "child voicing cost: 55\n",
      "Best yet: 256\n",
      "New solution\n",
      "function cost: 201\n",
      "child voicing cost: 54\n",
      "Best yet: 255\n",
      "##: Done. Total checked: 87018, Pruned: 103265, completed: 11, time: 1.7799999713897705, efficiency: 6.179775380227412\n",
      "Results: bestval_func: 201, bestval_voices: 54\n",
      "[1 0 0 0 0 0 0 0 0 2 0 0; 1 0 0 0 1 0 0 1 0 0 0 1; 0 0 1 0 1 1 0 0 0 0 0 0; 1 0 1 0 0 1 0 0 0 1 0 0; 0 0 0 0 1 0 0 0 1 0 0 2; 1 0 0 0 1 0 0 0 1 1 0 0; 1 0 0 0 0 1 0 0 0 2 0 0; 0 0 1 0 0 0 0 1 0 0 1 1; 1 0 1 0 0 0 0 2 0 0 0 0; 1 0 1 0 0 0 0 2 0 0 0 0; 0 0 0 0 2 0 0 2 0 0 0 0; 0 0 2 0 0 1 0 0 0 1 0 0; 1 0 2 0 0 0 0 0 0 0 0 1; 1 0 1 0 1 0 0 0 0 0 0 1; 3 0 0 0 1 0 0 0 0 0 0 0; 2 0 1 0 1 0 0 0 0 0 0 0; 1 0 1 0 1 0 0 1 0 0 0 0; 2 0 0 0 1 0 0 0 0 1 0 0; 1 0 2 0 0 0 0 0 0 1 0 0; 0 0 1 0 0 0 0 1 0 0 0 2; 3 0 0 0 1 0 0 0 0 0 0 0; 1 0 1 0 1 0 0 0 0 0 0 1; 0 0 0 0 1 0 0 0 0 2 0 1; 1 0 1 0 1 0 0 0 0 1 0 0; 0 0 2 0 0 0 0 1 0 0 0 1; 1 0 0 0 1 0 0 2 0 0 0 0; 1 0 0 0 0 0 1 1 0 1 0 0; 0 0 1 0 0 0 1 1 0 0 0 1; 1 0 0 0 1 0 0 1 0 0 0 1; 1 0 0 0 1 0 0 1 0 1 0 0; 0 0 2 0 0 0 1 0 0 0 0 1; 0 0 1 1 1 0 0 0 0 0 0 1; 1 0 0 1 0 0 0 1 0 0 0 1]\n",
      "Key Counter is [28 0 23 2 19 4 3 18 2 14 1 16]\n",
      "Key Score is [122; 40; 93; 78; 56; 107; 28; 121; 55; 77; 90; 43]\n",
      "Position Counter for 1 is [28 0 23 2 19 4 3 18 2 14 1 16]\n",
      "Any[[1.0, 80.0, 1.0]]\n",
      "[1, 80, 1]\n",
      "1 C Major\n",
      "Rhythm map: [\"W\", \"S\", \"W\", \"S\", \"W\", \"S\", \"W\", \"S\", \"W\", \"S\", \"W\", \"S\", \"W\", \"A\", \"A\", \"A\", \"A\"] size: (17,)\n",
      "Amount of timesteps to optimise: 17\n",
      "Building lookup-table list...\n",
      "Lookup-table built.\n",
      "Initial function score upper bound: 499, voicing score upper bound: 499\n",
      "Starting search...\n",
      "New solution\n",
      "function cost: 225\n",
      "child voicing cost: 100\n",
      "Best yet: 325\n",
      "New solution\n",
      "function cost: 225\n",
      "child voicing cost: 92\n",
      "Best yet: 317\n",
      "New solution\n",
      "function cost: 228\n",
      "child voicing cost: 83\n",
      "Best yet: 311\n",
      "New solution\n",
      "function cost: 228\n",
      "child voicing cost: 76\n",
      "Best yet: 304\n",
      "New solution\n",
      "function cost: 225\n",
      "child voicing cost: 69\n",
      "Best yet: 294\n",
      "New solution\n",
      "function cost: 225\n",
      "child voicing cost: 66\n",
      "Best yet: 291\n",
      "New solution\n",
      "function cost: 213\n",
      "child voicing cost: 77\n",
      "Best yet: 290\n",
      "New solution\n",
      "function cost: 213\n",
      "child voicing cost: 74\n",
      "Best yet: 287\n",
      "New solution\n",
      "function cost: 204\n",
      "child voicing cost: 77\n",
      "Best yet: 281\n",
      "New solution\n",
      "function cost: 204\n",
      "child voicing cost: 74\n",
      "Best yet: 278\n",
      "New solution\n",
      "function cost: 204\n",
      "child voicing cost: 73\n",
      "Best yet: 277\n",
      "New solution\n",
      "function cost: 204\n",
      "child voicing cost: 70\n",
      "Best yet: 274\n",
      "New solution\n",
      "function cost: 186\n",
      "child voicing cost: 85\n",
      "Best yet: 271\n",
      "New solution\n",
      "function cost: 171\n",
      "child voicing cost: 80\n",
      "Best yet: 251\n",
      "New solution\n",
      "function cost: 171\n",
      "child voicing cost: 77\n",
      "Best yet: 248\n",
      "New solution\n",
      "function cost: 171\n",
      "child voicing cost: 74\n",
      "Best yet: 245\n",
      "New solution\n",
      "function cost: 165\n",
      "child voicing cost: 77\n",
      "Best yet: 242\n",
      "New solution\n",
      "function cost: 168\n",
      "child voicing cost: 73\n",
      "Best yet: 241\n",
      "New solution\n",
      "function cost: 174\n",
      "child voicing cost: 65\n",
      "Best yet: 239\n",
      "New solution\n",
      "function cost: 174\n",
      "child voicing cost: 62\n",
      "Best yet: 236\n"
     ]
    },
    {
     "data": {
      "text/plain": [
       "(15, \"T\", Tuple{Int16,Int16}[(60, 1), (60, 1), (67, 5), (76, 3)])"
      ]
     },
     "metadata": {},
     "output_type": "display_data"
    },
    {
     "data": {
      "text/plain": [
       "(3, \"T\", Tuple{Int16,Int16}[(60, 1), (64, 3), (67, 5), (72, 1)])"
      ]
     },
     "metadata": {},
     "output_type": "display_data"
    },
    {
     "data": {
      "text/plain": [
       "(12, \"D/3\", Tuple{Int16,Int16}[(59, 3), (62, 5), (67, 1), (74, 5)])"
      ]
     },
     "metadata": {},
     "output_type": "display_data"
    },
    {
     "data": {
      "text/plain": [
       "(6, \"S/3\", Tuple{Int16,Int16}[(57, 3), (60, 5), (65, 1), (77, 1)])"
      ]
     },
     "metadata": {},
     "output_type": "display_data"
    },
    {
     "data": {
      "text/plain": [
       "(15, \"D7\", Tuple{Int16,Int16}[(55, 1), (62, 5), (71, 3), (77, 7)])"
      ]
     },
     "metadata": {},
     "output_type": "display_data"
    },
    {
     "data": {
      "text/plain": [
       "(3, \"Ts\", Tuple{Int16,Int16}[(57, 1), (60, 3), (72, 3), (76, 5)])"
      ]
     },
     "metadata": {},
     "output_type": "display_data"
    },
    {
     "data": {
      "text/plain": [
       "(30, \"D\", Tuple{Int16,Int16}[(55, 1), (62, 5), (71, 3), (79, 1)])"
      ]
     },
     "metadata": {},
     "output_type": "display_data"
    },
    {
     "data": {
      "text/plain": [
       "(9, \"D\", Tuple{Int16,Int16}[(43, 1), (62, 5), (71, 3), (79, 1)])"
      ]
     },
     "metadata": {},
     "output_type": "display_data"
    },
    {
     "data": {
      "text/plain": [
       "(18, \"S/3\", Tuple{Int16,Int16}[(45, 3), (60, 5), (72, 5), (77, 1)])"
      ]
     },
     "metadata": {},
     "output_type": "display_data"
    },
    {
     "data": {
      "text/plain": [
       "(3, \"D/3\", Tuple{Int16,Int16}[(47, 3), (62, 5), (67, 1), (74, 5)])"
      ]
     },
     "metadata": {},
     "output_type": "display_data"
    },
    {
     "data": {
      "text/plain": [
       "(27, \"T\", Tuple{Int16,Int16}[(48, 1), (64, 3), (67, 5), (72, 1)])"
      ]
     },
     "metadata": {},
     "output_type": "display_data"
    },
    {
     "data": {
      "text/plain": [
       "(6, \"D7-1\", Tuple{Int16,Int16}[(50, 5), (62, 5), (65, 7), (71, 3)])"
      ]
     },
     "metadata": {},
     "output_type": "display_data"
    },
    {
     "data": {
      "text/plain": [
       "(24, \"T\", Tuple{Int16,Int16}[(48, 1), (64, 3), (67, 5), (72, 1)])"
      ]
     },
     "metadata": {},
     "output_type": "display_data"
    },
    {
     "data": {
      "text/plain": [
       "(15, \"D/3\", Tuple{Int16,Int16}[(47, 3), (62, 5), (67, 1), (74, 5)])"
      ]
     },
     "metadata": {},
     "output_type": "display_data"
    },
    {
     "data": {
      "text/plain": [
       "(15, \"T\", Tuple{Int16,Int16}[(48, 1), (64, 3), (67, 5), (72, 1)])"
      ]
     },
     "metadata": {},
     "output_type": "display_data"
    },
    {
     "data": {
      "text/plain": [
       "(15, \"T\", Tuple{Int16,Int16}[(48, 1), (64, 3), (72, 1), (79, 5)])"
      ]
     },
     "metadata": {},
     "output_type": "display_data"
    },
    {
     "data": {
      "text/plain": [
       "(6, \"D7\", Tuple{Int16,Int16}[(55, 1), (62, 5), (71, 3), (77, 7)])"
      ]
     },
     "metadata": {},
     "output_type": "display_data"
    },
    {
     "data": {
      "text/plain": [
       "(0, \"Ts\", Tuple{Int16,Int16}[(57, 1), (60, 3), (72, 3), (76, 5)])"
      ]
     },
     "metadata": {},
     "output_type": "display_data"
    },
    {
     "data": {
      "text/plain": [
       "(9, \"S65\", Tuple{Int16,Int16}[(53, 1), (60, 5), (69, 3), (74, 6)])"
      ]
     },
     "metadata": {},
     "output_type": "display_data"
    },
    {
     "data": {
      "text/plain": [
       "(12, \"D\", Tuple{Int16,Int16}[(55, 1), (59, 3), (67, 1), (74, 5)])"
      ]
     },
     "metadata": {},
     "output_type": "display_data"
    },
    {
     "data": {
      "text/plain": [
       "(0, \"T-5\", Tuple{Int16,Int16}[(48, 1), (60, 1), (64, 3), (72, 1)])"
      ]
     },
     "metadata": {},
     "output_type": "display_data"
    },
    {
     "data": {
      "text/plain": [
       "(15, \"D/3\", Tuple{Int16,Int16}[(47, 3), (62, 5), (62, 5), (67, 1)])"
      ]
     },
     "metadata": {},
     "output_type": "display_data"
    },
    {
     "data": {
      "text/plain": [
       "(12, \"Ts\", Tuple{Int16,Int16}[(45, 1), (60, 3), (64, 5), (69, 1)])"
      ]
     },
     "metadata": {},
     "output_type": "display_data"
    },
    {
     "data": {
      "text/plain": [
       "(18, \"D\", Tuple{Int16,Int16}[(43, 1), (59, 3), (67, 1), (74, 5)])"
      ]
     },
     "metadata": {},
     "output_type": "display_data"
    },
    {
     "data": {
      "text/plain": [
       "(9, \"D7/7\", Tuple{Int16,Int16}[(41, 7), (59, 3), (67, 1), (74, 5)])"
      ]
     },
     "metadata": {},
     "output_type": "display_data"
    },
    {
     "data": {
      "text/plain": [
       "(0, \"T/3\", Tuple{Int16,Int16}[(40, 3), (60, 1), (67, 5), (79, 5)])"
      ]
     },
     "metadata": {},
     "output_type": "display_data"
    },
    {
     "data": {
      "text/plain": [
       "(9, \"S\", Tuple{Int16,Int16}[(41, 1), (60, 5), (69, 3), (77, 1)])"
      ]
     },
     "metadata": {},
     "output_type": "display_data"
    },
    {
     "data": {
      "text/plain": [
       "(15, \"T/5\", Tuple{Int16,Int16}[(43, 5), (60, 1), (67, 5), (76, 3)])"
      ]
     },
     "metadata": {},
     "output_type": "display_data"
    },
    {
     "data": {
      "text/plain": [
       "(15, \"S\", Tuple{Int16,Int16}[(41, 1), (60, 5), (69, 3), (77, 1)])"
      ]
     },
     "metadata": {},
     "output_type": "display_data"
    },
    {
     "data": {
      "text/plain": [
       "(15, \"D\", Tuple{Int16,Int16}[(43, 1), (59, 3), (67, 1), (74, 5)])"
      ]
     },
     "metadata": {},
     "output_type": "display_data"
    },
    {
     "data": {
      "text/plain": [
       "(18, \"T\", Tuple{Int16,Int16}[(48, 1), (60, 1), (67, 5), (76, 3)])"
      ]
     },
     "metadata": {},
     "output_type": "display_data"
    },
    {
     "data": {
      "text/plain": [
       "(18, \"T\", Tuple{Int16,Int16}[(48, 1), (60, 1), (67, 5), (76, 3)])"
      ]
     },
     "metadata": {},
     "output_type": "display_data"
    },
    {
     "name": "stdout",
     "output_type": "stream",
     "text": [
      "##: Done. Total checked: 174532, Pruned: 203844, completed: 20, time: 3.4040000438690186, efficiency: 5.875440582329667\n",
      "Results: bestval_func: 174, bestval_voices: 62\n",
      "#Key: 1Scale: Major\n",
      "#Total time for optimisation of piece: 6.807999849319458\n",
      "#Total cost of piece: 491\n",
      "[\"T\", \"T\", \"D/3\", \"S/3\", \"D7\", \"Ts\", \"D\", \"D\", \"S/3\", \"D/3\", \"T\", \"D7-1\", \"T\", \"D/3\", \"T\", \"T\", \"D7\", \"Ts\", \"S65\", \"D\", \"T-5\", \"D/3\", \"Ts\", \"D\", \"D7/7\", \"T/3\", \"S\", \"T/5\", \"S\", \"D\", \"T\", \"T\"]\n",
      "../../results/optimizer/pianoroll/SJP-21-life-opt.csv\n",
      " End of file \n",
      " \n",
      "Optimising: ../../results/neuralnet/pianoroll/SJP-27-king-nn.csv\n",
      "[0 0 1 0 0 0 0 0 0 2 0 1; 1 0 0 0 1 0 0 0 0 1 0 1; 1 0 0 0 1 0 0 0 0 1 0 0; 0 0 0 0 2 0 0 0 1 0 0 1; 0 0 0 0 2 0 0 0 1 0 0 1; 0 0 1 0 1 0 0 0 0 1 0 1; 1 0 1 0 0 0 0 0 0 1 0 1; 0 0 2 0 0 0 0 2 0 0 0 0; 1 0 0 0 2 0 0 0 0 1 0 0; 1 0 1 0 1 0 0 0 0 0 0 1; 1 0 0 0 1 0 0 1 0 0 0 1; 0 0 0 0 1 0 1 1 0 0 0 1; 0 0 0 1 0 0 1 0 0 1 0 1; 0 0 0 0 2 0 0 2 0 0 0 0; 0 0 2 0 0 0 1 0 0 1 0 0; 0 0 2 0 0 0 0 0 0 1 0 1; 0 0 1 0 0 0 1 0 0 1 0 1; 0 0 0 0 1 0 0 0 1 1 0 1; 0 0 0 0 2 0 0 0 1 1 0 0; 1 0 0 0 1 0 0 0 1 1 0 0; 1 0 0 0 1 0 0 0 0 1 0 1; 0 0 2 0 1 0 0 1 0 0 0 0; 0 0 2 0 0 0 1 0 0 1 0 0; 1 0 1 0 0 0 1 0 0 1 0 0; 1 0 1 0 0 0 0 1 0 0 0 1; 1 0 1 0 1 0 0 0 0 1 0 0; 1 0 1 0 0 0 0 0 0 1 0 1; 0 0 1 0 0 0 0 1 0 0 0 2; 0 0 1 0 0 0 0 1 0 1 0 1; 0 0 1 0 1 0 1 0 0 1 0 0; 0 0 2 0 0 0 0 0 0 0 0 2; 0 0 1 0 1 0 1 0 0 1 0 0; 1 0 0 0 1 0 0 1 0 1 0 0]\n",
      "Key Counter is [13 0 25 1 24 0 8 11 5 23 0 21]\n",
      "Key Score is [117; 27; 112; 55; 82; 96; 35; 125; 30; 106; 73; 59]\n",
      "Position Counter for 8 is [11 5 23 0 21 13 0 25 1 24 0 8]\n",
      "Any[[8.0, 83.0, 0.0]]\n",
      "[8, 83, 0]\n",
      "5 E Minor\n",
      "Rhythm map: [\"S\", \"W\", \"S\", \"W\", \"S\", \"C\", \"C\", \"C\", \"S\", \"W\", \"S\", \"W\", \"S\", \"C\", \"C\", \"C\"] size: (16,)\n",
      "Amount of timesteps to optimise: 16\n",
      "Building lookup-table list...\n",
      "Lookup-table built.\n",
      "Initial function score upper bound: 499, voicing score upper bound: 499\n",
      "Starting search...\n",
      "New solution\n",
      "function cost: 204\n",
      "child voicing cost: 103\n",
      "Best yet: 307\n",
      "New solution\n",
      "function cost: 204\n",
      "child voicing cost: 101\n",
      "Best yet: 305\n",
      "New solution\n",
      "function cost: 204\n",
      "child voicing cost: 100\n",
      "Best yet: 304\n",
      "New solution\n",
      "function cost: 204\n",
      "child voicing cost: 98\n",
      "Best yet: 302\n",
      "New solution\n",
      "function cost: 183\n",
      "child voicing cost: 103\n",
      "Best yet: 286\n",
      "New solution\n",
      "function cost: 174\n",
      "child voicing cost: 109\n",
      "Best yet: 283\n",
      "New solution\n",
      "function cost: 183\n",
      "child voicing cost: 99\n",
      "Best yet: 282\n",
      "New solution\n",
      "function cost: 183\n",
      "child voicing cost: 96\n",
      "Best yet: 279\n",
      "New solution\n",
      "function cost: 183\n",
      "child voicing cost: 95\n",
      "Best yet: 278\n",
      "New solution\n",
      "function cost: 177\n",
      "child voicing cost: 98\n",
      "Best yet: 275\n",
      "New solution\n",
      "function cost: 174\n",
      "child voicing cost: 100\n",
      "Best yet: 274\n",
      "New solution\n",
      "function cost: 183\n",
      "child voicing cost: 86\n",
      "Best yet: 269\n",
      "New solution\n",
      "function cost: 183\n",
      "child voicing cost: 83\n",
      "Best yet: 266\n",
      "New solution\n",
      "function cost: 183\n",
      "child voicing cost: 80\n",
      "Best yet: 263\n",
      "New solution\n",
      "function cost: 162\n",
      "child voicing cost: 99\n",
      "Best yet: 261\n",
      "New solution\n",
      "function cost: 162\n",
      "child voicing cost: 96\n",
      "Best yet: 258\n",
      "New solution\n",
      "function cost: 162\n",
      "child voicing cost: 93\n",
      "Best yet: 255\n",
      "New solution\n",
      "function cost: 162\n",
      "child voicing cost: 90\n",
      "Best yet: 252\n",
      "New solution\n",
      "function cost: 144\n",
      "child voicing cost: 105\n",
      "Best yet: 249\n",
      "New solution\n",
      "function cost: 144\n",
      "child voicing cost: 102\n",
      "Best yet: 246\n",
      "New solution\n",
      "function cost: 144\n",
      "child voicing cost: 99\n",
      "Best yet: 243\n",
      "New solution\n",
      "function cost: 144\n",
      "child voicing cost: 98\n",
      "Best yet: 242\n",
      "New solution\n",
      "function cost: 144\n",
      "child voicing cost: 95\n",
      "Best yet: 239\n",
      "New solution\n",
      "function cost: 144\n",
      "child voicing cost: 92\n",
      "Best yet: 236\n",
      "New solution\n",
      "function cost: 144\n",
      "child voicing cost: 89\n",
      "Best yet: 233\n",
      "##: Done. Total checked: 157157, Pruned: 181083, completed: 25, time: 3.067000150680542, efficiency: 8.1512875030191\n",
      "Results: bestval_func: 144, bestval_voices: 89\n",
      "[0 0 1 0 0 0 0 0 0 2 0 1; 1 0 0 0 1 0 0 0 0 1 0 1; 1 0 0 0 1 0 0 0 0 1 0 0; 0 0 0 0 2 0 0 0 1 0 0 1; 0 0 0 0 2 0 0 0 1 0 0 1; 0 0 1 0 1 0 0 0 0 1 0 1; 1 0 1 0 0 0 0 0 0 1 0 1; 0 0 2 0 0 0 0 2 0 0 0 0; 1 0 0 0 2 0 0 0 0 1 0 0; 1 0 1 0 1 0 0 0 0 0 0 1; 1 0 0 0 1 0 0 1 0 0 0 1; 0 0 0 0 1 0 1 1 0 0 0 1; 0 0 0 1 0 0 1 0 0 1 0 1; 0 0 0 0 2 0 0 2 0 0 0 0; 0 0 2 0 0 0 1 0 0 1 0 0; 0 0 2 0 0 0 0 0 0 1 0 1; 0 0 1 0 0 0 1 0 0 1 0 1; 0 0 0 0 1 0 0 0 1 1 0 1; 0 0 0 0 2 0 0 0 1 1 0 0; 1 0 0 0 1 0 0 0 1 1 0 0; 1 0 0 0 1 0 0 0 0 1 0 1; 0 0 2 0 1 0 0 1 0 0 0 0; 0 0 2 0 0 0 1 0 0 1 0 0; 1 0 1 0 0 0 1 0 0 1 0 0; 1 0 1 0 0 0 0 1 0 0 0 1; 1 0 1 0 1 0 0 0 0 1 0 0; 1 0 1 0 0 0 0 0 0 1 0 1; 0 0 1 0 0 0 0 1 0 0 0 2; 0 0 1 0 0 0 0 1 0 1 0 1; 0 0 1 0 1 0 1 0 0 1 0 0; 0 0 2 0 0 0 0 0 0 0 0 2; 0 0 1 0 1 0 1 0 0 1 0 0; 1 0 0 0 1 0 0 1 0 1 0 0]\n",
      "Key Counter is [13 0 25 1 24 0 8 11 5 23 0 21]\n",
      "Key Score is [117; 27; 112; 55; 82; 96; 35; 125; 30; 106; 73; 59]\n",
      "Position Counter for 8 is [11 5 23 0 21 13 0 25 1 24 0 8]\n",
      "Any[[8.0, 83.0, 0.0]]\n",
      "[8, 83, 0]\n",
      "5 E Minor\n",
      "Rhythm map: [\"W\", \"S\", \"W\", \"S\", \"W\", \"S\", \"W\", \"S\", \"W\", \"S\", \"W\", \"S\", \"W\", \"A\", \"A\", \"A\", \"A\"] size: (17,)\n",
      "Amount of timesteps to optimise: 17\n",
      "Building lookup-table list...\n",
      "Lookup-table built.\n",
      "Initial function score upper bound: 499, voicing score upper bound: 499\n",
      "Starting search...\n",
      "New solution\n",
      "function cost: 222\n",
      "child voicing cost: 69\n",
      "Best yet: 291\n",
      "New solution\n",
      "function cost: 219\n",
      "child voicing cost: 67\n",
      "Best yet: 286\n",
      "New solution\n",
      "function cost: 210\n",
      "child voicing cost: 65\n",
      "Best yet: 275\n",
      "New solution\n",
      "function cost: 210\n",
      "child voicing cost: 63\n",
      "Best yet: 273\n",
      "New solution\n",
      "function cost: 210\n",
      "child voicing cost: 62\n",
      "Best yet: 272\n",
      "New solution\n",
      "function cost: 204\n",
      "child voicing cost: 66\n",
      "Best yet: 270\n",
      "New solution\n",
      "function cost: 210\n",
      "child voicing cost: 58\n",
      "Best yet: 268\n",
      "New solution\n",
      "function cost: 189\n",
      "child voicing cost: 76\n",
      "Best yet: 265\n",
      "New solution\n",
      "function cost: 189\n",
      "child voicing cost: 72\n",
      "Best yet: 261\n",
      "New solution\n",
      "function cost: 183\n",
      "child voicing cost: 77\n",
      "Best yet: 260\n",
      "New solution\n",
      "function cost: 189\n",
      "child voicing cost: 69\n",
      "Best yet: 258\n",
      "New solution\n",
      "function cost: 168\n",
      "child voicing cost: 80\n",
      "Best yet: 248\n",
      "New solution\n",
      "function cost: 168\n",
      "child voicing cost: 74\n",
      "Best yet: 242\n",
      "New solution\n",
      "function cost: 168\n",
      "child voicing cost: 71\n",
      "Best yet: 239\n",
      "New solution\n",
      "function cost: 156\n",
      "child voicing cost: 80\n",
      "Best yet: 236\n",
      "New solution\n",
      "function cost: 156\n",
      "child voicing cost: 74\n",
      "Best yet: 230\n",
      "New solution\n",
      "function cost: 156\n",
      "child voicing cost: 71\n",
      "Best yet: 227\n",
      "New solution\n",
      "function cost: 156\n",
      "child voicing cost: 70\n",
      "Best yet: 226\n"
     ]
    },
    {
     "data": {
      "text/plain": [
       "(27, \"T\", Tuple{Int16,Int16}[(52, 1), (59, 5), (64, 1), (67, 3)])"
      ]
     },
     "metadata": {},
     "output_type": "display_data"
    },
    {
     "data": {
      "text/plain": [
       "(6, \"S/3\", Tuple{Int16,Int16}[(48, 3), (57, 1), (64, 5), (69, 1)])"
      ]
     },
     "metadata": {},
     "output_type": "display_data"
    },
    {
     "data": {
      "text/plain": [
       "(0, \"S\", Tuple{Int16,Int16}[(45, 1), (60, 3), (64, 5), (69, 1)])"
      ]
     },
     "metadata": {},
     "output_type": "display_data"
    },
    {
     "data": {
      "text/plain": [
       "(3, \"T/3\", Tuple{Int16,Int16}[(43, 3), (59, 5), (64, 1), (71, 5)])"
      ]
     },
     "metadata": {},
     "output_type": "display_data"
    },
    {
     "data": {
      "text/plain": [
       "(3, \"T\", Tuple{Int16,Int16}[(40, 1), (59, 5), (67, 3), (76, 1)])"
      ]
     },
     "metadata": {},
     "output_type": "display_data"
    },
    {
     "data": {
      "text/plain": [
       "(9, \"D7\", Tuple{Int16,Int16}[(47, 1), (57, 7), (66, 5), (75, 3)])"
      ]
     },
     "metadata": {},
     "output_type": "display_data"
    },
    {
     "data": {
      "text/plain": [
       "(15, \"Ts\", Tuple{Int16,Int16}[(48, 1), (55, 5), (64, 3), (76, 3)])"
      ]
     },
     "metadata": {},
     "output_type": "display_data"
    },
    {
     "data": {
      "text/plain": [
       "(21, \"Ts\", Tuple{Int16,Int16}[(48, 1), (52, 3), (64, 3), (67, 5)])"
      ]
     },
     "metadata": {},
     "output_type": "display_data"
    },
    {
     "data": {
      "text/plain": [
       "(0, \"S/3\", Tuple{Int16,Int16}[(48, 3), (52, 5), (64, 5), (69, 1)])"
      ]
     },
     "metadata": {},
     "output_type": "display_data"
    },
    {
     "data": {
      "text/plain": [
       "(12, \"D\", Tuple{Int16,Int16}[(47, 1), (54, 5), (63, 3), (71, 1)])"
      ]
     },
     "metadata": {},
     "output_type": "display_data"
    },
    {
     "data": {
      "text/plain": [
       "(12, \"S/3\", Tuple{Int16,Int16}[(48, 3), (52, 5), (64, 5), (69, 1)])"
      ]
     },
     "metadata": {},
     "output_type": "display_data"
    },
    {
     "data": {
      "text/plain": [
       "(6, \"T\", Tuple{Int16,Int16}[(52, 1), (59, 5), (64, 1), (67, 3)])"
      ]
     },
     "metadata": {},
     "output_type": "display_data"
    },
    {
     "data": {
      "text/plain": [
       "(6, \"D7-1\", Tuple{Int16,Int16}[(54, 5), (57, 7), (63, 3), (66, 5)])"
      ]
     },
     "metadata": {},
     "output_type": "display_data"
    },
    {
     "data": {
      "text/plain": [
       "(12, \"T\", Tuple{Int16,Int16}[(52, 1), (55, 3), (64, 1), (71, 5)])"
      ]
     },
     "metadata": {},
     "output_type": "display_data"
    },
    {
     "data": {
      "text/plain": [
       "(18, \"D\", Tuple{Int16,Int16}[(47, 1), (54, 5), (63, 3), (71, 1)])"
      ]
     },
     "metadata": {},
     "output_type": "display_data"
    },
    {
     "data": {
      "text/plain": [
       "(21, \"D\", Tuple{Int16,Int16}[(47, 1), (54, 5), (59, 1), (63, 3)])"
      ]
     },
     "metadata": {},
     "output_type": "display_data"
    },
    {
     "data": {
      "text/plain": [
       "(3, \"D7/7\", Tuple{Int16,Int16}[(45, 7), (54, 5), (59, 1), (63, 3)])"
      ]
     },
     "metadata": {},
     "output_type": "display_data"
    },
    {
     "data": {
      "text/plain": [
       "(9, \"T/3\", Tuple{Int16,Int16}[(43, 3), (52, 1), (59, 5), (64, 1)])"
      ]
     },
     "metadata": {},
     "output_type": "display_data"
    },
    {
     "data": {
      "text/plain": [
       "(9, \"T\", Tuple{Int16,Int16}[(40, 1), (52, 1), (59, 5), (67, 3)])"
      ]
     },
     "metadata": {},
     "output_type": "display_data"
    },
    {
     "data": {
      "text/plain": [
       "(3, \"S\", Tuple{Int16,Int16}[(45, 1), (52, 5), (57, 1), (60, 3)])"
      ]
     },
     "metadata": {},
     "output_type": "display_data"
    },
    {
     "data": {
      "text/plain": [
       "(6, \"D7-5\", Tuple{Int16,Int16}[(47, 1), (51, 3), (57, 7), (59, 1)])"
      ]
     },
     "metadata": {},
     "output_type": "display_data"
    },
    {
     "data": {
      "text/plain": [
       "(15, \"T\", Tuple{Int16,Int16}[(52, 1), (52, 1), (55, 3), (59, 5)])"
      ]
     },
     "metadata": {},
     "output_type": "display_data"
    },
    {
     "data": {
      "text/plain": [
       "(0, \"Dm\", Tuple{Int16,Int16}[(50, 1), (54, 3), (57, 5), (62, 1)])"
      ]
     },
     "metadata": {},
     "output_type": "display_data"
    },
    {
     "data": {
      "text/plain": [
       "(12, \"S/3\", Tuple{Int16,Int16}[(48, 3), (52, 5), (57, 1), (64, 5)])"
      ]
     },
     "metadata": {},
     "output_type": "display_data"
    },
    {
     "data": {
      "text/plain": [
       "(9, \"D\", Tuple{Int16,Int16}[(47, 1), (54, 5), (63, 3), (71, 1)])"
      ]
     },
     "metadata": {},
     "output_type": "display_data"
    },
    {
     "data": {
      "text/plain": [
       "(6, \"S/3\", Tuple{Int16,Int16}[(48, 3), (52, 5), (64, 5), (69, 1)])"
      ]
     },
     "metadata": {},
     "output_type": "display_data"
    },
    {
     "data": {
      "text/plain": [
       "(12, \"S\", Tuple{Int16,Int16}[(45, 1), (57, 1), (64, 5), (72, 3)])"
      ]
     },
     "metadata": {},
     "output_type": "display_data"
    },
    {
     "data": {
      "text/plain": [
       "(0, \"Tm\", Tuple{Int16,Int16}[(43, 1), (59, 3), (67, 1), (74, 5)])"
      ]
     },
     "metadata": {},
     "output_type": "display_data"
    },
    {
     "data": {
      "text/plain": [
       "(15, \"S\", Tuple{Int16,Int16}[(45, 1), (57, 1), (64, 5), (72, 3)])"
      ]
     },
     "metadata": {},
     "output_type": "display_data"
    },
    {
     "data": {
      "text/plain": [
       "(18, \"D7\", Tuple{Int16,Int16}[(47, 1), (57, 7), (63, 3), (66, 5)])"
      ]
     },
     "metadata": {},
     "output_type": "display_data"
    },
    {
     "data": {
      "text/plain": [
       "(24, \"T\", Tuple{Int16,Int16}[(52, 1), (55, 3), (59, 5), (64, 1)])"
      ]
     },
     "metadata": {},
     "output_type": "display_data"
    },
    {
     "data": {
      "text/plain": [
       "(24, \"T\", Tuple{Int16,Int16}[(52, 1), (55, 3), (59, 5), (64, 1)])"
      ]
     },
     "metadata": {},
     "output_type": "display_data"
    },
    {
     "name": "stdout",
     "output_type": "stream",
     "text": [
      "##: Done. Total checked: 80852, Pruned: 89830, completed: 18, time: 1.7379999160766602, efficiency: 10.356732375817934\n",
      "Results: bestval_func: 156, bestval_voices: 70\n",
      "#Key: 5Scale: Minor\n",
      "#Total time for optimisation of piece: 6.327000141143799\n",
      "#Total cost of piece: 459\n",
      "[\"T\", \"S/3\", \"S\", \"T/3\", \"T\", \"D7\", \"Ts\", \"Ts\", \"S/3\", \"D\", \"S/3\", \"T\", \"D7-1\", \"T\", \"D\", \"D\", \"D7/7\", \"T/3\", \"T\", \"S\", \"D7-5\", \"T\", \"Dm\", \"S/3\", \"D\", \"S/3\", \"S\", \"Tm\", \"S\", \"D7\", \"T\", \"T\"]\n",
      "../../results/optimizer/pianoroll/SJP-27-king-opt.csv\n",
      " End of file \n",
      " \n",
      "Optimising: ../../results/neuralnet/pianoroll/SJP-40-fetrs-nn.csv\n",
      "[0 0 0 0 0 0 1 0 0 1 0 1; 0 0 0 0 1 0 0 0 1 0 0 1; 0 2 0 0 0 0 0 0 0 1 0 0; 0 0 1 0 0 0 0 0 1 0 0 0; 0 1 0 0 0 0 0 0 0 0 0 2; 0 1 0 0 0 0 2 0 0 1 0 0; 0 1 0 0 1 0 1 0 1 0 0 0; 0 1 0 0 1 0 0 0 1 0 0 1; 0 0 0 0 0 0 2 0 0 1 0 1; 0 0 0 0 2 0 0 0 1 1 0 0; 0 0 0 0 0 0 0 0 1 2 0 1; 0 0 0 0 1 0 0 0 1 2 0 0; 0 1 0 0 1 0 0 0 0 2 0 0; 0 2 0 0 0 0 1 0 0 1 0 0; 0 1 0 0 0 0 1 0 1 0 0 1; 0 1 0 0 1 0 2 0 0 0 0 0; 0 1 0 0 0 1 1 0 1 0 0 0; 0 1 0 0 0 0 1 0 1 0 0 1; 0 0 0 0 0 0 2 0 0 1 0 1; 0 1 0 0 2 0 0 0 0 1 0 0; 0 0 1 0 1 0 1 0 0 0 0 1; 0 1 0 0 1 0 0 0 1 0 0 1; 0 2 0 0 0 0 1 0 0 1 0 0; 0 2 0 0 0 0 1 0 1 0 0 0; 0 1 0 0 0 1 1 0 1 0 0 0; 0 2 0 0 0 0 1 0 1 0 0 0; 0 1 0 0 1 0 1 0 1 0 0 0; 0 2 0 0 0 0 1 0 1 0 0 0; 0 1 0 0 1 0 1 0 1 0 0 0; 0 2 0 0 0 0 0 0 1 1 0 0; 0 0 0 1 0 0 2 0 1 0 0 0; 0 1 0 0 0 0 0 0 2 1 0 0; 0 1 0 0 1 0 1 0 1 0 0 0]\n",
      "Key Counter is [0 30 2 1 15 2 25 0 22 17 0 12]\n",
      "Key Score is [48; 80; 101; 27; 122; 36; 92; 71; 55; 123; 22; 105]\n",
      "Position Counter for 10 is [17 0 12 0 30 2 1 15 2 25 0 22]\n",
      "Any[[10.0, 82.5, 0.0]]\n",
      "[10, 82, 0]\n",
      "7 F# Minor\n",
      "Rhythm map: [\"S\", \"W\", \"S\", \"W\", \"S\", \"C\", \"C\", \"C\", \"S\", \"W\", \"S\", \"W\", \"S\", \"C\", \"C\", \"C\"] size: (16,)\n",
      "Amount of timesteps to optimise: 16\n",
      "Building lookup-table list...\n",
      "Lookup-table built.\n",
      "Initial function score upper bound: 499, voicing score upper bound: 499\n",
      "Starting search...\n",
      "New solution\n",
      "function cost: 183\n",
      "child voicing cost: 106\n",
      "Best yet: 289\n",
      "New solution\n",
      "function cost: 183\n",
      "child voicing cost: 103\n",
      "Best yet: 286\n",
      "New solution\n",
      "function cost: 177\n",
      "child voicing cost: 101\n",
      "Best yet: 278\n",
      "New solution\n",
      "function cost: 177\n",
      "child voicing cost: 100\n",
      "Best yet: 277\n",
      "New solution\n",
      "function cost: 162\n",
      "child voicing cost: 108\n",
      "Best yet: 270\n",
      "New solution\n",
      "function cost: 162\n",
      "child voicing cost: 107\n",
      "Best yet: 269\n",
      "New solution\n",
      "function cost: 162\n",
      "child voicing cost: 104\n",
      "Best yet: 266\n",
      "New solution\n",
      "function cost: 165\n",
      "child voicing cost: 100\n",
      "Best yet: 265\n",
      "New solution\n",
      "function cost: 165\n",
      "child voicing cost: 99\n",
      "Best yet: 264\n",
      "New solution\n",
      "function cost: 162\n",
      "child voicing cost: 91\n",
      "Best yet: 253\n",
      "New solution\n",
      "function cost: 165\n",
      "child voicing cost: 84\n",
      "Best yet: 249\n",
      "New solution\n",
      "function cost: 156\n",
      "child voicing cost: 90\n",
      "Best yet: 246\n",
      "New solution\n",
      "function cost: 156\n",
      "child voicing cost: 89\n",
      "Best yet: 245\n",
      "New solution\n",
      "function cost: 156\n",
      "child voicing cost: 80\n",
      "Best yet: 236\n",
      "##: Done. Total checked: 230627, Pruned: 300426, completed: 14, time: 4.957000017166138, efficiency: 2.824288874625352\n",
      "Results: bestval_func: 156, bestval_voices: 80\n",
      "[0 0 0 0 0 0 1 0 0 1 0 1; 0 0 0 0 1 0 0 0 1 0 0 1; 0 2 0 0 0 0 0 0 0 1 0 0; 0 0 1 0 0 0 0 0 1 0 0 0; 0 1 0 0 0 0 0 0 0 0 0 2; 0 1 0 0 0 0 2 0 0 1 0 0; 0 1 0 0 1 0 1 0 1 0 0 0; 0 1 0 0 1 0 0 0 1 0 0 1; 0 0 0 0 0 0 2 0 0 1 0 1; 0 0 0 0 2 0 0 0 1 1 0 0; 0 0 0 0 0 0 0 0 1 2 0 1; 0 0 0 0 1 0 0 0 1 2 0 0; 0 1 0 0 1 0 0 0 0 2 0 0; 0 2 0 0 0 0 1 0 0 1 0 0; 0 1 0 0 0 0 1 0 1 0 0 1; 0 1 0 0 1 0 2 0 0 0 0 0; 0 1 0 0 0 1 1 0 1 0 0 0; 0 1 0 0 0 0 1 0 1 0 0 1; 0 0 0 0 0 0 2 0 0 1 0 1; 0 1 0 0 2 0 0 0 0 1 0 0; 0 0 1 0 1 0 1 0 0 0 0 1; 0 1 0 0 1 0 0 0 1 0 0 1; 0 2 0 0 0 0 1 0 0 1 0 0; 0 2 0 0 0 0 1 0 1 0 0 0; 0 1 0 0 0 1 1 0 1 0 0 0; 0 2 0 0 0 0 1 0 1 0 0 0; 0 1 0 0 1 0 1 0 1 0 0 0; 0 2 0 0 0 0 1 0 1 0 0 0; 0 1 0 0 1 0 1 0 1 0 0 0; 0 2 0 0 0 0 0 0 1 1 0 0; 0 0 0 1 0 0 2 0 1 0 0 0; 0 1 0 0 0 0 0 0 2 1 0 0; 0 1 0 0 1 0 1 0 1 0 0 0]\n",
      "Key Counter is [0 30 2 1 15 2 25 0 22 17 0 12]\n",
      "Key Score is [48; 80; 101; 27; 122; 36; 92; 71; 55; 123; 22; 105]\n",
      "Position Counter for 10 is [17 0 12 0 30 2 1 15 2 25 0 22]\n",
      "Any[[10.0, 82.5, 0.0]]\n",
      "[10, 82, 0]\n",
      "7 F# Minor\n",
      "Rhythm map: [\"W\", \"S\", \"W\", \"S\", \"W\", \"S\", \"W\", \"S\", \"W\", \"S\", \"W\", \"S\", \"W\", \"A\", \"A\", \"A\", \"A\"] size: (17,)\n",
      "Amount of timesteps to optimise: 17\n",
      "Building lookup-table list...\n",
      "Lookup-table built.\n",
      "Initial function score upper bound: 499, voicing score upper bound: 499\n",
      "Starting search...\n",
      "New solution\n",
      "function cost: 147\n",
      "child voicing cost: 94\n",
      "Best yet: 241\n",
      "New solution\n",
      "function cost: 150\n",
      "child voicing cost: 76\n",
      "Best yet: 226\n",
      "New solution\n",
      "function cost: 135\n",
      "child voicing cost: 81\n",
      "Best yet: 216\n",
      "New solution\n",
      "function cost: 135\n",
      "child voicing cost: 80\n",
      "Best yet: 215\n",
      "New solution\n",
      "function cost: 132\n",
      "child voicing cost: 79\n",
      "Best yet: 211\n",
      "New solution\n",
      "function cost: 132\n",
      "child voicing cost: 78\n",
      "Best yet: 210\n",
      "New solution\n",
      "function cost: 132\n",
      "child voicing cost: 76\n",
      "Best yet: 208\n",
      "New solution\n",
      "function cost: 132\n",
      "child voicing cost: 75\n",
      "Best yet: 207\n",
      "New solution\n",
      "function cost: 108\n",
      "child voicing cost: 96\n",
      "Best yet: 204\n",
      "New solution\n",
      "function cost: 108\n",
      "child voicing cost: 95\n",
      "Best yet: 203\n",
      "New solution\n",
      "function cost: 108\n",
      "child voicing cost: 93\n",
      "Best yet: 201\n",
      "New solution\n",
      "function cost: 108\n",
      "child voicing cost: 92\n",
      "Best yet: 200\n"
     ]
    },
    {
     "data": {
      "text/plain": [
       "(6, \"T\", Tuple{Int16,Int16}[(54, 1), (54, 1), (61, 5), (69, 3)])"
      ]
     },
     "metadata": {},
     "output_type": "display_data"
    },
    {
     "data": {
      "text/plain": [
       "(0, \"Dm\", Tuple{Int16,Int16}[(52, 1), (56, 3), (64, 1), (71, 5)])"
      ]
     },
     "metadata": {},
     "output_type": "display_data"
    },
    {
     "data": {
      "text/plain": [
       "(6, \"Ts\", Tuple{Int16,Int16}[(50, 1), (57, 5), (66, 3), (78, 3)])"
      ]
     },
     "metadata": {},
     "output_type": "display_data"
    },
    {
     "data": {
      "text/plain": [
       "(3, \"D\", Tuple{Int16,Int16}[(49, 1), (61, 1), (68, 5), (77, 3)])"
      ]
     },
     "metadata": {},
     "output_type": "display_data"
    },
    {
     "data": {
      "text/plain": [
       "(3, \"S/3\", Tuple{Int16,Int16}[(50, 3), (54, 5), (66, 5), (71, 1)])"
      ]
     },
     "metadata": {},
     "output_type": "display_data"
    },
    {
     "data": {
      "text/plain": [
       "(0, \"T\", Tuple{Int16,Int16}[(54, 1), (57, 3), (66, 1), (73, 5)])"
      ]
     },
     "metadata": {},
     "output_type": "display_data"
    },
    {
     "data": {
      "text/plain": [
       "(18, \"D\", Tuple{Int16,Int16}[(49, 1), (56, 5), (65, 3), (73, 1)])"
      ]
     },
     "metadata": {},
     "output_type": "display_data"
    },
    {
     "data": {
      "text/plain": [
       "(9, \"D\", Tuple{Int16,Int16}[(49, 1), (53, 3), (61, 1), (68, 5)])"
      ]
     },
     "metadata": {},
     "output_type": "display_data"
    },
    {
     "data": {
      "text/plain": [
       "(6, \"T\", Tuple{Int16,Int16}[(42, 1), (54, 1), (61, 5), (69, 3)])"
      ]
     },
     "metadata": {},
     "output_type": "display_data"
    },
    {
     "data": {
      "text/plain": [
       "(18, \"D7/3\", Tuple{Int16,Int16}[(41, 3), (56, 5), (61, 1), (71, 7)])"
      ]
     },
     "metadata": {},
     "output_type": "display_data"
    },
    {
     "data": {
      "text/plain": [
       "(21, \"T\", Tuple{Int16,Int16}[(42, 1), (54, 1), (61, 5), (69, 3)])"
      ]
     },
     "metadata": {},
     "output_type": "display_data"
    },
    {
     "data": {
      "text/plain": [
       "(12, \"D7-1\", Tuple{Int16,Int16}[(44, 5), (47, 7), (59, 7), (65, 3)])"
      ]
     },
     "metadata": {},
     "output_type": "display_data"
    },
    {
     "data": {
      "text/plain": [
       "(15, \"T\", Tuple{Int16,Int16}[(42, 1), (49, 5), (57, 3), (66, 1)])"
      ]
     },
     "metadata": {},
     "output_type": "display_data"
    },
    {
     "data": {
      "text/plain": [
       "(12, \"D7/3\", Tuple{Int16,Int16}[(41, 3), (49, 1), (59, 7), (68, 5)])"
      ]
     },
     "metadata": {},
     "output_type": "display_data"
    },
    {
     "data": {
      "text/plain": [
       "(18, \"T\", Tuple{Int16,Int16}[(42, 1), (49, 5), (57, 3), (66, 1)])"
      ]
     },
     "metadata": {},
     "output_type": "display_data"
    },
    {
     "data": {
      "text/plain": [
       "(15, \"T\", Tuple{Int16,Int16}[(42, 1), (54, 1), (57, 3), (61, 5)])"
      ]
     },
     "metadata": {},
     "output_type": "display_data"
    },
    {
     "data": {
      "text/plain": [
       "(6, \"T/3\", Tuple{Int16,Int16}[(45, 3), (54, 1), (61, 5), (73, 5)])"
      ]
     },
     "metadata": {},
     "output_type": "display_data"
    },
    {
     "data": {
      "text/plain": [
       "(3, \"D7/5\", Tuple{Int16,Int16}[(44, 5), (53, 3), (61, 1), (71, 7)])"
      ]
     },
     "metadata": {},
     "output_type": "display_data"
    },
    {
     "data": {
      "text/plain": [
       "(6, \"T\", Tuple{Int16,Int16}[(42, 1), (54, 1), (61, 5), (69, 3)])"
      ]
     },
     "metadata": {},
     "output_type": "display_data"
    },
    {
     "data": {
      "text/plain": [
       "(9, \"Tm\", Tuple{Int16,Int16}[(45, 1), (52, 5), (61, 3), (69, 1)])"
      ]
     },
     "metadata": {},
     "output_type": "display_data"
    },
    {
     "data": {
      "text/plain": [
       "(15, \"S\", Tuple{Int16,Int16}[(47, 1), (50, 3), (59, 1), (66, 5)])"
      ]
     },
     "metadata": {},
     "output_type": "display_data"
    },
    {
     "data": {
      "text/plain": [
       "(3, \"D7/7\", Tuple{Int16,Int16}[(47, 7), (56, 5), (61, 1), (65, 3)])"
      ]
     },
     "metadata": {},
     "output_type": "display_data"
    },
    {
     "data": {
      "text/plain": [
       "(0, \"T/3\", Tuple{Int16,Int16}[(45, 3), (54, 1), (61, 5), (66, 1)])"
      ]
     },
     "metadata": {},
     "output_type": "display_data"
    },
    {
     "data": {
      "text/plain": [
       "(3, \"D/5\", Tuple{Int16,Int16}[(44, 5), (53, 3), (61, 1), (68, 5)])"
      ]
     },
     "metadata": {},
     "output_type": "display_data"
    },
    {
     "data": {
      "text/plain": [
       "(6, \"T\", Tuple{Int16,Int16}[(42, 1), (54, 1), (61, 5), (69, 3)])"
      ]
     },
     "metadata": {},
     "output_type": "display_data"
    },
    {
     "data": {
      "text/plain": [
       "(3, \"D/3\", Tuple{Int16,Int16}[(41, 3), (56, 5), (68, 5), (73, 1)])"
      ]
     },
     "metadata": {},
     "output_type": "display_data"
    },
    {
     "data": {
      "text/plain": [
       "(9, \"T\", Tuple{Int16,Int16}[(42, 1), (57, 3), (66, 1), (73, 5)])"
      ]
     },
     "metadata": {},
     "output_type": "display_data"
    },
    {
     "data": {
      "text/plain": [
       "(3, \"T/3\", Tuple{Int16,Int16}[(45, 3), (54, 1), (61, 5), (66, 1)])"
      ]
     },
     "metadata": {},
     "output_type": "display_data"
    },
    {
     "data": {
      "text/plain": [
       "(9, \"D54\", Tuple{Int16,Int16}[(49, 1), (54, 4), (61, 1), (68, 5)])"
      ]
     },
     "metadata": {},
     "output_type": "display_data"
    },
    {
     "data": {
      "text/plain": [
       "(12, \"D\", Tuple{Int16,Int16}[(49, 1), (53, 3), (61, 1), (68, 5)])"
      ]
     },
     "metadata": {},
     "output_type": "display_data"
    },
    {
     "data": {
      "text/plain": [
       "(9, \"T\", Tuple{Int16,Int16}[(42, 1), (54, 1), (61, 5), (69, 3)])"
      ]
     },
     "metadata": {},
     "output_type": "display_data"
    },
    {
     "data": {
      "text/plain": [
       "(9, \"T\", Tuple{Int16,Int16}[(42, 1), (54, 1), (61, 5), (69, 3)])"
      ]
     },
     "metadata": {},
     "output_type": "display_data"
    },
    {
     "name": "stdout",
     "output_type": "stream",
     "text": [
      "New solution\n",
      "function cost: 108\n",
      "child voicing cost: 87\n",
      "Best yet: 195\n",
      "New solution\n",
      "function cost: 108\n",
      "child voicing cost: 86\n",
      "Best yet: 194\n",
      "##: Done. Total checked: 64560, Pruned: 74070, completed: 14, time: 1.4550001621246338, efficiency: 9.621992055008977\n",
      "Results: bestval_func: 108, bestval_voices: 86\n",
      "#Key: 7Scale: Minor\n",
      "#Total time for optimisation of piece: 7.837000131607056\n",
      "#Total cost of piece: 430\n",
      "[\"T\", \"Dm\", \"Ts\", \"D\", \"S/3\", \"T\", \"D\", \"D\", \"T\", \"D7/3\", \"T\", \"D7-1\", \"T\", \"D7/3\", \"T\", \"T\", \"T/3\", \"D7/5\", \"T\", \"Tm\", \"S\", \"D7/7\", \"T/3\", \"D/5\", \"T\", \"D/3\", \"T\", \"T/3\", \"D54\", \"D\", \"T\", \"T\"]\n",
      "../../results/optimizer/pianoroll/SJP-40-fetrs-opt.csv\n",
      " End of file \n",
      " \n",
      "Optimising: ../../results/neuralnet/pianoroll/SJP-52-name-nn.csv\n",
      "[0 0 0 2 0 0 0 1 0 0 1 0; 0 0 0 1 0 0 0 1 0 0 1 0; 0 0 0 1 0 0 0 1 0 0 1 0; 1 0 0 1 0 0 0 0 2 0 0 0; 0 0 2 0 0 0 0 0 0 0 0 1; 2 0 0 2 0 0 0 0 0 0 0 0; 1 0 0 1 0 1 0 1 0 0 0 0; 1 0 0 0 0 1 0 0 0 0 2 0; 0 0 0 1 0 0 0 1 0 0 2 0; 1 0 0 0 0 1 0 0 1 1 0 0; 0 0 1 0 0 1 0 0 0 0 2 0; 0 0 0 0 0 1 0 1 0 0 2 0; 0 0 2 0 0 1 0 0 0 0 1 0; 0 0 0 0 0 1 0 1 0 0 2 0; 1 0 0 1 0 1 0 0 1 0 0 0; 0 0 0 0 0 2 0 0 0 0 2 0; 0 0 0 0 0 0 0 2 0 0 2 0; 0 0 0 0 0 2 0 0 2 0 0 0; 0 0 0 1 0 1 0 0 1 0 1 0; 1 0 0 2 0 0 0 1 0 0 0 0; 0 0 0 0 0 1 0 2 1 0 0 0; 0 0 1 0 0 0 0 2 0 0 1 0; 0 0 0 2 0 0 0 1 0 0 1 0; 1 0 0 1 0 1 0 0 1 0 0 0; 0 0 0 0 0 1 0 1 0 0 2 0; 2 0 0 0 0 0 0 1 0 0 1 0; 1 0 0 0 0 2 0 1 0 0 0 0; 0 0 2 0 0 1 0 0 1 0 0 0; 0 0 0 1 0 0 0 2 0 0 1 0; 0 0 1 1 0 0 0 0 1 0 1 0; 0 0 1 1 0 0 0 1 0 0 1 0; 0 0 0 2 0 0 0 1 0 0 1 0; 0 0 0 2 0 0 0 1 0 0 1 0]\n",
      "Key Counter is [12 0 10 23 0 19 0 23 11 1 29 1]\n",
      "Key Score is [66; 94; 35; 127; 36; 94; 83; 47; 117; 23; 117; 64]\n",
      "Position Counter for 4 is [23 0 19 0 23 11 1 29 1 12 0 10]\n",
      "Any[[4.0, 86.5, 1.0]]\n",
      "[4, 86, 1]\n",
      "4 D# Major\n",
      "Rhythm map: [\"S\", \"W\", \"S\", \"W\", \"S\", \"C\", \"C\", \"C\", \"S\", \"W\", \"S\", \"W\", \"S\", \"C\", \"C\", \"C\"] size: (16,)\n",
      "Amount of timesteps to optimise: 16\n",
      "Building lookup-table list...\n",
      "Lookup-table built.\n",
      "Initial function score upper bound: 499, voicing score upper bound: 499\n",
      "Starting search...\n",
      "New solution\n",
      "function cost: 141\n",
      "child voicing cost: 105\n",
      "Best yet: 246\n",
      "New solution\n",
      "function cost: 141\n",
      "child voicing cost: 104\n",
      "Best yet: 245\n",
      "New solution\n",
      "function cost: 141\n",
      "child voicing cost: 96\n",
      "Best yet: 237\n",
      "New solution\n",
      "function cost: 141\n",
      "child voicing cost: 95\n",
      "Best yet: 236\n",
      "New solution\n",
      "function cost: 129\n",
      "child voicing cost: 90\n",
      "Best yet: 219\n",
      "New solution\n",
      "function cost: 129\n",
      "child voicing cost: 87\n",
      "Best yet: 216\n",
      "##: Done. Total checked: 102050, Pruned: 127756, completed: 6, time: 2.172999858856201, efficiency: 2.761159866415367\n",
      "Results: bestval_func: 129, bestval_voices: 87\n",
      "[0 0 0 2 0 0 0 1 0 0 1 0; 0 0 0 1 0 0 0 1 0 0 1 0; 0 0 0 1 0 0 0 1 0 0 1 0; 1 0 0 1 0 0 0 0 2 0 0 0; 0 0 2 0 0 0 0 0 0 0 0 1; 2 0 0 2 0 0 0 0 0 0 0 0; 1 0 0 1 0 1 0 1 0 0 0 0; 1 0 0 0 0 1 0 0 0 0 2 0; 0 0 0 1 0 0 0 1 0 0 2 0; 1 0 0 0 0 1 0 0 1 1 0 0; 0 0 1 0 0 1 0 0 0 0 2 0; 0 0 0 0 0 1 0 1 0 0 2 0; 0 0 2 0 0 1 0 0 0 0 1 0; 0 0 0 0 0 1 0 1 0 0 2 0; 1 0 0 1 0 1 0 0 1 0 0 0; 0 0 0 0 0 2 0 0 0 0 2 0; 0 0 0 0 0 0 0 2 0 0 2 0; 0 0 0 0 0 2 0 0 2 0 0 0; 0 0 0 1 0 1 0 0 1 0 1 0; 1 0 0 2 0 0 0 1 0 0 0 0; 0 0 0 0 0 1 0 2 1 0 0 0; 0 0 1 0 0 0 0 2 0 0 1 0; 0 0 0 2 0 0 0 1 0 0 1 0; 1 0 0 1 0 1 0 0 1 0 0 0; 0 0 0 0 0 1 0 1 0 0 2 0; 2 0 0 0 0 0 0 1 0 0 1 0; 1 0 0 0 0 2 0 1 0 0 0 0; 0 0 2 0 0 1 0 0 1 0 0 0; 0 0 0 1 0 0 0 2 0 0 1 0; 0 0 1 1 0 0 0 0 1 0 1 0; 0 0 1 1 0 0 0 1 0 0 1 0; 0 0 0 2 0 0 0 1 0 0 1 0; 0 0 0 2 0 0 0 1 0 0 1 0]\n",
      "Key Counter is [12 0 10 23 0 19 0 23 11 1 29 1]\n",
      "Key Score is [66; 94; 35; 127; 36; 94; 83; 47; 117; 23; 117; 64]\n",
      "Position Counter for 4 is [23 0 19 0 23 11 1 29 1 12 0 10]\n",
      "Any[[4.0, 86.5, 1.0]]\n",
      "[4, 86, 1]\n",
      "4 D# Major\n",
      "Rhythm map: [\"W\", \"S\", \"W\", \"S\", \"W\", \"S\", \"W\", \"S\", \"W\", \"S\", \"W\", \"S\", \"W\", \"A\", \"A\", \"A\", \"A\"] size: (17,)\n",
      "Amount of timesteps to optimise: 17\n",
      "Building lookup-table list...\n",
      "Lookup-table built.\n",
      "Initial function score upper bound: 499, voicing score upper bound: 499\n",
      "Starting search...\n",
      "New solution\n",
      "function cost: 144\n",
      "child voicing cost: 100\n",
      "Best yet: 244\n",
      "New solution\n",
      "function cost: 153\n",
      "child voicing cost: 83\n",
      "Best yet: 236\n",
      "New solution\n",
      "function cost: 144\n",
      "child voicing cost: 90\n",
      "Best yet: 234\n",
      "New solution\n",
      "function cost: 144\n",
      "child voicing cost: 87\n",
      "Best yet: 231"
     ]
    },
    {
     "data": {
      "text/plain": [
       "(0, \"T\", Tuple{Int16,Int16}[(51, 1), (51, 1), (58, 5), (67, 3)])"
      ]
     },
     "metadata": {},
     "output_type": "display_data"
    },
    {
     "data": {
      "text/plain": [
       "(0, \"T\", Tuple{Int16,Int16}[(51, 1), (55, 3), (58, 5), (63, 1)])"
      ]
     },
     "metadata": {},
     "output_type": "display_data"
    },
    {
     "data": {
      "text/plain": [
       "(9, \"D/3\", Tuple{Int16,Int16}[(50, 3), (53, 5), (58, 1), (65, 5)])"
      ]
     },
     "metadata": {},
     "output_type": "display_data"
    },
    {
     "data": {
      "text/plain": [
       "(0, \"S/3\", Tuple{Int16,Int16}[(48, 3), (51, 5), (56, 1), (68, 1)])"
      ]
     },
     "metadata": {},
     "output_type": "display_data"
    },
    {
     "data": {
      "text/plain": [
       "(12, \"D7/3\", Tuple{Int16,Int16}[(50, 3), (53, 5), (58, 1), (68, 7)])"
      ]
     },
     "metadata": {},
     "output_type": "display_data"
    },
    {
     "data": {
      "text/plain": [
       "(0, \"Ts\", Tuple{Int16,Int16}[(48, 1), (55, 5), (60, 1), (63, 3)])"
      ]
     },
     "metadata": {},
     "output_type": "display_data"
    },
    {
     "data": {
      "text/plain": [
       "(18, \"D\", Tuple{Int16,Int16}[(46, 1), (58, 1), (62, 3), (65, 5)])"
      ]
     },
     "metadata": {},
     "output_type": "display_data"
    },
    {
     "data": {
      "text/plain": [
       "(6, \"D\", Tuple{Int16,Int16}[(46, 1), (50, 3), (58, 1), (65, 5)])"
      ]
     },
     "metadata": {},
     "output_type": "display_data"
    },
    {
     "data": {
      "text/plain": [
       "(0, \"T/3\", Tuple{Int16,Int16}[(43, 3), (51, 1), (58, 5), (70, 5)])"
      ]
     },
     "metadata": {},
     "output_type": "display_data"
    },
    {
     "data": {
      "text/plain": [
       "(9, \"S\", Tuple{Int16,Int16}[(44, 1), (51, 5), (60, 3), (68, 1)])"
      ]
     },
     "metadata": {},
     "output_type": "display_data"
    },
    {
     "data": {
      "text/plain": [
       "(0, \"D\", Tuple{Int16,Int16}[(46, 1), (50, 3), (58, 1), (65, 5)])"
      ]
     },
     "metadata": {},
     "output_type": "display_data"
    },
    {
     "data": {
      "text/plain": [
       "(15, \"D7/7\", Tuple{Int16,Int16}[(44, 7), (50, 3), (58, 1), (65, 5)])"
      ]
     },
     "metadata": {},
     "output_type": "display_data"
    },
    {
     "data": {
      "text/plain": [
       "(12, \"T/3\", Tuple{Int16,Int16}[(43, 3), (51, 1), (58, 5), (70, 5)])"
      ]
     },
     "metadata": {},
     "output_type": "display_data"
    },
    {
     "data": {
      "text/plain": [
       "(12, \"D7-5\", Tuple{Int16,Int16}[(46, 1), (58, 1), (62, 3), (68, 7)])"
      ]
     },
     "metadata": {},
     "output_type": "display_data"
    },
    {
     "data": {
      "text/plain": [
       "(15, \"T\", Tuple{Int16,Int16}[(51, 1), (58, 5), (63, 1), (67, 3)])"
      ]
     },
     "metadata": {},
     "output_type": "display_data"
    },
    {
     "data": {
      "text/plain": [
       "(21, \"T\", Tuple{Int16,Int16}[(51, 1), (55, 3), (63, 1), (70, 5)])"
      ]
     },
     "metadata": {},
     "output_type": "display_data"
    },
    {
     "data": {
      "text/plain": [
       "(0, \"Tm\", Tuple{Int16,Int16}[(55, 1), (58, 3), (62, 5), (70, 3)])"
      ]
     },
     "metadata": {},
     "output_type": "display_data"
    },
    {
     "data": {
      "text/plain": [
       "(21, \"S\", Tuple{Int16,Int16}[(56, 1), (56, 1), (60, 3), (63, 5)])"
      ]
     },
     "metadata": {},
     "output_type": "display_data"
    },
    {
     "data": {
      "text/plain": [
       "(3, \"D7/3\", Tuple{Int16,Int16}[(50, 3), (56, 7), (58, 1), (65, 5)])"
      ]
     },
     "metadata": {},
     "output_type": "display_data"
    },
    {
     "data": {
      "text/plain": [
       "(0, \"Ts\", Tuple{Int16,Int16}[(48, 1), (51, 3), (63, 3), (67, 5)])"
      ]
     },
     "metadata": {},
     "output_type": "display_data"
    },
    {
     "data": {
      "text/plain": [
       "(18, \"D7-1\", Tuple{Int16,Int16}[(41, 5), (53, 5), (62, 3), (68, 7)])"
      ]
     },
     "metadata": {},
     "output_type": "display_data"
    },
    {
     "data": {
      "text/plain": [
       "(9, \"D7/7\", Tuple{Int16,Int16}[(44, 7), (53, 5), (62, 3), (70, 1)])"
      ]
     },
     "metadata": {},
     "output_type": "display_data"
    },
    {
     "data": {
      "text/plain": [
       "(0, \"T/3\", Tuple{Int16,Int16}[(43, 3), (51, 1), (63, 1), (70, 5)])"
      ]
     },
     "metadata": {},
     "output_type": "display_data"
    },
    {
     "data": {
      "text/plain": [
       "(9, \"S\", Tuple{Int16,Int16}[(44, 1), (56, 1), (60, 3), (63, 5)])"
      ]
     },
     "metadata": {},
     "output_type": "display_data"
    },
    {
     "data": {
      "text/plain": [
       "(15, \"D\", Tuple{Int16,Int16}[(46, 1), (53, 5), (58, 1), (62, 3)])"
      ]
     },
     "metadata": {},
     "output_type": "display_data"
    },
    {
     "data": {
      "text/plain": [
       "(15, \"T/3\", Tuple{Int16,Int16}[(43, 3), (51, 1), (58, 5), (63, 1)])"
      ]
     },
     "metadata": {},
     "output_type": "display_data"
    },
    {
     "data": {
      "text/plain": [
       "(9, \"S65\", Tuple{Int16,Int16}[(44, 1), (51, 5), (60, 3), (65, 6)])"
      ]
     },
     "metadata": {},
     "output_type": "display_data"
    },
    {
     "data": {
      "text/plain": [
       "(24, \"T/5\", Tuple{Int16,Int16}[(46, 5), (51, 1), (58, 5), (67, 3)])"
      ]
     },
     "metadata": {},
     "output_type": "display_data"
    },
    {
     "data": {
      "text/plain": [
       "(12, \"S\", Tuple{Int16,Int16}[(44, 1), (51, 5), (60, 3), (68, 1)])"
      ]
     },
     "metadata": {},
     "output_type": "display_data"
    },
    {
     "data": {
      "text/plain": [
       "(6, \"D7\", Tuple{Int16,Int16}[(46, 1), (56, 7), (62, 3), (65, 5)])"
      ]
     },
     "metadata": {},
     "output_type": "display_data"
    },
    {
     "data": {
      "text/plain": [
       "(3, \"T\", Tuple{Int16,Int16}[(51, 1), (55, 3), (58, 5), (63, 1)])"
      ]
     },
     "metadata": {},
     "output_type": "display_data"
    },
    {
     "data": {
      "text/plain": [
       "(3, \"T\", Tuple{Int16,Int16}[(51, 1), (55, 3), (58, 5), (63, 1)])"
      ]
     },
     "metadata": {},
     "output_type": "display_data"
    },
    {
     "name": "stdout",
     "output_type": "stream",
     "text": [
      "\n",
      "##: Done. Total checked: 47635, Pruned: 57806, completed: 4, time: 1.1380000114440918, efficiency: 3.5149384532291053\n",
      "Results: bestval_func: 144, bestval_voices: 87\n",
      "#Key: 4Scale: Major\n",
      "#Total time for optimisation of piece: 4.681999921798706\n",
      "#Total cost of piece: 447\n",
      "[\"T\", \"T\", \"D/3\", \"S/3\", \"D7/3\", \"Ts\", \"D\", \"D\", \"T/3\", \"S\", \"D\", \"D7/7\", \"T/3\", \"D7-5\", \"T\", \"T\", \"Tm\", \"S\", \"D7/3\", \"Ts\", \"D7-1\", \"D7/7\", \"T/3\", \"S\", \"D\", \"T/3\", \"S65\", \"T/5\", \"S\", \"D7\", \"T\", \"T\"]\n",
      "../../results/optimizer/pianoroll/SJP-52-name-opt.csv\n",
      " End of file \n",
      " \n",
      "Optimising: ../../results/neuralnet/pianoroll/SJP-56-right-nn.csv\n",
      "[0 1 0 0 0 0 0 0 0 2 0 0; 0 0 0 0 1 0 0 0 1 0 0 1; 0 1 0 0 0 0 0 0 0 1 0 0; 0 0 0 0 1 0 0 0 1 0 0 1; 0 1 0 0 1 0 0 0 1 1 0 0; 0 0 0 1 0 0 1 0 0 1 0 1; 0 0 0 0 2 0 0 0 1 0 0 1; 0 0 0 0 1 0 0 0 2 0 0 1; 0 0 1 0 0 0 1 0 1 0 0 1; 0 1 1 0 0 0 1 0 0 1 0 0; 0 1 1 0 1 0 1 0 0 0 0 0; 0 0 0 0 2 0 0 0 1 0 0 1; 0 2 0 0 1 0 0 0 0 1 0 0; 0 1 0 0 1 0 0 0 1 1 0 0; 0 0 0 0 0 0 0 0 2 0 0 2; 0 0 0 0 1 0 1 0 1 1 0 0; 0 0 0 0 0 0 2 0 0 2 0 0; 0 3 0 0 1 0 0 0 0 0 0 0; 0 0 0 0 0 0 1 0 2 0 0 1; 0 0 0 0 1 0 0 0 2 0 0 1; 0 0 0 0 1 0 2 0 0 0 0 1; 0 0 0 1 0 0 1 0 0 2 0 0; 0 0 0 0 1 0 0 0 2 0 0 1; 0 0 0 0 1 0 0 0 2 0 0 1; 0 0 0 1 1 0 1 0 0 0 0 1; 0 0 0 0 2 0 0 0 1 1 0 0; 0 0 0 1 2 0 0 0 0 0 0 1; 0 0 1 0 1 0 0 0 1 1 0 0; 0 2 1 0 1 0 0 0 0 0 0 0; 0 1 1 0 1 0 0 0 1 0 0 0; 0 1 1 0 0 0 1 0 0 1 0 0; 0 0 0 0 0 0 1 0 1 0 0 2; 0 0 0 0 2 0 0 0 1 0 0 1]\n",
      "Key Counter is [0 15 7 4 27 0 14 0 25 16 0 19]\n",
      "Key Score is [69; 58; 98; 36; 120; 50; 77; 83; 44; 123; 27; 104]\n",
      "Position Counter for 10 is [16 0 19 0 15 7 4 27 0 14 0 25]\n",
      "Any[[10.0, 87.0, 1.0]]\n",
      "[10, 87, 1]\n",
      "10 A Major\n",
      "Rhythm map: [\"S\", \"W\", \"S\", \"W\", \"S\", \"C\", \"C\", \"C\", \"S\", \"W\", \"S\", \"W\", \"S\", \"C\", \"C\", \"C\"] size: (16,)\n",
      "Amount of timesteps to optimise: 16\n",
      "Building lookup-table list...\n",
      "Lookup-table built.\n",
      "Initial function score upper bound: 499, voicing score upper bound: 499\n",
      "Starting search...\n",
      "New solution\n",
      "function cost: 159\n",
      "child voicing cost: 75\n",
      "Best yet: 234\n",
      "New solution\n",
      "function cost: 159\n",
      "child voicing cost: 74\n",
      "Best yet: 233\n",
      "New solution\n",
      "function cost: 150\n",
      "child voicing cost: 78\n",
      "Best yet: 228\n",
      "New solution\n",
      "function cost: 150\n",
      "child voicing cost: 76\n",
      "Best yet: 226\n",
      "New solution\n",
      "function cost: 150\n",
      "child voicing cost: 70\n",
      "Best yet: 220\n",
      "New solution\n",
      "function cost: 147\n",
      "child voicing cost: 71\n",
      "Best yet: 218\n",
      "New solution\n",
      "function cost: 144\n",
      "child voicing cost: 71\n",
      "Best yet: 215\n",
      "New solution\n",
      "function cost: 135\n",
      "child voicing cost: 79\n",
      "Best yet: 214\n",
      "New solution\n",
      "function cost: 135\n",
      "child voicing cost: 78\n",
      "Best yet: 213\n",
      "New solution\n",
      "function cost: 141\n",
      "child voicing cost: 71\n",
      "Best yet: 212\n",
      "New solution\n",
      "function cost: 141\n",
      "child voicing cost: 69\n",
      "Best yet: 210\n",
      "New solution\n",
      "function cost: 135\n",
      "child voicing cost: 74\n",
      "Best yet: 209\n",
      "New solution\n",
      "function cost: 141\n",
      "child voicing cost: 66\n",
      "Best yet: 207\n",
      "New solution\n",
      "function cost: 114\n",
      "child voicing cost: 90\n",
      "Best yet: 204\n",
      "New solution\n",
      "function cost: 114\n",
      "child voicing cost: 88\n",
      "Best yet: 202\n",
      "New solution\n",
      "function cost: 114\n",
      "child voicing cost: 85\n",
      "Best yet: 199\n",
      "New solution\n",
      "function cost: 120\n",
      "child voicing cost: 78\n",
      "Best yet: 198\n",
      "New solution\n",
      "function cost: 114\n",
      "child voicing cost: 83\n",
      "Best yet: 197\n",
      "New solution\n",
      "function cost: 123\n",
      "child voicing cost: 73\n",
      "Best yet: 196\n",
      "New solution\n",
      "function cost: 120\n",
      "child voicing cost: 74\n",
      "Best yet: 194\n",
      "New solution\n",
      "function cost: 123\n",
      "child voicing cost: 70\n",
      "Best yet: 193\n",
      "New solution\n",
      "function cost: 126\n",
      "child voicing cost: 66\n",
      "Best yet: 192\n",
      "New solution\n",
      "function cost: 123\n",
      "child voicing cost: 67\n",
      "Best yet: 190\n",
      "##: Done. Total checked: 260876, Pruned: 320213, completed: 23, time: 5.187999963760376, efficiency: 4.433307663967117\n",
      "Results: bestval_func: 123, bestval_voices: 67\n",
      "[0 1 0 0 0 0 0 0 0 2 0 0; 0 0 0 0 1 0 0 0 1 0 0 1; 0 1 0 0 0 0 0 0 0 1 0 0; 0 0 0 0 1 0 0 0 1 0 0 1; 0 1 0 0 1 0 0 0 1 1 0 0; 0 0 0 1 0 0 1 0 0 1 0 1; 0 0 0 0 2 0 0 0 1 0 0 1; 0 0 0 0 1 0 0 0 2 0 0 1; 0 0 1 0 0 0 1 0 1 0 0 1; 0 1 1 0 0 0 1 0 0 1 0 0; 0 1 1 0 1 0 1 0 0 0 0 0; 0 0 0 0 2 0 0 0 1 0 0 1; 0 2 0 0 1 0 0 0 0 1 0 0; 0 1 0 0 1 0 0 0 1 1 0 0; 0 0 0 0 0 0 0 0 2 0 0 2; 0 0 0 0 1 0 1 0 1 1 0 0; 0 0 0 0 0 0 2 0 0 2 0 0; 0 3 0 0 1 0 0 0 0 0 0 0; 0 0 0 0 0 0 1 0 2 0 0 1; 0 0 0 0 1 0 0 0 2 0 0 1; 0 0 0 0 1 0 2 0 0 0 0 1; 0 0 0 1 0 0 1 0 0 2 0 0; 0 0 0 0 1 0 0 0 2 0 0 1; 0 0 0 0 1 0 0 0 2 0 0 1; 0 0 0 1 1 0 1 0 0 0 0 1; 0 0 0 0 2 0 0 0 1 1 0 0; 0 0 0 1 2 0 0 0 0 0 0 1; 0 0 1 0 1 0 0 0 1 1 0 0; 0 2 1 0 1 0 0 0 0 0 0 0; 0 1 1 0 1 0 0 0 1 0 0 0; 0 1 1 0 0 0 1 0 0 1 0 0; 0 0 0 0 0 0 1 0 1 0 0 2; 0 0 0 0 2 0 0 0 1 0 0 1]\n",
      "Key Counter is [0 15 7 4 27 0 14 0 25 16 0 19]\n",
      "Key Score is [69; 58; 98; 36; 120; 50; 77; 83; 44; 123; 27; 104]\n",
      "Position Counter for 10 is [16 0 19 0 15 7 4 27 0 14 0 25]\n",
      "Any[[10.0, 87.0, 1.0]]\n",
      "[10, 87, 1]\n",
      "10 A Major\n",
      "Rhythm map: [\"W\", \"S\", \"W\", \"S\", \"W\", \"S\", \"W\", \"S\", \"W\", \"S\", \"W\", \"S\", \"W\", \"A\", \"A\", \"A\", \"A\"] size: (17,)\n",
      "Amount of timesteps to optimise: 17\n",
      "Building lookup-table list...\n",
      "Lookup-table built.\n",
      "Initial function score upper bound: 499, voicing score upper bound: 499\n",
      "Starting search...\n",
      "New solution\n",
      "function cost: 210\n",
      "child voicing cost: 77\n",
      "Best yet: 287\n",
      "New solution\n",
      "function cost: 210\n",
      "child voicing cost: 74\n",
      "Best yet: 284\n",
      "New solution\n",
      "function cost: 204\n",
      "child voicing cost: 75\n",
      "Best yet: 279\n",
      "New solution\n",
      "function cost: 204\n",
      "child voicing cost: 72\n",
      "Best yet: 276"
     ]
    },
    {
     "data": {
      "text/plain": [
       "(0, \"T\", Tuple{Int16,Int16}[(57, 1), (64, 5), (69, 1), (73, 3)])"
      ]
     },
     "metadata": {},
     "output_type": "display_data"
    },
    {
     "data": {
      "text/plain": [
       "(0, \"D/5\", Tuple{Int16,Int16}[(59, 5), (64, 1), (68, 3), (71, 5)])"
      ]
     },
     "metadata": {},
     "output_type": "display_data"
    },
    {
     "data": {
      "text/plain": [
       "(0, \"T\", Tuple{Int16,Int16}[(57, 1), (64, 5), (69, 1), (73, 3)])"
      ]
     },
     "metadata": {},
     "output_type": "display_data"
    },
    {
     "data": {
      "text/plain": [
       "(0, \"D7/3\", Tuple{Int16,Int16}[(56, 3), (62, 7), (71, 5), (76, 1)])"
      ]
     },
     "metadata": {},
     "output_type": "display_data"
    },
    {
     "data": {
      "text/plain": [
       "(3, \"T\", Tuple{Int16,Int16}[(57, 1), (61, 3), (69, 1), (76, 5)])"
      ]
     },
     "metadata": {},
     "output_type": "display_data"
    },
    {
     "data": {
      "text/plain": [
       "(15, \"Ts\", Tuple{Int16,Int16}[(54, 1), (61, 5), (69, 3), (78, 1)])"
      ]
     },
     "metadata": {},
     "output_type": "display_data"
    },
    {
     "data": {
      "text/plain": [
       "(0, \"D\", Tuple{Int16,Int16}[(52, 1), (64, 1), (71, 5), (80, 3)])"
      ]
     },
     "metadata": {},
     "output_type": "display_data"
    },
    {
     "data": {
      "text/plain": [
       "(12, \"D\", Tuple{Int16,Int16}[(52, 1), (59, 5), (68, 3), (76, 1)])"
      ]
     },
     "metadata": {},
     "output_type": "display_data"
    },
    {
     "data": {
      "text/plain": [
       "(9, \"S/3\", Tuple{Int16,Int16}[(54, 3), (57, 5), (69, 5), (74, 1)])"
      ]
     },
     "metadata": {},
     "output_type": "display_data"
    },
    {
     "data": {
      "text/plain": [
       "(3, \"S\", Tuple{Int16,Int16}[(50, 1), (57, 5), (66, 3), (74, 1)])"
      ]
     },
     "metadata": {},
     "output_type": "display_data"
    },
    {
     "data": {
      "text/plain": [
       "(15, \"T/3\", Tuple{Int16,Int16}[(49, 3), (57, 1), (64, 5), (69, 1)])"
      ]
     },
     "metadata": {},
     "output_type": "display_data"
    },
    {
     "data": {
      "text/plain": [
       "(0, \"D/5\", Tuple{Int16,Int16}[(47, 5), (56, 3), (64, 1), (71, 5)])"
      ]
     },
     "metadata": {},
     "output_type": "display_data"
    },
    {
     "data": {
      "text/plain": [
       "(12, \"T\", Tuple{Int16,Int16}[(45, 1), (57, 1), (64, 5), (73, 3)])"
      ]
     },
     "metadata": {},
     "output_type": "display_data"
    },
    {
     "data": {
      "text/plain": [
       "(9, \"D7/3\", Tuple{Int16,Int16}[(44, 3), (59, 5), (62, 7), (64, 1)])"
      ]
     },
     "metadata": {},
     "output_type": "display_data"
    },
    {
     "data": {
      "text/plain": [
       "(27, \"T\", Tuple{Int16,Int16}[(45, 1), (57, 1), (61, 3), (64, 5)])"
      ]
     },
     "metadata": {},
     "output_type": "display_data"
    },
    {
     "data": {
      "text/plain": [
       "(18, \"T\", Tuple{Int16,Int16}[(45, 1), (52, 5), (61, 3), (69, 1)])"
      ]
     },
     "metadata": {},
     "output_type": "display_data"
    },
    {
     "data": {
      "text/plain": [
       "(0, \"Ts\", Tuple{Int16,Int16}[(42, 1), (54, 1), (61, 5), (69, 3)])"
      ]
     },
     "metadata": {},
     "output_type": "display_data"
    },
    {
     "data": {
      "text/plain": [
       "(24, \"D7\", Tuple{Int16,Int16}[(40, 1), (56, 3), (62, 7), (71, 5)])"
      ]
     },
     "metadata": {},
     "output_type": "display_data"
    },
    {
     "data": {
      "text/plain": [
       "(12, \"Ts\", Tuple{Int16,Int16}[(42, 1), (57, 3), (61, 5), (66, 1)])"
      ]
     },
     "metadata": {},
     "output_type": "display_data"
    },
    {
     "data": {
      "text/plain": [
       "(9, \"D/3\", Tuple{Int16,Int16}[(44, 3), (47, 5), (59, 5), (64, 1)])"
      ]
     },
     "metadata": {},
     "output_type": "display_data"
    },
    {
     "data": {
      "text/plain": [
       "(12, \"D\", Tuple{Int16,Int16}[(40, 1), (47, 5), (56, 3), (64, 1)])"
      ]
     },
     "metadata": {},
     "output_type": "display_data"
    },
    {
     "data": {
      "text/plain": [
       "(18, \"S/3\", Tuple{Int16,Int16}[(42, 3), (50, 1), (57, 5), (62, 1)])"
      ]
     },
     "metadata": {},
     "output_type": "display_data"
    },
    {
     "data": {
      "text/plain": [
       "(12, \"T\", Tuple{Int16,Int16}[(45, 1), (52, 5), (57, 1), (61, 3)])"
      ]
     },
     "metadata": {},
     "output_type": "display_data"
    },
    {
     "data": {
      "text/plain": [
       "(9, \"D/5\", Tuple{Int16,Int16}[(47, 5), (52, 1), (56, 3), (59, 5)])"
      ]
     },
     "metadata": {},
     "output_type": "display_data"
    },
    {
     "data": {
      "text/plain": [
       "(18, \"T/3\", Tuple{Int16,Int16}[(49, 3), (52, 5), (57, 1), (64, 5)])"
      ]
     },
     "metadata": {},
     "output_type": "display_data"
    },
    {
     "data": {
      "text/plain": [
       "(6, \"D\", Tuple{Int16,Int16}[(52, 1), (56, 3), (59, 5), (64, 1)])"
      ]
     },
     "metadata": {},
     "output_type": "display_data"
    },
    {
     "data": {
      "text/plain": [
       "(15, \"D7/7\", Tuple{Int16,Int16}[(50, 7), (52, 1), (59, 5), (68, 3)])"
      ]
     },
     "metadata": {},
     "output_type": "display_data"
    },
    {
     "data": {
      "text/plain": [
       "(6, \"T/3\", Tuple{Int16,Int16}[(49, 3), (52, 5), (57, 1), (69, 1)])"
      ]
     },
     "metadata": {},
     "output_type": "display_data"
    },
    {
     "data": {
      "text/plain": [
       "(21, \"S\", Tuple{Int16,Int16}[(50, 1), (54, 3), (62, 1), (69, 5)])"
      ]
     },
     "metadata": {},
     "output_type": "display_data"
    },
    {
     "data": {
      "text/plain": [
       "(6, \"D7\", Tuple{Int16,Int16}[(52, 1), (56, 3), (59, 5), (62, 7)])"
      ]
     },
     "metadata": {},
     "output_type": "display_data"
    },
    {
     "data": {
      "text/plain": [
       "(15, \"T\", Tuple{Int16,Int16}[(45, 1), (52, 5), (57, 1), (61, 3)])"
      ]
     },
     "metadata": {},
     "output_type": "display_data"
    },
    {
     "data": {
      "text/plain": [
       "(15, \"T\", Tuple{Int16,Int16}[(45, 1), (52, 5), (57, 1), (61, 3)])"
      ]
     },
     "metadata": {},
     "output_type": "display_data"
    },
    {
     "name": "stdout",
     "output_type": "stream",
     "text": [
      "\n",
      "##: Done. Total checked: 46239, Pruned: 50822, completed: 4, time: 1.003000020980835, efficiency: 3.988035808900976\n",
      "Results: bestval_func: 204, bestval_voices: 72\n",
      "#Key: 10Scale: Major\n",
      "#Total time for optimisation of piece: 7.521000146865845\n",
      "#Total cost of piece: 466\n",
      "[\"T\", \"D/5\", \"T\", \"D7/3\", \"T\", \"Ts\", \"D\", \"D\", \"S/3\", \"S\", \"T/3\", \"D/5\", \"T\", \"D7/3\", \"T\", \"T\", \"Ts\", \"D7\", \"Ts\", \"D/3\", \"D\", \"S/3\", \"T\", \"D/5\", \"T/3\", \"D\", \"D7/7\", \"T/3\", \"S\", \"D7\", \"T\", \"T\"]\n",
      "../../results/optimizer/pianoroll/SJP-56-right-opt.csv\n",
      " End of file \n",
      " \n",
      "Optimising: ../../results/neuralnet/pianoroll/SJP-65-help-nn.csv\n",
      "[0 1 0 0 0 0 0 0 0 0 2 0; 1 1 0 0 0 1 0 0 1 0 0 0; 0 0 0 1 0 1 1 0 0 0 0 0; 0 1 0 1 0 0 1 0 0 0 1 0; 2 0 0 0 0 1 0 0 0 1 0 0; 1 0 0 0 0 2 0 0 0 1 0 0; 0 2 0 0 0 0 0 0 0 0 2 0; 1 1 0 1 0 0 0 0 0 0 1 0; 1 0 0 1 0 1 0 0 1 0 0 0; 0 2 0 0 0 1 0 0 1 0 0 0; 0 1 0 2 0 0 0 0 0 0 1 0; 1 0 0 0 0 2 0 0 1 0 0 0; 0 1 0 1 0 1 0 0 0 0 1 0; 0 0 0 0 1 1 0 0 0 0 2 0; 1 0 0 1 0 1 0 0 0 0 1 0; 1 0 0 0 0 1 0 0 1 1 0 0; 1 1 0 0 0 1 0 0 1 0 0 0; 1 0 0 1 0 0 1 0 0 0 1 0; 0 0 1 0 0 1 1 0 0 0 1 0; 0 0 1 0 0 2 0 0 0 0 1 0; 0 0 1 0 0 1 0 0 0 0 2 0; 1 0 0 0 0 1 0 0 0 1 1 0; 2 0 0 0 0 2 0 0 0 0 0 0; 0 0 0 0 0 2 0 0 1 0 1 0; 0 0 0 0 1 2 0 0 0 0 1 0; 1 1 0 0 0 1 0 0 0 1 0 0; 2 1 0 0 0 0 0 0 0 0 1 0; 0 2 0 0 0 1 0 0 0 0 1 0; 1 1 0 0 0 0 0 0 0 0 2 0; 1 0 0 1 0 0 0 0 0 0 2 0; 1 1 0 0 0 1 0 0 0 0 1 0; 0 1 0 0 1 0 0 0 1 0 1 0; 1 1 0 0 0 1 0 0 1 0 0 0]\n",
      "Key Counter is [21 19 3 10 3 29 4 0 9 5 27 0]\n",
      "Key Score is [61; 119; 34; 99; 50; 88; 98; 36; 115; 43; 95; 72]\n",
      "Position Counter for 2 is [19 3 10 3 29 4 0 9 5 27 0 21]\n",
      "Any[[2.0, 83.0, 0.0]]\n",
      "[2, 83, 0]\n",
      "11 A# Minor\n",
      "Rhythm map: [\"S\", \"W\", \"S\", \"W\", \"S\", \"C\", \"C\", \"C\", \"S\", \"W\", \"S\", \"W\", \"S\", \"C\", \"C\", \"C\"] size: (16,)\n",
      "Amount of timesteps to optimise: 16\n",
      "Building lookup-table list...\n",
      "Lookup-table built.\n",
      "Initial function score upper bound: 499, voicing score upper bound: 499\n",
      "Starting search...\n",
      "New solution\n",
      "function cost: 132\n",
      "child voicing cost: 105\n",
      "Best yet: 237\n",
      "New solution\n",
      "function cost: 132\n",
      "child voicing cost: 102\n",
      "Best yet: 234\n",
      "New solution\n",
      "function cost: 165\n",
      "child voicing cost: 67\n",
      "Best yet: 232\n",
      "New solution\n",
      "function cost: 159\n",
      "child voicing cost: 70\n",
      "Best yet: 229\n",
      "New solution\n",
      "function cost: 153\n",
      "child voicing cost: 74\n",
      "Best yet: 227\n",
      "New solution\n",
      "function cost: 153\n",
      "child voicing cost: 70\n",
      "Best yet: 223\n",
      "New solution\n",
      "function cost: 138\n",
      "child voicing cost: 78\n",
      "Best yet: 216\n",
      "New solution\n",
      "function cost: 129\n",
      "child voicing cost: 86\n",
      "Best yet: 215\n",
      "New solution\n",
      "function cost: 138\n",
      "child voicing cost: 74\n",
      "Best yet: 212\n",
      "New solution\n",
      "function cost: 138\n",
      "child voicing cost: 73\n",
      "Best yet: 211\n",
      "New solution\n",
      "function cost: 138\n",
      "child voicing cost: 68\n",
      "Best yet: 206\n",
      "##: Done. Total checked: 51508, Pruned: 60529, completed: 11, time: 1.187000036239624, efficiency: 9.267059531731464\n",
      "Results: bestval_func: 138, bestval_voices: 68\n",
      "[0 1 0 0 0 0 0 0 0 0 2 0; 1 1 0 0 0 1 0 0 1 0 0 0; 0 0 0 1 0 1 1 0 0 0 0 0; 0 1 0 1 0 0 1 0 0 0 1 0; 2 0 0 0 0 1 0 0 0 1 0 0; 1 0 0 0 0 2 0 0 0 1 0 0; 0 2 0 0 0 0 0 0 0 0 2 0; 1 1 0 1 0 0 0 0 0 0 1 0; 1 0 0 1 0 1 0 0 1 0 0 0; 0 2 0 0 0 1 0 0 1 0 0 0; 0 1 0 2 0 0 0 0 0 0 1 0; 1 0 0 0 0 2 0 0 1 0 0 0; 0 1 0 1 0 1 0 0 0 0 1 0; 0 0 0 0 1 1 0 0 0 0 2 0; 1 0 0 1 0 1 0 0 0 0 1 0; 1 0 0 0 0 1 0 0 1 1 0 0; 1 1 0 0 0 1 0 0 1 0 0 0; 1 0 0 1 0 0 1 0 0 0 1 0; 0 0 1 0 0 1 1 0 0 0 1 0; 0 0 1 0 0 2 0 0 0 0 1 0; 0 0 1 0 0 1 0 0 0 0 2 0; 1 0 0 0 0 1 0 0 0 1 1 0; 2 0 0 0 0 2 0 0 0 0 0 0; 0 0 0 0 0 2 0 0 1 0 1 0; 0 0 0 0 1 2 0 0 0 0 1 0; 1 1 0 0 0 1 0 0 0 1 0 0; 2 1 0 0 0 0 0 0 0 0 1 0; 0 2 0 0 0 1 0 0 0 0 1 0; 1 1 0 0 0 0 0 0 0 0 2 0; 1 0 0 1 0 0 0 0 0 0 2 0; 1 1 0 0 0 1 0 0 0 0 1 0; 0 1 0 0 1 0 0 0 1 0 1 0; 1 1 0 0 0 1 0 0 1 0 0 0]\n",
      "Key Counter is [21 19 3 10 3 29 4 0 9 5 27 0]\n",
      "Key Score is [61; 119; 34; 99; 50; 88; 98; 36; 115; 43; 95; 72]\n",
      "Position Counter for 2 is [19 3 10 3 29 4 0 9 5 27 0 21]\n",
      "Any[[2.0, 83.0, 0.0]]\n",
      "[2, 83, 0]\n",
      "11 A# Minor\n",
      "Rhythm map: [\"W\", \"S\", \"W\", \"S\", \"W\", \"S\", \"W\", \"S\", \"W\", \"S\", \"W\", \"S\", \"W\", \"A\", \"A\", \"A\", \"A\"] size: (17,)\n",
      "Amount of timesteps to optimise: 17\n",
      "Building lookup-table list...\n",
      "Lookup-table built.\n",
      "Initial function score upper bound: 499, voicing score upper bound: 499\n",
      "Starting search...\n",
      "New solution\n",
      "function cost: 165\n",
      "child voicing cost: 92\n",
      "Best yet: 257\n",
      "New solution\n",
      "function cost: 165\n",
      "child voicing cost: 89\n",
      "Best yet: 254\n",
      "New solution\n",
      "function cost: 165\n",
      "child voicing cost: 86\n",
      "Best yet: 251\n",
      "New solution\n",
      "function cost: 153\n",
      "child voicing cost: 96\n",
      "Best yet: 249\n",
      "New solution\n",
      "function cost: 153\n",
      "child voicing cost: 93\n",
      "Best yet: 246\n",
      "New solution\n",
      "function cost: 153\n",
      "child voicing cost: 92\n",
      "Best yet: 245\n",
      "New solution\n",
      "function cost: 153\n",
      "child voicing cost: 91\n",
      "Best yet: 244\n",
      "New solution\n",
      "function cost: 150\n",
      "child voicing cost: 93\n",
      "Best yet: 243\n",
      "New solution\n",
      "function cost: 147\n",
      "child voicing cost: 95\n",
      "Best yet: 242\n",
      "New solution\n",
      "function cost: 150\n",
      "child voicing cost: 86\n",
      "Best yet: 236\n",
      "New solution\n",
      "function cost: 147\n",
      "child voicing cost: 88\n",
      "Best yet: 235"
     ]
    },
    {
     "data": {
      "text/plain": [
       "(0, \"T\", Tuple{Int16,Int16}[(58, 1), (58, 1), (65, 5), (73, 3)])"
      ]
     },
     "metadata": {},
     "output_type": "display_data"
    },
    {
     "data": {
      "text/plain": [
       "(9, \"Dm\", Tuple{Int16,Int16}[(56, 1), (60, 3), (68, 1), (75, 5)])"
      ]
     },
     "metadata": {},
     "output_type": "display_data"
    },
    {
     "data": {
      "text/plain": [
       "(6, \"S/3\", Tuple{Int16,Int16}[(54, 3), (58, 5), (70, 5), (75, 1)])"
      ]
     },
     "metadata": {},
     "output_type": "display_data"
    },
    {
     "data": {
      "text/plain": [
       "(9, \"T/5\", Tuple{Int16,Int16}[(53, 5), (61, 3), (70, 1), (77, 5)])"
      ]
     },
     "metadata": {},
     "output_type": "display_data"
    },
    {
     "data": {
      "text/plain": [
       "(15, \"S65\", Tuple{Int16,Int16}[(51, 1), (60, 6), (70, 5), (78, 3)])"
      ]
     },
     "metadata": {},
     "output_type": "display_data"
    },
    {
     "data": {
      "text/plain": [
       "(0, \"D\", Tuple{Int16,Int16}[(53, 1), (60, 5), (69, 3), (77, 1)])"
      ]
     },
     "metadata": {},
     "output_type": "display_data"
    },
    {
     "data": {
      "text/plain": [
       "(12, \"T\", Tuple{Int16,Int16}[(58, 1), (61, 3), (65, 5), (70, 1)])"
      ]
     },
     "metadata": {},
     "output_type": "display_data"
    },
    {
     "data": {
      "text/plain": [
       "(12, \"T\", Tuple{Int16,Int16}[(46, 1), (61, 3), (65, 5), (70, 1)])"
      ]
     },
     "metadata": {},
     "output_type": "display_data"
    },
    {
     "data": {
      "text/plain": [
       "(3, \"D7/3\", Tuple{Int16,Int16}[(45, 3), (60, 5), (65, 1), (75, 7)])"
      ]
     },
     "metadata": {},
     "output_type": "display_data"
    },
    {
     "data": {
      "text/plain": [
       "(15, \"T\", Tuple{Int16,Int16}[(46, 1), (58, 1), (65, 5), (73, 3)])"
      ]
     },
     "metadata": {},
     "output_type": "display_data"
    },
    {
     "data": {
      "text/plain": [
       "(12, \"S65/6\", Tuple{Int16,Int16}[(48, 6), (58, 5), (66, 3), (75, 1)])"
      ]
     },
     "metadata": {},
     "output_type": "display_data"
    },
    {
     "data": {
      "text/plain": [
       "(3, \"D\", Tuple{Int16,Int16}[(53, 1), (57, 3), (65, 1), (72, 5)])"
      ]
     },
     "metadata": {},
     "output_type": "display_data"
    },
    {
     "data": {
      "text/plain": [
       "(6, \"D7\", Tuple{Int16,Int16}[(53, 1), (57, 3), (63, 7), (72, 5)])"
      ]
     },
     "metadata": {},
     "output_type": "display_data"
    },
    {
     "data": {
      "text/plain": [
       "(18, \"Ts\", Tuple{Int16,Int16}[(54, 1), (58, 3), (61, 5), (70, 3)])"
      ]
     },
     "metadata": {},
     "output_type": "display_data"
    },
    {
     "data": {
      "text/plain": [
       "(9, \"D\", Tuple{Int16,Int16}[(53, 1), (60, 5), (65, 1), (69, 3)])"
      ]
     },
     "metadata": {},
     "output_type": "display_data"
    },
    {
     "data": {
      "text/plain": [
       "(9, \"D\", Tuple{Int16,Int16}[(41, 1), (60, 5), (65, 1), (69, 3)])"
      ]
     },
     "metadata": {},
     "output_type": "display_data"
    },
    {
     "data": {
      "text/plain": [
       "(9, \"D7\", Tuple{Int16,Int16}[(41, 1), (60, 5), (63, 7), (69, 3)])"
      ]
     },
     "metadata": {},
     "output_type": "display_data"
    },
    {
     "data": {
      "text/plain": [
       "(12, \"Ts\", Tuple{Int16,Int16}[(42, 1), (58, 3), (61, 5), (70, 3)])"
      ]
     },
     "metadata": {},
     "output_type": "display_data"
    },
    {
     "data": {
      "text/plain": [
       "(6, \"T/3\", Tuple{Int16,Int16}[(49, 3), (58, 1), (65, 5), (77, 5)])"
      ]
     },
     "metadata": {},
     "output_type": "display_data"
    },
    {
     "data": {
      "text/plain": [
       "(12, \"S\", Tuple{Int16,Int16}[(51, 1), (58, 5), (66, 3), (75, 1)])"
      ]
     },
     "metadata": {},
     "output_type": "display_data"
    },
    {
     "data": {
      "text/plain": [
       "(3, \"T/3\", Tuple{Int16,Int16}[(49, 3), (58, 1), (65, 5), (70, 1)])"
      ]
     },
     "metadata": {},
     "output_type": "display_data"
    },
    {
     "data": {
      "text/plain": [
       "(6, \"T\", Tuple{Int16,Int16}[(46, 1), (61, 3), (65, 5), (70, 1)])"
      ]
     },
     "metadata": {},
     "output_type": "display_data"
    },
    {
     "data": {
      "text/plain": [
       "(0, \"D/3\", Tuple{Int16,Int16}[(45, 3), (60, 5), (65, 1), (72, 5)])"
      ]
     },
     "metadata": {},
     "output_type": "display_data"
    },
    {
     "data": {
      "text/plain": [
       "(9, \"D\", Tuple{Int16,Int16}[(41, 1), (60, 5), (69, 3), (77, 1)])"
      ]
     },
     "metadata": {},
     "output_type": "display_data"
    },
    {
     "data": {
      "text/plain": [
       "(12, \"S/3\", Tuple{Int16,Int16}[(42, 3), (58, 5), (70, 5), (75, 1)])"
      ]
     },
     "metadata": {},
     "output_type": "display_data"
    },
    {
     "data": {
      "text/plain": [
       "(3, \"D/3\", Tuple{Int16,Int16}[(45, 3), (53, 1), (60, 5), (72, 5)])"
      ]
     },
     "metadata": {},
     "output_type": "display_data"
    },
    {
     "data": {
      "text/plain": [
       "(12, \"T-5\", Tuple{Int16,Int16}[(46, 1), (58, 1), (61, 3), (70, 1)])"
      ]
     },
     "metadata": {},
     "output_type": "display_data"
    },
    {
     "data": {
      "text/plain": [
       "(9, \"T\", Tuple{Int16,Int16}[(46, 1), (58, 1), (61, 3), (65, 5)])"
      ]
     },
     "metadata": {},
     "output_type": "display_data"
    },
    {
     "data": {
      "text/plain": [
       "(21, \"D7-1\", Tuple{Int16,Int16}[(48, 5), (57, 3), (60, 5), (63, 7)])"
      ]
     },
     "metadata": {},
     "output_type": "display_data"
    },
    {
     "data": {
      "text/plain": [
       "(18, \"D7\", Tuple{Int16,Int16}[(53, 1), (57, 3), (60, 5), (63, 7)])"
      ]
     },
     "metadata": {},
     "output_type": "display_data"
    },
    {
     "data": {
      "text/plain": [
       "(6, \"T\", Tuple{Int16,Int16}[(46, 1), (53, 5), (58, 1), (61, 3)])"
      ]
     },
     "metadata": {},
     "output_type": "display_data"
    },
    {
     "data": {
      "text/plain": [
       "(6, \"T\", Tuple{Int16,Int16}[(46, 1), (53, 5), (58, 1), (61, 3)])"
      ]
     },
     "metadata": {},
     "output_type": "display_data"
    },
    {
     "name": "stdout",
     "output_type": "stream",
     "text": [
      "\n",
      "##: Done. Total checked: 100296, Pruned: 112373, completed: 11, time: 2.0840001106262207, efficiency: 5.278310660307313\n",
      "Results: bestval_func: 147, bestval_voices: 88\n",
      "#Key: 11Scale: Minor\n",
      "#Total time for optimisation of piece: 4.559999942779541\n",
      "#Total cost of piece: 441\n",
      "[\"T\", \"Dm\", \"S/3\", \"T/5\", \"S65\", \"D\", \"T\", \"T\", \"D7/3\", \"T\", \"S65/6\", \"D\", \"D7\", \"Ts\", \"D\", \"D\", \"D7\", \"Ts\", \"T/3\", \"S\", \"T/3\", \"T\", \"D/3\", \"D\", \"S/3\", \"D/3\", \"T-5\", \"T\", \"D7-1\", \"D7\", \"T\", \"T\"]\n",
      "../../results/optimizer/pianoroll/SJP-65-help-opt.csv\n",
      " End of file \n",
      " \n",
      "Optimising: ../../results/neuralnet/pianoroll/SJP-68-lord-nn.csv\n",
      "[0 0 0 2 0 0 0 1 0 0 1 0; 0 0 1 0 0 1 0 0 0 0 2 0; 2 0 0 1 0 0 0 1 0 0 0 0; 0 0 1 0 0 0 0 2 0 0 1 0; 0 1 0 0 0 1 0 0 1 0 1 0; 1 1 0 0 0 0 0 0 1 0 1 0; 1 0 0 0 0 2 0 0 0 0 1 0; 1 0 0 0 0 2 0 0 1 0 0 0; 2 0 0 1 0 0 0 1 0 0 0 0; 1 0 0 1 0 0 0 2 0 0 0 0; 0 0 0 1 0 0 0 2 0 0 1 0; 1 0 2 1 0 0 0 0 0 0 0 0; 0 0 1 1 0 1 0 0 0 0 1 0; 1 0 0 1 0 1 0 1 0 0 0 0; 0 0 1 0 0 1 0 1 0 0 1 0; 0 0 0 1 0 0 0 2 0 0 1 0; 0 0 0 1 0 0 0 1 0 0 1 1; 1 0 2 0 0 1 0 0 0 0 0 0; 0 0 2 0 0 0 0 1 0 0 1 0; 1 0 0 2 0 1 0 0 0 0 0 0; 1 0 0 0 0 1 0 0 1 0 1 0; 1 0 0 0 0 1 0 0 1 0 1 0; 1 0 0 1 0 0 0 1 0 0 1 0; 2 0 0 1 0 1 0 0 0 0 0 0; 0 0 2 0 0 0 0 0 0 0 2 0; 1 0 1 1 0 0 0 0 0 0 1 0; 0 0 1 1 0 0 0 0 0 0 2 0; 0 0 0 1 0 0 0 1 0 0 2 0; 1 0 0 1 0 1 0 0 0 0 1 0; 1 1 0 1 0 1 0 0 0 0 0 0; 0 0 0 0 0 2 0 0 1 0 1 0; 1 0 0 0 0 1 0 0 1 0 1 0; 0 0 1 0 0 2 0 0 0 0 1 0]\n",
      "Key Counter is [21 3 15 20 0 21 0 17 7 0 27 1]\n",
      "Key Score is [75; 99; 36; 128; 31; 101; 79; 54; 116; 26; 121; 58]\n",
      "Position Counter for 4 is [20 0 21 0 17 7 0 27 1 21 3 15]\n",
      "Any[[4.0, 83.75, 1.0]]\n",
      "[4, 84, 1]\n",
      "4 D# Major\n",
      "Rhythm map: [\"S\", \"W\", \"S\", \"W\", \"S\", \"C\", \"C\", \"C\", \"S\", \"W\", \"S\", \"W\", \"S\", \"C\", \"C\", \"C\"] size: (16,)\n",
      "Amount of timesteps to optimise: 16\n",
      "Building lookup-table list...\n",
      "Lookup-table built.\n",
      "Initial function score upper bound: 499, voicing score upper bound: 499\n",
      "Starting search...\n",
      "New solution\n",
      "function cost: 150\n",
      "child voicing cost: 121\n",
      "Best yet: 271\n",
      "New solution\n",
      "function cost: 150\n",
      "child voicing cost: 120\n",
      "Best yet: 270\n",
      "New solution\n",
      "function cost: 150\n",
      "child voicing cost: 119\n",
      "Best yet: 269\n",
      "New solution\n",
      "function cost: 150\n",
      "child voicing cost: 116\n",
      "Best yet: 266\n",
      "New solution\n",
      "function cost: 156\n",
      "child voicing cost: 108\n",
      "Best yet: 264\n",
      "New solution\n",
      "function cost: 153\n",
      "child voicing cost: 100\n",
      "Best yet: 253\n",
      "New solution\n",
      "function cost: 153\n",
      "child voicing cost: 97\n",
      "Best yet: 250\n",
      "New solution\n",
      "function cost: 150\n",
      "child voicing cost: 98\n",
      "Best yet: 248\n",
      "New solution\n",
      "function cost: 153\n",
      "child voicing cost: 93\n",
      "Best yet: 246\n",
      "New solution\n",
      "function cost: 156\n",
      "child voicing cost: 89\n",
      "Best yet: 245\n",
      "New solution\n",
      "function cost: 150\n",
      "child voicing cost: 87\n",
      "Best yet: 237\n",
      "New solution\n",
      "function cost: 150\n",
      "child voicing cost: 83\n",
      "Best yet: 233\n",
      "New solution\n",
      "function cost: 150\n",
      "child voicing cost: 77\n",
      "Best yet: 227\n",
      "New solution\n",
      "function cost: 150\n",
      "child voicing cost: 74\n",
      "Best yet: 224\n",
      "##: Done. Total checked: 163432, Pruned: 206636, completed: 14, time: 3.3380000591278076, efficiency: 4.194128146198442\n",
      "Results: bestval_func: 150, bestval_voices: 74\n",
      "[0 0 0 2 0 0 0 1 0 0 1 0; 0 0 1 0 0 1 0 0 0 0 2 0; 2 0 0 1 0 0 0 1 0 0 0 0; 0 0 1 0 0 0 0 2 0 0 1 0; 0 1 0 0 0 1 0 0 1 0 1 0; 1 1 0 0 0 0 0 0 1 0 1 0; 1 0 0 0 0 2 0 0 0 0 1 0; 1 0 0 0 0 2 0 0 1 0 0 0; 2 0 0 1 0 0 0 1 0 0 0 0; 1 0 0 1 0 0 0 2 0 0 0 0; 0 0 0 1 0 0 0 2 0 0 1 0; 1 0 2 1 0 0 0 0 0 0 0 0; 0 0 1 1 0 1 0 0 0 0 1 0; 1 0 0 1 0 1 0 1 0 0 0 0; 0 0 1 0 0 1 0 1 0 0 1 0; 0 0 0 1 0 0 0 2 0 0 1 0; 0 0 0 1 0 0 0 1 0 0 1 1; 1 0 2 0 0 1 0 0 0 0 0 0; 0 0 2 0 0 0 0 1 0 0 1 0; 1 0 0 2 0 1 0 0 0 0 0 0; 1 0 0 0 0 1 0 0 1 0 1 0; 1 0 0 0 0 1 0 0 1 0 1 0; 1 0 0 1 0 0 0 1 0 0 1 0; 2 0 0 1 0 1 0 0 0 0 0 0; 0 0 2 0 0 0 0 0 0 0 2 0; 1 0 1 1 0 0 0 0 0 0 1 0; 0 0 1 1 0 0 0 0 0 0 2 0; 0 0 0 1 0 0 0 1 0 0 2 0; 1 0 0 1 0 1 0 0 0 0 1 0; 1 1 0 1 0 1 0 0 0 0 0 0; 0 0 0 0 0 2 0 0 1 0 1 0; 1 0 0 0 0 1 0 0 1 0 1 0; 0 0 1 0 0 2 0 0 0 0 1 0]\n",
      "Key Counter is [21 3 15 20 0 21 0 17 7 0 27 1]\n",
      "Key Score is [75; 99; 36; 128; 31; 101; 79; 54; 116; 26; 121; 58]\n",
      "Position Counter for 4 is [20 0 21 0 17 7 0 27 1 21 3 15]\n",
      "Any[[4.0, 83.75, 1.0]]\n",
      "[4, 84, 1]\n",
      "4 D# Major\n",
      "Rhythm map: [\"W\", \"S\", \"W\", \"S\", \"W\", \"S\", \"W\", \"S\", \"W\", \"S\", \"W\", \"S\", \"W\", \"A\", \"A\", \"A\", \"A\"] size: (17,)\n",
      "Amount of timesteps to optimise: 17\n",
      "Building lookup-table list...\n",
      "Lookup-table built.\n",
      "Initial function score upper bound: 499, voicing score upper bound: 499\n",
      "Starting search...\n",
      "New solution\n",
      "function cost: 201\n",
      "child voicing cost: 77\n",
      "Best yet: 278\n",
      "New solution\n",
      "function cost: 201\n",
      "child voicing cost: 72\n",
      "Best yet: 273\n",
      "New solution\n",
      "function cost: 189\n",
      "child voicing cost: 76\n",
      "Best yet: 265\n",
      "New solution\n",
      "function cost: 189\n",
      "child voicing cost: 74\n",
      "Best yet: 263\n",
      "New solution\n",
      "function cost: 189\n",
      "child voicing cost: 68\n",
      "Best yet: 257\n",
      "New solution\n",
      "function cost: 195\n",
      "child voicing cost: 60\n",
      "Best yet: 255\n",
      "New solution\n",
      "function cost: 192\n",
      "child voicing cost: 61\n",
      "Best yet: 253\n",
      "New solution\n",
      "function cost: 171\n",
      "child voicing cost: 77\n",
      "Best yet: 248\n",
      "New solution\n",
      "function cost: 177\n",
      "child voicing cost: 70\n",
      "Best yet: 247\n",
      "New solution\n",
      "function cost: 177\n",
      "child voicing cost: 67\n",
      "Best yet: 244\n"
     ]
    },
    {
     "data": {
      "text/plain": [
       "(0, \"T\", Tuple{Int16,Int16}[(51, 1), (63, 1), (70, 5), (79, 3)])"
      ]
     },
     "metadata": {},
     "output_type": "display_data"
    },
    {
     "data": {
      "text/plain": [
       "(0, \"D/5\", Tuple{Int16,Int16}[(53, 5), (62, 3), (70, 1), (77, 5)])"
      ]
     },
     "metadata": {},
     "output_type": "display_data"
    },
    {
     "data": {
      "text/plain": [
       "(12, \"T/3\", Tuple{Int16,Int16}[(55, 3), (63, 1), (70, 5), (75, 1)])"
      ]
     },
     "metadata": {},
     "output_type": "display_data"
    },
    {
     "data": {
      "text/plain": [
       "(0, \"Tm\", Tuple{Int16,Int16}[(55, 1), (58, 3), (70, 3), (74, 5)])"
      ]
     },
     "metadata": {},
     "output_type": "display_data"
    },
    {
     "data": {
      "text/plain": [
       "(3, \"D7/3\", Tuple{Int16,Int16}[(50, 3), (58, 1), (68, 7), (77, 5)])"
      ]
     },
     "metadata": {},
     "output_type": "display_data"
    },
    {
     "data": {
      "text/plain": [
       "(18, \"T\", Tuple{Int16,Int16}[(51, 1), (58, 5), (67, 3), (75, 1)])"
      ]
     },
     "metadata": {},
     "output_type": "display_data"
    },
    {
     "data": {
      "text/plain": [
       "(21, \"S\", Tuple{Int16,Int16}[(56, 1), (60, 3), (68, 1), (75, 5)])"
      ]
     },
     "metadata": {},
     "output_type": "display_data"
    },
    {
     "data": {
      "text/plain": [
       "(15, \"S\", Tuple{Int16,Int16}[(56, 1), (60, 3), (63, 5), (68, 1)])"
      ]
     },
     "metadata": {},
     "output_type": "display_data"
    },
    {
     "data": {
      "text/plain": [
       "(0, \"Ts\", Tuple{Int16,Int16}[(60, 1), (60, 1), (63, 3), (67, 5)])"
      ]
     },
     "metadata": {},
     "output_type": "display_data"
    },
    {
     "data": {
      "text/plain": [
       "(6, \"S\", Tuple{Int16,Int16}[(56, 1), (60, 3), (63, 5), (68, 1)])"
      ]
     },
     "metadata": {},
     "output_type": "display_data"
    },
    {
     "data": {
      "text/plain": [
       "(9, \"T/3\", Tuple{Int16,Int16}[(55, 3), (58, 5), (63, 1), (70, 5)])"
      ]
     },
     "metadata": {},
     "output_type": "display_data"
    },
    {
     "data": {
      "text/plain": [
       "(24, \"D/5\", Tuple{Int16,Int16}[(53, 5), (58, 1), (65, 5), (74, 3)])"
      ]
     },
     "metadata": {},
     "output_type": "display_data"
    },
    {
     "data": {
      "text/plain": [
       "(9, \"T\", Tuple{Int16,Int16}[(51, 1), (58, 5), (67, 3), (75, 1)])"
      ]
     },
     "metadata": {},
     "output_type": "display_data"
    },
    {
     "data": {
      "text/plain": [
       "(12, \"D7/3\", Tuple{Int16,Int16}[(50, 3), (58, 1), (68, 7), (77, 5)])"
      ]
     },
     "metadata": {},
     "output_type": "display_data"
    },
    {
     "data": {
      "text/plain": [
       "(9, \"T\", Tuple{Int16,Int16}[(51, 1), (63, 1), (67, 3), (70, 5)])"
      ]
     },
     "metadata": {},
     "output_type": "display_data"
    },
    {
     "data": {
      "text/plain": [
       "(12, \"T\", Tuple{Int16,Int16}[(51, 1), (55, 3), (63, 1), (70, 5)])"
      ]
     },
     "metadata": {},
     "output_type": "display_data"
    },
    {
     "data": {
      "text/plain": [
       "(3, \"T/3\", Tuple{Int16,Int16}[(55, 3), (58, 5), (63, 1), (70, 5)])"
      ]
     },
     "metadata": {},
     "output_type": "display_data"
    },
    {
     "data": {
      "text/plain": [
       "(18, \"D/5\", Tuple{Int16,Int16}[(53, 5), (58, 1), (65, 5), (74, 3)])"
      ]
     },
     "metadata": {},
     "output_type": "display_data"
    },
    {
     "data": {
      "text/plain": [
       "(6, \"T\", Tuple{Int16,Int16}[(51, 1), (58, 5), (67, 3), (75, 1)])"
      ]
     },
     "metadata": {},
     "output_type": "display_data"
    },
    {
     "data": {
      "text/plain": [
       "(6, \"Ts\", Tuple{Int16,Int16}[(48, 1), (60, 1), (67, 5), (75, 3)])"
      ]
     },
     "metadata": {},
     "output_type": "display_data"
    },
    {
     "data": {
      "text/plain": [
       "(6, \"D7\", Tuple{Int16,Int16}[(46, 1), (62, 3), (68, 7), (77, 5)])"
      ]
     },
     "metadata": {},
     "output_type": "display_data"
    },
    {
     "data": {
      "text/plain": [
       "(15, \"Ts\", Tuple{Int16,Int16}[(48, 1), (63, 3), (67, 5), (72, 1)])"
      ]
     },
     "metadata": {},
     "output_type": "display_data"
    },
    {
     "data": {
      "text/plain": [
       "(9, \"S\", Tuple{Int16,Int16}[(44, 1), (63, 5), (68, 1), (72, 3)])"
      ]
     },
     "metadata": {},
     "output_type": "display_data"
    },
    {
     "data": {
      "text/plain": [
       "(18, \"T/3\", Tuple{Int16,Int16}[(43, 3), (63, 1), (70, 5), (75, 1)])"
      ]
     },
     "metadata": {},
     "output_type": "display_data"
    },
    {
     "data": {
      "text/plain": [
       "(9, \"D\", Tuple{Int16,Int16}[(46, 1), (65, 5), (70, 1), (74, 3)])"
      ]
     },
     "metadata": {},
     "output_type": "display_data"
    },
    {
     "data": {
      "text/plain": [
       "(9, \"S/3\", Tuple{Int16,Int16}[(48, 3), (63, 5), (68, 1), (80, 1)])"
      ]
     },
     "metadata": {},
     "output_type": "display_data"
    },
    {
     "data": {
      "text/plain": [
       "(6, \"D\", Tuple{Int16,Int16}[(46, 1), (65, 5), (70, 1), (74, 3)])"
      ]
     },
     "metadata": {},
     "output_type": "display_data"
    },
    {
     "data": {
      "text/plain": [
       "(0, \"T/3\", Tuple{Int16,Int16}[(43, 3), (63, 1), (70, 5), (75, 1)])"
      ]
     },
     "metadata": {},
     "output_type": "display_data"
    },
    {
     "data": {
      "text/plain": [
       "(15, \"S\", Tuple{Int16,Int16}[(44, 1), (63, 5), (68, 1), (72, 3)])"
      ]
     },
     "metadata": {},
     "output_type": "display_data"
    },
    {
     "data": {
      "text/plain": [
       "(24, \"D\", Tuple{Int16,Int16}[(46, 1), (62, 3), (65, 5), (70, 1)])"
      ]
     },
     "metadata": {},
     "output_type": "display_data"
    },
    {
     "data": {
      "text/plain": [
       "(15, \"T\", Tuple{Int16,Int16}[(51, 1), (63, 1), (67, 3), (70, 5)])"
      ]
     },
     "metadata": {},
     "output_type": "display_data"
    },
    {
     "data": {
      "text/plain": [
       "(15, \"T\", Tuple{Int16,Int16}[(51, 1), (63, 1), (67, 3), (70, 5)])"
      ]
     },
     "metadata": {},
     "output_type": "display_data"
    },
    {
     "name": "stdout",
     "output_type": "stream",
     "text": [
      "##: Done. Total checked: 82164, Pruned: 89905, completed: 10, time: 1.6770000457763672, efficiency: 5.963029056072863\n",
      "Results: bestval_func: 177, bestval_voices: 67\n",
      "#Key: 4Scale: Major\n",
      "#Total time for optimisation of piece: 6.363000154495239\n",
      "#Total cost of piece: 468\n",
      "[\"T\", \"D/5\", \"T/3\", \"Tm\", \"D7/3\", \"T\", \"S\", \"S\", \"Ts\", \"S\", \"T/3\", \"D/5\", \"T\", \"D7/3\", \"T\", \"T\", \"T/3\", \"D/5\", \"T\", \"Ts\", \"D7\", \"Ts\", \"S\", \"T/3\", \"D\", \"S/3\", \"D\", \"T/3\", \"S\", \"D\", \"T\", \"T\"]\n",
      "../../results/optimizer/pianoroll/SJP-68-lord-opt.csv\n",
      " End of file \n",
      " \n",
      "Optimising: ../../results/neuralnet/pianoroll/SMP-03-chorl-nn.csv\n",
      "[0 1 0 0 0 0 2 0 0 0 1 0; 0 1 0 0 0 0 2 0 0 0 1 0; 0 0 1 0 0 0 1 0 0 0 0 2; 0 1 0 0 0 0 2 0 0 0 1 0; 0 1 1 0 0 0 1 0 0 0 0 1; 0 0 0 0 1 1 0 0 0 1 0 1; 0 2 0 0 1 0 0 0 0 1 0 0; 0 0 1 0 2 0 0 0 0 0 0 1; 0 1 0 0 1 0 1 0 0 0 0 1; 0 0 0 0 0 0 2 0 0 0 0 2; 0 1 0 0 0 0 1 0 1 0 0 1; 0 2 0 0 1 0 0 0 1 0 0 0; 0 1 0 0 2 0 0 0 1 0 0 0; 0 0 0 0 2 0 0 0 2 0 0 0; 0 0 0 1 0 0 1 0 2 0 0 0; 0 0 0 0 1 0 1 0 1 0 0 1; 0 1 0 0 0 0 3 0 0 0 0 0; 0 0 0 0 1 0 0 0 1 0 0 2; 0 0 0 0 0 0 0 0 2 0 0 2; 0 0 0 0 0 0 2 0 0 1 0 1; 0 0 0 0 1 0 1 0 1 0 0 1; 0 0 0 0 1 0 1 0 1 0 0 1; 0 0 0 0 1 0 1 0 0 0 0 2; 0 1 0 0 2 0 0 0 1 0 0 0; 0 0 0 0 1 0 1 0 0 0 0 2; 0 0 0 0 1 0 1 0 1 0 0 1; 0 2 0 0 1 0 0 0 1 0 0 0; 0 2 0 0 0 0 0 0 0 1 0 1; 0 1 0 0 1 0 0 0 2 0 0 0; 0 0 0 1 0 0 1 0 1 0 0 1; 0 0 0 0 1 0 0 0 2 0 0 1; 0 1 0 0 1 0 2 0 0 0 0 0; 0 0 0 1 0 0 1 0 0 0 0 2]\n",
      "Key Counter is [0 19 3 3 23 1 28 0 21 4 3 27]\n",
      "Key Score is [58; 75; 104; 31; 125; 34; 102; 85; 47; 125; 14; 124]\n",
      "Position Counter for 5 is [23 1 28 0 21 4 3 27 0 19 3 3]\n",
      "Position Counter for 10 is [4 3 27 0 19 3 3 23 1 28 0 21]\n",
      "Any[[5.0, 82.25, 0.0], [10.0, 87.5, 0.0]]\n",
      "[10, 88, 0]\n",
      "7 F# Minor\n",
      "Rhythm map: [\"S\", \"W\", \"S\", \"W\", \"S\", \"C\", \"C\", \"C\", \"S\", \"W\", \"S\", \"W\", \"S\", \"C\", \"C\", \"C\"] size: (16,)\n",
      "Amount of timesteps to optimise: 16\n",
      "Building lookup-table list...\n",
      "Lookup-table built.\n",
      "Initial function score upper bound: 499, voicing score upper bound: 499\n",
      "Starting search...\n",
      "New solution\n",
      "function cost: 168\n",
      "child voicing cost: 114\n",
      "Best yet: 282\n",
      "New solution\n",
      "function cost: 168\n",
      "child voicing cost: 111\n",
      "Best yet: 279\n",
      "New solution\n",
      "function cost: 168\n",
      "child voicing cost: 106\n",
      "Best yet: 274\n",
      "New solution\n",
      "function cost: 168\n",
      "child voicing cost: 105\n",
      "Best yet: 273\n",
      "New solution\n",
      "function cost: 168\n",
      "child voicing cost: 101\n",
      "Best yet: 269\n",
      "New solution\n",
      "function cost: 168\n",
      "child voicing cost: 100\n",
      "Best yet: 268\n",
      "New solution\n",
      "function cost: 186\n",
      "child voicing cost: 81\n",
      "Best yet: 267\n",
      "New solution\n",
      "function cost: 186\n",
      "child voicing cost: 80\n",
      "Best yet: 266\n",
      "New solution\n",
      "function cost: 186\n",
      "child voicing cost: 78\n",
      "Best yet: 264\n",
      "New solution\n",
      "function cost: 168\n",
      "child voicing cost: 88\n",
      "Best yet: 256\n",
      "New solution\n",
      "function cost: 168\n",
      "child voicing cost: 87\n",
      "Best yet: 255\n",
      "New solution\n",
      "function cost: 168\n",
      "child voicing cost: 84\n",
      "Best yet: 252\n",
      "New solution\n",
      "function cost: 147\n",
      "child voicing cost: 94\n",
      "Best yet: 241\n",
      "New solution\n",
      "function cost: 147\n",
      "child voicing cost: 91\n",
      "Best yet: 238\n",
      "New solution\n",
      "function cost: 144\n",
      "child voicing cost: 92\n",
      "Best yet: 236\n",
      "New solution\n",
      "function cost: 147\n",
      "child voicing cost: 87\n",
      "Best yet: 234\n",
      "New solution\n",
      "function cost: 147\n",
      "child voicing cost: 86\n",
      "Best yet: 233\n",
      "New solution\n",
      "function cost: 144\n",
      "child voicing cost: 88\n",
      "Best yet: 232\n",
      "New solution\n",
      "function cost: 144\n",
      "child voicing cost: 84\n",
      "Best yet: 228\n",
      "New solution\n",
      "function cost: 147\n",
      "child voicing cost: 80\n",
      "Best yet: 227\n",
      "##: Done. Total checked: 97235, Pruned: 117474, completed: 20, time: 2.00600004196167, efficiency: 9.97008952225244\n",
      "Results: bestval_func: 147, bestval_voices: 80\n",
      "[0 1 0 0 0 0 2 0 0 0 1 0; 0 1 0 0 0 0 2 0 0 0 1 0; 0 0 1 0 0 0 1 0 0 0 0 2; 0 1 0 0 0 0 2 0 0 0 1 0; 0 1 1 0 0 0 1 0 0 0 0 1; 0 0 0 0 1 1 0 0 0 1 0 1; 0 2 0 0 1 0 0 0 0 1 0 0; 0 0 1 0 2 0 0 0 0 0 0 1; 0 1 0 0 1 0 1 0 0 0 0 1; 0 0 0 0 0 0 2 0 0 0 0 2; 0 1 0 0 0 0 1 0 1 0 0 1; 0 2 0 0 1 0 0 0 1 0 0 0; 0 1 0 0 2 0 0 0 1 0 0 0; 0 0 0 0 2 0 0 0 2 0 0 0; 0 0 0 1 0 0 1 0 2 0 0 0; 0 0 0 0 1 0 1 0 1 0 0 1; 0 1 0 0 0 0 3 0 0 0 0 0; 0 0 0 0 1 0 0 0 1 0 0 2; 0 0 0 0 0 0 0 0 2 0 0 2; 0 0 0 0 0 0 2 0 0 1 0 1; 0 0 0 0 1 0 1 0 1 0 0 1; 0 0 0 0 1 0 1 0 1 0 0 1; 0 0 0 0 1 0 1 0 0 0 0 2; 0 1 0 0 2 0 0 0 1 0 0 0; 0 0 0 0 1 0 1 0 0 0 0 2; 0 0 0 0 1 0 1 0 1 0 0 1; 0 2 0 0 1 0 0 0 1 0 0 0; 0 2 0 0 0 0 0 0 0 1 0 1; 0 1 0 0 1 0 0 0 2 0 0 0; 0 0 0 1 0 0 1 0 1 0 0 1; 0 0 0 0 1 0 0 0 2 0 0 1; 0 1 0 0 1 0 2 0 0 0 0 0; 0 0 0 1 0 0 1 0 0 0 0 2]\n",
      "Key Counter is [0 19 3 3 23 1 28 0 21 4 3 27]\n",
      "Key Score is [58; 75; 104; 31; 125; 34; 102; 85; 47; 125; 14; 124]\n",
      "Position Counter for 5 is [23 1 28 0 21 4 3 27 0 19 3 3]\n",
      "Position Counter for 10 is [4 3 27 0 19 3 3 23 1 28 0 21]\n",
      "Any[[5.0, 82.25, 0.0], [10.0, 87.5, 0.0]]\n",
      "[10, 88, 0]\n",
      "7 F# Minor\n",
      "Rhythm map: [\"W\", \"S\", \"W\", \"S\", \"W\", \"S\", \"W\", \"S\", \"W\", \"S\", \"W\", \"S\", \"W\", \"A\", \"A\", \"A\", \"A\"] size: (17,)\n",
      "Amount of timesteps to optimise: 17\n",
      "Building lookup-table list...\n",
      "Lookup-table built.\n",
      "Initial function score upper bound: 499, voicing score upper bound: 499\n",
      "Starting search...\n",
      "New solution\n",
      "function cost: 210\n",
      "child voicing cost: 74\n",
      "Best yet: 284\n",
      "New solution\n",
      "function cost: 210\n",
      "child voicing cost: 71\n",
      "Best yet: 281\n",
      "New solution\n",
      "function cost: 210\n",
      "child voicing cost: 68\n",
      "Best yet: 278\n",
      "New solution\n",
      "function cost: 186\n",
      "child voicing cost: 80\n",
      "Best yet: 266\n",
      "New solution\n",
      "function cost: 186\n",
      "child voicing cost: 78\n",
      "Best yet: 264\n",
      "New solution\n",
      "function cost: 186\n",
      "child voicing cost: 72\n",
      "Best yet: 258\n",
      "New solution\n",
      "function cost: 186\n",
      "child voicing cost: 69\n",
      "Best yet: 255\n",
      "New solution\n",
      "function cost: 186\n",
      "child voicing cost: 67\n",
      "Best yet: 253\n",
      "New solution\n",
      "function cost: 186\n",
      "child voicing cost: 64\n",
      "Best yet: 250\n",
      "New solution\n",
      "function cost: 189\n",
      "child voicing cost: 60\n",
      "Best yet: 249\n",
      "New solution\n",
      "function cost: 186\n",
      "child voicing cost: 61\n",
      "Best yet: 247\n",
      "New solution\n",
      "function cost: 189\n",
      "child voicing cost: 57\n",
      "Best yet: 246\n"
     ]
    },
    {
     "data": {
      "text/plain": [
       "(3, \"T\", Tuple{Int16,Int16}[(54, 1), (54, 1), (61, 5), (69, 3)])"
      ]
     },
     "metadata": {},
     "output_type": "display_data"
    },
    {
     "data": {
      "text/plain": [
       "(3, \"T\", Tuple{Int16,Int16}[(54, 1), (57, 3), (61, 5), (66, 1)])"
      ]
     },
     "metadata": {},
     "output_type": "display_data"
    },
    {
     "data": {
      "text/plain": [
       "(0, \"S\", Tuple{Int16,Int16}[(47, 1), (59, 1), (62, 3), (66, 5)])"
      ]
     },
     "metadata": {},
     "output_type": "display_data"
    },
    {
     "data": {
      "text/plain": [
       "(3, \"T/3\", Tuple{Int16,Int16}[(45, 3), (54, 1), (61, 5), (73, 5)])"
      ]
     },
     "metadata": {},
     "output_type": "display_data"
    },
    {
     "data": {
      "text/plain": [
       "(6, \"S\", Tuple{Int16,Int16}[(47, 1), (54, 5), (62, 3), (71, 1)])"
      ]
     },
     "metadata": {},
     "output_type": "display_data"
    },
    {
     "data": {
      "text/plain": [
       "(12, \"D7\", Tuple{Int16,Int16}[(49, 1), (53, 3), (59, 7), (68, 5)])"
      ]
     },
     "metadata": {},
     "output_type": "display_data"
    },
    {
     "data": {
      "text/plain": [
       "(12, \"Ts\", Tuple{Int16,Int16}[(50, 1), (54, 3), (57, 5), (66, 3)])"
      ]
     },
     "metadata": {},
     "output_type": "display_data"
    },
    {
     "data": {
      "text/plain": [
       "(18, \"Ts\", Tuple{Int16,Int16}[(50, 1), (54, 3), (57, 5), (62, 1)])"
      ]
     },
     "metadata": {},
     "output_type": "display_data"
    },
    {
     "data": {
      "text/plain": [
       "(15, \"D\", Tuple{Int16,Int16}[(49, 1), (56, 5), (61, 1), (65, 3)])"
      ]
     },
     "metadata": {},
     "output_type": "display_data"
    },
    {
     "data": {
      "text/plain": [
       "(0, \"S/3\", Tuple{Int16,Int16}[(50, 3), (54, 5), (59, 1), (66, 5)])"
      ]
     },
     "metadata": {},
     "output_type": "display_data"
    },
    {
     "data": {
      "text/plain": [
       "(9, \"D64\", Tuple{Int16,Int16}[(49, 1), (54, 4), (61, 1), (69, 6)])"
      ]
     },
     "metadata": {},
     "output_type": "display_data"
    },
    {
     "data": {
      "text/plain": [
       "(3, \"D\", Tuple{Int16,Int16}[(49, 1), (53, 3), (61, 1), (68, 5)])"
      ]
     },
     "metadata": {},
     "output_type": "display_data"
    },
    {
     "data": {
      "text/plain": [
       "(15, \"T\", Tuple{Int16,Int16}[(42, 1), (54, 1), (61, 5), (69, 3)])"
      ]
     },
     "metadata": {},
     "output_type": "display_data"
    },
    {
     "data": {
      "text/plain": [
       "(21, \"D7/3\", Tuple{Int16,Int16}[(41, 3), (56, 5), (59, 7), (61, 1)])"
      ]
     },
     "metadata": {},
     "output_type": "display_data"
    },
    {
     "data": {
      "text/plain": [
       "(15, \"T\", Tuple{Int16,Int16}[(42, 1), (54, 1), (57, 3), (61, 5)])"
      ]
     },
     "metadata": {},
     "output_type": "display_data"
    },
    {
     "data": {
      "text/plain": [
       "(15, \"T\", Tuple{Int16,Int16}[(42, 1), (49, 5), (57, 3), (66, 1)])"
      ]
     },
     "metadata": {},
     "output_type": "display_data"
    },
    {
     "data": {
      "text/plain": [
       "(15, \"D/3\", Tuple{Int16,Int16}[(41, 3), (49, 1), (56, 5), (68, 5)])"
      ]
     },
     "metadata": {},
     "output_type": "display_data"
    },
    {
     "data": {
      "text/plain": [
       "(30, \"T\", Tuple{Int16,Int16}[(42, 1), (49, 5), (57, 3), (66, 1)])"
      ]
     },
     "metadata": {},
     "output_type": "display_data"
    },
    {
     "data": {
      "text/plain": [
       "(0, \"D7-1\", Tuple{Int16,Int16}[(44, 5), (47, 7), (56, 5), (65, 3)])"
      ]
     },
     "metadata": {},
     "output_type": "display_data"
    },
    {
     "data": {
      "text/plain": [
       "(6, \"T\", Tuple{Int16,Int16}[(42, 1), (49, 5), (57, 3), (66, 1)])"
      ]
     },
     "metadata": {},
     "output_type": "display_data"
    },
    {
     "data": {
      "text/plain": [
       "(6, \"Dm\", Tuple{Int16,Int16}[(40, 1), (56, 3), (59, 5), (68, 3)])"
      ]
     },
     "metadata": {},
     "output_type": "display_data"
    },
    {
     "data": {
      "text/plain": [
       "(6, \"Dm\", Tuple{Int16,Int16}[(52, 1), (56, 3), (59, 5), (68, 3)])"
      ]
     },
     "metadata": {},
     "output_type": "display_data"
    },
    {
     "data": {
      "text/plain": [
       "(6, \"S/3\", Tuple{Int16,Int16}[(50, 3), (54, 5), (59, 1), (71, 1)])"
      ]
     },
     "metadata": {},
     "output_type": "display_data"
    },
    {
     "data": {
      "text/plain": [
       "(15, \"T/5\", Tuple{Int16,Int16}[(49, 5), (54, 1), (61, 5), (69, 3)])"
      ]
     },
     "metadata": {},
     "output_type": "display_data"
    },
    {
     "data": {
      "text/plain": [
       "(6, \"S/3\", Tuple{Int16,Int16}[(50, 3), (54, 5), (59, 1), (66, 5)])"
      ]
     },
     "metadata": {},
     "output_type": "display_data"
    },
    {
     "data": {
      "text/plain": [
       "(15, \"D54\", Tuple{Int16,Int16}[(49, 1), (56, 5), (61, 1), (66, 4)])"
      ]
     },
     "metadata": {},
     "output_type": "display_data"
    },
    {
     "data": {
      "text/plain": [
       "(3, \"D\", Tuple{Int16,Int16}[(49, 1), (56, 5), (61, 1), (65, 3)])"
      ]
     },
     "metadata": {},
     "output_type": "display_data"
    },
    {
     "data": {
      "text/plain": [
       "(18, \"S/3\", Tuple{Int16,Int16}[(50, 3), (54, 5), (66, 5), (71, 1)])"
      ]
     },
     "metadata": {},
     "output_type": "display_data"
    },
    {
     "data": {
      "text/plain": [
       "(18, \"D\", Tuple{Int16,Int16}[(49, 1), (56, 5), (65, 3), (73, 1)])"
      ]
     },
     "metadata": {},
     "output_type": "display_data"
    },
    {
     "data": {
      "text/plain": [
       "(9, \"D7\", Tuple{Int16,Int16}[(49, 1), (56, 5), (65, 3), (71, 7)])"
      ]
     },
     "metadata": {},
     "output_type": "display_data"
    },
    {
     "data": {
      "text/plain": [
       "(21, \"T\", Tuple{Int16,Int16}[(42, 1), (61, 5), (66, 1), (69, 3)])"
      ]
     },
     "metadata": {},
     "output_type": "display_data"
    },
    {
     "data": {
      "text/plain": [
       "(21, \"T\", Tuple{Int16,Int16}[(42, 1), (61, 5), (66, 1), (69, 3)])"
      ]
     },
     "metadata": {},
     "output_type": "display_data"
    },
    {
     "name": "stdout",
     "output_type": "stream",
     "text": [
      "##: Done. Total checked: 65234, Pruned: 77604, completed: 12, time: 1.4779999256134033, efficiency: 8.119080246245431\n",
      "Results: bestval_func: 189, bestval_voices: 57\n",
      "#Key: 7Scale: Minor\n",
      "#Total time for optimisation of piece: 4.919000148773193\n",
      "#Total cost of piece: 473\n",
      "[\"T\", \"T\", \"S\", \"T/3\", \"S\", \"D7\", \"Ts\", \"Ts\", \"D\", \"S/3\", \"D64\", \"D\", \"T\", \"D7/3\", \"T\", \"T\", \"D/3\", \"T\", \"D7-1\", \"T\", \"Dm\", \"Dm\", \"S/3\", \"T/5\", \"S/3\", \"D54\", \"D\", \"S/3\", \"D\", \"D7\", \"T\", \"T\"]\n",
      "../../results/optimizer/pianoroll/SMP-03-chorl-opt.csv\n",
      " End of file \n",
      " \n",
      "Optimising: ../../results/neuralnet/pianoroll/SMP-16-chorl-nn.csv\n",
      "[0 2 0 0 0 0 0 0 1 0 1 0; 0 0 0 1 0 0 0 1 0 0 1 0; 0 1 0 1 0 0 0 1 0 0 1 0; 1 0 0 1 0 0 0 0 2 0 0 0; 0 1 0 0 0 2 0 0 0 0 0 0; 1 0 0 2 0 0 0 0 1 0 0 0; 1 0 0 2 0 0 0 0 1 0 0 0; 0 1 0 1 0 0 0 0 1 0 1 0; 0 0 0 2 0 0 0 0 1 0 1 0; 1 0 0 1 0 0 0 0 2 0 0 0; 1 0 0 1 0 0 0 0 2 0 0 0; 1 0 0 1 0 0 0 0 2 0 0 0; 1 1 0 0 0 0 1 0 1 0 0 0; 1 2 0 1 0 0 0 0 0 0 0 0; 1 2 0 1 0 0 0 0 0 0 0 0; 0 1 0 2 0 0 0 0 1 0 0 0; 0 1 0 1 0 0 0 0 0 0 2 0; 1 0 0 1 0 0 0 0 2 0 0 0; 1 0 0 1 0 0 0 0 2 0 0 0; 1 0 0 1 0 0 0 0 2 0 0 0; 1 1 0 0 0 0 1 0 1 0 0 0; 1 2 0 0 0 0 0 0 1 0 0 0; 0 1 0 2 0 1 0 0 0 0 0 0; 0 0 0 1 0 2 0 0 1 0 0 0; 1 1 0 1 0 1 0 0 0 0 0 0; 0 2 0 0 0 1 0 0 0 0 1 0; 0 1 0 0 0 2 0 0 0 0 1 0; 0 0 0 0 0 2 0 0 1 1 0 0; 1 0 0 0 0 0 0 0 1 1 1 0; 1 0 0 1 0 1 0 0 0 0 1 0; 0 0 0 0 0 2 0 0 0 0 2 0; 0 0 0 2 0 0 0 1 0 0 1 0; 1 0 0 1 0 1 0 0 0 0 1 0]\n",
      "Key Counter is [18 20 0 29 0 15 2 3 26 2 15 0]\n",
      "Key Score is [38; 125; 27; 106; 79; 53; 107; 25; 126; 50; 82; 92]\n",
      "Position Counter for 9 is [26 2 15 0 18 20 0 29 0 15 2 3]\n",
      "Any[[9.0, 90.0, 1.0]]\n",
      "[9, 90, 1]\n",
      "9 G# Major\n",
      "Rhythm map: [\"S\", \"W\", \"S\", \"W\", \"S\", \"C\", \"C\", \"C\", \"S\", \"W\", \"S\", \"W\", \"S\", \"C\", \"C\", \"C\"] size: (16,)\n",
      "Amount of timesteps to optimise: 16\n",
      "Building lookup-table list...\n",
      "Lookup-table built.\n",
      "Initial function score upper bound: 499, voicing score upper bound: 499\n",
      "Starting search...\n",
      "New solution\n",
      "function cost: 135\n",
      "child voicing cost: 111\n",
      "Best yet: 246\n",
      "New solution\n",
      "function cost: 135\n",
      "child voicing cost: 110\n",
      "Best yet: 245\n",
      "New solution\n",
      "function cost: 135\n",
      "child voicing cost: 107\n",
      "Best yet: 242\n",
      "New solution\n",
      "function cost: 147\n",
      "child voicing cost: 92\n",
      "Best yet: 239\n",
      "New solution\n",
      "function cost: 135\n",
      "child voicing cost: 101\n",
      "Best yet: 236\n",
      "New solution\n",
      "function cost: 150\n",
      "child voicing cost: 84\n",
      "Best yet: 234\n",
      "New solution\n",
      "function cost: 150\n",
      "child voicing cost: 81\n",
      "Best yet: 231\n",
      "New solution\n",
      "function cost: 120\n",
      "child voicing cost: 106\n",
      "Best yet: 226\n",
      "New solution\n",
      "function cost: 120\n",
      "child voicing cost: 104\n",
      "Best yet: 224\n",
      "New solution\n",
      "function cost: 153\n",
      "child voicing cost: 66\n",
      "Best yet: 219\n",
      "New solution\n",
      "function cost: 150\n",
      "child voicing cost: 66\n",
      "Best yet: 216\n",
      "New solution\n",
      "function cost: 135\n",
      "child voicing cost: 76\n",
      "Best yet: 211\n",
      "New solution\n",
      "function cost: 135\n",
      "child voicing cost: 74\n",
      "Best yet: 209\n",
      "New solution\n",
      "function cost: 135\n",
      "child voicing cost: 64\n",
      "Best yet: 199\n",
      "##: Done. Total checked: 148978, Pruned: 184979, completed: 14, time: 3.0490000247955322, efficiency: 4.591669362462156\n",
      "Results: bestval_func: 135, bestval_voices: 64\n",
      "[0 2 0 0 0 0 0 0 1 0 1 0; 0 0 0 1 0 0 0 1 0 0 1 0; 0 1 0 1 0 0 0 1 0 0 1 0; 1 0 0 1 0 0 0 0 2 0 0 0; 0 1 0 0 0 2 0 0 0 0 0 0; 1 0 0 2 0 0 0 0 1 0 0 0; 1 0 0 2 0 0 0 0 1 0 0 0; 0 1 0 1 0 0 0 0 1 0 1 0; 0 0 0 2 0 0 0 0 1 0 1 0; 1 0 0 1 0 0 0 0 2 0 0 0; 1 0 0 1 0 0 0 0 2 0 0 0; 1 0 0 1 0 0 0 0 2 0 0 0; 1 1 0 0 0 0 1 0 1 0 0 0; 1 2 0 1 0 0 0 0 0 0 0 0; 1 2 0 1 0 0 0 0 0 0 0 0; 0 1 0 2 0 0 0 0 1 0 0 0; 0 1 0 1 0 0 0 0 0 0 2 0; 1 0 0 1 0 0 0 0 2 0 0 0; 1 0 0 1 0 0 0 0 2 0 0 0; 1 0 0 1 0 0 0 0 2 0 0 0; 1 1 0 0 0 0 1 0 1 0 0 0; 1 2 0 0 0 0 0 0 1 0 0 0; 0 1 0 2 0 1 0 0 0 0 0 0; 0 0 0 1 0 2 0 0 1 0 0 0; 1 1 0 1 0 1 0 0 0 0 0 0; 0 2 0 0 0 1 0 0 0 0 1 0; 0 1 0 0 0 2 0 0 0 0 1 0; 0 0 0 0 0 2 0 0 1 1 0 0; 1 0 0 0 0 0 0 0 1 1 1 0; 1 0 0 1 0 1 0 0 0 0 1 0; 0 0 0 0 0 2 0 0 0 0 2 0; 0 0 0 2 0 0 0 1 0 0 1 0; 1 0 0 1 0 1 0 0 0 0 1 0]\n",
      "Key Counter is [18 20 0 29 0 15 2 3 26 2 15 0]\n",
      "Key Score is [38; 125; 27; 106; 79; 53; 107; 25; 126; 50; 82; 92]\n",
      "Position Counter for 9 is [26 2 15 0 18 20 0 29 0 15 2 3]\n",
      "Any[[9.0, 90.0, 1.0]]\n",
      "[9, 90, 1]\n",
      "9 G# Major\n",
      "Rhythm map: [\"W\", \"S\", \"W\", \"S\", \"W\", \"S\", \"W\", \"S\", \"W\", \"S\", \"W\", \"S\", \"W\", \"A\", \"A\", \"A\", \"A\"] size: (17,)\n",
      "Amount of timesteps to optimise: 17\n",
      "Building lookup-table list...\n",
      "Lookup-table built.\n",
      "Initial function score upper bound: 499, voicing score upper bound: 499\n",
      "Starting search...\n",
      "New solution\n",
      "function cost: 255\n",
      "child voicing cost: 104\n",
      "Best yet: 359\n",
      "New solution\n",
      "function cost: 255\n",
      "child voicing cost: 101\n",
      "Best yet: 356\n",
      "New solution\n",
      "function cost: 255\n",
      "child voicing cost: 99\n",
      "Best yet: 354\n",
      "New solution\n",
      "function cost: 255\n",
      "child voicing cost: 93\n",
      "Best yet: 348\n",
      "New solution\n",
      "function cost: 255\n",
      "child voicing cost: 89\n",
      "Best yet: 344\n",
      "New solution\n",
      "function cost: 258\n",
      "child voicing cost: 83\n",
      "Best yet: 341\n",
      "New solution\n",
      "function cost: 258\n",
      "child voicing cost: 82\n",
      "Best yet: 340\n",
      "New solution\n",
      "function cost: 258\n",
      "child voicing cost: 80\n",
      "Best yet: 338\n",
      "New solution\n",
      "function cost: 258\n",
      "child voicing cost: 79\n",
      "Best yet: 337\n",
      "New solution\n",
      "function cost: 249\n",
      "child voicing cost: 86\n",
      "Best yet: 335\n",
      "New solution\n",
      "function cost: 249\n",
      "child voicing cost: 80\n",
      "Best yet: 329\n",
      "New solution\n",
      "function cost: 234\n",
      "child voicing cost: 81\n",
      "Best yet: 315\n",
      "New solution\n",
      "function cost: 240\n",
      "child voicing cost: 73\n",
      "Best yet: 313\n",
      "New solution\n",
      "function cost: 234\n",
      "child voicing cost: 77\n",
      "Best yet: 311\n",
      "New solution\n",
      "function cost: 234\n",
      "child voicing cost: 75\n",
      "Best yet: 309\n",
      "New solution\n",
      "function cost: 213\n",
      "child voicing cost: 92\n",
      "Best yet: 305\n",
      "New solution\n",
      "function cost: 219\n",
      "child voicing cost: 81\n",
      "Best yet: 300\n",
      "New solution\n",
      "function cost: 213\n",
      "child voicing cost: 85\n",
      "Best yet: 298\n",
      "New solution\n",
      "function cost: 213\n",
      "child voicing cost: 84\n",
      "Best yet: 297\n",
      "New solution\n",
      "function cost: 213\n",
      "child voicing cost: 82\n",
      "Best yet: 295\n",
      "New solution\n",
      "function cost: 222\n",
      "child voicing cost: 72\n",
      "Best yet: 294\n",
      "New solution\n",
      "function cost: 213\n",
      "child voicing cost: 80\n",
      "Best yet: 293\n",
      "New solution\n",
      "function cost: 213\n",
      "child voicing cost: 79\n",
      "Best yet: 292\n",
      "New solution\n",
      "function cost: 213\n",
      "child voicing cost: 75\n",
      "Best yet: 288\n",
      "New solution\n",
      "function cost: 216\n",
      "child voicing cost: 70\n",
      "Best yet: 286\n",
      "New solution\n",
      "function cost: 207\n",
      "child voicing cost: 75\n",
      "Best yet: 282\n",
      "New solution\n",
      "function cost: 207\n",
      "child voicing cost: 71\n",
      "Best yet: 278\n"
     ]
    },
    {
     "data": {
      "text/plain": [
       "(15, \"T\", Tuple{Int16,Int16}[(56, 1), (56, 1), (63, 5), (72, 3)])"
      ]
     },
     "metadata": {},
     "output_type": "display_data"
    },
    {
     "data": {
      "text/plain": [
       "(0, \"D\", Tuple{Int16,Int16}[(51, 1), (55, 3), (63, 1), (70, 5)])"
      ]
     },
     "metadata": {},
     "output_type": "display_data"
    },
    {
     "data": {
      "text/plain": [
       "(0, \"D7/7\", Tuple{Int16,Int16}[(49, 7), (55, 3), (63, 1), (70, 5)])"
      ]
     },
     "metadata": {},
     "output_type": "display_data"
    },
    {
     "data": {
      "text/plain": [
       "(0, \"T/3\", Tuple{Int16,Int16}[(48, 3), (56, 1), (63, 5), (68, 1)])"
      ]
     },
     "metadata": {},
     "output_type": "display_data"
    },
    {
     "data": {
      "text/plain": [
       "(9, \"S\", Tuple{Int16,Int16}[(49, 1), (56, 5), (61, 1), (65, 3)])"
      ]
     },
     "metadata": {},
     "output_type": "display_data"
    },
    {
     "data": {
      "text/plain": [
       "(6, \"D7-5\", Tuple{Int16,Int16}[(51, 1), (55, 3), (61, 7), (63, 1)])"
      ]
     },
     "metadata": {},
     "output_type": "display_data"
    },
    {
     "data": {
      "text/plain": [
       "(15, \"T\", Tuple{Int16,Int16}[(44, 1), (56, 1), (60, 3), (63, 5)])"
      ]
     },
     "metadata": {},
     "output_type": "display_data"
    },
    {
     "data": {
      "text/plain": [
       "(9, \"T\", Tuple{Int16,Int16}[(44, 1), (51, 5), (60, 3), (68, 1)])"
      ]
     },
     "metadata": {},
     "output_type": "display_data"
    },
    {
     "data": {
      "text/plain": [
       "(3, \"D/3\", Tuple{Int16,Int16}[(43, 3), (51, 1), (58, 5), (70, 5)])"
      ]
     },
     "metadata": {},
     "output_type": "display_data"
    },
    {
     "data": {
      "text/plain": [
       "(0, \"T\", Tuple{Int16,Int16}[(44, 1), (56, 1), (60, 3), (63, 5)])"
      ]
     },
     "metadata": {},
     "output_type": "display_data"
    },
    {
     "data": {
      "text/plain": [
       "(15, \"S65\", Tuple{Int16,Int16}[(49, 1), (56, 5), (58, 6), (65, 3)])"
      ]
     },
     "metadata": {},
     "output_type": "display_data"
    },
    {
     "data": {
      "text/plain": [
       "(0, \"T/5\", Tuple{Int16,Int16}[(51, 5), (56, 1), (60, 3), (63, 5)])"
      ]
     },
     "metadata": {},
     "output_type": "display_data"
    },
    {
     "data": {
      "text/plain": [
       "(6, \"S/3\", Tuple{Int16,Int16}[(53, 3), (56, 5), (61, 1), (68, 5)])"
      ]
     },
     "metadata": {},
     "output_type": "display_data"
    },
    {
     "data": {
      "text/plain": [
       "(24, \"D7\", Tuple{Int16,Int16}[(51, 1), (55, 3), (61, 7), (70, 5)])"
      ]
     },
     "metadata": {},
     "output_type": "display_data"
    },
    {
     "data": {
      "text/plain": [
       "(33, \"Ts\", Tuple{Int16,Int16}[(53, 1), (56, 3), (60, 5), (68, 3)])"
      ]
     },
     "metadata": {},
     "output_type": "display_data"
    },
    {
     "data": {
      "text/plain": [
       "(15, \"Ts\", Tuple{Int16,Int16}[(53, 1), (56, 3), (60, 5), (65, 1)])"
      ]
     },
     "metadata": {},
     "output_type": "display_data"
    },
    {
     "data": {
      "text/plain": [
       "(9, \"D7/3\", Tuple{Int16,Int16}[(55, 3), (58, 5), (61, 7), (63, 1)])"
      ]
     },
     "metadata": {},
     "output_type": "display_data"
    },
    {
     "data": {
      "text/plain": [
       "(0, \"T\", Tuple{Int16,Int16}[(56, 1), (56, 1), (60, 3), (63, 5)])"
      ]
     },
     "metadata": {},
     "output_type": "display_data"
    },
    {
     "data": {
      "text/plain": [
       "(15, \"D/3\", Tuple{Int16,Int16}[(55, 3), (58, 5), (63, 1), (70, 5)])"
      ]
     },
     "metadata": {},
     "output_type": "display_data"
    },
    {
     "data": {
      "text/plain": [
       "(0, \"T\", Tuple{Int16,Int16}[(56, 1), (60, 3), (63, 5), (68, 1)])"
      ]
     },
     "metadata": {},
     "output_type": "display_data"
    },
    {
     "data": {
      "text/plain": [
       "(6, \"S\", Tuple{Int16,Int16}[(49, 1), (61, 1), (65, 3), (68, 5)])"
      ]
     },
     "metadata": {},
     "output_type": "display_data"
    },
    {
     "data": {
      "text/plain": [
       "(12, \"Tm\", Tuple{Int16,Int16}[(48, 1), (63, 3), (67, 5), (72, 1)])"
      ]
     },
     "metadata": {},
     "output_type": "display_data"
    },
    {
     "data": {
      "text/plain": [
       "(21, \"D7/3\", Tuple{Int16,Int16}[(43, 3), (63, 1), (70, 5), (73, 7)])"
      ]
     },
     "metadata": {},
     "output_type": "display_data"
    },
    {
     "data": {
      "text/plain": [
       "(9, \"Ts\", Tuple{Int16,Int16}[(41, 1), (60, 5), (68, 3), (77, 1)])"
      ]
     },
     "metadata": {},
     "output_type": "display_data"
    },
    {
     "data": {
      "text/plain": [
       "(15, \"T/3\", Tuple{Int16,Int16}[(48, 3), (63, 5), (68, 1), (75, 5)])"
      ]
     },
     "metadata": {},
     "output_type": "display_data"
    },
    {
     "data": {
      "text/plain": [
       "(6, \"S\", Tuple{Int16,Int16}[(49, 1), (65, 3), (68, 5), (73, 1)])"
      ]
     },
     "metadata": {},
     "output_type": "display_data"
    },
    {
     "data": {
      "text/plain": [
       "(12, \"D7/3\", Tuple{Int16,Int16}[(55, 3), (63, 1), (70, 5), (73, 7)])"
      ]
     },
     "metadata": {},
     "output_type": "display_data"
    },
    {
     "data": {
      "text/plain": [
       "(24, \"T\", Tuple{Int16,Int16}[(56, 1), (63, 5), (68, 1), (72, 3)])"
      ]
     },
     "metadata": {},
     "output_type": "display_data"
    },
    {
     "data": {
      "text/plain": [
       "(18, \"D7-1\", Tuple{Int16,Int16}[(58, 5), (61, 7), (67, 3), (70, 5)])"
      ]
     },
     "metadata": {},
     "output_type": "display_data"
    },
    {
     "data": {
      "text/plain": [
       "(9, \"D7\", Tuple{Int16,Int16}[(51, 1), (61, 7), (67, 3), (70, 5)])"
      ]
     },
     "metadata": {},
     "output_type": "display_data"
    },
    {
     "data": {
      "text/plain": [
       "(27, \"T\", Tuple{Int16,Int16}[(56, 1), (60, 3), (63, 5), (68, 1)])"
      ]
     },
     "metadata": {},
     "output_type": "display_data"
    },
    {
     "data": {
      "text/plain": [
       "(27, \"T\", Tuple{Int16,Int16}[(56, 1), (60, 3), (63, 5), (68, 1)])"
      ]
     },
     "metadata": {},
     "output_type": "display_data"
    },
    {
     "name": "stdout",
     "output_type": "stream",
     "text": [
      "##: Done. Total checked: 191663, Pruned: 213774, completed: 27, time: 3.7980000972747803, efficiency: 7.109004557259912\n",
      "Results: bestval_func: 207, bestval_voices: 71\n",
      "#Key: 9Scale: Major\n",
      "#Total time for optimisation of piece: 8.013999938964844\n",
      "#Total cost of piece: 477\n",
      "[\"T\", \"D\", \"D7/7\", \"T/3\", \"S\", \"D7-5\", \"T\", \"T\", \"D/3\", \"T\", \"S65\", \"T/5\", \"S/3\", \"D7\", \"Ts\", \"Ts\", \"D7/3\", \"T\", \"D/3\", \"T\", \"S\", \"Tm\", \"D7/3\", \"Ts\", \"T/3\", \"S\", \"D7/3\", \"T\", \"D7-1\", \"D7\", \"T\", \"T\"]\n",
      "../../results/optimizer/pianoroll/SMP-16-chorl-opt.csv\n",
      " End of file \n",
      " \n",
      "Optimising: ../../results/neuralnet/pianoroll/SMP-21-chorl-nn.csv\n",
      "[0 2 0 0 1 0 0 0 0 1 0 0; 0 0 0 0 1 0 1 0 1 0 0 1; 0 1 0 0 1 0 1 0 0 1 0 0; 0 0 0 1 0 0 1 0 0 0 0 2; 0 0 0 0 2 0 0 0 1 0 0 1; 0 0 0 1 2 0 0 0 1 0 0 0; 0 0 0 1 0 0 0 0 2 1 0 0; 0 1 0 1 0 0 1 0 1 0 0 0; 0 1 0 1 0 0 1 0 1 0 0 0; 0 0 0 1 1 0 0 0 1 0 0 1; 0 0 0 1 1 0 0 0 1 0 1 0; 0 0 0 1 1 0 0 0 1 1 0 0; 0 1 0 0 1 0 0 0 1 0 0 1; 0 2 0 0 1 0 0 0 0 0 1 0; 0 0 0 1 2 0 0 0 1 0 0 0; 0 1 0 0 1 0 0 0 1 0 0 1; 0 0 0 1 0 0 1 0 0 1 0 1; 0 0 0 0 2 0 0 0 1 0 0 1; 0 0 0 0 2 0 0 0 1 0 0 1; 0 0 0 0 2 0 0 0 1 0 0 1; 0 2 0 0 1 0 0 0 0 0 1 0; 0 0 0 1 1 0 1 0 1 0 0 0; 0 1 0 0 1 0 0 0 2 0 0 0; 0 1 0 0 0 0 2 0 0 1 0 0; 0 1 0 0 1 0 1 0 1 0 0 0; 1 0 0 1 0 1 0 0 1 0 0 0; 0 1 0 0 2 0 0 0 1 0 0 0; 0 1 0 1 1 0 0 0 1 0 0 0; 0 1 0 2 0 0 0 0 1 0 0 0; 0 1 0 1 0 0 0 1 1 0 0 0; 0 1 0 1 1 0 0 0 1 0 0 0; 0 0 0 2 0 0 1 0 1 0 0 0; 0 1 0 0 0 0 0 0 2 0 0 1]\n",
      "Key Counter is [1 20 0 19 29 1 11 1 29 6 3 12]\n",
      "Key Score is [50; 84; 79; 54; 126; 41; 95; 60; 74; 107; 31; 123]\n",
      "Position Counter for 5 is [29 1 11 1 29 6 3 12 1 20 0 19]\n",
      "Any[[5.0, 81.0, 1.0]]\n",
      "[5, 81, 1]\n",
      "5 E Major\n",
      "Rhythm map: [\"S\", \"W\", \"S\", \"W\", \"S\", \"C\", \"C\", \"C\", \"S\", \"W\", \"S\", \"W\", \"S\", \"C\", \"C\", \"C\"] size: (16,)\n",
      "Amount of timesteps to optimise: 16\n",
      "Building lookup-table list...\n",
      "Lookup-table built.\n",
      "Initial function score upper bound: 499, voicing score upper bound: 499\n",
      "Starting search...\n",
      "New solution\n",
      "function cost: 204\n",
      "child voicing cost: 91\n",
      "Best yet: 295\n",
      "New solution\n",
      "function cost: 204\n",
      "child voicing cost: 87\n",
      "Best yet: 291\n",
      "New solution\n",
      "function cost: 180\n",
      "child voicing cost: 84\n",
      "Best yet: 264\n",
      "New solution\n",
      "function cost: 180\n",
      "child voicing cost: 76\n",
      "Best yet: 256\n",
      "New solution\n",
      "function cost: 177\n",
      "child voicing cost: 77\n",
      "Best yet: 254\n",
      "New solution\n",
      "function cost: 177\n",
      "child voicing cost: 70\n",
      "Best yet: 247\n",
      "New solution\n",
      "function cost: 177\n",
      "child voicing cost: 64\n",
      "Best yet: 241\n",
      "New solution\n",
      "function cost: 174\n",
      "child voicing cost: 66\n",
      "Best yet: 240\n",
      "New solution\n",
      "function cost: 174\n",
      "child voicing cost: 65\n",
      "Best yet: 239\n",
      "New solution\n",
      "function cost: 174\n",
      "child voicing cost: 64\n",
      "Best yet: 238\n",
      "New solution\n",
      "function cost: 174\n",
      "child voicing cost: 62\n",
      "Best yet: 236\n",
      "New solution\n",
      "function cost: 165\n",
      "child voicing cost: 69\n",
      "Best yet: 234\n",
      "New solution\n",
      "function cost: 168\n",
      "child voicing cost: 65\n",
      "Best yet: 233\n",
      "New solution\n",
      "function cost: 159\n",
      "child voicing cost: 72\n",
      "Best yet: 231\n",
      "New solution\n",
      "function cost: 168\n",
      "child voicing cost: 61\n",
      "Best yet: 229\n",
      "New solution\n",
      "function cost: 159\n",
      "child voicing cost: 68\n",
      "Best yet: 227\n",
      "New solution\n",
      "function cost: 159\n",
      "child voicing cost: 66\n",
      "Best yet: 225\n",
      "New solution\n",
      "function cost: 165\n",
      "child voicing cost: 59\n",
      "Best yet: 224\n",
      "New solution\n",
      "function cost: 156\n",
      "child voicing cost: 66\n",
      "Best yet: 222\n",
      "##: Done. Total checked: 87762, Pruned: 105590, completed: 19, time: 1.8519999980926514, efficiency: 10.25917927622453\n",
      "Results: bestval_func: 156, bestval_voices: 66\n",
      "[0 2 0 0 1 0 0 0 0 1 0 0; 0 0 0 0 1 0 1 0 1 0 0 1; 0 1 0 0 1 0 1 0 0 1 0 0; 0 0 0 1 0 0 1 0 0 0 0 2; 0 0 0 0 2 0 0 0 1 0 0 1; 0 0 0 1 2 0 0 0 1 0 0 0; 0 0 0 1 0 0 0 0 2 1 0 0; 0 1 0 1 0 0 1 0 1 0 0 0; 0 1 0 1 0 0 1 0 1 0 0 0; 0 0 0 1 1 0 0 0 1 0 0 1; 0 0 0 1 1 0 0 0 1 0 1 0; 0 0 0 1 1 0 0 0 1 1 0 0; 0 1 0 0 1 0 0 0 1 0 0 1; 0 2 0 0 1 0 0 0 0 0 1 0; 0 0 0 1 2 0 0 0 1 0 0 0; 0 1 0 0 1 0 0 0 1 0 0 1; 0 0 0 1 0 0 1 0 0 1 0 1; 0 0 0 0 2 0 0 0 1 0 0 1; 0 0 0 0 2 0 0 0 1 0 0 1; 0 0 0 0 2 0 0 0 1 0 0 1; 0 2 0 0 1 0 0 0 0 0 1 0; 0 0 0 1 1 0 1 0 1 0 0 0; 0 1 0 0 1 0 0 0 2 0 0 0; 0 1 0 0 0 0 2 0 0 1 0 0; 0 1 0 0 1 0 1 0 1 0 0 0; 1 0 0 1 0 1 0 0 1 0 0 0; 0 1 0 0 2 0 0 0 1 0 0 0; 0 1 0 1 1 0 0 0 1 0 0 0; 0 1 0 2 0 0 0 0 1 0 0 0; 0 1 0 1 0 0 0 1 1 0 0 0; 0 1 0 1 1 0 0 0 1 0 0 0; 0 0 0 2 0 0 1 0 1 0 0 0; 0 1 0 0 0 0 0 0 2 0 0 1]\n",
      "Key Counter is [1 20 0 19 29 1 11 1 29 6 3 12]\n",
      "Key Score is [50; 84; 79; 54; 126; 41; 95; 60; 74; 107; 31; 123]\n",
      "Position Counter for 5 is [29 1 11 1 29 6 3 12 1 20 0 19]\n",
      "Any[[5.0, 81.0, 1.0]]\n",
      "[5, 81, 1]\n",
      "5 E Major\n",
      "Rhythm map: [\"W\", \"S\", \"W\", \"S\", \"W\", \"S\", \"W\", \"S\", \"W\", \"S\", \"W\", \"S\", \"W\", \"A\", \"A\", \"A\", \"A\"] size: (17,)\n",
      "Amount of timesteps to optimise: 17\n",
      "Building lookup-table list...\n",
      "Lookup-table built.\n",
      "Initial function score upper bound: 499, voicing score upper bound: 499\n",
      "Starting search...\n",
      "New solution\n",
      "function cost: 153\n",
      "child voicing cost: 94\n",
      "Best yet: 247\n",
      "New solution\n",
      "function cost: 153\n",
      "child voicing cost: 91\n",
      "Best yet: 244\n",
      "New solution\n",
      "function cost: 153\n",
      "child voicing cost: 85\n",
      "Best yet: 238\n",
      "New solution\n",
      "function cost: 153\n",
      "child voicing cost: 83\n",
      "Best yet: 236\n",
      "New solution\n",
      "function cost: 153\n",
      "child voicing cost: 77\n",
      "Best yet: 230\n",
      "New solution\n",
      "function cost: 150\n",
      "child voicing cost: 79\n",
      "Best yet: 229\n",
      "New solution\n",
      "function cost: 150\n",
      "child voicing cost: 76\n",
      "Best yet: 226\n",
      "New solution\n",
      "function cost: 150\n",
      "child voicing cost: 73\n",
      "Best yet: 223\n",
      "New solution\n",
      "function cost: 138\n",
      "child voicing cost: 75\n",
      "Best yet: 213\n",
      "New solution\n",
      "function cost: 138\n",
      "child voicing cost: 72\n",
      "Best yet: 210\n"
     ]
    },
    {
     "data": {
      "text/plain": [
       "(18, \"T\", Tuple{Int16,Int16}[(52, 1), (52, 1), (59, 5), (68, 3)])"
      ]
     },
     "metadata": {},
     "output_type": "display_data"
    },
    {
     "data": {
      "text/plain": [
       "(6, \"D7/3\", Tuple{Int16,Int16}[(51, 3), (54, 5), (59, 1), (69, 7)])"
      ]
     },
     "metadata": {},
     "output_type": "display_data"
    },
    {
     "data": {
      "text/plain": [
       "(9, \"Ts\", Tuple{Int16,Int16}[(49, 1), (56, 5), (61, 1), (64, 3)])"
      ]
     },
     "metadata": {},
     "output_type": "display_data"
    },
    {
     "data": {
      "text/plain": [
       "(0, \"D/3\", Tuple{Int16,Int16}[(51, 3), (54, 5), (59, 1), (66, 5)])"
      ]
     },
     "metadata": {},
     "output_type": "display_data"
    },
    {
     "data": {
      "text/plain": [
       "(0, \"T\", Tuple{Int16,Int16}[(52, 1), (56, 3), (59, 5), (64, 1)])"
      ]
     },
     "metadata": {},
     "output_type": "display_data"
    },
    {
     "data": {
      "text/plain": [
       "(21, \"D/3\", Tuple{Int16,Int16}[(51, 3), (54, 5), (59, 1), (71, 1)])"
      ]
     },
     "metadata": {},
     "output_type": "display_data"
    },
    {
     "data": {
      "text/plain": [
       "(21, \"T\", Tuple{Int16,Int16}[(52, 1), (56, 3), (64, 1), (71, 5)])"
      ]
     },
     "metadata": {},
     "output_type": "display_data"
    },
    {
     "data": {
      "text/plain": [
       "(15, \"T\", Tuple{Int16,Int16}[(52, 1), (59, 5), (64, 1), (68, 3)])"
      ]
     },
     "metadata": {},
     "output_type": "display_data"
    },
    {
     "data": {
      "text/plain": [
       "(9, \"D7/3\", Tuple{Int16,Int16}[(51, 3), (59, 1), (66, 5), (69, 7)])"
      ]
     },
     "metadata": {},
     "output_type": "display_data"
    },
    {
     "data": {
      "text/plain": [
       "(3, \"T\", Tuple{Int16,Int16}[(52, 1), (59, 5), (64, 1), (68, 3)])"
      ]
     },
     "metadata": {},
     "output_type": "display_data"
    },
    {
     "data": {
      "text/plain": [
       "(6, \"T/3\", Tuple{Int16,Int16}[(56, 3), (59, 5), (64, 1), (71, 5)])"
      ]
     },
     "metadata": {},
     "output_type": "display_data"
    },
    {
     "data": {
      "text/plain": [
       "(9, \"S\", Tuple{Int16,Int16}[(57, 1), (61, 3), (64, 5), (69, 1)])"
      ]
     },
     "metadata": {},
     "output_type": "display_data"
    },
    {
     "data": {
      "text/plain": [
       "(6, \"T/3\", Tuple{Int16,Int16}[(56, 3), (59, 5), (64, 1), (71, 5)])"
      ]
     },
     "metadata": {},
     "output_type": "display_data"
    },
    {
     "data": {
      "text/plain": [
       "(6, \"Ts\", Tuple{Int16,Int16}[(49, 1), (61, 1), (68, 5), (76, 3)])"
      ]
     },
     "metadata": {},
     "output_type": "display_data"
    },
    {
     "data": {
      "text/plain": [
       "(30, \"D\", Tuple{Int16,Int16}[(47, 1), (63, 3), (71, 1), (78, 5)])"
      ]
     },
     "metadata": {},
     "output_type": "display_data"
    },
    {
     "data": {
      "text/plain": [
       "(15, \"D\", Tuple{Int16,Int16}[(59, 1), (63, 3), (71, 1), (78, 5)])"
      ]
     },
     "metadata": {},
     "output_type": "display_data"
    },
    {
     "data": {
      "text/plain": [
       "(0, \"D7/7\", Tuple{Int16,Int16}[(57, 7), (63, 3), (71, 1), (78, 5)])"
      ]
     },
     "metadata": {},
     "output_type": "display_data"
    },
    {
     "data": {
      "text/plain": [
       "(0, \"T/3\", Tuple{Int16,Int16}[(56, 3), (64, 1), (71, 5), (76, 1)])"
      ]
     },
     "metadata": {},
     "output_type": "display_data"
    },
    {
     "data": {
      "text/plain": [
       "(0, \"T\", Tuple{Int16,Int16}[(52, 1), (64, 1), (71, 5), (80, 3)])"
      ]
     },
     "metadata": {},
     "output_type": "display_data"
    },
    {
     "data": {
      "text/plain": [
       "(0, \"T\", Tuple{Int16,Int16}[(52, 1), (64, 1), (68, 3), (71, 5)])"
      ]
     },
     "metadata": {},
     "output_type": "display_data"
    },
    {
     "data": {
      "text/plain": [
       "(6, \"Ts\", Tuple{Int16,Int16}[(49, 1), (64, 3), (68, 5), (73, 1)])"
      ]
     },
     "metadata": {},
     "output_type": "display_data"
    },
    {
     "data": {
      "text/plain": [
       "(15, \"D/3\", Tuple{Int16,Int16}[(51, 3), (54, 5), (66, 5), (71, 1)])"
      ]
     },
     "metadata": {},
     "output_type": "display_data"
    },
    {
     "data": {
      "text/plain": [
       "(6, \"S/3\", Tuple{Int16,Int16}[(49, 3), (57, 1), (64, 5), (76, 5)])"
      ]
     },
     "metadata": {},
     "output_type": "display_data"
    },
    {
     "data": {
      "text/plain": [
       "(15, \"D7\", Tuple{Int16,Int16}[(47, 1), (57, 7), (66, 5), (75, 3)])"
      ]
     },
     "metadata": {},
     "output_type": "display_data"
    },
    {
     "data": {
      "text/plain": [
       "(6, \"Ts\", Tuple{Int16,Int16}[(49, 1), (56, 5), (64, 3), (76, 3)])"
      ]
     },
     "metadata": {},
     "output_type": "display_data"
    },
    {
     "data": {
      "text/plain": [
       "(9, \"D7/3\", Tuple{Int16,Int16}[(51, 3), (57, 7), (66, 5), (71, 1)])"
      ]
     },
     "metadata": {},
     "output_type": "display_data"
    },
    {
     "data": {
      "text/plain": [
       "(6, \"T\", Tuple{Int16,Int16}[(52, 1), (56, 3), (64, 1), (71, 5)])"
      ]
     },
     "metadata": {},
     "output_type": "display_data"
    },
    {
     "data": {
      "text/plain": [
       "(6, \"S/3\", Tuple{Int16,Int16}[(49, 3), (57, 1), (64, 5), (69, 1)])"
      ]
     },
     "metadata": {},
     "output_type": "display_data"
    },
    {
     "data": {
      "text/plain": [
       "(21, \"D64\", Tuple{Int16,Int16}[(47, 1), (59, 1), (64, 4), (68, 6)])"
      ]
     },
     "metadata": {},
     "output_type": "display_data"
    },
    {
     "data": {
      "text/plain": [
       "(18, \"D\", Tuple{Int16,Int16}[(47, 1), (59, 1), (63, 3), (66, 5)])"
      ]
     },
     "metadata": {},
     "output_type": "display_data"
    },
    {
     "data": {
      "text/plain": [
       "(9, \"T\", Tuple{Int16,Int16}[(40, 1), (59, 5), (64, 1), (68, 3)])"
      ]
     },
     "metadata": {},
     "output_type": "display_data"
    },
    {
     "data": {
      "text/plain": [
       "(9, \"T\", Tuple{Int16,Int16}[(40, 1), (59, 5), (64, 1), (68, 3)])"
      ]
     },
     "metadata": {},
     "output_type": "display_data"
    },
    {
     "name": "stdout",
     "output_type": "stream",
     "text": [
      "##: Done. Total checked: 59104, Pruned: 65847, completed: 10, time: 1.3589999675750732, efficiency: 7.358351904778529\n",
      "Results: bestval_func: 138, bestval_voices: 72\n",
      "#Key: 5Scale: Major\n",
      "#Total time for optimisation of piece: 4.665999889373779\n",
      "#Total cost of piece: 432\n",
      "[\"T\", \"D7/3\", \"Ts\", \"D/3\", \"T\", \"D/3\", \"T\", \"T\", \"D7/3\", \"T\", \"T/3\", \"S\", \"T/3\", \"Ts\", \"D\", \"D\", \"D7/7\", \"T/3\", \"T\", \"T\", \"Ts\", \"D/3\", \"S/3\", \"D7\", \"Ts\", \"D7/3\", \"T\", \"S/3\", \"D64\", \"D\", \"T\", \"T\"]\n",
      "../../results/optimizer/pianoroll/SMP-21-chorl-opt.csv\n",
      " End of file \n",
      " \n",
      "Optimising: ../../results/neuralnet/pianoroll/SMP-23-chorl-nn.csv\n",
      "[2 0 0 1 0 0 0 0 1 0 0 0; 0 0 0 1 0 1 0 1 0 0 1 0; 1 0 0 1 0 1 0 0 1 0 0 0; 0 0 1 0 0 1 0 0 0 0 2 0; 0 0 0 2 0 0 0 1 0 0 1 0; 0 0 0 2 0 0 0 1 0 0 0 1; 2 0 0 0 0 0 0 0 1 0 1 0; 1 0 0 0 0 2 0 0 1 0 0 0; 1 0 0 0 0 1 0 0 1 0 1 0; 1 0 0 0 0 2 0 0 1 0 0 0; 1 0 0 0 0 1 0 1 0 0 1 0; 1 0 0 1 0 0 0 1 0 0 1 0; 2 0 0 1 0 0 0 0 0 0 1 0; 1 0 1 0 0 1 0 0 0 0 1 0; 0 0 2 1 0 0 0 0 0 0 1 0; 0 0 1 1 0 1 0 0 0 0 1 0; 0 0 1 1 0 0 0 1 0 0 1 0; 0 0 1 0 0 1 0 0 1 0 1 0; 0 0 1 1 0 0 0 1 0 0 1 0; 1 0 0 0 0 0 0 2 0 0 1 0; 0 0 0 0 0 3 0 0 1 0 0 0; 1 0 0 0 2 0 0 0 1 0 0 0; 2 0 0 0 0 1 0 1 0 0 0 0; 2 0 0 0 0 1 0 0 1 0 0 0; 1 0 0 0 0 1 0 0 2 0 0 0; 1 0 0 1 0 1 0 0 1 0 0 0; 0 0 1 1 0 1 0 0 0 0 1 0; 1 0 1 1 0 0 0 0 0 0 1 0; 0 0 0 1 0 0 0 1 0 0 2 0; 0 0 1 0 0 1 0 0 0 0 2 0; 0 0 0 1 0 0 0 2 0 0 1 0; 0 0 0 1 0 0 0 1 0 0 2 0; 1 0 0 0 0 1 0 0 0 1 1 0]\n",
      "Key Counter is [23 0 11 19 2 22 0 14 13 1 26 1]\n",
      "Key Score is [74; 103; 29; 128; 36; 99; 81; 52; 117; 28; 116; 61]\n",
      "Position Counter for 4 is [19 2 22 0 14 13 1 26 1 23 0 11]\n",
      "Any[[4.0, 83.75, 1.0]]\n",
      "[4, 84, 1]\n",
      "4 D# Major\n",
      "Rhythm map: [\"S\", \"W\", \"S\", \"W\", \"S\", \"C\", \"C\", \"C\", \"S\", \"W\", \"S\", \"W\", \"S\", \"C\", \"C\", \"C\"] size: (16,)\n",
      "Amount of timesteps to optimise: 16\n",
      "Building lookup-table list...\n",
      "Lookup-table built.\n",
      "Initial function score upper bound: 499, voicing score upper bound: 499\n",
      "Starting search...\n",
      "New solution\n",
      "function cost: 192\n",
      "child voicing cost: 78\n",
      "Best yet: 270\n",
      "New solution\n",
      "function cost: 189\n",
      "child voicing cost: 80\n",
      "Best yet: 269\n",
      "New solution\n",
      "function cost: 180\n",
      "child voicing cost: 84\n",
      "Best yet: 264\n",
      "New solution\n",
      "function cost: 180\n",
      "child voicing cost: 83\n",
      "Best yet: 263\n",
      "New solution\n",
      "function cost: 180\n",
      "child voicing cost: 81\n",
      "Best yet: 261\n",
      "New solution\n",
      "function cost: 177\n",
      "child voicing cost: 83\n",
      "Best yet: 260\n",
      "New solution\n",
      "function cost: 180\n",
      "child voicing cost: 78\n",
      "Best yet: 258\n",
      "New solution\n",
      "function cost: 186\n",
      "child voicing cost: 71\n",
      "Best yet: 257\n",
      "New solution\n",
      "function cost: 189\n",
      "child voicing cost: 65\n",
      "Best yet: 254\n",
      "New solution\n",
      "function cost: 171\n",
      "child voicing cost: 81\n",
      "Best yet: 252\n",
      "New solution\n",
      "function cost: 171\n",
      "child voicing cost: 76\n",
      "Best yet: 247\n",
      "Iterations done: 10000\n",
      "Nodes in active set: 232\n",
      "Lowest depth: 5 current depth: 13\n",
      "Iterations done: 20000\n",
      "Nodes in active set: 209\n",
      "Lowest depth: 5 current depth: 11\n",
      "New solution\n",
      "function cost: 168\n",
      "child voicing cost: 74\n",
      "Best yet: 242\n",
      "New solution\n",
      "function cost: 159\n",
      "child voicing cost: 81\n",
      "Best yet: 240\n",
      "New solution\n",
      "function cost: 156\n",
      "child voicing cost: 80\n",
      "Best yet: 236\n",
      "New solution\n",
      "function cost: 159\n",
      "child voicing cost: 72\n",
      "Best yet: 231\n",
      "New solution\n",
      "function cost: 147\n",
      "child voicing cost: 79\n",
      "Best yet: 226\n",
      "New solution\n",
      "function cost: 132\n",
      "child voicing cost: 92\n",
      "Best yet: 224\n",
      "##: Done. Total checked: 3963262, Pruned: 4288420, completed: 17, time: 76.99300003051758, efficiency: 0.22079929335474316\n",
      "Results: bestval_func: 132, bestval_voices: 92\n",
      "[2 0 0 1 0 0 0 0 1 0 0 0; 0 0 0 1 0 1 0 1 0 0 1 0; 1 0 0 1 0 1 0 0 1 0 0 0; 0 0 1 0 0 1 0 0 0 0 2 0; 0 0 0 2 0 0 0 1 0 0 1 0; 0 0 0 2 0 0 0 1 0 0 0 1; 2 0 0 0 0 0 0 0 1 0 1 0; 1 0 0 0 0 2 0 0 1 0 0 0; 1 0 0 0 0 1 0 0 1 0 1 0; 1 0 0 0 0 2 0 0 1 0 0 0; 1 0 0 0 0 1 0 1 0 0 1 0; 1 0 0 1 0 0 0 1 0 0 1 0; 2 0 0 1 0 0 0 0 0 0 1 0; 1 0 1 0 0 1 0 0 0 0 1 0; 0 0 2 1 0 0 0 0 0 0 1 0; 0 0 1 1 0 1 0 0 0 0 1 0; 0 0 1 1 0 0 0 1 0 0 1 0; 0 0 1 0 0 1 0 0 1 0 1 0; 0 0 1 1 0 0 0 1 0 0 1 0; 1 0 0 0 0 0 0 2 0 0 1 0; 0 0 0 0 0 3 0 0 1 0 0 0; 1 0 0 0 2 0 0 0 1 0 0 0; 2 0 0 0 0 1 0 1 0 0 0 0; 2 0 0 0 0 1 0 0 1 0 0 0; 1 0 0 0 0 1 0 0 2 0 0 0; 1 0 0 1 0 1 0 0 1 0 0 0; 0 0 1 1 0 1 0 0 0 0 1 0; 1 0 1 1 0 0 0 0 0 0 1 0; 0 0 0 1 0 0 0 1 0 0 2 0; 0 0 1 0 0 1 0 0 0 0 2 0; 0 0 0 1 0 0 0 2 0 0 1 0; 0 0 0 1 0 0 0 1 0 0 2 0; 1 0 0 0 0 1 0 0 0 1 1 0]\n",
      "Key Counter is [23 0 11 19 2 22 0 14 13 1 26 1]\n",
      "Key Score is [74; 103; 29; 128; 36; 99; 81; 52; 117; 28; 116; 61]\n",
      "Position Counter for 4 is [19 2 22 0 14 13 1 26 1 23 0 11]\n",
      "Any[[4.0, 83.75, 1.0]]\n",
      "[4, 84, 1]\n",
      "4 D# Major\n",
      "Rhythm map: [\"W\", \"S\", \"W\", \"S\", \"W\", \"S\", \"W\", \"S\", \"W\", \"S\", \"W\", \"S\", \"W\", \"A\", \"A\", \"A\", \"A\"] size: (17,)\n",
      "Amount of timesteps to optimise: 17\n",
      "Building lookup-table list...\n",
      "Lookup-table built.\n",
      "Initial function score upper bound: 499, voicing score upper bound: 499\n",
      "Starting search...\n",
      "New solution\n",
      "function cost: 177\n",
      "child voicing cost: 91\n",
      "Best yet: 268\n",
      "New solution\n",
      "function cost: 177\n",
      "child voicing cost: 88\n",
      "Best yet: 265\n",
      "New solution\n",
      "function cost: 177\n",
      "child voicing cost: 85\n",
      "Best yet: 262\n",
      "New solution\n",
      "function cost: 177\n",
      "child voicing cost: 84\n",
      "Best yet: 261\n",
      "New solution\n",
      "function cost: 180\n",
      "child voicing cost: 77\n",
      "Best yet: 257\n",
      "New solution\n",
      "function cost: 180\n",
      "child voicing cost: 74\n",
      "Best yet: 254\n",
      "New solution\n",
      "function cost: 180\n",
      "child voicing cost: 72\n",
      "Best yet: 252\n",
      "New solution\n",
      "function cost: 180\n",
      "child voicing cost: 69\n",
      "Best yet: 249\n",
      "New solution\n",
      "function cost: 180\n",
      "child voicing cost: 67\n",
      "Best yet: 247\n",
      "New solution\n",
      "function cost: 180\n",
      "child voicing cost: 64\n",
      "Best yet: 244\n",
      "New solution\n",
      "function cost: 150\n",
      "child voicing cost: 83\n",
      "Best yet: 233\n",
      "New solution\n",
      "function cost: 150\n",
      "child voicing cost: 80\n",
      "Best yet: 230\n",
      "New solution\n",
      "function cost: 147\n",
      "child voicing cost: 82\n",
      "Best yet: 229\n",
      "New solution\n",
      "function cost: 144\n",
      "child voicing cost: 83\n",
      "Best yet: 227\n",
      "New solution\n",
      "function cost: 153\n",
      "child voicing cost: 69\n",
      "Best yet: 222\n",
      "New solution\n",
      "function cost: 153\n",
      "child voicing cost: 68\n",
      "Best yet: 221\n"
     ]
    },
    {
     "data": {
      "text/plain": [
       "(18, \"T\", Tuple{Int16,Int16}[(51, 1), (63, 1), (67, 3), (70, 5)])"
      ]
     },
     "metadata": {},
     "output_type": "display_data"
    },
    {
     "data": {
      "text/plain": [
       "(6, \"T\", Tuple{Int16,Int16}[(51, 1), (58, 5), (67, 3), (75, 1)])"
      ]
     },
     "metadata": {},
     "output_type": "display_data"
    },
    {
     "data": {
      "text/plain": [
       "(0, \"S65\", Tuple{Int16,Int16}[(44, 1), (60, 3), (65, 6), (75, 5)])"
      ]
     },
     "metadata": {},
     "output_type": "display_data"
    },
    {
     "data": {
      "text/plain": [
       "(0, \"D\", Tuple{Int16,Int16}[(46, 1), (58, 1), (65, 5), (74, 3)])"
      ]
     },
     "metadata": {},
     "output_type": "display_data"
    },
    {
     "data": {
      "text/plain": [
       "(15, \"D/3\", Tuple{Int16,Int16}[(50, 3), (58, 1), (65, 5), (77, 5)])"
      ]
     },
     "metadata": {},
     "output_type": "display_data"
    },
    {
     "data": {
      "text/plain": [
       "(3, \"T\", Tuple{Int16,Int16}[(51, 1), (58, 5), (67, 3), (75, 1)])"
      ]
     },
     "metadata": {},
     "output_type": "display_data"
    },
    {
     "data": {
      "text/plain": [
       "(15, \"S\", Tuple{Int16,Int16}[(44, 1), (60, 3), (68, 1), (75, 5)])"
      ]
     },
     "metadata": {},
     "output_type": "display_data"
    },
    {
     "data": {
      "text/plain": [
       "(15, \"S\", Tuple{Int16,Int16}[(44, 1), (60, 3), (63, 5), (68, 1)])"
      ]
     },
     "metadata": {},
     "output_type": "display_data"
    },
    {
     "data": {
      "text/plain": [
       "(6, \"Ss\", Tuple{Int16,Int16}[(41, 1), (56, 3), (65, 1), (72, 5)])"
      ]
     },
     "metadata": {},
     "output_type": "display_data"
    },
    {
     "data": {
      "text/plain": [
       "(0, \"Ss\", Tuple{Int16,Int16}[(41, 1), (56, 3), (68, 3), (72, 5)])"
      ]
     },
     "metadata": {},
     "output_type": "display_data"
    },
    {
     "data": {
      "text/plain": [
       "(12, \"T/3\", Tuple{Int16,Int16}[(43, 3), (51, 1), (58, 5), (70, 5)])"
      ]
     },
     "metadata": {},
     "output_type": "display_data"
    },
    {
     "data": {
      "text/plain": [
       "(9, \"S\", Tuple{Int16,Int16}[(44, 1), (51, 5), (60, 3), (68, 1)])"
      ]
     },
     "metadata": {},
     "output_type": "display_data"
    },
    {
     "data": {
      "text/plain": [
       "(18, \"S/3\", Tuple{Int16,Int16}[(48, 3), (51, 5), (56, 1), (68, 1)])"
      ]
     },
     "metadata": {},
     "output_type": "display_data"
    },
    {
     "data": {
      "text/plain": [
       "(6, \"D/3\", Tuple{Int16,Int16}[(50, 3), (53, 5), (58, 1), (65, 5)])"
      ]
     },
     "metadata": {},
     "output_type": "display_data"
    },
    {
     "data": {
      "text/plain": [
       "(18, \"T\", Tuple{Int16,Int16}[(51, 1), (55, 3), (58, 5), (63, 1)])"
      ]
     },
     "metadata": {},
     "output_type": "display_data"
    },
    {
     "data": {
      "text/plain": [
       "(9, \"T\", Tuple{Int16,Int16}[(51, 1), (55, 3), (63, 1), (70, 5)])"
      ]
     },
     "metadata": {},
     "output_type": "display_data"
    },
    {
     "data": {
      "text/plain": [
       "(3, \"T/3\", Tuple{Int16,Int16}[(55, 3), (58, 5), (63, 1), (70, 5)])"
      ]
     },
     "metadata": {},
     "output_type": "display_data"
    },
    {
     "data": {
      "text/plain": [
       "(0, \"D7/5\", Tuple{Int16,Int16}[(53, 5), (58, 1), (62, 3), (68, 7)])"
      ]
     },
     "metadata": {},
     "output_type": "display_data"
    },
    {
     "data": {
      "text/plain": [
       "(3, \"T\", Tuple{Int16,Int16}[(51, 1), (58, 5), (63, 1), (67, 3)])"
      ]
     },
     "metadata": {},
     "output_type": "display_data"
    },
    {
     "data": {
      "text/plain": [
       "(15, \"D7/3\", Tuple{Int16,Int16}[(50, 3), (58, 1), (65, 5), (68, 7)])"
      ]
     },
     "metadata": {},
     "output_type": "display_data"
    },
    {
     "data": {
      "text/plain": [
       "(30, \"Ts\", Tuple{Int16,Int16}[(48, 1), (63, 3), (67, 5), (75, 3)])"
      ]
     },
     "metadata": {},
     "output_type": "display_data"
    },
    {
     "data": {
      "text/plain": [
       "(6, \"S/3\", Tuple{Int16,Int16}[(48, 3), (63, 5), (68, 1), (75, 5)])"
      ]
     },
     "metadata": {},
     "output_type": "display_data"
    },
    {
     "data": {
      "text/plain": [
       "(15, \"D7\", Tuple{Int16,Int16}[(46, 1), (62, 3), (68, 7), (77, 5)])"
      ]
     },
     "metadata": {},
     "output_type": "display_data"
    },
    {
     "data": {
      "text/plain": [
       "(18, \"Ts\", Tuple{Int16,Int16}[(48, 1), (63, 3), (67, 5), (72, 1)])"
      ]
     },
     "metadata": {},
     "output_type": "display_data"
    },
    {
     "data": {
      "text/plain": [
       "(6, \"D7-1\", Tuple{Int16,Int16}[(53, 5), (56, 7), (65, 5), (74, 3)])"
      ]
     },
     "metadata": {},
     "output_type": "display_data"
    },
    {
     "data": {
      "text/plain": [
       "(15, \"T\", Tuple{Int16,Int16}[(51, 1), (58, 5), (67, 3), (75, 1)])"
      ]
     },
     "metadata": {},
     "output_type": "display_data"
    },
    {
     "data": {
      "text/plain": [
       "(6, \"D/3\", Tuple{Int16,Int16}[(50, 3), (58, 1), (70, 1), (77, 5)])"
      ]
     },
     "metadata": {},
     "output_type": "display_data"
    },
    {
     "data": {
      "text/plain": [
       "(9, \"S/3\", Tuple{Int16,Int16}[(48, 3), (63, 5), (68, 1), (80, 1)])"
      ]
     },
     "metadata": {},
     "output_type": "display_data"
    },
    {
     "data": {
      "text/plain": [
       "(0, \"D64\", Tuple{Int16,Int16}[(46, 1), (63, 4), (70, 1), (79, 6)])"
      ]
     },
     "metadata": {},
     "output_type": "display_data"
    },
    {
     "data": {
      "text/plain": [
       "(0, \"D\", Tuple{Int16,Int16}[(46, 1), (62, 3), (70, 1), (77, 5)])"
      ]
     },
     "metadata": {},
     "output_type": "display_data"
    },
    {
     "data": {
      "text/plain": [
       "(12, \"T\", Tuple{Int16,Int16}[(51, 1), (63, 1), (70, 5), (79, 3)])"
      ]
     },
     "metadata": {},
     "output_type": "display_data"
    },
    {
     "data": {
      "text/plain": [
       "(12, \"T\", Tuple{Int16,Int16}[(51, 1), (63, 1), (70, 5), (79, 3)])"
      ]
     },
     "metadata": {},
     "output_type": "display_data"
    },
    {
     "name": "stdout",
     "output_type": "stream",
     "text": [
      "##: Done. Total checked: 126534, Pruned: 140251, completed: 16, time: 2.510999917984009, efficiency: 6.371963569336084\n",
      "Results: bestval_func: 153, bestval_voices: 68\n",
      "#Key: 4Scale: Major\n",
      "#Total time for optimisation of piece: 80.86199998855591\n",
      "#Total cost of piece: 445\n",
      "[\"T\", \"T\", \"S65\", \"D\", \"D/3\", \"T\", \"S\", \"S\", \"Ss\", \"Ss\", \"T/3\", \"S\", \"S/3\", \"D/3\", \"T\", \"T\", \"T/3\", \"D7/5\", \"T\", \"D7/3\", \"Ts\", \"S/3\", \"D7\", \"Ts\", \"D7-1\", \"T\", \"D/3\", \"S/3\", \"D64\", \"D\", \"T\", \"T\"]\n",
      "../../results/optimizer/pianoroll/SMP-23-chorl-opt.csv\n",
      " End of file \n",
      " \n",
      "Optimising: ../../results/neuralnet/pianoroll/SMP-38-chor-nn.csv\n",
      "[1 0 0 0 0 2 0 0 0 1 0 0; 0 0 1 0 0 1 0 0 0 1 1 0; 0 0 1 0 0 1 0 0 1 0 0 0; 0 0 1 1 0 0 0 0 0 0 2 0; 1 0 0 1 0 1 0 0 0 1 0 0; 0 0 1 0 0 0 0 1 0 0 2 0; 1 0 1 0 0 1 0 0 0 0 1 0; 0 0 1 0 0 1 0 0 0 0 2 0; 1 0 0 0 0 1 0 1 0 0 1 0; 0 0 1 0 0 2 0 0 0 0 0 1; 2 0 0 1 0 0 0 1 0 0 0 0; 0 0 1 0 0 1 0 1 0 0 0 1; 0 0 0 0 0 0 0 2 0 0 2 0; 1 0 0 0 0 0 0 1 0 0 2 0; 1 0 0 2 0 0 0 0 0 1 0 0; 1 0 1 0 0 1 0 0 0 1 0 0; 0 0 1 0 0 1 1 0 0 0 1 0; 1 0 0 0 0 1 0 1 0 0 1 0; 0 0 1 0 0 2 0 0 0 1 0 0; 1 0 1 0 0 1 0 0 0 0 1 0; 0 0 0 0 0 0 0 1 0 0 3 0; 0 0 2 0 0 1 0 0 0 0 1 0; 1 0 1 0 0 1 0 1 0 0 0 0; 1 0 0 1 0 1 0 1 0 0 0 0; 2 0 1 0 0 0 0 1 0 0 0 0; 0 0 1 0 0 3 0 0 0 0 0 0; 1 0 0 0 0 2 0 0 0 1 0 0; 1 0 1 1 0 0 0 0 0 0 1 0; 1 0 1 0 0 0 0 0 0 1 1 0; 1 0 1 0 0 0 0 1 0 0 1 0; 1 0 1 0 0 0 1 0 0 1 0 0; 1 0 1 0 0 0 0 1 0 0 1 0; 1 0 1 0 0 0 0 1 0 0 1 0]\n",
      "Key Counter is [22 0 23 7 0 25 2 15 1 9 25 2]\n",
      "Key Score is [96; 82; 51; 118; 21; 119; 62; 73; 95; 37; 126; 37]\n",
      "Position Counter for 11 is [25 2 22 0 23 7 0 25 2 15 1 9]\n",
      "Any[[11.0, 81.0, 1.0]]\n",
      "[11, 81, 1]\n",
      "11 A# Major\n",
      "Rhythm map: [\"S\", \"W\", \"S\", \"W\", \"S\", \"C\", \"C\", \"C\", \"S\", \"W\", \"S\", \"W\", \"S\", \"C\", \"C\", \"C\"] size: (16,)\n",
      "Amount of timesteps to optimise: 16\n",
      "Building lookup-table list...\n",
      "Lookup-table built.\n",
      "Initial function score upper bound: 499, voicing score upper bound: 499\n",
      "Starting search...\n",
      "New solution\n",
      "function cost: 153\n",
      "child voicing cost: 72\n",
      "Best yet: 225\n",
      "New solution\n",
      "function cost: 144\n",
      "child voicing cost: 76\n",
      "Best yet: 220\n",
      "New solution\n",
      "function cost: 144\n",
      "child voicing cost: 75\n",
      "Best yet: 219\n",
      "New solution\n",
      "function cost: 144\n",
      "child voicing cost: 73\n",
      "Best yet: 217\n",
      "New solution\n",
      "function cost: 141\n",
      "child voicing cost: 69\n",
      "Best yet: 210\n",
      "New solution\n",
      "function cost: 135\n",
      "child voicing cost: 70\n",
      "Best yet: 205\n",
      "New solution\n",
      "function cost: 135\n",
      "child voicing cost: 69\n",
      "Best yet: 204\n",
      "##: Done. Total checked: 99158, Pruned: 114485, completed: 7, time: 2.068999767303467, efficiency: 3.3832773258950724\n",
      "Results: bestval_func: 135, bestval_voices: 69\n",
      "[1 0 0 0 0 2 0 0 0 1 0 0; 0 0 1 0 0 1 0 0 0 1 1 0; 0 0 1 0 0 1 0 0 1 0 0 0; 0 0 1 1 0 0 0 0 0 0 2 0; 1 0 0 1 0 1 0 0 0 1 0 0; 0 0 1 0 0 0 0 1 0 0 2 0; 1 0 1 0 0 1 0 0 0 0 1 0; 0 0 1 0 0 1 0 0 0 0 2 0; 1 0 0 0 0 1 0 1 0 0 1 0; 0 0 1 0 0 2 0 0 0 0 0 1; 2 0 0 1 0 0 0 1 0 0 0 0; 0 0 1 0 0 1 0 1 0 0 0 1; 0 0 0 0 0 0 0 2 0 0 2 0; 1 0 0 0 0 0 0 1 0 0 2 0; 1 0 0 2 0 0 0 0 0 1 0 0; 1 0 1 0 0 1 0 0 0 1 0 0; 0 0 1 0 0 1 1 0 0 0 1 0; 1 0 0 0 0 1 0 1 0 0 1 0; 0 0 1 0 0 2 0 0 0 1 0 0; 1 0 1 0 0 1 0 0 0 0 1 0; 0 0 0 0 0 0 0 1 0 0 3 0; 0 0 2 0 0 1 0 0 0 0 1 0; 1 0 1 0 0 1 0 1 0 0 0 0; 1 0 0 1 0 1 0 1 0 0 0 0; 2 0 1 0 0 0 0 1 0 0 0 0; 0 0 1 0 0 3 0 0 0 0 0 0; 1 0 0 0 0 2 0 0 0 1 0 0; 1 0 1 1 0 0 0 0 0 0 1 0; 1 0 1 0 0 0 0 0 0 1 1 0; 1 0 1 0 0 0 0 1 0 0 1 0; 1 0 1 0 0 0 1 0 0 1 0 0; 1 0 1 0 0 0 0 1 0 0 1 0; 1 0 1 0 0 0 0 1 0 0 1 0]\n",
      "Key Counter is [22 0 23 7 0 25 2 15 1 9 25 2]\n",
      "Key Score is [96; 82; 51; 118; 21; 119; 62; 73; 95; 37; 126; 37]\n",
      "Position Counter for 11 is [25 2 22 0 23 7 0 25 2 15 1 9]\n",
      "Any[[11.0, 81.0, 1.0]]\n",
      "[11, 81, 1]\n",
      "11 A# Major\n",
      "Rhythm map: [\"W\", \"S\", \"W\", \"S\", \"W\", \"S\", \"W\", \"S\", \"W\", \"S\", \"W\", \"S\", \"W\", \"A\", \"A\", \"A\", \"A\"] size: (17,)\n",
      "Amount of timesteps to optimise: 17\n",
      "Building lookup-table list...\n",
      "Lookup-table built.\n",
      "Initial function score upper bound: 499, voicing score upper bound: 499\n",
      "Starting search...\n",
      "New solution\n",
      "function cost: 192\n",
      "child voicing cost: 96\n",
      "Best yet: 288\n",
      "New solution\n",
      "function cost: 192\n",
      "child voicing cost: 95\n",
      "Best yet: 287\n",
      "New solution\n",
      "function cost: 192\n",
      "child voicing cost: 93\n",
      "Best yet: 285\n",
      "New solution\n",
      "function cost: 192\n",
      "child voicing cost: 92\n",
      "Best yet: 284\n",
      "New solution\n",
      "function cost: 201\n",
      "child voicing cost: 80\n",
      "Best yet: 281\n",
      "New solution\n",
      "function cost: 195\n",
      "child voicing cost: 84\n",
      "Best yet: 279\n",
      "New solution\n",
      "function cost: 189\n",
      "child voicing cost: 89\n",
      "Best yet: 278\n",
      "New solution\n",
      "function cost: 183\n",
      "child voicing cost: 82\n",
      "Best yet: 265\n",
      "New solution\n",
      "function cost: 183\n",
      "child voicing cost: 79\n",
      "Best yet: 262\n",
      "New solution\n",
      "function cost: 183\n",
      "child voicing cost: 74\n",
      "Best yet: 257\n",
      "New solution\n",
      "function cost: 183\n",
      "child voicing cost: 73\n",
      "Best yet: 256\n",
      "New solution\n",
      "function cost: 186\n",
      "child voicing cost: 68\n",
      "Best yet: 254\n",
      "New solution\n",
      "function cost: 186\n",
      "child voicing cost: 63\n",
      "Best yet: 249\n",
      "New solution\n",
      "function cost: 186\n",
      "child voicing cost: 62\n",
      "Best yet: 248\n",
      "New solution\n",
      "function cost: 156\n",
      "child voicing cost: 91\n",
      "Best yet: 247\n",
      "New solution\n",
      "function cost: 162\n",
      "child voicing cost: 84\n",
      "Best yet: 246\n",
      "New solution\n",
      "function cost: 162\n",
      "child voicing cost: 79\n",
      "Best yet: 241\n",
      "New solution\n",
      "function cost: 162\n",
      "child voicing cost: 78\n",
      "Best yet: 240\n",
      "New solution\n",
      "function cost: 174\n",
      "child voicing cost: 64\n",
      "Best yet: 238\n",
      "New solution\n",
      "function cost: 174\n",
      "child voicing cost: 63\n",
      "Best yet: 237\n"
     ]
    },
    {
     "data": {
      "text/plain": [
       "(18, \"T\", Tuple{Int16,Int16}[(58, 1), (58, 1), (65, 5), (74, 3)])"
      ]
     },
     "metadata": {},
     "output_type": "display_data"
    },
    {
     "data": {
      "text/plain": [
       "(3, \"T\", Tuple{Int16,Int16}[(58, 1), (62, 3), (65, 5), (70, 1)])"
      ]
     },
     "metadata": {},
     "output_type": "display_data"
    },
    {
     "data": {
      "text/plain": [
       "(6, \"D7/3\", Tuple{Int16,Int16}[(57, 3), (63, 7), (65, 1), (72, 5)])"
      ]
     },
     "metadata": {},
     "output_type": "display_data"
    },
    {
     "data": {
      "text/plain": [
       "(6, \"T\", Tuple{Int16,Int16}[(58, 1), (62, 3), (65, 5), (70, 1)])"
      ]
     },
     "metadata": {},
     "output_type": "display_data"
    },
    {
     "data": {
      "text/plain": [
       "(0, \"D7\", Tuple{Int16,Int16}[(53, 1), (60, 5), (69, 3), (75, 7)])"
      ]
     },
     "metadata": {},
     "output_type": "display_data"
    },
    {
     "data": {
      "text/plain": [
       "(0, \"Ts\", Tuple{Int16,Int16}[(55, 1), (58, 3), (70, 3), (74, 5)])"
      ]
     },
     "metadata": {},
     "output_type": "display_data"
    },
    {
     "data": {
      "text/plain": [
       "(12, \"D\", Tuple{Int16,Int16}[(53, 1), (60, 5), (69, 3), (77, 1)])"
      ]
     },
     "metadata": {},
     "output_type": "display_data"
    },
    {
     "data": {
      "text/plain": [
       "(18, \"D\", Tuple{Int16,Int16}[(41, 1), (60, 5), (69, 3), (77, 1)])"
      ]
     },
     "metadata": {},
     "output_type": "display_data"
    },
    {
     "data": {
      "text/plain": [
       "(12, \"S/3\", Tuple{Int16,Int16}[(43, 3), (58, 5), (70, 5), (75, 1)])"
      ]
     },
     "metadata": {},
     "output_type": "display_data"
    },
    {
     "data": {
      "text/plain": [
       "(18, \"T\", Tuple{Int16,Int16}[(46, 1), (65, 5), (70, 1), (74, 3)])"
      ]
     },
     "metadata": {},
     "output_type": "display_data"
    },
    {
     "data": {
      "text/plain": [
       "(6, \"D7-1\", Tuple{Int16,Int16}[(48, 5), (63, 7), (69, 3), (72, 5)])"
      ]
     },
     "metadata": {},
     "output_type": "display_data"
    },
    {
     "data": {
      "text/plain": [
       "(12, \"D7\", Tuple{Int16,Int16}[(53, 1), (63, 7), (69, 3), (72, 5)])"
      ]
     },
     "metadata": {},
     "output_type": "display_data"
    },
    {
     "data": {
      "text/plain": [
       "(0, \"Ts\", Tuple{Int16,Int16}[(55, 1), (62, 5), (70, 3), (70, 3)])"
      ]
     },
     "metadata": {},
     "output_type": "display_data"
    },
    {
     "data": {
      "text/plain": [
       "(15, \"D/3\", Tuple{Int16,Int16}[(57, 3), (60, 5), (72, 5), (77, 1)])"
      ]
     },
     "metadata": {},
     "output_type": "display_data"
    },
    {
     "data": {
      "text/plain": [
       "(18, \"T\", Tuple{Int16,Int16}[(58, 1), (62, 3), (70, 1), (77, 5)])"
      ]
     },
     "metadata": {},
     "output_type": "display_data"
    },
    {
     "data": {
      "text/plain": [
       "(9, \"T\", Tuple{Int16,Int16}[(58, 1), (65, 5), (70, 1), (74, 3)])"
      ]
     },
     "metadata": {},
     "output_type": "display_data"
    },
    {
     "data": {
      "text/plain": [
       "(3, \"D64\", Tuple{Int16,Int16}[(53, 1), (65, 1), (70, 4), (74, 6)])"
      ]
     },
     "metadata": {},
     "output_type": "display_data"
    },
    {
     "data": {
      "text/plain": [
       "(9, \"D\", Tuple{Int16,Int16}[(53, 1), (65, 1), (69, 3), (72, 5)])"
      ]
     },
     "metadata": {},
     "output_type": "display_data"
    },
    {
     "data": {
      "text/plain": [
       "(3, \"D7-5\", Tuple{Int16,Int16}[(53, 1), (63, 7), (69, 3), (77, 1)])"
      ]
     },
     "metadata": {},
     "output_type": "display_data"
    },
    {
     "data": {
      "text/plain": [
       "(6, \"T\", Tuple{Int16,Int16}[(46, 1), (62, 3), (70, 1), (77, 5)])"
      ]
     },
     "metadata": {},
     "output_type": "display_data"
    },
    {
     "data": {
      "text/plain": [
       "(21, \"S65\", Tuple{Int16,Int16}[(51, 1), (60, 6), (70, 5), (79, 3)])"
      ]
     },
     "metadata": {},
     "output_type": "display_data"
    },
    {
     "data": {
      "text/plain": [
       "(9, \"T/5\", Tuple{Int16,Int16}[(53, 5), (58, 1), (70, 1), (74, 3)])"
      ]
     },
     "metadata": {},
     "output_type": "display_data"
    },
    {
     "data": {
      "text/plain": [
       "(15, \"S/3\", Tuple{Int16,Int16}[(55, 3), (58, 5), (70, 5), (75, 1)])"
      ]
     },
     "metadata": {},
     "output_type": "display_data"
    },
    {
     "data": {
      "text/plain": [
       "(6, \"D7/3\", Tuple{Int16,Int16}[(57, 3), (60, 5), (65, 1), (75, 7)])"
      ]
     },
     "metadata": {},
     "output_type": "display_data"
    },
    {
     "data": {
      "text/plain": [
       "(12, \"Ts\", Tuple{Int16,Int16}[(55, 1), (62, 5), (67, 1), (70, 3)])"
      ]
     },
     "metadata": {},
     "output_type": "display_data"
    },
    {
     "data": {
      "text/plain": [
       "(18, \"D\", Tuple{Int16,Int16}[(53, 1), (65, 1), (69, 3), (72, 5)])"
      ]
     },
     "metadata": {},
     "output_type": "display_data"
    },
    {
     "data": {
      "text/plain": [
       "(6, \"D7/7\", Tuple{Int16,Int16}[(51, 7), (65, 1), (69, 3), (72, 5)])"
      ]
     },
     "metadata": {},
     "output_type": "display_data"
    },
    {
     "data": {
      "text/plain": [
       "(12, \"T/3\", Tuple{Int16,Int16}[(50, 3), (65, 5), (70, 1), (77, 5)])"
      ]
     },
     "metadata": {},
     "output_type": "display_data"
    },
    {
     "data": {
      "text/plain": [
       "(18, \"S\", Tuple{Int16,Int16}[(51, 1), (63, 1), (70, 5), (79, 3)])"
      ]
     },
     "metadata": {},
     "output_type": "display_data"
    },
    {
     "data": {
      "text/plain": [
       "(12, \"D7\", Tuple{Int16,Int16}[(53, 1), (63, 7), (69, 3), (72, 5)])"
      ]
     },
     "metadata": {},
     "output_type": "display_data"
    },
    {
     "data": {
      "text/plain": [
       "(12, \"T\", Tuple{Int16,Int16}[(58, 1), (62, 3), (65, 5), (70, 1)])"
      ]
     },
     "metadata": {},
     "output_type": "display_data"
    },
    {
     "data": {
      "text/plain": [
       "(12, \"T\", Tuple{Int16,Int16}[(58, 1), (62, 3), (65, 5), (70, 1)])"
      ]
     },
     "metadata": {},
     "output_type": "display_data"
    },
    {
     "name": "stdout",
     "output_type": "stream",
     "text": [
      "##: Done. Total checked: 114671, Pruned: 125811, completed: 20, time: 2.4040000438690186, efficiency: 8.319467402260038\n",
      "Results: bestval_func: 174, bestval_voices: 63\n",
      "#Key: 11Scale: Major\n",
      "#Total time for optimisation of piece: 5.690999984741211\n",
      "#Total cost of piece: 441\n",
      "[\"T\", \"T\", \"D7/3\", \"T\", \"D7\", \"Ts\", \"D\", \"D\", \"S/3\", \"T\", \"D7-1\", \"D7\", \"Ts\", \"D/3\", \"T\", \"T\", \"D64\", \"D\", \"D7-5\", \"T\", \"S65\", \"T/5\", \"S/3\", \"D7/3\", \"Ts\", \"D\", \"D7/7\", \"T/3\", \"S\", \"D7\", \"T\", \"T\"]\n",
      "../../results/optimizer/pianoroll/SMP-38-chor-opt.csv\n",
      " End of file \n",
      " \n",
      "Optimising: ../../results/neuralnet/pianoroll/SMP-44-chorl-nn.csv\n",
      "[0 0 0 0 0 1 0 1 0 1 1 0; 1 0 0 0 1 0 0 1 0 0 0 0; 1 0 0 0 1 0 0 1 0 0 1 0; 1 0 0 0 0 2 0 0 0 1 0 0; 0 0 0 0 0 0 0 1 0 0 1 0; 1 0 1 0 0 0 0 0 0 1 1 0; 0 0 0 0 0 0 0 2 0 0 2 0; 1 0 1 0 0 1 0 0 0 1 0 0; 1 0 2 0 0 1 0 0 0 0 0 0; 3 0 0 0 0 1 0 0 0 0 0 0; 0 0 1 0 0 0 0 2 0 0 1 0; 1 0 0 0 0 1 0 0 0 1 1 0; 1 0 1 0 0 0 0 0 0 0 2 0; 2 0 0 0 0 0 0 1 0 0 1 0; 0 0 2 0 0 1 0 1 0 0 0 0; 0 0 1 0 0 1 0 2 0 0 0 0; 1 0 0 1 0 1 0 0 0 0 1 0; 1 0 0 0 0 1 0 1 0 0 1 0; 3 0 0 0 0 0 0 0 0 1 0 0; 1 0 0 0 0 0 0 0 0 1 2 0; 1 0 1 0 0 1 0 0 0 1 0 0; 1 0 0 0 1 0 0 1 0 0 1 0; 1 0 0 0 0 2 0 0 0 1 0 0; 1 0 0 0 0 2 0 0 0 0 1 0; 0 0 1 0 0 1 0 1 0 0 1 0; 2 0 0 0 0 0 0 1 0 1 0 0; 0 0 2 0 0 2 0 0 0 0 0 0; 0 0 1 0 1 0 0 1 0 0 1 0; 0 0 0 2 0 1 0 1 0 0 0 0; 2 0 0 1 0 0 0 0 0 1 0 0; 0 0 1 0 0 1 1 0 0 0 1 0; 0 0 1 0 0 0 0 2 0 0 1 0; 0 0 2 0 0 0 0 0 0 1 1 0]\n",
      "Key Counter is [27 0 18 4 4 21 1 20 0 12 22 0]\n",
      "Key Score is [102; 75; 55; 112; 21; 124; 48; 82; 94; 35; 124; 31]\n",
      "Position Counter for 6 is [21 1 20 0 12 22 0 27 0 18 4 4]\n",
      "Position Counter for 11 is [22 0 27 0 18 4 4 21 1 20 0 12]\n",
      "Any[[6.0, 86.5, 1.0], [11.0, 80.5, 0.0]]\n",
      "[6, 86, 1]\n",
      "6 F Major\n",
      "Rhythm map: [\"S\", \"W\", \"S\", \"W\", \"S\", \"C\", \"C\", \"C\", \"S\", \"W\", \"S\", \"W\", \"S\", \"C\", \"C\", \"C\"] size: (16,)\n",
      "Amount of timesteps to optimise: 16\n",
      "Building lookup-table list...\n",
      "Lookup-table built.\n",
      "Initial function score upper bound: 499, voicing score upper bound: 499\n",
      "Starting search...\n",
      "New solution\n",
      "function cost: 192\n",
      "child voicing cost: 94\n",
      "Best yet: 286\n",
      "New solution\n",
      "function cost: 171\n",
      "child voicing cost: 110\n",
      "Best yet: 281\n",
      "New solution\n",
      "function cost: 171\n",
      "child voicing cost: 109\n",
      "Best yet: 280\n",
      "New solution\n",
      "function cost: 171\n",
      "child voicing cost: 108\n",
      "Best yet: 279\n",
      "New solution\n",
      "function cost: 171\n",
      "child voicing cost: 100\n",
      "Best yet: 271\n",
      "New solution\n",
      "function cost: 174\n",
      "child voicing cost: 89\n",
      "Best yet: 263\n",
      "New solution\n",
      "function cost: 147\n",
      "child voicing cost: 115\n",
      "Best yet: 262\n",
      "New solution\n",
      "function cost: 147\n",
      "child voicing cost: 114\n",
      "Best yet: 261\n",
      "New solution\n",
      "function cost: 147\n",
      "child voicing cost: 110\n",
      "Best yet: 257\n",
      "New solution\n",
      "function cost: 159\n",
      "child voicing cost: 85\n",
      "Best yet: 244\n",
      "Iterations done: 10000\n",
      "Nodes in active set: 83\n",
      "Lowest depth: 2 current depth: 6\n",
      "New solution\n",
      "function cost: 141\n",
      "child voicing cost: 101\n",
      "Best yet: 242\n",
      "New solution\n",
      "function cost: 141\n",
      "child voicing cost: 100\n",
      "Best yet: 241\n",
      "New solution\n",
      "function cost: 141\n",
      "child voicing cost: 99\n",
      "Best yet: 240\n",
      "New solution\n",
      "function cost: 141\n",
      "child voicing cost: 95\n",
      "Best yet: 236\n",
      "New solution\n",
      "function cost: 147\n",
      "child voicing cost: 81\n",
      "Best yet: 228\n",
      "New solution\n",
      "function cost: 147\n",
      "child voicing cost: 75\n",
      "Best yet: 222\n",
      "##: Done. Total checked: 1054187, Pruned: 1289259, completed: 16, time: 20.74500012397766, efficiency: 0.7712701809775718\n",
      "Results: bestval_func: 147, bestval_voices: 75\n",
      "[0 0 0 0 0 1 0 1 0 1 1 0; 1 0 0 0 1 0 0 1 0 0 0 0; 1 0 0 0 1 0 0 1 0 0 1 0; 1 0 0 0 0 2 0 0 0 1 0 0; 0 0 0 0 0 0 0 1 0 0 1 0; 1 0 1 0 0 0 0 0 0 1 1 0; 0 0 0 0 0 0 0 2 0 0 2 0; 1 0 1 0 0 1 0 0 0 1 0 0; 1 0 2 0 0 1 0 0 0 0 0 0; 3 0 0 0 0 1 0 0 0 0 0 0; 0 0 1 0 0 0 0 2 0 0 1 0; 1 0 0 0 0 1 0 0 0 1 1 0; 1 0 1 0 0 0 0 0 0 0 2 0; 2 0 0 0 0 0 0 1 0 0 1 0; 0 0 2 0 0 1 0 1 0 0 0 0; 0 0 1 0 0 1 0 2 0 0 0 0; 1 0 0 1 0 1 0 0 0 0 1 0; 1 0 0 0 0 1 0 1 0 0 1 0; 3 0 0 0 0 0 0 0 0 1 0 0; 1 0 0 0 0 0 0 0 0 1 2 0; 1 0 1 0 0 1 0 0 0 1 0 0; 1 0 0 0 1 0 0 1 0 0 1 0; 1 0 0 0 0 2 0 0 0 1 0 0; 1 0 0 0 0 2 0 0 0 0 1 0; 0 0 1 0 0 1 0 1 0 0 1 0; 2 0 0 0 0 0 0 1 0 1 0 0; 0 0 2 0 0 2 0 0 0 0 0 0; 0 0 1 0 1 0 0 1 0 0 1 0; 0 0 0 2 0 1 0 1 0 0 0 0; 2 0 0 1 0 0 0 0 0 1 0 0; 0 0 1 0 0 1 1 0 0 0 1 0; 0 0 1 0 0 0 0 2 0 0 1 0; 0 0 2 0 0 0 0 0 0 1 1 0]\n",
      "Key Counter is [27 0 18 4 4 21 1 20 0 12 22 0]\n",
      "Key Score is [102; 75; 55; 112; 21; 124; 48; 82; 94; 35; 124; 31]\n",
      "Position Counter for 6 is [21 1 20 0 12 22 0 27 0 18 4 4]\n",
      "Position Counter for 11 is [22 0 27 0 18 4 4 21 1 20 0 12]\n",
      "Any[[6.0, 86.5, 1.0], [11.0, 80.5, 0.0]]\n",
      "[6, 86, 1]\n",
      "6 F Major\n",
      "Rhythm map: [\"W\", \"S\", \"W\", \"S\", \"W\", \"S\", \"W\", \"S\", \"W\", \"S\", \"W\", \"S\", \"W\", \"A\", \"A\", \"A\", \"A\"] size: (17,)\n",
      "Amount of timesteps to optimise: 17\n",
      "Building lookup-table list...\n",
      "Lookup-table built.\n",
      "Initial function score upper bound: 499, voicing score upper bound: 499\n",
      "Starting search...\n",
      "New solution\n",
      "function cost: 189\n",
      "child voicing cost: 101\n",
      "Best yet: 290\n",
      "New solution\n",
      "function cost: 159\n",
      "child voicing cost: 96\n",
      "Best yet: 255\n",
      "New solution\n",
      "function cost: 165\n",
      "child voicing cost: 89\n",
      "Best yet: 254\n",
      "New solution\n",
      "function cost: 165\n",
      "child voicing cost: 86\n",
      "Best yet: 251\n",
      "New solution\n",
      "function cost: 165\n",
      "child voicing cost: 85\n",
      "Best yet: 250\n",
      "New solution\n",
      "function cost: 150\n",
      "child voicing cost: 98\n",
      "Best yet: 248\n",
      "New solution\n",
      "function cost: 159\n",
      "child voicing cost: 88\n",
      "Best yet: 247\n",
      "New solution\n",
      "function cost: 159\n",
      "child voicing cost: 87\n",
      "Best yet: 246\n",
      "New solution\n",
      "function cost: 153\n",
      "child voicing cost: 88\n",
      "Best yet: 241\n",
      "New solution\n",
      "function cost: 159\n",
      "child voicing cost: 81\n",
      "Best yet: 240\n",
      "New solution\n",
      "function cost: 159\n",
      "child voicing cost: 79\n",
      "Best yet: 238\n",
      "New solution\n",
      "function cost: 165\n",
      "child voicing cost: 72\n",
      "Best yet: 237\n",
      "New solution\n",
      "function cost: 165\n",
      "child voicing cost: 71\n",
      "Best yet: 236\n",
      "New solution\n",
      "function cost: 156\n",
      "child voicing cost: 79\n",
      "Best yet: 235\n",
      "New solution\n",
      "function cost: 162\n",
      "child voicing cost: 72\n",
      "Best yet: 234\n",
      "New solution\n",
      "function cost: 153\n",
      "child voicing cost: 80\n",
      "Best yet: 233\n",
      "New solution\n",
      "function cost: 159\n",
      "child voicing cost: 73\n",
      "Best yet: 232\n",
      "New solution\n",
      "function cost: 153\n",
      "child voicing cost: 78\n",
      "Best yet: 231\n",
      "New solution\n",
      "function cost: 159\n",
      "child voicing cost: 71\n",
      "Best yet: 230\n"
     ]
    },
    {
     "data": {
      "text/plain": [
       "(12, \"T\", Tuple{Int16,Int16}[(53, 1), (60, 5), (65, 1), (69, 3)])"
      ]
     },
     "metadata": {},
     "output_type": "display_data"
    },
    {
     "data": {
      "text/plain": [
       "(0, \"D\", Tuple{Int16,Int16}[(48, 1), (60, 1), (64, 3), (67, 5)])"
      ]
     },
     "metadata": {},
     "output_type": "display_data"
    },
    {
     "data": {
      "text/plain": [
       "(0, \"D7/7\", Tuple{Int16,Int16}[(46, 7), (60, 1), (64, 3), (67, 5)])"
      ]
     },
     "metadata": {},
     "output_type": "display_data"
    },
    {
     "data": {
      "text/plain": [
       "(0, \"T/3\", Tuple{Int16,Int16}[(45, 3), (60, 5), (65, 1), (72, 5)])"
      ]
     },
     "metadata": {},
     "output_type": "display_data"
    },
    {
     "data": {
      "text/plain": [
       "(6, \"S\", Tuple{Int16,Int16}[(46, 1), (62, 3), (65, 5), (70, 1)])"
      ]
     },
     "metadata": {},
     "output_type": "display_data"
    },
    {
     "data": {
      "text/plain": [
       "(12, \"D7/3\", Tuple{Int16,Int16}[(52, 3), (60, 1), (67, 5), (70, 7)])"
      ]
     },
     "metadata": {},
     "output_type": "display_data"
    },
    {
     "data": {
      "text/plain": [
       "(21, \"T\", Tuple{Int16,Int16}[(53, 1), (60, 5), (65, 1), (69, 3)])"
      ]
     },
     "metadata": {},
     "output_type": "display_data"
    },
    {
     "data": {
      "text/plain": [
       "(9, \"T\", Tuple{Int16,Int16}[(53, 1), (65, 1), (69, 3), (72, 5)])"
      ]
     },
     "metadata": {},
     "output_type": "display_data"
    },
    {
     "data": {
      "text/plain": [
       "(18, \"S\", Tuple{Int16,Int16}[(46, 1), (65, 5), (70, 1), (74, 3)])"
      ]
     },
     "metadata": {},
     "output_type": "display_data"
    },
    {
     "data": {
      "text/plain": [
       "(3, \"D-5\", Tuple{Int16,Int16}[(48, 1), (60, 1), (64, 3), (72, 1)])"
      ]
     },
     "metadata": {},
     "output_type": "display_data"
    },
    {
     "data": {
      "text/plain": [
       "(12, \"S/3\", Tuple{Int16,Int16}[(50, 3), (53, 5), (65, 5), (70, 1)])"
      ]
     },
     "metadata": {},
     "output_type": "display_data"
    },
    {
     "data": {
      "text/plain": [
       "(6, \"T/5\", Tuple{Int16,Int16}[(48, 5), (53, 1), (60, 5), (69, 3)])"
      ]
     },
     "metadata": {},
     "output_type": "display_data"
    },
    {
     "data": {
      "text/plain": [
       "(15, \"S\", Tuple{Int16,Int16}[(46, 1), (53, 5), (62, 3), (70, 1)])"
      ]
     },
     "metadata": {},
     "output_type": "display_data"
    },
    {
     "data": {
      "text/plain": [
       "(12, \"D7\", Tuple{Int16,Int16}[(48, 1), (52, 3), (58, 7), (67, 5)])"
      ]
     },
     "metadata": {},
     "output_type": "display_data"
    },
    {
     "data": {
      "text/plain": [
       "(21, \"Ts\", Tuple{Int16,Int16}[(50, 1), (53, 3), (57, 5), (65, 3)])"
      ]
     },
     "metadata": {},
     "output_type": "display_data"
    },
    {
     "data": {
      "text/plain": [
       "(12, \"Ts\", Tuple{Int16,Int16}[(50, 1), (53, 3), (57, 5), (62, 1)])"
      ]
     },
     "metadata": {},
     "output_type": "display_data"
    },
    {
     "data": {
      "text/plain": [
       "(9, \"S\", Tuple{Int16,Int16}[(46, 1), (53, 5), (58, 1), (62, 3)])"
      ]
     },
     "metadata": {},
     "output_type": "display_data"
    },
    {
     "data": {
      "text/plain": [
       "(3, \"D7/7\", Tuple{Int16,Int16}[(46, 7), (55, 5), (60, 1), (64, 3)])"
      ]
     },
     "metadata": {},
     "output_type": "display_data"
    },
    {
     "data": {
      "text/plain": [
       "(30, \"T/3\", Tuple{Int16,Int16}[(45, 3), (53, 1), (60, 5), (65, 1)])"
      ]
     },
     "metadata": {},
     "output_type": "display_data"
    },
    {
     "data": {
      "text/plain": [
       "(18, \"S\", Tuple{Int16,Int16}[(46, 1), (58, 1), (62, 3), (65, 5)])"
      ]
     },
     "metadata": {},
     "output_type": "display_data"
    },
    {
     "data": {
      "text/plain": [
       "(6, \"T/3\", Tuple{Int16,Int16}[(45, 3), (60, 5), (65, 1), (72, 5)])"
      ]
     },
     "metadata": {},
     "output_type": "display_data"
    },
    {
     "data": {
      "text/plain": [
       "(0, \"D7/5\", Tuple{Int16,Int16}[(43, 5), (60, 1), (64, 3), (70, 7)])"
      ]
     },
     "metadata": {},
     "output_type": "display_data"
    },
    {
     "data": {
      "text/plain": [
       "(0, \"T\", Tuple{Int16,Int16}[(41, 1), (60, 5), (65, 1), (69, 3)])"
      ]
     },
     "metadata": {},
     "output_type": "display_data"
    },
    {
     "data": {
      "text/plain": [
       "(3, \"T\", Tuple{Int16,Int16}[(41, 1), (57, 3), (65, 1), (72, 5)])"
      ]
     },
     "metadata": {},
     "output_type": "display_data"
    },
    {
     "data": {
      "text/plain": [
       "(0, \"S65\", Tuple{Int16,Int16}[(46, 1), (55, 6), (65, 5), (74, 3)])"
      ]
     },
     "metadata": {},
     "output_type": "display_data"
    },
    {
     "data": {
      "text/plain": [
       "(15, \"D\", Tuple{Int16,Int16}[(48, 1), (55, 5), (64, 3), (72, 1)])"
      ]
     },
     "metadata": {},
     "output_type": "display_data"
    },
    {
     "data": {
      "text/plain": [
       "(0, \"Ts\", Tuple{Int16,Int16}[(50, 1), (53, 3), (65, 3), (69, 5)])"
      ]
     },
     "metadata": {},
     "output_type": "display_data"
    },
    {
     "data": {
      "text/plain": [
       "(9, \"S/3\", Tuple{Int16,Int16}[(50, 3), (53, 5), (65, 5), (70, 1)])"
      ]
     },
     "metadata": {},
     "output_type": "display_data"
    },
    {
     "data": {
      "text/plain": [
       "(24, \"D64\", Tuple{Int16,Int16}[(48, 1), (60, 1), (65, 4), (69, 6)])"
      ]
     },
     "metadata": {},
     "output_type": "display_data"
    },
    {
     "data": {
      "text/plain": [
       "(9, \"D\", Tuple{Int16,Int16}[(48, 1), (60, 1), (64, 3), (67, 5)])"
      ]
     },
     "metadata": {},
     "output_type": "display_data"
    },
    {
     "data": {
      "text/plain": [
       "(12, \"T\", Tuple{Int16,Int16}[(41, 1), (60, 5), (65, 1), (69, 3)])"
      ]
     },
     "metadata": {},
     "output_type": "display_data"
    },
    {
     "data": {
      "text/plain": [
       "(12, \"T\", Tuple{Int16,Int16}[(41, 1), (60, 5), (65, 1), (69, 3)])"
      ]
     },
     "metadata": {},
     "output_type": "display_data"
    },
    {
     "name": "stdout",
     "output_type": "stream",
     "text": [
      "##: Done. Total checked: 122393, Pruned: 138964, completed: 19, time: 2.568000078201294, efficiency: 7.398753668772542\n",
      "Results: bestval_func: 159, bestval_voices: 71\n",
      "#Key: 6Scale: Major\n",
      "#Total time for optimisation of piece: 24.90000009536743\n",
      "#Total cost of piece: 452\n",
      "[\"T\", \"D\", \"D7/7\", \"T/3\", \"S\", \"D7/3\", \"T\", \"T\", \"S\", \"D-5\", \"S/3\", \"T/5\", \"S\", \"D7\", \"Ts\", \"Ts\", \"S\", \"D7/7\", \"T/3\", \"S\", \"T/3\", \"D7/5\", \"T\", \"T\", \"S65\", \"D\", \"Ts\", \"S/3\", \"D64\", \"D\", \"T\", \"T\"]\n",
      "../../results/optimizer/pianoroll/SMP-44-chorl-opt.csv\n",
      " End of file \n",
      " \n",
      "Optimising: ../../results/neuralnet/pianoroll/SMP-48-chorl-nn.csv\n",
      "[0 0 2 0 0 0 1 0 0 0 0 1; 0 0 0 0 1 0 0 0 1 0 0 2; 0 0 0 0 2 0 0 0 1 0 0 1; 0 0 1 0 0 0 1 0 1 0 0 1; 0 0 0 0 2 0 0 0 1 0 0 1; 0 0 0 0 2 0 0 0 1 0 0 1; 0 1 0 0 1 0 0 0 0 2 0 0; 0 1 0 0 0 0 1 0 0 2 0 0; 0 1 1 0 1 0 0 0 1 0 0 0; 0 2 0 0 1 0 1 0 0 0 0 0; 0 0 1 0 0 0 0 0 1 0 0 2; 0 1 0 0 2 0 0 0 1 0 0 0; 0 2 0 0 1 0 0 0 0 1 0 0; 0 0 1 0 0 0 0 0 1 1 0 1; 0 1 0 0 2 0 0 0 0 1 0 0; 0 2 0 0 1 0 0 0 0 1 0 0; 0 0 2 0 0 0 0 0 1 0 0 1; 0 1 0 0 1 0 0 0 0 2 0 0; 0 1 0 0 1 0 1 0 0 1 0 0; 0 0 0 0 2 0 0 0 1 0 0 1; 0 1 0 0 1 0 0 0 0 2 0 0; 0 2 0 0 1 0 0 0 0 1 0 0; 0 0 1 0 1 0 0 0 1 0 0 1; 0 0 1 0 2 0 0 0 0 1 0 0; 0 1 0 0 0 0 2 0 0 1 0 0; 0 0 1 0 1 0 0 0 0 0 0 2; 0 1 0 0 1 0 0 0 0 2 0 0; 0 0 1 0 1 0 0 0 0 2 0 0; 0 0 0 0 1 0 0 0 1 2 0 0; 0 0 0 0 1 0 2 0 0 1 0 0; 0 1 1 0 1 0 0 0 1 0 0 0; 0 0 2 0 0 0 1 0 0 0 0 1; 0 0 1 0 0 0 2 0 0 1 0 0]\n",
      "Key Counter is [0 19 16 0 31 0 12 0 14 24 0 16]\n",
      "Key Score is [87; 45; 118; 30; 116; 71; 61; 99; 33; 132; 40; 92]\n",
      "Position Counter for 10 is [24 0 16 0 19 16 0 31 0 12 0 14]\n",
      "Any[[10.0, 96.75, 1.0]]\n",
      "[10, 97, 1]\n",
      "10 A Major\n",
      "Rhythm map: [\"S\", \"W\", \"S\", \"W\", \"S\", \"C\", \"C\", \"C\", \"S\", \"W\", \"S\", \"W\", \"S\", \"C\", \"C\", \"C\"] size: (16,)\n",
      "Amount of timesteps to optimise: 16\n",
      "Building lookup-table list...\n",
      "Lookup-table built.\n",
      "Initial function score upper bound: 499, voicing score upper bound: 499\n",
      "Starting search...\n",
      "New solution\n",
      "function cost: 129\n",
      "child voicing cost: 112\n",
      "Best yet: 241\n",
      "New solution\n",
      "function cost: 129\n",
      "child voicing cost: 103\n",
      "Best yet: 232\n",
      "New solution\n",
      "function cost: 129\n",
      "child voicing cost: 101\n",
      "Best yet: 230\n",
      "New solution\n",
      "function cost: 138\n",
      "child voicing cost: 91\n",
      "Best yet: 229\n",
      "New solution\n",
      "function cost: 138\n",
      "child voicing cost: 90\n",
      "Best yet: 228\n",
      "New solution\n",
      "function cost: 138\n",
      "child voicing cost: 89\n",
      "Best yet: 227\n",
      "New solution\n",
      "function cost: 123\n",
      "child voicing cost: 96\n",
      "Best yet: 219\n",
      "New solution\n",
      "function cost: 123\n",
      "child voicing cost: 94\n",
      "Best yet: 217\n",
      "New solution\n",
      "function cost: 129\n",
      "child voicing cost: 87\n",
      "Best yet: 216\n",
      "New solution\n",
      "function cost: 129\n",
      "child voicing cost: 85\n",
      "Best yet: 214\n",
      "New solution\n",
      "function cost: 126\n",
      "child voicing cost: 85\n",
      "Best yet: 211\n",
      "New solution\n",
      "function cost: 126\n",
      "child voicing cost: 82\n",
      "Best yet: 208\n",
      "New solution\n",
      "function cost: 117\n",
      "child voicing cost: 90\n",
      "Best yet: 207\n",
      "New solution\n",
      "function cost: 117\n",
      "child voicing cost: 87\n",
      "Best yet: 204\n",
      "New solution\n",
      "function cost: 117\n",
      "child voicing cost: 84\n",
      "Best yet: 201\n",
      "New solution\n",
      "function cost: 117\n",
      "child voicing cost: 82\n",
      "Best yet: 199\n",
      "New solution\n",
      "function cost: 108\n",
      "child voicing cost: 90\n",
      "Best yet: 198\n",
      "New solution\n",
      "function cost: 129\n",
      "child voicing cost: 64\n",
      "Best yet: 193\n",
      "New solution\n",
      "function cost: 102\n",
      "child voicing cost: 90\n",
      "Best yet: 192\n",
      "New solution\n",
      "function cost: 102\n",
      "child voicing cost: 88\n",
      "Best yet: 190\n",
      "New solution\n",
      "function cost: 105\n",
      "child voicing cost: 82\n",
      "Best yet: 187\n",
      "New solution\n",
      "function cost: 105\n",
      "child voicing cost: 80\n",
      "Best yet: 185\n",
      "New solution\n",
      "function cost: 105\n",
      "child voicing cost: 79\n",
      "Best yet: 184\n",
      "New solution\n",
      "function cost: 105\n",
      "child voicing cost: 77\n",
      "Best yet: 182\n",
      "New solution\n",
      "function cost: 105\n",
      "child voicing cost: 75\n",
      "Best yet: 180\n",
      "New solution\n",
      "function cost: 105\n",
      "child voicing cost: 73\n",
      "Best yet: 178\n",
      "##: Done. Total checked: 160538, Pruned: 182341, completed: 26, time: 3.257999897003174, efficiency: 7.980356298941489\n",
      "Results: bestval_func: 105, bestval_voices: 73\n",
      "[0 0 2 0 0 0 1 0 0 0 0 1; 0 0 0 0 1 0 0 0 1 0 0 2; 0 0 0 0 2 0 0 0 1 0 0 1; 0 0 1 0 0 0 1 0 1 0 0 1; 0 0 0 0 2 0 0 0 1 0 0 1; 0 0 0 0 2 0 0 0 1 0 0 1; 0 1 0 0 1 0 0 0 0 2 0 0; 0 1 0 0 0 0 1 0 0 2 0 0; 0 1 1 0 1 0 0 0 1 0 0 0; 0 2 0 0 1 0 1 0 0 0 0 0; 0 0 1 0 0 0 0 0 1 0 0 2; 0 1 0 0 2 0 0 0 1 0 0 0; 0 2 0 0 1 0 0 0 0 1 0 0; 0 0 1 0 0 0 0 0 1 1 0 1; 0 1 0 0 2 0 0 0 0 1 0 0; 0 2 0 0 1 0 0 0 0 1 0 0; 0 0 2 0 0 0 0 0 1 0 0 1; 0 1 0 0 1 0 0 0 0 2 0 0; 0 1 0 0 1 0 1 0 0 1 0 0; 0 0 0 0 2 0 0 0 1 0 0 1; 0 1 0 0 1 0 0 0 0 2 0 0; 0 2 0 0 1 0 0 0 0 1 0 0; 0 0 1 0 1 0 0 0 1 0 0 1; 0 0 1 0 2 0 0 0 0 1 0 0; 0 1 0 0 0 0 2 0 0 1 0 0; 0 0 1 0 1 0 0 0 0 0 0 2; 0 1 0 0 1 0 0 0 0 2 0 0; 0 0 1 0 1 0 0 0 0 2 0 0; 0 0 0 0 1 0 0 0 1 2 0 0; 0 0 0 0 1 0 2 0 0 1 0 0; 0 1 1 0 1 0 0 0 1 0 0 0; 0 0 2 0 0 0 1 0 0 0 0 1; 0 0 1 0 0 0 2 0 0 1 0 0]\n",
      "Key Counter is [0 19 16 0 31 0 12 0 14 24 0 16]\n",
      "Key Score is [87; 45; 118; 30; 116; 71; 61; 99; 33; 132; 40; 92]\n",
      "Position Counter for 10 is [24 0 16 0 19 16 0 31 0 12 0 14]\n",
      "Any[[10.0, 96.75, 1.0]]\n",
      "[10, 97, 1]\n",
      "10 A Major\n",
      "Rhythm map: [\"W\", \"S\", \"W\", \"S\", \"W\", \"S\", \"W\", \"S\", \"W\", \"S\", \"W\", \"S\", \"W\", \"A\", \"A\", \"A\", \"A\"] size: (17,)\n",
      "Amount of timesteps to optimise: 17\n",
      "Building lookup-table list...\n",
      "Lookup-table built.\n",
      "Initial function score upper bound: 499, voicing score upper bound: 499\n",
      "Starting search...\n",
      "New solution\n",
      "function cost: 183\n",
      "child voicing cost: 82\n",
      "Best yet: 265\n",
      "New solution\n",
      "function cost: 183\n",
      "child voicing cost: 79\n",
      "Best yet: 262\n",
      "New solution\n",
      "function cost: 177\n",
      "child voicing cost: 84\n",
      "Best yet: 261\n",
      "New solution\n",
      "function cost: 177\n",
      "child voicing cost: 81\n",
      "Best yet: 258\n",
      "New solution\n",
      "function cost: 177\n",
      "child voicing cost: 77\n",
      "Best yet: 254\n",
      "New solution\n",
      "function cost: 180\n",
      "child voicing cost: 73\n",
      "Best yet: 253\n",
      "New solution\n",
      "function cost: 180\n",
      "child voicing cost: 70\n",
      "Best yet: 250\n",
      "New solution\n",
      "function cost: 165\n",
      "child voicing cost: 82\n",
      "Best yet: 247\n",
      "New solution\n",
      "function cost: 165\n",
      "child voicing cost: 80\n",
      "Best yet: 245\n",
      "New solution\n",
      "function cost: 165\n",
      "child voicing cost: 78\n",
      "Best yet: 243\n",
      "New solution\n",
      "function cost: 165\n",
      "child voicing cost: 75\n",
      "Best yet: 240\n",
      "New solution\n",
      "function cost: 162\n",
      "child voicing cost: 76\n",
      "Best yet: 238\n",
      "New solution\n",
      "function cost: 147\n",
      "child voicing cost: 90\n",
      "Best yet: 237\n",
      "New solution\n",
      "function cost: 147\n",
      "child voicing cost: 87\n",
      "Best yet: 234\n",
      "New solution\n",
      "function cost: 147\n",
      "child voicing cost: 84\n",
      "Best yet: 231\n",
      "New solution\n",
      "function cost: 147\n",
      "child voicing cost: 82\n",
      "Best yet: 229\n",
      "New solution\n",
      "function cost: 147\n",
      "child voicing cost: 80\n",
      "Best yet: 227\n",
      "New solution\n",
      "function cost: 141\n",
      "child voicing cost: 75\n",
      "Best yet: 216\n",
      "New solution\n",
      "function cost: 141\n",
      "child voicing cost: 70\n",
      "Best yet: 211\n",
      "New solution\n",
      "function cost: 141\n",
      "child voicing cost: 67\n",
      "Best yet: 208\n",
      "New solution\n",
      "function cost: 141\n",
      "child voicing cost: 60\n",
      "Best yet: 201\n",
      "New solution\n",
      "function cost: 141\n",
      "child voicing cost: 57\n",
      "Best yet: 198\n",
      "New solution\n",
      "function cost: 135\n",
      "child voicing cost: 62\n",
      "Best yet: 197\n",
      "New solution\n",
      "function cost: 135\n",
      "child voicing cost: 59\n",
      "Best yet: 194\n",
      "New solution\n",
      "function cost: 129\n",
      "child voicing cost: 62\n",
      "Best yet: 191\n",
      "New solution\n",
      "function cost: 129\n",
      "child voicing cost: 59\n",
      "Best yet: 188\n"
     ]
    },
    {
     "data": {
      "text/plain": [
       "(24, \"T\", Tuple{Int16,Int16}[(57, 1), (61, 3), (64, 5), (69, 1)])"
      ]
     },
     "metadata": {},
     "output_type": "display_data"
    },
    {
     "data": {
      "text/plain": [
       "(0, \"D/3\", Tuple{Int16,Int16}[(56, 3), (59, 5), (64, 1), (71, 5)])"
      ]
     },
     "metadata": {},
     "output_type": "display_data"
    },
    {
     "data": {
      "text/plain": [
       "(0, \"D\", Tuple{Int16,Int16}[(52, 1), (59, 5), (68, 3), (76, 1)])"
      ]
     },
     "metadata": {},
     "output_type": "display_data"
    },
    {
     "data": {
      "text/plain": [
       "(9, \"S/3\", Tuple{Int16,Int16}[(54, 3), (57, 5), (69, 5), (74, 1)])"
      ]
     },
     "metadata": {},
     "output_type": "display_data"
    },
    {
     "data": {
      "text/plain": [
       "(0, \"D\", Tuple{Int16,Int16}[(52, 1), (59, 5), (68, 3), (76, 1)])"
      ]
     },
     "metadata": {},
     "output_type": "display_data"
    },
    {
     "data": {
      "text/plain": [
       "(0, \"D/3\", Tuple{Int16,Int16}[(56, 3), (59, 5), (64, 1), (71, 5)])"
      ]
     },
     "metadata": {},
     "output_type": "display_data"
    },
    {
     "data": {
      "text/plain": [
       "(0, \"T\", Tuple{Int16,Int16}[(57, 1), (61, 3), (64, 5), (69, 1)])"
      ]
     },
     "metadata": {},
     "output_type": "display_data"
    },
    {
     "data": {
      "text/plain": [
       "(6, \"T\", Tuple{Int16,Int16}[(45, 1), (61, 3), (64, 5), (69, 1)])"
      ]
     },
     "metadata": {},
     "output_type": "display_data"
    },
    {
     "data": {
      "text/plain": [
       "(6, \"D7/3\", Tuple{Int16,Int16}[(44, 3), (59, 5), (64, 1), (74, 7)])"
      ]
     },
     "metadata": {},
     "output_type": "display_data"
    },
    {
     "data": {
      "text/plain": [
       "(21, \"T\", Tuple{Int16,Int16}[(45, 1), (64, 5), (69, 1), (73, 3)])"
      ]
     },
     "metadata": {},
     "output_type": "display_data"
    },
    {
     "data": {
      "text/plain": [
       "(0, \"D7-1\", Tuple{Int16,Int16}[(47, 5), (62, 7), (68, 3), (71, 5)])"
      ]
     },
     "metadata": {},
     "output_type": "display_data"
    },
    {
     "data": {
      "text/plain": [
       "(18, \"T\", Tuple{Int16,Int16}[(45, 1), (61, 3), (69, 1), (76, 5)])"
      ]
     },
     "metadata": {},
     "output_type": "display_data"
    },
    {
     "data": {
      "text/plain": [
       "(3, \"Tm\", Tuple{Int16,Int16}[(49, 1), (61, 1), (68, 5), (76, 3)])"
      ]
     },
     "metadata": {},
     "output_type": "display_data"
    },
    {
     "data": {
      "text/plain": [
       "(15, \"S\", Tuple{Int16,Int16}[(50, 1), (57, 5), (66, 3), (74, 1)])"
      ]
     },
     "metadata": {},
     "output_type": "display_data"
    },
    {
     "data": {
      "text/plain": [
       "(9, \"D\", Tuple{Int16,Int16}[(52, 1), (56, 3), (64, 1), (71, 5)])"
      ]
     },
     "metadata": {},
     "output_type": "display_data"
    },
    {
     "data": {
      "text/plain": [
       "(18, \"D\", Tuple{Int16,Int16}[(40, 1), (56, 3), (64, 1), (71, 5)])"
      ]
     },
     "metadata": {},
     "output_type": "display_data"
    },
    {
     "data": {
      "text/plain": [
       "(0, \"D7-1\", Tuple{Int16,Int16}[(47, 5), (59, 5), (62, 7), (68, 3)])"
      ]
     },
     "metadata": {},
     "output_type": "display_data"
    },
    {
     "data": {
      "text/plain": [
       "(0, \"T/3\", Tuple{Int16,Int16}[(49, 3), (57, 1), (64, 5), (69, 1)])"
      ]
     },
     "metadata": {},
     "output_type": "display_data"
    },
    {
     "data": {
      "text/plain": [
       "(9, \"T\", Tuple{Int16,Int16}[(45, 1), (57, 1), (64, 5), (73, 3)])"
      ]
     },
     "metadata": {},
     "output_type": "display_data"
    },
    {
     "data": {
      "text/plain": [
       "(0, \"D/5\", Tuple{Int16,Int16}[(47, 5), (56, 3), (64, 1), (71, 5)])"
      ]
     },
     "metadata": {},
     "output_type": "display_data"
    },
    {
     "data": {
      "text/plain": [
       "(0, \"T/3\", Tuple{Int16,Int16}[(49, 3), (57, 1), (64, 5), (69, 1)])"
      ]
     },
     "metadata": {},
     "output_type": "display_data"
    },
    {
     "data": {
      "text/plain": [
       "(12, \"S\", Tuple{Int16,Int16}[(50, 1), (57, 5), (62, 1), (66, 3)])"
      ]
     },
     "metadata": {},
     "output_type": "display_data"
    },
    {
     "data": {
      "text/plain": [
       "(0, \"D7/7\", Tuple{Int16,Int16}[(50, 7), (59, 5), (64, 1), (68, 3)])"
      ]
     },
     "metadata": {},
     "output_type": "display_data"
    },
    {
     "data": {
      "text/plain": [
       "(3, \"T/3\", Tuple{Int16,Int16}[(49, 3), (57, 1), (64, 5), (69, 1)])"
      ]
     },
     "metadata": {},
     "output_type": "display_data"
    },
    {
     "data": {
      "text/plain": [
       "(0, \"Ts\", Tuple{Int16,Int16}[(42, 1), (57, 3), (66, 1), (73, 5)])"
      ]
     },
     "metadata": {},
     "output_type": "display_data"
    },
    {
     "data": {
      "text/plain": [
       "(9, \"D7/3\", Tuple{Int16,Int16}[(44, 3), (59, 5), (64, 1), (74, 7)])"
      ]
     },
     "metadata": {},
     "output_type": "display_data"
    },
    {
     "data": {
      "text/plain": [
       "(0, \"T\", Tuple{Int16,Int16}[(45, 1), (57, 1), (64, 5), (73, 3)])"
      ]
     },
     "metadata": {},
     "output_type": "display_data"
    },
    {
     "data": {
      "text/plain": [
       "(3, \"T/3\", Tuple{Int16,Int16}[(49, 3), (57, 1), (64, 5), (76, 5)])"
      ]
     },
     "metadata": {},
     "output_type": "display_data"
    },
    {
     "data": {
      "text/plain": [
       "(27, \"S\", Tuple{Int16,Int16}[(50, 1), (57, 5), (66, 3), (74, 1)])"
      ]
     },
     "metadata": {},
     "output_type": "display_data"
    },
    {
     "data": {
      "text/plain": [
       "(24, \"D\", Tuple{Int16,Int16}[(52, 1), (56, 3), (64, 1), (71, 5)])"
      ]
     },
     "metadata": {},
     "output_type": "display_data"
    },
    {
     "data": {
      "text/plain": [
       "(18, \"T\", Tuple{Int16,Int16}[(45, 1), (57, 1), (64, 5), (73, 3)])"
      ]
     },
     "metadata": {},
     "output_type": "display_data"
    },
    {
     "data": {
      "text/plain": [
       "(18, \"T\", Tuple{Int16,Int16}[(45, 1), (57, 1), (64, 5), (73, 3)])"
      ]
     },
     "metadata": {},
     "output_type": "display_data"
    },
    {
     "name": "stdout",
     "output_type": "stream",
     "text": [
      "##: Done. Total checked: 227662, Pruned: 252201, completed: 26, time: 4.289000034332275, efficiency: 6.062019070150872\n",
      "Results: bestval_func: 129, bestval_voices: 59\n",
      "#Key: 10Scale: Major\n",
      "#Total time for optimisation of piece: 8.882999897003174\n",
      "#Total cost of piece: 366\n",
      "[\"T\", \"D/3\", \"D\", \"S/3\", \"D\", \"D/3\", \"T\", \"T\", \"D7/3\", \"T\", \"D7-1\", \"T\", \"Tm\", \"S\", \"D\", \"D\", \"D7-1\", \"T/3\", \"T\", \"D/5\", \"T/3\", \"S\", \"D7/7\", \"T/3\", \"Ts\", \"D7/3\", \"T\", \"T/3\", \"S\", \"D\", \"T\", \"T\"]\n",
      "../../results/optimizer/pianoroll/SMP-48-chorl-opt.csv\n",
      " End of file \n",
      " \n",
      "Optimising: ../../results/neuralnet/pianoroll/SMP-53-chorl-nn.csv\n",
      "[0 0 1 0 0 0 0 1 0 0 0 2; 0 0 1 0 1 0 1 0 0 1 0 0; 0 0 1 0 1 0 0 1 0 0 0 1; 0 1 0 0 1 0 0 0 0 2 0 0; 0 0 2 0 0 0 1 0 0 1 0 0; 0 0 1 0 0 0 0 1 0 0 1 1; 0 0 1 0 0 0 1 1 0 1 0 0; 0 0 1 0 1 0 0 1 0 1 0 0; 0 0 1 0 0 0 1 0 0 2 0 0; 0 0 0 0 0 0 1 0 0 2 0 1; 0 1 0 0 1 0 0 0 0 2 0 0; 0 0 3 0 0 0 1 0 0 0 0 0; 0 0 2 0 0 0 1 0 0 1 0 0; 0 0 1 0 0 0 0 2 0 1 0 0; 0 0 2 0 0 0 0 1 0 1 0 0; 0 0 2 0 0 0 0 0 1 0 0 1; 0 1 1 0 1 0 0 0 0 1 0 0; 0 0 1 0 1 0 1 1 0 0 0 0; 0 1 0 0 1 0 1 1 0 0 0 0; 0 1 1 0 0 0 1 0 0 1 0 0; 0 0 1 0 1 0 0 1 0 1 0 0; 0 0 2 0 0 0 1 0 0 1 0 0; 0 0 0 0 1 0 1 1 0 1 0 0; 0 0 2 0 0 0 1 1 0 0 0 0; 0 0 2 0 0 0 1 1 0 0 0 0; 0 0 2 0 0 0 1 1 0 0 0 0; 0 0 2 0 0 0 1 1 0 0 0 0; 0 0 1 0 1 0 1 1 0 0 0 0; 0 2 0 0 1 0 1 0 0 0 0 0; 0 1 0 0 0 0 1 0 0 1 0 1; 0 0 1 0 1 0 0 0 0 0 0 2; 0 0 1 0 1 0 0 1 0 0 0 1; 0 0 2 0 0 0 1 1 0 0 0 0]\n",
      "Key Counter is [0 8 38 0 14 0 20 19 1 21 1 10]\n",
      "Key Score is [102; 30; 130; 59; 74; 93; 40; 122; 29; 112; 79; 54]\n",
      "Position Counter for 3 is [38 0 14 0 20 19 1 21 1 10 0 8]\n",
      "Any[[3.0, 97.0, 1.0]]\n",
      "[3, 97, 1]\n",
      "3 D Major\n",
      "Rhythm map: [\"S\", \"W\", \"S\", \"W\", \"S\", \"C\", \"C\", \"C\", \"S\", \"W\", \"S\", \"W\", \"S\", \"C\", \"C\", \"C\"] size: (16,)\n",
      "Amount of timesteps to optimise: 16\n",
      "Building lookup-table list...\n",
      "Lookup-table built.\n",
      "Initial function score upper bound: 499, voicing score upper bound: 499\n",
      "Starting search...\n",
      "New solution\n",
      "function cost: 114\n",
      "child voicing cost: 91\n",
      "Best yet: 205\n",
      "New solution\n",
      "function cost: 114\n",
      "child voicing cost: 87\n",
      "Best yet: 201\n",
      "New solution\n",
      "function cost: 108\n",
      "child voicing cost: 91\n",
      "Best yet: 199\n",
      "New solution\n",
      "function cost: 108\n",
      "child voicing cost: 89\n",
      "Best yet: 197\n",
      "##: Done. Total checked: 49544, Pruned: 61149, completed: 4, time: 1.1649999618530273, efficiency: 3.433476507276167\n",
      "Results: bestval_func: 108, bestval_voices: 89\n",
      "[0 0 1 0 0 0 0 1 0 0 0 2; 0 0 1 0 1 0 1 0 0 1 0 0; 0 0 1 0 1 0 0 1 0 0 0 1; 0 1 0 0 1 0 0 0 0 2 0 0; 0 0 2 0 0 0 1 0 0 1 0 0; 0 0 1 0 0 0 0 1 0 0 1 1; 0 0 1 0 0 0 1 1 0 1 0 0; 0 0 1 0 1 0 0 1 0 1 0 0; 0 0 1 0 0 0 1 0 0 2 0 0; 0 0 0 0 0 0 1 0 0 2 0 1; 0 1 0 0 1 0 0 0 0 2 0 0; 0 0 3 0 0 0 1 0 0 0 0 0; 0 0 2 0 0 0 1 0 0 1 0 0; 0 0 1 0 0 0 0 2 0 1 0 0; 0 0 2 0 0 0 0 1 0 1 0 0; 0 0 2 0 0 0 0 0 1 0 0 1; 0 1 1 0 1 0 0 0 0 1 0 0; 0 0 1 0 1 0 1 1 0 0 0 0; 0 1 0 0 1 0 1 1 0 0 0 0; 0 1 1 0 0 0 1 0 0 1 0 0; 0 0 1 0 1 0 0 1 0 1 0 0; 0 0 2 0 0 0 1 0 0 1 0 0; 0 0 0 0 1 0 1 1 0 1 0 0; 0 0 2 0 0 0 1 1 0 0 0 0; 0 0 2 0 0 0 1 1 0 0 0 0; 0 0 2 0 0 0 1 1 0 0 0 0; 0 0 2 0 0 0 1 1 0 0 0 0; 0 0 1 0 1 0 1 1 0 0 0 0; 0 2 0 0 1 0 1 0 0 0 0 0; 0 1 0 0 0 0 1 0 0 1 0 1; 0 0 1 0 1 0 0 0 0 0 0 2; 0 0 1 0 1 0 0 1 0 0 0 1; 0 0 2 0 0 0 1 1 0 0 0 0]\n",
      "Key Counter is [0 8 38 0 14 0 20 19 1 21 1 10]\n",
      "Key Score is [102; 30; 130; 59; 74; 93; 40; 122; 29; 112; 79; 54]\n",
      "Position Counter for 3 is [38 0 14 0 20 19 1 21 1 10 0 8]\n",
      "Any[[3.0, 97.0, 1.0]]\n",
      "[3, 97, 1]\n",
      "3 D Major\n",
      "Rhythm map: [\"W\", \"S\", \"W\", \"S\", \"W\", \"S\", \"W\", \"S\", \"W\", \"S\", \"W\", \"S\", \"W\", \"A\", \"A\", \"A\", \"A\"] size: (17,)\n",
      "Amount of timesteps to optimise: 17\n",
      "Building lookup-table list...\n",
      "Lookup-table built.\n",
      "Initial function score upper bound: 499, voicing score upper bound: 499\n",
      "Starting search...\n",
      "New solution\n",
      "function cost: 216\n",
      "child voicing cost: 69\n",
      "Best yet: 285\n",
      "New solution\n",
      "function cost: 216\n",
      "child voicing cost: 66\n",
      "Best yet: 282\n",
      "New solution\n",
      "function cost: 216\n",
      "child voicing cost: 63\n",
      "Best yet: 279\n",
      "New solution\n",
      "function cost: 216\n",
      "child voicing cost: 62\n",
      "Best yet: 278\n",
      "New solution\n",
      "function cost: 204\n",
      "child voicing cost: 67\n",
      "Best yet: 271\n",
      "New solution\n",
      "function cost: 204\n",
      "child voicing cost: 64\n",
      "Best yet: 268\n",
      "New solution\n",
      "function cost: 204\n",
      "child voicing cost: 61\n",
      "Best yet: 265\n",
      "New solution\n",
      "function cost: 204\n",
      "child voicing cost: 60\n",
      "Best yet: 264\n",
      "New solution\n",
      "function cost: 192\n",
      "child voicing cost: 58\n",
      "Best yet: 250\n",
      "New solution\n",
      "function cost: 192\n",
      "child voicing cost: 57\n",
      "Best yet: 249\n",
      "New solution\n",
      "function cost: 192\n",
      "child voicing cost: 54\n",
      "Best yet: 246\n",
      "New solution\n",
      "function cost: 192\n",
      "child voicing cost: 51\n",
      "Best yet: 243\n",
      "New solution\n",
      "function cost: 195\n",
      "child voicing cost: 44\n",
      "Best yet: 239\n",
      "New solution\n",
      "function cost: 195\n",
      "child voicing cost: 43\n",
      "Best yet: 238\n",
      "New solution\n",
      "function cost: 195\n",
      "child voicing cost: 40\n",
      "Best yet: 235\n",
      "New solution\n",
      "function cost: 171\n",
      "child voicing cost: 62\n",
      "Best yet: 233\n",
      "New solution\n",
      "function cost: 171\n",
      "child voicing cost: 59\n",
      "Best yet: 230\n",
      "New solution\n",
      "function cost: 183\n",
      "child voicing cost: 46\n",
      "Best yet: 229\n",
      "New solution\n",
      "function cost: 177\n",
      "child voicing cost: 46\n",
      "Best yet: 223\n",
      "New solution\n",
      "function cost: 177\n",
      "child voicing cost: 45\n",
      "Best yet: 222\n",
      "New solution\n",
      "function cost: 177\n",
      "child voicing cost: 42\n",
      "Best yet: 219\n",
      "New solution\n",
      "function cost: 183\n",
      "child voicing cost: 35\n",
      "Best yet: 218\n",
      "New solution\n",
      "function cost: 183\n",
      "child voicing cost: 32\n",
      "Best yet: 215\n",
      "New solution\n",
      "function cost: 171\n",
      "child voicing cost: 43\n",
      "Best yet: 214\n",
      "New solution\n",
      "function cost: 171\n",
      "child voicing cost: 40\n",
      "Best yet: 211\n",
      "New solution\n",
      "function cost: 165\n",
      "child voicing cost: 43\n",
      "Best yet: 208\n",
      "New solution\n",
      "function cost: 165\n",
      "child voicing cost: 42\n",
      "Best yet: 207\n",
      "New solution\n",
      "function cost: 165\n",
      "child voicing cost: 39\n",
      "Best yet: 204\n"
     ]
    },
    {
     "data": {
      "text/plain": [
       "(18, \"T\", Tuple{Int16,Int16}[(50, 1), (50, 1), (57, 5), (66, 3)])"
      ]
     },
     "metadata": {},
     "output_type": "display_data"
    },
    {
     "data": {
      "text/plain": [
       "(6, \"D7/3\", Tuple{Int16,Int16}[(49, 3), (52, 5), (57, 1), (67, 7)])"
      ]
     },
     "metadata": {},
     "output_type": "display_data"
    },
    {
     "data": {
      "text/plain": [
       "(9, \"Ts\", Tuple{Int16,Int16}[(47, 1), (54, 5), (59, 1), (62, 3)])"
      ]
     },
     "metadata": {},
     "output_type": "display_data"
    },
    {
     "data": {
      "text/plain": [
       "(0, \"D\", Tuple{Int16,Int16}[(45, 1), (57, 1), (61, 3), (64, 5)])"
      ]
     },
     "metadata": {},
     "output_type": "display_data"
    },
    {
     "data": {
      "text/plain": [
       "(0, \"T/3\", Tuple{Int16,Int16}[(42, 3), (57, 5), (62, 1), (69, 5)])"
      ]
     },
     "metadata": {},
     "output_type": "display_data"
    },
    {
     "data": {
      "text/plain": [
       "(9, \"S\", Tuple{Int16,Int16}[(43, 1), (59, 3), (62, 5), (67, 1)])"
      ]
     },
     "metadata": {},
     "output_type": "display_data"
    },
    {
     "data": {
      "text/plain": [
       "(15, \"D\", Tuple{Int16,Int16}[(45, 1), (57, 1), (61, 3), (64, 5)])"
      ]
     },
     "metadata": {},
     "output_type": "display_data"
    },
    {
     "data": {
      "text/plain": [
       "(9, \"D\", Tuple{Int16,Int16}[(45, 1), (49, 3), (57, 1), (64, 5)])"
      ]
     },
     "metadata": {},
     "output_type": "display_data"
    },
    {
     "data": {
      "text/plain": [
       "(0, \"T/3\", Tuple{Int16,Int16}[(42, 3), (50, 1), (57, 5), (62, 1)])"
      ]
     },
     "metadata": {},
     "output_type": "display_data"
    },
    {
     "data": {
      "text/plain": [
       "(6, \"Tm\", Tuple{Int16,Int16}[(42, 1), (49, 5), (57, 3), (69, 3)])"
      ]
     },
     "metadata": {},
     "output_type": "display_data"
    },
    {
     "data": {
      "text/plain": [
       "(6, \"D7/3\", Tuple{Int16,Int16}[(49, 3), (52, 5), (57, 1), (67, 7)])"
      ]
     },
     "metadata": {},
     "output_type": "display_data"
    },
    {
     "data": {
      "text/plain": [
       "(15, \"T\", Tuple{Int16,Int16}[(50, 1), (57, 5), (62, 1), (66, 3)])"
      ]
     },
     "metadata": {},
     "output_type": "display_data"
    },
    {
     "data": {
      "text/plain": [
       "(0, \"T/3\", Tuple{Int16,Int16}[(54, 3), (57, 5), (62, 1), (69, 5)])"
      ]
     },
     "metadata": {},
     "output_type": "display_data"
    },
    {
     "data": {
      "text/plain": [
       "(12, \"D7/5\", Tuple{Int16,Int16}[(52, 5), (57, 1), (61, 3), (67, 7)])"
      ]
     },
     "metadata": {},
     "output_type": "display_data"
    },
    {
     "data": {
      "text/plain": [
       "(3, \"T\", Tuple{Int16,Int16}[(50, 1), (57, 5), (62, 1), (66, 3)])"
      ]
     },
     "metadata": {},
     "output_type": "display_data"
    },
    {
     "data": {
      "text/plain": [
       "(18, \"T\", Tuple{Int16,Int16}[(50, 1), (54, 3), (62, 1), (69, 5)])"
      ]
     },
     "metadata": {},
     "output_type": "display_data"
    },
    {
     "data": {
      "text/plain": [
       "(6, \"D/3\", Tuple{Int16,Int16}[(49, 3), (52, 5), (64, 5), (69, 1)])"
      ]
     },
     "metadata": {},
     "output_type": "display_data"
    },
    {
     "data": {
      "text/plain": [
       "(12, \"T\", Tuple{Int16,Int16}[(50, 1), (57, 5), (62, 1), (66, 3)])"
      ]
     },
     "metadata": {},
     "output_type": "display_data"
    },
    {
     "data": {
      "text/plain": [
       "(3, \"D7-1\", Tuple{Int16,Int16}[(52, 5), (55, 7), (61, 3), (64, 5)])"
      ]
     },
     "metadata": {},
     "output_type": "display_data"
    },
    {
     "data": {
      "text/plain": [
       "(3, \"T\", Tuple{Int16,Int16}[(50, 1), (57, 5), (62, 1), (66, 3)])"
      ]
     },
     "metadata": {},
     "output_type": "display_data"
    },
    {
     "data": {
      "text/plain": [
       "(3, \"D7/3\", Tuple{Int16,Int16}[(49, 3), (55, 7), (64, 5), (69, 1)])"
      ]
     },
     "metadata": {},
     "output_type": "display_data"
    },
    {
     "data": {
      "text/plain": [
       "(0, \"T\", Tuple{Int16,Int16}[(50, 1), (54, 3), (62, 1), (69, 5)])"
      ]
     },
     "metadata": {},
     "output_type": "display_data"
    },
    {
     "data": {
      "text/plain": [
       "(15, \"D7-1\", Tuple{Int16,Int16}[(52, 5), (55, 7), (61, 3), (67, 7)])"
      ]
     },
     "metadata": {},
     "output_type": "display_data"
    },
    {
     "data": {
      "text/plain": [
       "(6, \"T\", Tuple{Int16,Int16}[(50, 1), (57, 5), (62, 1), (66, 3)])"
      ]
     },
     "metadata": {},
     "output_type": "display_data"
    },
    {
     "data": {
      "text/plain": [
       "(12, \"D7-1\", Tuple{Int16,Int16}[(52, 5), (55, 7), (61, 3), (64, 5)])"
      ]
     },
     "metadata": {},
     "output_type": "display_data"
    },
    {
     "data": {
      "text/plain": [
       "(6, \"T\", Tuple{Int16,Int16}[(50, 1), (57, 5), (62, 1), (66, 3)])"
      ]
     },
     "metadata": {},
     "output_type": "display_data"
    },
    {
     "data": {
      "text/plain": [
       "(12, \"S\", Tuple{Int16,Int16}[(43, 1), (59, 3), (62, 5), (67, 1)])"
      ]
     },
     "metadata": {},
     "output_type": "display_data"
    },
    {
     "data": {
      "text/plain": [
       "(12, \"T/3\", Tuple{Int16,Int16}[(42, 3), (57, 5), (62, 1), (69, 5)])"
      ]
     },
     "metadata": {},
     "output_type": "display_data"
    },
    {
     "data": {
      "text/plain": [
       "(21, \"S\", Tuple{Int16,Int16}[(43, 1), (59, 3), (62, 5), (67, 1)])"
      ]
     },
     "metadata": {},
     "output_type": "display_data"
    },
    {
     "data": {
      "text/plain": [
       "(12, \"D\", Tuple{Int16,Int16}[(45, 1), (57, 1), (61, 3), (64, 5)])"
      ]
     },
     "metadata": {},
     "output_type": "display_data"
    },
    {
     "data": {
      "text/plain": [
       "(27, \"T\", Tuple{Int16,Int16}[(50, 1), (57, 5), (62, 1), (66, 3)])"
      ]
     },
     "metadata": {},
     "output_type": "display_data"
    },
    {
     "data": {
      "text/plain": [
       "(27, \"T\", Tuple{Int16,Int16}[(50, 1), (57, 5), (62, 1), (66, 3)])"
      ]
     },
     "metadata": {},
     "output_type": "display_data"
    },
    {
     "name": "stdout",
     "output_type": "stream",
     "text": [
      "##: Done. Total checked: 196040, Pruned: 213174, completed: 28, time: 3.683000087738037, efficiency: 7.602497782506589\n",
      "Results: bestval_func: 165, bestval_voices: 39\n",
      "#Key: 3Scale: Major\n",
      "#Total time for optimisation of piece: 6.185999870300293\n",
      "#Total cost of piece: 401\n",
      "[\"T\", \"D7/3\", \"Ts\", \"D\", \"T/3\", \"S\", \"D\", \"D\", \"T/3\", \"Tm\", \"D7/3\", \"T\", \"T/3\", \"D7/5\", \"T\", \"T\", \"D/3\", \"T\", \"D7-1\", \"T\", \"D7/3\", \"T\", \"D7-1\", \"T\", \"D7-1\", \"T\", \"S\", \"T/3\", \"S\", \"D\", \"T\", \"T\"]\n",
      "../../results/optimizer/pianoroll/SMP-53-chorl-opt.csv\n",
      " End of file \n",
      " \n",
      "Optimising: ../../results/neuralnet/pianoroll/SMP-55-chorl-nn.csv\n",
      "[0 1 0 0 0 0 2 0 0 0 1 0; 0 1 0 0 0 0 2 0 0 0 1 0; 0 0 0 0 1 0 0 0 1 0 0 2; 0 1 0 0 1 0 1 0 0 0 1 0; 0 0 1 0 1 0 1 0 0 0 0 1; 0 1 0 0 1 0 0 0 2 0 0 0; 0 1 0 0 0 0 1 0 0 2 0 0; 0 0 0 0 1 0 0 0 0 2 0 1; 0 0 0 0 1 0 0 0 0 1 0 2; 0 0 0 0 1 0 0 0 1 1 0 1; 0 0 0 0 2 0 0 0 1 0 0 1; 0 0 0 0 1 0 0 0 1 0 0 2; 0 0 0 0 1 0 1 0 1 0 0 1; 0 1 0 0 1 0 1 0 0 0 0 1; 0 0 0 0 1 0 1 0 0 0 0 2; 0 0 0 0 1 0 1 0 1 0 0 1; 0 0 0 0 2 0 1 0 0 0 0 1; 0 0 0 0 2 0 1 0 0 0 0 1; 0 0 0 0 1 0 2 0 0 0 0 1; 0 0 0 0 0 0 1 0 0 0 0 3; 0 0 0 0 1 0 1 0 1 0 0 1; 0 0 0 0 1 0 0 0 1 1 0 1; 0 0 0 0 2 0 0 0 1 0 0 1; 0 0 0 0 2 0 0 0 1 0 0 1; 0 0 0 0 1 0 1 0 1 0 0 1; 0 1 0 0 1 0 2 0 0 0 0 0; 0 0 0 0 1 0 1 0 0 0 0 2; 0 0 0 0 1 0 2 0 0 0 0 1; 0 0 0 0 2 0 0 0 1 0 0 1; 0 0 0 0 2 0 0 0 1 0 0 1; 0 0 0 0 1 0 0 0 2 0 0 1; 0 1 0 0 1 0 1 0 0 1 0 0; 0 1 0 0 1 0 0 0 1 1 0 0]\n",
      "Key Counter is [0 9 1 0 36 0 24 0 18 9 3 32]\n",
      "Key Score is [78; 54; 111; 22; 128; 49; 86; 102; 30; 129; 13; 122]\n",
      "Position Counter for 10 is [9 3 32 0 9 1 0 36 0 24 0 18]\n",
      "Any[[10.0, 81.0, 0.0]]\n",
      "[10, 81, 0]\n",
      "7 F# Minor\n",
      "Rhythm map: [\"S\", \"W\", \"S\", \"W\", \"S\", \"C\", \"C\", \"C\", \"S\", \"W\", \"S\", \"W\", \"S\", \"C\", \"C\", \"C\"] size: (16,)\n",
      "Amount of timesteps to optimise: 16\n",
      "Building lookup-table list...\n",
      "Lookup-table built.\n",
      "Initial function score upper bound: 499, voicing score upper bound: 499\n",
      "Starting search...\n",
      "New solution\n",
      "function cost: 198\n",
      "child voicing cost: 86\n",
      "Best yet: 284\n",
      "New solution\n",
      "function cost: 198\n",
      "child voicing cost: 83\n",
      "Best yet: 281\n",
      "New solution\n",
      "function cost: 198\n",
      "child voicing cost: 82\n",
      "Best yet: 280\n",
      "New solution\n",
      "function cost: 198\n",
      "child voicing cost: 79\n",
      "Best yet: 277\n",
      "New solution\n",
      "function cost: 195\n",
      "child voicing cost: 77\n",
      "Best yet: 272\n",
      "New solution\n",
      "function cost: 186\n",
      "child voicing cost: 83\n",
      "Best yet: 269\n",
      "New solution\n",
      "function cost: 186\n",
      "child voicing cost: 81\n",
      "Best yet: 267\n",
      "New solution\n",
      "function cost: 183\n",
      "child voicing cost: 82\n",
      "Best yet: 265\n",
      "New solution\n",
      "function cost: 189\n",
      "child voicing cost: 74\n",
      "Best yet: 263\n",
      "New solution\n",
      "function cost: 177\n",
      "child voicing cost: 83\n",
      "Best yet: 260\n",
      "New solution\n",
      "function cost: 180\n",
      "child voicing cost: 79\n",
      "Best yet: 259\n",
      "New solution\n",
      "function cost: 180\n",
      "child voicing cost: 75\n",
      "Best yet: 255\n",
      "New solution\n",
      "function cost: 171\n",
      "child voicing cost: 82\n",
      "Best yet: 253\n",
      "Iterations done: 10000\n",
      "Nodes in active set: 169\n",
      "Lowest depth: 2 current depth: 14\n",
      "New solution\n",
      "function cost: 168\n",
      "child voicing cost: 84\n",
      "Best yet: 252\n",
      "Iterations done: 20000\n",
      "Nodes in active set: 116\n",
      "Lowest depth: 2 current depth: 11\n",
      "Iterations done: 30000\n",
      "Nodes in active set: 107\n",
      "Lowest depth: 2 current depth: 10\n",
      "Iterations done: 40000\n",
      "Nodes in active set: 102\n",
      "Lowest depth: 2 current depth: 11\n",
      "New solution\n",
      "function cost: 171\n",
      "child voicing cost: 79\n",
      "Best yet: 250\n",
      "New solution\n",
      "function cost: 168\n",
      "child voicing cost: 81\n",
      "Best yet: 249\n",
      "Iterations done: 50000\n",
      "Nodes in active set: 25\n",
      "Lowest depth: 1 current depth: 9\n",
      "##: Done. Total checked: 4506428, Pruned: 5291404, completed: 16, time: 88.78300023078918, efficiency: 0.18021468026996612\n",
      "Results: bestval_func: 168, bestval_voices: 81\n",
      "[0 1 0 0 0 0 2 0 0 0 1 0; 0 1 0 0 0 0 2 0 0 0 1 0; 0 0 0 0 1 0 0 0 1 0 0 2; 0 1 0 0 1 0 1 0 0 0 1 0; 0 0 1 0 1 0 1 0 0 0 0 1; 0 1 0 0 1 0 0 0 2 0 0 0; 0 1 0 0 0 0 1 0 0 2 0 0; 0 0 0 0 1 0 0 0 0 2 0 1; 0 0 0 0 1 0 0 0 0 1 0 2; 0 0 0 0 1 0 0 0 1 1 0 1; 0 0 0 0 2 0 0 0 1 0 0 1; 0 0 0 0 1 0 0 0 1 0 0 2; 0 0 0 0 1 0 1 0 1 0 0 1; 0 1 0 0 1 0 1 0 0 0 0 1; 0 0 0 0 1 0 1 0 0 0 0 2; 0 0 0 0 1 0 1 0 1 0 0 1; 0 0 0 0 2 0 1 0 0 0 0 1; 0 0 0 0 2 0 1 0 0 0 0 1; 0 0 0 0 1 0 2 0 0 0 0 1; 0 0 0 0 0 0 1 0 0 0 0 3; 0 0 0 0 1 0 1 0 1 0 0 1; 0 0 0 0 1 0 0 0 1 1 0 1; 0 0 0 0 2 0 0 0 1 0 0 1; 0 0 0 0 2 0 0 0 1 0 0 1; 0 0 0 0 1 0 1 0 1 0 0 1; 0 1 0 0 1 0 2 0 0 0 0 0; 0 0 0 0 1 0 1 0 0 0 0 2; 0 0 0 0 1 0 2 0 0 0 0 1; 0 0 0 0 2 0 0 0 1 0 0 1; 0 0 0 0 2 0 0 0 1 0 0 1; 0 0 0 0 1 0 0 0 2 0 0 1; 0 1 0 0 1 0 1 0 0 1 0 0; 0 1 0 0 1 0 0 0 1 1 0 0]\n",
      "Key Counter is [0 9 1 0 36 0 24 0 18 9 3 32]\n",
      "Key Score is [78; 54; 111; 22; 128; 49; 86; 102; 30; 129; 13; 122]\n",
      "Position Counter for 10 is [9 3 32 0 9 1 0 36 0 24 0 18]\n",
      "Any[[10.0, 81.0, 0.0]]\n",
      "[10, 81, 0]\n",
      "7 F# Minor\n",
      "Rhythm map: [\"W\", \"S\", \"W\", \"S\", \"W\", \"S\", \"W\", \"S\", \"W\", \"S\", \"W\", \"S\", \"W\", \"A\", \"A\", \"A\", \"A\"] size: (17,)\n",
      "Amount of timesteps to optimise: 17\n",
      "Building lookup-table list...\n",
      "Lookup-table built.\n",
      "Initial function score upper bound: 499, voicing score upper bound: 499\n",
      "Starting search...\n",
      "New solution\n",
      "function cost: 255\n",
      "child voicing cost: 91\n",
      "Best yet: 346\n",
      "New solution\n",
      "function cost: 234\n",
      "child voicing cost: 102\n",
      "Best yet: 336\n",
      "New solution\n",
      "function cost: 234\n",
      "child voicing cost: 101\n",
      "Best yet: 335\n",
      "New solution\n",
      "function cost: 234\n",
      "child voicing cost: 98\n",
      "Best yet: 332\n",
      "New solution\n",
      "function cost: 222\n",
      "child voicing cost: 105\n",
      "Best yet: 327\n",
      "New solution\n",
      "function cost: 222\n",
      "child voicing cost: 103\n",
      "Best yet: 325\n",
      "New solution\n",
      "function cost: 222\n",
      "child voicing cost: 97\n",
      "Best yet: 319\n",
      "New solution\n",
      "function cost: 234\n",
      "child voicing cost: 84\n",
      "Best yet: 318\n",
      "New solution\n",
      "function cost: 222\n",
      "child voicing cost: 94\n",
      "Best yet: 316\n",
      "New solution\n",
      "function cost: 225\n",
      "child voicing cost: 89\n",
      "Best yet: 314\n",
      "New solution\n",
      "function cost: 225\n",
      "child voicing cost: 82\n",
      "Best yet: 307\n",
      "New solution\n",
      "function cost: 219\n",
      "child voicing cost: 83\n",
      "Best yet: 302\n",
      "New solution\n",
      "function cost: 219\n",
      "child voicing cost: 78\n",
      "Best yet: 297\n",
      "New solution\n",
      "function cost: 210\n",
      "child voicing cost: 73\n",
      "Best yet: 283\n",
      "New solution\n",
      "function cost: 210\n",
      "child voicing cost: 71\n",
      "Best yet: 281\n",
      "New solution\n",
      "function cost: 210\n",
      "child voicing cost: 65\n",
      "Best yet: 275\n",
      "New solution\n",
      "function cost: 210\n",
      "child voicing cost: 62\n",
      "Best yet: 272"
     ]
    },
    {
     "data": {
      "text/plain": [
       "(3, \"T\", Tuple{Int16,Int16}[(54, 1), (61, 5), (66, 1), (69, 3)])"
      ]
     },
     "metadata": {},
     "output_type": "display_data"
    },
    {
     "data": {
      "text/plain": [
       "(3, \"T\", Tuple{Int16,Int16}[(54, 1), (57, 3), (66, 1), (73, 5)])"
      ]
     },
     "metadata": {},
     "output_type": "display_data"
    },
    {
     "data": {
      "text/plain": [
       "(3, \"D7-1\", Tuple{Int16,Int16}[(56, 5), (59, 7), (65, 3), (71, 7)])"
      ]
     },
     "metadata": {},
     "output_type": "display_data"
    },
    {
     "data": {
      "text/plain": [
       "(9, \"T\", Tuple{Int16,Int16}[(54, 1), (61, 5), (66, 1), (69, 3)])"
      ]
     },
     "metadata": {},
     "output_type": "display_data"
    },
    {
     "data": {
      "text/plain": [
       "(6, \"S/3\", Tuple{Int16,Int16}[(50, 3), (59, 1), (66, 5), (71, 1)])"
      ]
     },
     "metadata": {},
     "output_type": "display_data"
    },
    {
     "data": {
      "text/plain": [
       "(3, \"D/3\", Tuple{Int16,Int16}[(53, 3), (56, 5), (68, 5), (73, 1)])"
      ]
     },
     "metadata": {},
     "output_type": "display_data"
    },
    {
     "data": {
      "text/plain": [
       "(9, \"T\", Tuple{Int16,Int16}[(54, 1), (57, 3), (66, 1), (73, 5)])"
      ]
     },
     "metadata": {},
     "output_type": "display_data"
    },
    {
     "data": {
      "text/plain": [
       "(21, \"T\", Tuple{Int16,Int16}[(54, 1), (61, 5), (66, 1), (69, 3)])"
      ]
     },
     "metadata": {},
     "output_type": "display_data"
    },
    {
     "data": {
      "text/plain": [
       "(15, \"D7-1\", Tuple{Int16,Int16}[(56, 5), (59, 7), (65, 3), (68, 5)])"
      ]
     },
     "metadata": {},
     "output_type": "display_data"
    },
    {
     "data": {
      "text/plain": [
       "(6, \"D7-1\", Tuple{Int16,Int16}[(44, 5), (59, 7), (59, 7), (65, 3)])"
      ]
     },
     "metadata": {},
     "output_type": "display_data"
    },
    {
     "data": {
      "text/plain": [
       "(21, \"T\", Tuple{Int16,Int16}[(42, 1), (57, 3), (61, 5), (66, 1)])"
      ]
     },
     "metadata": {},
     "output_type": "display_data"
    },
    {
     "data": {
      "text/plain": [
       "(9, \"D7/3\", Tuple{Int16,Int16}[(41, 3), (56, 5), (61, 1), (71, 7)])"
      ]
     },
     "metadata": {},
     "output_type": "display_data"
    },
    {
     "data": {
      "text/plain": [
       "(15, \"T\", Tuple{Int16,Int16}[(42, 1), (54, 1), (61, 5), (69, 3)])"
      ]
     },
     "metadata": {},
     "output_type": "display_data"
    },
    {
     "data": {
      "text/plain": [
       "(9, \"D7\", Tuple{Int16,Int16}[(49, 1), (53, 3), (59, 7), (68, 5)])"
      ]
     },
     "metadata": {},
     "output_type": "display_data"
    },
    {
     "data": {
      "text/plain": [
       "(21, \"Ts\", Tuple{Int16,Int16}[(50, 1), (54, 3), (57, 5), (66, 3)])"
      ]
     },
     "metadata": {},
     "output_type": "display_data"
    },
    {
     "data": {
      "text/plain": [
       "(18, \"Ts\", Tuple{Int16,Int16}[(50, 1), (54, 3), (57, 5), (62, 1)])"
      ]
     },
     "metadata": {},
     "output_type": "display_data"
    },
    {
     "data": {
      "text/plain": [
       "(18, \"D7\", Tuple{Int16,Int16}[(49, 1), (53, 3), (59, 7), (68, 5)])"
      ]
     },
     "metadata": {},
     "output_type": "display_data"
    },
    {
     "data": {
      "text/plain": [
       "(18, \"Ts\", Tuple{Int16,Int16}[(50, 1), (54, 3), (57, 5), (66, 3)])"
      ]
     },
     "metadata": {},
     "output_type": "display_data"
    },
    {
     "data": {
      "text/plain": [
       "(12, \"S65\", Tuple{Int16,Int16}[(47, 1), (54, 5), (62, 3), (68, 6)])"
      ]
     },
     "metadata": {},
     "output_type": "display_data"
    },
    {
     "data": {
      "text/plain": [
       "(18, \"T/5\", Tuple{Int16,Int16}[(49, 5), (54, 1), (61, 5), (69, 3)])"
      ]
     },
     "metadata": {},
     "output_type": "display_data"
    },
    {
     "data": {
      "text/plain": [
       "(12, \"S/3\", Tuple{Int16,Int16}[(50, 3), (54, 5), (59, 1), (71, 1)])"
      ]
     },
     "metadata": {},
     "output_type": "display_data"
    },
    {
     "data": {
      "text/plain": [
       "(12, \"D/3\", Tuple{Int16,Int16}[(53, 3), (56, 5), (61, 1), (68, 5)])"
      ]
     },
     "metadata": {},
     "output_type": "display_data"
    },
    {
     "data": {
      "text/plain": [
       "(21, \"T\", Tuple{Int16,Int16}[(54, 1), (57, 3), (61, 5), (66, 1)])"
      ]
     },
     "metadata": {},
     "output_type": "display_data"
    },
    {
     "data": {
      "text/plain": [
       "(0, \"Dm\", Tuple{Int16,Int16}[(52, 1), (59, 5), (64, 1), (68, 3)])"
      ]
     },
     "metadata": {},
     "output_type": "display_data"
    },
    {
     "data": {
      "text/plain": [
       "(12, \"S/3\", Tuple{Int16,Int16}[(50, 3), (59, 1), (66, 5), (71, 1)])"
      ]
     },
     "metadata": {},
     "output_type": "display_data"
    },
    {
     "data": {
      "text/plain": [
       "(18, \"T/5\", Tuple{Int16,Int16}[(49, 5), (57, 3), (66, 1), (73, 5)])"
      ]
     },
     "metadata": {},
     "output_type": "display_data"
    },
    {
     "data": {
      "text/plain": [
       "(6, \"S\", Tuple{Int16,Int16}[(47, 1), (59, 1), (66, 5), (74, 3)])"
      ]
     },
     "metadata": {},
     "output_type": "display_data"
    },
    {
     "data": {
      "text/plain": [
       "(6, \"S/3\", Tuple{Int16,Int16}[(50, 3), (54, 5), (66, 5), (71, 1)])"
      ]
     },
     "metadata": {},
     "output_type": "display_data"
    },
    {
     "data": {
      "text/plain": [
       "(18, \"D\", Tuple{Int16,Int16}[(49, 1), (56, 5), (65, 3), (73, 1)])"
      ]
     },
     "metadata": {},
     "output_type": "display_data"
    },
    {
     "data": {
      "text/plain": [
       "(12, \"D7\", Tuple{Int16,Int16}[(49, 1), (56, 5), (65, 3), (71, 7)])"
      ]
     },
     "metadata": {},
     "output_type": "display_data"
    },
    {
     "data": {
      "text/plain": [
       "(21, \"T\", Tuple{Int16,Int16}[(42, 1), (61, 5), (66, 1), (69, 3)])"
      ]
     },
     "metadata": {},
     "output_type": "display_data"
    },
    {
     "data": {
      "text/plain": [
       "(21, \"T\", Tuple{Int16,Int16}[(42, 1), (61, 5), (66, 1), (69, 3)])"
      ]
     },
     "metadata": {},
     "output_type": "display_data"
    },
    {
     "name": "stdout",
     "output_type": "stream",
     "text": [
      "\n",
      "##: Done. Total checked: 98369, Pruned: 111403, completed: 17, time: 2.0989999771118164, efficiency: 8.09909489536616\n",
      "Results: bestval_func: 210, bestval_voices: 62\n",
      "#Key: 7Scale: Minor\n",
      "#Total time for optimisation of piece: 92.31500005722046\n",
      "#Total cost of piece: 521\n",
      "[\"T\", \"T\", \"D7-1\", \"T\", \"S/3\", \"D/3\", \"T\", \"T\", \"D7-1\", \"D7-1\", \"T\", \"D7/3\", \"T\", \"D7\", \"Ts\", \"Ts\", \"D7\", \"Ts\", \"S65\", \"T/5\", \"S/3\", \"D/3\", \"T\", \"Dm\", \"S/3\", \"T/5\", \"S\", \"S/3\", \"D\", \"D7\", \"T\", \"T\"]\n",
      "../../results/optimizer/pianoroll/SMP-55-chorl-opt.csv\n",
      " End of file \n",
      " \n",
      "Optimising: ../../results/neuralnet/pianoroll/SMP-63-chorl-nn.csv\n",
      "[0 0 2 0 0 1 0 0 0 0 1 0; 1 0 0 0 0 1 0 0 0 2 0 0; 0 0 1 0 0 0 0 2 0 0 1 0; 1 0 0 0 0 2 0 0 0 1 0 0; 0 0 1 0 0 1 0 1 0 0 1 0; 2 0 0 0 0 0 0 1 0 0 1 0; 1 0 0 0 0 2 0 0 0 1 0 0; 1 0 1 0 0 0 0 0 0 1 1 0; 2 0 0 0 0 0 0 0 0 0 2 0; 0 0 1 0 0 0 0 0 0 1 2 0; 1 0 1 0 0 0 0 1 0 0 1 0; 0 0 0 0 1 0 1 2 0 0 0 0; 1 0 0 0 0 0 0 1 0 1 1 0; 0 0 1 0 0 0 0 2 0 0 1 0; 0 0 1 1 0 0 0 0 0 1 1 0; 2 0 1 0 0 1 0 0 0 0 0 0; 1 0 0 0 0 2 0 0 0 0 1 0; 2 0 0 0 0 1 0 1 0 0 0 0; 1 1 0 0 0 1 0 0 0 0 1 0; 3 0 0 1 0 0 0 0 0 0 0 0; 1 0 1 0 0 1 0 0 0 0 1 0; 2 0 0 0 0 1 0 0 0 1 0 0; 2 0 0 0 0 0 0 1 0 0 1 0; 1 0 0 0 1 1 0 0 0 1 0 0; 1 0 0 0 0 0 0 1 0 0 2 0; 1 0 0 0 0 1 0 0 0 2 0 0; 2 0 0 0 0 0 0 1 0 0 1 0; 2 0 0 0 1 1 0 0 0 0 0 0; 0 0 0 0 1 1 0 0 0 1 1 0; 1 0 0 0 0 2 0 0 0 1 0 0; 1 0 0 1 0 2 0 0 0 0 0 0; 2 0 0 0 0 1 0 1 0 0 0 0; 0 0 1 0 0 1 0 1 0 0 1 0]\n",
      "Key Counter is [35 1 12 3 4 24 1 16 0 14 22 0]\n",
      "Key Score is [105; 86; 48; 112; 23; 127; 51; 82; 101; 32; 126; 31]\n",
      "Position Counter for 6 is [24 1 16 0 14 22 0 35 1 12 3 4]\n",
      "Any[[6.0, 95.5, 1.0]]\n",
      "[6, 96, 1]\n",
      "6 F Major\n",
      "Rhythm map: [\"S\", \"W\", \"S\", \"W\", \"S\", \"C\", \"C\", \"C\", \"S\", \"W\", \"S\", \"W\", \"S\", \"C\", \"C\", \"C\"] size: (16,)\n",
      "Amount of timesteps to optimise: 16\n",
      "Building lookup-table list...\n",
      "Lookup-table built.\n",
      "Initial function score upper bound: 499, voicing score upper bound: 499\n",
      "Starting search...\n",
      "New solution\n",
      "function cost: 198\n",
      "child voicing cost: 96\n",
      "Best yet: 294\n",
      "New solution\n",
      "function cost: 198\n",
      "child voicing cost: 88\n",
      "Best yet: 286\n",
      "New solution\n",
      "function cost: 192\n",
      "child voicing cost: 93\n",
      "Best yet: 285\n",
      "New solution\n",
      "function cost: 192\n",
      "child voicing cost: 87\n",
      "Best yet: 279\n",
      "New solution\n",
      "function cost: 195\n",
      "child voicing cost: 81\n",
      "Best yet: 276\n",
      "New solution\n",
      "function cost: 189\n",
      "child voicing cost: 86\n",
      "Best yet: 275\n",
      "New solution\n",
      "function cost: 189\n",
      "child voicing cost: 84\n",
      "Best yet: 273\n",
      "New solution\n",
      "function cost: 180\n",
      "child voicing cost: 88\n",
      "Best yet: 268\n",
      "New solution\n",
      "function cost: 171\n",
      "child voicing cost: 96\n",
      "Best yet: 267\n",
      "New solution\n",
      "function cost: 177\n",
      "child voicing cost: 87\n",
      "Best yet: 264\n",
      "New solution\n",
      "function cost: 177\n",
      "child voicing cost: 86\n",
      "Best yet: 263\n",
      "New solution\n",
      "function cost: 186\n",
      "child voicing cost: 75\n",
      "Best yet: 261\n",
      "New solution\n",
      "function cost: 186\n",
      "child voicing cost: 74\n",
      "Best yet: 260\n",
      "New solution\n",
      "function cost: 186\n",
      "child voicing cost: 72\n",
      "Best yet: 258\n",
      "New solution\n",
      "function cost: 186\n",
      "child voicing cost: 71\n",
      "Best yet: 257\n",
      "New solution\n",
      "function cost: 186\n",
      "child voicing cost: 69\n",
      "Best yet: 255\n",
      "New solution\n",
      "function cost: 186\n",
      "child voicing cost: 67\n",
      "Best yet: 253\n",
      "##: Done. Total checked: 111474, Pruned: 132364, completed: 17, time: 2.311000108718872, efficiency: 7.356122544461555\n",
      "Results: bestval_func: 186, bestval_voices: 67\n",
      "[0 0 2 0 0 1 0 0 0 0 1 0; 1 0 0 0 0 1 0 0 0 2 0 0; 0 0 1 0 0 0 0 2 0 0 1 0; 1 0 0 0 0 2 0 0 0 1 0 0; 0 0 1 0 0 1 0 1 0 0 1 0; 2 0 0 0 0 0 0 1 0 0 1 0; 1 0 0 0 0 2 0 0 0 1 0 0; 1 0 1 0 0 0 0 0 0 1 1 0; 2 0 0 0 0 0 0 0 0 0 2 0; 0 0 1 0 0 0 0 0 0 1 2 0; 1 0 1 0 0 0 0 1 0 0 1 0; 0 0 0 0 1 0 1 2 0 0 0 0; 1 0 0 0 0 0 0 1 0 1 1 0; 0 0 1 0 0 0 0 2 0 0 1 0; 0 0 1 1 0 0 0 0 0 1 1 0; 2 0 1 0 0 1 0 0 0 0 0 0; 1 0 0 0 0 2 0 0 0 0 1 0; 2 0 0 0 0 1 0 1 0 0 0 0; 1 1 0 0 0 1 0 0 0 0 1 0; 3 0 0 1 0 0 0 0 0 0 0 0; 1 0 1 0 0 1 0 0 0 0 1 0; 2 0 0 0 0 1 0 0 0 1 0 0; 2 0 0 0 0 0 0 1 0 0 1 0; 1 0 0 0 1 1 0 0 0 1 0 0; 1 0 0 0 0 0 0 1 0 0 2 0; 1 0 0 0 0 1 0 0 0 2 0 0; 2 0 0 0 0 0 0 1 0 0 1 0; 2 0 0 0 1 1 0 0 0 0 0 0; 0 0 0 0 1 1 0 0 0 1 1 0; 1 0 0 0 0 2 0 0 0 1 0 0; 1 0 0 1 0 2 0 0 0 0 0 0; 2 0 0 0 0 1 0 1 0 0 0 0; 0 0 1 0 0 1 0 1 0 0 1 0]\n",
      "Key Counter is [35 1 12 3 4 24 1 16 0 14 22 0]\n",
      "Key Score is [105; 86; 48; 112; 23; 127; 51; 82; 101; 32; 126; 31]\n",
      "Position Counter for 6 is [24 1 16 0 14 22 0 35 1 12 3 4]\n",
      "Any[[6.0, 95.5, 1.0]]\n",
      "[6, 96, 1]\n",
      "6 F Major\n",
      "Rhythm map: [\"W\", \"S\", \"W\", \"S\", \"W\", \"S\", \"W\", \"S\", \"W\", \"S\", \"W\", \"S\", \"W\", \"A\", \"A\", \"A\", \"A\"] size: (17,)\n",
      "Amount of timesteps to optimise: 17\n",
      "Building lookup-table list...\n",
      "Lookup-table built.\n",
      "Initial function score upper bound: 499, voicing score upper bound: 499\n",
      "Starting search...\n",
      "New solution\n",
      "function cost: 147\n",
      "child voicing cost: 104\n",
      "Best yet: 251\n",
      "New solution\n",
      "function cost: 147\n",
      "child voicing cost: 101\n",
      "Best yet: 248\n",
      "New solution\n",
      "function cost: 147\n",
      "child voicing cost: 98\n",
      "Best yet: 245\n",
      "New solution\n",
      "function cost: 147\n",
      "child voicing cost: 96\n",
      "Best yet: 243\n",
      "New solution\n",
      "function cost: 147\n",
      "child voicing cost: 94\n",
      "Best yet: 241\n",
      "New solution\n",
      "function cost: 147\n",
      "child voicing cost: 91\n",
      "Best yet: 238\n",
      "New solution\n",
      "function cost: 147\n",
      "child voicing cost: 88\n",
      "Best yet: 235\n",
      "New solution\n",
      "function cost: 153\n",
      "child voicing cost: 80\n",
      "Best yet: 233\n",
      "New solution\n",
      "function cost: 153\n",
      "child voicing cost: 78\n",
      "Best yet: 231\n",
      "New solution\n",
      "function cost: 153\n",
      "child voicing cost: 75\n",
      "Best yet: 228\n",
      "New solution\n",
      "function cost: 153\n",
      "child voicing cost: 72\n",
      "Best yet: 225\n",
      "New solution\n",
      "function cost: 159\n",
      "child voicing cost: 63\n",
      "Best yet: 222\n",
      "New solution\n",
      "function cost: 159\n",
      "child voicing cost: 60\n",
      "Best yet: 219"
     ]
    },
    {
     "data": {
      "text/plain": [
       "(18, \"T\", Tuple{Int16,Int16}[(53, 1), (60, 5), (69, 3), (77, 1)])"
      ]
     },
     "metadata": {},
     "output_type": "display_data"
    },
    {
     "data": {
      "text/plain": [
       "(12, \"T\", Tuple{Int16,Int16}[(53, 1), (65, 1), (69, 3), (72, 5)])"
      ]
     },
     "metadata": {},
     "output_type": "display_data"
    },
    {
     "data": {
      "text/plain": [
       "(0, \"Ss\", Tuple{Int16,Int16}[(55, 1), (62, 5), (67, 1), (70, 3)])"
      ]
     },
     "metadata": {},
     "output_type": "display_data"
    },
    {
     "data": {
      "text/plain": [
       "(0, \"T/3\", Tuple{Int16,Int16}[(57, 3), (60, 5), (65, 1), (72, 5)])"
      ]
     },
     "metadata": {},
     "output_type": "display_data"
    },
    {
     "data": {
      "text/plain": [
       "(0, \"S65/6\", Tuple{Int16,Int16}[(55, 6), (58, 1), (65, 5), (74, 3)])"
      ]
     },
     "metadata": {},
     "output_type": "display_data"
    },
    {
     "data": {
      "text/plain": [
       "(18, \"D7-1\", Tuple{Int16,Int16}[(55, 5), (58, 7), (67, 5), (76, 3)])"
      ]
     },
     "metadata": {},
     "output_type": "display_data"
    },
    {
     "data": {
      "text/plain": [
       "(0, \"T\", Tuple{Int16,Int16}[(53, 1), (60, 5), (69, 3), (77, 1)])"
      ]
     },
     "metadata": {},
     "output_type": "display_data"
    },
    {
     "data": {
      "text/plain": [
       "(24, \"T\", Tuple{Int16,Int16}[(41, 1), (60, 5), (69, 3), (77, 1)])"
      ]
     },
     "metadata": {},
     "output_type": "display_data"
    },
    {
     "data": {
      "text/plain": [
       "(21, \"Ss\", Tuple{Int16,Int16}[(43, 1), (58, 3), (70, 3), (74, 5)])"
      ]
     },
     "metadata": {},
     "output_type": "display_data"
    },
    {
     "data": {
      "text/plain": [
       "(21, \"T/3\", Tuple{Int16,Int16}[(45, 3), (60, 5), (65, 1), (72, 5)])"
      ]
     },
     "metadata": {},
     "output_type": "display_data"
    },
    {
     "data": {
      "text/plain": [
       "(12, \"S\", Tuple{Int16,Int16}[(46, 1), (58, 1), (65, 5), (74, 3)])"
      ]
     },
     "metadata": {},
     "output_type": "display_data"
    },
    {
     "data": {
      "text/plain": [
       "(12, \"D7-1\", Tuple{Int16,Int16}[(43, 5), (58, 7), (67, 5), (76, 3)])"
      ]
     },
     "metadata": {},
     "output_type": "display_data"
    },
    {
     "data": {
      "text/plain": [
       "(12, \"T/3\", Tuple{Int16,Int16}[(45, 3), (60, 5), (65, 1), (77, 1)])"
      ]
     },
     "metadata": {},
     "output_type": "display_data"
    },
    {
     "data": {
      "text/plain": [
       "(15, \"S\", Tuple{Int16,Int16}[(46, 1), (58, 1), (65, 5), (74, 3)])"
      ]
     },
     "metadata": {},
     "output_type": "display_data"
    },
    {
     "data": {
      "text/plain": [
       "(21, \"D\", Tuple{Int16,Int16}[(48, 1), (55, 5), (64, 3), (72, 1)])"
      ]
     },
     "metadata": {},
     "output_type": "display_data"
    },
    {
     "data": {
      "text/plain": [
       "(18, \"D\", Tuple{Int16,Int16}[(48, 1), (60, 1), (64, 3), (67, 5)])"
      ]
     },
     "metadata": {},
     "output_type": "display_data"
    },
    {
     "data": {
      "text/plain": [
       "(3, \"T\", Tuple{Int16,Int16}[(41, 1), (60, 5), (65, 1), (69, 3)])"
      ]
     },
     "metadata": {},
     "output_type": "display_data"
    },
    {
     "data": {
      "text/plain": [
       "(3, \"D/5\", Tuple{Int16,Int16}[(43, 5), (60, 1), (64, 3), (67, 5)])"
      ]
     },
     "metadata": {},
     "output_type": "display_data"
    },
    {
     "data": {
      "text/plain": [
       "(6, \"T/3\", Tuple{Int16,Int16}[(45, 3), (60, 5), (65, 1), (72, 5)])"
      ]
     },
     "metadata": {},
     "output_type": "display_data"
    },
    {
     "data": {
      "text/plain": [
       "(18, \"D\", Tuple{Int16,Int16}[(48, 1), (64, 3), (67, 5), (72, 1)])"
      ]
     },
     "metadata": {},
     "output_type": "display_data"
    },
    {
     "data": {
      "text/plain": [
       "(6, \"S/3\", Tuple{Int16,Int16}[(50, 3), (58, 1), (65, 5), (70, 1)])"
      ]
     },
     "metadata": {},
     "output_type": "display_data"
    },
    {
     "data": {
      "text/plain": [
       "(0, \"T/5\", Tuple{Int16,Int16}[(48, 5), (60, 5), (65, 1), (69, 3)])"
      ]
     },
     "metadata": {},
     "output_type": "display_data"
    },
    {
     "data": {
      "text/plain": [
       "(18, \"S\", Tuple{Int16,Int16}[(46, 1), (62, 3), (65, 5), (70, 1)])"
      ]
     },
     "metadata": {},
     "output_type": "display_data"
    },
    {
     "data": {
      "text/plain": [
       "(3, \"T\", Tuple{Int16,Int16}[(41, 1), (57, 3), (65, 1), (72, 5)])"
      ]
     },
     "metadata": {},
     "output_type": "display_data"
    },
    {
     "data": {
      "text/plain": [
       "(12, \"D7-1\", Tuple{Int16,Int16}[(43, 5), (58, 7), (64, 3), (67, 5)])"
      ]
     },
     "metadata": {},
     "output_type": "display_data"
    },
    {
     "data": {
      "text/plain": [
       "(12, \"T\", Tuple{Int16,Int16}[(41, 1), (60, 5), (65, 1), (69, 3)])"
      ]
     },
     "metadata": {},
     "output_type": "display_data"
    },
    {
     "data": {
      "text/plain": [
       "(12, \"D7/3\", Tuple{Int16,Int16}[(40, 3), (58, 7), (67, 5), (72, 1)])"
      ]
     },
     "metadata": {},
     "output_type": "display_data"
    },
    {
     "data": {
      "text/plain": [
       "(12, \"T\", Tuple{Int16,Int16}[(41, 1), (57, 3), (65, 1), (72, 5)])"
      ]
     },
     "metadata": {},
     "output_type": "display_data"
    },
    {
     "data": {
      "text/plain": [
       "(9, \"S\", Tuple{Int16,Int16}[(46, 1), (58, 1), (65, 5), (74, 3)])"
      ]
     },
     "metadata": {},
     "output_type": "display_data"
    },
    {
     "data": {
      "text/plain": [
       "(12, \"D7\", Tuple{Int16,Int16}[(48, 1), (58, 7), (64, 3), (67, 5)])"
      ]
     },
     "metadata": {},
     "output_type": "display_data"
    },
    {
     "data": {
      "text/plain": [
       "(18, \"T\", Tuple{Int16,Int16}[(53, 1), (57, 3), (60, 5), (65, 1)])"
      ]
     },
     "metadata": {},
     "output_type": "display_data"
    },
    {
     "data": {
      "text/plain": [
       "(18, \"T\", Tuple{Int16,Int16}[(53, 1), (57, 3), (60, 5), (65, 1)])"
      ]
     },
     "metadata": {},
     "output_type": "display_data"
    },
    {
     "name": "stdout",
     "output_type": "stream",
     "text": [
      "\n",
      "##: Done. Total checked: 185274, Pruned: 206467, completed: 13, time: 3.703000068664551, efficiency: 3.510666961636951\n",
      "Results: bestval_func: 159, bestval_voices: 60\n",
      "#Key: 6Scale: Major\n",
      "#Total time for optimisation of piece: 7.57699990272522\n",
      "#Total cost of piece: 472\n",
      "[\"T\", \"T\", \"Ss\", \"T/3\", \"S65/6\", \"D7-1\", \"T\", \"T\", \"Ss\", \"T/3\", \"S\", \"D7-1\", \"T/3\", \"S\", \"D\", \"D\", \"T\", \"D/5\", \"T/3\", \"D\", \"S/3\", \"T/5\", \"S\", \"T\", \"D7-1\", \"T\", \"D7/3\", \"T\", \"S\", \"D7\", \"T\", \"T\"]\n",
      "../../results/optimizer/pianoroll/SMP-63-chorl-opt.csv\n",
      " End of file \n",
      " \n",
      "Optimising: ../../results/neuralnet/pianoroll/SMP-72-chorl-nn.csv\n",
      "[1 0 0 0 1 0 0 1 0 1 0 0; 0 0 1 0 0 1 0 0 0 1 0 1; 1 0 0 0 2 0 0 1 0 0 0 0; 0 0 2 0 0 1 0 0 0 1 0 0; 0 0 2 0 0 1 0 0 0 0 0 1; 2 0 0 0 1 0 0 1 0 0 0 0; 2 0 0 0 0 0 0 1 0 0 0 1; 0 0 0 0 1 0 0 1 0 0 0 2; 2 0 0 0 1 0 0 1 0 0 0 0; 1 0 0 0 1 0 0 2 0 0 0 0; 0 0 1 0 1 0 0 1 0 1 0 0; 0 0 1 0 0 1 0 0 0 2 0 0; 0 0 2 1 0 0 0 0 0 1 0 0; 1 0 0 0 2 0 0 0 0 1 0 0; 1 0 0 0 0 0 0 2 0 0 0 1; 1 0 0 0 0 1 0 1 0 0 0 1; 1 0 1 0 0 1 0 1 0 0 0 0; 0 0 1 0 1 0 0 1 0 1 0 0; 0 0 1 0 1 0 0 1 0 1 0 0; 0 0 1 0 0 0 0 1 0 2 0 0; 0 0 1 0 1 0 0 1 0 0 0 1; 1 0 0 0 2 0 0 0 0 1 0 0; 1 0 0 0 1 0 0 0 0 2 0 0; 0 0 2 0 0 1 0 0 0 1 0 0; 0 0 0 0 2 1 0 1 0 0 0 0; 1 0 0 0 1 1 0 1 0 0 0 0; 0 0 0 0 0 2 0 1 0 1 0 0; 1 0 0 0 2 0 0 1 0 0 0 0; 2 0 0 0 0 0 0 1 0 1 0 0; 1 0 1 0 0 0 0 1 0 1 0 0; 1 0 0 0 1 0 0 1 0 1 0 0; 1 0 1 0 0 0 0 0 0 2 0 0; 0 0 1 0 0 0 0 2 0 0 0 1]\n",
      "Key Counter is [22 0 19 1 22 11 0 26 0 22 0 9]\n",
      "Key Score is [131; 34; 98; 79; 54; 122; 21; 120; 60; 72; 101; 32]\n",
      "Position Counter for 1 is [22 0 19 1 22 11 0 26 0 22 0 9]\n",
      "Any[[1.0, 83.75, 1.0]]\n",
      "[1, 84, 1]\n",
      "1 C Major\n",
      "Rhythm map: [\"S\", \"W\", \"S\", \"W\", \"S\", \"C\", \"C\", \"C\", \"S\", \"W\", \"S\", \"W\", \"S\", \"C\", \"C\", \"C\"] size: (16,)\n",
      "Amount of timesteps to optimise: 16\n",
      "Building lookup-table list...\n",
      "Lookup-table built.\n",
      "Initial function score upper bound: 499, voicing score upper bound: 499\n",
      "Starting search...\n",
      "New solution\n",
      "function cost: 165\n",
      "child voicing cost: 116\n",
      "Best yet: 281\n",
      "New solution\n",
      "function cost: 165\n",
      "child voicing cost: 115\n",
      "Best yet: 280\n",
      "New solution\n",
      "function cost: 165\n",
      "child voicing cost: 104\n",
      "Best yet: 269\n",
      "New solution\n",
      "function cost: 159\n",
      "child voicing cost: 109\n",
      "Best yet: 268\n",
      "New solution\n",
      "function cost: 159\n",
      "child voicing cost: 107\n",
      "Best yet: 266\n",
      "New solution\n",
      "function cost: 171\n",
      "child voicing cost: 94\n",
      "Best yet: 265\n",
      "New solution\n",
      "function cost: 171\n",
      "child voicing cost: 93\n",
      "Best yet: 264\n",
      "New solution\n",
      "function cost: 171\n",
      "child voicing cost: 91\n",
      "Best yet: 262\n",
      "New solution\n",
      "function cost: 171\n",
      "child voicing cost: 86\n",
      "Best yet: 257\n",
      "New solution\n",
      "function cost: 159\n",
      "child voicing cost: 91\n",
      "Best yet: 250\n",
      "New solution\n",
      "function cost: 153\n",
      "child voicing cost: 95\n",
      "Best yet: 248\n",
      "New solution\n",
      "function cost: 159\n",
      "child voicing cost: 84\n",
      "Best yet: 243\n",
      "New solution\n",
      "function cost: 159\n",
      "child voicing cost: 83\n",
      "Best yet: 242\n",
      "New solution\n",
      "function cost: 159\n",
      "child voicing cost: 82\n",
      "Best yet: 241\n",
      "New solution\n",
      "function cost: 159\n",
      "child voicing cost: 81\n",
      "Best yet: 240\n",
      "New solution\n",
      "function cost: 159\n",
      "child voicing cost: 80\n",
      "Best yet: 239\n",
      "New solution\n",
      "function cost: 144\n",
      "child voicing cost: 89\n",
      "Best yet: 233\n",
      "New solution\n",
      "function cost: 144\n",
      "child voicing cost: 86\n",
      "Best yet: 230\n",
      "New solution\n",
      "function cost: 144\n",
      "child voicing cost: 80\n",
      "Best yet: 224\n",
      "##: Done. Total checked: 258267, Pruned: 336056, completed: 19, time: 5.144999980926514, efficiency: 3.692905747412359\n",
      "Results: bestval_func: 144, bestval_voices: 80\n",
      "[1 0 0 0 1 0 0 1 0 1 0 0; 0 0 1 0 0 1 0 0 0 1 0 1; 1 0 0 0 2 0 0 1 0 0 0 0; 0 0 2 0 0 1 0 0 0 1 0 0; 0 0 2 0 0 1 0 0 0 0 0 1; 2 0 0 0 1 0 0 1 0 0 0 0; 2 0 0 0 0 0 0 1 0 0 0 1; 0 0 0 0 1 0 0 1 0 0 0 2; 2 0 0 0 1 0 0 1 0 0 0 0; 1 0 0 0 1 0 0 2 0 0 0 0; 0 0 1 0 1 0 0 1 0 1 0 0; 0 0 1 0 0 1 0 0 0 2 0 0; 0 0 2 1 0 0 0 0 0 1 0 0; 1 0 0 0 2 0 0 0 0 1 0 0; 1 0 0 0 0 0 0 2 0 0 0 1; 1 0 0 0 0 1 0 1 0 0 0 1; 1 0 1 0 0 1 0 1 0 0 0 0; 0 0 1 0 1 0 0 1 0 1 0 0; 0 0 1 0 1 0 0 1 0 1 0 0; 0 0 1 0 0 0 0 1 0 2 0 0; 0 0 1 0 1 0 0 1 0 0 0 1; 1 0 0 0 2 0 0 0 0 1 0 0; 1 0 0 0 1 0 0 0 0 2 0 0; 0 0 2 0 0 1 0 0 0 1 0 0; 0 0 0 0 2 1 0 1 0 0 0 0; 1 0 0 0 1 1 0 1 0 0 0 0; 0 0 0 0 0 2 0 1 0 1 0 0; 1 0 0 0 2 0 0 1 0 0 0 0; 2 0 0 0 0 0 0 1 0 1 0 0; 1 0 1 0 0 0 0 1 0 1 0 0; 1 0 0 0 1 0 0 1 0 1 0 0; 1 0 1 0 0 0 0 0 0 2 0 0; 0 0 1 0 0 0 0 2 0 0 0 1]\n",
      "Key Counter is [22 0 19 1 22 11 0 26 0 22 0 9]\n",
      "Key Score is [131; 34; 98; 79; 54; 122; 21; 120; 60; 72; 101; 32]\n",
      "Position Counter for 1 is [22 0 19 1 22 11 0 26 0 22 0 9]\n",
      "Any[[1.0, 83.75, 1.0]]\n",
      "[1, 84, 1]\n",
      "1 C Major\n",
      "Rhythm map: [\"W\", \"S\", \"W\", \"S\", \"W\", \"S\", \"W\", \"S\", \"W\", \"S\", \"W\", \"S\", \"W\", \"A\", \"A\", \"A\", \"A\"] size: (17,)\n",
      "Amount of timesteps to optimise: 17\n",
      "Building lookup-table list...\n",
      "Lookup-table built.\n",
      "Initial function score upper bound: 499, voicing score upper bound: 499\n",
      "Starting search...\n",
      "New solution\n",
      "function cost: 174\n",
      "child voicing cost: 108\n",
      "Best yet: 282\n",
      "New solution\n",
      "function cost: 174\n",
      "child voicing cost: 100\n",
      "Best yet: 274\n",
      "New solution\n",
      "function cost: 174\n",
      "child voicing cost: 95\n",
      "Best yet: 269\n",
      "New solution\n",
      "function cost: 174\n",
      "child voicing cost: 92\n",
      "Best yet: 266\n",
      "New solution\n",
      "function cost: 174\n",
      "child voicing cost: 90\n",
      "Best yet: 264\n",
      "New solution\n",
      "function cost: 174\n",
      "child voicing cost: 89\n",
      "Best yet: 263\n",
      "New solution\n",
      "function cost: 174\n",
      "child voicing cost: 87\n",
      "Best yet: 261\n",
      "New solution\n",
      "function cost: 174\n",
      "child voicing cost: 85\n",
      "Best yet: 259\n",
      "New solution\n",
      "function cost: 174\n",
      "child voicing cost: 83\n",
      "Best yet: 257\n",
      "New solution\n",
      "function cost: 174\n",
      "child voicing cost: 80\n",
      "Best yet: 254\n",
      "New solution\n",
      "function cost: 174\n",
      "child voicing cost: 78\n",
      "Best yet: 252\n",
      "New solution\n",
      "function cost: 174\n",
      "child voicing cost: 77\n",
      "Best yet: 251\n",
      "New solution\n",
      "function cost: 177\n",
      "child voicing cost: 72\n",
      "Best yet: 249\n",
      "New solution\n",
      "function cost: 174\n",
      "child voicing cost: 74\n",
      "Best yet: 248\n",
      "New solution\n",
      "function cost: 174\n",
      "child voicing cost: 71\n",
      "Best yet: 245\n",
      "New solution\n",
      "function cost: 174\n",
      "child voicing cost: 69\n",
      "Best yet: 243\n"
     ]
    },
    {
     "data": {
      "text/plain": [
       "(9, \"T\", Tuple{Int16,Int16}[(60, 1), (60, 1), (64, 3), (67, 5)])"
      ]
     },
     "metadata": {},
     "output_type": "display_data"
    },
    {
     "data": {
      "text/plain": [
       "(6, \"D7/7\", Tuple{Int16,Int16}[(53, 7), (59, 3), (62, 5), (67, 1)])"
      ]
     },
     "metadata": {},
     "output_type": "display_data"
    },
    {
     "data": {
      "text/plain": [
       "(9, \"T/3\", Tuple{Int16,Int16}[(52, 3), (60, 1), (67, 5), (72, 1)])"
      ]
     },
     "metadata": {},
     "output_type": "display_data"
    },
    {
     "data": {
      "text/plain": [
       "(15, \"S\", Tuple{Int16,Int16}[(53, 1), (60, 5), (65, 1), (69, 3)])"
      ]
     },
     "metadata": {},
     "output_type": "display_data"
    },
    {
     "data": {
      "text/plain": [
       "(0, \"D7-1\", Tuple{Int16,Int16}[(50, 5), (62, 5), (65, 7), (71, 3)])"
      ]
     },
     "metadata": {},
     "output_type": "display_data"
    },
    {
     "data": {
      "text/plain": [
       "(0, \"T\", Tuple{Int16,Int16}[(48, 1), (64, 3), (67, 5), (72, 1)])"
      ]
     },
     "metadata": {},
     "output_type": "display_data"
    },
    {
     "data": {
      "text/plain": [
       "(27, \"S\", Tuple{Int16,Int16}[(53, 1), (65, 1), (69, 3), (72, 5)])"
      ]
     },
     "metadata": {},
     "output_type": "display_data"
    },
    {
     "data": {
      "text/plain": [
       "(18, \"S\", Tuple{Int16,Int16}[(53, 1), (60, 5), (69, 3), (77, 1)])"
      ]
     },
     "metadata": {},
     "output_type": "display_data"
    },
    {
     "data": {
      "text/plain": [
       "(0, \"T/3\", Tuple{Int16,Int16}[(52, 3), (60, 1), (67, 5), (79, 5)])"
      ]
     },
     "metadata": {},
     "output_type": "display_data"
    },
    {
     "data": {
      "text/plain": [
       "(3, \"Tm\", Tuple{Int16,Int16}[(40, 1), (59, 5), (67, 3), (79, 3)])"
      ]
     },
     "metadata": {},
     "output_type": "display_data"
    },
    {
     "data": {
      "text/plain": [
       "(15, \"S\", Tuple{Int16,Int16}[(41, 1), (57, 3), (65, 1), (72, 5)])"
      ]
     },
     "metadata": {},
     "output_type": "display_data"
    },
    {
     "data": {
      "text/plain": [
       "(12, \"D7\", Tuple{Int16,Int16}[(43, 1), (62, 5), (65, 7), (71, 3)])"
      ]
     },
     "metadata": {},
     "output_type": "display_data"
    },
    {
     "data": {
      "text/plain": [
       "(15, \"Ts\", Tuple{Int16,Int16}[(45, 1), (60, 3), (64, 5), (72, 3)])"
      ]
     },
     "metadata": {},
     "output_type": "display_data"
    },
    {
     "data": {
      "text/plain": [
       "(6, \"S\", Tuple{Int16,Int16}[(41, 1), (60, 5), (65, 1), (69, 3)])"
      ]
     },
     "metadata": {},
     "output_type": "display_data"
    },
    {
     "data": {
      "text/plain": [
       "(6, \"D\", Tuple{Int16,Int16}[(43, 1), (59, 3), (62, 5), (67, 1)])"
      ]
     },
     "metadata": {},
     "output_type": "display_data"
    },
    {
     "data": {
      "text/plain": [
       "(12, \"D\", Tuple{Int16,Int16}[(55, 1), (59, 3), (62, 5), (67, 1)])"
      ]
     },
     "metadata": {},
     "output_type": "display_data"
    },
    {
     "data": {
      "text/plain": [
       "(3, \"D7/7\", Tuple{Int16,Int16}[(53, 7), (59, 3), (62, 5), (67, 1)])"
      ]
     },
     "metadata": {},
     "output_type": "display_data"
    },
    {
     "data": {
      "text/plain": [
       "(15, \"T/3\", Tuple{Int16,Int16}[(52, 3), (60, 1), (67, 5), (79, 5)])"
      ]
     },
     "metadata": {},
     "output_type": "display_data"
    },
    {
     "data": {
      "text/plain": [
       "(15, \"S\", Tuple{Int16,Int16}[(53, 1), (60, 5), (69, 3), (77, 1)])"
      ]
     },
     "metadata": {},
     "output_type": "display_data"
    },
    {
     "data": {
      "text/plain": [
       "(12, \"D\", Tuple{Int16,Int16}[(55, 1), (59, 3), (67, 1), (74, 5)])"
      ]
     },
     "metadata": {},
     "output_type": "display_data"
    },
    {
     "data": {
      "text/plain": [
       "(3, \"D7/7\", Tuple{Int16,Int16}[(53, 7), (59, 3), (67, 1), (74, 5)])"
      ]
     },
     "metadata": {},
     "output_type": "display_data"
    },
    {
     "data": {
      "text/plain": [
       "(15, \"T/3\", Tuple{Int16,Int16}[(52, 3), (60, 1), (67, 5), (72, 1)])"
      ]
     },
     "metadata": {},
     "output_type": "display_data"
    },
    {
     "data": {
      "text/plain": [
       "(0, \"Ts\", Tuple{Int16,Int16}[(45, 1), (60, 3), (69, 1), (76, 5)])"
      ]
     },
     "metadata": {},
     "output_type": "display_data"
    },
    {
     "data": {
      "text/plain": [
       "(0, \"Ss\", Tuple{Int16,Int16}[(50, 1), (65, 3), (69, 5), (74, 1)])"
      ]
     },
     "metadata": {},
     "output_type": "display_data"
    },
    {
     "data": {
      "text/plain": [
       "(18, \"T/3\", Tuple{Int16,Int16}[(52, 3), (60, 1), (67, 5), (72, 1)])"
      ]
     },
     "metadata": {},
     "output_type": "display_data"
    },
    {
     "data": {
      "text/plain": [
       "(9, \"S\", Tuple{Int16,Int16}[(53, 1), (60, 5), (65, 1), (69, 3)])"
      ]
     },
     "metadata": {},
     "output_type": "display_data"
    },
    {
     "data": {
      "text/plain": [
       "(15, \"D7/7\", Tuple{Int16,Int16}[(53, 7), (62, 5), (67, 1), (71, 3)])"
      ]
     },
     "metadata": {},
     "output_type": "display_data"
    },
    {
     "data": {
      "text/plain": [
       "(9, \"T/3\", Tuple{Int16,Int16}[(52, 3), (60, 1), (67, 5), (72, 1)])"
      ]
     },
     "metadata": {},
     "output_type": "display_data"
    },
    {
     "data": {
      "text/plain": [
       "(15, \"D\", Tuple{Int16,Int16}[(55, 1), (62, 5), (67, 1), (71, 3)])"
      ]
     },
     "metadata": {},
     "output_type": "display_data"
    },
    {
     "data": {
      "text/plain": [
       "(9, \"D\", Tuple{Int16,Int16}[(55, 1), (67, 1), (71, 3), (74, 5)])"
      ]
     },
     "metadata": {},
     "output_type": "display_data"
    },
    {
     "data": {
      "text/plain": [
       "(9, \"T\", Tuple{Int16,Int16}[(48, 1), (67, 5), (72, 1), (76, 3)])"
      ]
     },
     "metadata": {},
     "output_type": "display_data"
    },
    {
     "data": {
      "text/plain": [
       "(9, \"T\", Tuple{Int16,Int16}[(48, 1), (67, 5), (72, 1), (76, 3)])"
      ]
     },
     "metadata": {},
     "output_type": "display_data"
    },
    {
     "name": "stdout",
     "output_type": "stream",
     "text": [
      "##: Done. Total checked: 126479, Pruned: 137117, completed: 16, time: 2.57099986076355, efficiency: 6.223259769157759\n",
      "Results: bestval_func: 174, bestval_voices: 69\n",
      "#Key: 1Scale: Major\n",
      "#Total time for optimisation of piece: 9.381999969482422\n",
      "#Total cost of piece: 467\n",
      "[\"T\", \"D7/7\", \"T/3\", \"S\", \"D7-1\", \"T\", \"S\", \"S\", \"T/3\", \"Tm\", \"S\", \"D7\", \"Ts\", \"S\", \"D\", \"D\", \"D7/7\", \"T/3\", \"S\", \"D\", \"D7/7\", \"T/3\", \"Ts\", \"Ss\", \"T/3\", \"S\", \"D7/7\", \"T/3\", \"D\", \"D\", \"T\", \"T\"]\n",
      "../../results/optimizer/pianoroll/SMP-72-chorl-opt.csv\n",
      " End of file \n",
      " \n"
     ]
    }
   ],
   "source": [
    "using Glob\n",
    "\n",
    "## Convert back to piano roll\n",
    "function makePianoRoll(notes, filenumber, i, scale)\n",
    "    pianoroll = zeros(Int8, 128, size(notes,1))\n",
    "    counter = 1\n",
    "    for (j, set) in enumerate(notes[:])\n",
    "        for voice in set\n",
    "            if scale == \"Minor\" && (j == size(notes,1) || j == size(notes,1)-1) && voice[2] == 3\n",
    "                pianoroll[voice[1]+2, counter] = 1\n",
    "            else\n",
    "                pianoroll[voice[1]+1, counter] = 1\n",
    "            end\n",
    "        end\n",
    "        counter = counter + 1\n",
    "    end\n",
    "    empty = zeros(Int8, 1, size(notes, 1))\n",
    "    new = vcat(empty, pianoroll)\n",
    "\n",
    "    savepath = \"../../results/optimizer/pianoroll/$filenumber.csv\"\n",
    "    println(savepath)\n",
    "    writedlm(savepath,  new, ',')\n",
    "    println(\" End of file \")\n",
    "    println(\" \")\n",
    "end\n",
    "    \n",
    "#println(glob(\"*.csv\", \"../../results/neuralnet/pianoroll\"))\n",
    "for filepath in glob(\"*.csv\", \"../../results/neuralnet/pianoroll\")   \n",
    "    \n",
    "    #filepath = \"../../results/neuralnet/pianoroll/AC-11-Wann-nn.csv\"\n",
    "    println(\"Optimising: \", filepath)\n",
    "    filenumberandextension = split(filepath, \"-\")[end]\n",
    "    filenumber = split(filenumberandextension, \".\")[1]\n",
    "\n",
    "    first_part, second_part, scale, elapsed, totalcost = optimiseMusic(filepath, (4,2))\n",
    "\n",
    "    path = split(filepath, \"/\")[end]\n",
    "    stringlist = split(path, \"-\")[1:end]\n",
    "    filename = stringlist[1] * \"-\" * stringlist[2] * \"-\" * stringlist[3] * \"-opt\"   \n",
    "        \n",
    "    solution_notes_list = []\n",
    "    solution_functions_list = []\n",
    "    solutionlist = []\n",
    "    solution = deepcopy(first_part[1].sequence)\n",
    "\n",
    "    solution = push!(solutionlist, solution)\n",
    "\n",
    "    for timestep in second_part[1].sequence[2:end-1]\n",
    "        push!(solutionlist[1], timestep)\n",
    "    end\n",
    "\n",
    "    push!(solutionlist[1], second_part[1].sequence[end-1])\n",
    "\n",
    "    println(\"#Total time for optimisation of piece: \", elapsed)\n",
    "    println(\"#Total cost of piece: \", totalcost)\n",
    "    solution = solutionlist[1]\n",
    "\n",
    "    amount = 10\n",
    "    if size(solution, 1) < 10\n",
    "        amount = size(solution, 1)\n",
    "    end\n",
    "\n",
    "    push!(solution_notes_list, [timestep[3] for timestep in solution])\n",
    "    push!(solution_functions_list, [timestep[2] for timestep in solution])\n",
    "    for line in solution\n",
    "        display(line)\n",
    "    end\n",
    "\n",
    "    println(solution_functions_list[1])\n",
    "\n",
    "    makePianoRoll(solution_notes_list[1], filename, 1, scale)\n",
    "\n",
    "end"
   ]
  }
 ],
 "metadata": {
  "kernelspec": {
   "display_name": "Julia 1.1.0",
   "language": "julia",
   "name": "julia-1.1"
  },
  "language_info": {
   "file_extension": ".jl",
   "mimetype": "application/julia",
   "name": "julia",
   "version": "1.1.0"
  }
 },
 "nbformat": 4,
 "nbformat_minor": 2
}
