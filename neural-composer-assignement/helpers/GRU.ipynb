{
 "cells": [
  {
   "cell_type": "code",
   "execution_count": 2,
   "metadata": {},
   "outputs": [],
   "source": [
    "%matplotlib inline\n",
    "import torch\n",
    "import torch.nn as nn\n",
    "import torch.nn.functional as F\n",
    "import torch.optim as optim\n",
    "import torch.autograd as autograd\n",
    "import dataset as dataset\n",
    "import datapreparation as datp\n",
    "import numpy as np\n",
    "import matplotlib.pyplot as plt\n",
    "import random\n",
    "import math\n",
    "import os\n",
    "import copy\n",
    "import importlib\n",
    "import GRU as gru"
   ]
  },
  {
   "cell_type": "code",
   "execution_count": 3,
   "metadata": {},
   "outputs": [
    {
     "name": "stdout",
     "output_type": "stream",
     "text": [
      "True\n"
     ]
    }
   ],
   "source": [
    "## reload imports\n",
    "importlib.reload(datp)\n",
    "importlib.reload(gru)\n",
    "data = dataset.pianoroll_dataset_batch(\"C:\\DeepLearning\\Master\\\\neural-composer-assignement\\datasets\\\\training\\piano_roll_fs5\")\n",
    "print(torch.cuda.is_available())"
   ]
  },
  {
   "cell_type": "code",
   "execution_count": 3,
   "metadata": {},
   "outputs": [],
   "source": [
    "## Initialize Generalist\n",
    "## Generalist(input_size, hidden_size, num_tags)\n",
    "model_generalist = gru.Generalist(128, 256, int(data.num_tags()))\n",
    "model_generalist.optimizer = torch.optim.Adam(model_generalist.parameters())\n",
    "model_generalist.loss_log = []"
   ]
  },
  {
   "cell_type": "code",
   "execution_count": 107,
   "metadata": {},
   "outputs": [],
   "source": [
    "## Initialize Specialist\n",
    "## Specialist(input_size, hidden_size, num_tags)\n",
    "model_specialist = gru.Specialist(128, 256, int(data.num_tags()))\n",
    "#model_specialist.cuda()\n",
    "#model_specialist.optimizer = torch.optim.Adam(model_specialist.parameters())\n",
    "model_specialist.loss_log = []"
   ]
  },
  {
   "cell_type": "code",
   "execution_count": null,
   "metadata": {},
   "outputs": [],
   "source": [
    "## Train the generalist\n",
    "num_epochs = 1000\n",
    "## Returns state for transferred training\n",
    "state = gru.train_sequence(model_generalist, num_epochs, data, model_generalist.optimizer, model_generalist.loss_log)"
   ]
  },
  {
   "cell_type": "code",
   "execution_count": null,
   "metadata": {},
   "outputs": [],
   "source": [
    "## Train the specialist\n",
    "num_epochs = 100\n",
    "## Returns state for transferred training\n",
    "state = gru.train_sequence(model_specialist, num_epochs, data, model_specialist.optimizer, model_specialist.loss_log)\n"
   ]
  },
  {
   "cell_type": "code",
   "execution_count": 8,
   "metadata": {},
   "outputs": [],
   "source": [
    "## Save the Generalist state\n",
    "dir_path = os.path.dirname(os.path.realpath(gru.__file__))\n",
    "torch.save(state, dir_path+'\\\\Generalist.pt')\n",
    "\n",
    "## Current best state 1000 epochs, 256 hidden_size."
   ]
  },
  {
   "cell_type": "code",
   "execution_count": 76,
   "metadata": {},
   "outputs": [],
   "source": [
    "## Save the Specialist state\n",
    "dir_path = os.path.dirname(os.path.realpath(gru.__file__))\n",
    "torch.save(state, dir_path+'\\\\Specialist.pt')\n",
    "\n",
    "## Current best state 1000 epochs, 256 hidden_size."
   ]
  },
  {
   "cell_type": "code",
   "execution_count": 10,
   "metadata": {},
   "outputs": [
    {
     "name": "stdout",
     "output_type": "stream",
     "text": [
      "Total number of epochs run:  1000\n",
      "Epoch number of lowest loss:  989\n",
      "Loss for best epoch 1.0233720755204558\n"
     ]
    }
   ],
   "source": [
    "## Print Generalist state\n",
    "print('Total number of epochs run: ', len(model_generalist.loss_log))\n",
    "print('Epoch number of lowest loss: ', model_generalist.loss_log.index(min(model_generalist.loss_log)))\n",
    "print('Loss for best epoch', min(model_generalist.loss_log))"
   ]
  },
  {
   "cell_type": "code",
   "execution_count": 78,
   "metadata": {},
   "outputs": [
    {
     "name": "stdout",
     "output_type": "stream",
     "text": [
      "Total number of epochs run:  1500\n",
      "Epoch number of lowest loss:  1469\n",
      "Loss for best epoch 0.8508922294713557\n"
     ]
    }
   ],
   "source": [
    "## Print Specialist state\n",
    "print('Total number of epochs run: ', len(model_specialist.loss_log))\n",
    "print('Epoch number of lowest loss: ', model_specialist.loss_log.index(min(model_specialist.loss_log)))\n",
    "print('Loss for best epoch', min(model_specialist.loss_log))"
   ]
  },
  {
   "cell_type": "code",
   "execution_count": 4,
   "metadata": {},
   "outputs": [],
   "source": [
    "## Load saved weights into Generalist model\n",
    "#gru.load(model_generalist, model_generalist.optimizer, filename='Generalist.pt')\n",
    "#model_generalist.optimizer = gru.load(model_generalist, filename='Generalist.pt')\n",
    "## Additional weight setting with dropout used. Different result, but needs to train longer.\n",
    "#gru.load(model_generalist, model_generalist.optimizer, filename='GeneralistDropout.pt')\n",
    "model_generalist.optimizer = gru.load(model_generalist, filename='GeneralistDropout.pt')"
   ]
  },
  {
   "cell_type": "code",
   "execution_count": 19,
   "metadata": {},
   "outputs": [
    {
     "data": {
      "image/png": "[encoded data removed]",
      "text/plain": [
       "<Figure size 432x288 with 1 Axes>"
      ]
     },
     "metadata": {
      "needs_background": "light"
     },
     "output_type": "display_data"
    },
    {
     "name": "stdout",
     "output_type": "stream",
     "text": [
      "<IPython.lib.display.Audio object>\n"
     ]
    }
   ],
   "source": [
    "## Generate Generalist music\n",
    "embed, matrix = gru.gen_music_seconds_smooth(model_generalist, data[0][0] ,composer=0,fs=5,gen_seconds=40,init_seconds=5, device='cpu')\n",
    "embed"
   ]
  },
  {
   "cell_type": "markdown",
   "metadata": {},
   "source": [
    "# Export pianoroll as CSV"
   ]
  },
  {
   "cell_type": "code",
   "execution_count": 13,
   "metadata": {},
   "outputs": [],
   "source": [
    "import numpy\n",
    "roll = matrix.astype(int)\n",
    "numpy.savetxt(\"test.csv\", roll, fmt='%i', delimiter=\",\")"
   ]
  },
  {
   "cell_type": "markdown",
   "metadata": {},
   "source": [
    "# Convert csv to midi"
   ]
  },
  {
   "cell_type": "code",
   "execution_count": 14,
   "metadata": {},
   "outputs": [
    {
     "data": {
      "text/plain": [
       "'C:\\\\DeepLearning\\\\Master\\\\neural-composer-assignement\\\\helpers\\\\test2.mid'"
      ]
     },
     "execution_count": 14,
     "metadata": {},
     "output_type": "execute_result"
    }
   ],
   "source": [
    "roll *= 100\n",
    "datp.piano_roll_to_mid_file(roll,\"test2.mid\",5,1)"
   ]
  },
  {
   "cell_type": "code",
   "execution_count": 108,
   "metadata": {},
   "outputs": [],
   "source": [
    "## Load saved weights into Specialist model\n",
    "model_specialist.optimizer = gru.load(model_specialist, filename='Specialist.pt', device='cuda')\n",
    "#model_specialist.optimizer = gru.load(model_specialist, filename='Specialist-256-not-shit.pt', device='cuda')"
   ]
  },
  {
   "cell_type": "code",
   "execution_count": 80,
   "metadata": {},
   "outputs": [
    {
     "ename": "NameError",
     "evalue": "name 'model_specialist' is not defined",
     "output_type": "error",
     "traceback": [
      "\u001b[1;31m---------------------------------------------------------------------------\u001b[0m",
      "\u001b[1;31mNameError\u001b[0m                                 Traceback (most recent call last)",
      "\u001b[1;32m<ipython-input-80-24381f444efa>\u001b[0m in \u001b[0;36m<module>\u001b[1;34m\u001b[0m\n\u001b[0;32m      1\u001b[0m \u001b[1;31m## Generate Specialist music\u001b[0m\u001b[1;33m\u001b[0m\u001b[1;33m\u001b[0m\u001b[0m\n\u001b[1;32m----> 2\u001b[1;33m \u001b[0membed\u001b[0m\u001b[1;33m,\u001b[0m \u001b[0mmatrix\u001b[0m \u001b[1;33m=\u001b[0m \u001b[0mgru\u001b[0m\u001b[1;33m.\u001b[0m\u001b[0mgen_music_seconds_smooth\u001b[0m\u001b[1;33m(\u001b[0m\u001b[0mmodel_specialist\u001b[0m\u001b[1;33m,\u001b[0m \u001b[0mdata\u001b[0m\u001b[1;33m[\u001b[0m\u001b[1;36m0\u001b[0m\u001b[1;33m]\u001b[0m\u001b[1;33m[\u001b[0m\u001b[1;36m0\u001b[0m\u001b[1;33m]\u001b[0m \u001b[1;33m,\u001b[0m\u001b[0mcomposer\u001b[0m\u001b[1;33m=\u001b[0m\u001b[1;36m0\u001b[0m\u001b[1;33m,\u001b[0m\u001b[0mfs\u001b[0m\u001b[1;33m=\u001b[0m\u001b[1;36m5\u001b[0m\u001b[1;33m,\u001b[0m\u001b[0mgen_seconds\u001b[0m\u001b[1;33m=\u001b[0m\u001b[1;36m40\u001b[0m\u001b[1;33m,\u001b[0m\u001b[0minit_seconds\u001b[0m\u001b[1;33m=\u001b[0m\u001b[1;36m5\u001b[0m\u001b[1;33m,\u001b[0m \u001b[0mdevice\u001b[0m\u001b[1;33m=\u001b[0m\u001b[1;34m'cpu'\u001b[0m\u001b[1;33m)\u001b[0m\u001b[1;33m\u001b[0m\u001b[0m\n\u001b[0m",
      "\u001b[1;31mNameError\u001b[0m: name 'model_specialist' is not defined"
     ]
    }
   ],
   "source": [
    "## Generate Specialist music\n",
    "embed, matrix = gru.gen_music_seconds_smooth(model_specialist, data[0][0] ,composer=0,fs=5,gen_seconds=40,init_seconds=5, device='cpu')\n"
   ]
  },
  {
   "cell_type": "code",
   "execution_count": 11,
   "metadata": {},
   "outputs": [
    {
     "name": "stdout",
     "output_type": "stream",
     "text": [
      "128\n"
     ]
    },
    {
     "data": {
      "image/png": "[encoded data removed]",
      "text/plain": [
       "<Figure size 432x288 with 1 Axes>"
      ]
     },
     "metadata": {
      "needs_background": "light"
     },
     "output_type": "display_data"
    },
    {
     "data": {
      "text/plain": [
       "'C:\\\\DeepLearning\\\\Master\\\\neural-composer-assignement\\\\helpers\\\\test.mid'"
      ]
     },
     "execution_count": 11,
     "metadata": {},
     "output_type": "execute_result"
    }
   ],
   "source": [
    "#datp.piano_roll_to_mid_file(\"C:\\DeepLearning\\Master\\IP\\fourpart\\test.csv\",\"test\",1,11)\n",
    "data2 = dataset.pianoroll_dataset_batch(\"C:\\DeepLearning\\Master\\\\IP\\\\fourpart\\\\output\")\n",
    "print(data2[0][0].shape[2])\n",
    "#data2.view_pianoroll(0)\n",
    "datp.visualize_piano_roll(data2.data[0],fs=1)\n",
    "play, matrix = datp.embed_play_v1(data2.data[0],fs=1)\n",
    "play\n",
    "\n",
    "matrix *= 100\n",
    "datp.piano_roll_to_mid_file(matrix,\"test.mid\",1,49)"
   ]
  },
  {
   "cell_type": "code",
   "execution_count": null,
   "metadata": {},
   "outputs": [],
   "source": []
  }
 ],
 "metadata": {
  "kernelspec": {
   "display_name": "Python 3",
   "language": "python",
   "name": "python3"
  },
  "language_info": {
   "codemirror_mode": {
    "name": "ipython",
    "version": 3
   },
   "file_extension": ".py",
   "mimetype": "text/x-python",
   "name": "python",
   "nbconvert_exporter": "python",
   "pygments_lexer": "ipython3",
   "version": "3.7.0"
  }
 },
 "nbformat": 4,
 "nbformat_minor": 2
}
