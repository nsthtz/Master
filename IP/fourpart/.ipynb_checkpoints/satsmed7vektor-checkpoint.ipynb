{
 "cells": [
  {
   "cell_type": "code",
   "execution_count": 124,
   "metadata": {},
   "outputs": [
    {
     "name": "stdout",
     "output_type": "stream",
     "text": [
      "\u001b[32m\u001b[1m  Updating\u001b[22m\u001b[39m registry at `C:\\Users\\nsthtz\\.julia\\registries\\General`\n",
      "\u001b[32m\u001b[1m  Updating\u001b[22m\u001b[39m git-repo `https://github.com/JuliaRegistries/General.git`\n",
      "\u001b[?25l\u001b[2K\u001b[?25h\u001b[32m\u001b[1m Resolving\u001b[22m\u001b[39m package versions...\n"
     ]
    }
   ],
   "source": [
    "import Pkg\n",
    "using Combinatorics\n",
    "Pkg.activate(@__DIR__)\n",
    "Pkg.instantiate()"
   ]
  },
  {
   "cell_type": "code",
   "execution_count": 125,
   "metadata": {},
   "outputs": [
    {
     "data": {
      "text/plain": [
       "128×24 Array{Int64,2}:\n",
       " 0  0  0  0  0  0  0  0  0  0  0  0  0  0  0  0  0  0  0  0  0  0  0  0\n",
       " 0  0  0  0  0  0  0  0  0  0  0  0  0  0  0  0  0  0  0  0  0  0  0  0\n",
       " 0  0  0  0  0  0  0  0  0  0  0  0  0  0  0  0  0  0  0  0  0  0  0  0\n",
       " 0  0  0  0  0  0  0  0  0  0  0  0  0  0  0  0  0  0  0  0  0  0  0  0\n",
       " 0  0  0  0  0  0  0  0  0  0  0  0  0  0  0  0  0  0  0  0  0  0  0  0\n",
       " 0  0  0  0  0  0  0  0  0  0  0  0  0  0  0  0  0  0  0  0  0  0  0  0\n",
       " 0  0  0  0  0  0  0  0  0  0  0  0  0  0  0  0  0  0  0  0  0  0  0  0\n",
       " 0  0  0  0  0  0  0  0  0  0  0  0  0  0  0  0  0  0  0  0  0  0  0  0\n",
       " 0  0  0  0  0  0  0  0  0  0  0  0  0  0  0  0  0  0  0  0  0  0  0  0\n",
       " 0  0  0  0  0  0  0  0  0  0  0  0  0  0  0  0  0  0  0  0  0  0  0  0\n",
       " 0  0  0  0  0  0  0  0  0  0  0  0  0  0  0  0  0  0  0  0  0  0  0  0\n",
       " 0  0  0  0  0  0  0  0  0  0  0  0  0  0  0  0  0  0  0  0  0  0  0  0\n",
       " 0  0  0  0  0  0  0  0  0  0  0  0  0  0  0  0  0  0  0  0  0  0  0  0\n",
       " ⋮              ⋮              ⋮              ⋮              ⋮         \n",
       " 0  0  0  0  0  0  0  0  0  0  0  0  0  0  0  0  0  0  0  0  0  0  0  0\n",
       " 0  0  0  0  0  0  0  0  0  0  0  0  0  0  0  0  0  0  0  0  0  0  0  0\n",
       " 0  0  0  0  0  0  0  0  0  0  0  0  0  0  0  0  0  0  0  0  0  0  0  0\n",
       " 0  0  0  0  0  0  0  0  0  0  0  0  0  0  0  0  0  0  0  0  0  0  0  0\n",
       " 0  0  0  0  0  0  0  0  0  0  0  0  0  0  0  0  0  0  0  0  0  0  0  0\n",
       " 0  0  0  0  0  0  0  0  0  0  0  0  0  0  0  0  0  0  0  0  0  0  0  0\n",
       " 0  0  0  0  0  0  0  0  0  0  0  0  0  0  0  0  0  0  0  0  0  0  0  0\n",
       " 0  0  0  0  0  0  0  0  0  0  0  0  0  0  0  0  0  0  0  0  0  0  0  0\n",
       " 0  0  0  0  0  0  0  0  0  0  0  0  0  0  0  0  0  0  0  0  0  0  0  0\n",
       " 0  0  0  0  0  0  0  0  0  0  0  0  0  0  0  0  0  0  0  0  0  0  0  0\n",
       " 0  0  0  0  0  0  0  0  0  0  0  0  0  0  0  0  0  0  0  0  0  0  0  0\n",
       " 0  0  0  0  0  0  0  0  0  0  0  0  0  0  0  0  0  0  0  0  0  0  0  0"
      ]
     },
     "execution_count": 125,
     "metadata": {},
     "output_type": "execute_result"
    }
   ],
   "source": [
    "using DelimitedFiles\n",
    "#data = readdlm(joinpath(\"dummyMajor.csv\"),';')\n",
    "#data = readdlm(joinpath(\"dummyMajorA#.csv\"),';')\n",
    "data = readdlm(joinpath(\"dummyMajorMultiple.csv\"),';')\n",
    "#data = readdlm(joinpath(\"dummyMinor.csv\"),',')\n",
    "#data = readdlm(joinpath(\"dummyMinorA#.csv\"),';')\n",
    "data = round.(Int, data)"
   ]
  },
  {
   "cell_type": "markdown",
   "metadata": {},
   "source": [
    "# # Convert piano roll into timestepx12 tonal mapping\n"
   ]
  },
  {
   "cell_type": "code",
   "execution_count": 126,
   "metadata": {
    "scrolled": true
   },
   "outputs": [
    {
     "data": {
      "text/plain": [
       "24×12 Array{Int8,2}:\n",
       " 1  1  1  0  1  0  0  0  0  0  0  0\n",
       " 0  0  1  0  0  1  0  0  1  1  0  0\n",
       " 1  0  0  0  1  0  0  0  1  0  0  0\n",
       " 0  0  0  0  0  1  0  0  0  1  1  0\n",
       " 1  0  0  0  0  1  0  1  0  0  0  0\n",
       " 1  0  0  1  0  0  0  0  0  1  0  0\n",
       " 0  0  0  1  0  0  0  0  0  0  0  1\n",
       " 1  0  0  0  0  1  0  0  0  0  0  0\n",
       " 1  0  0  0  0  0  0  1  0  0  0  0\n",
       " 0  0  0  1  0  0  0  1  0  0  0  1\n",
       " 1  0  1  0  0  0  0  0  0  1  0  0\n",
       " 1  0  0  0  0  0  0  1  0  0  1  0\n",
       " 0  0  0  0  0  1  0  0  0  0  0  0\n",
       " 0  0  1  0  1  0  0  0  0  1  0  0\n",
       " 0  0  1  0  0  0  1  0  1  0  0  0\n",
       " 1  0  1  0  0  0  0  0  1  0  0  0\n",
       " 0  0  1  0  0  1  0  0  0  0  0  1\n",
       " 1  0  0  1  0  0  0  0  0  0  0  0\n",
       " 0  1  0  0  0  1  0  0  0  0  0  0\n",
       " 0  0  0  0  0  0  0  1  0  0  0  1\n",
       " 1  0  0  0  0  1  0  0  0  0  0  0\n",
       " 0  0  0  0  0  0  1  0  0  1  0  0\n",
       " 0  0  0  0  1  0  0  0  0  0  0  1\n",
       " 1  1  0  0  0  0  0  0  0  0  0  0"
      ]
     },
     "execution_count": 126,
     "metadata": {},
     "output_type": "execute_result"
    }
   ],
   "source": [
    "#\n",
    "\n",
    "tonal_map = zeros(Int8, size(data, 2), 12)\n",
    "i=1\n",
    "data[:, 1]\n",
    "\n",
    "for i in 1:size(data, 2)\n",
    "    active_notes = findall(x->x==1, data[:,i])\n",
    "    #println(active_notes)\n",
    "    for note in active_notes\n",
    "        tonal_map[i, note%12+1] = 1\n",
    "    end\n",
    "    #println(timestep_chords[i,:])\n",
    "end\n",
    "\n",
    "tonal_map"
   ]
  },
  {
   "cell_type": "markdown",
   "metadata": {},
   "source": [
    "# # Pattern matcher to identify the best-fit key and scale from existing notes"
   ]
  },
  {
   "cell_type": "code",
   "execution_count": 127,
   "metadata": {},
   "outputs": [
    {
     "data": {
      "text/plain": [
       "score_tonality (generic function with 1 method)"
      ]
     },
     "execution_count": 127,
     "metadata": {},
     "output_type": "execute_result"
    }
   ],
   "source": [
    "# Functions and Global\n",
    "\n",
    "pattern = [1, 0, 1, 0, 1, 1, 0, 1, 0, 1, 0, 1]\n",
    "\n",
    "# Weight of core notes (1, 4, 5) doubled\n",
    "majorpattern = [1, 0, 0.5, 0, 0.5, 1, 0, 1, 0, 0.5, 0, 0.5]\n",
    "minorpattern = [0.5, 0, 1, 0, 1, 0.5, 0, 0.5, 0, 1, 0, 0.5]\n",
    "\n",
    "Keys = Dict{Integer, String}(1 => \"C\", 2 => \"C#\", 3 => \"D\", 4 => \"D#\", 5 => \"E\", 6 => \"F\", 7 => \"F#\", 8 => \"G\", 9 => \"G#\", 10 => \"A\", 11 => \"A#\", 12 => \"B\")\n",
    "\n",
    "\n",
    "#Score In: Tx12 Matrix, pattern. Out: Best position(s)\n",
    "function score_key(matrix, pattern)\n",
    "    counter = zeros(Int8, 1, 12)\n",
    "    for i in 1:size(matrix, 2)\n",
    "        counter[i] = sum(matrix[:,i])\n",
    "    end\n",
    "    println(\"Key Counter is \", counter)\n",
    "    \n",
    "    key_score = zeros(Int8, 12, 1)\n",
    "    \n",
    "    for i in 1:size(pattern, 1)\n",
    "        for j in 1:size(pattern, 1)\n",
    "            key_score[i] += circshift(pattern, i-1)[j]*counter[j]\n",
    "        end\n",
    "    end\n",
    "    println(\"Key Score is \", key_score)\n",
    "    return key_score\n",
    "end\n",
    "\n",
    "# Find maximum from list\n",
    "function findmaximum(list)\n",
    "    positions = []\n",
    "    max_value = maximum(list)\n",
    "    for (i, x) in enumerate(list)\n",
    "        if x == max_value\n",
    "            push!(positions, i)\n",
    "        end\n",
    "    end\n",
    "    return positions\n",
    "end\n",
    "\n",
    "# Find an optimal scale\n",
    "function score_tonality(matrix, positions)\n",
    "    \n",
    "    counter = zeros(Int8, 1, 12)\n",
    "    for i in 1:size(matrix, 2)\n",
    "        counter[i] = sum(matrix[:,i])\n",
    "    end\n",
    "    \n",
    "    tonality_scores = []\n",
    "    \n",
    "    for position in positions\n",
    "        counter_shifted = circshift(counter, (0,-(position-1)))\n",
    "        println(\"Position Counter for \", position, \" is \", counter_shifted)\n",
    "        \n",
    "        major_score = 0\n",
    "        minor_score = 0\n",
    "        \n",
    "        for i in 1:size(counter_shifted, 2)\n",
    "            major_score += majorpattern[i]*counter_shifted[i]\n",
    "            minor_score += minorpattern[i]*counter_shifted[i]\n",
    "        end\n",
    "\n",
    "        if major_score > minor_score\n",
    "            push!(tonality_scores, [position, major_score, 1])\n",
    "        else\n",
    "            push!(tonality_scores, [position, minor_score, 0])\n",
    "        end\n",
    "        \n",
    "    end \n",
    "    \n",
    "    return tonality_scores\n",
    "end"
   ]
  },
  {
   "cell_type": "code",
   "execution_count": 129,
   "metadata": {},
   "outputs": [
    {
     "name": "stdout",
     "output_type": "stream",
     "text": [
      "Key Counter is Int8[12 3 7 4 4 8 2 5 4 6 2 5]\n",
      "Key Score is Int8[47; 35; 32; 42; 28; 44; 28; 41; 38; 31; 44; 24]\n",
      "Position Counter for 1 is Int8[12 3 7 4 4 8 2 5 4 6 2 5]\n",
      "[1, 36, 1]\n",
      "11\n",
      "1 C Major\n"
     ]
    }
   ],
   "source": [
    "# Score matrix after pattern\n",
    "key_score_result = score_key(tonal_map, pattern)\n",
    "# score_result = [9, 5, 18, 9, 23, 18, 8, 2, 7, 16, 12, 11]\n",
    "\n",
    "# Find positions of maximum score\n",
    "positions = findmaximum(key_score_result)\n",
    "sort!(positions)\n",
    "\n",
    "# # Use positions to find the best key\n",
    "\n",
    "tonality_results = score_tonality(tonal_map, positions)\n",
    "\n",
    "# [Position (1 = C), Score, Scale (1 = Major, 0 = Minor)]\n",
    "best_key = [0, 0, 1]\n",
    "\n",
    "# In case of tied scores, check each for the best scale\n",
    "for result_group in tonality_results\n",
    "    if best_key[2] < result_group[2]\n",
    "        best_key[1] = result_group[1]\n",
    "        best_key[2] = result_group[2]\n",
    "        best_key[3] = result_group[3]\n",
    "    end\n",
    "end\n",
    "    \n",
    "#Save Key\n",
    "println(best_key)\n",
    "if best_key[3] == 1\n",
    "    key = best_key[1]\n",
    "    key_print = Keys[best_key[1]]\n",
    "    scale = \"Major\"\n",
    "else\n",
    "    key = (12+best_key[1]-3)%12\n",
    "    key_print = Keys[key]\n",
    "    scale = \"Minor\"\n",
    "end\n",
    "    \n",
    "println(mod(-1, 12))\n",
    "    \n",
    "println(key, \" \", key_print, \" \", scale)"
   ]
  },
  {
   "cell_type": "markdown",
   "metadata": {},
   "source": [
    "# # Define patterns for chord functions relative to key"
   ]
  },
  {
   "cell_type": "code",
   "execution_count": 178,
   "metadata": {},
   "outputs": [
    {
     "name": "stdout",
     "output_type": "stream",
     "text": [
      "S65/6 ([5, 0, 6, 0, 0, 1, 0, 0, 0, 3, 0, 0], Tuple{Int64,Int64}[(3, 6)], Nothing[nothing], [\"S\"])\n",
      "S/5 ([5, 0, 0, 0, 0, 1, 0, 0, 0, 3, 0, 0], Tuple{Int64,Int64}[(1, 5)], Tuple{Int64,Int64}[(1, 5), (6, 1)], [\"W\"])\n",
      "T ([1, 0, 0, 0, 3, 0, 0, 5, 0, 0, 0, 0], Tuple{Int64,Int64}[(1, 1)], Tuple{Int64,Int64}[(1, 1)], [\"A\"])\n",
      "Ts ([3, 0, 0, 0, 5, 0, 0, 0, 0, 1, 0, 0], Tuple{Int64,Int64}[(10, 1)], Tuple{Int64,Int64}[(1, 3), (10, 1)], [\"A\"])\n",
      "S/3 ([5, 0, 0, 0, 0, 1, 0, 0, 0, 3, 0, 0], Tuple{Int64,Int64}[(10, 3)], Tuple{Int64,Int64}[(1, 5), (6, 1)], [\"A\"])\n",
      "T/5 ([1, 0, 0, 0, 3, 0, 0, 5, 0, 0, 0, 0], Tuple{Int64,Int64}[(8, 5)], Tuple{Int64,Int64}[(1, 1), (8, 5)], [\"W\"])\n",
      "Ss ([0, 0, 1, 0, 0, 3, 0, 0, 0, 5, 0, 0], Tuple{Int64,Int64}[(3, 1)], Tuple{Int64,Int64}[(3, 1), (6, 3)], [\"A\"])\n",
      "D7/5 ([0, 0, 5, 0, 0, 7, 0, 1, 0, 0, 0, 3], Tuple{Int64,Int64}[(3, 5)], Nothing[nothing], [\"W\", \"O\"])\n",
      "T/3 ([1, 0, 0, 0, 3, 0, 0, 5, 0, 0, 0, 0], Tuple{Int64,Int64}[(5, 3)], Tuple{Int64,Int64}[(1, 1), (8, 5)], [\"A\"])\n",
      "D/5 ([0, 0, 5, 0, 0, 0, 0, 1, 0, 0, 0, 3], Tuple{Int64,Int64}[(3, 5)], Tuple{Int64,Int64}[(3, 5), (8, 1)], [\"W\"])\n",
      "T-5 ([1, 0, 0, 0, 3, 0, 0, 0, 0, 0, 0, 0], Tuple{Int64,Int64}[(1, 1)], Tuple{Int64,Int64}[(1, 1)], [\"A\"])\n",
      "D64 ([4, 0, 0, 0, 6, 0, 0, 1, 0, 0, 0, 0], Tuple{Int64,Int64}[(8, 1)], Tuple{Int64,Int64}[(8, 1)], [\"S\"])\n",
      "D/3 ([0, 0, 5, 0, 0, 0, 0, 1, 0, 0, 0, 3], Tuple{Int64,Int64}[(12, 3)], Tuple{Int64,Int64}[(3, 5), (8, 1)], [\"A\"])\n",
      "D-5 ([0, 0, 0, 0, 0, 0, 0, 1, 0, 0, 0, 3], Tuple{Int64,Int64}[(8, 1)], Tuple{Int64,Int64}[(8, 1)], [\"A\"])\n",
      "D7 ([0, 0, 5, 0, 0, 7, 0, 1, 0, 0, 0, 3], Tuple{Int64,Int64}[(8, 1)], Nothing[nothing], [\"A\"])\n",
      "T64 ([1, 0, 0, 0, 0, 4, 0, 0, 0, 6, 0, 0], Tuple{Int64,Int64}[(1, 1)], Tuple{Int64,Int64}[(1, 1)], [\"S\"])\n",
      "D ([0, 0, 5, 0, 0, 0, 0, 1, 0, 0, 0, 3], Tuple{Int64,Int64}[(8, 1)], Tuple{Int64,Int64}[(8, 1)], [\"A\"])\n",
      "Tm ([0, 0, 0, 0, 1, 0, 0, 3, 0, 0, 0, 5], Tuple{Int64,Int64}[(5, 1)], Tuple{Int64,Int64}[(5, 1), (8, 3)], [\"A\"])\n",
      "S65 ([5, 0, 6, 0, 0, 1, 0, 0, 0, 3, 0, 0], Tuple{Int64,Int64}[(6, 1)], Nothing[nothing], [\"A\"])\n",
      "T54 ([1, 0, 0, 0, 0, 4, 0, 5, 0, 0, 0, 0], Tuple{Int64,Int64}[(1, 1)], Tuple{Int64,Int64}[(1, 1)], [\"S\"])\n",
      "S ([5, 0, 0, 0, 0, 1, 0, 0, 0, 3, 0, 0], Tuple{Int64,Int64}[(6, 1)], Tuple{Int64,Int64}[(6, 1)], [\"A\"])\n",
      "D7/3 ([0, 0, 5, 0, 0, 7, 0, 1, 0, 0, 0, 3], Tuple{Int64,Int64}[(12, 3)], Nothing[nothing], [\"A\"])\n",
      "S-5 ([0, 0, 0, 0, 0, 1, 0, 0, 0, 3, 0, 0], Tuple{Int64,Int64}[(6, 1)], Tuple{Int64,Int64}[(6, 1)], [\"A\"])\n",
      "D7-1 ([0, 0, 5, 0, 0, 7, 0, 0, 0, 0, 0, 3], Tuple{Int64,Int64}[(3, 5)], Tuple{Int64,Int64}[(3, 5), (6, 7)], [\"A\"])\n",
      "S6 ([0, 0, 6, 0, 0, 1, 0, 0, 0, 3, 0, 0], Tuple{Int64,Int64}[(6, 1)], Tuple{Int64,Int64}[(6, 1)], [\"A\"])\n",
      "D7/7 ([0, 0, 5, 0, 0, 7, 0, 1, 0, 0, 0, 3], Tuple{Int64,Int64}[(6, 7)], Nothing[nothing], [\"A\"])\n",
      "D54 ([4, 0, 5, 0, 0, 0, 0, 1, 0, 0, 0, 0], Tuple{Int64,Int64}[(8, 1)], Tuple{Int64,Int64}[(8, 1)], [\"S\"])\n"
     ]
    }
   ],
   "source": [
    "# Function entry: \"Name\" => ([notes], [Bass note], [Double/Triple notes], [Rhythmical Weight (All, Strong, Weak, Off)], [Chord Specific rules])\n",
    "\n",
    "functions = Dict{String, Array{Int64, 1}}\n",
    "\n",
    "if scale == \"Major\"\n",
    "#Major  =  [1, 0, 2, 0, 3, 4, 0, 5, 0, 6, 0, 7]\n",
    "#\n",
    "    \n",
    "    functions = Dict( \"T\"  =>  (circshift([1, 0, 0, 0, 3, 0, 0, 5, 0, 0, 0, 0], (key-1)), [ (key, 1) ], [ (key, 1) ], [\"A\"]),\n",
    "    \"S\"    =>  (circshift([5, 0, 0, 0, 0, 1, 0, 0, 0, 3, 0, 0], (key-1)), [ (((5+(key-1))%12)+1, 1) ], [ (((5+(key-1))%12)+1, 1) ], [\"A\"]),\n",
    "    \"D\"    =>  (circshift([0, 0, 5, 0, 0, 0, 0, 1, 0, 0, 0, 3], (key-1)), [ (((7+(key-1))%12)+1, 1) ], [ (((7+(key-1))%12)+1, 1) ], [\"A\"]),\n",
    "    \"T-5\"  =>  (circshift([1, 0, 0, 0, 3, 0, 0, 0, 0, 0, 0, 0], (key-1)), [ (key, 1) ], [ (key, 1) ], [\"A\"]),\n",
    "    \"S-5\"  =>  (circshift([0, 0, 0, 0, 0, 1, 0, 0, 0, 3, 0, 0], (key-1)), [ (((5+(key-1))%12)+1, 1) ], [ (((5+(key-1))%12)+1, 1) ], [\"A\"]),\n",
    "    \"D-5\"  =>  (circshift([0, 0, 0, 0, 0, 0, 0, 1, 0, 0, 0, 3], (key-1)), [ (((7+(key-1))%12)+1, 1) ], [ (((7+(key-1))%12)+1, 1) ], [\"A\"]),\n",
    "    \"T/3\"   => (circshift([1, 0, 0, 0, 3, 0, 0, 5, 0, 0, 0, 0], (key-1)), [ (((4+(key-1))%12)+1, 3) ], [ (key, 1), (((7+(key-1))%12)+1, 5) ], [\"A\"]),\n",
    "    \"S/3\"   => (circshift([5, 0, 0, 0, 0, 1, 0, 0, 0, 3, 0, 0], (key-1)), [ (((9+(key-1))%12)+1, 3) ], [ (key, 5), (((5+(key-1))%12)+1, 1) ], [\"A\"]),\n",
    "    \"D/3\"   => (circshift([0, 0, 5, 0, 0, 0, 0, 1, 0, 0, 0, 3], (key-1)), [ (((11+(key-1))%12)+1, 3) ], [ (((2+(key-1))%12)+1, 5), (((7+(key-1))%12)+1, 1) ], [\"A\"]),\n",
    "    \"T/5\"   => (circshift([1, 0, 0, 0, 3, 0, 0, 5, 0, 0, 0, 0], (key-1)), [ (((7+(key-1))%12)+1, 5) ], [ (key, 1), (((7+(key-1))%12)+1, 5) ], [\"W\"]),\n",
    "    \"S/5\"   => (circshift([5, 0, 0, 0, 0, 1, 0, 0, 0, 3, 0, 0], (key-1)), [ (((0+(key-1))%12)+1, 5) ], [ (key, 5), (((5+(key-1))%12)+1, 1) ], [\"W\"]),\n",
    "    \"D/5\"   => (circshift([0, 0, 5, 0, 0, 0, 0, 1, 0, 0, 0, 3], (key-1)), [ (((2+(key-1))%12)+1, 5) ], [ (((2+(key-1))%12)+1, 5), (((7+(key-1))%12)+1, 1) ], [\"W\"]),\n",
    "    \"D64\"  =>  (circshift([4, 0, 0, 0, 6, 0, 0, 1, 0, 0, 0, 0], (key-1)), [ (((7+(key-1))%12)+1, 1) ], [ (((7+(key-1))%12)+1, 1) ], [\"S\"]),\n",
    "    \"T64\"  =>  (circshift([1, 0, 0, 0, 0, 4, 0, 0, 0, 6, 0, 0], (key-1)), [ (((0+(key-1))%12)+1, 1) ], [ (key, 1) ], [\"S\"]),\n",
    "    \"T54\"  =>  (circshift([1, 0, 0, 0, 0, 4, 0, 5, 0, 0, 0, 0], (key-1)), [ (((0+(key-1))%12)+1, 1) ], [ (key, 1) ], [\"S\"]),\n",
    "    \"D54\"  =>  (circshift([4, 0, 5, 0, 0, 0, 0, 1, 0, 0, 0, 0], (key-1)), [ (((7+(key-1))%12)+1, 1) ], [ (((7+(key-1))%12)+1, 1) ], [\"S\"]),\n",
    "    \"D7\"   =>  (circshift([0, 0, 5, 0, 0, 7, 0, 1, 0, 0, 0, 3], (key-1)), [ (((7+(key-1))%12)+1, 1) ], [ nothing ], [\"A\"]),\n",
    "    \"D7/3\" =>  (circshift([0, 0, 5, 0, 0, 7, 0, 1, 0, 0, 0, 3], (key-1)), [ (((11+(key-1))%12)+1, 3) ], [ nothing ], [\"A\"]),\n",
    "    \"D7/5\" =>  (circshift([0, 0, 5, 0, 0, 7, 0, 1, 0, 0, 0, 3], (key-1)), [ (((2+(key-1))%12)+1, 5) ], [ nothing ], [\"W\", \"O\"]),\n",
    "    \"D7/7\" =>  (circshift([0, 0, 5, 0, 0, 7, 0, 1, 0, 0, 0, 3], (key-1)), [ (((5+(key-1))%12)+1, 7) ], [ nothing ], [\"A\"]),\n",
    "    \"D7-1\" =>  (circshift([0, 0, 5, 0, 0, 7, 0, 0, 0, 0, 0, 3], (key-1)), [ (((2+(key-1))%12)+1, 5) ], [ (((2+(key-1))%12)+1, 5), (((5+(key-1))%12)+1, 7) ], [\"A\"]),\n",
    "    \"S65\"  =>  (circshift([5, 0, 6, 0, 0, 1, 0, 0, 0, 3, 0, 0], (key-1)), [ (((5+(key-1))%12)+1, 1) ], [ nothing ], [\"A\"]),\n",
    "    \"S65/6\"=>  (circshift([5, 0, 6, 0, 0, 1, 0, 0, 0, 3, 0, 0], (key-1)), [ (((2+(key-1))%12)+1, 6) ], [ nothing ], [\"S\"]),\n",
    "    \"S6\"   =>  (circshift([0, 0, 6, 0, 0, 1, 0, 0, 0, 3, 0, 0], (key-1)), [ (((5+(key-1))%12)+1, 1) ], [ (((5+(key-1))%12)+1, 1) ], [\"A\"]),\n",
    "    \"Ss\"   =>  (circshift([0, 0, 1, 0, 0, 3, 0, 0, 0, 5, 0, 0], (key-1)), [ (((2+(key-1))%12)+1, 1) ], [ (((2+(key-1))%12)+1, 1), (((5+(key-1))%12)+1, 3) ], [\"A\"]),\n",
    "    \"Ts\"   =>  (circshift([3, 0, 0, 0, 5, 0, 0, 0, 0, 1, 0, 0], (key-1)), [ (((9+(key-1))%12)+1, 1) ], [ (key, 3), (((9+(key-1))%12)+1, 1) ], [\"A\"]),\n",
    "    \"Tm\"   =>  (circshift([0, 0, 0, 0, 1, 0, 0, 3, 0, 0, 0, 5], (key-1)), [ (((4+(key-1))%12)+1, 1) ], [ (((4+(key-1))%12)+1, 1), (((7+(key-1))%12)+1, 3) ], [\"A\"]))\n",
    "\n",
    "elseif scale == \"Minor\"\n",
    "#Minor  =  [1, 0, 2, 3, 0, 4, 0, 5, 6, 0, 7, 0]        \n",
    "        \n",
    "    functions = Dict( \"T\"   =>  (circshift([1, 0, 0, 1, 0, 0, 0, 1, 0, 0, 0, 0], (key-1)), [ key ], [ key ], [\"A\"]),\n",
    "    \"S\"   =>   (circshift([1, 0, 0, 0, 0, 1, 0, 0, 1, 0, 0, 0], (key-1)), [ ((5+(key-1))%12)+1 ]),\n",
    "    \"D\"   =>   (circshift([0, 0, 1, 0, 0, 0, 0, 1, 0, 0, 1, 0], (key-1)), [ ((7+(key-1))%12)+1 ]),\n",
    "    \"T-5\" =>   (circshift([1, 0, 0, 1, 0, 0, 0, 0, 0, 0, 0, 0], (key-1)), [ key ]),\n",
    "    \"S-5\" =>   (circshift([0, 0, 0, 0, 0, 1, 0, 0, 1, 0, 0, 0], (key-1)), [ ((5+(key-1))%12)+1 ]),\n",
    "    \"D-5\" =>   (circshift([0, 0, 0, 0, 0, 0, 0, 1, 0, 0, 1, 0], (key-1)), [ ((7+(key-1))%12)+1 ]),\n",
    "    \"T/3\"  =>  (circshift([1, 0, 0, 1, 0, 0, 0, 1, 0, 0, 0, 0], (key-1)), [ ((3+(key-1))%12)+1 ]),\n",
    "    \"S/3\"  =>  (circshift([1, 0, 0, 0, 0, 1, 0, 0, 1, 0, 0, 0], (key-1)), [ ((8+(key-1))%12)+1 ]),\n",
    "    \"D/3\"  =>  (circshift([0, 0, 1, 0, 0, 0, 0, 1, 0, 0, 1, 0], (key-1)), [ ((10+(key-1))%12)+1 ]),\n",
    "    \"T/5\"  =>  (circshift([1, 0, 0, 1, 0, 0, 0, 1, 0, 0, 0, 0], (key-1)), [ ((7+(key-1))%12)+1 ]),\n",
    "    \"S/5\"  =>  (circshift([1, 0, 0, 0, 0, 1, 0, 0, 1, 0, 0, 0], (key-1)), [ ((0+(key-1))%12)+1 ]),\n",
    "    \"D/5\"  =>  (circshift([0, 0, 1, 0, 0, 0, 0, 1, 0, 0, 1, 0], (key-1)), [ ((2+(key-1))%12)+1 ]),\n",
    "    \"D64\" =>   (circshift([1, 0, 0, 1, 0, 0, 0, 1, 0, 0, 0, 0], (key-1)), [ ((7+(key-1))%12)+1 ]),\n",
    "    \"T64\" =>   (circshift([1, 0, 0, 0, 0, 1, 0, 0, 1, 0, 0, 0], (key-1)), [ ((0+(key-1))%12)+1 ]),\n",
    "    \"T54\" =>   (circshift([1, 0, 0, 0, 0, 1, 0, 1, 0, 0, 0, 0], (key-1)), [ ((0+(key-1))%12)+1 ]),\n",
    "    \"D54\" =>   (circshift([1, 0, 1, 0, 0, 0, 0, 1, 0, 0, 0, 0], (key-1)), [ ((7+(key-1))%12)+1 ]),\n",
    "    \"D7\"  =>   (circshift([0, 0, 1, 0, 0, 1, 0, 1, 0, 0, 1, 0], (key-1)), [ ((7+(key-1))%12)+1 ]),\n",
    "    \"D7/3\"  => (circshift([0, 0, 1, 0, 0, 1, 0, 1, 0, 0, 1, 0], (key-1)), [ ((10+(key-1))%12)+1 ]),\n",
    "    \"D7/5\"  => (circshift([0, 0, 1, 0, 0, 1, 0, 1, 0, 0, 1, 0], (key-1)), [ ((2+(key-1))%12)+1 ]),\n",
    "    \"D7/7\"  => (circshift([0, 0, 1, 0, 0, 1, 0, 1, 0, 0, 1, 0], (key-1)), [ ((5+(key-1))%12)+1 ]),\n",
    "    \"D7-1\" =>  (circshift([0, 0, 1, 0, 0, 1, 0, 0, 0, 0, 1, 0], (key-1)), [ ((2+(key-1))%12)+1 ]),\n",
    "    \"S65\" =>   (circshift([1, 0, 1, 0, 0, 1, 0, 0, 1, 0, 0, 0], (key-1)), [ ((5+(key-1))%12)+1 ]),\n",
    "    \"S65/6\" => (circshift([1, 0, 1, 0, 0, 1, 0, 0, 1, 0, 0, 0], (key-1)), [ ((2+(key-1))%12)+1 ]),\n",
    "    \"S6\"  =>   (circshift([0, 0, 1, 0, 0, 1, 0, 0, 1, 0, 0, 0], (key-1)), [ ((5+(key-1))%12)+1 ]),\n",
    "    \"Dm\"  =>   (circshift([0, 0, 1, 0, 0, 1, 0, 0, 0, 0, 1, 0], (key-1)), [ ((10+(key-1))%12)+1 ]),\n",
    "    \"Ts\"  =>   (circshift([1, 0, 0, 1, 0, 0, 0, 0, 1, 0, 0, 0], (key-1)), [ ((8+(key-1))%12)+1 ]),\n",
    "    \"Tm\"  =>   (circshift([0, 0, 0, 1, 0, 0, 0, 1, 0, 0, 1, 0], (key-1)), [ ((3+(key-1))%12)+1 ]))\n",
    "        \n",
    "end\n",
    "        \n",
    "for k in functions\n",
    "    println(k[1], \" \", k[2])\n",
    "end\n",
    "\n",
    "#      [C, C#, D, D#, E, F, F#, G, G#, A, A#, B]\n",
    "#      [1, 2,  3, 4,  5, 6, 7,  8, 9, 10, 11, 12]\n",
    "#      [2, 0,  3, 4,  0, 5, 0,  6, 0, 7,  1,  0]"
   ]
  },
  {
   "cell_type": "markdown",
   "metadata": {},
   "source": [
    "# # Analyze tonal map and calculate hamming distances for each timestep"
   ]
  },
  {
   "cell_type": "code",
   "execution_count": 131,
   "metadata": {},
   "outputs": [
    {
     "name": "stdout",
     "output_type": "stream",
     "text": [
      "Any[(2, \"S65\"), (2, \"S65/6\"), (3, \"D7\"), (3, \"D7-1\"), (3, \"D7/3\"), (3, \"D7/5\"), (3, \"D7/7\"), (4, \"D54\"), (4, \"S6\"), (4, \"Ss\"), (5, \"D\"), (5, \"D/3\"), (5, \"D/5\"), (5, \"D64\"), (5, \"T\"), (5, \"T-5\"), (5, \"T/3\"), (5, \"T/5\"), (5, \"Tm\"), (5, \"Ts\"), (8, \"S\"), (8, \"S/3\"), (8, \"S/5\"), (8, \"T54\"), (8, \"T64\"), (9, \"D-5\"), (11, \"S-5\")]\n",
      "Any[\"S65\", \"S6\", \"T-5\", \"S-5\", \"T54\", \"S65\", \"D\", \"S\", \"D54\", \"D\", \"S65\", \"D\", \"D7\", \"S6\", \"D\", \"D54\", \"D7\", \"D54\", \"D7\", \"D\", \"S\", \"S\", \"Tm\", \"D54\"]\n"
     ]
    }
   ],
   "source": [
    "##### DISTANCE FUNCTIONS\n",
    "\n",
    "function hamming(input, target)\n",
    "    counter = 0\n",
    "    for i in 1:size(input, 1)\n",
    "        if input[i] != target[i]\n",
    "            counter = counter+1\n",
    "        end\n",
    "    end\n",
    "    return counter\n",
    "end\n",
    "\n",
    "## What is the distance of finding a valid function within the input\n",
    "        \n",
    "function distance(input, target)\n",
    "    distance = 0\n",
    "    input_padded = append!(append!(input, input), input)[1:36]\n",
    "    for i in 1:size(target, 1)\n",
    "        if target[i] == 1\n",
    "            if input[i] != 1\n",
    "                for j in 1:6\n",
    "                    if input_padded[12+i-j] == 1\n",
    "                        distance += j\n",
    "                        break\n",
    "                    elseif input_padded[12+i+j] == 1\n",
    "                        distance += j\n",
    "                        break\n",
    "                    end\n",
    "                end\n",
    "            end\n",
    "        end\n",
    "    end\n",
    "    return distance\n",
    "end\n",
    "        \n",
    "## What is the distance to transform an input into a function\n",
    "    \n",
    "function distance(input, target)\n",
    "    distance = 0\n",
    "    target_padded = copy(target)\n",
    "    target_padded = append!(append!(target_padded, target), target)[1:36]\n",
    "    for i in 1:size(input, 1)\n",
    "        if input[i] > 0\n",
    "            if target[i] > 0\n",
    "                for x in 0:2\n",
    "                    target_padded[i+(12*x)] = 0\n",
    "                end\n",
    "            else\n",
    "                for j in 1:6\n",
    "                    if target_padded[12+i-j] > 0\n",
    "                        distance += j\n",
    "                        break\n",
    "                    elseif target_padded[12+i+j] > 0\n",
    "                        distance += j\n",
    "                        break\n",
    "                    end\n",
    "                end\n",
    "            end\n",
    "        end\n",
    "    end\n",
    "    \n",
    "    return distance\n",
    "end\n",
    "                \n",
    "\n",
    "\n",
    "####\n",
    "\n",
    "chords = keys(functions)\n",
    "function_potential = []\n",
    "\n",
    "for i in 1:size(tonal_map, 1)         \n",
    "    #println(tonal_map[i,:])\n",
    "    function_pool = []\n",
    "    for chord in chords\n",
    "        hamming_distance = distance(tonal_map[i,:], functions[chord][1])\n",
    "        push!(function_pool, (hamming_distance, chord))\n",
    "    end\n",
    "    push!(function_potential, sort(function_pool))\n",
    "end\n",
    "\n",
    "println(function_potential[1])\n",
    "\n",
    "## Naive function label\n",
    "                    \n",
    "chosen_chords = []                    \n",
    "                  \n",
    "    \n",
    "for timestep in 1:size(function_potential, 1)\n",
    "    append!(chosen_chords, [function_potential[timestep][1][2]])\n",
    "end\n",
    "                    \n",
    "println(chosen_chords)\n"
   ]
  },
  {
   "cell_type": "markdown",
   "metadata": {},
   "source": [
    "# # Construct a naive solution"
   ]
  },
  {
   "cell_type": "code",
   "execution_count": 8,
   "metadata": {},
   "outputs": [
    {
     "name": "stdout",
     "output_type": "stream",
     "text": [
      "[1]\n",
      "Any[[48, 60], [48, 52, 60, 64], [52, 60, 64, 72], [60, 64, 72, 76]]\n"
     ]
    },
    {
     "ename": "UndefVarError",
     "evalue": "UndefVarError: function_map not defined",
     "output_type": "error",
     "traceback": [
      "UndefVarError: function_map not defined",
      "",
      "Stacktrace:",
      " [1] top-level scope at In[8]:73"
     ]
    }
   ],
   "source": [
    "function getNotes(timestep_vector)\n",
    "    return findall(x->x==1, timestep_vector)\n",
    "end\n",
    "\n",
    "function voicify(original_timestep_notes)\n",
    "    if size(original_timestep_notes, 1) > 4\n",
    "        println(\"yes\")\n",
    "    el\n",
    "    end\n",
    "    #return voicing\n",
    "end\n",
    "\n",
    "# # Note: Only hamming distances are considered from the original work\n",
    "\n",
    "function convertTonalMapToNotes(tonal_Map, voice=\"X\")\n",
    "    \n",
    "    indexes = getNotes(tonal_map)\n",
    "    indexes = indexes .- 1\n",
    "    \n",
    "    if voice == \"B\"\n",
    "        notes = [x for x in 40:61 if x%12 in indexes]\n",
    "    elseif voice == \"T\"\n",
    "        notes = [x for x in 47:68 if x%12 in indexes]\n",
    "    elseif voice == \"A\"\n",
    "        notes = [x for x in 52:73 if x%12 in indexes]\n",
    "    elseif voice == \"S\"\n",
    "        notes = [x for x in 59:80 if x%12 in indexes]\n",
    "    else\n",
    "        notes = []\n",
    "        push!(notes, [x for x in 40:61 if x%12 in indexes], [x for x in 47:68 if x%12 in indexes], [x for x in 52:73 if x%12 in indexes], [x for x in 59:80 if x%12 in indexes])\n",
    "    end\n",
    "    \n",
    "    return notes\n",
    "end\n",
    "\n",
    "#println(convertTonalMapToNotes(functions[\"T-5\"][1], \"X\"))\n",
    "\n",
    "function convertFunctionToNotes(func, voice=\"X\")\n",
    "    \n",
    "    indexes = getNotes(functions[func][1])\n",
    "    indexes = indexes .- 1\n",
    "    \n",
    "    println(functions[func][3])\n",
    "                    \n",
    "    if voice == \"B\"\n",
    "        notes = [x for x in 40:61 if x%12 == functions[func][3][1]-1]\n",
    "    elseif voice == \"T\"\n",
    "        notes = [x for x in 47:68 if x%12 in indexes]\n",
    "    elseif voice == \"A\"\n",
    "        notes = [x for x in 52:73 if x%12 in indexes]\n",
    "    elseif voice == \"S\"\n",
    "        notes = [x for x in 59:80 if x%12 in indexes]\n",
    "    else\n",
    "        notes = []\n",
    "        push!(notes, [x for x in 40:61 if x%12 in functions[func][3][1]-1], [x for x in 47:68 if x%12 in indexes], [x for x in 52:73 if x%12 in indexes], [x for x in 59:80 if x%12 in indexes])\n",
    "    end\n",
    "    \n",
    "    return notes\n",
    "                    \n",
    "end\n",
    "     \n",
    "println(convertFunctionToNotes(\"T-5\", \"X\"))\n",
    "                \n",
    "#########\n",
    "\n",
    "original_notes = []\n",
    "\n",
    "for timestep_index in 1:size(data, 2)\n",
    "    timestep_vector = data[:, timestep_index]\n",
    "    original_notes_timestep = getNotes(timestep_vector)\n",
    "    push!(original_notes, original_notes_timestep)\n",
    "end\n",
    "\n",
    "println(original_notes[1], \" \", function_map[1][1])\n",
    "\n",
    "\n",
    "\n",
    "\n",
    "##              1      2     3      4\n",
    "## voices = [Bass, Tenor, Alto, Soprano]"
   ]
  },
  {
   "cell_type": "markdown",
   "metadata": {},
   "source": [
    "# # Construct the search space for note distribution to voices"
   ]
  },
  {
   "cell_type": "code",
   "execution_count": 179,
   "metadata": {},
   "outputs": [
    {
     "data": {
      "text/plain": [
       "\"S65/6\""
      ]
     },
     "metadata": {},
     "output_type": "display_data"
    },
    {
     "data": {
      "text/plain": [
       "6-element Array{Any,1}:\n",
       " Tuple{Int64,Int64}[(3, 6), (6, 1), (10, 3), (1, 5)]\n",
       " Tuple{Int64,Int64}[(3, 6), (6, 1), (1, 5), (10, 3)]\n",
       " Tuple{Int64,Int64}[(3, 6), (10, 3), (6, 1), (1, 5)]\n",
       " Tuple{Int64,Int64}[(3, 6), (10, 3), (1, 5), (6, 1)]\n",
       " Tuple{Int64,Int64}[(3, 6), (1, 5), (6, 1), (10, 3)]\n",
       " Tuple{Int64,Int64}[(3, 6), (1, 5), (10, 3), (6, 1)]"
      ]
     },
     "metadata": {},
     "output_type": "display_data"
    },
    {
     "data": {
      "text/plain": [
       "\"S/5\""
      ]
     },
     "metadata": {},
     "output_type": "display_data"
    },
    {
     "data": {
      "text/plain": [
       "9-element Array{Any,1}:\n",
       " Tuple{Int64,Int64}[(1, 5), (6, 1), (10, 3), (1, 5)]\n",
       " Tuple{Int64,Int64}[(1, 5), (6, 1), (1, 5), (10, 3)]\n",
       " Tuple{Int64,Int64}[(1, 5), (10, 3), (6, 1), (1, 5)]\n",
       " Tuple{Int64,Int64}[(1, 5), (10, 3), (1, 5), (6, 1)]\n",
       " Tuple{Int64,Int64}[(1, 5), (1, 5), (6, 1), (10, 3)]\n",
       " Tuple{Int64,Int64}[(1, 5), (1, 5), (10, 3), (6, 1)]\n",
       " Tuple{Int64,Int64}[(1, 5), (6, 1), (10, 3), (6, 1)]\n",
       " Tuple{Int64,Int64}[(1, 5), (6, 1), (6, 1), (10, 3)]\n",
       " Tuple{Int64,Int64}[(1, 5), (10, 3), (6, 1), (6, 1)]"
      ]
     },
     "metadata": {},
     "output_type": "display_data"
    },
    {
     "data": {
      "text/plain": [
       "\"T\""
      ]
     },
     "metadata": {},
     "output_type": "display_data"
    },
    {
     "data": {
      "text/plain": [
       "6-element Array{Any,1}:\n",
       " Tuple{Int64,Int64}[(1, 1), (5, 3), (8, 5), (1, 1)]\n",
       " Tuple{Int64,Int64}[(1, 1), (5, 3), (1, 1), (8, 5)]\n",
       " Tuple{Int64,Int64}[(1, 1), (8, 5), (5, 3), (1, 1)]\n",
       " Tuple{Int64,Int64}[(1, 1), (8, 5), (1, 1), (5, 3)]\n",
       " Tuple{Int64,Int64}[(1, 1), (1, 1), (5, 3), (8, 5)]\n",
       " Tuple{Int64,Int64}[(1, 1), (1, 1), (8, 5), (5, 3)]"
      ]
     },
     "metadata": {},
     "output_type": "display_data"
    },
    {
     "data": {
      "text/plain": [
       "\"Ts\""
      ]
     },
     "metadata": {},
     "output_type": "display_data"
    },
    {
     "data": {
      "text/plain": [
       "9-element Array{Any,1}:\n",
       " Tuple{Int64,Int64}[(10, 1), (1, 3), (5, 5), (1, 3)] \n",
       " Tuple{Int64,Int64}[(10, 1), (1, 3), (1, 3), (5, 5)] \n",
       " Tuple{Int64,Int64}[(10, 1), (5, 5), (1, 3), (1, 3)] \n",
       " Tuple{Int64,Int64}[(10, 1), (1, 3), (5, 5), (10, 1)]\n",
       " Tuple{Int64,Int64}[(10, 1), (1, 3), (10, 1), (5, 5)]\n",
       " Tuple{Int64,Int64}[(10, 1), (5, 5), (1, 3), (10, 1)]\n",
       " Tuple{Int64,Int64}[(10, 1), (5, 5), (10, 1), (1, 3)]\n",
       " Tuple{Int64,Int64}[(10, 1), (10, 1), (1, 3), (5, 5)]\n",
       " Tuple{Int64,Int64}[(10, 1), (10, 1), (5, 5), (1, 3)]"
      ]
     },
     "metadata": {},
     "output_type": "display_data"
    },
    {
     "data": {
      "text/plain": [
       "\"S/3\""
      ]
     },
     "metadata": {},
     "output_type": "display_data"
    },
    {
     "data": {
      "text/plain": [
       "6-element Array{Any,1}:\n",
       " Tuple{Int64,Int64}[(10, 3), (6, 1), (1, 5), (1, 5)]\n",
       " Tuple{Int64,Int64}[(10, 3), (1, 5), (6, 1), (1, 5)]\n",
       " Tuple{Int64,Int64}[(10, 3), (1, 5), (1, 5), (6, 1)]\n",
       " Tuple{Int64,Int64}[(10, 3), (6, 1), (1, 5), (6, 1)]\n",
       " Tuple{Int64,Int64}[(10, 3), (6, 1), (6, 1), (1, 5)]\n",
       " Tuple{Int64,Int64}[(10, 3), (1, 5), (6, 1), (6, 1)]"
      ]
     },
     "metadata": {},
     "output_type": "display_data"
    },
    {
     "data": {
      "text/plain": [
       "\"T/5\""
      ]
     },
     "metadata": {},
     "output_type": "display_data"
    },
    {
     "data": {
      "text/plain": [
       "9-element Array{Any,1}:\n",
       " Tuple{Int64,Int64}[(8, 5), (1, 1), (5, 3), (1, 1)]\n",
       " Tuple{Int64,Int64}[(8, 5), (1, 1), (1, 1), (5, 3)]\n",
       " Tuple{Int64,Int64}[(8, 5), (5, 3), (1, 1), (1, 1)]\n",
       " Tuple{Int64,Int64}[(8, 5), (1, 1), (5, 3), (8, 5)]\n",
       " Tuple{Int64,Int64}[(8, 5), (1, 1), (8, 5), (5, 3)]\n",
       " Tuple{Int64,Int64}[(8, 5), (5, 3), (1, 1), (8, 5)]\n",
       " Tuple{Int64,Int64}[(8, 5), (5, 3), (8, 5), (1, 1)]\n",
       " Tuple{Int64,Int64}[(8, 5), (8, 5), (1, 1), (5, 3)]\n",
       " Tuple{Int64,Int64}[(8, 5), (8, 5), (5, 3), (1, 1)]"
      ]
     },
     "metadata": {},
     "output_type": "display_data"
    },
    {
     "data": {
      "text/plain": [
       "\"Ss\""
      ]
     },
     "metadata": {},
     "output_type": "display_data"
    },
    {
     "data": {
      "text/plain": [
       "9-element Array{Any,1}:\n",
       " Tuple{Int64,Int64}[(3, 1), (6, 3), (10, 5), (3, 1)]\n",
       " Tuple{Int64,Int64}[(3, 1), (6, 3), (3, 1), (10, 5)]\n",
       " Tuple{Int64,Int64}[(3, 1), (10, 5), (6, 3), (3, 1)]\n",
       " Tuple{Int64,Int64}[(3, 1), (10, 5), (3, 1), (6, 3)]\n",
       " Tuple{Int64,Int64}[(3, 1), (3, 1), (6, 3), (10, 5)]\n",
       " Tuple{Int64,Int64}[(3, 1), (3, 1), (10, 5), (6, 3)]\n",
       " Tuple{Int64,Int64}[(3, 1), (6, 3), (10, 5), (6, 3)]\n",
       " Tuple{Int64,Int64}[(3, 1), (6, 3), (6, 3), (10, 5)]\n",
       " Tuple{Int64,Int64}[(3, 1), (10, 5), (6, 3), (6, 3)]"
      ]
     },
     "metadata": {},
     "output_type": "display_data"
    },
    {
     "data": {
      "text/plain": [
       "\"D7/5\""
      ]
     },
     "metadata": {},
     "output_type": "display_data"
    },
    {
     "data": {
      "text/plain": [
       "6-element Array{Any,1}:\n",
       " Tuple{Int64,Int64}[(3, 5), (8, 1), (12, 3), (6, 7)]\n",
       " Tuple{Int64,Int64}[(3, 5), (8, 1), (6, 7), (12, 3)]\n",
       " Tuple{Int64,Int64}[(3, 5), (12, 3), (8, 1), (6, 7)]\n",
       " Tuple{Int64,Int64}[(3, 5), (12, 3), (6, 7), (8, 1)]\n",
       " Tuple{Int64,Int64}[(3, 5), (6, 7), (8, 1), (12, 3)]\n",
       " Tuple{Int64,Int64}[(3, 5), (6, 7), (12, 3), (8, 1)]"
      ]
     },
     "metadata": {},
     "output_type": "display_data"
    },
    {
     "data": {
      "text/plain": [
       "\"T/3\""
      ]
     },
     "metadata": {},
     "output_type": "display_data"
    },
    {
     "data": {
      "text/plain": [
       "6-element Array{Any,1}:\n",
       " Tuple{Int64,Int64}[(5, 3), (1, 1), (8, 5), (1, 1)]\n",
       " Tuple{Int64,Int64}[(5, 3), (1, 1), (1, 1), (8, 5)]\n",
       " Tuple{Int64,Int64}[(5, 3), (8, 5), (1, 1), (1, 1)]\n",
       " Tuple{Int64,Int64}[(5, 3), (1, 1), (8, 5), (8, 5)]\n",
       " Tuple{Int64,Int64}[(5, 3), (8, 5), (1, 1), (8, 5)]\n",
       " Tuple{Int64,Int64}[(5, 3), (8, 5), (8, 5), (1, 1)]"
      ]
     },
     "metadata": {},
     "output_type": "display_data"
    },
    {
     "data": {
      "text/plain": [
       "\"D/5\""
      ]
     },
     "metadata": {},
     "output_type": "display_data"
    },
    {
     "data": {
      "text/plain": [
       "9-element Array{Any,1}:\n",
       " Tuple{Int64,Int64}[(3, 5), (8, 1), (12, 3), (3, 5)]\n",
       " Tuple{Int64,Int64}[(3, 5), (8, 1), (3, 5), (12, 3)]\n",
       " Tuple{Int64,Int64}[(3, 5), (12, 3), (8, 1), (3, 5)]\n",
       " Tuple{Int64,Int64}[(3, 5), (12, 3), (3, 5), (8, 1)]\n",
       " Tuple{Int64,Int64}[(3, 5), (3, 5), (8, 1), (12, 3)]\n",
       " Tuple{Int64,Int64}[(3, 5), (3, 5), (12, 3), (8, 1)]\n",
       " Tuple{Int64,Int64}[(3, 5), (8, 1), (12, 3), (8, 1)]\n",
       " Tuple{Int64,Int64}[(3, 5), (8, 1), (8, 1), (12, 3)]\n",
       " Tuple{Int64,Int64}[(3, 5), (12, 3), (8, 1), (8, 1)]"
      ]
     },
     "metadata": {},
     "output_type": "display_data"
    },
    {
     "data": {
      "text/plain": [
       "\"T-5\""
      ]
     },
     "metadata": {},
     "output_type": "display_data"
    },
    {
     "data": {
      "text/plain": [
       "3-element Array{Any,1}:\n",
       " Tuple{Int64,Int64}[(1, 1), (5, 3), (1, 1), (1, 1)]\n",
       " Tuple{Int64,Int64}[(1, 1), (1, 1), (5, 3), (1, 1)]\n",
       " Tuple{Int64,Int64}[(1, 1), (1, 1), (1, 1), (5, 3)]"
      ]
     },
     "metadata": {},
     "output_type": "display_data"
    },
    {
     "data": {
      "text/plain": [
       "\"D64\""
      ]
     },
     "metadata": {},
     "output_type": "display_data"
    },
    {
     "data": {
      "text/plain": [
       "6-element Array{Any,1}:\n",
       " Tuple{Int64,Int64}[(8, 1), (1, 4), (5, 6), (8, 1)]\n",
       " Tuple{Int64,Int64}[(8, 1), (1, 4), (8, 1), (5, 6)]\n",
       " Tuple{Int64,Int64}[(8, 1), (5, 6), (1, 4), (8, 1)]\n",
       " Tuple{Int64,Int64}[(8, 1), (5, 6), (8, 1), (1, 4)]\n",
       " Tuple{Int64,Int64}[(8, 1), (8, 1), (1, 4), (5, 6)]\n",
       " Tuple{Int64,Int64}[(8, 1), (8, 1), (5, 6), (1, 4)]"
      ]
     },
     "metadata": {},
     "output_type": "display_data"
    },
    {
     "data": {
      "text/plain": [
       "\"D/3\""
      ]
     },
     "metadata": {},
     "output_type": "display_data"
    },
    {
     "data": {
      "text/plain": [
       "6-element Array{Any,1}:\n",
       " Tuple{Int64,Int64}[(12, 3), (8, 1), (3, 5), (3, 5)]\n",
       " Tuple{Int64,Int64}[(12, 3), (3, 5), (8, 1), (3, 5)]\n",
       " Tuple{Int64,Int64}[(12, 3), (3, 5), (3, 5), (8, 1)]\n",
       " Tuple{Int64,Int64}[(12, 3), (8, 1), (3, 5), (8, 1)]\n",
       " Tuple{Int64,Int64}[(12, 3), (8, 1), (8, 1), (3, 5)]\n",
       " Tuple{Int64,Int64}[(12, 3), (3, 5), (8, 1), (8, 1)]"
      ]
     },
     "metadata": {},
     "output_type": "display_data"
    },
    {
     "data": {
      "text/plain": [
       "\"D-5\""
      ]
     },
     "metadata": {},
     "output_type": "display_data"
    },
    {
     "data": {
      "text/plain": [
       "3-element Array{Any,1}:\n",
       " Tuple{Int64,Int64}[(8, 1), (12, 3), (8, 1), (8, 1)]\n",
       " Tuple{Int64,Int64}[(8, 1), (8, 1), (12, 3), (8, 1)]\n",
       " Tuple{Int64,Int64}[(8, 1), (8, 1), (8, 1), (12, 3)]"
      ]
     },
     "metadata": {},
     "output_type": "display_data"
    },
    {
     "data": {
      "text/plain": [
       "\"D7\""
      ]
     },
     "metadata": {},
     "output_type": "display_data"
    },
    {
     "data": {
      "text/plain": [
       "6-element Array{Any,1}:\n",
       " Tuple{Int64,Int64}[(8, 1), (12, 3), (3, 5), (6, 7)]\n",
       " Tuple{Int64,Int64}[(8, 1), (12, 3), (6, 7), (3, 5)]\n",
       " Tuple{Int64,Int64}[(8, 1), (3, 5), (12, 3), (6, 7)]\n",
       " Tuple{Int64,Int64}[(8, 1), (3, 5), (6, 7), (12, 3)]\n",
       " Tuple{Int64,Int64}[(8, 1), (6, 7), (12, 3), (3, 5)]\n",
       " Tuple{Int64,Int64}[(8, 1), (6, 7), (3, 5), (12, 3)]"
      ]
     },
     "metadata": {},
     "output_type": "display_data"
    },
    {
     "data": {
      "text/plain": [
       "\"T64\""
      ]
     },
     "metadata": {},
     "output_type": "display_data"
    },
    {
     "data": {
      "text/plain": [
       "6-element Array{Any,1}:\n",
       " Tuple{Int64,Int64}[(1, 1), (6, 4), (10, 6), (1, 1)]\n",
       " Tuple{Int64,Int64}[(1, 1), (6, 4), (1, 1), (10, 6)]\n",
       " Tuple{Int64,Int64}[(1, 1), (10, 6), (6, 4), (1, 1)]\n",
       " Tuple{Int64,Int64}[(1, 1), (10, 6), (1, 1), (6, 4)]\n",
       " Tuple{Int64,Int64}[(1, 1), (1, 1), (6, 4), (10, 6)]\n",
       " Tuple{Int64,Int64}[(1, 1), (1, 1), (10, 6), (6, 4)]"
      ]
     },
     "metadata": {},
     "output_type": "display_data"
    },
    {
     "data": {
      "text/plain": [
       "\"D\""
      ]
     },
     "metadata": {},
     "output_type": "display_data"
    },
    {
     "data": {
      "text/plain": [
       "6-element Array{Any,1}:\n",
       " Tuple{Int64,Int64}[(8, 1), (12, 3), (3, 5), (8, 1)]\n",
       " Tuple{Int64,Int64}[(8, 1), (12, 3), (8, 1), (3, 5)]\n",
       " Tuple{Int64,Int64}[(8, 1), (3, 5), (12, 3), (8, 1)]\n",
       " Tuple{Int64,Int64}[(8, 1), (3, 5), (8, 1), (12, 3)]\n",
       " Tuple{Int64,Int64}[(8, 1), (8, 1), (12, 3), (3, 5)]\n",
       " Tuple{Int64,Int64}[(8, 1), (8, 1), (3, 5), (12, 3)]"
      ]
     },
     "metadata": {},
     "output_type": "display_data"
    },
    {
     "data": {
      "text/plain": [
       "\"Tm\""
      ]
     },
     "metadata": {},
     "output_type": "display_data"
    },
    {
     "data": {
      "text/plain": [
       "9-element Array{Any,1}:\n",
       " Tuple{Int64,Int64}[(5, 1), (8, 3), (12, 5), (5, 1)]\n",
       " Tuple{Int64,Int64}[(5, 1), (8, 3), (5, 1), (12, 5)]\n",
       " Tuple{Int64,Int64}[(5, 1), (12, 5), (8, 3), (5, 1)]\n",
       " Tuple{Int64,Int64}[(5, 1), (12, 5), (5, 1), (8, 3)]\n",
       " Tuple{Int64,Int64}[(5, 1), (5, 1), (8, 3), (12, 5)]\n",
       " Tuple{Int64,Int64}[(5, 1), (5, 1), (12, 5), (8, 3)]\n",
       " Tuple{Int64,Int64}[(5, 1), (8, 3), (12, 5), (8, 3)]\n",
       " Tuple{Int64,Int64}[(5, 1), (8, 3), (8, 3), (12, 5)]\n",
       " Tuple{Int64,Int64}[(5, 1), (12, 5), (8, 3), (8, 3)]"
      ]
     },
     "metadata": {},
     "output_type": "display_data"
    },
    {
     "data": {
      "text/plain": [
       "\"S65\""
      ]
     },
     "metadata": {},
     "output_type": "display_data"
    },
    {
     "data": {
      "text/plain": [
       "6-element Array{Any,1}:\n",
       " Tuple{Int64,Int64}[(6, 1), (10, 3), (1, 5), (3, 6)]\n",
       " Tuple{Int64,Int64}[(6, 1), (10, 3), (3, 6), (1, 5)]\n",
       " Tuple{Int64,Int64}[(6, 1), (1, 5), (10, 3), (3, 6)]\n",
       " Tuple{Int64,Int64}[(6, 1), (1, 5), (3, 6), (10, 3)]\n",
       " Tuple{Int64,Int64}[(6, 1), (3, 6), (10, 3), (1, 5)]\n",
       " Tuple{Int64,Int64}[(6, 1), (3, 6), (1, 5), (10, 3)]"
      ]
     },
     "metadata": {},
     "output_type": "display_data"
    },
    {
     "data": {
      "text/plain": [
       "\"T54\""
      ]
     },
     "metadata": {},
     "output_type": "display_data"
    },
    {
     "data": {
      "text/plain": [
       "6-element Array{Any,1}:\n",
       " Tuple{Int64,Int64}[(1, 1), (6, 4), (8, 5), (1, 1)]\n",
       " Tuple{Int64,Int64}[(1, 1), (6, 4), (1, 1), (8, 5)]\n",
       " Tuple{Int64,Int64}[(1, 1), (8, 5), (6, 4), (1, 1)]\n",
       " Tuple{Int64,Int64}[(1, 1), (8, 5), (1, 1), (6, 4)]\n",
       " Tuple{Int64,Int64}[(1, 1), (1, 1), (6, 4), (8, 5)]\n",
       " Tuple{Int64,Int64}[(1, 1), (1, 1), (8, 5), (6, 4)]"
      ]
     },
     "metadata": {},
     "output_type": "display_data"
    },
    {
     "data": {
      "text/plain": [
       "\"S\""
      ]
     },
     "metadata": {},
     "output_type": "display_data"
    },
    {
     "data": {
      "text/plain": [
       "6-element Array{Any,1}:\n",
       " Tuple{Int64,Int64}[(6, 1), (10, 3), (1, 5), (6, 1)]\n",
       " Tuple{Int64,Int64}[(6, 1), (10, 3), (6, 1), (1, 5)]\n",
       " Tuple{Int64,Int64}[(6, 1), (1, 5), (10, 3), (6, 1)]\n",
       " Tuple{Int64,Int64}[(6, 1), (1, 5), (6, 1), (10, 3)]\n",
       " Tuple{Int64,Int64}[(6, 1), (6, 1), (10, 3), (1, 5)]\n",
       " Tuple{Int64,Int64}[(6, 1), (6, 1), (1, 5), (10, 3)]"
      ]
     },
     "metadata": {},
     "output_type": "display_data"
    },
    {
     "data": {
      "text/plain": [
       "\"D7/3\""
      ]
     },
     "metadata": {},
     "output_type": "display_data"
    },
    {
     "data": {
      "text/plain": [
       "6-element Array{Any,1}:\n",
       " Tuple{Int64,Int64}[(12, 3), (8, 1), (3, 5), (6, 7)]\n",
       " Tuple{Int64,Int64}[(12, 3), (8, 1), (6, 7), (3, 5)]\n",
       " Tuple{Int64,Int64}[(12, 3), (3, 5), (8, 1), (6, 7)]\n",
       " Tuple{Int64,Int64}[(12, 3), (3, 5), (6, 7), (8, 1)]\n",
       " Tuple{Int64,Int64}[(12, 3), (6, 7), (8, 1), (3, 5)]\n",
       " Tuple{Int64,Int64}[(12, 3), (6, 7), (3, 5), (8, 1)]"
      ]
     },
     "metadata": {},
     "output_type": "display_data"
    },
    {
     "data": {
      "text/plain": [
       "\"S-5\""
      ]
     },
     "metadata": {},
     "output_type": "display_data"
    },
    {
     "data": {
      "text/plain": [
       "3-element Array{Any,1}:\n",
       " Tuple{Int64,Int64}[(6, 1), (10, 3), (6, 1), (6, 1)]\n",
       " Tuple{Int64,Int64}[(6, 1), (6, 1), (10, 3), (6, 1)]\n",
       " Tuple{Int64,Int64}[(6, 1), (6, 1), (6, 1), (10, 3)]"
      ]
     },
     "metadata": {},
     "output_type": "display_data"
    },
    {
     "data": {
      "text/plain": [
       "\"D7-1\""
      ]
     },
     "metadata": {},
     "output_type": "display_data"
    },
    {
     "data": {
      "text/plain": [
       "9-element Array{Any,1}:\n",
       " Tuple{Int64,Int64}[(3, 5), (12, 3), (6, 7), (3, 5)]\n",
       " Tuple{Int64,Int64}[(3, 5), (12, 3), (3, 5), (6, 7)]\n",
       " Tuple{Int64,Int64}[(3, 5), (6, 7), (12, 3), (3, 5)]\n",
       " Tuple{Int64,Int64}[(3, 5), (6, 7), (3, 5), (12, 3)]\n",
       " Tuple{Int64,Int64}[(3, 5), (3, 5), (12, 3), (6, 7)]\n",
       " Tuple{Int64,Int64}[(3, 5), (3, 5), (6, 7), (12, 3)]\n",
       " Tuple{Int64,Int64}[(3, 5), (12, 3), (6, 7), (6, 7)]\n",
       " Tuple{Int64,Int64}[(3, 5), (6, 7), (12, 3), (6, 7)]\n",
       " Tuple{Int64,Int64}[(3, 5), (6, 7), (6, 7), (12, 3)]"
      ]
     },
     "metadata": {},
     "output_type": "display_data"
    },
    {
     "data": {
      "text/plain": [
       "\"S6\""
      ]
     },
     "metadata": {},
     "output_type": "display_data"
    },
    {
     "data": {
      "text/plain": [
       "6-element Array{Any,1}:\n",
       " Tuple{Int64,Int64}[(6, 1), (10, 3), (3, 6), (6, 1)]\n",
       " Tuple{Int64,Int64}[(6, 1), (10, 3), (6, 1), (3, 6)]\n",
       " Tuple{Int64,Int64}[(6, 1), (3, 6), (10, 3), (6, 1)]\n",
       " Tuple{Int64,Int64}[(6, 1), (3, 6), (6, 1), (10, 3)]\n",
       " Tuple{Int64,Int64}[(6, 1), (6, 1), (10, 3), (3, 6)]\n",
       " Tuple{Int64,Int64}[(6, 1), (6, 1), (3, 6), (10, 3)]"
      ]
     },
     "metadata": {},
     "output_type": "display_data"
    },
    {
     "data": {
      "text/plain": [
       "\"D7/7\""
      ]
     },
     "metadata": {},
     "output_type": "display_data"
    },
    {
     "data": {
      "text/plain": [
       "6-element Array{Any,1}:\n",
       " Tuple{Int64,Int64}[(6, 7), (8, 1), (12, 3), (3, 5)]\n",
       " Tuple{Int64,Int64}[(6, 7), (8, 1), (3, 5), (12, 3)]\n",
       " Tuple{Int64,Int64}[(6, 7), (12, 3), (8, 1), (3, 5)]\n",
       " Tuple{Int64,Int64}[(6, 7), (12, 3), (3, 5), (8, 1)]\n",
       " Tuple{Int64,Int64}[(6, 7), (3, 5), (8, 1), (12, 3)]\n",
       " Tuple{Int64,Int64}[(6, 7), (3, 5), (12, 3), (8, 1)]"
      ]
     },
     "metadata": {},
     "output_type": "display_data"
    },
    {
     "data": {
      "text/plain": [
       "\"D54\""
      ]
     },
     "metadata": {},
     "output_type": "display_data"
    },
    {
     "data": {
      "text/plain": [
       "6-element Array{Any,1}:\n",
       " Tuple{Int64,Int64}[(8, 1), (1, 4), (3, 5), (8, 1)]\n",
       " Tuple{Int64,Int64}[(8, 1), (1, 4), (8, 1), (3, 5)]\n",
       " Tuple{Int64,Int64}[(8, 1), (3, 5), (1, 4), (8, 1)]\n",
       " Tuple{Int64,Int64}[(8, 1), (3, 5), (8, 1), (1, 4)]\n",
       " Tuple{Int64,Int64}[(8, 1), (8, 1), (1, 4), (3, 5)]\n",
       " Tuple{Int64,Int64}[(8, 1), (8, 1), (3, 5), (1, 4)]"
      ]
     },
     "metadata": {},
     "output_type": "display_data"
    }
   ],
   "source": [
    "\n",
    "# Function entry: \"Name\" => ([notes], [Bass note], [Double/Triple notes], [Rhythmical Weight (All, Strong, Weak, Off)], [Chord Specific rules])\n",
    "\n",
    "    ##Generating permutation using Heap Algorithm \n",
    "\n",
    "function getVoicingPermutations(func)\n",
    "    voicing_permutations = []\n",
    "    voicings_initial = []\n",
    "    \n",
    "    function_map = functions[func][1]\n",
    "    double_note = functions[func][3]\n",
    "    bass_note = functions[func][2][1]\n",
    "    flag = nothing\n",
    "    active_notes = sort!([(i, x) for (i, x) in enumerate(function_map) if x > 0], by = x -> x[2])   # [position, value]\n",
    "    \n",
    "    filter!(e->e != bass_note, active_notes)\n",
    "        \n",
    "    if size(active_notes, 1) == 3\n",
    "        flag = 0       # Double note\n",
    "    elseif size(active_notes, 1) < 3\n",
    "        flag = 1       # Triple note\n",
    "    elseif size(active_notes, 1) > 3\n",
    "        flag = 2       # Four unique notes\n",
    "    end\n",
    "    voicing_sans_bass = copy(active_notes)\n",
    "            \n",
    "    if size(active_notes, 1) == 1\n",
    "        push!(voicing_sans_bass, bass_note)\n",
    "        push!(voicing_sans_bass, bass_note)\n",
    "        push!(voicings_initial, voicing_sans_bass)\n",
    "    elseif size(active_notes, 1) == 2\n",
    "        for i in 1:size(double_note, 1)\n",
    "            voicing_sans_bass = copy(active_notes)\n",
    "            push!(voicing_sans_bass, double_note[i])\n",
    "            push!(voicings_initial, voicing_sans_bass)\n",
    "        end\n",
    "    elseif size(active_notes, 1) == 3\n",
    "        push!(voicings_initial, voicing_sans_bass)\n",
    "    end\n",
    "                    \n",
    "    for entry in voicings_initial\n",
    "        voicings = collect(permutations(entry))\n",
    "        for j in voicings\n",
    "            push!(voicing_permutations, j)\n",
    "        end\n",
    "    end\n",
    "    \n",
    "    voicing_permutations = unique(voicing_permutations)   \n",
    "    for p in voicing_permutations\n",
    "        pushfirst!(p, bass_note)\n",
    "    end\n",
    "                    \n",
    "    return voicing_permutations\n",
    "end\n",
    "        \n",
    "for key in keys(functions)\n",
    "    display(key)\n",
    "    display(getVoicingPermutations(key))\n",
    "end\n",
    "\n",
    "                \n"
   ]
  },
  {
   "cell_type": "markdown",
   "metadata": {},
   "source": [
    "# # NODAL"
   ]
  },
  {
   "cell_type": "code",
   "execution_count": 145,
   "metadata": {},
   "outputs": [
    {
     "ename": "UndefVarError",
     "evalue": "UndefVarError: default_neighbor! not defined",
     "output_type": "error",
     "traceback": [
      "UndefVarError: default_neighbor! not defined",
      "",
      "Stacktrace:",
      " [1] top-level scope at In[145]:2"
     ]
    }
   ],
   "source": [
    "import Optim\n",
    "SimulatedAnnealing(; neighbor = default_neighbor!,\n",
    "                    T = default_temperature,\n",
    "                    p = kirkpatrick)"
   ]
  },
  {
   "cell_type": "code",
   "execution_count": null,
   "metadata": {},
   "outputs": [],
   "source": []
  }
 ],
 "metadata": {
  "kernelspec": {
   "display_name": "Julia 1.1.0",
   "language": "julia",
   "name": "julia-1.1"
  },
  "language_info": {
   "file_extension": ".jl",
   "mimetype": "application/julia",
   "name": "julia",
   "version": "1.1.0"
  }
 },
 "nbformat": 4,
 "nbformat_minor": 2
}
