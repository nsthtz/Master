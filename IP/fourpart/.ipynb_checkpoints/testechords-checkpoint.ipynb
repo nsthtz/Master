{
 "cells": [
  {
   "cell_type": "code",
   "execution_count": null,
   "metadata": {},
   "outputs": [],
   "source": [
    "# Major T, S, D, D7, D7/3, D7/7, T/5, S/5, D/5, T/3, S/3, D/3, T64, T54, D64, D54, \n",
    "# TODO: D7-5, D7-1, S6, S65, S65/6, Ts, Tm, Ss"
   ]
  }
 ],
 "metadata": {
  "kernelspec": {
   "display_name": "Julia 1.1.0",
   "language": "julia",
   "name": "julia-1.1"
  },
  "language_info": {
   "file_extension": ".jl",
   "mimetype": "application/julia",
   "name": "julia",
   "version": "1.1.0"
  }
 },
 "nbformat": 4,
 "nbformat_minor": 2
}
