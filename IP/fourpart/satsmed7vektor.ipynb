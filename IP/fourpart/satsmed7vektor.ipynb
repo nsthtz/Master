{
 "cells": [
  {
   "cell_type": "code",
   "execution_count": 5,
   "metadata": {},
   "outputs": [
    {
     "name": "stdout",
     "output_type": "stream",
     "text": [
      "\u001b[32m\u001b[1m  Updating\u001b[22m\u001b[39m registry at `C:\\Users\\nsthtz\\.julia\\registries\\General`\n",
      "\u001b[32m\u001b[1m  Updating\u001b[22m\u001b[39m git-repo `https://github.com/JuliaRegistries/General.git`\n",
      "\u001b[?25l\u001b[2K\u001b[?25h\u001b[32m\u001b[1m Resolving\u001b[22m\u001b[39m package versions...\n"
     ]
    }
   ],
   "source": [
    "import Pkg\n",
    "Pkg.activate(@__DIR__)\n",
    "Pkg.instantiate()"
   ]
  },
  {
   "cell_type": "code",
   "execution_count": 166,
   "metadata": {},
   "outputs": [
    {
     "data": {
      "text/plain": [
       "128×24 Array{Int64,2}:\n",
       " 0  0  0  0  0  0  0  0  0  0  0  0  0  0  0  0  0  0  0  0  0  0  0  0\n",
       " 0  0  0  0  0  0  0  0  0  0  0  0  0  0  0  0  0  0  0  0  0  0  0  0\n",
       " 0  0  0  0  0  0  0  0  0  0  0  0  0  0  0  0  0  0  0  0  0  0  0  0\n",
       " 0  0  0  0  0  0  0  0  0  0  0  0  0  0  0  0  0  0  0  0  0  0  0  0\n",
       " 0  0  0  0  0  0  0  0  0  0  0  0  0  0  0  0  0  0  0  0  0  0  0  0\n",
       " 0  0  0  0  0  0  0  0  0  0  0  0  0  0  0  0  0  0  0  0  0  0  0  0\n",
       " 0  0  0  0  0  0  0  0  0  0  0  0  0  0  0  0  0  0  0  0  0  0  0  0\n",
       " 0  0  0  0  0  0  0  0  0  0  0  0  0  0  0  0  0  0  0  0  0  0  0  0\n",
       " 0  0  0  0  0  0  0  0  0  0  0  0  0  0  0  0  0  0  0  0  0  0  0  0\n",
       " 0  0  0  0  0  0  0  0  0  0  0  0  0  0  0  0  0  0  0  0  0  0  0  0\n",
       " 0  0  0  0  0  0  0  0  0  0  0  0  0  0  0  0  0  0  0  0  0  0  0  0\n",
       " 0  0  0  0  0  0  0  0  0  0  0  0  0  0  0  0  0  0  0  0  0  0  0  0\n",
       " 0  0  0  0  0  0  0  0  0  0  0  0  0  0  0  0  0  0  0  0  0  0  0  0\n",
       " ⋮              ⋮              ⋮              ⋮              ⋮         \n",
       " 0  0  0  0  0  0  0  0  0  0  0  0  0  0  0  0  0  0  0  0  0  0  0  0\n",
       " 0  0  0  0  0  0  0  0  0  0  0  0  0  0  0  0  0  0  0  0  0  0  0  0\n",
       " 0  0  0  0  0  0  0  0  0  0  0  0  0  0  0  0  0  0  0  0  0  0  0  0\n",
       " 0  0  0  0  0  0  0  0  0  0  0  0  0  0  0  0  0  0  0  0  0  0  0  0\n",
       " 0  0  0  0  0  0  0  0  0  0  0  0  0  0  0  0  0  0  0  0  0  0  0  0\n",
       " 0  0  0  0  0  0  0  0  0  0  0  0  0  0  0  0  0  0  0  0  0  0  0  0\n",
       " 0  0  0  0  0  0  0  0  0  0  0  0  0  0  0  0  0  0  0  0  0  0  0  0\n",
       " 0  0  0  0  0  0  0  0  0  0  0  0  0  0  0  0  0  0  0  0  0  0  0  0\n",
       " 0  0  0  0  0  0  0  0  0  0  0  0  0  0  0  0  0  0  0  0  0  0  0  0\n",
       " 0  0  0  0  0  0  0  0  0  0  0  0  0  0  0  0  0  0  0  0  0  0  0  0\n",
       " 0  0  0  0  0  0  0  0  0  0  0  0  0  0  0  0  0  0  0  0  0  0  0  0\n",
       " 0  0  0  0  0  0  0  0  0  0  0  0  0  0  0  0  0  0  0  0  0  0  0  0"
      ]
     },
     "execution_count": 166,
     "metadata": {},
     "output_type": "execute_result"
    }
   ],
   "source": [
    "using DelimitedFiles\n",
    "#data = readdlm(joinpath(\"dummyMajor.csv\"),';')\n",
    "#data = readdlm(joinpath(\"dummyMajorA#.csv\"),';')\n",
    "data = readdlm(joinpath(\"dummyMajorMultiple.csv\"),';')\n",
    "#data = readdlm(joinpath(\"dummyMinor.csv\"),',')\n",
    "#data = readdlm(joinpath(\"dummyMinorA#.csv\"),';')\n",
    "data = round.(Int, data)"
   ]
  },
  {
   "cell_type": "markdown",
   "metadata": {},
   "source": [
    "# # Convert piano roll into timestepx12 tonal mapping\n"
   ]
  },
  {
   "cell_type": "code",
   "execution_count": 167,
   "metadata": {
    "scrolled": true
   },
   "outputs": [
    {
     "data": {
      "text/plain": [
       "24×12 Array{Int8,2}:\n",
       " 1  1  1  0  1  0  0  0  0  0  0  0\n",
       " 0  0  1  0  0  1  0  0  1  1  0  0\n",
       " 1  0  0  0  1  0  0  0  1  0  0  0\n",
       " 0  0  0  0  0  1  0  0  0  1  1  0\n",
       " 1  0  0  0  0  1  0  1  0  0  0  0\n",
       " 1  0  0  1  0  0  0  0  0  1  0  0\n",
       " 0  0  0  1  0  0  0  0  0  0  0  1\n",
       " 1  0  0  0  0  1  0  0  0  0  0  0\n",
       " 1  0  0  0  0  0  0  1  0  0  0  0\n",
       " 0  0  0  1  0  0  0  1  0  0  0  1\n",
       " 1  0  1  0  0  0  0  0  0  1  0  0\n",
       " 1  0  0  0  0  0  0  1  0  0  1  0\n",
       " 0  0  0  0  0  1  0  0  0  0  0  0\n",
       " 0  0  1  0  1  0  0  0  0  1  0  0\n",
       " 0  0  1  0  0  0  1  0  1  0  0  0\n",
       " 1  0  1  0  0  0  0  0  1  0  0  0\n",
       " 0  0  1  0  0  1  0  0  0  0  0  1\n",
       " 1  0  0  1  0  0  0  0  0  0  0  0\n",
       " 0  1  0  0  0  1  0  0  0  0  0  0\n",
       " 0  0  0  0  0  0  0  1  0  0  0  1\n",
       " 1  0  0  0  0  1  0  0  0  0  0  0\n",
       " 0  0  0  0  0  0  1  0  0  1  0  0\n",
       " 0  0  0  0  1  0  0  0  0  0  0  1\n",
       " 1  1  0  0  0  0  0  0  0  0  0  0"
      ]
     },
     "execution_count": 167,
     "metadata": {},
     "output_type": "execute_result"
    }
   ],
   "source": [
    "#\n",
    "\n",
    "tonal_map = zeros(Int8, size(data, 2), 12)\n",
    "i=1\n",
    "data[:, 1]\n",
    "\n",
    "for i in 1:size(data, 2)\n",
    "    active_notes = findall(x->x==1, data[:,i])\n",
    "    #println(active_notes)\n",
    "    for note in active_notes\n",
    "        tonal_map[i, note%12+1] = 1\n",
    "    end\n",
    "    #println(timestep_chords[i,:])\n",
    "end\n",
    "\n",
    "tonal_map"
   ]
  },
  {
   "cell_type": "markdown",
   "metadata": {},
   "source": [
    "# # Pattern matcher to identify the best-fit key and scale from existing notes"
   ]
  },
  {
   "cell_type": "code",
   "execution_count": 168,
   "metadata": {},
   "outputs": [
    {
     "data": {
      "text/plain": [
       "score_tonality (generic function with 1 method)"
      ]
     },
     "execution_count": 168,
     "metadata": {},
     "output_type": "execute_result"
    }
   ],
   "source": [
    "# Functions and Global\n",
    "\n",
    "pattern = [1, 0, 1, 0, 1, 1, 0, 1, 0, 1, 0, 1]\n",
    "\n",
    "# Weight of core notes (1, 4, 5) doubled\n",
    "majorpattern = [1, 0, 0.5, 0, 0.5, 1, 0, 1, 0, 0.5, 0, 0.5]\n",
    "minorpattern = [0.5, 0, 1, 0, 1, 0.5, 0, 0.5, 0, 1, 0, 0.5]\n",
    "\n",
    "Keys = Dict{Integer, String}(1 => \"C\", 2 => \"C#\", 3 => \"D\", 4 => \"D#\", 5 => \"E\", 6 => \"F\", 7 => \"F#\", 8 => \"G\", 9 => \"G#\", 10 => \"A\", 11 => \"A#\", 12 => \"B\")\n",
    "\n",
    "\n",
    "#Score In: Tx12 Matrix, pattern. Out: Best position(s)\n",
    "function score_key(matrix, pattern)\n",
    "    counter = zeros(Int8, 1, 12)\n",
    "    for i in 1:size(matrix, 2)\n",
    "        counter[i] = sum(matrix[:,i])\n",
    "    end\n",
    "    println(\"Key Counter is \", counter)\n",
    "    \n",
    "    key_score = zeros(Int8, 12, 1)\n",
    "    \n",
    "    for i in 1:size(pattern, 1)\n",
    "        for j in 1:size(pattern, 1)\n",
    "            key_score[i] += circshift(pattern, i-1)[j]*counter[j]\n",
    "        end\n",
    "    end\n",
    "    println(\"Key Score is \", key_score)\n",
    "    return key_score\n",
    "end\n",
    "\n",
    "# Find maximum score from list\n",
    "function findmaximum(score_result)\n",
    "    positions = []\n",
    "    max_value = maximum(score_result)\n",
    "    for (i, x) in enumerate(score_result)\n",
    "        if x == max_value\n",
    "            push!(positions, i)\n",
    "        end\n",
    "    end\n",
    "    #positions = [i for (i, x) in enumerate(score_result) if x == max_value]\n",
    "    return positions\n",
    "end\n",
    "\n",
    "# Find an optimal scale\n",
    "function score_tonality(matrix, positions)\n",
    "    \n",
    "    counter = zeros(Int8, 1, 12)\n",
    "    for i in 1:size(matrix, 2)\n",
    "        counter[i] = sum(matrix[:,i])\n",
    "    end\n",
    "    \n",
    "    tonality_scores = []\n",
    "    \n",
    "    for position in positions\n",
    "        counter_shifted = circshift(counter, (0,-(position-1)))\n",
    "        println(\"Position Counter for \", position, \" is \", counter_shifted)\n",
    "        \n",
    "        major_score = 0\n",
    "        minor_score = 0\n",
    "        \n",
    "        for i in 1:size(counter_shifted, 2)\n",
    "            major_score += majorpattern[i]*counter_shifted[i]\n",
    "            minor_score += minorpattern[i]*counter_shifted[i]\n",
    "        end\n",
    "\n",
    "        if major_score > minor_score\n",
    "            push!(tonality_scores, [position, major_score, 1])\n",
    "        else\n",
    "            push!(tonality_scores, [position, minor_score, 0])\n",
    "        end\n",
    "        \n",
    "    end \n",
    "    \n",
    "    return tonality_scores\n",
    "end"
   ]
  },
  {
   "cell_type": "code",
   "execution_count": 169,
   "metadata": {},
   "outputs": [
    {
     "name": "stdout",
     "output_type": "stream",
     "text": [
      "Key Counter is Int8[12 3 7 4 4 8 2 5 4 6 2 5]\n",
      "Key Score is Int8[47; 35; 32; 42; 28; 44; 28; 41; 38; 31; 44; 24]\n",
      "Position Counter for 1 is Int8[6 0 2 0 2 5 0 3 0 3 0 3]\n",
      "[1, 19, 1]\n",
      "11\n",
      "1 C Major\n"
     ]
    }
   ],
   "source": [
    "# Score matrix after pattern\n",
    "key_score_result = score_key(tonal_map, pattern)\n",
    "# score_result = [9, 5, 18, 9, 23, 18, 8, 2, 7, 16, 12, 11]\n",
    "\n",
    "# Find positions of maximum score\n",
    "positions = findmaximum(key_score_result)\n",
    "sort!(positions)\n",
    "\n",
    "# # Use positions to find the best key\n",
    "\n",
    "tonality_results = score_tonality(timestep_intervals, positions)\n",
    "\n",
    "# [Position (1 = C), Score, Scale (1 = Major, 0 = Minor)]\n",
    "best_key = [0, 0, 1]\n",
    "\n",
    "# In case of tied scores, check each for the best scale\n",
    "for result_group in tonality_results\n",
    "    if best_key[2] < result_group[2]\n",
    "        best_key[1] = result_group[1]\n",
    "        best_key[2] = result_group[2]\n",
    "        best_key[3] = result_group[3]\n",
    "    end\n",
    "end\n",
    "    \n",
    "#Save Key\n",
    "println(best_key)\n",
    "if best_key[3] == 1\n",
    "    key = best_key[1]\n",
    "    key_print = Keys[best_key[1]]\n",
    "    scale = \"Major\"\n",
    "else\n",
    "    key = (12+best_key[1]-3)%12\n",
    "    key_print = Keys[key]\n",
    "    scale = \"Minor\"\n",
    "end\n",
    "    \n",
    "println(mod(-1, 12))\n",
    "    \n",
    "println(key, \" \", key_print, \" \", scale)"
   ]
  },
  {
   "cell_type": "markdown",
   "metadata": {},
   "source": [
    "# # Define patterns for chord functions relative to key"
   ]
  },
  {
   "cell_type": "code",
   "execution_count": 170,
   "metadata": {},
   "outputs": [
    {
     "name": "stdout",
     "output_type": "stream",
     "text": [
      "S65/6 ([1, 0, 1, 0, 0, 1, 0, 0, 0, 1, 0, 0], [3], Nothing[nothing], [\"S\"])\n",
      "S/5 ([1, 0, 0, 0, 0, 1, 0, 0, 0, 1, 0, 0], [1], [1, 6], [\"W\"])\n",
      "T ([1, 0, 0, 0, 1, 0, 0, 1, 0, 0, 0, 0], [1], [1], [\"A\"])\n",
      "Ts ([1, 0, 0, 0, 1, 0, 0, 0, 0, 1, 0, 0], [10], [1, 10], [\"A\"])\n",
      "S/3 ([1, 0, 0, 0, 0, 1, 0, 0, 0, 1, 0, 0], [10], [1, 6], [\"A\"])\n",
      "T/5 ([1, 0, 0, 0, 1, 0, 0, 1, 0, 0, 0, 0], [8], [1, 8], [\"W\"])\n",
      "Ss ([0, 0, 1, 0, 0, 1, 0, 0, 0, 1, 0, 0], [3], [3, 6], [\"A\"])\n",
      "D7/5 ([0, 0, 1, 0, 0, 1, 0, 1, 0, 0, 0, 1], [3], Nothing[nothing], [\"W\", \"O\"])\n",
      "T/3 ([1, 0, 0, 0, 1, 0, 0, 1, 0, 0, 0, 0], [5], [1, 8], [\"A\"])\n",
      "D/5 ([0, 0, 1, 0, 0, 0, 0, 1, 0, 0, 0, 1], [3], [3, 8], [\"W\"])\n",
      "T-5 ([1, 0, 0, 0, 1, 0, 0, 0, 0, 0, 0, 0], [1], [1], [\"A\"])\n",
      "D64 ([1, 0, 0, 0, 1, 0, 0, 1, 0, 0, 0, 0], [8], [8], [\"S\"])\n",
      "D/3 ([0, 0, 1, 0, 0, 0, 0, 1, 0, 0, 0, 1], [12], [3, 8], [\"A\"])\n",
      "D-5 ([0, 0, 0, 0, 0, 0, 0, 1, 0, 0, 0, 1], [8], [8], [\"A\"])\n",
      "D7 ([0, 0, 1, 0, 0, 1, 0, 1, 0, 0, 0, 1], [8], Nothing[nothing], [\"A\"])\n",
      "T64 ([1, 0, 0, 0, 0, 1, 0, 0, 0, 1, 0, 0], [1], [1], [\"S\"])\n",
      "D ([0, 0, 1, 0, 0, 0, 0, 1, 0, 0, 0, 1], [8], [8], [\"A\"])\n",
      "Tm ([0, 0, 0, 0, 1, 0, 0, 1, 0, 0, 0, 1], [5], [5, 8], [\"A\"])\n",
      "S65 ([1, 0, 1, 0, 0, 1, 0, 0, 0, 1, 0, 0], [6], Nothing[nothing], [\"A\"])\n",
      "T54 ([1, 0, 0, 0, 0, 1, 0, 1, 0, 0, 0, 0], [1], [1], [\"S\"])\n",
      "S ([1, 0, 0, 0, 0, 1, 0, 0, 0, 1, 0, 0], [6], [6], [\"A\"])\n",
      "D7/3 ([0, 0, 1, 0, 0, 1, 0, 1, 0, 0, 0, 1], [12], Nothing[nothing], [\"A\"])\n",
      "S-5 ([0, 0, 0, 0, 0, 1, 0, 0, 0, 1, 0, 0], [6], [6], [\"A\"])\n",
      "D7-1 ([0, 0, 1, 0, 0, 1, 0, 0, 0, 0, 0, 1], [3], [3, 6], [\"A\"])\n",
      "S6 ([0, 0, 1, 0, 0, 1, 0, 0, 0, 1, 0, 0], [6], [6], [\"A\"])\n",
      "D7/7 ([0, 0, 1, 0, 0, 1, 0, 1, 0, 0, 0, 1], [6], Nothing[nothing], [\"A\"])\n",
      "D54 ([1, 0, 1, 0, 0, 0, 0, 1, 0, 0, 0, 0], [8], [8], [\"S\"])\n"
     ]
    }
   ],
   "source": [
    "# Function entry: \"Name\" => ([notes], [Bass note], [Double/Triple notes], [Rhythmical Weight (All, Strong, Weak, Off)], [Chord Specific rules])\n",
    "\n",
    "functions = Dict{String, Array{Int64, 1}}\n",
    "\n",
    "if scale == \"Major\"\n",
    "#Major  =  [1, 0, 2, 0, 3, 4, 0, 5, 0, 6, 0, 7]\n",
    "#\n",
    "    \n",
    "    functions = Dict( \"T\"  =>  (circshift([1, 0, 0, 0, 1, 0, 0, 1, 0, 0, 0, 0], (key-1)), [ key ], [ key ], [\"A\"]),\n",
    "    \"S\"    =>  (circshift([1, 0, 0, 0, 0, 1, 0, 0, 0, 1, 0, 0], (key-1)), [ ((5+(key-1))%12)+1 ], [ ((5+(key-1))%12)+1 ], [\"A\"]),\n",
    "    \"D\"    =>  (circshift([0, 0, 1, 0, 0, 0, 0, 1, 0, 0, 0, 1], (key-1)), [ ((7+(key-1))%12)+1 ], [ ((7+(key-1))%12)+1 ], [\"A\"]),\n",
    "    \"T-5\"  =>  (circshift([1, 0, 0, 0, 1, 0, 0, 0, 0, 0, 0, 0], (key-1)), [ key ], [ key ], [\"A\"]),\n",
    "    \"S-5\"  =>  (circshift([0, 0, 0, 0, 0, 1, 0, 0, 0, 1, 0, 0], (key-1)), [ ((5+(key-1))%12)+1 ], [ ((5+(key-1))%12)+1 ], [\"A\"]),\n",
    "    \"D-5\"  =>  (circshift([0, 0, 0, 0, 0, 0, 0, 1, 0, 0, 0, 1], (key-1)), [ ((7+(key-1))%12)+1 ], [ ((7+(key-1))%12)+1 ], [\"A\"]),\n",
    "    \"T/3\"   => (circshift([1, 0, 0, 0, 1, 0, 0, 1, 0, 0, 0, 0], (key-1)), [ ((4+(key-1))%12)+1 ], [ key, ((7+(key-1))%12)+1 ], [\"A\"]),\n",
    "    \"S/3\"   => (circshift([1, 0, 0, 0, 0, 1, 0, 0, 0, 1, 0, 0], (key-1)), [ ((9+(key-1))%12)+1 ], [ key, ((5+(key-1))%12)+1 ], [\"A\"]),\n",
    "    \"D/3\"   => (circshift([0, 0, 1, 0, 0, 0, 0, 1, 0, 0, 0, 1], (key-1)), [ ((11+(key-1))%12)+1 ], [ ((2+(key-1))%12)+1, ((7+(key-1))%12)+1 ], [\"A\"]),\n",
    "    \"T/5\"   => (circshift([1, 0, 0, 0, 1, 0, 0, 1, 0, 0, 0, 0], (key-1)), [ ((7+(key-1))%12)+1 ], [ key, ((7+(key-1))%12)+1 ], [\"W\"]),\n",
    "    \"S/5\"   => (circshift([1, 0, 0, 0, 0, 1, 0, 0, 0, 1, 0, 0], (key-1)), [ ((0+(key-1))%12)+1 ], [ key, ((5+(key-1))%12)+1 ], [\"W\"]),\n",
    "    \"D/5\"   => (circshift([0, 0, 1, 0, 0, 0, 0, 1, 0, 0, 0, 1], (key-1)), [ ((2+(key-1))%12)+1 ], [ ((2+(key-1))%12)+1, ((7+(key-1))%12)+1 ], [\"W\"]),\n",
    "    \"D64\"  =>  (circshift([1, 0, 0, 0, 1, 0, 0, 1, 0, 0, 0, 0], (key-1)), [ ((7+(key-1))%12)+1 ], [ ((7+(key-1))%12)+1 ], [\"S\"]),\n",
    "    \"T64\"  =>  (circshift([1, 0, 0, 0, 0, 1, 0, 0, 0, 1, 0, 0], (key-1)), [ ((0+(key-1))%12)+1 ], [ key ], [\"S\"]),\n",
    "    \"T54\"  =>  (circshift([1, 0, 0, 0, 0, 1, 0, 1, 0, 0, 0, 0], (key-1)), [ ((0+(key-1))%12)+1 ], [ key ], [\"S\"]),\n",
    "    \"D54\"  =>  (circshift([1, 0, 1, 0, 0, 0, 0, 1, 0, 0, 0, 0], (key-1)), [ ((7+(key-1))%12)+1 ], [ ((7+(key-1))%12)+1 ], [\"S\"]),\n",
    "    \"D7\"   =>  (circshift([0, 0, 1, 0, 0, 1, 0, 1, 0, 0, 0, 1], (key-1)), [ ((7+(key-1))%12)+1 ], [ nothing ], [\"A\"]),\n",
    "    \"D7/3\" =>  (circshift([0, 0, 1, 0, 0, 1, 0, 1, 0, 0, 0, 1], (key-1)), [ ((11+(key-1))%12)+1 ], [ nothing ], [\"A\"]),\n",
    "    \"D7/5\" =>  (circshift([0, 0, 1, 0, 0, 1, 0, 1, 0, 0, 0, 1], (key-1)), [ ((2+(key-1))%12)+1 ], [ nothing ], [\"W\", \"O\"]),\n",
    "    \"D7/7\" =>  (circshift([0, 0, 1, 0, 0, 1, 0, 1, 0, 0, 0, 1], (key-1)), [ ((5+(key-1))%12)+1 ], [ nothing ], [\"A\"]),\n",
    "    \"D7-1\" =>  (circshift([0, 0, 1, 0, 0, 1, 0, 0, 0, 0, 0, 1], (key-1)), [ ((2+(key-1))%12)+1 ], [ ((2+(key-1))%12)+1, ((5+(key-1))%12)+1 ], [\"A\"]),\n",
    "    \"S65\"  =>  (circshift([1, 0, 1, 0, 0, 1, 0, 0, 0, 1, 0, 0], (key-1)), [ ((5+(key-1))%12)+1 ], [ nothing ], [\"A\"]),\n",
    "    \"S65/6\"=>  (circshift([1, 0, 1, 0, 0, 1, 0, 0, 0, 1, 0, 0], (key-1)), [ ((2+(key-1))%12)+1 ], [ nothing ], [\"S\"]),\n",
    "    \"S6\"   =>  (circshift([0, 0, 1, 0, 0, 1, 0, 0, 0, 1, 0, 0], (key-1)), [ ((5+(key-1))%12)+1 ], [ ((5+(key-1))%12)+1 ], [\"A\"]),\n",
    "    \"Ss\"   =>  (circshift([0, 0, 1, 0, 0, 1, 0, 0, 0, 1, 0, 0], (key-1)), [ ((2+(key-1))%12)+1 ], [ ((2+(key-1))%12)+1, ((5+(key-1))%12)+1 ], [\"A\"]),\n",
    "    \"Ts\"   =>  (circshift([1, 0, 0, 0, 1, 0, 0, 0, 0, 1, 0, 0], (key-1)), [ ((9+(key-1))%12)+1 ], [ key, ((9+(key-1))%12)+1 ], [\"A\"]),\n",
    "    \"Tm\"   =>  (circshift([0, 0, 0, 0, 1, 0, 0, 1, 0, 0, 0, 1], (key-1)), [ ((4+(key-1))%12)+1 ], [ ((4+(key-1))%12)+1, ((7+(key-1))%12)+1 ], [\"A\"]))\n",
    "\n",
    "elseif scale == \"Minor\"\n",
    "#Minor  =  [1, 0, 2, 3, 0, 4, 0, 5, 6, 0, 7, 0]        \n",
    "        \n",
    "    functions = Dict( \"T\"   =>  (circshift([1, 0, 0, 1, 0, 0, 0, 1, 0, 0, 0, 0], (key-1)), [ key ], [ key ], [\"A\"]),\n",
    "    \"S\"   =>   (circshift([1, 0, 0, 0, 0, 1, 0, 0, 1, 0, 0, 0], (key-1)), [ ((5+(key-1))%12)+1 ]),\n",
    "    \"D\"   =>   (circshift([0, 0, 1, 0, 0, 0, 0, 1, 0, 0, 1, 0], (key-1)), [ ((7+(key-1))%12)+1 ]),\n",
    "    \"T-5\" =>   (circshift([1, 0, 0, 1, 0, 0, 0, 0, 0, 0, 0, 0], (key-1)), [ key ]),\n",
    "    \"S-5\" =>   (circshift([0, 0, 0, 0, 0, 1, 0, 0, 1, 0, 0, 0], (key-1)), [ ((5+(key-1))%12)+1 ]),\n",
    "    \"D-5\" =>   (circshift([0, 0, 0, 0, 0, 0, 0, 1, 0, 0, 1, 0], (key-1)), [ ((7+(key-1))%12)+1 ]),\n",
    "    \"T/3\"  =>  (circshift([1, 0, 0, 1, 0, 0, 0, 1, 0, 0, 0, 0], (key-1)), [ ((3+(key-1))%12)+1 ]),\n",
    "    \"S/3\"  =>  (circshift([1, 0, 0, 0, 0, 1, 0, 0, 1, 0, 0, 0], (key-1)), [ ((8+(key-1))%12)+1 ]),\n",
    "    \"D/3\"  =>  (circshift([0, 0, 1, 0, 0, 0, 0, 1, 0, 0, 1, 0], (key-1)), [ ((10+(key-1))%12)+1 ]),\n",
    "    \"T/5\"  =>  (circshift([1, 0, 0, 1, 0, 0, 0, 1, 0, 0, 0, 0], (key-1)), [ ((7+(key-1))%12)+1 ]),\n",
    "    \"S/5\"  =>  (circshift([1, 0, 0, 0, 0, 1, 0, 0, 1, 0, 0, 0], (key-1)), [ ((0+(key-1))%12)+1 ]),\n",
    "    \"D/5\"  =>  (circshift([0, 0, 1, 0, 0, 0, 0, 1, 0, 0, 1, 0], (key-1)), [ ((2+(key-1))%12)+1 ]),\n",
    "    \"D64\" =>   (circshift([1, 0, 0, 1, 0, 0, 0, 1, 0, 0, 0, 0], (key-1)), [ ((7+(key-1))%12)+1 ]),\n",
    "    \"T64\" =>   (circshift([1, 0, 0, 0, 0, 1, 0, 0, 1, 0, 0, 0], (key-1)), [ ((0+(key-1))%12)+1 ]),\n",
    "    \"T54\" =>   (circshift([1, 0, 0, 0, 0, 1, 0, 1, 0, 0, 0, 0], (key-1)), [ ((0+(key-1))%12)+1 ]),\n",
    "    \"D54\" =>   (circshift([1, 0, 1, 0, 0, 0, 0, 1, 0, 0, 0, 0], (key-1)), [ ((7+(key-1))%12)+1 ]),\n",
    "    \"D7\"  =>   (circshift([0, 0, 1, 0, 0, 1, 0, 1, 0, 0, 1, 0], (key-1)), [ ((7+(key-1))%12)+1 ]),\n",
    "    \"D7/3\"  => (circshift([0, 0, 1, 0, 0, 1, 0, 1, 0, 0, 1, 0], (key-1)), [ ((10+(key-1))%12)+1 ]),\n",
    "    \"D7/5\"  => (circshift([0, 0, 1, 0, 0, 1, 0, 1, 0, 0, 1, 0], (key-1)), [ ((2+(key-1))%12)+1 ]),\n",
    "    \"D7/7\"  => (circshift([0, 0, 1, 0, 0, 1, 0, 1, 0, 0, 1, 0], (key-1)), [ ((5+(key-1))%12)+1 ]),\n",
    "    \"D7-1\" =>  (circshift([0, 0, 1, 0, 0, 1, 0, 0, 0, 0, 1, 0], (key-1)), [ ((2+(key-1))%12)+1 ]),\n",
    "    \"S65\" =>   (circshift([1, 0, 1, 0, 0, 1, 0, 0, 1, 0, 0, 0], (key-1)), [ ((5+(key-1))%12)+1 ]),\n",
    "    \"S65/6\" => (circshift([1, 0, 1, 0, 0, 1, 0, 0, 1, 0, 0, 0], (key-1)), [ ((2+(key-1))%12)+1 ]),\n",
    "    \"S6\"  =>   (circshift([0, 0, 1, 0, 0, 1, 0, 0, 1, 0, 0, 0], (key-1)), [ ((5+(key-1))%12)+1 ]),\n",
    "    \"Dm\"  =>   (circshift([0, 0, 1, 0, 0, 1, 0, 0, 0, 0, 1, 0], (key-1)), [ ((10+(key-1))%12)+1 ]),\n",
    "    \"Ts\"  =>   (circshift([1, 0, 0, 1, 0, 0, 0, 0, 1, 0, 0, 0], (key-1)), [ ((8+(key-1))%12)+1 ]),\n",
    "    \"Tm\"  =>   (circshift([0, 0, 0, 1, 0, 0, 0, 1, 0, 0, 1, 0], (key-1)), [ ((3+(key-1))%12)+1 ]))\n",
    "        \n",
    "end\n",
    "        \n",
    "for k in functions\n",
    "    println(k[1], \" \", k[2])\n",
    "end\n",
    "\n",
    "#      [C, C#, D, D#, E, F, F#, G, G#, A, A#, B]\n",
    "#      [1, 2,  3, 4,  5, 6, 7,  8, 9, 10, 11, 12]\n",
    "#      [2, 0,  3, 4,  0, 5, 0,  6, 0, 7,  1,  0]"
   ]
  },
  {
   "cell_type": "markdown",
   "metadata": {},
   "source": [
    "# # Analyze tonal map and calculate hamming distances for each timestep"
   ]
  },
  {
   "cell_type": "code",
   "execution_count": 244,
   "metadata": {},
   "outputs": [
    {
     "ename": "BoundsError",
     "evalue": "BoundsError",
     "output_type": "error",
     "traceback": [
      "BoundsError",
      "",
      "Stacktrace:",
      " [1] getindex at .\\number.jl:78 [inlined]",
      " [2] hamming(::Array{Int8,1}, ::Int64) at .\\In[244]:4",
      " [3] top-level scope at .\\In[244]:18"
     ]
    }
   ],
   "source": [
    "function hamming(input, target)\n",
    "    counter = 0\n",
    "    for i in 1:size(input, 1)\n",
    "        if input[i] != target[i]\n",
    "            counter = counter+1\n",
    "        end\n",
    "    end\n",
    "    return counter\n",
    "end\n",
    "\n",
    "chords = keys(functions)\n",
    "function_potential = []\n",
    "\n",
    "for i in 1:size(tonal_map, 1)\n",
    "    #println(tonal_map[i,:])\n",
    "    function_pool = []\n",
    "    for chord in chords\n",
    "        hamming_distance = hamming(tonal_map[i,:], functions[chord][1])\n",
    "        push!(function_pool, (hamming_distance, chord))\n",
    "    end\n",
    "    push!(function_potential, sort(function_pool))\n",
    "end\n",
    "\n",
    "println(function_potential[1])\n"
   ]
  },
  {
   "cell_type": "markdown",
   "metadata": {},
   "source": [
    "# # Construct a naive solution"
   ]
  },
  {
   "cell_type": "code",
   "execution_count": 249,
   "metadata": {},
   "outputs": [
    {
     "name": "stdout",
     "output_type": "stream",
     "text": [
      "[1]\n",
      "Any[[48, 60], [48, 52, 60, 64], [52, 60, 64, 72], [60, 64, 72, 76]]\n",
      "[60, 64, 74, 85] (2, \"T-5\")\n"
     ]
    }
   ],
   "source": [
    "function getNotes(timestep_vector)\n",
    "    return findall(x->x==1, timestep_vector)\n",
    "end\n",
    "\n",
    "function voicify(original_timestep_notes)\n",
    "    if size(original_timestep_notes, 1) > 4\n",
    "        println(\"yes\")\n",
    "    el\n",
    "    end\n",
    "    #return voicing\n",
    "end\n",
    "\n",
    "# # Note: Only hamming distances are considered from the original work\n",
    "\n",
    "function convertTonalMapToNotes(tonal_Map, voice=\"X\")\n",
    "    \n",
    "    indexes = getNotes(tonal_map)\n",
    "    indexes = indexes .- 1\n",
    "    \n",
    "    if voice == \"B\"\n",
    "        notes = [x for x in 40:61 if x%12 in indexes]\n",
    "    elseif voice == \"T\"\n",
    "        notes = [x for x in 47:68 if x%12 in indexes]\n",
    "    elseif voice == \"A\"\n",
    "        notes = [x for x in 52:73 if x%12 in indexes]\n",
    "    elseif voice == \"S\"\n",
    "        notes = [x for x in 59:80 if x%12 in indexes]\n",
    "    else\n",
    "        notes = []\n",
    "        push!(notes, [x for x in 40:61 if x%12 in indexes], [x for x in 47:68 if x%12 in indexes], [x for x in 52:73 if x%12 in indexes], [x for x in 59:80 if x%12 in indexes])\n",
    "    end\n",
    "    \n",
    "    return notes\n",
    "end\n",
    "\n",
    "#println(convertTonalMapToNotes(functions[\"T-5\"][1], \"X\"))\n",
    "\n",
    "function convertFunctionToNotes(func, voice=\"X\")\n",
    "    \n",
    "    indexes = getNotes(functions[func][1])\n",
    "    indexes = indexes .- 1\n",
    "    \n",
    "    println(functions[func][3])\n",
    "                    \n",
    "    if voice == \"B\"\n",
    "        notes = [x for x in 40:61 if x%12 == functions[func][3][1]-1]\n",
    "    elseif voice == \"T\"\n",
    "        notes = [x for x in 47:68 if x%12 in indexes]\n",
    "    elseif voice == \"A\"\n",
    "        notes = [x for x in 52:73 if x%12 in indexes]\n",
    "    elseif voice == \"S\"\n",
    "        notes = [x for x in 59:80 if x%12 in indexes]\n",
    "    else\n",
    "        notes = []\n",
    "        push!(notes, [x for x in 40:61 if x%12 in functions[func][3][1]-1], [x for x in 47:68 if x%12 in indexes], [x for x in 52:73 if x%12 in indexes], [x for x in 59:80 if x%12 in indexes])\n",
    "    end\n",
    "    \n",
    "    return notes\n",
    "                    \n",
    "end\n",
    "     \n",
    "println(convertFunctionToNotes(\"T-5\", \"X\"))\n",
    "                \n",
    "#########\n",
    "\n",
    "original_notes = []\n",
    "\n",
    "for timestep_index in 1:size(data, 2)\n",
    "    timestep_vector = data[:, timestep_index]\n",
    "    original_notes_timestep = getNotes(timestep_vector)\n",
    "    push!(original_notes, original_notes_timestep)\n",
    "end\n",
    "\n",
    "println(original_notes[1], \" \", function_map[1][1])\n",
    "\n",
    "\n",
    "\n",
    "\n",
    "##              1      2     3      4\n",
    "## voices = [Bass, Tenor, Alto, Soprano]"
   ]
  },
  {
   "cell_type": "markdown",
   "metadata": {},
   "source": [
    "# # Cost function"
   ]
  },
  {
   "cell_type": "code",
   "execution_count": null,
   "metadata": {},
   "outputs": [],
   "source": [
    "function cost(solution, original)\n",
    "    \n",
    "    total_cost = 0\n",
    "    \n",
    "    \n",
    "    \n",
    "    return total_cost\n",
    "    \n",
    "end"
   ]
  },
  {
   "cell_type": "markdown",
   "metadata": {},
   "source": [
    "# # NODAL"
   ]
  },
  {
   "cell_type": "code",
   "execution_count": 145,
   "metadata": {},
   "outputs": [
    {
     "ename": "UndefVarError",
     "evalue": "UndefVarError: default_neighbor! not defined",
     "output_type": "error",
     "traceback": [
      "UndefVarError: default_neighbor! not defined",
      "",
      "Stacktrace:",
      " [1] top-level scope at In[145]:2"
     ]
    }
   ],
   "source": [
    "import Optim\n",
    "SimulatedAnnealing(; neighbor = default_neighbor!,\n",
    "                    T = default_temperature,\n",
    "                    p = kirkpatrick)"
   ]
  },
  {
   "cell_type": "code",
   "execution_count": null,
   "metadata": {},
   "outputs": [],
   "source": []
  }
 ],
 "metadata": {
  "kernelspec": {
   "display_name": "Julia 1.1.0",
   "language": "julia",
   "name": "julia-1.1"
  },
  "language_info": {
   "file_extension": ".jl",
   "mimetype": "application/julia",
   "name": "julia",
   "version": "1.1.0"
  }
 },
 "nbformat": 4,
 "nbformat_minor": 2
}
