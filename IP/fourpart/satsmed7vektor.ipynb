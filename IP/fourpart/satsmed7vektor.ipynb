{
 "cells": [
  {
   "cell_type": "code",
   "execution_count": 5,
   "metadata": {},
   "outputs": [
    {
     "name": "stdout",
     "output_type": "stream",
     "text": [
      "\u001b[32m\u001b[1m  Updating\u001b[22m\u001b[39m registry at `C:\\Users\\nsthtz\\.julia\\registries\\General`\n",
      "\u001b[32m\u001b[1m  Updating\u001b[22m\u001b[39m git-repo `https://github.com/JuliaRegistries/General.git`\n",
      "\u001b[?25l\u001b[2K\u001b[?25h\u001b[32m\u001b[1m Resolving\u001b[22m\u001b[39m package versions...\n"
     ]
    }
   ],
   "source": [
    "import Pkg\n",
    "Pkg.activate(@__DIR__)\n",
    "Pkg.instantiate()"
   ]
  },
  {
   "cell_type": "code",
   "execution_count": 1,
   "metadata": {},
   "outputs": [
    {
     "data": {
      "text/plain": [
       "128×24 Array{Int64,2}:\n",
       " 0  0  0  0  0  0  0  0  0  0  0  0  0  0  0  0  0  0  0  0  0  0  0  0\n",
       " 0  0  0  0  0  0  0  0  0  0  0  0  0  0  0  0  0  0  0  0  0  0  0  0\n",
       " 0  0  0  0  0  0  0  0  0  0  0  0  0  0  0  0  0  0  0  0  0  0  0  0\n",
       " 0  0  0  0  0  0  0  0  0  0  0  0  0  0  0  0  0  0  0  0  0  0  0  0\n",
       " 0  0  0  0  0  0  0  0  0  0  0  0  0  0  0  0  0  0  0  0  0  0  0  0\n",
       " 0  0  0  0  0  0  0  0  0  0  0  0  0  0  0  0  0  0  0  0  0  0  0  0\n",
       " 0  0  0  0  0  0  0  0  0  0  0  0  0  0  0  0  0  0  0  0  0  0  0  0\n",
       " 0  0  0  0  0  0  0  0  0  0  0  0  0  0  0  0  0  0  0  0  0  0  0  0\n",
       " 0  0  0  0  0  0  0  0  0  0  0  0  0  0  0  0  0  0  0  0  0  0  0  0\n",
       " 0  0  0  0  0  0  0  0  0  0  0  0  0  0  0  0  0  0  0  0  0  0  0  0\n",
       " 0  0  0  0  0  0  0  0  0  0  0  0  0  0  0  0  0  0  0  0  0  0  0  0\n",
       " 0  0  0  0  0  0  0  0  0  0  0  0  0  0  0  0  0  0  0  0  0  0  0  0\n",
       " 0  0  0  0  0  0  0  0  0  0  0  0  0  0  0  0  0  0  0  0  0  0  0  0\n",
       " ⋮              ⋮              ⋮              ⋮              ⋮         \n",
       " 0  0  0  0  0  0  0  0  0  0  0  0  0  0  0  0  0  0  0  0  0  0  0  0\n",
       " 0  0  0  0  0  0  0  0  0  0  0  0  0  0  0  0  0  0  0  0  0  0  0  0\n",
       " 0  0  0  0  0  0  0  0  0  0  0  0  0  0  0  0  0  0  0  0  0  0  0  0\n",
       " 0  0  0  0  0  0  0  0  0  0  0  0  0  0  0  0  0  0  0  0  0  0  0  0\n",
       " 0  0  0  0  0  0  0  0  0  0  0  0  0  0  0  0  0  0  0  0  0  0  0  0\n",
       " 0  0  0  0  0  0  0  0  0  0  0  0  0  0  0  0  0  0  0  0  0  0  0  0\n",
       " 0  0  0  0  0  0  0  0  0  0  0  0  0  0  0  0  0  0  0  0  0  0  0  0\n",
       " 0  0  0  0  0  0  0  0  0  0  0  0  0  0  0  0  0  0  0  0  0  0  0  0\n",
       " 0  0  0  0  0  0  0  0  0  0  0  0  0  0  0  0  0  0  0  0  0  0  0  0\n",
       " 0  0  0  0  0  0  0  0  0  0  0  0  0  0  0  0  0  0  0  0  0  0  0  0\n",
       " 0  0  0  0  0  0  0  0  0  0  0  0  0  0  0  0  0  0  0  0  0  0  0  0\n",
       " 0  0  0  0  0  0  0  0  0  0  0  0  0  0  0  0  0  0  0  0  0  0  0  0"
      ]
     },
     "execution_count": 1,
     "metadata": {},
     "output_type": "execute_result"
    }
   ],
   "source": [
    "using DelimitedFiles\n",
    "data = readdlm(joinpath(\"dummyMajor.csv\"),';')\n",
    "#data = readdlm(joinpath(\"dummyMinor.csv\"),',')\n",
    "data = round.(Int, data)"
   ]
  },
  {
   "cell_type": "markdown",
   "metadata": {},
   "source": [
    "# # Convert piano roll into Tx12 matrix\n"
   ]
  },
  {
   "cell_type": "code",
   "execution_count": 2,
   "metadata": {
    "scrolled": true
   },
   "outputs": [
    {
     "data": {
      "text/plain": [
       "24×12 Array{Int8,2}:\n",
       " 0  0  0  0  0  0  0  0  0  0  1  0\n",
       " 1  0  0  0  0  0  0  0  0  0  0  0\n",
       " 0  0  1  0  0  0  0  0  0  0  0  0\n",
       " 0  0  0  1  0  0  0  0  0  0  0  0\n",
       " 0  0  0  0  0  1  0  0  0  0  0  0\n",
       " 0  0  0  0  0  0  0  1  0  0  0  0\n",
       " 0  0  0  0  0  0  0  0  0  1  0  0\n",
       " 0  0  0  0  0  0  0  0  0  0  1  0\n",
       " 0  0  0  0  0  0  0  0  0  0  1  0\n",
       " 0  0  0  0  0  0  0  0  0  1  0  0\n",
       " 0  0  0  0  0  0  0  1  0  0  0  0\n",
       " 0  0  0  0  0  1  0  0  0  0  0  0\n",
       " 0  0  0  1  0  0  0  0  0  0  0  0\n",
       " 0  0  1  0  0  0  0  0  0  0  0  0\n",
       " 1  0  0  0  0  0  0  0  0  0  0  0\n",
       " 0  0  0  0  0  0  0  0  0  0  1  0\n",
       " 0  0  0  1  0  0  0  0  0  0  0  0\n",
       " 0  0  0  0  0  0  0  0  0  0  1  0\n",
       " 0  0  0  1  0  0  0  0  0  0  0  0\n",
       " 0  0  0  0  0  1  0  0  0  0  0  0\n",
       " 0  0  0  1  0  0  0  0  0  0  0  0\n",
       " 0  0  0  0  0  0  0  1  0  0  0  0\n",
       " 0  0  0  0  0  0  0  0  0  1  0  0\n",
       " 0  0  0  0  0  0  0  0  0  0  1  0"
      ]
     },
     "execution_count": 2,
     "metadata": {},
     "output_type": "execute_result"
    }
   ],
   "source": [
    "#\n",
    "\n",
    "timestep_intervals = zeros(Int8, size(data, 2), 12)\n",
    "i=1\n",
    "data[:, 1]\n",
    "\n",
    "for i in 1:size(data, 2)\n",
    "    active_notes = findall(x->x==1, data[:,i])\n",
    "    #println(active_notes)\n",
    "    for note in active_notes\n",
    "        timestep_intervals[i, note%12+1] = 1\n",
    "    end\n",
    "    #println(timestep_chords[i,:])\n",
    "end\n",
    "\n",
    "timestep_intervals"
   ]
  },
  {
   "cell_type": "markdown",
   "metadata": {},
   "source": [
    "# # Pattern matcher to identify the best-fit key and scale from existing notes"
   ]
  },
  {
   "cell_type": "code",
   "execution_count": 3,
   "metadata": {},
   "outputs": [
    {
     "data": {
      "text/plain": [
       "score_tonality (generic function with 1 method)"
      ]
     },
     "execution_count": 3,
     "metadata": {},
     "output_type": "execute_result"
    }
   ],
   "source": [
    "# Functions and Global\n",
    "\n",
    "pattern = [1, 0, 1, 0, 1, 1, 0, 1, 0, 1, 0, 1]\n",
    "\n",
    "# Weight of core notes (1, 4, 5) doubled\n",
    "majorpattern = [1, 0, 0.5, 0, 0.5, 1, 0, 1, 0, 0.5, 0, 0.5]\n",
    "minorpattern = [0.5, 0, 1, 0, 1, 0.5, 0, 0.5, 0, 1, 0, 0.5]\n",
    "\n",
    "Keys = Dict{Integer, String}(1 => \"C\", 2 => \"C#\", 3 => \"D\", 4 => \"D#\", 5 => \"E\", 6 => \"F\", 7 => \"F#\", 8 => \"G\", 9 => \"G#\", 10 => \"A\", 11 => \"A#\", 12 => \"B\")\n",
    "\n",
    "\n",
    "#Score In: Tx12 Matrix, pattern. Out: Best position(s)\n",
    "function score_key(matrix, pattern)\n",
    "    counter = zeros(Int8, 1, 12)\n",
    "    for i in 1:size(matrix, 2)\n",
    "        counter[i] = sum(matrix[:,i])\n",
    "    end\n",
    "    println(\"Key Counter is \", counter)\n",
    "    \n",
    "    key_score = zeros(Int8, 12, 1)\n",
    "    \n",
    "    for i in 1:size(pattern, 1)\n",
    "        for j in 1:size(pattern, 1)\n",
    "            key_score[i] += circshift(pattern, i-1)[j]*counter[j]\n",
    "        end\n",
    "    end\n",
    "    println(\"Key Score is \", key_score)\n",
    "    return key_score\n",
    "end\n",
    "\n",
    "# Find maximum score from list\n",
    "function findmaximum(score_result)\n",
    "    positions = []\n",
    "    max_value = maximum(score_result)\n",
    "    for (i, x) in enumerate(score_result)\n",
    "        if x == max_value\n",
    "            push!(positions, i)\n",
    "        end\n",
    "    end\n",
    "    #positions = [i for (i, x) in enumerate(score_result) if x == max_value]\n",
    "    return positions\n",
    "end\n",
    "\n",
    "# Find an optimal scale\n",
    "function score_tonality(matrix, positions)\n",
    "    \n",
    "    counter = zeros(Int8, 1, 12)\n",
    "        for i in 1:size(matrix, 2)\n",
    "            counter[i] = sum(matrix[:,i])\n",
    "        end\n",
    "    \n",
    "    tonality_scores = []\n",
    "    \n",
    "    for position in positions\n",
    "        counter_shifted = circshift(counter, (0,-(position-1)))\n",
    "        println(\"Position Counter for \", position, \" is \", counter_shifted)\n",
    "        \n",
    "        major_score = 0\n",
    "        minor_score = 0\n",
    "        \n",
    "        for i in 1:size(counter_shifted, 2)\n",
    "            major_score += majorpattern[i]*counter_shifted[i]\n",
    "            minor_score += minorpattern[i]*counter_shifted[i]\n",
    "        end\n",
    "\n",
    "        if major_score > minor_score\n",
    "            push!(tonality_scores, [position, major_score, 1])\n",
    "        else\n",
    "            push!(tonality_scores, [position, minor_score, 0])\n",
    "        end\n",
    "        \n",
    "    end \n",
    "    \n",
    "    return tonality_scores\n",
    "end"
   ]
  },
  {
   "cell_type": "code",
   "execution_count": 4,
   "metadata": {},
   "outputs": [
    {
     "name": "stdout",
     "output_type": "stream",
     "text": [
      "Key Counter is Int8[2 0 2 5 0 3 0 3 0 3 6 0]\n",
      "Key Score is Int8[13; 16; 8; 21; 8; 19; 14; 10; 19; 5; 24; 11]\n",
      "Position Counter for 11 is Int8[6 0 2 0 2 5 0 3 0 3 0 3]\n",
      "11 A# Major\n"
     ]
    }
   ],
   "source": [
    "# Score matrix after pattern\n",
    "key_score_result = score_key(timestep_intervals, pattern)\n",
    "# score_result = [9, 5, 18, 9, 23, 18, 8, 2, 7, 16, 12, 11]\n",
    "\n",
    "# Find positions of maximum score\n",
    "positions = findmaximum(key_score_result)\n",
    "sort!(positions)\n",
    "\n",
    "# # Use positions to find the best key\n",
    "\n",
    "tonality_results = score_tonality(timestep_intervals, positions)\n",
    "\n",
    "# [Position (1 = C), Score, Scale (1 = Major, 0 = Minor)]\n",
    "best_key = [0, 0, 1]\n",
    "\n",
    "# In case of tied scores, check each for the best scale\n",
    "for result_group in tonality_results\n",
    "    if best_key[2] < result_group[2]\n",
    "        best_key[1] = result_group[1]\n",
    "        best_key[2] = result_group[2]\n",
    "        best_key[3] = result_group[3]\n",
    "    end\n",
    "end\n",
    "    \n",
    "#Save Key\n",
    "if best_key[3] == 1\n",
    "    key = best_key[1]\n",
    "    key_print = Keys[best_key[1]]\n",
    "    scale = \"Major\"\n",
    "else\n",
    "    key = (best_key[1]-3)%12\n",
    "    key_print = Keys[((best_key[1]-3)%12)]\n",
    "    scale = \"Minor\"\n",
    "end\n",
    "    \n",
    "println(key, \" \", key_print, \" \", scale)"
   ]
  },
  {
   "cell_type": "markdown",
   "metadata": {},
   "source": [
    "## Define patterns for chord functions relative to key"
   ]
  },
  {
   "cell_type": "code",
   "execution_count": 5,
   "metadata": {},
   "outputs": [
    {
     "name": "stdout",
     "output_type": "stream",
     "text": [
      "([1, 0, 0, 1, 0, 0, 0, 1, 0, 0, 1, 0], [1], Nothing[nothing], [\"S\"])\n",
      "([0, 0, 0, 1, 0, 0, 0, 1, 0, 0, 1, 0], [11], [11, 4], [\"W\"])\n",
      "([0, 0, 1, 0, 0, 1, 0, 0, 0, 0, 1, 0], [11], [11], [\"A\"])\n",
      "([0, 0, 1, 0, 0, 0, 0, 1, 0, 0, 1, 0], [8], [11, 8], [\"A\"])\n",
      "([0, 0, 0, 1, 0, 0, 0, 1, 0, 0, 1, 0], [8], [11, 4], [\"A\"])\n",
      "([0, 0, 1, 0, 0, 1, 0, 0, 0, 0, 1, 0], [6], [11, 6], [\"W\"])\n",
      "([1, 0, 0, 1, 0, 0, 0, 1, 0, 0, 0, 0], [1], [1, 4], [\"A\"])\n",
      "([1, 0, 0, 1, 0, 1, 0, 0, 0, 1, 0, 0], [1], Nothing[nothing], [\"W\", \"O\"])\n",
      "([0, 0, 1, 0, 0, 1, 0, 0, 0, 0, 1, 0], [3], [11, 6], [\"A\"])\n",
      "([1, 0, 0, 0, 0, 1, 0, 0, 0, 1, 0, 0], [1], [1, 6], [\"W\"])\n",
      "([0, 0, 1, 0, 0, 0, 0, 0, 0, 0, 1, 0], [11], [11], [\"A\"])\n",
      "([0, 0, 1, 0, 0, 1, 0, 0, 0, 0, 1, 0], [6], [6], [\"S\"])\n",
      "([1, 0, 0, 0, 0, 1, 0, 0, 0, 1, 0, 0], [10], [1, 6], [\"A\"])\n",
      "([0, 0, 0, 0, 0, 1, 0, 0, 0, 1, 0, 0], [6], [6], [\"A\"])\n",
      "([1, 0, 0, 1, 0, 1, 0, 0, 0, 1, 0, 0], [6], Nothing[nothing], [\"A\"])\n",
      "([0, 0, 0, 1, 0, 0, 0, 1, 0, 0, 1, 0], [11], [11], [\"S\"])\n",
      "([1, 0, 0, 0, 0, 1, 0, 0, 0, 1, 0, 0], [6], [6], [\"A\"])\n",
      "([0, 0, 1, 0, 0, 1, 0, 0, 0, 1, 0, 0], [3], [3, 6], [\"A\"])\n",
      "([1, 0, 0, 1, 0, 0, 0, 1, 0, 0, 1, 0], [4], Nothing[nothing], [\"A\"])\n",
      "([0, 0, 0, 1, 0, 1, 0, 0, 0, 0, 1, 0], [11], [11], [\"S\"])\n",
      "([0, 0, 0, 1, 0, 0, 0, 1, 0, 0, 1, 0], [4], [4], [\"A\"])\n",
      "([1, 0, 0, 1, 0, 1, 0, 0, 0, 1, 0, 0], [10], Nothing[nothing], [\"A\"])\n",
      "([0, 0, 0, 1, 0, 0, 0, 1, 0, 0, 0, 0], [4], [4], [\"A\"])\n",
      "([1, 0, 0, 1, 0, 0, 0, 0, 0, 1, 0, 0], [1], [1, 4], [\"A\"])\n",
      "([1, 0, 0, 1, 0, 0, 0, 1, 0, 0, 0, 0], [4], [4], [\"A\"])\n",
      "([1, 0, 0, 1, 0, 1, 0, 0, 0, 1, 0, 0], [4], Nothing[nothing], [\"A\"])\n",
      "([1, 0, 0, 0, 0, 1, 0, 0, 0, 0, 1, 0], [6], [6], [\"S\"])\n"
     ]
    }
   ],
   "source": [
    "# Function entry: \"Name\" => ([notes], [Bass note], [Double/Triple notes], [Rhythmical Weight (All, Strong, Weak, Off)], [Chord Specific rules])\n",
    "\n",
    "functions = Dict{String, Array{Int64, 1}}\n",
    "\n",
    "if scale == \"Major\"\n",
    "#Major  =  [1, 0, 2, 0, 3, 4, 0, 5, 0, 6, 0, 7]\n",
    "#\n",
    "    \n",
    "    functions = Dict( \"T\"  =>  (circshift([1, 0, 0, 0, 1, 0, 0, 1, 0, 0, 0, 0], (key-1)), [ key ], [ key ], [\"A\"]),\n",
    "    \"S\"    =>  (circshift([1, 0, 0, 0, 0, 1, 0, 0, 0, 1, 0, 0], (key-1)), [ ((5+(key-1))%12)+1 ], [ ((5+(key-1))%12)+1 ], [\"A\"]),\n",
    "    \"D\"    =>  (circshift([0, 0, 1, 0, 0, 0, 0, 1, 0, 0, 0, 1], (key-1)), [ ((7+(key-1))%12)+1 ], [ ((7+(key-1))%12)+1 ], [\"A\"]),\n",
    "    \"T-5\"  =>  (circshift([1, 0, 0, 0, 1, 0, 0, 0, 0, 0, 0, 0], (key-1)), [ key ], [ key ], [\"A\"]),\n",
    "    \"S-5\"  =>  (circshift([0, 0, 0, 0, 0, 1, 0, 0, 0, 1, 0, 0], (key-1)), [ ((5+(key-1))%12)+1 ], [ ((5+(key-1))%12)+1 ], [\"A\"]),\n",
    "    \"D-5\"  =>  (circshift([0, 0, 0, 0, 0, 0, 0, 1, 0, 0, 0, 1], (key-1)), [ ((7+(key-1))%12)+1 ], [ ((7+(key-1))%12)+1 ], [\"A\"]),\n",
    "    \"T/3\"   =>  (circshift([1, 0, 0, 0, 1, 0, 0, 1, 0, 0, 0, 0], (key-1)), [ ((4+(key-1))%12)+1 ], [ key, ((7+(key-1))%12)+1 ], [\"A\"]),\n",
    "    \"S/3\"   =>  (circshift([1, 0, 0, 0, 0, 1, 0, 0, 0, 1, 0, 0], (key-1)), [ ((9+(key-1))%12)+1 ], [ key, ((5+(key-1))%12)+1 ], [\"A\"]),\n",
    "    \"D/3\"   =>  (circshift([0, 0, 1, 0, 0, 0, 0, 1, 0, 0, 0, 1], (key-1)), [ ((11+(key-1))%12)+1 ], [ ((2+(key-1))%12)+1, ((7+(key-1))%12)+1 ], [\"A\"]),\n",
    "    \"T/5\"   =>  (circshift([1, 0, 0, 0, 1, 0, 0, 1, 0, 0, 0, 0], (key-1)), [ ((7+(key-1))%12)+1 ], [ key, ((7+(key-1))%12)+1 ], [\"W\"]),\n",
    "    \"S/5\"   =>  (circshift([1, 0, 0, 0, 0, 1, 0, 0, 0, 1, 0, 0], (key-1)), [ ((0+(key-1))%12)+1 ], [ key, ((5+(key-1))%12)+1 ], [\"W\"]),\n",
    "    \"D/5\"   =>  (circshift([0, 0, 1, 0, 0, 0, 0, 1, 0, 0, 0, 1], (key-1)), [ ((2+(key-1))%12)+1 ], [ ((2+(key-1))%12)+1, ((7+(key-1))%12)+1 ], [\"W\"]),\n",
    "    \"D64\"  =>  (circshift([1, 0, 0, 0, 1, 0, 0, 1, 0, 0, 0, 0], (key-1)), [ ((7+(key-1))%12)+1 ], [ ((7+(key-1))%12)+1 ], [\"S\"]),\n",
    "    \"T64\"  =>  (circshift([1, 0, 0, 0, 0, 1, 0, 0, 0, 1, 0, 0], (key-1)), [ ((0+(key-1))%12)+1 ], [ key ], [\"S\"]),\n",
    "    \"T54\"  =>  (circshift([1, 0, 0, 0, 0, 1, 0, 1, 0, 0, 0, 0], (key-1)), [ ((0+(key-1))%12)+1 ], [ key ], [\"S\"]),\n",
    "    \"D54\"  =>  (circshift([1, 0, 1, 0, 0, 0, 0, 1, 0, 0, 0, 0], (key-1)), [ ((7+(key-1))%12)+1 ], [ ((7+(key-1))%12)+1 ], [\"S\"]),\n",
    "    \"D7\"   =>  (circshift([0, 0, 1, 0, 0, 1, 0, 1, 0, 0, 0, 1], (key-1)), [ ((7+(key-1))%12)+1 ], [ nothing ], [\"A\"]),\n",
    "    \"D7/3\" =>  (circshift([0, 0, 1, 0, 0, 1, 0, 1, 0, 0, 0, 1], (key-1)), [ ((11+(key-1))%12)+1 ], [ nothing ], [\"A\"]),\n",
    "    \"D7/5\" =>  (circshift([0, 0, 1, 0, 0, 1, 0, 1, 0, 0, 0, 1], (key-1)), [ ((2+(key-1))%12)+1 ], [ nothing ], [\"W\", \"O\"]),\n",
    "    \"D7/7\" =>  (circshift([0, 0, 1, 0, 0, 1, 0, 1, 0, 0, 0, 1], (key-1)), [ ((5+(key-1))%12)+1 ], [ nothing ], [\"A\"]),\n",
    "    \"D7-1\" =>  (circshift([0, 0, 1, 0, 0, 1, 0, 0, 0, 0, 0, 1], (key-1)), [ ((2+(key-1))%12)+1 ], [ ((2+(key-1))%12)+1, ((5+(key-1))%12)+1 ], [\"A\"]),\n",
    "    \"S65\"  =>  (circshift([1, 0, 1, 0, 0, 1, 0, 0, 0, 1, 0, 0], (key-1)), [ ((5+(key-1))%12)+1 ], [ nothing ], [\"A\"]),\n",
    "    \"S65/6\"=>  (circshift([1, 0, 1, 0, 0, 1, 0, 0, 0, 1, 0, 0], (key-1)), [ ((2+(key-1))%12)+1 ], [ nothing ], [\"S\"]),\n",
    "    \"S6\"   =>  (circshift([0, 0, 1, 0, 0, 1, 0, 0, 0, 1, 0, 0], (key-1)), [ ((5+(key-1))%12)+1 ], [ ((5+(key-1))%12)+1 ], [\"A\"]),\n",
    "    \"Ss\"   =>  (circshift([0, 0, 1, 0, 0, 1, 0, 0, 0, 1, 0, 0], (key-1)), [ ((2+(key-1))%12)+1 ], [ ((2+(key-1))%12)+1, ((5+(key-1))%12)+1 ], [\"A\"]),\n",
    "    \"Ts\"   =>  (circshift([1, 0, 0, 0, 1, 0, 0, 0, 0, 1, 0, 0], (key-1)), [ ((9+(key-1))%12)+1 ], [ key, ((9+(key-1))%12)+1 ], [\"A\"]),\n",
    "    \"Tm\"   =>  (circshift([0, 0, 0, 0, 1, 0, 0, 1, 0, 0, 0, 1], (key-1)), [ ((4+(key-1))%12)+1 ], [ ((4+(key-1))%12)+1, ((7+(key-1))%12)+1 ], [\"A\"]))\n",
    "\n",
    "elseif scale == \"Minor\"\n",
    "#Minor  =  [1, 0, 2, 3, 0, 4, 0, 5, 6, 0, 7, 0]        \n",
    "        \n",
    "    functions = Dict( \"T\"   =>  (circshift([1, 0, 0, 1, 0, 0, 0, 1, 0, 0, 0, 0], (key-1)), [1+(key-1)]),\n",
    "    \"S\"   =>  circshift([1, 0, 0, 0, 0, 1, 0, 0, 1, 0, 0, 0], (key-1)),\n",
    "    \"D\"   =>  circshift([0, 0, 1, 0, 0, 0, 0, 1, 0, 0, 1, 0], (key-1)),\n",
    "    \"T_5\" =>  circshift([1, 0, 0, 1, 0, 0, 0, 0, 0, 0, 0, 0], (key-1)),\n",
    "    \"S_5\" =>  circshift([0, 0, 0, 0, 0, 1, 0, 0, 1, 0, 0, 0], (key-1)),\n",
    "    \"D_5\" =>  circshift([0, 0, 0, 0, 0, 0, 0, 1, 0, 0, 1, 0], (key-1)),\n",
    "    \"T3\"  =>  circshift([1, 0, 0, 1, 0, 0, 0, 1, 0, 0, 0, 0], (key-1)),\n",
    "    \"S3\"  =>  circshift([1, 0, 0, 0, 0, 1, 0, 0, 1, 0, 0, 0], (key-1)),\n",
    "    \"D3\"  =>  circshift([0, 0, 1, 0, 0, 0, 0, 1, 0, 0, 1, 0], (key-1)),\n",
    "    \"T5\"  =>  circshift([1, 0, 0, 1, 0, 0, 0, 1, 0, 0, 0, 0], (key-1)),\n",
    "    \"S5\"  =>  circshift([1, 0, 0, 0, 0, 1, 0, 0, 1, 0, 0, 0], (key-1)),\n",
    "    \"D5\"  =>  circshift([0, 0, 1, 0, 0, 0, 0, 1, 0, 0, 1, 0], (key-1)),\n",
    "    \"D64\" =>  circshift([1, 0, 0, 1, 0, 0, 0, 1, 0, 0, 0, 0], (key-1)),\n",
    "    \"T64\" =>  circshift([1, 0, 0, 0, 0, 1, 0, 0, 1, 0, 0, 0], (key-1)),\n",
    "    \"T54\" =>  circshift([1, 0, 0, 0, 0, 1, 0, 1, 0, 0, 0, 0], (key-1)),\n",
    "    \"D54\" =>  circshift([1, 0, 1, 0, 0, 0, 0, 1, 0, 0, 0, 0], (key-1)),\n",
    "    \"D7\"  =>  circshift([0, 0, 1, 0, 0, 1, 0, 1, 0, 0, 1, 0], (key-1)),\n",
    "    \"D_7\" =>  circshift([0, 0, 1, 0, 0, 1, 0, 0, 0, 0, 1, 0], (key-1)),\n",
    "    \"S65\" =>  circshift([1, 0, 1, 0, 0, 1, 0, 0, 1, 0, 0, 0], (key-1)),\n",
    "    \"S6\"  =>  circshift([0, 0, 1, 0, 0, 1, 0, 0, 1, 0, 0, 0], (key-1)),\n",
    "    \"Dm\"  =>  circshift([0, 0, 1, 0, 0, 1, 0, 0, 0, 0, 1, 0], (key-1)),\n",
    "    \"Ts\"  =>  circshift([1, 0, 0, 1, 0, 0, 0, 0, 1, 0, 0, 0], (key-1)),\n",
    "    \"Tm\"  =>  circshift([0, 0, 0, 1, 0, 0, 0, 1, 0, 0, 1, 0], (key-1)))\n",
    "        \n",
    "end\n",
    "        \n",
    "for k in functions\n",
    "    println(k[2])\n",
    "end\n"
   ]
  },
  {
   "cell_type": "code",
   "execution_count": 45,
   "metadata": {},
   "outputs": [
    {
     "ename": "MethodError",
     "evalue": "MethodError: no method matching Integer(::Array{Int64,1})\nClosest candidates are:\n  Integer(!Matched::Integer) at boot.jl:765\n  Integer(!Matched::Union{Float32, Float64}) at boot.jl:766\n  Integer(!Matched::Float16) where T<:Integer at float.jl:71\n  ...",
     "output_type": "error",
     "traceback": [
      "MethodError: no method matching Integer(::Array{Int64,1})\nClosest candidates are:\n  Integer(!Matched::Integer) at boot.jl:765\n  Integer(!Matched::Union{Float32, Float64}) at boot.jl:766\n  Integer(!Matched::Float16) where T<:Integer at float.jl:71\n  ...",
      "",
      "Stacktrace:",
      " [1] map(::Type, ::Tuple{Int64,Array{Int64,1}}) at .\\tuple.jl:166",
      " [2] circshift(::Array{Int8,2}, ::Tuple{Int64,Array{Int64,1}}) at .\\abstractarraymath.jl:243",
      " [3] top-level scope at In[45]:3"
     ]
    }
   ],
   "source": []
  },
  {
   "cell_type": "code",
   "execution_count": null,
   "metadata": {},
   "outputs": [],
   "source": []
  },
  {
   "cell_type": "markdown",
   "metadata": {},
   "source": [
    "# # Integer Program for Fifth enforcement"
   ]
  },
  {
   "cell_type": "code",
   "execution_count": 80,
   "metadata": {},
   "outputs": [
    {
     "name": "stderr",
     "output_type": "stream",
     "text": [
      "┌ Info: Recompiling stale cache file C:\\Users\\nsthtz\\.julia\\compiled\\v1.1\\JuMP\\DmXqY.ji for JuMP [4076af6c-e467-56ae-b986-b466b2749572]\n",
      "└ @ Base loading.jl:1184\n",
      "┌ Info: Precompiling Ipopt [b6b21f68-93f8-5de0-b562-5493be1d77c9]\n",
      "└ @ Base loading.jl:1186\n"
     ]
    }
   ],
   "source": [
    "using JuMP, Ipopt\n",
    "#model = Model(with_optimizer(GLPK.Optimizer))\n",
    "#@variable()\n",
    "#@constraint()\n",
    "#@objective(model,,)"
   ]
  },
  {
   "cell_type": "code",
   "execution_count": null,
   "metadata": {},
   "outputs": [],
   "source": []
  }
 ],
 "metadata": {
  "kernelspec": {
   "display_name": "Julia 1.1.0",
   "language": "julia",
   "name": "julia-1.1"
  },
  "language_info": {
   "file_extension": ".jl",
   "mimetype": "application/julia",
   "name": "julia",
   "version": "1.1.0"
  }
 },
 "nbformat": 4,
 "nbformat_minor": 2
}
