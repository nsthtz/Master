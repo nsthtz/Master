{
 "cells": [
  {
   "cell_type": "code",
   "execution_count": 1,
   "metadata": {},
   "outputs": [
    {
     "name": "stdout",
     "output_type": "stream",
     "text": [
      "\u001b[32m\u001b[1m  Updating\u001b[22m\u001b[39m registry at `C:\\Users\\nsthtz\\.julia\\registries\\General`\n",
      "\u001b[32m\u001b[1m  Updating\u001b[22m\u001b[39m git-repo `https://github.com/JuliaRegistries/General.git`\n",
      "\u001b[2K\u001b[?25h\u001b[32m\u001b[1m Resolving\u001b[22m\u001b[39m package versions...\n"
     ]
    }
   ],
   "source": [
    "import Pkg\n",
    "using Combinatorics\n",
    "Pkg.activate(@__DIR__)\n",
    "Pkg.instantiate()"
   ]
  },
  {
   "cell_type": "code",
   "execution_count": 65,
   "metadata": {},
   "outputs": [
    {
     "data": {
      "text/plain": [
       "128×24 Array{Int64,2}:\n",
       " 0  0  0  0  0  0  0  0  0  0  0  0  0  0  0  0  0  0  0  0  0  0  0  0\n",
       " 0  0  0  0  0  0  0  0  0  0  0  0  0  0  0  0  0  0  0  0  0  0  0  0\n",
       " 0  0  0  0  0  0  0  0  0  0  0  0  0  0  0  0  0  0  0  0  0  0  0  0\n",
       " 0  0  0  0  0  0  0  0  0  0  0  0  0  0  0  0  0  0  0  0  0  0  0  0\n",
       " 0  0  0  0  0  0  0  0  0  0  0  0  0  0  0  0  0  0  0  0  0  0  0  0\n",
       " 0  0  0  0  0  0  0  0  0  0  0  0  0  0  0  0  0  0  0  0  0  0  0  0\n",
       " 0  0  0  0  0  0  0  0  0  0  0  0  0  0  0  0  0  0  0  0  0  0  0  0\n",
       " 0  0  0  0  0  0  0  0  0  0  0  0  0  0  0  0  0  0  0  0  0  0  0  0\n",
       " 0  0  0  0  0  0  0  0  0  0  0  0  0  0  0  0  0  0  0  0  0  0  0  0\n",
       " 0  0  0  0  0  0  0  0  0  0  0  0  0  0  0  0  0  0  0  0  0  0  0  0\n",
       " 0  0  0  0  0  0  0  0  0  0  0  0  0  0  0  0  0  0  0  0  0  0  0  0\n",
       " 0  0  0  0  0  0  0  0  0  0  0  0  0  0  0  0  0  0  0  0  0  0  0  0\n",
       " 0  0  0  0  0  0  0  0  0  0  0  0  0  0  0  0  0  0  0  0  0  0  0  0\n",
       " ⋮              ⋮              ⋮              ⋮              ⋮         \n",
       " 0  0  0  0  0  0  0  0  0  0  0  0  0  0  0  0  0  0  0  0  0  0  0  0\n",
       " 0  0  0  0  0  0  0  0  0  0  0  0  0  0  0  0  0  0  0  0  0  0  0  0\n",
       " 0  0  0  0  0  0  0  0  0  0  0  0  0  0  0  0  0  0  0  0  0  0  0  0\n",
       " 0  0  0  0  0  0  0  0  0  0  0  0  0  0  0  0  0  0  0  0  0  0  0  0\n",
       " 0  0  0  0  0  0  0  0  0  0  0  0  0  0  0  0  0  0  0  0  0  0  0  0\n",
       " 0  0  0  0  0  0  0  0  0  0  0  0  0  0  0  0  0  0  0  0  0  0  0  0\n",
       " 0  0  0  0  0  0  0  0  0  0  0  0  0  0  0  0  0  0  0  0  0  0  0  0\n",
       " 0  0  0  0  0  0  0  0  0  0  0  0  0  0  0  0  0  0  0  0  0  0  0  0\n",
       " 0  0  0  0  0  0  0  0  0  0  0  0  0  0  0  0  0  0  0  0  0  0  0  0\n",
       " 0  0  0  0  0  0  0  0  0  0  0  0  0  0  0  0  0  0  0  0  0  0  0  0\n",
       " 0  0  0  0  0  0  0  0  0  0  0  0  0  0  0  0  0  0  0  0  0  0  0  0\n",
       " 0  0  0  0  0  0  0  0  0  0  0  0  0  0  0  0  0  0  0  0  0  0  0  0"
      ]
     },
     "execution_count": 65,
     "metadata": {},
     "output_type": "execute_result"
    }
   ],
   "source": [
    "using DelimitedFiles\n",
    "#data = readdlm(joinpath(\"dummyMajor.csv\"),';')\n",
    "#data = readdlm(joinpath(\"dummyMajorA#.csv\"),';')\n",
    "data = readdlm(joinpath(\"dummyMajorMultiple.csv\"),';')\n",
    "#data = readdlm(joinpath(\"dummyMinor.csv\"),',')\n",
    "#data = readdlm(joinpath(\"dummyMinorA#.csv\"),';')\n",
    "data = round.(Int, data)"
   ]
  },
  {
   "cell_type": "markdown",
   "metadata": {},
   "source": [
    "# # Convert piano roll into timestepx12 tonal mapping\n"
   ]
  },
  {
   "cell_type": "code",
   "execution_count": 66,
   "metadata": {
    "scrolled": true
   },
   "outputs": [
    {
     "data": {
      "text/plain": [
       "24×12 Array{Int8,2}:\n",
       " 1  1  1  0  1  0  0  0  0  0  0  0\n",
       " 0  0  1  0  0  1  0  0  1  1  0  0\n",
       " 1  0  0  0  1  0  0  0  1  0  0  0\n",
       " 0  0  0  0  0  1  0  0  0  1  1  0\n",
       " 1  0  0  0  0  1  0  1  0  0  0  0\n",
       " 1  0  0  1  0  0  0  0  0  1  0  0\n",
       " 0  0  0  1  0  0  0  0  0  0  0  1\n",
       " 1  0  0  0  0  1  0  0  0  0  0  0\n",
       " 1  0  0  0  0  0  0  1  0  0  0  0\n",
       " 0  0  0  1  0  0  0  1  0  0  0  1\n",
       " 1  0  1  0  0  0  0  0  0  1  0  0\n",
       " 1  0  0  0  0  0  0  1  0  0  1  0\n",
       " 0  0  0  0  0  1  0  0  0  0  0  0\n",
       " 0  0  1  0  1  0  0  0  0  1  0  0\n",
       " 0  0  1  0  0  0  1  0  1  0  0  0\n",
       " 1  0  1  0  0  0  0  0  1  0  0  0\n",
       " 0  0  1  0  0  1  0  0  0  0  0  1\n",
       " 1  0  0  1  0  0  0  0  0  0  0  0\n",
       " 0  1  0  0  0  1  0  0  0  0  0  0\n",
       " 0  0  0  0  0  0  0  1  0  0  0  1\n",
       " 1  0  0  0  0  1  0  0  0  0  0  0\n",
       " 0  0  0  0  0  0  1  0  0  1  0  0\n",
       " 0  0  0  0  1  0  0  0  0  0  0  1\n",
       " 1  1  0  0  0  0  0  0  0  0  0  0"
      ]
     },
     "execution_count": 66,
     "metadata": {},
     "output_type": "execute_result"
    }
   ],
   "source": [
    "#\n",
    "\n",
    "tonal_map = zeros(Int8, size(data, 2), 12)\n",
    "i=1\n",
    "data[:, 1]\n",
    "\n",
    "for i in 1:size(data, 2)\n",
    "    active_notes = findall(x->x==1, data[:,i])\n",
    "    #println(active_notes)\n",
    "    for note in active_notes\n",
    "        tonal_map[i, note%12+1] = 1\n",
    "    end\n",
    "    #println(timestep_chords[i,:])\n",
    "end\n",
    "\n",
    "tonal_map"
   ]
  },
  {
   "cell_type": "markdown",
   "metadata": {},
   "source": [
    "# # Pattern matcher to identify the best-fit key and scale from existing notes"
   ]
  },
  {
   "cell_type": "code",
   "execution_count": 67,
   "metadata": {},
   "outputs": [
    {
     "data": {
      "text/plain": [
       "score_tonality (generic function with 1 method)"
      ]
     },
     "execution_count": 67,
     "metadata": {},
     "output_type": "execute_result"
    }
   ],
   "source": [
    "# Functions and Global\n",
    "\n",
    "pattern = [1, 0, 1, 0, 1, 1, 0, 1, 0, 1, 0, 1]\n",
    "\n",
    "# Weight of core notes (1, 4, 5) doubled\n",
    "majorpattern = [1, 0, 0.5, 0, 0.5, 1, 0, 1, 0, 0.5, 0, 0.5]\n",
    "minorpattern = [0.5, 0, 1, 0, 1, 0.5, 0, 0.5, 0, 1, 0, 0.5]\n",
    "\n",
    "Keys = Dict{Integer, String}(1 => \"C\", 2 => \"C#\", 3 => \"D\", 4 => \"D#\", 5 => \"E\", 6 => \"F\", 7 => \"F#\", 8 => \"G\", 9 => \"G#\", 10 => \"A\", 11 => \"A#\", 12 => \"B\")\n",
    "\n",
    "\n",
    "#Score In: Tx12 Matrix, pattern. Out: Best position(s)\n",
    "function score_key(matrix, pattern)\n",
    "    counter = zeros(Int8, 1, 12)\n",
    "    for i in 1:size(matrix, 2)\n",
    "        counter[i] = sum(matrix[:,i])\n",
    "    end\n",
    "    println(\"Key Counter is \", counter)\n",
    "    \n",
    "    key_score = zeros(Int8, 12, 1)\n",
    "    \n",
    "    for i in 1:size(pattern, 1)\n",
    "        for j in 1:size(pattern, 1)\n",
    "            key_score[i] += circshift(pattern, i-1)[j]*counter[j]\n",
    "        end\n",
    "    end\n",
    "    println(\"Key Score is \", key_score)\n",
    "    return key_score\n",
    "end\n",
    "\n",
    "# Find maximum from list\n",
    "function findmaximum(list)\n",
    "    positions = []\n",
    "    max_value = maximum(list)\n",
    "    for (i, x) in enumerate(list)\n",
    "        if x == max_value\n",
    "            push!(positions, i)\n",
    "        end\n",
    "    end\n",
    "    return positions\n",
    "end\n",
    "\n",
    "# Find an optimal scale\n",
    "function score_tonality(matrix, positions)\n",
    "    \n",
    "    counter = zeros(Int8, 1, 12)\n",
    "    for i in 1:size(matrix, 2)\n",
    "        counter[i] = sum(matrix[:,i])\n",
    "    end\n",
    "    \n",
    "    tonality_scores = []\n",
    "    \n",
    "    for position in positions\n",
    "        counter_shifted = circshift(counter, (0,-(position-1)))\n",
    "        println(\"Position Counter for \", position, \" is \", counter_shifted)\n",
    "        \n",
    "        major_score = 0\n",
    "        minor_score = 0\n",
    "        \n",
    "        for i in 1:size(counter_shifted, 2)\n",
    "            major_score += majorpattern[i]*counter_shifted[i]\n",
    "            minor_score += minorpattern[i]*counter_shifted[i]\n",
    "        end\n",
    "\n",
    "        if major_score > minor_score\n",
    "            push!(tonality_scores, [position, major_score, 1])\n",
    "        else\n",
    "            push!(tonality_scores, [position, minor_score, 0])\n",
    "        end\n",
    "        \n",
    "    end \n",
    "    \n",
    "    return tonality_scores\n",
    "end"
   ]
  },
  {
   "cell_type": "code",
   "execution_count": 68,
   "metadata": {},
   "outputs": [
    {
     "name": "stdout",
     "output_type": "stream",
     "text": [
      "Key Counter is Int8[12 3 7 4 4 8 2 5 4 6 2 5]\n",
      "Key Score is Int8[47; 35; 32; 42; 28; 44; 28; 41; 38; 31; 44; 24]\n",
      "Position Counter for 1 is Int8[12 3 7 4 4 8 2 5 4 6 2 5]\n",
      "[1, 36, 1]\n",
      "11\n",
      "1 C Major\n"
     ]
    }
   ],
   "source": [
    "# Score matrix after pattern\n",
    "key_score_result = score_key(tonal_map, pattern)\n",
    "# score_result = [9, 5, 18, 9, 23, 18, 8, 2, 7, 16, 12, 11]\n",
    "\n",
    "# Find positions of maximum score\n",
    "positions = findmaximum(key_score_result)\n",
    "sort!(positions)\n",
    "\n",
    "# # Use positions to find the best key\n",
    "\n",
    "tonality_results = score_tonality(tonal_map, positions)\n",
    "\n",
    "# [Position (1 = C), Score, Scale (1 = Major, 0 = Minor)]\n",
    "best_key = [0, 0, 1]\n",
    "\n",
    "# In case of tied scores, check each for the best scale\n",
    "for result_group in tonality_results\n",
    "    if best_key[2] < result_group[2]\n",
    "        best_key[1] = result_group[1]\n",
    "        best_key[2] = result_group[2]\n",
    "        best_key[3] = result_group[3]\n",
    "    end\n",
    "end\n",
    "    \n",
    "#Save Key\n",
    "println(best_key)\n",
    "if best_key[3] == 1\n",
    "    key = best_key[1]\n",
    "    key_print = Keys[best_key[1]]\n",
    "    scale = \"Major\"\n",
    "else\n",
    "    key = (12+best_key[1]-3)%12\n",
    "    key_print = Keys[key]\n",
    "    scale = \"Minor\"\n",
    "end\n",
    "    \n",
    "println(mod(-1, 12))\n",
    "    \n",
    "println(key, \" \", key_print, \" \", scale)"
   ]
  },
  {
   "cell_type": "markdown",
   "metadata": {},
   "source": [
    "# # Define patterns for chord functions relative to key"
   ]
  },
  {
   "cell_type": "code",
   "execution_count": 99,
   "metadata": {},
   "outputs": [
    {
     "name": "stdout",
     "output_type": "stream",
     "text": [
      "S65/6 Array{T,1} where T[[5, 0, 6, 0, 0, 1, 0, 0, 0, 3, 0, 0], Tuple{Int64,Int64}[(3, 6)], Nothing[nothing], [\"S\"]]\n",
      "S/5 Array{T,1} where T[[5, 0, 0, 0, 0, 1, 0, 0, 0, 3, 0, 0], Tuple{Int64,Int64}[(1, 5)], Tuple{Int64,Int64}[(1, 5), (6, 1)], [\"W\"]]\n",
      "T Array{T,1} where T[[1, 0, 0, 0, 3, 0, 0, 5, 0, 0, 0, 0], Tuple{Int64,Int64}[(1, 1)], Tuple{Int64,Int64}[(1, 1)], [\"A\"]]\n",
      "Ts Array{T,1} where T[[3, 0, 0, 0, 5, 0, 0, 0, 0, 1, 0, 0], Tuple{Int64,Int64}[(10, 1)], Tuple{Int64,Int64}[(1, 3), (10, 1)], [\"A\"]]\n",
      "S/3 Array{T,1} where T[[5, 0, 0, 0, 0, 1, 0, 0, 0, 3, 0, 0], Tuple{Int64,Int64}[(10, 3)], Tuple{Int64,Int64}[(1, 5), (6, 1)], [\"A\"]]\n",
      "T/5 Array{T,1} where T[[1, 0, 0, 0, 3, 0, 0, 5, 0, 0, 0, 0], Tuple{Int64,Int64}[(8, 5)], Tuple{Int64,Int64}[(1, 1), (8, 5)], [\"W\"]]\n",
      "Ss Array{T,1} where T[[0, 0, 1, 0, 0, 3, 0, 0, 0, 5, 0, 0], Tuple{Int64,Int64}[(3, 1)], Tuple{Int64,Int64}[(3, 1), (6, 3)], [\"A\"]]\n",
      "D7/5 Array{T,1} where T[[0, 0, 5, 0, 0, 7, 0, 1, 0, 0, 0, 3], Tuple{Int64,Int64}[(3, 5)], Nothing[nothing], [\"W\", \"O\"]]\n",
      "T/3 Array{T,1} where T[[1, 0, 0, 0, 3, 0, 0, 5, 0, 0, 0, 0], Tuple{Int64,Int64}[(5, 3)], Tuple{Int64,Int64}[(1, 1), (8, 5)], [\"A\"]]\n",
      "D/5 Array{T,1} where T[[0, 0, 5, 0, 0, 0, 0, 1, 0, 0, 0, 3], Tuple{Int64,Int64}[(3, 5)], Tuple{Int64,Int64}[(3, 5), (8, 1)], [\"W\"]]\n",
      "T-5 Array{T,1} where T[[1, 0, 0, 0, 3, 0, 0, 0, 0, 0, 0, 0], Tuple{Int64,Int64}[(1, 1)], Tuple{Int64,Int64}[(1, 1)], [\"A\"]]\n",
      "D64 Array{T,1} where T[[4, 0, 0, 0, 6, 0, 0, 1, 0, 0, 0, 0], Tuple{Int64,Int64}[(8, 1)], Tuple{Int64,Int64}[(8, 1)], [\"S\"]]\n",
      "D/3 Array{T,1} where T[[0, 0, 5, 0, 0, 0, 0, 1, 0, 0, 0, 3], Tuple{Int64,Int64}[(12, 3)], Tuple{Int64,Int64}[(3, 5), (8, 1)], [\"A\"]]\n",
      "D-5 Array{T,1} where T[[0, 0, 0, 0, 0, 0, 0, 1, 0, 0, 0, 3], Tuple{Int64,Int64}[(8, 1)], Tuple{Int64,Int64}[(8, 1)], [\"A\"]]\n",
      "D7 Array{T,1} where T[[0, 0, 5, 0, 0, 7, 0, 1, 0, 0, 0, 3], Tuple{Int64,Int64}[(8, 1)], Nothing[nothing], [\"A\"]]\n",
      "T64 Array{T,1} where T[[1, 0, 0, 0, 0, 4, 0, 0, 0, 6, 0, 0], Tuple{Int64,Int64}[(1, 1)], Tuple{Int64,Int64}[(1, 1)], [\"S\"]]\n",
      "D7-5 Array{T,1} where T[[0, 0, 0, 0, 0, 7, 0, 1, 0, 0, 0, 3], Tuple{Int64,Int64}[(8, 1)], Nothing[nothing], [\"A\"]]\n",
      "D Array{T,1} where T[[0, 0, 5, 0, 0, 0, 0, 1, 0, 0, 0, 3], Tuple{Int64,Int64}[(8, 1)], Tuple{Int64,Int64}[(8, 1)], [\"A\"]]\n",
      "Tm Array{T,1} where T[[0, 0, 0, 0, 1, 0, 0, 3, 0, 0, 0, 5], Tuple{Int64,Int64}[(5, 1)], Tuple{Int64,Int64}[(5, 1), (8, 3)], [\"A\"]]\n",
      "S65 Array{T,1} where T[[5, 0, 6, 0, 0, 1, 0, 0, 0, 3, 0, 0], Tuple{Int64,Int64}[(6, 1)], Nothing[nothing], [\"A\"]]\n",
      "T54 Array{T,1} where T[[1, 0, 0, 0, 0, 4, 0, 5, 0, 0, 0, 0], Tuple{Int64,Int64}[(1, 1)], Tuple{Int64,Int64}[(1, 1)], [\"S\"]]\n",
      "S Array{T,1} where T[[5, 0, 0, 0, 0, 1, 0, 0, 0, 3, 0, 0], Tuple{Int64,Int64}[(6, 1)], Tuple{Int64,Int64}[(6, 1)], [\"A\"]]\n",
      "D7/3 Array{T,1} where T[[0, 0, 5, 0, 0, 7, 0, 1, 0, 0, 0, 3], Tuple{Int64,Int64}[(12, 3)], Nothing[nothing], [\"A\"]]\n",
      "D7-1 Array{T,1} where T[[0, 0, 5, 0, 0, 7, 0, 0, 0, 0, 0, 3], Tuple{Int64,Int64}[(3, 5)], Tuple{Int64,Int64}[(3, 5), (6, 7)], [\"A\"]]\n",
      "S6 Array{T,1} where T[[0, 0, 6, 0, 0, 1, 0, 0, 0, 3, 0, 0], Tuple{Int64,Int64}[(6, 1)], Tuple{Int64,Int64}[(6, 1)], [\"A\"]]\n",
      "D7/7 Array{T,1} where T[[0, 0, 5, 0, 0, 7, 0, 1, 0, 0, 0, 3], Tuple{Int64,Int64}[(6, 7)], Nothing[nothing], [\"A\"]]\n",
      "D54 Array{T,1} where T[[4, 0, 5, 0, 0, 0, 0, 1, 0, 0, 0, 0], Tuple{Int64,Int64}[(8, 1)], Tuple{Int64,Int64}[(8, 1)], [\"S\"]]\n"
     ]
    }
   ],
   "source": [
    "# Function entry: \"Name\" => ([notes], [Bass note], [Double/Triple notes], [Rhythmical Weight (All, Strong, Weak, Off)], [Candidates])\n",
    "\n",
    "functions = Dict{String, Array{Int64, 1}}\n",
    "\n",
    "if scale == \"Major\"\n",
    "#Major  =  [1, 0, 2, 0, 3, 4, 0, 5, 0, 6, 0, 7]\n",
    "#\n",
    "    \n",
    "    functions = Dict( \"T\"  =>  [circshift([1, 0, 0, 0, 3, 0, 0, 5, 0, 0, 0, 0], (key-1)), [ (key, 1) ], [ (key, 1) ], [\"A\"]],\n",
    "    \"S\"    =>  [circshift([5, 0, 0, 0, 0, 1, 0, 0, 0, 3, 0, 0], (key-1)), [ (((5+(key-1))%12)+1, 1) ], [ (((5+(key-1))%12)+1, 1) ], [\"A\"]],\n",
    "    \"D\"    =>  [circshift([0, 0, 5, 0, 0, 0, 0, 1, 0, 0, 0, 3], (key-1)), [ (((7+(key-1))%12)+1, 1) ], [ (((7+(key-1))%12)+1, 1) ], [\"A\"]],\n",
    "    \"T-5\"  =>  [circshift([1, 0, 0, 0, 3, 0, 0, 0, 0, 0, 0, 0], (key-1)), [ (key, 1) ], [ (key, 1) ], [\"A\"]],\n",
    "    #\"S-5\"  =>  [circshift([0, 0, 0, 0, 0, 1, 0, 0, 0, 3, 0, 0], (key-1)), [ (((5+(key-1))%12)+1, 1) ], [ (((5+(key-1))%12)+1, 1) ], [\"A\"]],\n",
    "    \"D-5\"  =>  [circshift([0, 0, 0, 0, 0, 0, 0, 1, 0, 0, 0, 3], (key-1)), [ (((7+(key-1))%12)+1, 1) ], [ (((7+(key-1))%12)+1, 1) ], [\"A\"]],\n",
    "    \"T/3\"   => [circshift([1, 0, 0, 0, 3, 0, 0, 5, 0, 0, 0, 0], (key-1)), [ (((4+(key-1))%12)+1, 3) ], [ (key, 1), (((7+(key-1))%12)+1, 5) ], [\"A\"]],\n",
    "    \"S/3\"   => [circshift([5, 0, 0, 0, 0, 1, 0, 0, 0, 3, 0, 0], (key-1)), [ (((9+(key-1))%12)+1, 3) ], [ (key, 5), (((5+(key-1))%12)+1, 1) ], [\"A\"]],\n",
    "    \"D/3\"   => [circshift([0, 0, 5, 0, 0, 0, 0, 1, 0, 0, 0, 3], (key-1)), [ (((11+(key-1))%12)+1, 3) ], [ (((2+(key-1))%12)+1, 5), (((7+(key-1))%12)+1, 1) ], [\"A\"]],\n",
    "    \"T/5\"   => [circshift([1, 0, 0, 0, 3, 0, 0, 5, 0, 0, 0, 0], (key-1)), [ (((7+(key-1))%12)+1, 5) ], [ (key, 1), (((7+(key-1))%12)+1, 5) ], [\"W\"]],\n",
    "    \"S/5\"   => [circshift([5, 0, 0, 0, 0, 1, 0, 0, 0, 3, 0, 0], (key-1)), [ (((0+(key-1))%12)+1, 5) ], [ (key, 5), (((5+(key-1))%12)+1, 1) ], [\"W\"]],\n",
    "    \"D/5\"   => [circshift([0, 0, 5, 0, 0, 0, 0, 1, 0, 0, 0, 3], (key-1)), [ (((2+(key-1))%12)+1, 5) ], [ (((2+(key-1))%12)+1, 5), (((7+(key-1))%12)+1, 1) ], [\"W\"]],\n",
    "    \"D64\"  =>  [circshift([4, 0, 0, 0, 6, 0, 0, 1, 0, 0, 0, 0], (key-1)), [ (((7+(key-1))%12)+1, 1) ], [ (((7+(key-1))%12)+1, 1) ], [\"S\"]],\n",
    "    \"T64\"  =>  [circshift([1, 0, 0, 0, 0, 4, 0, 0, 0, 6, 0, 0], (key-1)), [ (((0+(key-1))%12)+1, 1) ], [ (key, 1) ], [\"S\"]],\n",
    "    \"T54\"  =>  [circshift([1, 0, 0, 0, 0, 4, 0, 5, 0, 0, 0, 0], (key-1)), [ (((0+(key-1))%12)+1, 1) ], [ (key, 1) ], [\"S\"]],\n",
    "    \"D54\"  =>  [circshift([4, 0, 5, 0, 0, 0, 0, 1, 0, 0, 0, 0], (key-1)), [ (((7+(key-1))%12)+1, 1) ], [ (((7+(key-1))%12)+1, 1) ], [\"S\"]],\n",
    "    \"D7\"   =>  [circshift([0, 0, 5, 0, 0, 7, 0, 1, 0, 0, 0, 3], (key-1)), [ (((7+(key-1))%12)+1, 1) ], [ nothing ], [\"A\"]],\n",
    "    \"D7/3\" =>  [circshift([0, 0, 5, 0, 0, 7, 0, 1, 0, 0, 0, 3], (key-1)), [ (((11+(key-1))%12)+1, 3) ], [ nothing ], [\"A\"]],\n",
    "    \"D7/5\" =>  [circshift([0, 0, 5, 0, 0, 7, 0, 1, 0, 0, 0, 3], (key-1)), [ (((2+(key-1))%12)+1, 5) ], [ nothing ], [\"W\", \"O\"]],\n",
    "    \"D7/7\" =>  [circshift([0, 0, 5, 0, 0, 7, 0, 1, 0, 0, 0, 3], (key-1)), [ (((5+(key-1))%12)+1, 7) ], [ nothing ], [\"A\"]],\n",
    "    \"D7-1\" =>  [circshift([0, 0, 5, 0, 0, 7, 0, 0, 0, 0, 0, 3], (key-1)), [ (((2+(key-1))%12)+1, 5) ], [ (((2+(key-1))%12)+1, 5), (((5+(key-1))%12)+1, 7) ], [\"A\"]],\n",
    "    \"D7-5\" =>  [circshift([0, 0, 0, 0, 0, 7, 0, 1, 0, 0, 0, 3], (key-1)), [ (((7+(key-1))%12)+1, 1) ], [ nothing ], [\"A\"]],\n",
    "    \"S65\"  =>  [circshift([5, 0, 6, 0, 0, 1, 0, 0, 0, 3, 0, 0], (key-1)), [ (((5+(key-1))%12)+1, 1) ], [ nothing ], [\"A\"]],\n",
    "    \"S65/6\"=>  [circshift([5, 0, 6, 0, 0, 1, 0, 0, 0, 3, 0, 0], (key-1)), [ (((2+(key-1))%12)+1, 6) ], [ nothing ], [\"S\"]],\n",
    "    \"S6\"   =>  [circshift([0, 0, 6, 0, 0, 1, 0, 0, 0, 3, 0, 0], (key-1)), [ (((5+(key-1))%12)+1, 1) ], [ (((5+(key-1))%12)+1, 1) ], [\"A\"]],\n",
    "    \"Ss\"   =>  [circshift([0, 0, 1, 0, 0, 3, 0, 0, 0, 5, 0, 0], (key-1)), [ (((2+(key-1))%12)+1, 1) ], [ (((2+(key-1))%12)+1, 1), (((5+(key-1))%12)+1, 3) ], [\"A\"]],\n",
    "    \"Ts\"   =>  [circshift([3, 0, 0, 0, 5, 0, 0, 0, 0, 1, 0, 0], (key-1)), [ (((9+(key-1))%12)+1, 1) ], [ (key, 3), (((9+(key-1))%12)+1, 1) ], [\"A\"]],\n",
    "    \"Tm\"   =>  [circshift([0, 0, 0, 0, 1, 0, 0, 3, 0, 0, 0, 5], (key-1)), [ (((4+(key-1))%12)+1, 1) ], [ (((4+(key-1))%12)+1, 1), (((7+(key-1))%12)+1, 3) ], [\"A\"]])\n",
    "\n",
    "elseif scale == \"Minor\"\n",
    "#Minor  =  [1, 0, 2, 3, 0, 4, 0, 5, 6, 0, 7, 0]        \n",
    "        \n",
    "    functions = Dict( \"T\"   =>  (circshift([1, 0, 0, 1, 0, 0, 0, 1, 0, 0, 0, 0], (key-1)), [ key ], [ key ], [\"A\"]),\n",
    "    \"S\"   =>   (circshift([1, 0, 0, 0, 0, 1, 0, 0, 1, 0, 0, 0], (key-1)), [ ((5+(key-1))%12)+1 ]),\n",
    "    \"D\"   =>   (circshift([0, 0, 1, 0, 0, 0, 0, 1, 0, 0, 1, 0], (key-1)), [ ((7+(key-1))%12)+1 ]),\n",
    "    \"T-5\" =>   (circshift([1, 0, 0, 1, 0, 0, 0, 0, 0, 0, 0, 0], (key-1)), [ key ]),\n",
    "    \"S-5\" =>   (circshift([0, 0, 0, 0, 0, 1, 0, 0, 1, 0, 0, 0], (key-1)), [ ((5+(key-1))%12)+1 ]),\n",
    "    \"D-5\" =>   (circshift([0, 0, 0, 0, 0, 0, 0, 1, 0, 0, 1, 0], (key-1)), [ ((7+(key-1))%12)+1 ]),\n",
    "    \"T/3\"  =>  (circshift([1, 0, 0, 1, 0, 0, 0, 1, 0, 0, 0, 0], (key-1)), [ ((3+(key-1))%12)+1 ]),\n",
    "    \"S/3\"  =>  (circshift([1, 0, 0, 0, 0, 1, 0, 0, 1, 0, 0, 0], (key-1)), [ ((8+(key-1))%12)+1 ]),\n",
    "    \"D/3\"  =>  (circshift([0, 0, 1, 0, 0, 0, 0, 1, 0, 0, 1, 0], (key-1)), [ ((10+(key-1))%12)+1 ]),\n",
    "    \"T/5\"  =>  (circshift([1, 0, 0, 1, 0, 0, 0, 1, 0, 0, 0, 0], (key-1)), [ ((7+(key-1))%12)+1 ]),\n",
    "    \"S/5\"  =>  (circshift([1, 0, 0, 0, 0, 1, 0, 0, 1, 0, 0, 0], (key-1)), [ ((0+(key-1))%12)+1 ]),\n",
    "    \"D/5\"  =>  (circshift([0, 0, 1, 0, 0, 0, 0, 1, 0, 0, 1, 0], (key-1)), [ ((2+(key-1))%12)+1 ]),\n",
    "    \"D64\" =>   (circshift([1, 0, 0, 1, 0, 0, 0, 1, 0, 0, 0, 0], (key-1)), [ ((7+(key-1))%12)+1 ]),\n",
    "    \"T64\" =>   (circshift([1, 0, 0, 0, 0, 1, 0, 0, 1, 0, 0, 0], (key-1)), [ ((0+(key-1))%12)+1 ]),\n",
    "    \"T54\" =>   (circshift([1, 0, 0, 0, 0, 1, 0, 1, 0, 0, 0, 0], (key-1)), [ ((0+(key-1))%12)+1 ]),\n",
    "    \"D54\" =>   (circshift([1, 0, 1, 0, 0, 0, 0, 1, 0, 0, 0, 0], (key-1)), [ ((7+(key-1))%12)+1 ]),\n",
    "    \"D7\"  =>   (circshift([0, 0, 1, 0, 0, 1, 0, 1, 0, 0, 1, 0], (key-1)), [ ((7+(key-1))%12)+1 ]),\n",
    "    \"D7/3\"  => (circshift([0, 0, 1, 0, 0, 1, 0, 1, 0, 0, 1, 0], (key-1)), [ ((10+(key-1))%12)+1 ]),\n",
    "    \"D7/5\"  => (circshift([0, 0, 1, 0, 0, 1, 0, 1, 0, 0, 1, 0], (key-1)), [ ((2+(key-1))%12)+1 ]),\n",
    "    \"D7/7\"  => (circshift([0, 0, 1, 0, 0, 1, 0, 1, 0, 0, 1, 0], (key-1)), [ ((5+(key-1))%12)+1 ]),\n",
    "    \"D7-1\" =>  (circshift([0, 0, 1, 0, 0, 1, 0, 0, 0, 0, 1, 0], (key-1)), [ ((2+(key-1))%12)+1 ]),\n",
    "    \"S65\" =>   (circshift([1, 0, 1, 0, 0, 1, 0, 0, 1, 0, 0, 0], (key-1)), [ ((5+(key-1))%12)+1 ]),\n",
    "    \"S65/6\" => (circshift([1, 0, 1, 0, 0, 1, 0, 0, 1, 0, 0, 0], (key-1)), [ ((2+(key-1))%12)+1 ]),\n",
    "    \"S6\"  =>   (circshift([0, 0, 1, 0, 0, 1, 0, 0, 1, 0, 0, 0], (key-1)), [ ((5+(key-1))%12)+1 ]),\n",
    "    \"Dm\"  =>   (circshift([0, 0, 1, 0, 0, 1, 0, 0, 0, 0, 1, 0], (key-1)), [ ((10+(key-1))%12)+1 ]),\n",
    "    \"Ts\"  =>   (circshift([1, 0, 0, 1, 0, 0, 0, 0, 1, 0, 0, 0], (key-1)), [ ((8+(key-1))%12)+1 ]),\n",
    "    \"Tm\"  =>   (circshift([0, 0, 0, 1, 0, 0, 0, 1, 0, 0, 1, 0], (key-1)), [ ((3+(key-1))%12)+1 ]))\n",
    "        \n",
    "end\n",
    "        \n",
    "for k in functions\n",
    "    println(k[1], \" \", k[2])\n",
    "end\n",
    "\n",
    "#      [C, C#, D, D#, E, F, F#, G, G#, A, A#, B]\n",
    "#      [1, 2,  3, 4,  5, 6, 7,  8, 9, 10, 11, 12]\n",
    "#      [2, 0,  3, 4,  0, 5, 0,  6, 0, 7,  1,  0]"
   ]
  },
  {
   "cell_type": "markdown",
   "metadata": {},
   "source": [
    "# # Analyze tonal map and calculate hamming distances for each timestep"
   ]
  },
  {
   "cell_type": "code",
   "execution_count": 113,
   "metadata": {},
   "outputs": [
    {
     "data": {
      "text/plain": [
       "12-element Array{Int8,1}:\n",
       " 1\n",
       " 1\n",
       " 1\n",
       " 0\n",
       " 1\n",
       " 0\n",
       " 0\n",
       " 0\n",
       " 0\n",
       " 0\n",
       " 0\n",
       " 0"
      ]
     },
     "metadata": {},
     "output_type": "display_data"
    },
    {
     "data": {
      "text/plain": [
       "27-element Array{Any,1}:\n",
       " (0, \"T-5\")  \n",
       " (2, \"D7-1\") \n",
       " (3, \"D54\")  \n",
       " (3, \"D64\")  \n",
       " (3, \"T\")    \n",
       " (3, \"T/3\")  \n",
       " (3, \"T/5\")  \n",
       " (3, \"Ts\")   \n",
       " (4, \"D\")    \n",
       " (4, \"D-5\")  \n",
       " (4, \"D/3\")  \n",
       " (4, \"D/5\")  \n",
       " (4, \"S\")    \n",
       " ⋮           \n",
       " (4, \"S6\")   \n",
       " (4, \"S65\")  \n",
       " (4, \"S65/6\")\n",
       " (4, \"Ss\")   \n",
       " (4, \"T54\")  \n",
       " (4, \"T64\")  \n",
       " (4, \"Tm\")   \n",
       " (5, \"D7\")   \n",
       " (5, \"D7-5\") \n",
       " (5, \"D7/3\") \n",
       " (5, \"D7/5\") \n",
       " (5, \"D7/7\") "
      ]
     },
     "metadata": {},
     "output_type": "display_data"
    },
    {
     "data": {
      "text/plain": [
       "12-element Array{Int8,1}:\n",
       " 0\n",
       " 0\n",
       " 1\n",
       " 0\n",
       " 0\n",
       " 1\n",
       " 0\n",
       " 0\n",
       " 1\n",
       " 1\n",
       " 0\n",
       " 0"
      ]
     },
     "metadata": {},
     "output_type": "display_data"
    },
    {
     "data": {
      "text/plain": [
       "27-element Array{Any,1}:\n",
       " (0, \"S6\")   \n",
       " (0, \"Ss\")   \n",
       " (2, \"D7-1\") \n",
       " (2, \"S\")    \n",
       " (2, \"S/3\")  \n",
       " (2, \"S/5\")  \n",
       " (2, \"S65\")  \n",
       " (2, \"S65/6\")\n",
       " (2, \"T64\")  \n",
       " (3, \"D\")    \n",
       " (3, \"D-5\")  \n",
       " (3, \"D/3\")  \n",
       " (3, \"D/5\")  \n",
       " ⋮           \n",
       " (3, \"D7-5\") \n",
       " (3, \"D7/3\") \n",
       " (3, \"D7/5\") \n",
       " (3, \"D7/7\") \n",
       " (3, \"T-5\")  \n",
       " (3, \"T54\")  \n",
       " (3, \"Ts\")   \n",
       " (4, \"D64\")  \n",
       " (4, \"T\")    \n",
       " (4, \"T/3\")  \n",
       " (4, \"T/5\")  \n",
       " (4, \"Tm\")   "
      ]
     },
     "metadata": {},
     "output_type": "display_data"
    },
    {
     "data": {
      "text/plain": [
       "12-element Array{Int8,1}:\n",
       " 1\n",
       " 0\n",
       " 0\n",
       " 0\n",
       " 1\n",
       " 0\n",
       " 0\n",
       " 0\n",
       " 1\n",
       " 0\n",
       " 0\n",
       " 0"
      ]
     },
     "metadata": {},
     "output_type": "display_data"
    },
    {
     "data": {
      "text/plain": [
       "27-element Array{Any,1}:\n",
       " (0, \"T-5\")  \n",
       " (1, \"D64\")  \n",
       " (1, \"T\")    \n",
       " (1, \"T/3\")  \n",
       " (1, \"T/5\")  \n",
       " (1, \"Ts\")   \n",
       " (2, \"D-5\")  \n",
       " (2, \"S\")    \n",
       " (2, \"S/3\")  \n",
       " (2, \"S/5\")  \n",
       " (2, \"T54\")  \n",
       " (2, \"T64\")  \n",
       " (2, \"Tm\")   \n",
       " ⋮           \n",
       " (4, \"D\")    \n",
       " (4, \"D/3\")  \n",
       " (4, \"D/5\")  \n",
       " (4, \"D7-1\") \n",
       " (4, \"S6\")   \n",
       " (4, \"S65\")  \n",
       " (4, \"S65/6\")\n",
       " (4, \"Ss\")   \n",
       " (5, \"D7\")   \n",
       " (5, \"D7/3\") \n",
       " (5, \"D7/5\") \n",
       " (5, \"D7/7\") "
      ]
     },
     "metadata": {},
     "output_type": "display_data"
    },
    {
     "data": {
      "text/plain": [
       "12-element Array{Int8,1}:\n",
       " 0\n",
       " 0\n",
       " 0\n",
       " 0\n",
       " 0\n",
       " 1\n",
       " 0\n",
       " 0\n",
       " 0\n",
       " 1\n",
       " 1\n",
       " 0"
      ]
     },
     "metadata": {},
     "output_type": "display_data"
    },
    {
     "data": {
      "text/plain": [
       "27-element Array{Any,1}:\n",
       " (2, \"S\")    \n",
       " (2, \"S/3\")  \n",
       " (2, \"S/5\")  \n",
       " (2, \"T64\")  \n",
       " (3, \"D-5\")  \n",
       " (3, \"D7-5\") \n",
       " (3, \"S6\")   \n",
       " (3, \"Ss\")   \n",
       " (3, \"T-5\")  \n",
       " (3, \"Ts\")   \n",
       " (4, \"D7-1\") \n",
       " (4, \"T54\")  \n",
       " (4, \"Tm\")   \n",
       " ⋮           \n",
       " (5, \"S65/6\")\n",
       " (5, \"T\")    \n",
       " (5, \"T/3\")  \n",
       " (5, \"T/5\")  \n",
       " (6, \"D\")    \n",
       " (6, \"D/3\")  \n",
       " (6, \"D/5\")  \n",
       " (6, \"D7\")   \n",
       " (6, \"D7/3\") \n",
       " (6, \"D7/5\") \n",
       " (6, \"D7/7\") \n",
       " (7, \"D54\")  "
      ]
     },
     "metadata": {},
     "output_type": "display_data"
    },
    {
     "data": {
      "text/plain": [
       "12-element Array{Int8,1}:\n",
       " 1\n",
       " 0\n",
       " 0\n",
       " 0\n",
       " 0\n",
       " 1\n",
       " 0\n",
       " 1\n",
       " 0\n",
       " 0\n",
       " 0\n",
       " 0"
      ]
     },
     "metadata": {},
     "output_type": "display_data"
    },
    {
     "data": {
      "text/plain": [
       "27-element Array{Any,1}:\n",
       " (0, \"T54\")  \n",
       " (1, \"D-5\")  \n",
       " (1, \"D64\")  \n",
       " (1, \"D7-5\") \n",
       " (1, \"T\")    \n",
       " (1, \"T-5\")  \n",
       " (1, \"T/3\")  \n",
       " (1, \"T/5\")  \n",
       " (2, \"D54\")  \n",
       " (2, \"S\")    \n",
       " (2, \"S/3\")  \n",
       " (2, \"S/5\")  \n",
       " (2, \"T64\")  \n",
       " ⋮           \n",
       " (3, \"D/3\")  \n",
       " (3, \"D/5\")  \n",
       " (3, \"D7\")   \n",
       " (3, \"D7-1\") \n",
       " (3, \"D7/3\") \n",
       " (3, \"D7/5\") \n",
       " (3, \"D7/7\") \n",
       " (3, \"Ts\")   \n",
       " (4, \"S6\")   \n",
       " (4, \"S65\")  \n",
       " (4, \"S65/6\")\n",
       " (4, \"Ss\")   "
      ]
     },
     "metadata": {},
     "output_type": "display_data"
    },
    {
     "data": {
      "text/plain": [
       "12-element Array{Int8,1}:\n",
       " 1\n",
       " 0\n",
       " 0\n",
       " 1\n",
       " 0\n",
       " 0\n",
       " 0\n",
       " 0\n",
       " 0\n",
       " 1\n",
       " 0\n",
       " 0"
      ]
     },
     "metadata": {},
     "output_type": "display_data"
    },
    {
     "data": {
      "text/plain": [
       "27-element Array{Any,1}:\n",
       " (1, \"T-5\")  \n",
       " (1, \"Ts\")   \n",
       " (2, \"S\")    \n",
       " (2, \"S/3\")  \n",
       " (2, \"S/5\")  \n",
       " (2, \"T64\")  \n",
       " (3, \"D-5\")  \n",
       " (3, \"D54\")  \n",
       " (3, \"D64\")  \n",
       " (3, \"S6\")   \n",
       " (3, \"S65\")  \n",
       " (3, \"S65/6\")\n",
       " (3, \"Ss\")   \n",
       " ⋮           \n",
       " (3, \"T/5\")  \n",
       " (4, \"D\")    \n",
       " (4, \"D/3\")  \n",
       " (4, \"D/5\")  \n",
       " (4, \"D7-1\") \n",
       " (4, \"T54\")  \n",
       " (4, \"Tm\")   \n",
       " (5, \"D7-5\") \n",
       " (6, \"D7\")   \n",
       " (6, \"D7/3\") \n",
       " (6, \"D7/5\") \n",
       " (6, \"D7/7\") "
      ]
     },
     "metadata": {},
     "output_type": "display_data"
    },
    {
     "data": {
      "text/plain": [
       "12-element Array{Int8,1}:\n",
       " 0\n",
       " 0\n",
       " 0\n",
       " 1\n",
       " 0\n",
       " 0\n",
       " 0\n",
       " 0\n",
       " 0\n",
       " 0\n",
       " 0\n",
       " 1"
      ]
     },
     "metadata": {},
     "output_type": "display_data"
    },
    {
     "data": {
      "text/plain": [
       "27-element Array{Any,1}:\n",
       " (2, \"T-5\")  \n",
       " (3, \"D7-1\") \n",
       " (4, \"D-5\")  \n",
       " (4, \"Ts\")   \n",
       " (5, \"D\")    \n",
       " (5, \"D/3\")  \n",
       " (5, \"D/5\")  \n",
       " (5, \"S\")    \n",
       " (5, \"S/3\")  \n",
       " (5, \"S/5\")  \n",
       " (5, \"S6\")   \n",
       " (5, \"Ss\")   \n",
       " (5, \"T64\")  \n",
       " ⋮           \n",
       " (6, \"D64\")  \n",
       " (6, \"D7-5\") \n",
       " (6, \"S65\")  \n",
       " (6, \"S65/6\")\n",
       " (6, \"T\")    \n",
       " (6, \"T/3\")  \n",
       " (6, \"T/5\")  \n",
       " (7, \"D7\")   \n",
       " (7, \"D7/3\") \n",
       " (7, \"D7/5\") \n",
       " (7, \"D7/7\") \n",
       " (7, \"T54\")  "
      ]
     },
     "metadata": {},
     "output_type": "display_data"
    },
    {
     "data": {
      "text/plain": [
       "12-element Array{Int8,1}:\n",
       " 1\n",
       " 0\n",
       " 0\n",
       " 0\n",
       " 0\n",
       " 1\n",
       " 0\n",
       " 0\n",
       " 0\n",
       " 0\n",
       " 0\n",
       " 0"
      ]
     },
     "metadata": {},
     "output_type": "display_data"
    },
    {
     "data": {
      "text/plain": [
       "27-element Array{Any,1}:\n",
       " (1, \"T-5\")  \n",
       " (2, \"T54\")  \n",
       " (3, \"D-5\")  \n",
       " (3, \"D64\")  \n",
       " (3, \"D7-1\") \n",
       " (3, \"D7-5\") \n",
       " (3, \"S\")    \n",
       " (3, \"S/3\")  \n",
       " (3, \"S/5\")  \n",
       " (3, \"T\")    \n",
       " (3, \"T/3\")  \n",
       " (3, \"T/5\")  \n",
       " (3, \"T64\")  \n",
       " ⋮           \n",
       " (4, \"Ts\")   \n",
       " (5, \"D\")    \n",
       " (5, \"D/3\")  \n",
       " (5, \"D/5\")  \n",
       " (5, \"D7\")   \n",
       " (5, \"D7/3\") \n",
       " (5, \"D7/5\") \n",
       " (5, \"D7/7\") \n",
       " (5, \"S6\")   \n",
       " (5, \"S65\")  \n",
       " (5, \"S65/6\")\n",
       " (5, \"Ss\")   "
      ]
     },
     "metadata": {},
     "output_type": "display_data"
    },
    {
     "data": {
      "text/plain": [
       "12-element Array{Int8,1}:\n",
       " 1\n",
       " 0\n",
       " 0\n",
       " 0\n",
       " 0\n",
       " 0\n",
       " 0\n",
       " 1\n",
       " 0\n",
       " 0\n",
       " 0\n",
       " 0"
      ]
     },
     "metadata": {},
     "output_type": "display_data"
    },
    {
     "data": {
      "text/plain": [
       "27-element Array{Any,1}:\n",
       " (1, \"D-5\")  \n",
       " (2, \"D54\")  \n",
       " (2, \"T54\")  \n",
       " (3, \"D\")    \n",
       " (3, \"D/3\")  \n",
       " (3, \"D/5\")  \n",
       " (3, \"D64\")  \n",
       " (3, \"D7-5\") \n",
       " (3, \"T\")    \n",
       " (3, \"T-5\")  \n",
       " (3, \"T/3\")  \n",
       " (3, \"T/5\")  \n",
       " (4, \"S\")    \n",
       " ⋮           \n",
       " (4, \"T64\")  \n",
       " (4, \"Tm\")   \n",
       " (5, \"D7\")   \n",
       " (5, \"D7-1\") \n",
       " (5, \"D7/3\") \n",
       " (5, \"D7/5\") \n",
       " (5, \"D7/7\") \n",
       " (5, \"Ts\")   \n",
       " (6, \"S6\")   \n",
       " (6, \"S65\")  \n",
       " (6, \"S65/6\")\n",
       " (6, \"Ss\")   "
      ]
     },
     "metadata": {},
     "output_type": "display_data"
    },
    {
     "data": {
      "text/plain": [
       "12-element Array{Int8,1}:\n",
       " 0\n",
       " 0\n",
       " 0\n",
       " 1\n",
       " 0\n",
       " 0\n",
       " 0\n",
       " 1\n",
       " 0\n",
       " 0\n",
       " 0\n",
       " 1"
      ]
     },
     "metadata": {},
     "output_type": "display_data"
    },
    {
     "data": {
      "text/plain": [
       "27-element Array{Any,1}:\n",
       " (0, \"D-5\")  \n",
       " (1, \"D\")    \n",
       " (1, \"D/3\")  \n",
       " (1, \"D/5\")  \n",
       " (1, \"Tm\")   \n",
       " (2, \"D54\")  \n",
       " (2, \"D64\")  \n",
       " (2, \"D7-5\") \n",
       " (2, \"T\")    \n",
       " (2, \"T-5\")  \n",
       " (2, \"T/3\")  \n",
       " (2, \"T/5\")  \n",
       " (3, \"D7\")   \n",
       " ⋮           \n",
       " (3, \"D7/5\") \n",
       " (3, \"D7/7\") \n",
       " (3, \"T54\")  \n",
       " (4, \"Ts\")   \n",
       " (5, \"S\")    \n",
       " (5, \"S/3\")  \n",
       " (5, \"S/5\")  \n",
       " (5, \"S6\")   \n",
       " (5, \"Ss\")   \n",
       " (5, \"T64\")  \n",
       " (6, \"S65\")  \n",
       " (6, \"S65/6\")"
      ]
     },
     "metadata": {},
     "output_type": "display_data"
    },
    {
     "data": {
      "text/plain": [
       "12-element Array{Int8,1}:\n",
       " 1\n",
       " 0\n",
       " 1\n",
       " 0\n",
       " 0\n",
       " 0\n",
       " 0\n",
       " 0\n",
       " 0\n",
       " 1\n",
       " 0\n",
       " 0"
      ]
     },
     "metadata": {},
     "output_type": "display_data"
    },
    {
     "data": {
      "text/plain": [
       "27-element Array{Any,1}:\n",
       " (2, \"D54\")  \n",
       " (2, \"T-5\")  \n",
       " (2, \"Ts\")   \n",
       " (3, \"D\")    \n",
       " (3, \"D-5\")  \n",
       " (3, \"D/3\")  \n",
       " (3, \"D/5\")  \n",
       " (3, \"S\")    \n",
       " (3, \"S/3\")  \n",
       " (3, \"S/5\")  \n",
       " (3, \"S6\")   \n",
       " (3, \"S65\")  \n",
       " (3, \"S65/6\")\n",
       " ⋮           \n",
       " (4, \"D64\")  \n",
       " (4, \"D7-1\") \n",
       " (4, \"T\")    \n",
       " (4, \"T/3\")  \n",
       " (4, \"T/5\")  \n",
       " (5, \"T54\")  \n",
       " (5, \"Tm\")   \n",
       " (6, \"D7\")   \n",
       " (6, \"D7-5\") \n",
       " (6, \"D7/3\") \n",
       " (6, \"D7/5\") \n",
       " (6, \"D7/7\") "
      ]
     },
     "metadata": {},
     "output_type": "display_data"
    },
    {
     "data": {
      "text/plain": [
       "12-element Array{Int8,1}:\n",
       " 1\n",
       " 0\n",
       " 0\n",
       " 0\n",
       " 0\n",
       " 0\n",
       " 0\n",
       " 1\n",
       " 0\n",
       " 0\n",
       " 1\n",
       " 0"
      ]
     },
     "metadata": {},
     "output_type": "display_data"
    },
    {
     "data": {
      "text/plain": [
       "27-element Array{Any,1}:\n",
       " (1, \"D-5\")  \n",
       " (2, \"D54\")  \n",
       " (2, \"T54\")  \n",
       " (3, \"D\")    \n",
       " (3, \"D/3\")  \n",
       " (3, \"D/5\")  \n",
       " (3, \"D64\")  \n",
       " (3, \"D7-5\") \n",
       " (3, \"S\")    \n",
       " (3, \"S/3\")  \n",
       " (3, \"S/5\")  \n",
       " (3, \"T\")    \n",
       " (3, \"T-5\")  \n",
       " ⋮           \n",
       " (3, \"T64\")  \n",
       " (4, \"Tm\")   \n",
       " (4, \"Ts\")   \n",
       " (5, \"D7\")   \n",
       " (5, \"D7-1\") \n",
       " (5, \"D7/3\") \n",
       " (5, \"D7/5\") \n",
       " (5, \"D7/7\") \n",
       " (5, \"S6\")   \n",
       " (5, \"S65\")  \n",
       " (5, \"S65/6\")\n",
       " (5, \"Ss\")   "
      ]
     },
     "metadata": {},
     "output_type": "display_data"
    },
    {
     "data": {
      "text/plain": [
       "12-element Array{Int8,1}:\n",
       " 0\n",
       " 0\n",
       " 0\n",
       " 0\n",
       " 0\n",
       " 1\n",
       " 0\n",
       " 0\n",
       " 0\n",
       " 0\n",
       " 0\n",
       " 0"
      ]
     },
     "metadata": {},
     "output_type": "display_data"
    },
    {
     "data": {
      "text/plain": [
       "27-element Array{Any,1}:\n",
       " (6, \"T-5\")   \n",
       " (7, \"S6\")    \n",
       " (7, \"Ss\")    \n",
       " (7, \"T54\")   \n",
       " (8, \"D-5\")   \n",
       " (8, \"D64\")   \n",
       " (8, \"D7-5\")  \n",
       " (8, \"T\")     \n",
       " (8, \"T/3\")   \n",
       " (8, \"T/5\")   \n",
       " (9, \"D7-1\")  \n",
       " (9, \"S\")     \n",
       " (9, \"S/3\")   \n",
       " ⋮            \n",
       " (9, \"Tm\")    \n",
       " (10, \"D54\")  \n",
       " (10, \"Ts\")   \n",
       " (11, \"D\")    \n",
       " (11, \"D/3\")  \n",
       " (11, \"D/5\")  \n",
       " (11, \"D7\")   \n",
       " (11, \"D7/3\") \n",
       " (11, \"D7/5\") \n",
       " (11, \"D7/7\") \n",
       " (12, \"S65\")  \n",
       " (12, \"S65/6\")"
      ]
     },
     "metadata": {},
     "output_type": "display_data"
    },
    {
     "data": {
      "text/plain": [
       "12-element Array{Int8,1}:\n",
       " 0\n",
       " 0\n",
       " 1\n",
       " 0\n",
       " 1\n",
       " 0\n",
       " 0\n",
       " 0\n",
       " 0\n",
       " 1\n",
       " 0\n",
       " 0"
      ]
     },
     "metadata": {},
     "output_type": "display_data"
    },
    {
     "data": {
      "text/plain": [
       "27-element Array{Any,1}:\n",
       " (1, \"S6\")   \n",
       " (1, \"Ss\")   \n",
       " (2, \"T-5\")  \n",
       " (2, \"Ts\")   \n",
       " (3, \"D7-1\") \n",
       " (3, \"S\")    \n",
       " (3, \"S/3\")  \n",
       " (3, \"S/5\")  \n",
       " (3, \"S65\")  \n",
       " (3, \"S65/6\")\n",
       " (3, \"T64\")  \n",
       " (4, \"D\")    \n",
       " (4, \"D-5\")  \n",
       " ⋮           \n",
       " (4, \"D54\")  \n",
       " (4, \"D64\")  \n",
       " (4, \"T\")    \n",
       " (4, \"T/3\")  \n",
       " (4, \"T/5\")  \n",
       " (4, \"Tm\")   \n",
       " (5, \"D7\")   \n",
       " (5, \"D7-5\") \n",
       " (5, \"D7/3\") \n",
       " (5, \"D7/5\") \n",
       " (5, \"D7/7\") \n",
       " (5, \"T54\")  "
      ]
     },
     "metadata": {},
     "output_type": "display_data"
    },
    {
     "data": {
      "text/plain": [
       "12-element Array{Int8,1}:\n",
       " 0\n",
       " 0\n",
       " 1\n",
       " 0\n",
       " 0\n",
       " 0\n",
       " 1\n",
       " 0\n",
       " 1\n",
       " 0\n",
       " 0\n",
       " 0"
      ]
     },
     "metadata": {},
     "output_type": "display_data"
    },
    {
     "data": {
      "text/plain": [
       "27-element Array{Any,1}:\n",
       " (2, \"S6\")   \n",
       " (2, \"Ss\")   \n",
       " (3, \"D54\")  \n",
       " (4, \"D\")    \n",
       " (4, \"D-5\")  \n",
       " (4, \"D/3\")  \n",
       " (4, \"D/5\")  \n",
       " (4, \"D7-1\") \n",
       " (4, \"S\")    \n",
       " (4, \"S/3\")  \n",
       " (4, \"S/5\")  \n",
       " (4, \"S65\")  \n",
       " (4, \"S65/6\")\n",
       " ⋮           \n",
       " (4, \"T64\")  \n",
       " (5, \"D64\")  \n",
       " (5, \"D7\")   \n",
       " (5, \"D7-5\") \n",
       " (5, \"D7/3\") \n",
       " (5, \"D7/5\") \n",
       " (5, \"D7/7\") \n",
       " (5, \"T\")    \n",
       " (5, \"T/3\")  \n",
       " (5, \"T/5\")  \n",
       " (5, \"Ts\")   \n",
       " (6, \"Tm\")   "
      ]
     },
     "metadata": {},
     "output_type": "display_data"
    },
    {
     "data": {
      "text/plain": [
       "12-element Array{Int8,1}:\n",
       " 1\n",
       " 0\n",
       " 1\n",
       " 0\n",
       " 0\n",
       " 0\n",
       " 0\n",
       " 0\n",
       " 1\n",
       " 0\n",
       " 0\n",
       " 0"
      ]
     },
     "metadata": {},
     "output_type": "display_data"
    },
    {
     "data": {
      "text/plain": [
       "27-element Array{Any,1}:\n",
       " (1, \"D54\")  \n",
       " (2, \"D\")    \n",
       " (2, \"D-5\")  \n",
       " (2, \"D/3\")  \n",
       " (2, \"D/5\")  \n",
       " (2, \"T-5\")  \n",
       " (3, \"D64\")  \n",
       " (3, \"T\")    \n",
       " (3, \"T/3\")  \n",
       " (3, \"T/5\")  \n",
       " (3, \"Ts\")   \n",
       " (4, \"D7-1\") \n",
       " (4, \"S\")    \n",
       " ⋮           \n",
       " (4, \"S6\")   \n",
       " (4, \"S65\")  \n",
       " (4, \"S65/6\")\n",
       " (4, \"Ss\")   \n",
       " (4, \"T54\")  \n",
       " (4, \"T64\")  \n",
       " (4, \"Tm\")   \n",
       " (5, \"D7\")   \n",
       " (5, \"D7-5\") \n",
       " (5, \"D7/3\") \n",
       " (5, \"D7/5\") \n",
       " (5, \"D7/7\") "
      ]
     },
     "metadata": {},
     "output_type": "display_data"
    },
    {
     "data": {
      "text/plain": [
       "12-element Array{Int8,1}:\n",
       " 0\n",
       " 0\n",
       " 1\n",
       " 0\n",
       " 0\n",
       " 1\n",
       " 0\n",
       " 0\n",
       " 0\n",
       " 0\n",
       " 0\n",
       " 1"
      ]
     },
     "metadata": {},
     "output_type": "display_data"
    },
    {
     "data": {
      "text/plain": [
       "27-element Array{Any,1}:\n",
       " (0, \"D7-1\") \n",
       " (2, \"D\")    \n",
       " (2, \"D-5\")  \n",
       " (2, \"D/3\")  \n",
       " (2, \"D/5\")  \n",
       " (2, \"D7\")   \n",
       " (2, \"D7-5\") \n",
       " (2, \"D7/3\") \n",
       " (2, \"D7/5\") \n",
       " (2, \"D7/7\") \n",
       " (2, \"S6\")   \n",
       " (2, \"Ss\")   \n",
       " (2, \"T-5\")  \n",
       " ⋮           \n",
       " (3, \"S/3\")  \n",
       " (3, \"S/5\")  \n",
       " (3, \"S65\")  \n",
       " (3, \"S65/6\")\n",
       " (3, \"T54\")  \n",
       " (3, \"T64\")  \n",
       " (3, \"Tm\")   \n",
       " (4, \"D64\")  \n",
       " (4, \"T\")    \n",
       " (4, \"T/3\")  \n",
       " (4, \"T/5\")  \n",
       " (4, \"Ts\")   "
      ]
     },
     "metadata": {},
     "output_type": "display_data"
    },
    {
     "data": {
      "text/plain": [
       "12-element Array{Int8,1}:\n",
       " 1\n",
       " 0\n",
       " 0\n",
       " 1\n",
       " 0\n",
       " 0\n",
       " 0\n",
       " 0\n",
       " 0\n",
       " 0\n",
       " 0\n",
       " 0"
      ]
     },
     "metadata": {},
     "output_type": "display_data"
    },
    {
     "data": {
      "text/plain": [
       "27-element Array{Any,1}:\n",
       " (1, \"T-5\")  \n",
       " (4, \"D7-1\") \n",
       " (4, \"Ts\")   \n",
       " (5, \"D-5\")  \n",
       " (5, \"D54\")  \n",
       " (5, \"D64\")  \n",
       " (5, \"S\")    \n",
       " (5, \"S/3\")  \n",
       " (5, \"S/5\")  \n",
       " (5, \"T\")    \n",
       " (5, \"T/3\")  \n",
       " (5, \"T/5\")  \n",
       " (5, \"T64\")  \n",
       " ⋮           \n",
       " (6, \"D/5\")  \n",
       " (6, \"S6\")   \n",
       " (6, \"S65\")  \n",
       " (6, \"S65/6\")\n",
       " (6, \"Ss\")   \n",
       " (6, \"T54\")  \n",
       " (6, \"Tm\")   \n",
       " (7, \"D7-5\") \n",
       " (8, \"D7\")   \n",
       " (8, \"D7/3\") \n",
       " (8, \"D7/5\") \n",
       " (8, \"D7/7\") "
      ]
     },
     "metadata": {},
     "output_type": "display_data"
    },
    {
     "data": {
      "text/plain": [
       "12-element Array{Int8,1}:\n",
       " 0\n",
       " 1\n",
       " 0\n",
       " 0\n",
       " 0\n",
       " 1\n",
       " 0\n",
       " 0\n",
       " 0\n",
       " 0\n",
       " 0\n",
       " 0"
      ]
     },
     "metadata": {},
     "output_type": "display_data"
    },
    {
     "data": {
      "text/plain": [
       "27-element Array{Any,1}:\n",
       " (2, \"T-5\")  \n",
       " (3, \"D7-1\") \n",
       " (3, \"T54\")  \n",
       " (4, \"D-5\")  \n",
       " (4, \"D54\")  \n",
       " (4, \"D64\")  \n",
       " (4, \"D7-5\") \n",
       " (4, \"T\")    \n",
       " (4, \"T/3\")  \n",
       " (4, \"T/5\")  \n",
       " (5, \"D\")    \n",
       " (5, \"D/3\")  \n",
       " (5, \"D/5\")  \n",
       " ⋮           \n",
       " (5, \"D7/5\") \n",
       " (5, \"D7/7\") \n",
       " (5, \"S\")    \n",
       " (5, \"S/3\")  \n",
       " (5, \"S/5\")  \n",
       " (5, \"S6\")   \n",
       " (5, \"Ss\")   \n",
       " (5, \"T64\")  \n",
       " (5, \"Tm\")   \n",
       " (6, \"S65\")  \n",
       " (6, \"S65/6\")\n",
       " (6, \"Ts\")   "
      ]
     },
     "metadata": {},
     "output_type": "display_data"
    },
    {
     "data": {
      "text/plain": [
       "12-element Array{Int8,1}:\n",
       " 0\n",
       " 0\n",
       " 0\n",
       " 0\n",
       " 0\n",
       " 0\n",
       " 0\n",
       " 1\n",
       " 0\n",
       " 0\n",
       " 0\n",
       " 1"
      ]
     },
     "metadata": {},
     "output_type": "display_data"
    },
    {
     "data": {
      "text/plain": [
       "27-element Array{Any,1}:\n",
       " (0, \"D-5\")  \n",
       " (2, \"D7-5\") \n",
       " (3, \"D\")    \n",
       " (3, \"D/3\")  \n",
       " (3, \"D/5\")  \n",
       " (3, \"T54\")  \n",
       " (3, \"Tm\")   \n",
       " (4, \"D54\")  \n",
       " (4, \"D64\")  \n",
       " (4, \"T\")    \n",
       " (4, \"T-5\")  \n",
       " (4, \"T/3\")  \n",
       " (4, \"T/5\")  \n",
       " ⋮           \n",
       " (5, \"D7/3\") \n",
       " (5, \"D7/5\") \n",
       " (5, \"D7/7\") \n",
       " (5, \"S\")    \n",
       " (5, \"S/3\")  \n",
       " (5, \"S/5\")  \n",
       " (5, \"T64\")  \n",
       " (6, \"Ts\")   \n",
       " (7, \"S6\")   \n",
       " (7, \"Ss\")   \n",
       " (8, \"S65\")  \n",
       " (8, \"S65/6\")"
      ]
     },
     "metadata": {},
     "output_type": "display_data"
    },
    {
     "data": {
      "text/plain": [
       "12-element Array{Int8,1}:\n",
       " 1\n",
       " 0\n",
       " 0\n",
       " 0\n",
       " 0\n",
       " 1\n",
       " 0\n",
       " 0\n",
       " 0\n",
       " 0\n",
       " 0\n",
       " 0"
      ]
     },
     "metadata": {},
     "output_type": "display_data"
    },
    {
     "data": {
      "text/plain": [
       "27-element Array{Any,1}:\n",
       " (1, \"T-5\")  \n",
       " (2, \"T54\")  \n",
       " (3, \"D-5\")  \n",
       " (3, \"D64\")  \n",
       " (3, \"D7-1\") \n",
       " (3, \"D7-5\") \n",
       " (3, \"S\")    \n",
       " (3, \"S/3\")  \n",
       " (3, \"S/5\")  \n",
       " (3, \"T\")    \n",
       " (3, \"T/3\")  \n",
       " (3, \"T/5\")  \n",
       " (3, \"T64\")  \n",
       " ⋮           \n",
       " (4, \"Ts\")   \n",
       " (5, \"D\")    \n",
       " (5, \"D/3\")  \n",
       " (5, \"D/5\")  \n",
       " (5, \"D7\")   \n",
       " (5, \"D7/3\") \n",
       " (5, \"D7/5\") \n",
       " (5, \"D7/7\") \n",
       " (5, \"S6\")   \n",
       " (5, \"S65\")  \n",
       " (5, \"S65/6\")\n",
       " (5, \"Ss\")   "
      ]
     },
     "metadata": {},
     "output_type": "display_data"
    },
    {
     "data": {
      "text/plain": [
       "12-element Array{Int8,1}:\n",
       " 0\n",
       " 0\n",
       " 0\n",
       " 0\n",
       " 0\n",
       " 0\n",
       " 1\n",
       " 0\n",
       " 0\n",
       " 1\n",
       " 0\n",
       " 0"
      ]
     },
     "metadata": {},
     "output_type": "display_data"
    },
    {
     "data": {
      "text/plain": [
       "27-element Array{Any,1}:\n",
       " (3, \"D-5\")  \n",
       " (4, \"D7-5\") \n",
       " (4, \"S\")    \n",
       " (4, \"S/3\")  \n",
       " (4, \"S/5\")  \n",
       " (4, \"T64\")  \n",
       " (5, \"S6\")   \n",
       " (5, \"Ss\")   \n",
       " (5, \"T-5\")  \n",
       " (5, \"T54\")  \n",
       " (5, \"Tm\")   \n",
       " (5, \"Ts\")   \n",
       " (6, \"D64\")  \n",
       " ⋮           \n",
       " (6, \"T/5\")  \n",
       " (7, \"D\")    \n",
       " (7, \"D/3\")  \n",
       " (7, \"D/5\")  \n",
       " (7, \"D7-1\") \n",
       " (8, \"D54\")  \n",
       " (8, \"D7\")   \n",
       " (8, \"D7/3\") \n",
       " (8, \"D7/5\") \n",
       " (8, \"D7/7\") \n",
       " (8, \"S65\")  \n",
       " (8, \"S65/6\")"
      ]
     },
     "metadata": {},
     "output_type": "display_data"
    },
    {
     "data": {
      "text/plain": [
       "12-element Array{Int8,1}:\n",
       " 0\n",
       " 0\n",
       " 0\n",
       " 0\n",
       " 1\n",
       " 0\n",
       " 0\n",
       " 0\n",
       " 0\n",
       " 0\n",
       " 0\n",
       " 1"
      ]
     },
     "metadata": {},
     "output_type": "display_data"
    },
    {
     "data": {
      "text/plain": [
       "27-element Array{Any,1}:\n",
       " (1, \"T-5\")  \n",
       " (3, \"D-5\")  \n",
       " (3, \"D7-1\") \n",
       " (3, \"Tm\")   \n",
       " (3, \"Ts\")   \n",
       " (4, \"D64\")  \n",
       " (4, \"D7-5\") \n",
       " (4, \"S\")    \n",
       " (4, \"S/3\")  \n",
       " (4, \"S/5\")  \n",
       " (4, \"T\")    \n",
       " (4, \"T/3\")  \n",
       " (4, \"T/5\")  \n",
       " ⋮           \n",
       " (5, \"D/3\")  \n",
       " (5, \"D/5\")  \n",
       " (5, \"S6\")   \n",
       " (5, \"Ss\")   \n",
       " (5, \"T54\")  \n",
       " (6, \"D54\")  \n",
       " (6, \"D7\")   \n",
       " (6, \"D7/3\") \n",
       " (6, \"D7/5\") \n",
       " (6, \"D7/7\") \n",
       " (6, \"S65\")  \n",
       " (6, \"S65/6\")"
      ]
     },
     "metadata": {},
     "output_type": "display_data"
    },
    {
     "data": {
      "text/plain": [
       "12-element Array{Int8,1}:\n",
       " 1\n",
       " 1\n",
       " 0\n",
       " 0\n",
       " 0\n",
       " 0\n",
       " 0\n",
       " 0\n",
       " 0\n",
       " 0\n",
       " 0\n",
       " 0"
      ]
     },
     "metadata": {},
     "output_type": "display_data"
    },
    {
     "data": {
      "text/plain": [
       "27-element Array{Any,1}:\n",
       " (3, \"T-5\")  \n",
       " (6, \"D-5\")  \n",
       " (6, \"D54\")  \n",
       " (6, \"D7-1\") \n",
       " (6, \"Ts\")   \n",
       " (7, \"D\")    \n",
       " (7, \"D/3\")  \n",
       " (7, \"D/5\")  \n",
       " (7, \"S\")    \n",
       " (7, \"S/3\")  \n",
       " (7, \"S/5\")  \n",
       " (7, \"T64\")  \n",
       " (8, \"D64\")  \n",
       " ⋮           \n",
       " (8, \"S65/6\")\n",
       " (8, \"Ss\")   \n",
       " (8, \"T\")    \n",
       " (8, \"T/3\")  \n",
       " (8, \"T/5\")  \n",
       " (9, \"T54\")  \n",
       " (9, \"Tm\")   \n",
       " (10, \"D7-5\")\n",
       " (11, \"D7\")  \n",
       " (11, \"D7/3\")\n",
       " (11, \"D7/5\")\n",
       " (11, \"D7/7\")"
      ]
     },
     "metadata": {},
     "output_type": "display_data"
    },
    {
     "name": "stdout",
     "output_type": "stream",
     "text": [
      "\n",
      "\n",
      "\n",
      "\n",
      "\n",
      "\n",
      "\n",
      "\n",
      "\n",
      "\n",
      "\n",
      "\n",
      "\n",
      "\n",
      "\n",
      "\n",
      "\n",
      "\n",
      "\n",
      "\n",
      "\n",
      "\n",
      "\n",
      "\n",
      "Any[(0, \"T-5\"), (2, \"D7-1\"), (3, \"D54\"), (3, \"D64\"), (3, \"T\"), (3, \"T/3\"), (3, \"T/5\"), (3, \"Ts\"), (4, \"D\"), (4, \"D-5\"), (4, \"D/3\"), (4, \"D/5\"), (4, \"S\"), (4, \"S/3\"), (4, \"S/5\"), (4, \"S6\"), (4, \"S65\"), (4, \"S65/6\"), (4, \"Ss\"), (4, \"T54\"), (4, \"T64\"), (4, \"Tm\"), (5, \"D7\"), (5, \"D7-5\"), (5, \"D7/3\"), (5, \"D7/5\"), (5, \"D7/7\")]\n",
      "Any[\"T-5\", \"S6\", \"T-5\", \"S\", \"T54\", \"T-5\", \"T-5\", \"T-5\", \"D-5\", \"D-5\", \"D54\", \"D-5\", \"T-5\", \"S6\", \"S6\", \"D54\", \"D7-1\", \"T-5\", \"T-5\", \"D-5\", \"T-5\", \"D-5\", \"T-5\", \"T-5\"]\n"
     ]
    }
   ],
   "source": [
    "##### DISTANCE FUNCTIONS\n",
    "\n",
    "function hamming(input, target)\n",
    "    counter = 0\n",
    "    for i in 1:size(input, 1)\n",
    "        if input[i] != target[i]\n",
    "            counter = counter+1\n",
    "        end\n",
    "    end\n",
    "    return counter\n",
    "end\n",
    "\n",
    "## What is the distance to transform an input into a function\n",
    "    \n",
    "function distance(input, target)\n",
    "    distance = 0\n",
    "    target_padded = copy(target)\n",
    "    target_padded = append!(append!(target_padded, target), target)[1:36]\n",
    "    for i in 1:size(input, 1)\n",
    "        if input[i] > 0\n",
    "            if target[i] > 0\n",
    "                for x in 0:2\n",
    "                    target_padded[i+(12*x)] = 0\n",
    "                end\n",
    "            else\n",
    "                for j in 1:6\n",
    "                    if target_padded[12+i-j] > 0\n",
    "                        distance += j\n",
    "                        break\n",
    "                    elseif target_padded[12+i+j] > 0\n",
    "                        distance += j\n",
    "                        break\n",
    "                    end\n",
    "                end\n",
    "            end\n",
    "        end\n",
    "    end\n",
    "    \n",
    "    return distance\n",
    "end\n",
    "\n",
    "## What is the distance of finding a valid function within the input\n",
    "        \n",
    "function distance(input, target)\n",
    "    distance = 0\n",
    "    input_padded = append!(append!(input, input), input)[1:36]\n",
    "    for i in 1:size(target, 1)\n",
    "        if target[i] > 0\n",
    "            if input[i] == 0\n",
    "                for j in 1:6\n",
    "                    if input_padded[12+i-j] > 0\n",
    "                        distance += j\n",
    "                        break\n",
    "                    elseif input_padded[12+i+j] > 0\n",
    "                        distance += j\n",
    "                        break\n",
    "                    end\n",
    "                end\n",
    "            end\n",
    "        end\n",
    "    end\n",
    "                \n",
    "    return distance\n",
    "end\n",
    "        \n",
    "\n",
    "                \n",
    "\n",
    "\n",
    "####\n",
    "\n",
    "chords = keys(functions)\n",
    "function_potential = []\n",
    "\n",
    "for i in 1:size(tonal_map, 1)         \n",
    "    function_pool = []\n",
    "    for chord in chords\n",
    "        chord_distance = distance(tonal_map[i,:], functions[chord][1])\n",
    "        push!(function_pool, (chord_distance, chord))\n",
    "    end\n",
    "    push!(function_potential, sort(function_pool))\n",
    "end\n",
    "\n",
    "println(function_potential[1])\n",
    "\n",
    "## Naive function label\n",
    "                    \n",
    "chosen_chords = []                    \n",
    "                  \n",
    "    \n",
    "for timestep in 1:size(function_potential, 1)\n",
    "    append!(chosen_chords, [function_potential[timestep][1][2]])\n",
    "end\n",
    "                    \n",
    "println(chosen_chords)\n"
   ]
  },
  {
   "cell_type": "markdown",
   "metadata": {},
   "source": [
    "# # Construct the search space for note distribution to voices"
   ]
  },
  {
   "cell_type": "code",
   "execution_count": 100,
   "metadata": {},
   "outputs": [
    {
     "data": {
      "text/plain": [
       "getVoicingPermutations (generic function with 1 method)"
      ]
     },
     "execution_count": 100,
     "metadata": {},
     "output_type": "execute_result"
    }
   ],
   "source": [
    "# Finds and returns all possible distributions of the valid note classes for a given function\n",
    "\n",
    "function getVoicingPermutations(func)\n",
    "    voicing_permutations = []\n",
    "    voicings_initial = []\n",
    "    \n",
    "    function_map = functions[func][1]\n",
    "    double_note = functions[func][3]\n",
    "    bass_note = functions[func][2][1]\n",
    "    flag = nothing\n",
    "    active_notes = sort!([(i, x) for (i, x) in enumerate(function_map) if x > 0], by = x -> x[2])   # [position, value]\n",
    "    \n",
    "    filter!(e->e != bass_note, active_notes)\n",
    "        \n",
    "    if size(active_notes, 1) == 3\n",
    "        flag = 0       # Double note\n",
    "    elseif size(active_notes, 1) < 3\n",
    "        flag = 1       # Triple note\n",
    "    elseif size(active_notes, 1) > 3\n",
    "        flag = 2       # Four unique notes\n",
    "    end\n",
    "    voicing_sans_bass = copy(active_notes)\n",
    "            \n",
    "    if size(active_notes, 1) == 1\n",
    "        push!(voicing_sans_bass, bass_note)\n",
    "        push!(voicing_sans_bass, bass_note)\n",
    "        push!(voicings_initial, voicing_sans_bass)\n",
    "    elseif size(active_notes, 1) == 2\n",
    "        for i in 1:size(double_note, 1)\n",
    "            voicing_sans_bass = copy(active_notes)\n",
    "            push!(voicing_sans_bass, double_note[i])\n",
    "            push!(voicings_initial, voicing_sans_bass)\n",
    "        end\n",
    "    elseif size(active_notes, 1) == 3\n",
    "        push!(voicings_initial, voicing_sans_bass)\n",
    "    end\n",
    "                    \n",
    "    for entry in voicings_initial\n",
    "        voicings = collect(permutations(entry))\n",
    "        for j in voicings\n",
    "            push!(voicing_permutations, j)\n",
    "        end\n",
    "    end\n",
    "    \n",
    "    voicing_permutations = unique(voicing_permutations)   \n",
    "    for p in voicing_permutations\n",
    "        pushfirst!(p, bass_note)\n",
    "    end\n",
    "    \n",
    "    return voicing_permutations\n",
    "end\n",
    "                "
   ]
  },
  {
   "cell_type": "code",
   "execution_count": 98,
   "metadata": {},
   "outputs": [
    {
     "name": "stdout",
     "output_type": "stream",
     "text": [
      "Any[(43, 1), (55, 1), (59, 3), (67, 1)]\n",
      "Any[(55, 1), (55, 1), (59, 3), (67, 1)]\n",
      "Any[(55, 1), (67, 1), (71, 3), (79, 1)]\n",
      "Any[Any[(43, 1), (55, 1), (59, 3), (67, 1)], Any[(55, 1), (55, 1), (59, 3), (67, 1)], Any[(55, 1), (67, 1), (71, 3), (79, 1)]]\n"
     ]
    }
   ],
   "source": [
    "# Generates the candidate solutions of note distribution for a given function\n",
    "                \n",
    "function generateCandidates(func)\n",
    "    voicing_permutations = getVoicingPermutations(func)\n",
    "    valid_voicings = []\n",
    "    note_repository = []   # [[all C's], [all C#'s], [all D's], ..., [all B's]]\n",
    "    for note_class in 1:12\n",
    "        push!(note_repository, [x for x in 40:80 if x%12 == (note_class-1)])\n",
    "    end\n",
    "    #println(note_repository)\n",
    "    \n",
    "    \n",
    "    for permutation in voicing_permutations\n",
    "        #println(permutation)\n",
    "        voicing = []\n",
    "        for b in note_repository[permutation[1][1]]\n",
    "            if b in 40:60\n",
    "                for t in note_repository[permutation[2][1]]\n",
    "                    if t in 47:68 && t >= b && t-b <= 20\n",
    "                        for a in note_repository[permutation[3][1]]\n",
    "                            if a in 52:71 && a >= t && a-t <= 12                                 \n",
    "                                for s in note_repository[permutation[4][1]]\n",
    "                                    if s in 59:80 && s >= a && s-a <= 12  \n",
    "                                        voicing = []\n",
    "                                        push!(voicing, (b, permutation[1][2]), (t, permutation[2][2]), (a, permutation[3][2]), (s, permutation[4][2])) \n",
    "                                        push!(valid_voicings, voicing)\n",
    "                                    end                                \n",
    "                                end           \n",
    "                            end    \n",
    "                        end\n",
    "                        \n",
    "                    end\n",
    "                end       \n",
    "            end\n",
    "        end\n",
    "    end\n",
    "    \n",
    "    ## Enforce Special rules\n",
    "    \n",
    "    if (func == \"T-5\") || (func == \"D-5\")\n",
    "        placeholder = []\n",
    "        for voicing in valid_voicings\n",
    "            if (voicing[4][2] == 1) && (voicing[4][1] - voicing[3][1] == 8)\n",
    "                println(voicing)\n",
    "                push!(placeholder, voicing)\n",
    "            end\n",
    "        end\n",
    "        valid_voicings = placeholder\n",
    "    end\n",
    "    \n",
    "    return(valid_voicings)\n",
    "end\n",
    "\n",
    "for keys in keys(functions)\n",
    "    #push!(functions[keys], unique(generateCandidates(keys)))\n",
    "end"
   ]
  },
  {
   "cell_type": "markdown",
   "metadata": {},
   "source": [
    "# # Branch and Bound"
   ]
  },
  {
   "cell_type": "code",
   "execution_count": 75,
   "metadata": {},
   "outputs": [
    {
     "ename": "UndefVarError",
     "evalue": "UndefVarError: function_map not defined",
     "output_type": "error",
     "traceback": [
      "UndefVarError: function_map not defined",
      "",
      "Stacktrace:",
      " [1] top-level scope at In[75]:1"
     ]
    }
   ],
   "source": [
    "println(function_map)"
   ]
  },
  {
   "cell_type": "code",
   "execution_count": 26,
   "metadata": {},
   "outputs": [
    {
     "data": {
      "text/plain": [
       "129×359 Array{Int8,2}:\n",
       " 0  0  0  0  0  0  0  0  0  0  0  0  0  …  0  0  0  0  0  0  0  0  0  0  0  0\n",
       " 0  0  0  0  0  0  0  0  0  0  0  0  0     0  0  0  0  0  0  0  0  0  0  0  0\n",
       " 0  0  0  0  0  0  0  0  0  0  0  0  0     0  0  0  0  0  0  0  0  0  0  0  0\n",
       " 0  0  0  0  0  0  0  0  0  0  0  0  0     0  0  0  0  0  0  0  0  0  0  0  0\n",
       " 0  0  0  0  0  0  0  0  0  0  0  0  0     0  0  0  0  0  0  0  0  0  0  0  0\n",
       " 0  0  0  0  0  0  0  0  0  0  0  0  0  …  0  0  0  0  0  0  0  0  0  0  0  0\n",
       " 0  0  0  0  0  0  0  0  0  0  0  0  0     0  0  0  0  0  0  0  0  0  0  0  0\n",
       " 0  0  0  0  0  0  0  0  0  0  0  0  0     0  0  0  0  0  0  0  0  0  0  0  0\n",
       " 0  0  0  0  0  0  0  0  0  0  0  0  0     0  0  0  0  0  0  0  0  0  0  0  0\n",
       " 0  0  0  0  0  0  0  0  0  0  0  0  0     0  0  0  0  0  0  0  0  0  0  0  0\n",
       " 0  0  0  0  0  0  0  0  0  0  0  0  0  …  0  0  0  0  0  0  0  0  0  0  0  0\n",
       " 0  0  0  0  0  0  0  0  0  0  0  0  0     0  0  0  0  0  0  0  0  0  0  0  0\n",
       " 0  0  0  0  0  0  0  0  0  0  0  0  0     0  0  0  0  0  0  0  0  0  0  0  0\n",
       " ⋮              ⋮              ⋮        ⋱           ⋮              ⋮         \n",
       " 0  0  0  0  0  0  0  0  0  0  0  0  0     0  0  0  0  0  0  0  0  0  0  0  0\n",
       " 0  0  0  0  0  0  0  0  0  0  0  0  0     0  0  0  0  0  0  0  0  0  0  0  0\n",
       " 0  0  0  0  0  0  0  0  0  0  0  0  0     0  0  0  0  0  0  0  0  0  0  0  0\n",
       " 0  0  0  0  0  0  0  0  0  0  0  0  0  …  0  0  0  0  0  0  0  0  0  0  0  0\n",
       " 0  0  0  0  0  0  0  0  0  0  0  0  0     0  0  0  0  0  0  0  0  0  0  0  0\n",
       " 0  0  0  0  0  0  0  0  0  0  0  0  0     0  0  0  0  0  0  0  0  0  0  0  0\n",
       " 0  0  0  0  0  0  0  0  0  0  0  0  0     0  0  0  0  0  0  0  0  0  0  0  0\n",
       " 0  0  0  0  0  0  0  0  0  0  0  0  0     0  0  0  0  0  0  0  0  0  0  0  0\n",
       " 0  0  0  0  0  0  0  0  0  0  0  0  0  …  0  0  0  0  0  0  0  0  0  0  0  0\n",
       " 0  0  0  0  0  0  0  0  0  0  0  0  0     0  0  0  0  0  0  0  0  0  0  0  0\n",
       " 0  0  0  0  0  0  0  0  0  0  0  0  0     0  0  0  0  0  0  0  0  0  0  0  0\n",
       " 0  0  0  0  0  0  0  0  0  0  0  0  0     0  0  0  0  0  0  0  0  0  0  0  0"
      ]
     },
     "metadata": {},
     "output_type": "display_data"
    },
    {
     "name": "stdout",
     "output_type": "stream",
     "text": [
      "359\n"
     ]
    }
   ],
   "source": [
    "## Convert back to piano roll\n",
    "\n",
    "function makePianoRoll(notes)\n",
    "    println(size(notes, 1))\n",
    "    pianoroll = zeros(Int8, 128, size(notes,1))\n",
    "    counter = 1\n",
    "    for set in notes[:]\n",
    "        for voice in set\n",
    "            #println(voice)\n",
    "            pianoroll[voice[1], counter] = 1\n",
    "        end\n",
    "        counter = counter + 1\n",
    "        #println(pianoroll[:,1])\n",
    "    end\n",
    "    #println(findall(x->x==1, pianoroll))\n",
    "    empty = zeros(Int8, 1, size(notes, 1))\n",
    "    new = vcat(pianoroll, empty)\n",
    "    display(new)\n",
    "    writedlm(\"output\\\\test.csv\",  new, ',')\n",
    "end\n",
    "\n",
    "makePianoRoll(notes)"
   ]
  },
  {
   "cell_type": "markdown",
   "metadata": {},
   "source": [
    "# # Construct a naive solution"
   ]
  },
  {
   "cell_type": "markdown",
   "metadata": {},
   "source": [
    "# # NODAL"
   ]
  },
  {
   "cell_type": "code",
   "execution_count": 145,
   "metadata": {},
   "outputs": [
    {
     "ename": "UndefVarError",
     "evalue": "UndefVarError: default_neighbor! not defined",
     "output_type": "error",
     "traceback": [
      "UndefVarError: default_neighbor! not defined",
      "",
      "Stacktrace:",
      " [1] top-level scope at In[145]:2"
     ]
    }
   ],
   "source": [
    "import Optim\n",
    "SimulatedAnnealing(; neighbor = default_neighbor!,\n",
    "                    T = default_temperature,\n",
    "                    p = kirkpatrick)"
   ]
  },
  {
   "cell_type": "code",
   "execution_count": null,
   "metadata": {},
   "outputs": [],
   "source": []
  }
 ],
 "metadata": {
  "kernelspec": {
   "display_name": "Julia 1.1.0",
   "language": "julia",
   "name": "julia-1.1"
  },
  "language_info": {
   "file_extension": ".jl",
   "mimetype": "application/julia",
   "name": "julia",
   "version": "1.1.0"
  }
 },
 "nbformat": 4,
 "nbformat_minor": 2
}
