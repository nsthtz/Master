{
 "cells": [
  {
   "cell_type": "code",
   "execution_count": 1,
   "metadata": {},
   "outputs": [
    {
     "name": "stdout",
     "output_type": "stream",
     "text": [
      "\u001b[32m\u001b[1m  Updating\u001b[22m\u001b[39m registry at `C:\\Users\\nsthtz\\.julia\\registries\\General`\n",
      "\u001b[32m\u001b[1m  Updating\u001b[22m\u001b[39m git-repo `https://github.com/JuliaRegistries/General.git`\n",
      "\u001b[2K\u001b[?25h[1mFetching:\u001b[22m\u001b[39m [========================================>]  100.0 %.0 %                  ]  53.8 %         ]  77.1 %\u001b[32m\u001b[1m Resolving\u001b[22m\u001b[39m package versions...\n"
     ]
    }
   ],
   "source": [
    "import Pkg\n",
    "Pkg.activate(@__DIR__)\n",
    "Pkg.instantiate()"
   ]
  },
  {
   "cell_type": "code",
   "execution_count": 111,
   "metadata": {},
   "outputs": [
    {
     "data": {
      "text/plain": [
       "128×24 Array{Int64,2}:\n",
       " 0  0  0  0  0  0  0  0  0  0  0  0  0  0  0  0  0  0  0  0  0  0  0  0\n",
       " 0  0  0  0  0  0  0  0  0  0  0  0  0  0  0  0  0  0  0  0  0  0  0  0\n",
       " 0  0  0  0  0  0  0  0  0  0  0  0  0  0  0  0  0  0  0  0  0  0  0  0\n",
       " 0  0  0  0  0  0  0  0  0  0  0  0  0  0  0  0  0  0  0  0  0  0  0  0\n",
       " 0  0  0  0  0  0  0  0  0  0  0  0  0  0  0  0  0  0  0  0  0  0  0  0\n",
       " 0  0  0  0  0  0  0  0  0  0  0  0  0  0  0  0  0  0  0  0  0  0  0  0\n",
       " 0  0  0  0  0  0  0  0  0  0  0  0  0  0  0  0  0  0  0  0  0  0  0  0\n",
       " 0  0  0  0  0  0  0  0  0  0  0  0  0  0  0  0  0  0  0  0  0  0  0  0\n",
       " 0  0  0  0  0  0  0  0  0  0  0  0  0  0  0  0  0  0  0  0  0  0  0  0\n",
       " 0  0  0  0  0  0  0  0  0  0  0  0  0  0  0  0  0  0  0  0  0  0  0  0\n",
       " 0  0  0  0  0  0  0  0  0  0  0  0  0  0  0  0  0  0  0  0  0  0  0  0\n",
       " 0  0  0  0  0  0  0  0  0  0  0  0  0  0  0  0  0  0  0  0  0  0  0  0\n",
       " 0  0  0  0  0  0  0  0  0  0  0  0  0  0  0  0  0  0  0  0  0  0  0  0\n",
       " ⋮              ⋮              ⋮              ⋮              ⋮         \n",
       " 0  0  0  0  0  0  0  0  0  0  0  0  0  0  0  0  0  0  0  0  0  0  0  0\n",
       " 0  0  0  0  0  0  0  0  0  0  0  0  0  0  0  0  0  0  0  0  0  0  0  0\n",
       " 0  0  0  0  0  0  0  0  0  0  0  0  0  0  0  0  0  0  0  0  0  0  0  0\n",
       " 0  0  0  0  0  0  0  0  0  0  0  0  0  0  0  0  0  0  0  0  0  0  0  0\n",
       " 0  0  0  0  0  0  0  0  0  0  0  0  0  0  0  0  0  0  0  0  0  0  0  0\n",
       " 0  0  0  0  0  0  0  0  0  0  0  0  0  0  0  0  0  0  0  0  0  0  0  0\n",
       " 0  0  0  0  0  0  0  0  0  0  0  0  0  0  0  0  0  0  0  0  0  0  0  0\n",
       " 0  0  0  0  0  0  0  0  0  0  0  0  0  0  0  0  0  0  0  0  0  0  0  0\n",
       " 0  0  0  0  0  0  0  0  0  0  0  0  0  0  0  0  0  0  0  0  0  0  0  0\n",
       " 0  0  0  0  0  0  0  0  0  0  0  0  0  0  0  0  0  0  0  0  0  0  0  0\n",
       " 0  0  0  0  0  0  0  0  0  0  0  0  0  0  0  0  0  0  0  0  0  0  0  0\n",
       " 0  0  0  0  0  0  0  0  0  0  0  0  0  0  0  0  0  0  0  0  0  0  0  0"
      ]
     },
     "execution_count": 111,
     "metadata": {},
     "output_type": "execute_result"
    }
   ],
   "source": [
    "using DelimitedFiles\n",
    "data = readdlm(joinpath(\"dummyMajor.csv\"),';')\n",
    "#data = readdlm(joinpath(\"dummyMinor.csv\"),';')\n",
    "data = round.(Int, data)"
   ]
  },
  {
   "cell_type": "markdown",
   "metadata": {},
   "source": [
    "# # Convert piano roll into Tx12 matrix for chord enforcement\n"
   ]
  },
  {
   "cell_type": "code",
   "execution_count": 112,
   "metadata": {
    "scrolled": true
   },
   "outputs": [
    {
     "data": {
      "text/plain": [
       "24×12 Array{Int8,2}:\n",
       " 0  0  0  0  0  0  0  0  0  0  1  0\n",
       " 1  0  0  0  0  0  0  0  0  0  0  0\n",
       " 0  0  1  0  0  0  0  0  0  0  0  0\n",
       " 0  0  0  1  0  0  0  0  0  0  0  0\n",
       " 0  0  0  0  0  1  0  0  0  0  0  0\n",
       " 0  0  0  0  0  0  0  1  0  0  0  0\n",
       " 0  0  0  0  0  0  0  0  0  1  0  0\n",
       " 0  0  0  0  0  0  0  0  0  0  1  0\n",
       " 0  0  0  0  0  0  0  0  0  0  1  0\n",
       " 0  0  0  0  0  0  0  0  0  1  0  0\n",
       " 0  0  0  0  0  0  0  1  0  0  0  0\n",
       " 0  0  0  0  0  1  0  0  0  0  0  0\n",
       " 0  0  0  1  0  0  0  0  0  0  0  0\n",
       " 0  0  1  0  0  0  0  0  0  0  0  0\n",
       " 1  0  0  0  0  0  0  0  0  0  0  0\n",
       " 0  0  0  0  0  0  0  0  0  0  1  0\n",
       " 0  0  0  1  0  0  0  0  0  0  0  0\n",
       " 0  0  0  0  0  0  0  0  0  0  1  0\n",
       " 0  0  0  1  0  0  0  0  0  0  0  0\n",
       " 0  0  0  0  0  1  0  0  0  0  0  0\n",
       " 0  0  0  1  0  0  0  0  0  0  0  0\n",
       " 0  0  0  0  0  0  0  1  0  0  0  0\n",
       " 0  0  0  0  0  0  0  0  0  1  0  0\n",
       " 0  0  0  0  0  0  0  0  0  0  1  0"
      ]
     },
     "execution_count": 112,
     "metadata": {},
     "output_type": "execute_result"
    }
   ],
   "source": [
    "#\n",
    "\n",
    "timestep_chords = zeros(Int8, size(data, 2), 12)\n",
    "i=1\n",
    "data[:, 1]\n",
    "\n",
    "for i in 1:size(data, 2)\n",
    "    active_notes = findall(x->x==1, data[:,i])\n",
    "    #println(active_notes)\n",
    "    for note in active_notes\n",
    "        timestep_chords[i, note%12+1] = 1\n",
    "    end\n",
    "    #println(timestep_chords[i,:])\n",
    "end\n",
    "\n",
    "timestep_chords"
   ]
  },
  {
   "cell_type": "markdown",
   "metadata": {},
   "source": [
    "# # Pattern matcher to identify potential Major or Minor roots"
   ]
  },
  {
   "cell_type": "code",
   "execution_count": 126,
   "metadata": {},
   "outputs": [
    {
     "data": {
      "text/plain": [
       "score (generic function with 1 method)"
      ]
     },
     "execution_count": 126,
     "metadata": {},
     "output_type": "execute_result"
    }
   ],
   "source": [
    "#Default: C Major\n",
    "\n",
    "pattern = [1, 0, 1, 0, 1, 1, 0, 1, 0, 1, 0, 1]\n",
    "majorpattern = [1, 0, 0, 0, 0, 1, 0, 1, 0, 0, 0, 0]\n",
    "minorpattern = [0, 0, 1, 0, 1, 0, 0, 0, 1, 0, 0, 0]\n",
    "\n",
    "Keys = Dict{Integer, String}(1 => \"C\", 2 => \"C#\", 3 => \"D\", 4 => \"D#\", 5 => \"E\", 6 => \"F\", 7 => \"F#\", 8 => \"G\", 9 => \"G#\", 10 => \"A\", 11 => \"A#\", 12 => \"B\")\n",
    "\n",
    "\n",
    "#Score In: Tx12 Matrix, pattern. Out: Best position(s)\n",
    "function score(matrix, pattern)\n",
    "    counter = zeros(Int8, 1, 12)\n",
    "    for i in 1:size(matrix, 2)\n",
    "        counter[i] = sum(matrix[:,i])\n",
    "    end\n",
    "    println(\"Counter is \", counter)\n",
    "    \n",
    "    score = zeros(Int8, 12, 1)\n",
    "    \n",
    "    for i in 1:size(pattern, 1)\n",
    "        for j in 1:size(pattern, 1)\n",
    "            score[i] += circshift(pattern, i-1)[j]*counter[j]\n",
    "        end\n",
    "    end\n",
    "    println(\"Score is \", score)\n",
    "    return score\n",
    "end"
   ]
  },
  {
   "cell_type": "code",
   "execution_count": 123,
   "metadata": {},
   "outputs": [
    {
     "data": {
      "text/plain": [
       "findmaximum (generic function with 1 method)"
      ]
     },
     "execution_count": 123,
     "metadata": {},
     "output_type": "execute_result"
    }
   ],
   "source": [
    "# Find maximum score function\n",
    "function findmaximum(score_result)\n",
    "    positions = []\n",
    "    max_value = maximum(score_result)\n",
    "    for (i, x) in enumerate(score_result)\n",
    "        if x == max_value\n",
    "            push!(positions, i)\n",
    "        end\n",
    "    end\n",
    "    #positions = [i for (i, x) in enumerate(score_result) if x == max_value]\n",
    "    return positions\n",
    "end"
   ]
  },
  {
   "cell_type": "code",
   "execution_count": 136,
   "metadata": {},
   "outputs": [
    {
     "name": "stdout",
     "output_type": "stream",
     "text": [
      "Counter is Int8[2 0 2 5 0 3 0 3 0 3 6 0]\n",
      "Score is Int8[13; 16; 8; 21; 8; 19; 14; 10; 19; 5; 24; 11]\n",
      "Int8[1, 0, 0, 0, 0, 0, 0, 0, 0, 0, 0, 0]\n",
      "Int8[0, 0, 1, 0, 0, 0, 0, 0, 0, 0, 0, 0]\n",
      "Int8[0, 0, 0, 0, 1, 0, 0, 0, 0, 0, 0, 0]\n",
      "Int8[0, 0, 0, 0, 0, 1, 0, 0, 0, 0, 0, 0]\n",
      "Int8[0, 0, 0, 0, 0, 0, 0, 1, 0, 0, 0, 0]\n",
      "Int8[0, 0, 0, 0, 0, 0, 0, 0, 0, 1, 0, 0]\n",
      "Int8[0, 0, 0, 0, 0, 0, 0, 0, 0, 0, 0, 1]\n",
      "Int8[1, 0, 0, 0, 0, 0, 0, 0, 0, 0, 0, 0]\n",
      "Int8[1, 0, 0, 0, 0, 0, 0, 0, 0, 0, 0, 0]\n",
      "Int8[0, 0, 0, 0, 0, 0, 0, 0, 0, 0, 0, 1]\n",
      "Int8[0, 0, 0, 0, 0, 0, 0, 0, 0, 1, 0, 0]\n",
      "Int8[0, 0, 0, 0, 0, 0, 0, 1, 0, 0, 0, 0]\n",
      "Int8[0, 0, 0, 0, 0, 1, 0, 0, 0, 0, 0, 0]\n",
      "Int8[0, 0, 0, 0, 1, 0, 0, 0, 0, 0, 0, 0]\n",
      "Int8[0, 0, 1, 0, 0, 0, 0, 0, 0, 0, 0, 0]\n",
      "Int8[1, 0, 0, 0, 0, 0, 0, 0, 0, 0, 0, 0]\n",
      "Int8[0, 0, 0, 0, 0, 1, 0, 0, 0, 0, 0, 0]\n",
      "Int8[1, 0, 0, 0, 0, 0, 0, 0, 0, 0, 0, 0]\n",
      "Int8[0, 0, 0, 0, 0, 1, 0, 0, 0, 0, 0, 0]\n",
      "Int8[0, 0, 0, 0, 0, 0, 0, 1, 0, 0, 0, 0]\n",
      "Int8[0, 0, 0, 0, 0, 1, 0, 0, 0, 0, 0, 0]\n",
      "Int8[0, 0, 0, 0, 0, 0, 0, 0, 0, 1, 0, 0]\n",
      "Int8[0, 0, 0, 0, 0, 0, 0, 0, 0, 0, 0, 1]\n",
      "Int8[1, 0, 0, 0, 0, 0, 0, 0, 0, 0, 0, 0]\n"
     ]
    }
   ],
   "source": [
    "# Score matrix after pattern\n",
    "score_result = score(timestep_chords, pattern)\n",
    "# score_result = [9, 5, 18, 9, 23, 18, 8, 2, 7, 16, 12, 11]\n",
    "\n",
    "# Find positions of maximum score\n",
    "positions = findmaximum(score_result)\n",
    "\n",
    "#TODO: Use positions to find the best key\n",
    "\n",
    "if size(positions, 1) > 1\n",
    "    \n",
    "else\n",
    "    tonality_score = []   #[Major, Minor] after count of roots, fourths and fifths\n",
    "    push!(tonality_score, score_result)\n",
    "end\n",
    "    \n",
    "#Save Key\n",
    "best_key = maximum(tonality_score)\n",
    "key = Keys[best_key]\n",
    "    \n",
    "# Shift matrix to key with best score\n",
    "timestep_chords_shifted = timestep_chords\n",
    "\n",
    "timestep_chords_shifted = circshift(timestep_chords, (0,-(best_key-1)))\n",
    "\n",
    "for i in 1:size(timestep_chords_shifted, 1)\n",
    "    println(timestep_chords_shifted[i,:])\n",
    "end\n",
    "\n",
    "\n"
   ]
  },
  {
   "cell_type": "code",
   "execution_count": null,
   "metadata": {},
   "outputs": [],
   "source": []
  },
  {
   "cell_type": "code",
   "execution_count": 124,
   "metadata": {},
   "outputs": [
    {
     "name": "stdout",
     "output_type": "stream",
     "text": [
      "Int8[1, 0, 0, 0, 0, 0, 0, 0, 0, 0, 0, 0]\n",
      "Int8[0, 0, 1, 0, 0, 0, 0, 0, 0, 0, 0, 0]\n",
      "Int8[0, 0, 0, 0, 1, 0, 0, 0, 0, 0, 0, 0]\n",
      "Int8[0, 0, 0, 0, 0, 1, 0, 0, 0, 0, 0, 0]\n",
      "Int8[0, 0, 0, 0, 0, 0, 0, 1, 0, 0, 0, 0]\n",
      "Int8[0, 0, 0, 0, 0, 0, 0, 0, 0, 1, 0, 0]\n",
      "Int8[0, 0, 0, 0, 0, 0, 0, 0, 0, 0, 0, 1]\n",
      "Int8[1, 0, 0, 0, 0, 0, 0, 0, 0, 0, 0, 0]\n",
      "Int8[1, 0, 0, 0, 0, 0, 0, 0, 0, 0, 0, 0]\n",
      "Int8[0, 0, 0, 0, 0, 0, 0, 0, 0, 0, 0, 1]\n",
      "Int8[0, 0, 0, 0, 0, 0, 0, 0, 0, 1, 0, 0]\n",
      "Int8[0, 0, 0, 0, 0, 0, 0, 1, 0, 0, 0, 0]\n",
      "Int8[0, 0, 0, 0, 0, 1, 0, 0, 0, 0, 0, 0]\n",
      "Int8[0, 0, 0, 0, 1, 0, 0, 0, 0, 0, 0, 0]\n",
      "Int8[0, 0, 1, 0, 0, 0, 0, 0, 0, 0, 0, 0]\n",
      "Int8[1, 0, 0, 0, 0, 0, 0, 0, 0, 0, 0, 0]\n",
      "Int8[0, 0, 0, 0, 0, 1, 0, 0, 0, 0, 0, 0]\n",
      "Int8[1, 0, 0, 0, 0, 0, 0, 0, 0, 0, 0, 0]\n",
      "Int8[0, 0, 0, 0, 0, 1, 0, 0, 0, 0, 0, 0]\n",
      "Int8[0, 0, 0, 0, 0, 0, 0, 1, 0, 0, 0, 0]\n",
      "Int8[0, 0, 0, 0, 0, 1, 0, 0, 0, 0, 0, 0]\n",
      "Int8[0, 0, 0, 0, 0, 0, 0, 0, 0, 1, 0, 0]\n",
      "Int8[0, 0, 0, 0, 0, 0, 0, 0, 0, 0, 0, 1]\n",
      "Int8[1, 0, 0, 0, 0, 0, 0, 0, 0, 0, 0, 0]\n"
     ]
    }
   ],
   "source": []
  },
  {
   "cell_type": "markdown",
   "metadata": {},
   "source": [
    "# # Integer Program for Fifth enforcement"
   ]
  },
  {
   "cell_type": "code",
   "execution_count": 80,
   "metadata": {},
   "outputs": [
    {
     "name": "stderr",
     "output_type": "stream",
     "text": [
      "┌ Info: Recompiling stale cache file C:\\Users\\nsthtz\\.julia\\compiled\\v1.1\\JuMP\\DmXqY.ji for JuMP [4076af6c-e467-56ae-b986-b466b2749572]\n",
      "└ @ Base loading.jl:1184\n",
      "┌ Info: Precompiling Ipopt [b6b21f68-93f8-5de0-b562-5493be1d77c9]\n",
      "└ @ Base loading.jl:1186\n"
     ]
    }
   ],
   "source": [
    "using JuMP, Ipopt\n",
    "#model = Model(with_optimizer(GLPK.Optimizer))\n",
    "#@variable()\n",
    "#@constraint()\n",
    "#@objective(model,,)"
   ]
  },
  {
   "cell_type": "code",
   "execution_count": null,
   "metadata": {},
   "outputs": [],
   "source": []
  }
 ],
 "metadata": {
  "kernelspec": {
   "display_name": "Julia 1.1.0",
   "language": "julia",
   "name": "julia-1.1"
  },
  "language_info": {
   "file_extension": ".jl",
   "mimetype": "application/julia",
   "name": "julia",
   "version": "1.1.0"
  }
 },
 "nbformat": 4,
 "nbformat_minor": 2
}
