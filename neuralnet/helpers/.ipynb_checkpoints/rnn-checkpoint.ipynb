{
 "cells": [
  {
   "cell_type": "code",
   "execution_count": 2,
   "metadata": {},
   "outputs": [],
   "source": [
    "import torch\n",
    "import torch.nn as nn\n",
    "import torch.nn.functional as F\n",
    "import torch.optim as optim\n",
    "import torch.autograd as autograd\n",
    "import dataset as dataset\n",
    "import datapreparation as datp\n",
    "import numpy as np\n"
   ]
  },
  {
   "cell_type": "code",
   "execution_count": 4,
   "metadata": {},
   "outputs": [
    {
     "name": "stdout",
     "output_type": "stream",
     "text": [
      "tensor([[0., 0., 0., 0., 0., 0., 0., 0., 0., 0., 0., 0., 0., 0., 0., 0., 0., 0.,\n",
      "         0., 0., 0., 0., 0., 0., 0., 0., 0., 0., 0., 0., 0., 0., 0., 0., 0., 0.,\n",
      "         0., 0., 0., 0., 0., 0., 0., 0., 0., 0., 0., 0., 0., 0., 0., 0., 0., 0.,\n",
      "         0., 0., 0., 0., 0., 0., 1., 0., 0., 0., 0., 0., 0., 0., 0., 0., 0., 0.,\n",
      "         0., 0., 0., 0., 0., 0., 0., 0., 0., 0., 0., 0., 0., 0., 0., 0., 0., 0.,\n",
      "         0., 0., 0., 0., 0., 0., 0., 0., 0., 0., 0., 0., 0., 0., 0., 0., 0., 0.,\n",
      "         0., 0., 0., 0., 0., 0., 0., 0., 0., 0., 0., 0., 0., 0., 0., 0., 0., 0.,\n",
      "         0., 0.]])\n",
      "tensor([ 0.0019,  0.0098,  0.0144,  0.0185,  0.0039, -0.0226, -0.0169,  0.0191,\n",
      "         0.0112,  0.0346, -0.0461,  0.0166, -0.0026,  0.0064,  0.0306, -0.0007,\n",
      "         0.0138, -0.0313,  0.0337, -0.0333,  0.0010, -0.0189, -0.0200, -0.0032,\n",
      "        -0.0057, -0.0273, -0.0040,  0.0018, -0.0443,  0.0294, -0.0454,  0.0023,\n",
      "         0.0108,  0.0019, -0.0146,  0.0053, -0.0118, -0.0235, -0.0101,  0.0167,\n",
      "         0.0351,  0.0302, -0.0058, -0.0211, -0.0053,  0.0216,  0.0273, -0.0457,\n",
      "        -0.0186,  0.0160, -0.0229, -0.0374,  0.0109,  0.0204,  0.0165, -0.0427,\n",
      "         0.0204, -0.0205,  0.0026, -0.0283,  0.0417,  0.0158, -0.0022,  0.0124,\n",
      "         0.0124, -0.0257, -0.0277, -0.0393, -0.0133,  0.0097, -0.0238, -0.0327,\n",
      "         0.0177, -0.0155, -0.0182,  0.0256, -0.0078,  0.0076, -0.0306, -0.0352,\n",
      "        -0.0284, -0.0396,  0.0166,  0.0040,  0.0205,  0.0245,  0.0008,  0.0418,\n",
      "        -0.0036,  0.0092, -0.0029,  0.0063, -0.0209,  0.0329, -0.0045,  0.0104,\n",
      "         0.0203, -0.0188, -0.0226,  0.0076, -0.0121, -0.0149,  0.0447,  0.0080,\n",
      "        -0.0413,  0.0146,  0.0249,  0.0035,  0.0133, -0.0310,  0.0080,  0.0100,\n",
      "        -0.0053, -0.0026, -0.0184,  0.0176, -0.0133, -0.0236,  0.0306, -0.0095,\n",
      "         0.0163, -0.0194,  0.0112,  0.0430,  0.0175,  0.0370, -0.0050,  0.0079],\n",
      "       grad_fn=<SelectBackward>)\n"
     ]
    }
   ],
   "source": [
    "data = dataset.pianoroll_dataset_batch(\"C:\\DeepLearning\\\\neural-composer-assignement\\datasets\\\\training\\\\piano_roll_fs5\")\n",
    "##data.view_pianoroll(1)\n",
    "## data = datp.load_all_dataset(\"C:\\DeepLearning\\\\neural-composer-assignement\\datasets\\\\training\\\\piano_roll_fs5\")\n",
    "## datp.visualize_piano_roll(data[0],fs=5)\n",
    "\n",
    "torch.manual_seed(1) ## for reproducability\n",
    "\n",
    "\n",
    "lstm = nn.LSTM(data.num_keys(), data.num_keys())\n",
    "\n",
    "hidden = (torch.zeros(1, 1, 128), torch.zeros(1, 1, 128))\n",
    "\n",
    "## data[sangnummer][tensornummer][timestep]\n",
    "\n",
    "inputs = data[0][0][1:]\n",
    "\n",
    "out, hidden = lstm(inputs, hidden)\n",
    "\n",
    "\n",
    "\n",
    "print(inputs[0])\n",
    "print(out[0][0])"
   ]
  },
  {
   "cell_type": "code",
   "execution_count": null,
   "metadata": {},
   "outputs": [],
   "source": []
  }
 ],
 "metadata": {
  "kernelspec": {
   "display_name": "Python 3",
   "language": "python",
   "name": "python3"
  },
  "language_info": {
   "codemirror_mode": {
    "name": "ipython",
    "version": 3
   },
   "file_extension": ".py",
   "mimetype": "text/x-python",
   "name": "python",
   "nbconvert_exporter": "python",
   "pygments_lexer": "ipython3",
   "version": "3.7.0"
  }
 },
 "nbformat": 4,
 "nbformat_minor": 1
}
